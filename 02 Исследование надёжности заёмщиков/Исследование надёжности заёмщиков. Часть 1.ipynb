{
 "cells": [
  {
   "cell_type": "markdown",
   "id": "b94bced9",
   "metadata": {
    "deletable": false,
    "editable": false,
    "id": "c81daeeb"
   },
   "source": [
    "# Исследование надежности заемщиков"
   ]
  },
  {
   "cell_type": "markdown",
   "id": "04636794",
   "metadata": {
    "deletable": false,
    "editable": false,
    "id": "-G3EJWzf62s6"
   },
   "source": [
    "Это первая часть проекта, она будет проверена автоматически. Вторую часть проверит ревьюер. "
   ]
  },
  {
   "cell_type": "markdown",
   "id": "ac1a3c28",
   "metadata": {
    "deletable": false,
    "editable": false,
    "id": "744d7639"
   },
   "source": [
    "## Откройте таблицу и изучите общую информацию о данных"
   ]
  },
  {
   "cell_type": "markdown",
   "id": "576f6724",
   "metadata": {
    "deletable": false,
    "editable": false,
    "id": "e7a14c31",
    "tags": [
     "start_task"
    ]
   },
   "source": [
    "**Задание 1. Импортируйте библиотеку pandas. Считайте данные из csv-файла в датафрейм и сохраните в переменную `data`. Путь к файлу:**\n",
    "\n",
    "`/datasets/data.csv`"
   ]
  },
  {
   "cell_type": "code",
   "execution_count": 1,
   "id": "264f550d",
   "metadata": {
    "id": "7bcf75c9"
   },
   "outputs": [],
   "source": [
    "import pandas as pd"
   ]
  },
  {
   "cell_type": "code",
   "execution_count": 2,
   "id": "674a9ab8",
   "metadata": {
    "id": "4d240ee2"
   },
   "outputs": [],
   "source": [
    "data = pd.read_csv('/datasets/data.csv')"
   ]
  },
  {
   "cell_type": "markdown",
   "id": "7469b567",
   "metadata": {
    "deletable": false,
    "editable": false,
    "id": "b8038fe3",
    "tags": [
     "start_task"
    ]
   },
   "source": [
    "**Задание 2. Выведите первые 20 строчек датафрейма `data` на экран.**"
   ]
  },
  {
   "cell_type": "code",
   "execution_count": 3,
   "id": "3a2f58c1",
   "metadata": {
    "id": "2a7cab99"
   },
   "outputs": [
    {
     "data": {
      "text/html": [
       "<div>\n",
       "<style scoped>\n",
       "    .dataframe tbody tr th:only-of-type {\n",
       "        vertical-align: middle;\n",
       "    }\n",
       "\n",
       "    .dataframe tbody tr th {\n",
       "        vertical-align: top;\n",
       "    }\n",
       "\n",
       "    .dataframe thead th {\n",
       "        text-align: right;\n",
       "    }\n",
       "</style>\n",
       "<table border=\"1\" class=\"dataframe\">\n",
       "  <thead>\n",
       "    <tr style=\"text-align: right;\">\n",
       "      <th></th>\n",
       "      <th>children</th>\n",
       "      <th>days_employed</th>\n",
       "      <th>dob_years</th>\n",
       "      <th>education</th>\n",
       "      <th>education_id</th>\n",
       "      <th>family_status</th>\n",
       "      <th>family_status_id</th>\n",
       "      <th>gender</th>\n",
       "      <th>income_type</th>\n",
       "      <th>debt</th>\n",
       "      <th>total_income</th>\n",
       "      <th>purpose</th>\n",
       "    </tr>\n",
       "  </thead>\n",
       "  <tbody>\n",
       "    <tr>\n",
       "      <th>0</th>\n",
       "      <td>1</td>\n",
       "      <td>-8437.673028</td>\n",
       "      <td>42</td>\n",
       "      <td>высшее</td>\n",
       "      <td>0</td>\n",
       "      <td>женат / замужем</td>\n",
       "      <td>0</td>\n",
       "      <td>F</td>\n",
       "      <td>сотрудник</td>\n",
       "      <td>0</td>\n",
       "      <td>253875.639453</td>\n",
       "      <td>покупка жилья</td>\n",
       "    </tr>\n",
       "    <tr>\n",
       "      <th>1</th>\n",
       "      <td>1</td>\n",
       "      <td>-4024.803754</td>\n",
       "      <td>36</td>\n",
       "      <td>среднее</td>\n",
       "      <td>1</td>\n",
       "      <td>женат / замужем</td>\n",
       "      <td>0</td>\n",
       "      <td>F</td>\n",
       "      <td>сотрудник</td>\n",
       "      <td>0</td>\n",
       "      <td>112080.014102</td>\n",
       "      <td>приобретение автомобиля</td>\n",
       "    </tr>\n",
       "    <tr>\n",
       "      <th>2</th>\n",
       "      <td>0</td>\n",
       "      <td>-5623.422610</td>\n",
       "      <td>33</td>\n",
       "      <td>Среднее</td>\n",
       "      <td>1</td>\n",
       "      <td>женат / замужем</td>\n",
       "      <td>0</td>\n",
       "      <td>M</td>\n",
       "      <td>сотрудник</td>\n",
       "      <td>0</td>\n",
       "      <td>145885.952297</td>\n",
       "      <td>покупка жилья</td>\n",
       "    </tr>\n",
       "    <tr>\n",
       "      <th>3</th>\n",
       "      <td>3</td>\n",
       "      <td>-4124.747207</td>\n",
       "      <td>32</td>\n",
       "      <td>среднее</td>\n",
       "      <td>1</td>\n",
       "      <td>женат / замужем</td>\n",
       "      <td>0</td>\n",
       "      <td>M</td>\n",
       "      <td>сотрудник</td>\n",
       "      <td>0</td>\n",
       "      <td>267628.550329</td>\n",
       "      <td>дополнительное образование</td>\n",
       "    </tr>\n",
       "    <tr>\n",
       "      <th>4</th>\n",
       "      <td>0</td>\n",
       "      <td>340266.072047</td>\n",
       "      <td>53</td>\n",
       "      <td>среднее</td>\n",
       "      <td>1</td>\n",
       "      <td>гражданский брак</td>\n",
       "      <td>1</td>\n",
       "      <td>F</td>\n",
       "      <td>пенсионер</td>\n",
       "      <td>0</td>\n",
       "      <td>158616.077870</td>\n",
       "      <td>сыграть свадьбу</td>\n",
       "    </tr>\n",
       "    <tr>\n",
       "      <th>5</th>\n",
       "      <td>0</td>\n",
       "      <td>-926.185831</td>\n",
       "      <td>27</td>\n",
       "      <td>высшее</td>\n",
       "      <td>0</td>\n",
       "      <td>гражданский брак</td>\n",
       "      <td>1</td>\n",
       "      <td>M</td>\n",
       "      <td>компаньон</td>\n",
       "      <td>0</td>\n",
       "      <td>255763.565419</td>\n",
       "      <td>покупка жилья</td>\n",
       "    </tr>\n",
       "    <tr>\n",
       "      <th>6</th>\n",
       "      <td>0</td>\n",
       "      <td>-2879.202052</td>\n",
       "      <td>43</td>\n",
       "      <td>высшее</td>\n",
       "      <td>0</td>\n",
       "      <td>женат / замужем</td>\n",
       "      <td>0</td>\n",
       "      <td>F</td>\n",
       "      <td>компаньон</td>\n",
       "      <td>0</td>\n",
       "      <td>240525.971920</td>\n",
       "      <td>операции с жильем</td>\n",
       "    </tr>\n",
       "    <tr>\n",
       "      <th>7</th>\n",
       "      <td>0</td>\n",
       "      <td>-152.779569</td>\n",
       "      <td>50</td>\n",
       "      <td>СРЕДНЕЕ</td>\n",
       "      <td>1</td>\n",
       "      <td>женат / замужем</td>\n",
       "      <td>0</td>\n",
       "      <td>M</td>\n",
       "      <td>сотрудник</td>\n",
       "      <td>0</td>\n",
       "      <td>135823.934197</td>\n",
       "      <td>образование</td>\n",
       "    </tr>\n",
       "    <tr>\n",
       "      <th>8</th>\n",
       "      <td>2</td>\n",
       "      <td>-6929.865299</td>\n",
       "      <td>35</td>\n",
       "      <td>ВЫСШЕЕ</td>\n",
       "      <td>0</td>\n",
       "      <td>гражданский брак</td>\n",
       "      <td>1</td>\n",
       "      <td>F</td>\n",
       "      <td>сотрудник</td>\n",
       "      <td>0</td>\n",
       "      <td>95856.832424</td>\n",
       "      <td>на проведение свадьбы</td>\n",
       "    </tr>\n",
       "    <tr>\n",
       "      <th>9</th>\n",
       "      <td>0</td>\n",
       "      <td>-2188.756445</td>\n",
       "      <td>41</td>\n",
       "      <td>среднее</td>\n",
       "      <td>1</td>\n",
       "      <td>женат / замужем</td>\n",
       "      <td>0</td>\n",
       "      <td>M</td>\n",
       "      <td>сотрудник</td>\n",
       "      <td>0</td>\n",
       "      <td>144425.938277</td>\n",
       "      <td>покупка жилья для семьи</td>\n",
       "    </tr>\n",
       "    <tr>\n",
       "      <th>10</th>\n",
       "      <td>2</td>\n",
       "      <td>-4171.483647</td>\n",
       "      <td>36</td>\n",
       "      <td>высшее</td>\n",
       "      <td>0</td>\n",
       "      <td>женат / замужем</td>\n",
       "      <td>0</td>\n",
       "      <td>M</td>\n",
       "      <td>компаньон</td>\n",
       "      <td>0</td>\n",
       "      <td>113943.491460</td>\n",
       "      <td>покупка недвижимости</td>\n",
       "    </tr>\n",
       "    <tr>\n",
       "      <th>11</th>\n",
       "      <td>0</td>\n",
       "      <td>-792.701887</td>\n",
       "      <td>40</td>\n",
       "      <td>среднее</td>\n",
       "      <td>1</td>\n",
       "      <td>женат / замужем</td>\n",
       "      <td>0</td>\n",
       "      <td>F</td>\n",
       "      <td>сотрудник</td>\n",
       "      <td>0</td>\n",
       "      <td>77069.234271</td>\n",
       "      <td>покупка коммерческой недвижимости</td>\n",
       "    </tr>\n",
       "    <tr>\n",
       "      <th>12</th>\n",
       "      <td>0</td>\n",
       "      <td>NaN</td>\n",
       "      <td>65</td>\n",
       "      <td>среднее</td>\n",
       "      <td>1</td>\n",
       "      <td>гражданский брак</td>\n",
       "      <td>1</td>\n",
       "      <td>M</td>\n",
       "      <td>пенсионер</td>\n",
       "      <td>0</td>\n",
       "      <td>NaN</td>\n",
       "      <td>сыграть свадьбу</td>\n",
       "    </tr>\n",
       "    <tr>\n",
       "      <th>13</th>\n",
       "      <td>0</td>\n",
       "      <td>-1846.641941</td>\n",
       "      <td>54</td>\n",
       "      <td>неоконченное высшее</td>\n",
       "      <td>2</td>\n",
       "      <td>женат / замужем</td>\n",
       "      <td>0</td>\n",
       "      <td>F</td>\n",
       "      <td>сотрудник</td>\n",
       "      <td>0</td>\n",
       "      <td>130458.228857</td>\n",
       "      <td>приобретение автомобиля</td>\n",
       "    </tr>\n",
       "    <tr>\n",
       "      <th>14</th>\n",
       "      <td>0</td>\n",
       "      <td>-1844.956182</td>\n",
       "      <td>56</td>\n",
       "      <td>высшее</td>\n",
       "      <td>0</td>\n",
       "      <td>гражданский брак</td>\n",
       "      <td>1</td>\n",
       "      <td>F</td>\n",
       "      <td>компаньон</td>\n",
       "      <td>1</td>\n",
       "      <td>165127.911772</td>\n",
       "      <td>покупка жилой недвижимости</td>\n",
       "    </tr>\n",
       "    <tr>\n",
       "      <th>15</th>\n",
       "      <td>1</td>\n",
       "      <td>-972.364419</td>\n",
       "      <td>26</td>\n",
       "      <td>среднее</td>\n",
       "      <td>1</td>\n",
       "      <td>женат / замужем</td>\n",
       "      <td>0</td>\n",
       "      <td>F</td>\n",
       "      <td>сотрудник</td>\n",
       "      <td>0</td>\n",
       "      <td>116820.904450</td>\n",
       "      <td>строительство собственной недвижимости</td>\n",
       "    </tr>\n",
       "    <tr>\n",
       "      <th>16</th>\n",
       "      <td>0</td>\n",
       "      <td>-1719.934226</td>\n",
       "      <td>35</td>\n",
       "      <td>среднее</td>\n",
       "      <td>1</td>\n",
       "      <td>женат / замужем</td>\n",
       "      <td>0</td>\n",
       "      <td>F</td>\n",
       "      <td>сотрудник</td>\n",
       "      <td>0</td>\n",
       "      <td>289202.704229</td>\n",
       "      <td>недвижимость</td>\n",
       "    </tr>\n",
       "    <tr>\n",
       "      <th>17</th>\n",
       "      <td>0</td>\n",
       "      <td>-2369.999720</td>\n",
       "      <td>33</td>\n",
       "      <td>высшее</td>\n",
       "      <td>0</td>\n",
       "      <td>гражданский брак</td>\n",
       "      <td>1</td>\n",
       "      <td>M</td>\n",
       "      <td>сотрудник</td>\n",
       "      <td>0</td>\n",
       "      <td>90410.586745</td>\n",
       "      <td>строительство недвижимости</td>\n",
       "    </tr>\n",
       "    <tr>\n",
       "      <th>18</th>\n",
       "      <td>0</td>\n",
       "      <td>400281.136913</td>\n",
       "      <td>53</td>\n",
       "      <td>среднее</td>\n",
       "      <td>1</td>\n",
       "      <td>вдовец / вдова</td>\n",
       "      <td>2</td>\n",
       "      <td>F</td>\n",
       "      <td>пенсионер</td>\n",
       "      <td>0</td>\n",
       "      <td>56823.777243</td>\n",
       "      <td>на покупку подержанного автомобиля</td>\n",
       "    </tr>\n",
       "    <tr>\n",
       "      <th>19</th>\n",
       "      <td>0</td>\n",
       "      <td>-10038.818549</td>\n",
       "      <td>48</td>\n",
       "      <td>СРЕДНЕЕ</td>\n",
       "      <td>1</td>\n",
       "      <td>в разводе</td>\n",
       "      <td>3</td>\n",
       "      <td>F</td>\n",
       "      <td>сотрудник</td>\n",
       "      <td>0</td>\n",
       "      <td>242831.107982</td>\n",
       "      <td>на покупку своего автомобиля</td>\n",
       "    </tr>\n",
       "  </tbody>\n",
       "</table>\n",
       "</div>"
      ],
      "text/plain": [
       "    children  days_employed  dob_years            education  education_id  \\\n",
       "0          1   -8437.673028         42               высшее             0   \n",
       "1          1   -4024.803754         36              среднее             1   \n",
       "2          0   -5623.422610         33              Среднее             1   \n",
       "3          3   -4124.747207         32              среднее             1   \n",
       "4          0  340266.072047         53              среднее             1   \n",
       "5          0    -926.185831         27               высшее             0   \n",
       "6          0   -2879.202052         43               высшее             0   \n",
       "7          0    -152.779569         50              СРЕДНЕЕ             1   \n",
       "8          2   -6929.865299         35               ВЫСШЕЕ             0   \n",
       "9          0   -2188.756445         41              среднее             1   \n",
       "10         2   -4171.483647         36               высшее             0   \n",
       "11         0    -792.701887         40              среднее             1   \n",
       "12         0            NaN         65              среднее             1   \n",
       "13         0   -1846.641941         54  неоконченное высшее             2   \n",
       "14         0   -1844.956182         56               высшее             0   \n",
       "15         1    -972.364419         26              среднее             1   \n",
       "16         0   -1719.934226         35              среднее             1   \n",
       "17         0   -2369.999720         33               высшее             0   \n",
       "18         0  400281.136913         53              среднее             1   \n",
       "19         0  -10038.818549         48              СРЕДНЕЕ             1   \n",
       "\n",
       "       family_status  family_status_id gender income_type  debt  \\\n",
       "0    женат / замужем                 0      F   сотрудник     0   \n",
       "1    женат / замужем                 0      F   сотрудник     0   \n",
       "2    женат / замужем                 0      M   сотрудник     0   \n",
       "3    женат / замужем                 0      M   сотрудник     0   \n",
       "4   гражданский брак                 1      F   пенсионер     0   \n",
       "5   гражданский брак                 1      M   компаньон     0   \n",
       "6    женат / замужем                 0      F   компаньон     0   \n",
       "7    женат / замужем                 0      M   сотрудник     0   \n",
       "8   гражданский брак                 1      F   сотрудник     0   \n",
       "9    женат / замужем                 0      M   сотрудник     0   \n",
       "10   женат / замужем                 0      M   компаньон     0   \n",
       "11   женат / замужем                 0      F   сотрудник     0   \n",
       "12  гражданский брак                 1      M   пенсионер     0   \n",
       "13   женат / замужем                 0      F   сотрудник     0   \n",
       "14  гражданский брак                 1      F   компаньон     1   \n",
       "15   женат / замужем                 0      F   сотрудник     0   \n",
       "16   женат / замужем                 0      F   сотрудник     0   \n",
       "17  гражданский брак                 1      M   сотрудник     0   \n",
       "18    вдовец / вдова                 2      F   пенсионер     0   \n",
       "19         в разводе                 3      F   сотрудник     0   \n",
       "\n",
       "     total_income                                 purpose  \n",
       "0   253875.639453                           покупка жилья  \n",
       "1   112080.014102                 приобретение автомобиля  \n",
       "2   145885.952297                           покупка жилья  \n",
       "3   267628.550329              дополнительное образование  \n",
       "4   158616.077870                         сыграть свадьбу  \n",
       "5   255763.565419                           покупка жилья  \n",
       "6   240525.971920                       операции с жильем  \n",
       "7   135823.934197                             образование  \n",
       "8    95856.832424                   на проведение свадьбы  \n",
       "9   144425.938277                 покупка жилья для семьи  \n",
       "10  113943.491460                    покупка недвижимости  \n",
       "11   77069.234271       покупка коммерческой недвижимости  \n",
       "12            NaN                         сыграть свадьбу  \n",
       "13  130458.228857                 приобретение автомобиля  \n",
       "14  165127.911772              покупка жилой недвижимости  \n",
       "15  116820.904450  строительство собственной недвижимости  \n",
       "16  289202.704229                            недвижимость  \n",
       "17   90410.586745              строительство недвижимости  \n",
       "18   56823.777243      на покупку подержанного автомобиля  \n",
       "19  242831.107982            на покупку своего автомобиля  "
      ]
     },
     "execution_count": 3,
     "metadata": {},
     "output_type": "execute_result"
    }
   ],
   "source": [
    "data.head(20)"
   ]
  },
  {
   "cell_type": "markdown",
   "id": "2bcf97af",
   "metadata": {
    "deletable": false,
    "editable": false,
    "id": "1c12e233",
    "tags": [
     "start_task"
    ]
   },
   "source": [
    "**Задание 3. Выведите основную информацию о датафрейме с помощью метода `info()`.**"
   ]
  },
  {
   "cell_type": "code",
   "execution_count": 4,
   "id": "b8472366",
   "metadata": {
    "id": "2b757bca"
   },
   "outputs": [
    {
     "name": "stdout",
     "output_type": "stream",
     "text": [
      "<class 'pandas.core.frame.DataFrame'>\n",
      "RangeIndex: 21525 entries, 0 to 21524\n",
      "Data columns (total 12 columns):\n",
      " #   Column            Non-Null Count  Dtype  \n",
      "---  ------            --------------  -----  \n",
      " 0   children          21525 non-null  int64  \n",
      " 1   days_employed     19351 non-null  float64\n",
      " 2   dob_years         21525 non-null  int64  \n",
      " 3   education         21525 non-null  object \n",
      " 4   education_id      21525 non-null  int64  \n",
      " 5   family_status     21525 non-null  object \n",
      " 6   family_status_id  21525 non-null  int64  \n",
      " 7   gender            21525 non-null  object \n",
      " 8   income_type       21525 non-null  object \n",
      " 9   debt              21525 non-null  int64  \n",
      " 10  total_income      19351 non-null  float64\n",
      " 11  purpose           21525 non-null  object \n",
      "dtypes: float64(2), int64(5), object(5)\n",
      "memory usage: 2.0+ MB\n"
     ]
    }
   ],
   "source": [
    "data.info()"
   ]
  },
  {
   "cell_type": "markdown",
   "id": "d2b881b8",
   "metadata": {
    "deletable": false,
    "editable": false,
    "id": "333ec665"
   },
   "source": [
    "## Предобработка данных"
   ]
  },
  {
   "cell_type": "markdown",
   "id": "976cdb0e",
   "metadata": {
    "deletable": false,
    "editable": false,
    "id": "02d92d53"
   },
   "source": [
    "### Удаление пропусков"
   ]
  },
  {
   "cell_type": "markdown",
   "id": "78b089e5",
   "metadata": {
    "deletable": false,
    "editable": false,
    "id": "cd84967c",
    "tags": [
     "start_task"
    ]
   },
   "source": [
    "**Задание 4. Выведите количество пропущенных значений для каждого столбца. Используйте комбинацию двух методов.**"
   ]
  },
  {
   "cell_type": "code",
   "execution_count": 5,
   "id": "dfd5475c",
   "metadata": {
    "id": "7f9b2309"
   },
   "outputs": [
    {
     "data": {
      "text/plain": [
       "children               0\n",
       "days_employed       2174\n",
       "dob_years              0\n",
       "education              0\n",
       "education_id           0\n",
       "family_status          0\n",
       "family_status_id       0\n",
       "gender                 0\n",
       "income_type            0\n",
       "debt                   0\n",
       "total_income        2174\n",
       "purpose                0\n",
       "dtype: int64"
      ]
     },
     "execution_count": 5,
     "metadata": {},
     "output_type": "execute_result"
    }
   ],
   "source": [
    "data.isna().sum()"
   ]
  },
  {
   "cell_type": "markdown",
   "id": "6dd5673f",
   "metadata": {
    "deletable": false,
    "editable": false,
    "id": "db86e27b",
    "tags": [
     "start_task"
    ]
   },
   "source": [
    "**Задание 5. В двух столбцах есть пропущенные значения. Один из них — `days_employed`. Пропуски в этом столбце вы обработаете на следующем этапе. Другой столбец с пропущенными значениями — `total_income` — хранит данные о доходах. На сумму дохода сильнее всего влияет тип занятости, поэтому заполнить пропуски в этом столбце нужно медианным значением по каждому типу из столбца `income_type`. Например, у человека с типом занятости `сотрудник` пропуск в столбце `total_income` должен быть заполнен медианным доходом среди всех записей с тем же типом.**"
   ]
  },
  {
   "cell_type": "code",
   "execution_count": 6,
   "id": "9ef0ba22",
   "metadata": {
    "id": "42006a93"
   },
   "outputs": [],
   "source": [
    "def total_income_imputer(df):\n",
    "    median_income_dict = (df\n",
    "                          .groupby('income_type')\n",
    "                          .total_income\n",
    "                          .median()\n",
    "                          .rename('median_income')\n",
    "                          .reset_index()\n",
    "                         )\n",
    "    df = df.merge(median_income_dict, how='left', on='income_type')\n",
    "    df.loc[df.total_income.isna(), 'total_income'] = df.loc[df.total_income.isna(), 'median_income']\n",
    "    \n",
    "    return df.drop(columns='median_income')\n",
    "\n",
    "data = total_income_imputer(data)"
   ]
  },
  {
   "cell_type": "markdown",
   "id": "b314d742",
   "metadata": {
    "deletable": false,
    "editable": false,
    "id": "89da5ece"
   },
   "source": [
    "### Обработка аномальных значений"
   ]
  },
  {
   "cell_type": "markdown",
   "id": "42ed9a27",
   "metadata": {
    "deletable": false,
    "editable": false,
    "id": "57964554",
    "tags": [
     "start_task"
    ]
   },
   "source": [
    "**Задание 6. В данных могут встречаться артефакты (аномалии) — значения, которые не отражают действительность и появились по какой-то ошибке. Таким артефактом будет отрицательное количество дней трудового стажа в столбце `days_employed`. Для реальных данных это нормально. Обработайте значения в этом столбце: замените все отрицательные значения положительными с помощью метода `abs()`.**"
   ]
  },
  {
   "cell_type": "code",
   "execution_count": 7,
   "id": "290c1fe5",
   "metadata": {
    "id": "f6f055bf"
   },
   "outputs": [],
   "source": [
    "data.days_employed = data.days_employed.abs()"
   ]
  },
  {
   "cell_type": "markdown",
   "id": "1692cd8b",
   "metadata": {
    "deletable": false,
    "editable": false,
    "id": "6107dd2f",
    "tags": [
     "start_task"
    ]
   },
   "source": [
    "**Задание 7. Для каждого типа занятости выведите медианное значение трудового стажа `days_employed` в днях.**"
   ]
  },
  {
   "cell_type": "code",
   "execution_count": 8,
   "id": "107ffd7b",
   "metadata": {
    "id": "85a5faf6"
   },
   "outputs": [
    {
     "data": {
      "text/plain": [
       "income_type\n",
       "безработный        366413.652744\n",
       "в декрете            3296.759962\n",
       "госслужащий          2689.368353\n",
       "компаньон            1547.382223\n",
       "пенсионер          365213.306266\n",
       "предприниматель       520.848083\n",
       "сотрудник            1574.202821\n",
       "студент               578.751554\n",
       "Name: days_employed, dtype: float64"
      ]
     },
     "execution_count": 8,
     "metadata": {},
     "output_type": "execute_result"
    }
   ],
   "source": [
    "data.groupby('income_type').days_employed.median()"
   ]
  },
  {
   "cell_type": "markdown",
   "id": "28e197d6",
   "metadata": {
    "deletable": false,
    "editable": false,
    "id": "38d1a030"
   },
   "source": [
    "У двух типов (безработные и пенсионеры) получатся аномально большие значения. Исправить такие значения сложно, поэтому оставьте их как есть. Тем более этот столбец не понадобится вам для исследования."
   ]
  },
  {
   "cell_type": "markdown",
   "id": "bce18991",
   "metadata": {
    "deletable": false,
    "editable": false,
    "id": "d8a9f147",
    "tags": [
     "start_task"
    ]
   },
   "source": [
    "**Задание 8. Выведите перечень уникальных значений столбца `children`.**"
   ]
  },
  {
   "cell_type": "code",
   "execution_count": 9,
   "id": "257729a5",
   "metadata": {
    "id": "ef5056eb"
   },
   "outputs": [
    {
     "data": {
      "text/plain": [
       "array([ 1,  0,  3,  2, -1,  4, 20,  5])"
      ]
     },
     "execution_count": 9,
     "metadata": {},
     "output_type": "execute_result"
    }
   ],
   "source": [
    "data.children.unique()"
   ]
  },
  {
   "cell_type": "markdown",
   "id": "f4543fbf",
   "metadata": {
    "deletable": false,
    "editable": false,
    "id": "40b9ebf2",
    "tags": [
     "start_task"
    ]
   },
   "source": [
    "**Задание 9. В столбце `children` есть два аномальных значения. Удалите строки, в которых встречаются такие аномальные значения из датафрейма `data`.**"
   ]
  },
  {
   "cell_type": "code",
   "execution_count": 10,
   "id": "152e0110",
   "metadata": {
    "id": "3ff9801d"
   },
   "outputs": [],
   "source": [
    "data = data.drop(index=data[(data.children == 20) | (data.children == -1)].index)"
   ]
  },
  {
   "cell_type": "markdown",
   "id": "7947820e",
   "metadata": {
    "deletable": false,
    "editable": false,
    "id": "bbc4d0ce",
    "tags": [
     "start_task"
    ]
   },
   "source": [
    "**Задание 10. Ещё раз выведите перечень уникальных значений столбца `children`, чтобы убедиться, что артефакты удалены.**"
   ]
  },
  {
   "cell_type": "code",
   "execution_count": 11,
   "id": "0d6dd740",
   "metadata": {
    "id": "ad4fa8b7"
   },
   "outputs": [
    {
     "data": {
      "text/plain": [
       "array([1, 0, 3, 2, 4, 5])"
      ]
     },
     "execution_count": 11,
     "metadata": {},
     "output_type": "execute_result"
    }
   ],
   "source": [
    "data.children.unique()"
   ]
  },
  {
   "cell_type": "markdown",
   "id": "284d1f7d",
   "metadata": {
    "deletable": false,
    "editable": false,
    "id": "75440b63"
   },
   "source": [
    "### Удаление пропусков (продолжение)"
   ]
  },
  {
   "cell_type": "markdown",
   "id": "c0ceee38",
   "metadata": {
    "deletable": false,
    "editable": false,
    "id": "f4ea573f",
    "tags": [
     "start_task"
    ]
   },
   "source": [
    "**Задание 11. Заполните пропуски в столбце `days_employed` медианными значениями по каждому типу занятости `income_type`.**"
   ]
  },
  {
   "cell_type": "code",
   "execution_count": 12,
   "id": "08e436e9",
   "metadata": {
    "id": "af6b1a7e"
   },
   "outputs": [],
   "source": [
    "def days_employed_imputer(df):\n",
    "    dictionary = (df\n",
    "                  .groupby('income_type')\n",
    "                  .days_employed\n",
    "                  .median()\n",
    "                  .rename('median_days_employed')\n",
    "                  .reset_index()\n",
    "                 )\n",
    "    df = df.merge(dictionary, how='left', on='income_type')\n",
    "    df.loc[df.days_employed.isna(), 'days_employed'] = df.loc[df.days_employed.isna(), 'median_days_employed']\n",
    "    \n",
    "    return df.drop(columns='median_days_employed')\n",
    "\n",
    "data = days_employed_imputer(data)"
   ]
  },
  {
   "cell_type": "markdown",
   "id": "92de7f0f",
   "metadata": {
    "deletable": false,
    "editable": false,
    "id": "2753f40d",
    "tags": [
     "start_task"
    ]
   },
   "source": [
    "**Задание 12. Убедитесь, что все пропуски заполнены. Проверьте себя и ещё раз выведите количество пропущенных значений для каждого столбца с помощью двух методов.**"
   ]
  },
  {
   "cell_type": "code",
   "execution_count": 13,
   "id": "80580957",
   "metadata": {
    "id": "55f78bc2"
   },
   "outputs": [
    {
     "data": {
      "text/plain": [
       "children            0\n",
       "days_employed       0\n",
       "dob_years           0\n",
       "education           0\n",
       "education_id        0\n",
       "family_status       0\n",
       "family_status_id    0\n",
       "gender              0\n",
       "income_type         0\n",
       "debt                0\n",
       "total_income        0\n",
       "purpose             0\n",
       "dtype: int64"
      ]
     },
     "execution_count": 13,
     "metadata": {},
     "output_type": "execute_result"
    }
   ],
   "source": [
    "data.isna().sum()"
   ]
  },
  {
   "cell_type": "markdown",
   "id": "76236047",
   "metadata": {
    "deletable": false,
    "editable": false,
    "id": "ddc81e43"
   },
   "source": [
    "### Изменение типов данных"
   ]
  },
  {
   "cell_type": "markdown",
   "id": "c9d48db5",
   "metadata": {
    "deletable": false,
    "editable": false,
    "id": "42d19d24",
    "tags": [
     "start_task"
    ]
   },
   "source": [
    "**Задание 13. Замените вещественный тип данных в столбце `total_income` на целочисленный с помощью метода `astype()`.**"
   ]
  },
  {
   "cell_type": "code",
   "execution_count": 14,
   "id": "9a8c8a19",
   "metadata": {
    "id": "920b65ad"
   },
   "outputs": [],
   "source": [
    "data.total_income = data.total_income.astype('int')"
   ]
  },
  {
   "cell_type": "markdown",
   "id": "187b2c77",
   "metadata": {
    "deletable": false,
    "editable": false,
    "id": "80c420ba"
   },
   "source": [
    "### Обработка дубликатов"
   ]
  },
  {
   "cell_type": "markdown",
   "id": "3f31bef8",
   "metadata": {
    "deletable": false,
    "editable": false,
    "tags": [
     "start_task"
    ]
   },
   "source": [
    "**Задание 14. Обработайте неявные дубликаты в столбце `education`. В этом столбце есть одни и те же значения, но записанные по-разному: с использованием заглавных и строчных букв. Приведите их к нижнему регистру. Проверьте остальные столбцы.**"
   ]
  },
  {
   "cell_type": "code",
   "execution_count": 15,
   "id": "4628bf2e",
   "metadata": {},
   "outputs": [],
   "source": [
    "data.education = data.education.str.lower()"
   ]
  },
  {
   "cell_type": "markdown",
   "id": "8a29fc60",
   "metadata": {
    "deletable": false,
    "editable": false,
    "id": "dc587695",
    "tags": [
     "start_task"
    ]
   },
   "source": [
    "**Задание 15. Выведите на экран количество строк-дубликатов в данных. Если такие строки присутствуют, удалите их.**"
   ]
  },
  {
   "cell_type": "code",
   "execution_count": 16,
   "id": "182b416f",
   "metadata": {
    "id": "3ee445e4"
   },
   "outputs": [
    {
     "data": {
      "text/plain": [
       "71"
      ]
     },
     "execution_count": 16,
     "metadata": {},
     "output_type": "execute_result"
    }
   ],
   "source": [
    "data.duplicated().sum()"
   ]
  },
  {
   "cell_type": "code",
   "execution_count": 17,
   "id": "1a5142f0",
   "metadata": {
    "id": "8575fe05"
   },
   "outputs": [],
   "source": [
    "data = data.drop_duplicates()"
   ]
  },
  {
   "cell_type": "markdown",
   "id": "c4960715",
   "metadata": {
    "deletable": false,
    "editable": false,
    "id": "9904cf55"
   },
   "source": [
    "### Категоризация данных"
   ]
  },
  {
   "cell_type": "markdown",
   "id": "1dd4b6fd",
   "metadata": {
    "deletable": false,
    "editable": false,
    "id": "72fcc8a2",
    "tags": [
     "start_task"
    ]
   },
   "source": [
    "**Задание 16. На основании диапазонов, указанных ниже, создайте в датафрейме `data` столбец `total_income_category` с категориями:**\n",
    "\n",
    "- 0–30000 — `'E'`;\n",
    "- 30001–50000 — `'D'`;\n",
    "- 50001–200000 — `'C'`;\n",
    "- 200001–1000000 — `'B'`;\n",
    "- 1000001 и выше — `'A'`.\n",
    "\n",
    "\n",
    "**Например, кредитополучателю с доходом 25000 нужно назначить категорию `'E'`, а клиенту, получающему 235000, — `'B'`. Используйте собственную функцию с именем `categorize_income()` и метод `apply()`.**"
   ]
  },
  {
   "cell_type": "code",
   "execution_count": 18,
   "id": "7dbc8467",
   "metadata": {
    "id": "e1771346"
   },
   "outputs": [],
   "source": [
    "def categorize_income(row):\n",
    "    if row.total_income < 30001:\n",
    "        row['total_income_category'] = 'E'\n",
    "    elif row.total_income < 50001:\n",
    "        row['total_income_category'] = 'D'\n",
    "    elif row.total_income < 200001:\n",
    "        row['total_income_category'] = 'C'\n",
    "    elif row.total_income < 1000001:\n",
    "        row['total_income_category'] = 'B'\n",
    "    else:\n",
    "        row['total_income_category'] = 'A'\n",
    "        \n",
    "    return row"
   ]
  },
  {
   "cell_type": "code",
   "execution_count": 19,
   "id": "2e96eb55",
   "metadata": {
    "id": "d5f3586d"
   },
   "outputs": [],
   "source": [
    "data = data.apply(categorize_income, axis='columns')"
   ]
  },
  {
   "cell_type": "markdown",
   "id": "8a9090d7",
   "metadata": {
    "deletable": false,
    "editable": false,
    "id": "dde49b5c",
    "tags": [
     "start_task"
    ]
   },
   "source": [
    "**Задание 17. Выведите на экран перечень уникальных целей взятия кредита из столбца `purpose`.**"
   ]
  },
  {
   "cell_type": "code",
   "execution_count": 20,
   "id": "e191939b",
   "metadata": {
    "id": "f67ce9b3"
   },
   "outputs": [
    {
     "data": {
      "text/plain": [
       "array(['покупка жилья', 'приобретение автомобиля',\n",
       "       'дополнительное образование', 'сыграть свадьбу',\n",
       "       'операции с жильем', 'образование', 'на проведение свадьбы',\n",
       "       'покупка жилья для семьи', 'покупка недвижимости',\n",
       "       'покупка коммерческой недвижимости', 'покупка жилой недвижимости',\n",
       "       'строительство собственной недвижимости', 'недвижимость',\n",
       "       'строительство недвижимости', 'на покупку подержанного автомобиля',\n",
       "       'на покупку своего автомобиля',\n",
       "       'операции с коммерческой недвижимостью',\n",
       "       'строительство жилой недвижимости', 'жилье',\n",
       "       'операции со своей недвижимостью', 'автомобили',\n",
       "       'заняться образованием', 'сделка с подержанным автомобилем',\n",
       "       'получение образования', 'автомобиль', 'свадьба',\n",
       "       'получение дополнительного образования', 'покупка своего жилья',\n",
       "       'операции с недвижимостью', 'получение высшего образования',\n",
       "       'свой автомобиль', 'сделка с автомобилем',\n",
       "       'профильное образование', 'высшее образование',\n",
       "       'покупка жилья для сдачи', 'на покупку автомобиля', 'ремонт жилью',\n",
       "       'заняться высшим образованием'], dtype=object)"
      ]
     },
     "execution_count": 20,
     "metadata": {},
     "output_type": "execute_result"
    }
   ],
   "source": [
    "data.purpose.unique()"
   ]
  },
  {
   "cell_type": "markdown",
   "id": "3bb71465",
   "metadata": {
    "deletable": false,
    "editable": false,
    "id": "85d0aef0",
    "tags": [
     "start_task"
    ]
   },
   "source": [
    "**Задание 18. Создайте функцию, которая на основании данных из столбца `purpose` сформирует новый столбец `purpose_category`, в который войдут следующие категории:**\n",
    "\n",
    "- `'операции с автомобилем'`,\n",
    "- `'операции с недвижимостью'`,\n",
    "- `'проведение свадьбы'`,\n",
    "- `'получение образования'`.\n",
    "\n",
    "**Например, если в столбце `purpose` находится подстрока `'на покупку автомобиля'`, то в столбце `purpose_category` должна появиться строка `'операции с автомобилем'`.**\n",
    "\n",
    "**Используйте собственную функцию с именем `categorize_purpose()` и метод `apply()`. Изучите данные в столбце `purpose` и определите, какие подстроки помогут вам правильно определить категорию.**"
   ]
  },
  {
   "cell_type": "code",
   "execution_count": 21,
   "id": "a179ef31",
   "metadata": {
    "id": "e149fab4"
   },
   "outputs": [],
   "source": [
    "def categorize_purpose(row):\n",
    "    if 'автомобил' in row.purpose:\n",
    "        row['purpose_category'] = 'операции с автомобилем'\n",
    "    elif 'недвиж' in row.purpose or 'жиль' in row.purpose:\n",
    "        row['purpose_category'] = 'операции с недвижимостью'\n",
    "    elif 'свадьб' in row.purpose:\n",
    "        row['purpose_category'] = 'проведение свадьбы'\n",
    "    elif 'образов' in row.purpose:\n",
    "        row['purpose_category'] = 'получение образования'\n",
    "        \n",
    "    return row"
   ]
  },
  {
   "cell_type": "code",
   "execution_count": 22,
   "id": "f4386f7c",
   "metadata": {
    "id": "bf36e69b"
   },
   "outputs": [],
   "source": [
    "data = data.apply(categorize_purpose, axis='columns')"
   ]
  }
 ],
 "metadata": {
  "ExecuteTimeLog": [
   {
    "duration": 384,
    "start_time": "2022-10-17T08:34:49.326Z"
   },
   {
    "duration": 84,
    "start_time": "2022-10-17T08:35:15.752Z"
   },
   {
    "duration": 101,
    "start_time": "2022-10-17T08:35:31.200Z"
   },
   {
    "duration": 365,
    "start_time": "2022-10-17T08:35:37.757Z"
   },
   {
    "duration": 57,
    "start_time": "2022-10-17T08:35:38.123Z"
   },
   {
    "duration": 21,
    "start_time": "2022-10-17T08:35:49.372Z"
   },
   {
    "duration": 14,
    "start_time": "2022-10-17T08:36:12.877Z"
   },
   {
    "duration": 11,
    "start_time": "2022-10-17T08:36:35.070Z"
   },
   {
    "duration": 60,
    "start_time": "2022-10-17T08:45:12.907Z"
   },
   {
    "duration": 7,
    "start_time": "2022-10-17T08:45:20.339Z"
   },
   {
    "duration": 5,
    "start_time": "2022-10-17T08:47:42.900Z"
   },
   {
    "duration": 9,
    "start_time": "2022-10-17T08:52:59.471Z"
   },
   {
    "duration": 412,
    "start_time": "2022-10-17T08:53:40.610Z"
   },
   {
    "duration": 61,
    "start_time": "2022-10-17T08:53:41.423Z"
   },
   {
    "duration": 20,
    "start_time": "2022-10-17T08:53:44.150Z"
   },
   {
    "duration": 14,
    "start_time": "2022-10-17T08:54:02.091Z"
   },
   {
    "duration": 9,
    "start_time": "2022-10-17T08:54:37.196Z"
   },
   {
    "duration": 9,
    "start_time": "2022-10-17T08:55:17.036Z"
   },
   {
    "duration": 99,
    "start_time": "2022-10-17T09:01:31.800Z"
   },
   {
    "duration": 2,
    "start_time": "2022-10-17T09:01:44.288Z"
   },
   {
    "duration": 60,
    "start_time": "2022-10-17T09:03:10.689Z"
   },
   {
    "duration": 18,
    "start_time": "2022-10-17T09:03:48.777Z"
   },
   {
    "duration": 361,
    "start_time": "2022-10-17T09:04:19.256Z"
   },
   {
    "duration": 59,
    "start_time": "2022-10-17T09:04:19.621Z"
   },
   {
    "duration": 22,
    "start_time": "2022-10-17T09:04:19.681Z"
   },
   {
    "duration": 22,
    "start_time": "2022-10-17T09:04:19.704Z"
   },
   {
    "duration": 10,
    "start_time": "2022-10-17T09:04:19.728Z"
   },
   {
    "duration": 8,
    "start_time": "2022-10-17T09:04:22.381Z"
   },
   {
    "duration": 73,
    "start_time": "2022-10-17T09:09:35.945Z"
   },
   {
    "duration": 378,
    "start_time": "2022-10-17T10:47:40.237Z"
   },
   {
    "duration": 66,
    "start_time": "2022-10-17T10:47:40.617Z"
   },
   {
    "duration": 20,
    "start_time": "2022-10-17T10:47:40.685Z"
   },
   {
    "duration": 25,
    "start_time": "2022-10-17T10:47:40.707Z"
   },
   {
    "duration": 10,
    "start_time": "2022-10-17T10:47:40.733Z"
   },
   {
    "duration": 9,
    "start_time": "2022-10-17T10:47:40.744Z"
   },
   {
    "duration": 4,
    "start_time": "2022-10-17T10:49:13.725Z"
   },
   {
    "duration": 73,
    "start_time": "2022-10-17T10:49:44.374Z"
   },
   {
    "duration": 8,
    "start_time": "2022-10-17T10:55:55.744Z"
   },
   {
    "duration": 7,
    "start_time": "2022-10-17T10:56:09.577Z"
   },
   {
    "duration": 13,
    "start_time": "2022-10-17T10:56:53.641Z"
   },
   {
    "duration": 6,
    "start_time": "2022-10-17T10:59:41.907Z"
   },
   {
    "duration": 32,
    "start_time": "2022-10-17T10:59:50.204Z"
   },
   {
    "duration": 908,
    "start_time": "2022-10-17T11:03:34.986Z"
   },
   {
    "duration": 57,
    "start_time": "2022-10-17T11:04:51.806Z"
   },
   {
    "duration": 417,
    "start_time": "2022-10-17T11:05:07.209Z"
   },
   {
    "duration": 60,
    "start_time": "2022-10-17T11:05:07.628Z"
   },
   {
    "duration": 21,
    "start_time": "2022-10-17T11:05:07.690Z"
   },
   {
    "duration": 17,
    "start_time": "2022-10-17T11:05:07.712Z"
   },
   {
    "duration": 9,
    "start_time": "2022-10-17T11:05:07.731Z"
   },
   {
    "duration": 761,
    "start_time": "2022-10-17T11:05:07.741Z"
   },
   {
    "duration": 912,
    "start_time": "2022-10-17T11:05:49.921Z"
   },
   {
    "duration": 930,
    "start_time": "2022-10-17T11:06:22.152Z"
   },
   {
    "duration": 6,
    "start_time": "2022-10-17T11:07:18.345Z"
   },
   {
    "duration": 7,
    "start_time": "2022-10-17T11:07:23.096Z"
   },
   {
    "duration": 34,
    "start_time": "2022-10-17T11:07:36.392Z"
   },
   {
    "duration": 405,
    "start_time": "2022-10-17T11:07:59.499Z"
   },
   {
    "duration": 62,
    "start_time": "2022-10-17T11:07:59.906Z"
   },
   {
    "duration": 21,
    "start_time": "2022-10-17T11:07:59.969Z"
   },
   {
    "duration": 14,
    "start_time": "2022-10-17T11:07:59.991Z"
   },
   {
    "duration": 23,
    "start_time": "2022-10-17T11:08:00.007Z"
   },
   {
    "duration": 24,
    "start_time": "2022-10-17T11:08:00.031Z"
   },
   {
    "duration": 361,
    "start_time": "2022-10-17T11:09:10.057Z"
   },
   {
    "duration": 57,
    "start_time": "2022-10-17T11:09:10.423Z"
   },
   {
    "duration": 20,
    "start_time": "2022-10-17T11:09:10.482Z"
   },
   {
    "duration": 23,
    "start_time": "2022-10-17T11:09:10.504Z"
   },
   {
    "duration": 9,
    "start_time": "2022-10-17T11:09:10.529Z"
   },
   {
    "duration": 67,
    "start_time": "2022-10-17T11:09:10.539Z"
   },
   {
    "duration": 409,
    "start_time": "2022-10-17T11:09:19.699Z"
   },
   {
    "duration": 59,
    "start_time": "2022-10-17T11:09:20.109Z"
   },
   {
    "duration": 19,
    "start_time": "2022-10-17T11:09:20.170Z"
   },
   {
    "duration": 13,
    "start_time": "2022-10-17T11:09:20.191Z"
   },
   {
    "duration": 19,
    "start_time": "2022-10-17T11:09:20.206Z"
   },
   {
    "duration": 24,
    "start_time": "2022-10-17T11:09:20.226Z"
   },
   {
    "duration": 4,
    "start_time": "2022-10-17T11:11:00.921Z"
   },
   {
    "duration": 397,
    "start_time": "2022-10-17T11:12:29.213Z"
   },
   {
    "duration": 58,
    "start_time": "2022-10-17T11:12:29.611Z"
   },
   {
    "duration": 20,
    "start_time": "2022-10-17T11:12:29.671Z"
   },
   {
    "duration": 13,
    "start_time": "2022-10-17T11:12:29.692Z"
   },
   {
    "duration": 24,
    "start_time": "2022-10-17T11:12:29.707Z"
   },
   {
    "duration": 28,
    "start_time": "2022-10-17T11:12:29.732Z"
   },
   {
    "duration": 3,
    "start_time": "2022-10-17T11:12:29.761Z"
   },
   {
    "duration": 4,
    "start_time": "2022-10-17T11:15:32.630Z"
   },
   {
    "duration": 9,
    "start_time": "2022-10-17T11:15:39.359Z"
   },
   {
    "duration": 4,
    "start_time": "2022-10-17T11:16:52.672Z"
   },
   {
    "duration": 95,
    "start_time": "2022-10-17T11:18:38.898Z"
   },
   {
    "duration": 16,
    "start_time": "2022-10-17T11:18:58.769Z"
   },
   {
    "duration": 8,
    "start_time": "2022-10-17T11:19:25.362Z"
   },
   {
    "duration": 20,
    "start_time": "2022-10-17T11:19:52.331Z"
   },
   {
    "duration": 399,
    "start_time": "2022-10-17T11:20:04.123Z"
   },
   {
    "duration": 59,
    "start_time": "2022-10-17T11:20:04.524Z"
   },
   {
    "duration": 20,
    "start_time": "2022-10-17T11:20:04.585Z"
   },
   {
    "duration": 29,
    "start_time": "2022-10-17T11:20:04.606Z"
   },
   {
    "duration": 37,
    "start_time": "2022-10-17T11:20:04.637Z"
   },
   {
    "duration": 36,
    "start_time": "2022-10-17T11:20:04.676Z"
   },
   {
    "duration": 3,
    "start_time": "2022-10-17T11:20:04.714Z"
   },
   {
    "duration": 37,
    "start_time": "2022-10-17T11:20:04.719Z"
   },
   {
    "duration": 23,
    "start_time": "2022-10-17T11:20:04.758Z"
   },
   {
    "duration": 44,
    "start_time": "2022-10-17T11:20:04.783Z"
   },
   {
    "duration": 62,
    "start_time": "2022-10-17T11:21:21.755Z"
   },
   {
    "duration": 9,
    "start_time": "2022-10-17T11:21:26.882Z"
   },
   {
    "duration": 6,
    "start_time": "2022-10-17T11:24:28.124Z"
   },
   {
    "duration": 44,
    "start_time": "2022-10-17T11:24:46.261Z"
   },
   {
    "duration": 8,
    "start_time": "2022-10-17T11:24:57.693Z"
   },
   {
    "duration": 10,
    "start_time": "2022-10-17T11:25:06.421Z"
   },
   {
    "duration": 411,
    "start_time": "2022-10-17T11:25:27.105Z"
   },
   {
    "duration": 64,
    "start_time": "2022-10-17T11:25:27.518Z"
   },
   {
    "duration": 19,
    "start_time": "2022-10-17T11:25:27.584Z"
   },
   {
    "duration": 19,
    "start_time": "2022-10-17T11:25:27.605Z"
   },
   {
    "duration": 8,
    "start_time": "2022-10-17T11:25:27.626Z"
   },
   {
    "duration": 32,
    "start_time": "2022-10-17T11:25:27.635Z"
   },
   {
    "duration": 3,
    "start_time": "2022-10-17T11:25:27.669Z"
   },
   {
    "duration": 15,
    "start_time": "2022-10-17T11:25:27.673Z"
   },
   {
    "duration": 4,
    "start_time": "2022-10-17T11:25:27.689Z"
   },
   {
    "duration": 10,
    "start_time": "2022-10-17T11:25:27.695Z"
   },
   {
    "duration": 63,
    "start_time": "2022-10-17T11:25:51.194Z"
   },
   {
    "duration": 5,
    "start_time": "2022-10-17T11:26:06.418Z"
   },
   {
    "duration": 367,
    "start_time": "2022-10-17T11:42:43.145Z"
   },
   {
    "duration": 59,
    "start_time": "2022-10-17T11:42:43.514Z"
   },
   {
    "duration": 21,
    "start_time": "2022-10-17T11:42:43.575Z"
   },
   {
    "duration": 25,
    "start_time": "2022-10-17T11:42:43.597Z"
   },
   {
    "duration": 9,
    "start_time": "2022-10-17T11:42:43.624Z"
   },
   {
    "duration": 25,
    "start_time": "2022-10-17T11:42:43.635Z"
   },
   {
    "duration": 3,
    "start_time": "2022-10-17T11:42:43.661Z"
   },
   {
    "duration": 9,
    "start_time": "2022-10-17T11:42:43.666Z"
   },
   {
    "duration": 4,
    "start_time": "2022-10-17T11:42:43.677Z"
   },
   {
    "duration": 8,
    "start_time": "2022-10-17T11:42:43.683Z"
   },
   {
    "duration": 31,
    "start_time": "2022-10-17T11:42:43.692Z"
   },
   {
    "duration": 414,
    "start_time": "2022-10-17T11:43:14.253Z"
   },
   {
    "duration": 59,
    "start_time": "2022-10-17T11:43:14.669Z"
   },
   {
    "duration": 21,
    "start_time": "2022-10-17T11:43:14.729Z"
   },
   {
    "duration": 14,
    "start_time": "2022-10-17T11:43:14.751Z"
   },
   {
    "duration": 9,
    "start_time": "2022-10-17T11:43:14.767Z"
   },
   {
    "duration": 50,
    "start_time": "2022-10-17T11:43:14.777Z"
   },
   {
    "duration": 3,
    "start_time": "2022-10-17T11:43:14.829Z"
   },
   {
    "duration": 10,
    "start_time": "2022-10-17T11:43:14.833Z"
   },
   {
    "duration": 3,
    "start_time": "2022-10-17T11:43:14.844Z"
   },
   {
    "duration": 8,
    "start_time": "2022-10-17T11:43:14.849Z"
   },
   {
    "duration": 4,
    "start_time": "2022-10-17T11:43:14.858Z"
   },
   {
    "duration": 4,
    "start_time": "2022-10-17T11:54:08.359Z"
   },
   {
    "duration": 69,
    "start_time": "2022-10-17T11:54:38.143Z"
   },
   {
    "duration": 407,
    "start_time": "2022-10-17T11:55:00.207Z"
   },
   {
    "duration": 60,
    "start_time": "2022-10-17T11:55:00.616Z"
   },
   {
    "duration": 20,
    "start_time": "2022-10-17T11:55:00.678Z"
   },
   {
    "duration": 28,
    "start_time": "2022-10-17T11:55:00.700Z"
   },
   {
    "duration": 26,
    "start_time": "2022-10-17T11:55:00.730Z"
   },
   {
    "duration": 42,
    "start_time": "2022-10-17T11:55:00.758Z"
   },
   {
    "duration": 26,
    "start_time": "2022-10-17T11:55:00.802Z"
   },
   {
    "duration": 30,
    "start_time": "2022-10-17T11:55:00.830Z"
   },
   {
    "duration": 18,
    "start_time": "2022-10-17T11:55:00.862Z"
   },
   {
    "duration": 28,
    "start_time": "2022-10-17T11:55:00.882Z"
   },
   {
    "duration": 26,
    "start_time": "2022-10-17T11:55:00.912Z"
   },
   {
    "duration": 100,
    "start_time": "2022-10-17T11:55:00.939Z"
   },
   {
    "duration": 429,
    "start_time": "2022-10-17T11:56:11.513Z"
   },
   {
    "duration": 59,
    "start_time": "2022-10-17T11:56:11.944Z"
   },
   {
    "duration": 19,
    "start_time": "2022-10-17T11:56:12.005Z"
   },
   {
    "duration": 13,
    "start_time": "2022-10-17T11:56:12.026Z"
   },
   {
    "duration": 9,
    "start_time": "2022-10-17T11:56:12.041Z"
   },
   {
    "duration": 29,
    "start_time": "2022-10-17T11:56:12.051Z"
   },
   {
    "duration": 3,
    "start_time": "2022-10-17T11:56:12.082Z"
   },
   {
    "duration": 17,
    "start_time": "2022-10-17T11:56:12.087Z"
   },
   {
    "duration": 4,
    "start_time": "2022-10-17T11:56:12.122Z"
   },
   {
    "duration": 8,
    "start_time": "2022-10-17T11:56:12.128Z"
   },
   {
    "duration": 4,
    "start_time": "2022-10-17T11:56:12.137Z"
   },
   {
    "duration": 26,
    "start_time": "2022-10-17T11:56:12.143Z"
   },
   {
    "duration": 10,
    "start_time": "2022-10-17T11:56:37.208Z"
   },
   {
    "duration": 6,
    "start_time": "2022-10-17T11:58:36.163Z"
   },
   {
    "duration": 390,
    "start_time": "2022-10-17T11:59:06.260Z"
   },
   {
    "duration": 66,
    "start_time": "2022-10-17T11:59:06.652Z"
   },
   {
    "duration": 27,
    "start_time": "2022-10-17T11:59:06.719Z"
   },
   {
    "duration": 18,
    "start_time": "2022-10-17T11:59:06.748Z"
   },
   {
    "duration": 18,
    "start_time": "2022-10-17T11:59:06.769Z"
   },
   {
    "duration": 53,
    "start_time": "2022-10-17T11:59:06.789Z"
   },
   {
    "duration": 4,
    "start_time": "2022-10-17T11:59:06.844Z"
   },
   {
    "duration": 27,
    "start_time": "2022-10-17T11:59:06.849Z"
   },
   {
    "duration": 10,
    "start_time": "2022-10-17T11:59:06.877Z"
   },
   {
    "duration": 17,
    "start_time": "2022-10-17T11:59:06.889Z"
   },
   {
    "duration": 15,
    "start_time": "2022-10-17T11:59:06.907Z"
   },
   {
    "duration": 36,
    "start_time": "2022-10-17T11:59:06.924Z"
   },
   {
    "duration": 9,
    "start_time": "2022-10-17T11:59:06.962Z"
   },
   {
    "duration": 6,
    "start_time": "2022-10-17T11:59:09.843Z"
   },
   {
    "duration": 5,
    "start_time": "2022-10-17T11:59:24.116Z"
   },
   {
    "duration": 388,
    "start_time": "2022-10-17T11:59:29.620Z"
   },
   {
    "duration": 61,
    "start_time": "2022-10-17T11:59:30.010Z"
   },
   {
    "duration": 20,
    "start_time": "2022-10-17T11:59:30.073Z"
   },
   {
    "duration": 15,
    "start_time": "2022-10-17T11:59:30.095Z"
   },
   {
    "duration": 9,
    "start_time": "2022-10-17T11:59:30.122Z"
   },
   {
    "duration": 26,
    "start_time": "2022-10-17T11:59:30.133Z"
   },
   {
    "duration": 3,
    "start_time": "2022-10-17T11:59:30.160Z"
   },
   {
    "duration": 16,
    "start_time": "2022-10-17T11:59:30.165Z"
   },
   {
    "duration": 18,
    "start_time": "2022-10-17T11:59:30.183Z"
   },
   {
    "duration": 23,
    "start_time": "2022-10-17T11:59:30.203Z"
   },
   {
    "duration": 17,
    "start_time": "2022-10-17T11:59:30.227Z"
   },
   {
    "duration": 37,
    "start_time": "2022-10-17T11:59:30.245Z"
   },
   {
    "duration": 20,
    "start_time": "2022-10-17T11:59:30.283Z"
   },
   {
    "duration": 16,
    "start_time": "2022-10-17T11:59:30.305Z"
   },
   {
    "duration": 7,
    "start_time": "2022-10-17T12:01:05.337Z"
   },
   {
    "duration": 15,
    "start_time": "2022-10-17T12:01:30.880Z"
   },
   {
    "duration": 20,
    "start_time": "2022-10-17T12:01:49.021Z"
   },
   {
    "duration": 58,
    "start_time": "2022-10-17T12:02:35.234Z"
   },
   {
    "duration": 25,
    "start_time": "2022-10-17T12:02:50.130Z"
   },
   {
    "duration": 29,
    "start_time": "2022-10-17T12:03:14.226Z"
   },
   {
    "duration": 26,
    "start_time": "2022-10-17T12:03:28.226Z"
   },
   {
    "duration": 25,
    "start_time": "2022-10-17T12:03:35.786Z"
   },
   {
    "duration": 20,
    "start_time": "2022-10-17T12:05:42.650Z"
   },
   {
    "duration": 363,
    "start_time": "2022-10-17T12:06:10.177Z"
   },
   {
    "duration": 60,
    "start_time": "2022-10-17T12:06:10.542Z"
   },
   {
    "duration": 21,
    "start_time": "2022-10-17T12:06:10.603Z"
   },
   {
    "duration": 16,
    "start_time": "2022-10-17T12:06:10.625Z"
   },
   {
    "duration": 9,
    "start_time": "2022-10-17T12:06:10.643Z"
   },
   {
    "duration": 25,
    "start_time": "2022-10-17T12:06:10.654Z"
   },
   {
    "duration": 3,
    "start_time": "2022-10-17T12:06:10.681Z"
   },
   {
    "duration": 36,
    "start_time": "2022-10-17T12:06:10.686Z"
   },
   {
    "duration": 5,
    "start_time": "2022-10-17T12:06:10.724Z"
   },
   {
    "duration": 10,
    "start_time": "2022-10-17T12:06:10.730Z"
   },
   {
    "duration": 4,
    "start_time": "2022-10-17T12:06:10.741Z"
   },
   {
    "duration": 25,
    "start_time": "2022-10-17T12:06:10.746Z"
   },
   {
    "duration": 10,
    "start_time": "2022-10-17T12:06:10.772Z"
   },
   {
    "duration": 4,
    "start_time": "2022-10-17T12:06:10.784Z"
   },
   {
    "duration": 51,
    "start_time": "2022-10-17T12:06:10.789Z"
   },
   {
    "duration": 16,
    "start_time": "2022-10-17T12:06:10.841Z"
   },
   {
    "duration": 422,
    "start_time": "2022-10-17T12:07:42.508Z"
   },
   {
    "duration": 60,
    "start_time": "2022-10-17T12:07:42.932Z"
   },
   {
    "duration": 21,
    "start_time": "2022-10-17T12:07:42.994Z"
   },
   {
    "duration": 17,
    "start_time": "2022-10-17T12:07:43.017Z"
   },
   {
    "duration": 9,
    "start_time": "2022-10-17T12:07:43.036Z"
   },
   {
    "duration": 26,
    "start_time": "2022-10-17T12:07:43.046Z"
   },
   {
    "duration": 4,
    "start_time": "2022-10-17T12:07:43.074Z"
   },
   {
    "duration": 9,
    "start_time": "2022-10-17T12:07:43.080Z"
   },
   {
    "duration": 4,
    "start_time": "2022-10-17T12:07:43.090Z"
   },
   {
    "duration": 7,
    "start_time": "2022-10-17T12:07:43.122Z"
   },
   {
    "duration": 5,
    "start_time": "2022-10-17T12:07:43.131Z"
   },
   {
    "duration": 23,
    "start_time": "2022-10-17T12:07:43.137Z"
   },
   {
    "duration": 8,
    "start_time": "2022-10-17T12:07:43.162Z"
   },
   {
    "duration": 3,
    "start_time": "2022-10-17T12:07:43.172Z"
   },
   {
    "duration": 19,
    "start_time": "2022-10-17T12:07:43.176Z"
   },
   {
    "duration": 362,
    "start_time": "2022-10-17T12:08:04.763Z"
   },
   {
    "duration": 60,
    "start_time": "2022-10-17T12:08:05.126Z"
   },
   {
    "duration": 21,
    "start_time": "2022-10-17T12:08:05.188Z"
   },
   {
    "duration": 28,
    "start_time": "2022-10-17T12:08:05.211Z"
   },
   {
    "duration": 13,
    "start_time": "2022-10-17T12:08:05.241Z"
   },
   {
    "duration": 48,
    "start_time": "2022-10-17T12:08:05.256Z"
   },
   {
    "duration": 3,
    "start_time": "2022-10-17T12:08:05.306Z"
   },
   {
    "duration": 25,
    "start_time": "2022-10-17T12:08:05.311Z"
   },
   {
    "duration": 16,
    "start_time": "2022-10-17T12:08:05.338Z"
   },
   {
    "duration": 43,
    "start_time": "2022-10-17T12:08:05.355Z"
   },
   {
    "duration": 48,
    "start_time": "2022-10-17T12:08:05.400Z"
   },
   {
    "duration": 37,
    "start_time": "2022-10-17T12:08:05.450Z"
   },
   {
    "duration": 12,
    "start_time": "2022-10-17T12:08:05.489Z"
   },
   {
    "duration": 25,
    "start_time": "2022-10-17T12:08:05.503Z"
   },
   {
    "duration": 18,
    "start_time": "2022-10-17T12:08:05.530Z"
   },
   {
    "duration": 18,
    "start_time": "2022-10-17T12:08:34.417Z"
   },
   {
    "duration": 30,
    "start_time": "2022-10-17T12:08:46.872Z"
   },
   {
    "duration": 361,
    "start_time": "2022-10-17T12:08:59.549Z"
   },
   {
    "duration": 60,
    "start_time": "2022-10-17T12:08:59.912Z"
   },
   {
    "duration": 21,
    "start_time": "2022-10-17T12:08:59.973Z"
   },
   {
    "duration": 19,
    "start_time": "2022-10-17T12:08:59.995Z"
   },
   {
    "duration": 13,
    "start_time": "2022-10-17T12:09:00.022Z"
   },
   {
    "duration": 37,
    "start_time": "2022-10-17T12:09:00.036Z"
   },
   {
    "duration": 3,
    "start_time": "2022-10-17T12:09:00.075Z"
   },
   {
    "duration": 18,
    "start_time": "2022-10-17T12:09:00.079Z"
   },
   {
    "duration": 8,
    "start_time": "2022-10-17T12:09:00.099Z"
   },
   {
    "duration": 11,
    "start_time": "2022-10-17T12:09:00.108Z"
   },
   {
    "duration": 14,
    "start_time": "2022-10-17T12:09:00.120Z"
   },
   {
    "duration": 39,
    "start_time": "2022-10-17T12:09:00.136Z"
   },
   {
    "duration": 19,
    "start_time": "2022-10-17T12:09:00.177Z"
   },
   {
    "duration": 22,
    "start_time": "2022-10-17T12:09:00.198Z"
   },
   {
    "duration": 20,
    "start_time": "2022-10-17T12:09:00.221Z"
   },
   {
    "duration": 35,
    "start_time": "2022-10-17T12:09:00.242Z"
   },
   {
    "duration": 17,
    "start_time": "2022-10-17T12:09:00.279Z"
   },
   {
    "duration": 3,
    "start_time": "2022-10-17T12:15:33.132Z"
   },
   {
    "duration": 12696,
    "start_time": "2022-10-17T12:15:59.148Z"
   },
   {
    "duration": 5,
    "start_time": "2022-10-17T12:16:39.212Z"
   },
   {
    "duration": 6,
    "start_time": "2022-10-17T12:16:42.948Z"
   },
   {
    "duration": 432,
    "start_time": "2022-10-17T12:17:08.397Z"
   },
   {
    "duration": 62,
    "start_time": "2022-10-17T12:17:08.831Z"
   },
   {
    "duration": 25,
    "start_time": "2022-10-17T12:17:08.895Z"
   },
   {
    "duration": 21,
    "start_time": "2022-10-17T12:17:08.922Z"
   },
   {
    "duration": 9,
    "start_time": "2022-10-17T12:17:08.945Z"
   },
   {
    "duration": 27,
    "start_time": "2022-10-17T12:17:08.955Z"
   },
   {
    "duration": 3,
    "start_time": "2022-10-17T12:17:08.984Z"
   },
   {
    "duration": 40,
    "start_time": "2022-10-17T12:17:08.988Z"
   },
   {
    "duration": 6,
    "start_time": "2022-10-17T12:17:09.030Z"
   },
   {
    "duration": 11,
    "start_time": "2022-10-17T12:17:09.038Z"
   },
   {
    "duration": 5,
    "start_time": "2022-10-17T12:17:09.050Z"
   },
   {
    "duration": 28,
    "start_time": "2022-10-17T12:17:09.057Z"
   },
   {
    "duration": 11,
    "start_time": "2022-10-17T12:17:09.087Z"
   },
   {
    "duration": 4,
    "start_time": "2022-10-17T12:17:09.122Z"
   },
   {
    "duration": 18,
    "start_time": "2022-10-17T12:17:09.127Z"
   },
   {
    "duration": 21,
    "start_time": "2022-10-17T12:17:09.147Z"
   },
   {
    "duration": 19,
    "start_time": "2022-10-17T12:17:09.170Z"
   },
   {
    "duration": 4,
    "start_time": "2022-10-17T12:17:09.190Z"
   },
   {
    "duration": 12981,
    "start_time": "2022-10-17T12:17:09.196Z"
   },
   {
    "duration": 6,
    "start_time": "2022-10-17T12:17:22.178Z"
   },
   {
    "duration": 4,
    "start_time": "2022-10-17T12:23:09.046Z"
   },
   {
    "duration": 77,
    "start_time": "2022-10-17T12:23:21.562Z"
   },
   {
    "duration": 384,
    "start_time": "2022-10-17T12:23:35.184Z"
   },
   {
    "duration": 58,
    "start_time": "2022-10-17T12:23:35.570Z"
   },
   {
    "duration": 27,
    "start_time": "2022-10-17T12:23:35.631Z"
   },
   {
    "duration": 22,
    "start_time": "2022-10-17T12:23:35.660Z"
   },
   {
    "duration": 10,
    "start_time": "2022-10-17T12:23:35.684Z"
   },
   {
    "duration": 35,
    "start_time": "2022-10-17T12:23:35.696Z"
   },
   {
    "duration": 5,
    "start_time": "2022-10-17T12:23:35.733Z"
   },
   {
    "duration": 24,
    "start_time": "2022-10-17T12:23:35.741Z"
   },
   {
    "duration": 3,
    "start_time": "2022-10-17T12:23:35.767Z"
   },
   {
    "duration": 8,
    "start_time": "2022-10-17T12:23:35.772Z"
   },
   {
    "duration": 4,
    "start_time": "2022-10-17T12:23:35.781Z"
   },
   {
    "duration": 42,
    "start_time": "2022-10-17T12:23:35.786Z"
   },
   {
    "duration": 17,
    "start_time": "2022-10-17T12:23:35.830Z"
   },
   {
    "duration": 6,
    "start_time": "2022-10-17T12:23:35.849Z"
   },
   {
    "duration": 15,
    "start_time": "2022-10-17T12:23:35.856Z"
   },
   {
    "duration": 18,
    "start_time": "2022-10-17T12:23:35.873Z"
   },
   {
    "duration": 36,
    "start_time": "2022-10-17T12:23:35.892Z"
   },
   {
    "duration": 6,
    "start_time": "2022-10-17T12:23:35.930Z"
   },
   {
    "duration": 13847,
    "start_time": "2022-10-17T12:23:35.938Z"
   },
   {
    "duration": 6,
    "start_time": "2022-10-17T12:23:49.788Z"
   },
   {
    "duration": 16,
    "start_time": "2022-10-17T12:23:49.796Z"
   },
   {
    "duration": 13586,
    "start_time": "2022-10-17T12:23:49.814Z"
   },
   {
    "duration": 436,
    "start_time": "2022-10-17T12:24:33.602Z"
   },
   {
    "duration": 58,
    "start_time": "2022-10-17T12:24:34.039Z"
   },
   {
    "duration": 25,
    "start_time": "2022-10-17T12:24:34.099Z"
   },
   {
    "duration": 24,
    "start_time": "2022-10-17T12:24:34.126Z"
   },
   {
    "duration": 10,
    "start_time": "2022-10-17T12:24:34.151Z"
   },
   {
    "duration": 24,
    "start_time": "2022-10-17T12:24:34.162Z"
   },
   {
    "duration": 3,
    "start_time": "2022-10-17T12:24:34.188Z"
   },
   {
    "duration": 34,
    "start_time": "2022-10-17T12:24:34.192Z"
   },
   {
    "duration": 4,
    "start_time": "2022-10-17T12:24:34.227Z"
   },
   {
    "duration": 19,
    "start_time": "2022-10-17T12:24:34.235Z"
   },
   {
    "duration": 5,
    "start_time": "2022-10-17T12:24:34.256Z"
   },
   {
    "duration": 27,
    "start_time": "2022-10-17T12:24:34.263Z"
   },
   {
    "duration": 9,
    "start_time": "2022-10-17T12:24:34.291Z"
   },
   {
    "duration": 5,
    "start_time": "2022-10-17T12:24:34.329Z"
   },
   {
    "duration": 14,
    "start_time": "2022-10-17T12:24:34.337Z"
   },
   {
    "duration": 18,
    "start_time": "2022-10-17T12:24:34.353Z"
   },
   {
    "duration": 15,
    "start_time": "2022-10-17T12:24:34.373Z"
   },
   {
    "duration": 3,
    "start_time": "2022-10-17T12:24:34.389Z"
   },
   {
    "duration": 389,
    "start_time": "2022-10-17T12:25:33.546Z"
   },
   {
    "duration": 62,
    "start_time": "2022-10-17T12:25:33.937Z"
   },
   {
    "duration": 24,
    "start_time": "2022-10-17T12:25:34.000Z"
   },
   {
    "duration": 17,
    "start_time": "2022-10-17T12:25:34.027Z"
   },
   {
    "duration": 10,
    "start_time": "2022-10-17T12:25:34.046Z"
   },
   {
    "duration": 27,
    "start_time": "2022-10-17T12:25:34.057Z"
   },
   {
    "duration": 3,
    "start_time": "2022-10-17T12:25:34.086Z"
   },
   {
    "duration": 42,
    "start_time": "2022-10-17T12:25:34.090Z"
   },
   {
    "duration": 14,
    "start_time": "2022-10-17T12:25:34.135Z"
   },
   {
    "duration": 12,
    "start_time": "2022-10-17T12:25:34.151Z"
   },
   {
    "duration": 7,
    "start_time": "2022-10-17T12:25:34.164Z"
   },
   {
    "duration": 52,
    "start_time": "2022-10-17T12:25:34.172Z"
   },
   {
    "duration": 20,
    "start_time": "2022-10-17T12:25:34.225Z"
   },
   {
    "duration": 4,
    "start_time": "2022-10-17T12:25:34.247Z"
   },
   {
    "duration": 16,
    "start_time": "2022-10-17T12:25:34.253Z"
   },
   {
    "duration": 16,
    "start_time": "2022-10-17T12:25:34.270Z"
   },
   {
    "duration": 64,
    "start_time": "2022-10-17T12:25:34.287Z"
   },
   {
    "duration": 3,
    "start_time": "2022-10-17T12:25:34.352Z"
   },
   {
    "duration": 13681,
    "start_time": "2022-10-17T12:25:34.357Z"
   },
   {
    "duration": 9,
    "start_time": "2022-10-17T12:25:48.040Z"
   },
   {
    "duration": 9,
    "start_time": "2022-10-17T12:25:48.051Z"
   },
   {
    "duration": 13162,
    "start_time": "2022-10-17T12:25:48.062Z"
   },
   {
    "duration": 7,
    "start_time": "2022-10-17T12:26:01.227Z"
   },
   {
    "duration": 5,
    "start_time": "2022-10-17T12:26:38.095Z"
   },
   {
    "duration": 9,
    "start_time": "2022-10-17T12:26:41.639Z"
   },
   {
    "duration": 13,
    "start_time": "2022-10-17T12:28:54.030Z"
   },
   {
    "duration": 393,
    "start_time": "2022-10-17T12:31:03.022Z"
   },
   {
    "duration": 74,
    "start_time": "2022-10-17T12:31:03.417Z"
   },
   {
    "duration": 36,
    "start_time": "2022-10-17T12:31:03.493Z"
   },
   {
    "duration": 18,
    "start_time": "2022-10-17T12:31:03.533Z"
   },
   {
    "duration": 12,
    "start_time": "2022-10-17T12:31:03.553Z"
   },
   {
    "duration": 60,
    "start_time": "2022-10-17T12:31:03.567Z"
   },
   {
    "duration": 4,
    "start_time": "2022-10-17T12:31:03.630Z"
   },
   {
    "duration": 30,
    "start_time": "2022-10-17T12:31:03.637Z"
   },
   {
    "duration": 11,
    "start_time": "2022-10-17T12:31:03.668Z"
   },
   {
    "duration": 15,
    "start_time": "2022-10-17T12:31:03.681Z"
   },
   {
    "duration": 8,
    "start_time": "2022-10-17T12:31:03.697Z"
   },
   {
    "duration": 37,
    "start_time": "2022-10-17T12:31:03.706Z"
   },
   {
    "duration": 13,
    "start_time": "2022-10-17T12:31:03.745Z"
   },
   {
    "duration": 4,
    "start_time": "2022-10-17T12:31:03.759Z"
   },
   {
    "duration": 32,
    "start_time": "2022-10-17T12:31:03.765Z"
   },
   {
    "duration": 37,
    "start_time": "2022-10-17T12:31:03.798Z"
   },
   {
    "duration": 20,
    "start_time": "2022-10-17T12:31:03.838Z"
   },
   {
    "duration": 11,
    "start_time": "2022-10-17T12:31:03.860Z"
   },
   {
    "duration": 13047,
    "start_time": "2022-10-17T12:31:03.872Z"
   },
   {
    "duration": 9,
    "start_time": "2022-10-17T12:31:16.921Z"
   },
   {
    "duration": 9,
    "start_time": "2022-10-17T12:31:16.931Z"
   },
   {
    "duration": 84,
    "start_time": "2022-10-17T12:31:16.941Z"
   },
   {
    "duration": 0,
    "start_time": "2022-10-17T12:31:17.028Z"
   },
   {
    "duration": 6,
    "start_time": "2022-10-17T12:31:37.122Z"
   },
   {
    "duration": 17,
    "start_time": "2022-10-17T12:31:37.347Z"
   },
   {
    "duration": 4,
    "start_time": "2022-10-17T12:34:20.204Z"
   },
   {
    "duration": 12894,
    "start_time": "2022-10-17T12:34:20.412Z"
   },
   {
    "duration": 16,
    "start_time": "2022-10-17T12:34:33.308Z"
   },
   {
    "duration": 6,
    "start_time": "2022-10-17T12:35:39.974Z"
   },
   {
    "duration": 1641,
    "start_time": "2022-10-17T12:35:40.276Z"
   },
   {
    "duration": 23,
    "start_time": "2022-10-17T12:35:41.919Z"
   },
   {
    "duration": 373,
    "start_time": "2022-10-17T12:35:48.161Z"
   },
   {
    "duration": 65,
    "start_time": "2022-10-17T12:35:48.536Z"
   },
   {
    "duration": 41,
    "start_time": "2022-10-17T12:35:48.603Z"
   },
   {
    "duration": 15,
    "start_time": "2022-10-17T12:35:48.646Z"
   },
   {
    "duration": 9,
    "start_time": "2022-10-17T12:35:48.664Z"
   },
   {
    "duration": 65,
    "start_time": "2022-10-17T12:35:48.675Z"
   },
   {
    "duration": 4,
    "start_time": "2022-10-17T12:35:48.742Z"
   },
   {
    "duration": 13,
    "start_time": "2022-10-17T12:35:48.748Z"
   },
   {
    "duration": 13,
    "start_time": "2022-10-17T12:35:48.762Z"
   },
   {
    "duration": 24,
    "start_time": "2022-10-17T12:35:48.777Z"
   },
   {
    "duration": 31,
    "start_time": "2022-10-17T12:35:48.802Z"
   },
   {
    "duration": 27,
    "start_time": "2022-10-17T12:35:48.839Z"
   },
   {
    "duration": 9,
    "start_time": "2022-10-17T12:35:48.868Z"
   },
   {
    "duration": 8,
    "start_time": "2022-10-17T12:35:48.879Z"
   },
   {
    "duration": 16,
    "start_time": "2022-10-17T12:35:48.888Z"
   },
   {
    "duration": 41,
    "start_time": "2022-10-17T12:35:48.905Z"
   },
   {
    "duration": 18,
    "start_time": "2022-10-17T12:35:48.948Z"
   },
   {
    "duration": 4,
    "start_time": "2022-10-17T12:35:48.967Z"
   },
   {
    "duration": 13831,
    "start_time": "2022-10-17T12:35:48.972Z"
   },
   {
    "duration": 20,
    "start_time": "2022-10-17T12:36:02.805Z"
   },
   {
    "duration": 6,
    "start_time": "2022-10-17T12:36:02.827Z"
   },
   {
    "duration": 13633,
    "start_time": "2022-10-17T12:36:02.837Z"
   },
   {
    "duration": 13,
    "start_time": "2022-10-17T12:36:16.472Z"
   },
   {
    "duration": 12,
    "start_time": "2022-10-17T12:37:25.598Z"
   },
   {
    "duration": 5,
    "start_time": "2022-10-17T12:38:16.783Z"
   },
   {
    "duration": 3,
    "start_time": "2022-10-17T12:39:10.664Z"
   },
   {
    "duration": 1734,
    "start_time": "2022-10-17T12:39:11.263Z"
   },
   {
    "duration": 4,
    "start_time": "2022-10-17T12:39:30.695Z"
   },
   {
    "duration": 14,
    "start_time": "2022-10-17T12:39:33.111Z"
   },
   {
    "duration": 439,
    "start_time": "2022-10-17T12:39:49.693Z"
   },
   {
    "duration": 67,
    "start_time": "2022-10-17T12:39:50.135Z"
   },
   {
    "duration": 22,
    "start_time": "2022-10-17T12:39:50.204Z"
   },
   {
    "duration": 29,
    "start_time": "2022-10-17T12:39:50.228Z"
   },
   {
    "duration": 9,
    "start_time": "2022-10-17T12:39:50.260Z"
   },
   {
    "duration": 53,
    "start_time": "2022-10-17T12:39:50.271Z"
   },
   {
    "duration": 6,
    "start_time": "2022-10-17T12:39:50.327Z"
   },
   {
    "duration": 30,
    "start_time": "2022-10-17T12:39:50.335Z"
   },
   {
    "duration": 5,
    "start_time": "2022-10-17T12:39:50.367Z"
   },
   {
    "duration": 11,
    "start_time": "2022-10-17T12:39:50.373Z"
   },
   {
    "duration": 4,
    "start_time": "2022-10-17T12:39:50.385Z"
   },
   {
    "duration": 42,
    "start_time": "2022-10-17T12:39:50.390Z"
   },
   {
    "duration": 14,
    "start_time": "2022-10-17T12:39:50.435Z"
   },
   {
    "duration": 6,
    "start_time": "2022-10-17T12:39:50.452Z"
   },
   {
    "duration": 28,
    "start_time": "2022-10-17T12:39:50.459Z"
   },
   {
    "duration": 21,
    "start_time": "2022-10-17T12:39:50.489Z"
   },
   {
    "duration": 35,
    "start_time": "2022-10-17T12:39:50.512Z"
   },
   {
    "duration": 3,
    "start_time": "2022-10-17T12:39:50.549Z"
   },
   {
    "duration": 12928,
    "start_time": "2022-10-17T12:39:50.553Z"
   },
   {
    "duration": 6,
    "start_time": "2022-10-17T12:40:03.483Z"
   },
   {
    "duration": 6,
    "start_time": "2022-10-17T12:40:03.491Z"
   },
   {
    "duration": 13307,
    "start_time": "2022-10-17T12:40:03.498Z"
   },
   {
    "duration": 3,
    "start_time": "2022-10-17T12:40:56.732Z"
   },
   {
    "duration": 1686,
    "start_time": "2022-10-17T12:40:57.603Z"
   },
   {
    "duration": 6,
    "start_time": "2022-10-17T12:41:16.044Z"
   },
   {
    "duration": 433,
    "start_time": "2022-10-17T12:41:27.703Z"
   },
   {
    "duration": 68,
    "start_time": "2022-10-17T12:41:28.138Z"
   },
   {
    "duration": 34,
    "start_time": "2022-10-17T12:41:28.208Z"
   },
   {
    "duration": 16,
    "start_time": "2022-10-17T12:41:28.249Z"
   },
   {
    "duration": 32,
    "start_time": "2022-10-17T12:41:28.268Z"
   },
   {
    "duration": 59,
    "start_time": "2022-10-17T12:41:28.301Z"
   },
   {
    "duration": 4,
    "start_time": "2022-10-17T12:41:28.362Z"
   },
   {
    "duration": 28,
    "start_time": "2022-10-17T12:41:28.368Z"
   },
   {
    "duration": 36,
    "start_time": "2022-10-17T12:41:28.397Z"
   },
   {
    "duration": 29,
    "start_time": "2022-10-17T12:41:28.435Z"
   },
   {
    "duration": 18,
    "start_time": "2022-10-17T12:41:28.466Z"
   },
   {
    "duration": 42,
    "start_time": "2022-10-17T12:41:28.486Z"
   },
   {
    "duration": 19,
    "start_time": "2022-10-17T12:41:28.531Z"
   },
   {
    "duration": 17,
    "start_time": "2022-10-17T12:41:28.552Z"
   },
   {
    "duration": 35,
    "start_time": "2022-10-17T12:41:28.571Z"
   },
   {
    "duration": 40,
    "start_time": "2022-10-17T12:41:28.608Z"
   },
   {
    "duration": 18,
    "start_time": "2022-10-17T12:41:28.651Z"
   },
   {
    "duration": 9,
    "start_time": "2022-10-17T12:41:28.671Z"
   },
   {
    "duration": 14490,
    "start_time": "2022-10-17T12:41:28.681Z"
   },
   {
    "duration": 7,
    "start_time": "2022-10-17T12:41:43.173Z"
   },
   {
    "duration": 25,
    "start_time": "2022-10-17T12:41:43.182Z"
   },
   {
    "duration": 14073,
    "start_time": "2022-10-17T12:41:43.209Z"
   },
   {
    "duration": 6,
    "start_time": "2022-10-17T12:41:57.284Z"
   }
  ],
  "colab": {
   "name": "dpp_template_part1.ipynb",
   "provenance": []
  },
  "kernelspec": {
   "display_name": "Python 3 (ipykernel)",
   "language": "python",
   "name": "python3"
  },
  "language_info": {
   "codemirror_mode": {
    "name": "ipython",
    "version": 3
   },
   "file_extension": ".py",
   "mimetype": "text/x-python",
   "name": "python",
   "nbconvert_exporter": "python",
   "pygments_lexer": "ipython3",
   "version": "3.10.4"
  },
  "toc": {
   "base_numbering": 1,
   "nav_menu": {},
   "number_sections": true,
   "sideBar": true,
   "skip_h1_title": true,
   "title_cell": "Table of Contents",
   "title_sidebar": "Contents",
   "toc_cell": false,
   "toc_position": {},
   "toc_section_display": true,
   "toc_window_display": false
  }
 },
 "nbformat": 4,
 "nbformat_minor": 5
}
