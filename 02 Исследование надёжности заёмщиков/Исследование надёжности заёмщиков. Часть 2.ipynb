{
 "cells": [
  {
   "cell_type": "markdown",
   "id": "17899224",
   "metadata": {
    "deletable": false,
    "editable": false,
    "id": "c81daeeb"
   },
   "source": [
    "# Исследование надежности заемщиков\n"
   ]
  },
  {
   "cell_type": "markdown",
   "id": "d0ae5933",
   "metadata": {
    "deletable": false,
    "editable": false,
    "id": "827c20bf"
   },
   "source": [
    "Во второй части проекта вы выполните шаги 3 и 4. Их вручную проверит ревьюер.\n",
    "Чтобы вам не пришлось писать код заново для шагов 1 и 2, мы добавили авторские решения в ячейки с кодом. \n",
    "\n"
   ]
  },
  {
   "cell_type": "markdown",
   "id": "255177b7",
   "metadata": {
    "toc": true
   },
   "source": [
    "<h1>Содержание<span class=\"tocSkip\"></span></h1>\n",
    "<div class=\"toc\"><ul class=\"toc-item\"><li><span><a href=\"#Откройте-таблицу-и-изучите-общую-информацию-о-данных\" data-toc-modified-id=\"Откройте-таблицу-и-изучите-общую-информацию-о-данных-1\"><span class=\"toc-item-num\">1&nbsp;&nbsp;</span>Откройте таблицу и изучите общую информацию о данных</a></span></li><li><span><a href=\"#Предобработка-данных\" data-toc-modified-id=\"Предобработка-данных-2\"><span class=\"toc-item-num\">2&nbsp;&nbsp;</span>Предобработка данных</a></span><ul class=\"toc-item\"><li><span><a href=\"#Удаление-пропусков\" data-toc-modified-id=\"Удаление-пропусков-2.1\"><span class=\"toc-item-num\">2.1&nbsp;&nbsp;</span>Удаление пропусков</a></span></li><li><span><a href=\"#Обработка-аномальных-значений\" data-toc-modified-id=\"Обработка-аномальных-значений-2.2\"><span class=\"toc-item-num\">2.2&nbsp;&nbsp;</span>Обработка аномальных значений</a></span></li><li><span><a href=\"#Удаление-пропусков-(продолжение)\" data-toc-modified-id=\"Удаление-пропусков-(продолжение)-2.3\"><span class=\"toc-item-num\">2.3&nbsp;&nbsp;</span>Удаление пропусков (продолжение)</a></span></li><li><span><a href=\"#Изменение-типов-данных\" data-toc-modified-id=\"Изменение-типов-данных-2.4\"><span class=\"toc-item-num\">2.4&nbsp;&nbsp;</span>Изменение типов данных</a></span></li><li><span><a href=\"#Обработка-дубликатов\" data-toc-modified-id=\"Обработка-дубликатов-2.5\"><span class=\"toc-item-num\">2.5&nbsp;&nbsp;</span>Обработка дубликатов</a></span></li><li><span><a href=\"#Категоризация-данных\" data-toc-modified-id=\"Категоризация-данных-2.6\"><span class=\"toc-item-num\">2.6&nbsp;&nbsp;</span>Категоризация данных</a></span></li><li><span><a href=\"#Шаг-3.-Исследуйте-данные-и-ответьте-на-вопросы\" data-toc-modified-id=\"Шаг-3.-Исследуйте-данные-и-ответьте-на-вопросы-2.7\"><span class=\"toc-item-num\">2.7&nbsp;&nbsp;</span>Шаг 3. Исследуйте данные и ответьте на вопросы</a></span><ul class=\"toc-item\"><li><span><a href=\"#3.1-Есть-ли-зависимость-между-количеством-детей-и-возвратом-кредита-в-срок?\" data-toc-modified-id=\"3.1-Есть-ли-зависимость-между-количеством-детей-и-возвратом-кредита-в-срок?-2.7.1\"><span class=\"toc-item-num\">2.7.1&nbsp;&nbsp;</span>3.1 Есть ли зависимость между количеством детей и возвратом кредита в срок?</a></span></li><li><span><a href=\"#3.2-Есть-ли-зависимость-между-семейным-положением-и-возвратом-кредита-в-срок?\" data-toc-modified-id=\"3.2-Есть-ли-зависимость-между-семейным-положением-и-возвратом-кредита-в-срок?-2.7.2\"><span class=\"toc-item-num\">2.7.2&nbsp;&nbsp;</span>3.2 Есть ли зависимость между семейным положением и возвратом кредита в срок?</a></span></li><li><span><a href=\"#3.3-Есть-ли-зависимость-между-уровнем-дохода-и-возвратом-кредита-в-срок?\" data-toc-modified-id=\"3.3-Есть-ли-зависимость-между-уровнем-дохода-и-возвратом-кредита-в-срок?-2.7.3\"><span class=\"toc-item-num\">2.7.3&nbsp;&nbsp;</span>3.3 Есть ли зависимость между уровнем дохода и возвратом кредита в срок?</a></span></li><li><span><a href=\"#3.4-Как-разные-цели-кредита-влияют-на-его-возврат-в-срок?\" data-toc-modified-id=\"3.4-Как-разные-цели-кредита-влияют-на-его-возврат-в-срок?-2.7.4\"><span class=\"toc-item-num\">2.7.4&nbsp;&nbsp;</span>3.4 Как разные цели кредита влияют на его возврат в срок?</a></span></li><li><span><a href=\"#3.5-Приведите-возможные-причины-появления-пропусков-в-исходных-данных.\" data-toc-modified-id=\"3.5-Приведите-возможные-причины-появления-пропусков-в-исходных-данных.-2.7.5\"><span class=\"toc-item-num\">2.7.5&nbsp;&nbsp;</span>3.5 Приведите возможные причины появления пропусков в исходных данных.</a></span></li><li><span><a href=\"#3.6-Объясните,-почему-заполнить-пропуски-медианным-значением-—-лучшее-решение-для-количественных-переменных.\" data-toc-modified-id=\"3.6-Объясните,-почему-заполнить-пропуски-медианным-значением-—-лучшее-решение-для-количественных-переменных.-2.7.6\"><span class=\"toc-item-num\">2.7.6&nbsp;&nbsp;</span>3.6 Объясните, почему заполнить пропуски медианным значением — лучшее решение для количественных переменных.</a></span></li></ul></li><li><span><a href=\"#Шаг-4:-общий-вывод.\" data-toc-modified-id=\"Шаг-4:-общий-вывод.-2.8\"><span class=\"toc-item-num\">2.8&nbsp;&nbsp;</span>Шаг 4: общий вывод.</a></span></li></ul></li></ul></div>"
   ]
  },
  {
   "cell_type": "markdown",
   "id": "f992f332",
   "metadata": {
    "deletable": false,
    "editable": false,
    "id": "744d7639"
   },
   "source": [
    "## Откройте таблицу и изучите общую информацию о данных"
   ]
  },
  {
   "cell_type": "markdown",
   "id": "b11dfa72",
   "metadata": {
    "deletable": false,
    "editable": false,
    "id": "e7a14c31"
   },
   "source": [
    "**Задание 1. Импортируйте библиотеку pandas. Считайте данные из csv-файла в датафрейм и сохраните в переменную `data`. Путь к файлу:**\n",
    "\n",
    "`/datasets/data.csv`"
   ]
  },
  {
   "cell_type": "code",
   "execution_count": 1,
   "id": "3aa930e4",
   "metadata": {
    "deletable": false,
    "id": "7bcf75c9"
   },
   "outputs": [],
   "source": [
    "import pandas as pd\n",
    "\n",
    "try:\n",
    "    data = pd.read_csv('/datasets/data.csv')\n",
    "except:\n",
    "    data = pd.read_csv('https://code.s3.yandex.net/datasets/data.csv')"
   ]
  },
  {
   "cell_type": "markdown",
   "id": "1a5f1964",
   "metadata": {
    "deletable": false,
    "editable": false,
    "id": "b8038fe3"
   },
   "source": [
    "**Задание 2. Выведите первые 20 строчек датафрейма `data` на экран.**"
   ]
  },
  {
   "cell_type": "code",
   "execution_count": 2,
   "id": "003a3d0e",
   "metadata": {
    "deletable": false,
    "id": "2a7cab99",
    "outputId": "1a8f3ef2-d323-4ec2-ddf7-89670b5944c4"
   },
   "outputs": [
    {
     "data": {
      "text/html": [
       "<div>\n",
       "<style scoped>\n",
       "    .dataframe tbody tr th:only-of-type {\n",
       "        vertical-align: middle;\n",
       "    }\n",
       "\n",
       "    .dataframe tbody tr th {\n",
       "        vertical-align: top;\n",
       "    }\n",
       "\n",
       "    .dataframe thead th {\n",
       "        text-align: right;\n",
       "    }\n",
       "</style>\n",
       "<table border=\"1\" class=\"dataframe\">\n",
       "  <thead>\n",
       "    <tr style=\"text-align: right;\">\n",
       "      <th></th>\n",
       "      <th>children</th>\n",
       "      <th>days_employed</th>\n",
       "      <th>dob_years</th>\n",
       "      <th>education</th>\n",
       "      <th>education_id</th>\n",
       "      <th>family_status</th>\n",
       "      <th>family_status_id</th>\n",
       "      <th>gender</th>\n",
       "      <th>income_type</th>\n",
       "      <th>debt</th>\n",
       "      <th>total_income</th>\n",
       "      <th>purpose</th>\n",
       "    </tr>\n",
       "  </thead>\n",
       "  <tbody>\n",
       "    <tr>\n",
       "      <th>0</th>\n",
       "      <td>1</td>\n",
       "      <td>-8437.673028</td>\n",
       "      <td>42</td>\n",
       "      <td>высшее</td>\n",
       "      <td>0</td>\n",
       "      <td>женат / замужем</td>\n",
       "      <td>0</td>\n",
       "      <td>F</td>\n",
       "      <td>сотрудник</td>\n",
       "      <td>0</td>\n",
       "      <td>253875.639453</td>\n",
       "      <td>покупка жилья</td>\n",
       "    </tr>\n",
       "    <tr>\n",
       "      <th>1</th>\n",
       "      <td>1</td>\n",
       "      <td>-4024.803754</td>\n",
       "      <td>36</td>\n",
       "      <td>среднее</td>\n",
       "      <td>1</td>\n",
       "      <td>женат / замужем</td>\n",
       "      <td>0</td>\n",
       "      <td>F</td>\n",
       "      <td>сотрудник</td>\n",
       "      <td>0</td>\n",
       "      <td>112080.014102</td>\n",
       "      <td>приобретение автомобиля</td>\n",
       "    </tr>\n",
       "    <tr>\n",
       "      <th>2</th>\n",
       "      <td>0</td>\n",
       "      <td>-5623.422610</td>\n",
       "      <td>33</td>\n",
       "      <td>Среднее</td>\n",
       "      <td>1</td>\n",
       "      <td>женат / замужем</td>\n",
       "      <td>0</td>\n",
       "      <td>M</td>\n",
       "      <td>сотрудник</td>\n",
       "      <td>0</td>\n",
       "      <td>145885.952297</td>\n",
       "      <td>покупка жилья</td>\n",
       "    </tr>\n",
       "    <tr>\n",
       "      <th>3</th>\n",
       "      <td>3</td>\n",
       "      <td>-4124.747207</td>\n",
       "      <td>32</td>\n",
       "      <td>среднее</td>\n",
       "      <td>1</td>\n",
       "      <td>женат / замужем</td>\n",
       "      <td>0</td>\n",
       "      <td>M</td>\n",
       "      <td>сотрудник</td>\n",
       "      <td>0</td>\n",
       "      <td>267628.550329</td>\n",
       "      <td>дополнительное образование</td>\n",
       "    </tr>\n",
       "    <tr>\n",
       "      <th>4</th>\n",
       "      <td>0</td>\n",
       "      <td>340266.072047</td>\n",
       "      <td>53</td>\n",
       "      <td>среднее</td>\n",
       "      <td>1</td>\n",
       "      <td>гражданский брак</td>\n",
       "      <td>1</td>\n",
       "      <td>F</td>\n",
       "      <td>пенсионер</td>\n",
       "      <td>0</td>\n",
       "      <td>158616.077870</td>\n",
       "      <td>сыграть свадьбу</td>\n",
       "    </tr>\n",
       "    <tr>\n",
       "      <th>5</th>\n",
       "      <td>0</td>\n",
       "      <td>-926.185831</td>\n",
       "      <td>27</td>\n",
       "      <td>высшее</td>\n",
       "      <td>0</td>\n",
       "      <td>гражданский брак</td>\n",
       "      <td>1</td>\n",
       "      <td>M</td>\n",
       "      <td>компаньон</td>\n",
       "      <td>0</td>\n",
       "      <td>255763.565419</td>\n",
       "      <td>покупка жилья</td>\n",
       "    </tr>\n",
       "    <tr>\n",
       "      <th>6</th>\n",
       "      <td>0</td>\n",
       "      <td>-2879.202052</td>\n",
       "      <td>43</td>\n",
       "      <td>высшее</td>\n",
       "      <td>0</td>\n",
       "      <td>женат / замужем</td>\n",
       "      <td>0</td>\n",
       "      <td>F</td>\n",
       "      <td>компаньон</td>\n",
       "      <td>0</td>\n",
       "      <td>240525.971920</td>\n",
       "      <td>операции с жильем</td>\n",
       "    </tr>\n",
       "    <tr>\n",
       "      <th>7</th>\n",
       "      <td>0</td>\n",
       "      <td>-152.779569</td>\n",
       "      <td>50</td>\n",
       "      <td>СРЕДНЕЕ</td>\n",
       "      <td>1</td>\n",
       "      <td>женат / замужем</td>\n",
       "      <td>0</td>\n",
       "      <td>M</td>\n",
       "      <td>сотрудник</td>\n",
       "      <td>0</td>\n",
       "      <td>135823.934197</td>\n",
       "      <td>образование</td>\n",
       "    </tr>\n",
       "    <tr>\n",
       "      <th>8</th>\n",
       "      <td>2</td>\n",
       "      <td>-6929.865299</td>\n",
       "      <td>35</td>\n",
       "      <td>ВЫСШЕЕ</td>\n",
       "      <td>0</td>\n",
       "      <td>гражданский брак</td>\n",
       "      <td>1</td>\n",
       "      <td>F</td>\n",
       "      <td>сотрудник</td>\n",
       "      <td>0</td>\n",
       "      <td>95856.832424</td>\n",
       "      <td>на проведение свадьбы</td>\n",
       "    </tr>\n",
       "    <tr>\n",
       "      <th>9</th>\n",
       "      <td>0</td>\n",
       "      <td>-2188.756445</td>\n",
       "      <td>41</td>\n",
       "      <td>среднее</td>\n",
       "      <td>1</td>\n",
       "      <td>женат / замужем</td>\n",
       "      <td>0</td>\n",
       "      <td>M</td>\n",
       "      <td>сотрудник</td>\n",
       "      <td>0</td>\n",
       "      <td>144425.938277</td>\n",
       "      <td>покупка жилья для семьи</td>\n",
       "    </tr>\n",
       "    <tr>\n",
       "      <th>10</th>\n",
       "      <td>2</td>\n",
       "      <td>-4171.483647</td>\n",
       "      <td>36</td>\n",
       "      <td>высшее</td>\n",
       "      <td>0</td>\n",
       "      <td>женат / замужем</td>\n",
       "      <td>0</td>\n",
       "      <td>M</td>\n",
       "      <td>компаньон</td>\n",
       "      <td>0</td>\n",
       "      <td>113943.491460</td>\n",
       "      <td>покупка недвижимости</td>\n",
       "    </tr>\n",
       "    <tr>\n",
       "      <th>11</th>\n",
       "      <td>0</td>\n",
       "      <td>-792.701887</td>\n",
       "      <td>40</td>\n",
       "      <td>среднее</td>\n",
       "      <td>1</td>\n",
       "      <td>женат / замужем</td>\n",
       "      <td>0</td>\n",
       "      <td>F</td>\n",
       "      <td>сотрудник</td>\n",
       "      <td>0</td>\n",
       "      <td>77069.234271</td>\n",
       "      <td>покупка коммерческой недвижимости</td>\n",
       "    </tr>\n",
       "    <tr>\n",
       "      <th>12</th>\n",
       "      <td>0</td>\n",
       "      <td>NaN</td>\n",
       "      <td>65</td>\n",
       "      <td>среднее</td>\n",
       "      <td>1</td>\n",
       "      <td>гражданский брак</td>\n",
       "      <td>1</td>\n",
       "      <td>M</td>\n",
       "      <td>пенсионер</td>\n",
       "      <td>0</td>\n",
       "      <td>NaN</td>\n",
       "      <td>сыграть свадьбу</td>\n",
       "    </tr>\n",
       "    <tr>\n",
       "      <th>13</th>\n",
       "      <td>0</td>\n",
       "      <td>-1846.641941</td>\n",
       "      <td>54</td>\n",
       "      <td>неоконченное высшее</td>\n",
       "      <td>2</td>\n",
       "      <td>женат / замужем</td>\n",
       "      <td>0</td>\n",
       "      <td>F</td>\n",
       "      <td>сотрудник</td>\n",
       "      <td>0</td>\n",
       "      <td>130458.228857</td>\n",
       "      <td>приобретение автомобиля</td>\n",
       "    </tr>\n",
       "    <tr>\n",
       "      <th>14</th>\n",
       "      <td>0</td>\n",
       "      <td>-1844.956182</td>\n",
       "      <td>56</td>\n",
       "      <td>высшее</td>\n",
       "      <td>0</td>\n",
       "      <td>гражданский брак</td>\n",
       "      <td>1</td>\n",
       "      <td>F</td>\n",
       "      <td>компаньон</td>\n",
       "      <td>1</td>\n",
       "      <td>165127.911772</td>\n",
       "      <td>покупка жилой недвижимости</td>\n",
       "    </tr>\n",
       "    <tr>\n",
       "      <th>15</th>\n",
       "      <td>1</td>\n",
       "      <td>-972.364419</td>\n",
       "      <td>26</td>\n",
       "      <td>среднее</td>\n",
       "      <td>1</td>\n",
       "      <td>женат / замужем</td>\n",
       "      <td>0</td>\n",
       "      <td>F</td>\n",
       "      <td>сотрудник</td>\n",
       "      <td>0</td>\n",
       "      <td>116820.904450</td>\n",
       "      <td>строительство собственной недвижимости</td>\n",
       "    </tr>\n",
       "    <tr>\n",
       "      <th>16</th>\n",
       "      <td>0</td>\n",
       "      <td>-1719.934226</td>\n",
       "      <td>35</td>\n",
       "      <td>среднее</td>\n",
       "      <td>1</td>\n",
       "      <td>женат / замужем</td>\n",
       "      <td>0</td>\n",
       "      <td>F</td>\n",
       "      <td>сотрудник</td>\n",
       "      <td>0</td>\n",
       "      <td>289202.704229</td>\n",
       "      <td>недвижимость</td>\n",
       "    </tr>\n",
       "    <tr>\n",
       "      <th>17</th>\n",
       "      <td>0</td>\n",
       "      <td>-2369.999720</td>\n",
       "      <td>33</td>\n",
       "      <td>высшее</td>\n",
       "      <td>0</td>\n",
       "      <td>гражданский брак</td>\n",
       "      <td>1</td>\n",
       "      <td>M</td>\n",
       "      <td>сотрудник</td>\n",
       "      <td>0</td>\n",
       "      <td>90410.586745</td>\n",
       "      <td>строительство недвижимости</td>\n",
       "    </tr>\n",
       "    <tr>\n",
       "      <th>18</th>\n",
       "      <td>0</td>\n",
       "      <td>400281.136913</td>\n",
       "      <td>53</td>\n",
       "      <td>среднее</td>\n",
       "      <td>1</td>\n",
       "      <td>вдовец / вдова</td>\n",
       "      <td>2</td>\n",
       "      <td>F</td>\n",
       "      <td>пенсионер</td>\n",
       "      <td>0</td>\n",
       "      <td>56823.777243</td>\n",
       "      <td>на покупку подержанного автомобиля</td>\n",
       "    </tr>\n",
       "    <tr>\n",
       "      <th>19</th>\n",
       "      <td>0</td>\n",
       "      <td>-10038.818549</td>\n",
       "      <td>48</td>\n",
       "      <td>СРЕДНЕЕ</td>\n",
       "      <td>1</td>\n",
       "      <td>в разводе</td>\n",
       "      <td>3</td>\n",
       "      <td>F</td>\n",
       "      <td>сотрудник</td>\n",
       "      <td>0</td>\n",
       "      <td>242831.107982</td>\n",
       "      <td>на покупку своего автомобиля</td>\n",
       "    </tr>\n",
       "  </tbody>\n",
       "</table>\n",
       "</div>"
      ],
      "text/plain": [
       "    children  days_employed  dob_years            education  education_id  \\\n",
       "0          1   -8437.673028         42               высшее             0   \n",
       "1          1   -4024.803754         36              среднее             1   \n",
       "2          0   -5623.422610         33              Среднее             1   \n",
       "3          3   -4124.747207         32              среднее             1   \n",
       "4          0  340266.072047         53              среднее             1   \n",
       "5          0    -926.185831         27               высшее             0   \n",
       "6          0   -2879.202052         43               высшее             0   \n",
       "7          0    -152.779569         50              СРЕДНЕЕ             1   \n",
       "8          2   -6929.865299         35               ВЫСШЕЕ             0   \n",
       "9          0   -2188.756445         41              среднее             1   \n",
       "10         2   -4171.483647         36               высшее             0   \n",
       "11         0    -792.701887         40              среднее             1   \n",
       "12         0            NaN         65              среднее             1   \n",
       "13         0   -1846.641941         54  неоконченное высшее             2   \n",
       "14         0   -1844.956182         56               высшее             0   \n",
       "15         1    -972.364419         26              среднее             1   \n",
       "16         0   -1719.934226         35              среднее             1   \n",
       "17         0   -2369.999720         33               высшее             0   \n",
       "18         0  400281.136913         53              среднее             1   \n",
       "19         0  -10038.818549         48              СРЕДНЕЕ             1   \n",
       "\n",
       "       family_status  family_status_id gender income_type  debt  \\\n",
       "0    женат / замужем                 0      F   сотрудник     0   \n",
       "1    женат / замужем                 0      F   сотрудник     0   \n",
       "2    женат / замужем                 0      M   сотрудник     0   \n",
       "3    женат / замужем                 0      M   сотрудник     0   \n",
       "4   гражданский брак                 1      F   пенсионер     0   \n",
       "5   гражданский брак                 1      M   компаньон     0   \n",
       "6    женат / замужем                 0      F   компаньон     0   \n",
       "7    женат / замужем                 0      M   сотрудник     0   \n",
       "8   гражданский брак                 1      F   сотрудник     0   \n",
       "9    женат / замужем                 0      M   сотрудник     0   \n",
       "10   женат / замужем                 0      M   компаньон     0   \n",
       "11   женат / замужем                 0      F   сотрудник     0   \n",
       "12  гражданский брак                 1      M   пенсионер     0   \n",
       "13   женат / замужем                 0      F   сотрудник     0   \n",
       "14  гражданский брак                 1      F   компаньон     1   \n",
       "15   женат / замужем                 0      F   сотрудник     0   \n",
       "16   женат / замужем                 0      F   сотрудник     0   \n",
       "17  гражданский брак                 1      M   сотрудник     0   \n",
       "18    вдовец / вдова                 2      F   пенсионер     0   \n",
       "19         в разводе                 3      F   сотрудник     0   \n",
       "\n",
       "     total_income                                 purpose  \n",
       "0   253875.639453                           покупка жилья  \n",
       "1   112080.014102                 приобретение автомобиля  \n",
       "2   145885.952297                           покупка жилья  \n",
       "3   267628.550329              дополнительное образование  \n",
       "4   158616.077870                         сыграть свадьбу  \n",
       "5   255763.565419                           покупка жилья  \n",
       "6   240525.971920                       операции с жильем  \n",
       "7   135823.934197                             образование  \n",
       "8    95856.832424                   на проведение свадьбы  \n",
       "9   144425.938277                 покупка жилья для семьи  \n",
       "10  113943.491460                    покупка недвижимости  \n",
       "11   77069.234271       покупка коммерческой недвижимости  \n",
       "12            NaN                         сыграть свадьбу  \n",
       "13  130458.228857                 приобретение автомобиля  \n",
       "14  165127.911772              покупка жилой недвижимости  \n",
       "15  116820.904450  строительство собственной недвижимости  \n",
       "16  289202.704229                            недвижимость  \n",
       "17   90410.586745              строительство недвижимости  \n",
       "18   56823.777243      на покупку подержанного автомобиля  \n",
       "19  242831.107982            на покупку своего автомобиля  "
      ]
     },
     "execution_count": 2,
     "metadata": {},
     "output_type": "execute_result"
    }
   ],
   "source": [
    "data.head(20)"
   ]
  },
  {
   "cell_type": "markdown",
   "id": "642399a9",
   "metadata": {
    "deletable": false,
    "editable": false,
    "id": "1c12e233"
   },
   "source": [
    "**Задание 3. Выведите основную информацию о датафрейме с помощью метода `info()`.**"
   ]
  },
  {
   "cell_type": "code",
   "execution_count": 3,
   "id": "9149a917",
   "metadata": {
    "deletable": false,
    "id": "2b757bca",
    "outputId": "15376089-8dad-46c9-b520-c05248d43158"
   },
   "outputs": [
    {
     "name": "stdout",
     "output_type": "stream",
     "text": [
      "<class 'pandas.core.frame.DataFrame'>\n",
      "RangeIndex: 21525 entries, 0 to 21524\n",
      "Data columns (total 12 columns):\n",
      " #   Column            Non-Null Count  Dtype  \n",
      "---  ------            --------------  -----  \n",
      " 0   children          21525 non-null  int64  \n",
      " 1   days_employed     19351 non-null  float64\n",
      " 2   dob_years         21525 non-null  int64  \n",
      " 3   education         21525 non-null  object \n",
      " 4   education_id      21525 non-null  int64  \n",
      " 5   family_status     21525 non-null  object \n",
      " 6   family_status_id  21525 non-null  int64  \n",
      " 7   gender            21525 non-null  object \n",
      " 8   income_type       21525 non-null  object \n",
      " 9   debt              21525 non-null  int64  \n",
      " 10  total_income      19351 non-null  float64\n",
      " 11  purpose           21525 non-null  object \n",
      "dtypes: float64(2), int64(5), object(5)\n",
      "memory usage: 2.0+ MB\n"
     ]
    }
   ],
   "source": [
    "data.info()"
   ]
  },
  {
   "cell_type": "markdown",
   "id": "692928e5",
   "metadata": {
    "deletable": false,
    "editable": false,
    "id": "333ec665"
   },
   "source": [
    "## Предобработка данных"
   ]
  },
  {
   "cell_type": "markdown",
   "id": "a8e485db",
   "metadata": {
    "deletable": false,
    "editable": false,
    "id": "02d92d53"
   },
   "source": [
    "### Удаление пропусков"
   ]
  },
  {
   "cell_type": "markdown",
   "id": "0a46b2c4",
   "metadata": {
    "deletable": false,
    "editable": false,
    "id": "cd84967c"
   },
   "source": [
    "**Задание 4. Выведите количество пропущенных значений для каждого столбца. Используйте комбинацию двух методов.**"
   ]
  },
  {
   "cell_type": "code",
   "execution_count": 4,
   "id": "94600581",
   "metadata": {
    "deletable": false,
    "id": "7f9b2309",
    "outputId": "81f4d817-781c-465c-ed15-91ce4446810d"
   },
   "outputs": [
    {
     "data": {
      "text/plain": [
       "children               0\n",
       "days_employed       2174\n",
       "dob_years              0\n",
       "education              0\n",
       "education_id           0\n",
       "family_status          0\n",
       "family_status_id       0\n",
       "gender                 0\n",
       "income_type            0\n",
       "debt                   0\n",
       "total_income        2174\n",
       "purpose                0\n",
       "dtype: int64"
      ]
     },
     "execution_count": 4,
     "metadata": {},
     "output_type": "execute_result"
    }
   ],
   "source": [
    "data.isna().sum()"
   ]
  },
  {
   "cell_type": "markdown",
   "id": "8fb790b6",
   "metadata": {
    "deletable": false,
    "editable": false,
    "id": "db86e27b"
   },
   "source": [
    "**Задание 5. В двух столбцах есть пропущенные значения. Один из них — `days_employed`. Пропуски в этом столбце вы обработаете на следующем этапе. Другой столбец с пропущенными значениями — `total_income` — хранит данные о доходах. На сумму дохода сильнее всего влияет тип занятости, поэтому заполнить пропуски в этом столбце нужно медианным значением по каждому типу из столбца `income_type`. Например, у человека с типом занятости `сотрудник` пропуск в столбце `total_income` должен быть заполнен медианным доходом среди всех записей с тем же типом.**"
   ]
  },
  {
   "cell_type": "code",
   "execution_count": 5,
   "id": "22cb314e",
   "metadata": {
    "deletable": false,
    "id": "42006a93"
   },
   "outputs": [],
   "source": [
    "for t in data['income_type'].unique():\n",
    "    data.loc[(data['income_type'] == t) & (data['total_income'].isna()), 'total_income'] = \\\n",
    "    data.loc[(data['income_type'] == t), 'total_income'].median()"
   ]
  },
  {
   "cell_type": "markdown",
   "id": "7664e373",
   "metadata": {
    "deletable": false,
    "editable": false,
    "id": "89da5ece"
   },
   "source": [
    "### Обработка аномальных значений"
   ]
  },
  {
   "cell_type": "markdown",
   "id": "bb0b3362",
   "metadata": {
    "deletable": false,
    "editable": false,
    "id": "57964554"
   },
   "source": [
    "**Задание 6. В данных могут встречаться артефакты (аномалии) — значения, которые не отражают действительность и появились по какой-то ошибке. таким артефактом будет отрицательное количество дней трудового стажа в столбце `days_employed`. Для реальных данных это нормально. Обработайте значения в этом столбце: замените все отрицательные значения положительными с помощью метода `abs()`.**"
   ]
  },
  {
   "cell_type": "code",
   "execution_count": 6,
   "id": "f1487121",
   "metadata": {
    "deletable": false,
    "id": "f6f055bf"
   },
   "outputs": [],
   "source": [
    "data['days_employed'] = data['days_employed'].abs()"
   ]
  },
  {
   "cell_type": "markdown",
   "id": "f027fc43",
   "metadata": {
    "deletable": false,
    "editable": false,
    "id": "6107dd2f"
   },
   "source": [
    "**Задание 7. Для каждого типа занятости выведите медианное значение трудового стажа `days_employed` в днях.**"
   ]
  },
  {
   "cell_type": "code",
   "execution_count": 7,
   "id": "d05dd67e",
   "metadata": {
    "deletable": false,
    "id": "85a5faf6",
    "outputId": "801ef80e-522b-4668-f34e-565af7432bcf"
   },
   "outputs": [
    {
     "data": {
      "text/plain": [
       "income_type\n",
       "безработный        366413.652744\n",
       "в декрете            3296.759962\n",
       "госслужащий          2689.368353\n",
       "компаньон            1547.382223\n",
       "пенсионер          365213.306266\n",
       "предприниматель       520.848083\n",
       "сотрудник            1574.202821\n",
       "студент               578.751554\n",
       "Name: days_employed, dtype: float64"
      ]
     },
     "execution_count": 7,
     "metadata": {},
     "output_type": "execute_result"
    }
   ],
   "source": [
    "data.groupby('income_type')['days_employed'].agg('median')"
   ]
  },
  {
   "cell_type": "markdown",
   "id": "d47b64a2",
   "metadata": {
    "deletable": false,
    "editable": false,
    "id": "38d1a030"
   },
   "source": [
    "У двух типов (безработные и пенсионеры) получатся аномально большие значения. Исправить такие значения сложно, поэтому оставьте их как есть. Тем более этот столбец не понадобится вам для исследования."
   ]
  },
  {
   "cell_type": "markdown",
   "id": "f9ff8998",
   "metadata": {
    "deletable": false,
    "editable": false,
    "id": "d8a9f147"
   },
   "source": [
    "**Задание 8. Выведите перечень уникальных значений столбца `children`.**"
   ]
  },
  {
   "cell_type": "code",
   "execution_count": 8,
   "id": "b8df78c6",
   "metadata": {
    "deletable": false,
    "id": "ef5056eb",
    "outputId": "6975b15c-7f95-4697-d16d-a0c79b657b03"
   },
   "outputs": [
    {
     "data": {
      "text/plain": [
       "array([ 1,  0,  3,  2, -1,  4, 20,  5])"
      ]
     },
     "execution_count": 8,
     "metadata": {},
     "output_type": "execute_result"
    }
   ],
   "source": [
    "data['children'].unique()"
   ]
  },
  {
   "cell_type": "markdown",
   "id": "5c3cf72f",
   "metadata": {
    "deletable": false,
    "editable": false,
    "id": "40b9ebf2"
   },
   "source": [
    "**Задание 9. В столбце `children` есть два аномальных значения. Удалите строки, в которых встречаются такие аномальные значения из датафрейма `data`.**"
   ]
  },
  {
   "cell_type": "code",
   "execution_count": 9,
   "id": "80bd2a90",
   "metadata": {
    "deletable": false,
    "id": "3ff9801d"
   },
   "outputs": [],
   "source": [
    "data = data[(data['children'] != -1) & (data['children'] != 20)]"
   ]
  },
  {
   "cell_type": "markdown",
   "id": "4142f0cd",
   "metadata": {
    "deletable": false,
    "editable": false,
    "id": "bbc4d0ce"
   },
   "source": [
    "**Задание 10. Ещё раз выведите перечень уникальных значений столбца `children`, чтобы убедиться, что артефакты удалены.**"
   ]
  },
  {
   "cell_type": "code",
   "execution_count": 10,
   "id": "42e3eed1",
   "metadata": {
    "deletable": false,
    "id": "ad4fa8b7",
    "outputId": "b2097101-d49d-44d9-901b-32a65c9463d1"
   },
   "outputs": [
    {
     "data": {
      "text/plain": [
       "array([1, 0, 3, 2, 4, 5])"
      ]
     },
     "execution_count": 10,
     "metadata": {},
     "output_type": "execute_result"
    }
   ],
   "source": [
    "data['children'].unique()"
   ]
  },
  {
   "cell_type": "markdown",
   "id": "e8b4d5dc",
   "metadata": {
    "deletable": false,
    "editable": false,
    "id": "75440b63"
   },
   "source": [
    "### Удаление пропусков (продолжение)"
   ]
  },
  {
   "cell_type": "markdown",
   "id": "57bd8891",
   "metadata": {
    "deletable": false,
    "editable": false,
    "id": "f4ea573f"
   },
   "source": [
    "**Задание 11. Заполните пропуски в столбце `days_employed` медианными значениями по каждого типа занятости `income_type`.**"
   ]
  },
  {
   "cell_type": "code",
   "execution_count": 11,
   "id": "1569e0bb",
   "metadata": {
    "deletable": false,
    "id": "af6b1a7e"
   },
   "outputs": [],
   "source": [
    "for t in data['income_type'].unique():\n",
    "    data.loc[(data['income_type'] == t) & (data['days_employed'].isna()), 'days_employed'] = \\\n",
    "    data.loc[(data['income_type'] == t), 'days_employed'].median()"
   ]
  },
  {
   "cell_type": "markdown",
   "id": "db60e9f9",
   "metadata": {
    "deletable": false,
    "editable": false,
    "id": "2753f40d"
   },
   "source": [
    "**Задание 12. Убедитесь, что все пропуски заполнены. Проверьте себя и ещё раз выведите количество пропущенных значений для каждого столбца с помощью двух методов.**"
   ]
  },
  {
   "cell_type": "code",
   "execution_count": 12,
   "id": "fe8a29b9",
   "metadata": {
    "deletable": false,
    "id": "55f78bc2",
    "outputId": "8da1e4e1-358e-4e87-98c9-f261bce0a7b2"
   },
   "outputs": [
    {
     "data": {
      "text/plain": [
       "children            0\n",
       "days_employed       0\n",
       "dob_years           0\n",
       "education           0\n",
       "education_id        0\n",
       "family_status       0\n",
       "family_status_id    0\n",
       "gender              0\n",
       "income_type         0\n",
       "debt                0\n",
       "total_income        0\n",
       "purpose             0\n",
       "dtype: int64"
      ]
     },
     "execution_count": 12,
     "metadata": {},
     "output_type": "execute_result"
    }
   ],
   "source": [
    "data.isna().sum()"
   ]
  },
  {
   "cell_type": "markdown",
   "id": "60935605",
   "metadata": {
    "deletable": false,
    "editable": false,
    "id": "ddc81e43"
   },
   "source": [
    "### Изменение типов данных"
   ]
  },
  {
   "cell_type": "markdown",
   "id": "f0540f38",
   "metadata": {
    "deletable": false,
    "editable": false,
    "id": "42d19d24"
   },
   "source": [
    "**Задание 13. Замените вещественный тип данных в столбце `total_income` на целочисленный с помощью метода `astype()`.**"
   ]
  },
  {
   "cell_type": "code",
   "execution_count": 13,
   "id": "f3cb184d",
   "metadata": {
    "deletable": false,
    "id": "920b65ad"
   },
   "outputs": [],
   "source": [
    "data['total_income'] = data['total_income'].astype(int)"
   ]
  },
  {
   "cell_type": "markdown",
   "id": "6f4754c9",
   "metadata": {
    "deletable": false,
    "editable": false,
    "id": "80c420ba"
   },
   "source": [
    "### Обработка дубликатов"
   ]
  },
  {
   "cell_type": "markdown",
   "id": "bd7e4b71",
   "metadata": {
    "deletable": false,
    "editable": false
   },
   "source": [
    "**Задание 14. Обработайте неявные дубликаты в столбце `education`. В этом столбце есть одни и те же значения, но записанные по-разному: с использованием заглавных и строчных букв. Приведите их к нижнему регистру. Проверьте остальные столбцы.**"
   ]
  },
  {
   "cell_type": "code",
   "execution_count": 14,
   "id": "56c1ed4b",
   "metadata": {
    "deletable": false
   },
   "outputs": [],
   "source": [
    "data['education'] = data['education'].str.lower()"
   ]
  },
  {
   "cell_type": "markdown",
   "id": "2caa9896",
   "metadata": {
    "deletable": false,
    "editable": false,
    "id": "dc587695"
   },
   "source": [
    "**Задание 15. Выведите на экран количество строк-дубликатов в данных. Если такие строки присутствуют, удалите их.**"
   ]
  },
  {
   "cell_type": "code",
   "execution_count": 15,
   "id": "34acbc3d",
   "metadata": {
    "deletable": false,
    "id": "3ee445e4",
    "outputId": "9684deba-1934-42d1-99e1-cda61740f822"
   },
   "outputs": [
    {
     "data": {
      "text/plain": [
       "71"
      ]
     },
     "execution_count": 15,
     "metadata": {},
     "output_type": "execute_result"
    }
   ],
   "source": [
    "data.duplicated().sum()"
   ]
  },
  {
   "cell_type": "code",
   "execution_count": 16,
   "id": "3f9a36c1",
   "metadata": {
    "deletable": false,
    "id": "8575fe05"
   },
   "outputs": [],
   "source": [
    "data = data.drop_duplicates()"
   ]
  },
  {
   "cell_type": "markdown",
   "id": "9b9e03a5",
   "metadata": {
    "deletable": false,
    "editable": false,
    "id": "9904cf55"
   },
   "source": [
    "### Категоризация данных"
   ]
  },
  {
   "cell_type": "markdown",
   "id": "16274a07",
   "metadata": {
    "deletable": false,
    "editable": false,
    "id": "72fcc8a2"
   },
   "source": [
    "**Задание 16. На основании диапазонов, указанных ниже, создайте в датафрейме `data` столбец `total_income_category` с категориями:**\n",
    "\n",
    "- 0–30000 — `'E'`;\n",
    "- 30001–50000 — `'D'`;\n",
    "- 50001–200000 — `'C'`;\n",
    "- 200001–1000000 — `'B'`;\n",
    "- 1000001 и выше — `'A'`.\n",
    "\n",
    "\n",
    "**Например, кредитополучателю с доходом 25000 нужно назначить категорию `'E'`, а клиенту, получающему 235000, — `'B'`. Используйте собственную функцию с именем `categorize_income()` и метод `apply()`.**"
   ]
  },
  {
   "cell_type": "code",
   "execution_count": 17,
   "id": "059d9d5f",
   "metadata": {
    "deletable": false,
    "id": "e1771346"
   },
   "outputs": [],
   "source": [
    "def categorize_income(income):\n",
    "    try:\n",
    "        if 0 <= income <= 30000:\n",
    "            return 'E'\n",
    "        elif 30001 <= income <= 50000:\n",
    "            return 'D'\n",
    "        elif 50001 <= income <= 200000:\n",
    "            return 'C'\n",
    "        elif 200001 <= income <= 1000000:\n",
    "            return 'B'\n",
    "        elif income >= 1000001:\n",
    "            return 'A'\n",
    "    except:\n",
    "        pass"
   ]
  },
  {
   "cell_type": "code",
   "execution_count": 18,
   "id": "23c8b9aa",
   "metadata": {
    "deletable": false,
    "id": "d5f3586d"
   },
   "outputs": [],
   "source": [
    "data['total_income_category'] = data['total_income'].apply(categorize_income)"
   ]
  },
  {
   "cell_type": "markdown",
   "id": "477c59ca",
   "metadata": {
    "deletable": false,
    "editable": false,
    "id": "dde49b5c"
   },
   "source": [
    "**Задание 17. Выведите на экран перечень уникальных целей взятия кредита из столбца `purpose`.**"
   ]
  },
  {
   "cell_type": "code",
   "execution_count": 19,
   "id": "e20be106",
   "metadata": {
    "deletable": false,
    "id": "f67ce9b3",
    "outputId": "673c12d9-7d7e-4ae0-9812-c622c89dd244"
   },
   "outputs": [
    {
     "data": {
      "text/plain": [
       "array(['покупка жилья', 'приобретение автомобиля',\n",
       "       'дополнительное образование', 'сыграть свадьбу',\n",
       "       'операции с жильем', 'образование', 'на проведение свадьбы',\n",
       "       'покупка жилья для семьи', 'покупка недвижимости',\n",
       "       'покупка коммерческой недвижимости', 'покупка жилой недвижимости',\n",
       "       'строительство собственной недвижимости', 'недвижимость',\n",
       "       'строительство недвижимости', 'на покупку подержанного автомобиля',\n",
       "       'на покупку своего автомобиля',\n",
       "       'операции с коммерческой недвижимостью',\n",
       "       'строительство жилой недвижимости', 'жилье',\n",
       "       'операции со своей недвижимостью', 'автомобили',\n",
       "       'заняться образованием', 'сделка с подержанным автомобилем',\n",
       "       'получение образования', 'автомобиль', 'свадьба',\n",
       "       'получение дополнительного образования', 'покупка своего жилья',\n",
       "       'операции с недвижимостью', 'получение высшего образования',\n",
       "       'свой автомобиль', 'сделка с автомобилем',\n",
       "       'профильное образование', 'высшее образование',\n",
       "       'покупка жилья для сдачи', 'на покупку автомобиля', 'ремонт жилью',\n",
       "       'заняться высшим образованием'], dtype=object)"
      ]
     },
     "execution_count": 19,
     "metadata": {},
     "output_type": "execute_result"
    }
   ],
   "source": [
    "data['purpose'].unique()"
   ]
  },
  {
   "cell_type": "markdown",
   "id": "43344124",
   "metadata": {
    "deletable": false,
    "editable": false,
    "id": "85d0aef0"
   },
   "source": [
    "**Задание 18. Создайте функцию, которая на основании данных из столбца `purpose` сформирует новый столбец `purpose_category`, в который войдут следующие категории:**\n",
    "\n",
    "- `'операции с автомобилем'`,\n",
    "- `'операции с недвижимостью'`,\n",
    "- `'проведение свадьбы'`,\n",
    "- `'получение образования'`.\n",
    "\n",
    "**Например, если в столбце `purpose` находится подстрока `'на покупку автомобиля'`, то в столбце `purpose_category` должна появиться строка `'операции с автомобилем'`.**\n",
    "\n",
    "**Используйте собственную функцию с именем `categorize_purpose()` и метод `apply()`. Изучите данные в столбце `purpose` и определите, какие подстроки помогут вам правильно определить категорию.**"
   ]
  },
  {
   "cell_type": "code",
   "execution_count": 20,
   "id": "7c16d33f",
   "metadata": {
    "deletable": false,
    "id": "e149fab4"
   },
   "outputs": [],
   "source": [
    "def categorize_purpose(row):\n",
    "    try:\n",
    "        if 'автом' in row:\n",
    "            return 'операции с автомобилем'\n",
    "        elif 'жил' in row or 'недвиж' in row:\n",
    "            return 'операции с недвижимостью'\n",
    "        elif 'свад' in row:\n",
    "            return 'проведение свадьбы'\n",
    "        elif 'образов' in row:\n",
    "            return 'получение образования'\n",
    "    except:\n",
    "        return 'нет категории'"
   ]
  },
  {
   "cell_type": "code",
   "execution_count": 21,
   "id": "09731d7c",
   "metadata": {
    "deletable": false,
    "id": "bf36e69b"
   },
   "outputs": [],
   "source": [
    "data['purpose_category'] = data['purpose'].apply(categorize_purpose)"
   ]
  },
  {
   "cell_type": "markdown",
   "id": "18867578",
   "metadata": {
    "deletable": false,
    "editable": false,
    "id": "09b242bf"
   },
   "source": [
    "### Шаг 3. Исследуйте данные и ответьте на вопросы"
   ]
  },
  {
   "cell_type": "markdown",
   "id": "97d95247",
   "metadata": {
    "deletable": false,
    "editable": false,
    "id": "c5d66278"
   },
   "source": [
    "#### 3.1 Есть ли зависимость между количеством детей и возвратом кредита в срок?"
   ]
  },
  {
   "cell_type": "markdown",
   "id": "10741699",
   "metadata": {},
   "source": [
    "Сделаем функцию для оценки доли задолжностей по кредитам у разных категорей заёмщиков и функцию для подсчёта числа кредитов, выданных каждой категории:"
   ]
  },
  {
   "cell_type": "code",
   "execution_count": 22,
   "id": "e0558e4d",
   "metadata": {
    "deletable": false,
    "id": "2cacfc4a"
   },
   "outputs": [],
   "source": [
    "def debt_rate_by_category(df, feature_name):    \n",
    "    '''Функция оценивает долю задолжностей среди выданных кредитов \n",
    "    для каждой категории указанного парамера.'''\n",
    "    \n",
    "    return df.groupby(feature_name).debt.mean()"
   ]
  },
  {
   "cell_type": "code",
   "execution_count": 23,
   "id": "69692bed",
   "metadata": {},
   "outputs": [],
   "source": [
    "def count_of_loans(df, feature_name):\n",
    "    '''Функция подсчитывает количество выданных кредитов\n",
    "    для каждой категории указанного параметра.'''\n",
    "    return df.groupby(feature_name).debt.count()"
   ]
  },
  {
   "cell_type": "markdown",
   "id": "25209ec6",
   "metadata": {},
   "source": [
    "Импортируем библиотеки для визуализации результатов"
   ]
  },
  {
   "cell_type": "code",
   "execution_count": 24,
   "id": "a417d492",
   "metadata": {},
   "outputs": [],
   "source": [
    "import seaborn as sns\n",
    "from matplotlib import pyplot as plt\n",
    "%matplotlib inline\n",
    "\n",
    "sns.set_style('whitegrid')"
   ]
  },
  {
   "cell_type": "markdown",
   "id": "87e5fb1b",
   "metadata": {},
   "source": [
    "Сначала, посчитаем сколько займов было выдано в каждой категории:"
   ]
  },
  {
   "cell_type": "code",
   "execution_count": 25,
   "id": "b5905039",
   "metadata": {},
   "outputs": [
    {
     "data": {
      "text/plain": [
       "children\n",
       "0    14091\n",
       "1     4808\n",
       "2     2052\n",
       "3      330\n",
       "4       41\n",
       "5        9\n",
       "Name: debt, dtype: int64"
      ]
     },
     "execution_count": 25,
     "metadata": {},
     "output_type": "execute_result"
    }
   ],
   "source": [
    "count_of_loans(data, 'children')"
   ]
  },
  {
   "cell_type": "markdown",
   "id": "868d1dff",
   "metadata": {},
   "source": [
    "Построим график, иллюстрирующий полученный результат:"
   ]
  },
  {
   "cell_type": "code",
   "execution_count": 26,
   "id": "e611fde1",
   "metadata": {},
   "outputs": [
    {
     "data": {
      "image/png": "[encoded data removed]",
      "text/plain": [
       "<Figure size 360x360 with 1 Axes>"
      ]
     },
     "metadata": {},
     "output_type": "display_data"
    }
   ],
   "source": [
    "sns.catplot(data=data, x='children', kind='count')\n",
    "\n",
    "plt.title('Количество выданных кредитов\\nв зависимости от количества детей')\n",
    "plt.xlabel('Количество детей')\n",
    "plt.ylabel('Количество выданных кредитов')\n",
    "\n",
    "plt.show()"
   ]
  },
  {
   "cell_type": "markdown",
   "id": "8e8b6893",
   "metadata": {},
   "source": [
    "В категориях 3, 4, 5 слишком значений, соответственно, вычисленная для данных категорий доля задолжностей по кредитам может быть результатом случайного совпадения.\n",
    "\n",
    "Вычислим долю задолжностей для каждой категории:"
   ]
  },
  {
   "cell_type": "code",
   "execution_count": 27,
   "id": "29bcfcd3",
   "metadata": {},
   "outputs": [
    {
     "data": {
      "text/plain": [
       "children\n",
       "0    0.075438\n",
       "1    0.092346\n",
       "2    0.094542\n",
       "3    0.081818\n",
       "4    0.097561\n",
       "5    0.000000\n",
       "Name: debt, dtype: float64"
      ]
     },
     "execution_count": 27,
     "metadata": {},
     "output_type": "execute_result"
    }
   ],
   "source": [
    "debt_rate_by_category(data, 'children')"
   ]
  },
  {
   "cell_type": "markdown",
   "id": "f0f3ce91",
   "metadata": {},
   "source": [
    "Визуализируем полученный результат в графике:"
   ]
  },
  {
   "cell_type": "code",
   "execution_count": 28,
   "id": "cbd135c6",
   "metadata": {},
   "outputs": [
    {
     "data": {
      "image/png": "[encoded data removed]",
      "text/plain": [
       "<Figure size 360x360 with 1 Axes>"
      ]
     },
     "metadata": {},
     "output_type": "display_data"
    }
   ],
   "source": [
    "sns.catplot(data=data, x='children', y='debt', kind='bar', ci=None)\n",
    "\n",
    "plt.title('Доля задолжностей по кредитам\\nв зависимости от количества детей')\n",
    "plt.xlabel('Количество детей')\n",
    "plt.ylabel('Доля задолжностей')\n",
    "\n",
    "plt.show()"
   ]
  },
  {
   "cell_type": "markdown",
   "id": "1b2e3414",
   "metadata": {},
   "source": [
    "На первый взгляд может показаться, что клиенты с детьми имеют задолжность по кредитам чаще, однако отсутствие задолженностей у клиентов с пятью детьми ставит под сомнение это утверждение. К тому же в категорияз имеющих 3, 4 и 5 детей всего 330, 41 и 9 клиентов, то есть полученные значения для этих категорий могут быть результатом случайного совпадения.\n",
    "\n",
    "Попробуем укрупнить категории и разделить клиентов банка на 2 группы:\n",
    "- клиенты, у которых есть дети;\n",
    "- клиенты, у которых нет детей."
   ]
  },
  {
   "cell_type": "code",
   "execution_count": 29,
   "id": "02898f0c",
   "metadata": {},
   "outputs": [],
   "source": [
    "data.loc[data.children > 0, 'has_children'] = 'есть дети'\n",
    "data.loc[data.children == 0, 'has_children'] = 'нет детей'"
   ]
  },
  {
   "cell_type": "markdown",
   "id": "2c7d9350",
   "metadata": {},
   "source": [
    "Проверим сколько клиентов попали в каждую категорию:"
   ]
  },
  {
   "cell_type": "code",
   "execution_count": 30,
   "id": "fbb542bd",
   "metadata": {},
   "outputs": [
    {
     "data": {
      "text/plain": [
       "has_children\n",
       "есть дети     7240\n",
       "нет детей    14091\n",
       "Name: debt, dtype: int64"
      ]
     },
     "execution_count": 30,
     "metadata": {},
     "output_type": "execute_result"
    }
   ],
   "source": [
    "count_of_loans(data, 'has_children')"
   ]
  },
  {
   "cell_type": "code",
   "execution_count": 31,
   "id": "86d5f42c",
   "metadata": {},
   "outputs": [
    {
     "data": {
      "image/png": "[encoded data removed]",
      "text/plain": [
       "<Figure size 360x360 with 1 Axes>"
      ]
     },
     "metadata": {},
     "output_type": "display_data"
    }
   ],
   "source": [
    "sns.catplot(data=data, x='has_children', kind='count')\n",
    "\n",
    "plt.title('Количество выданных кредитов\\nв зависимости от наличия детей')\n",
    "plt.xlabel('Наличие детей')\n",
    "plt.ylabel('Количество выданных кредитов')\n",
    "\n",
    "plt.show()"
   ]
  },
  {
   "cell_type": "markdown",
   "id": "557fa155",
   "metadata": {},
   "source": [
    "Повторно вычислим долю задолженностей:"
   ]
  },
  {
   "cell_type": "code",
   "execution_count": 32,
   "id": "a25108d2",
   "metadata": {},
   "outputs": [
    {
     "data": {
      "text/plain": [
       "has_children\n",
       "есть дети    0.092403\n",
       "нет детей    0.075438\n",
       "Name: debt, dtype: float64"
      ]
     },
     "execution_count": 32,
     "metadata": {},
     "output_type": "execute_result"
    }
   ],
   "source": [
    "debt_rate_by_category(data, 'has_children')"
   ]
  },
  {
   "cell_type": "code",
   "execution_count": 33,
   "id": "6d41c459",
   "metadata": {},
   "outputs": [
    {
     "data": {
      "image/png": "[encoded data removed]",
      "text/plain": [
       "<Figure size 360x360 with 1 Axes>"
      ]
     },
     "metadata": {},
     "output_type": "display_data"
    }
   ],
   "source": [
    "sns.catplot(data=data, x='has_children', y='debt', kind='bar')\n",
    "\n",
    "plt.title('Доля задолжностей по кредитам\\nв зависимости от наличия детей')\n",
    "plt.xlabel('Наличие детей')\n",
    "plt.ylabel('Доля задолжностей')\n",
    "\n",
    "plt.show()"
   ]
  },
  {
   "cell_type": "markdown",
   "id": "1120a6bc",
   "metadata": {},
   "source": [
    "На графике указаны доверительные интервалы, и они не пересекаются. Конечно, необходимо проверить статистическую гипотезу и получить численную оценку, однако, похоже, что имеет место закономерность: клиенты, неимеющие детей, чуть реже имеют задолжности по кредитам."
   ]
  },
  {
   "cell_type": "markdown",
   "id": "1c9407fb",
   "metadata": {},
   "source": [
    "Построим сводную таблицу по изначальной разбивке клиентов на категории. Такую сводную таблицу далее прдётся строить несколько раз, поэтому сделаем отдельную функцию, для её расчёта."
   ]
  },
  {
   "cell_type": "code",
   "execution_count": 34,
   "id": "5195a8a3",
   "metadata": {},
   "outputs": [],
   "source": [
    "def get_info_about_debts(df, col_name):\n",
    "    '''Функция возвращает сводную таблицу, содержающую количество клиентов\n",
    "    в каждой группе, количество просрочек и вероятность просрочки.\n",
    "    '''\n",
    "    \n",
    "    res = (df\n",
    "           .groupby(col_name)\n",
    "           .debt\n",
    "           .agg(['count', 'sum', 'mean'])\n",
    "           .rename(columns = {'count': 'number_of_loans',\n",
    "                    'sum': 'number_of_debts',\n",
    "                    'mean': 'fraction_of_debts'\n",
    "                   }\n",
    "                  )\n",
    "          )\n",
    "    \n",
    "    return res"
   ]
  },
  {
   "cell_type": "code",
   "execution_count": 35,
   "id": "6788cb43",
   "metadata": {},
   "outputs": [
    {
     "data": {
      "text/html": [
       "<div>\n",
       "<style scoped>\n",
       "    .dataframe tbody tr th:only-of-type {\n",
       "        vertical-align: middle;\n",
       "    }\n",
       "\n",
       "    .dataframe tbody tr th {\n",
       "        vertical-align: top;\n",
       "    }\n",
       "\n",
       "    .dataframe thead th {\n",
       "        text-align: right;\n",
       "    }\n",
       "</style>\n",
       "<table border=\"1\" class=\"dataframe\">\n",
       "  <thead>\n",
       "    <tr style=\"text-align: right;\">\n",
       "      <th></th>\n",
       "      <th>number_of_loans</th>\n",
       "      <th>number_of_debts</th>\n",
       "      <th>fraction_of_debts</th>\n",
       "    </tr>\n",
       "    <tr>\n",
       "      <th>children</th>\n",
       "      <th></th>\n",
       "      <th></th>\n",
       "      <th></th>\n",
       "    </tr>\n",
       "  </thead>\n",
       "  <tbody>\n",
       "    <tr>\n",
       "      <th>0</th>\n",
       "      <td>14091</td>\n",
       "      <td>1063</td>\n",
       "      <td>0.075438</td>\n",
       "    </tr>\n",
       "    <tr>\n",
       "      <th>1</th>\n",
       "      <td>4808</td>\n",
       "      <td>444</td>\n",
       "      <td>0.092346</td>\n",
       "    </tr>\n",
       "    <tr>\n",
       "      <th>2</th>\n",
       "      <td>2052</td>\n",
       "      <td>194</td>\n",
       "      <td>0.094542</td>\n",
       "    </tr>\n",
       "    <tr>\n",
       "      <th>3</th>\n",
       "      <td>330</td>\n",
       "      <td>27</td>\n",
       "      <td>0.081818</td>\n",
       "    </tr>\n",
       "    <tr>\n",
       "      <th>4</th>\n",
       "      <td>41</td>\n",
       "      <td>4</td>\n",
       "      <td>0.097561</td>\n",
       "    </tr>\n",
       "    <tr>\n",
       "      <th>5</th>\n",
       "      <td>9</td>\n",
       "      <td>0</td>\n",
       "      <td>0.000000</td>\n",
       "    </tr>\n",
       "  </tbody>\n",
       "</table>\n",
       "</div>"
      ],
      "text/plain": [
       "          number_of_loans  number_of_debts  fraction_of_debts\n",
       "children                                                     \n",
       "0                   14091             1063           0.075438\n",
       "1                    4808              444           0.092346\n",
       "2                    2052              194           0.094542\n",
       "3                     330               27           0.081818\n",
       "4                      41                4           0.097561\n",
       "5                       9                0           0.000000"
      ]
     },
     "execution_count": 35,
     "metadata": {},
     "output_type": "execute_result"
    }
   ],
   "source": [
    "get_info_about_debts(data, 'children')"
   ]
  },
  {
   "cell_type": "markdown",
   "id": "b083b8ed",
   "metadata": {},
   "source": [
    "Построим аналогичную сводную таблицу по разбивке клиентов на укрупнённые категории (\"есть дети\" / \"нет детей\"):"
   ]
  },
  {
   "cell_type": "code",
   "execution_count": 36,
   "id": "09d9c30a",
   "metadata": {
    "scrolled": true
   },
   "outputs": [
    {
     "data": {
      "text/html": [
       "<div>\n",
       "<style scoped>\n",
       "    .dataframe tbody tr th:only-of-type {\n",
       "        vertical-align: middle;\n",
       "    }\n",
       "\n",
       "    .dataframe tbody tr th {\n",
       "        vertical-align: top;\n",
       "    }\n",
       "\n",
       "    .dataframe thead th {\n",
       "        text-align: right;\n",
       "    }\n",
       "</style>\n",
       "<table border=\"1\" class=\"dataframe\">\n",
       "  <thead>\n",
       "    <tr style=\"text-align: right;\">\n",
       "      <th></th>\n",
       "      <th>number_of_loans</th>\n",
       "      <th>number_of_debts</th>\n",
       "      <th>fraction_of_debts</th>\n",
       "    </tr>\n",
       "    <tr>\n",
       "      <th>has_children</th>\n",
       "      <th></th>\n",
       "      <th></th>\n",
       "      <th></th>\n",
       "    </tr>\n",
       "  </thead>\n",
       "  <tbody>\n",
       "    <tr>\n",
       "      <th>есть дети</th>\n",
       "      <td>7240</td>\n",
       "      <td>669</td>\n",
       "      <td>0.092403</td>\n",
       "    </tr>\n",
       "    <tr>\n",
       "      <th>нет детей</th>\n",
       "      <td>14091</td>\n",
       "      <td>1063</td>\n",
       "      <td>0.075438</td>\n",
       "    </tr>\n",
       "  </tbody>\n",
       "</table>\n",
       "</div>"
      ],
      "text/plain": [
       "              number_of_loans  number_of_debts  fraction_of_debts\n",
       "has_children                                                     \n",
       "есть дети                7240              669           0.092403\n",
       "нет детей               14091             1063           0.075438"
      ]
     },
     "execution_count": 36,
     "metadata": {},
     "output_type": "execute_result"
    }
   ],
   "source": [
    "get_info_about_debts(data, 'has_children')"
   ]
  },
  {
   "cell_type": "markdown",
   "id": "8860ff9f",
   "metadata": {
    "deletable": false,
    "id": "3a6b99ec"
   },
   "source": [
    "**Вывод:** Клиенты не имеющие детей реже имеют задолженности по кредитам. Кроме того, если не учитывать группы где недостаточно клиентов (группа 3, 4, 5) можно предположить, что чем больше у клиента детей, тем выше вероятность просрочки.\n",
    "\n",
    "\n",
    "Разделение клиентов на 6 категорий по количеству детей не целесообразно, так как это приводит к тому, что в категориях для многодетных клиентов (3, 4, 5) остаётся недостаточно данных, лучше использовать разделение на 2 категории: \"нет детей\", \"есть дети\"."
   ]
  },
  {
   "cell_type": "markdown",
   "id": "77cb3fdf",
   "metadata": {
    "deletable": false,
    "editable": false,
    "id": "97be82ca"
   },
   "source": [
    "#### 3.2 Есть ли зависимость между семейным положением и возвратом кредита в срок?"
   ]
  },
  {
   "cell_type": "markdown",
   "id": "9a324c2e",
   "metadata": {},
   "source": [
    "В первую очередь, вычислим количество клиентов в каждой категории:"
   ]
  },
  {
   "cell_type": "code",
   "execution_count": 37,
   "id": "cda1bae7",
   "metadata": {},
   "outputs": [
    {
     "data": {
      "text/plain": [
       "family_status\n",
       "Не женат / не замужем     2796\n",
       "в разводе                 1189\n",
       "вдовец / вдова             951\n",
       "гражданский брак          4134\n",
       "женат / замужем          12261\n",
       "Name: debt, dtype: int64"
      ]
     },
     "execution_count": 37,
     "metadata": {},
     "output_type": "execute_result"
    }
   ],
   "source": [
    "count_of_loans(data, 'family_status')"
   ]
  },
  {
   "cell_type": "code",
   "execution_count": 38,
   "id": "ef61435f",
   "metadata": {},
   "outputs": [
    {
     "data": {
      "image/png": "[encoded data removed]",
      "text/plain": [
       "<Figure size 540x360 with 1 Axes>"
      ]
     },
     "metadata": {},
     "output_type": "display_data"
    }
   ],
   "source": [
    "sns.catplot(data=data, y='family_status', kind='count', aspect=1.5)\n",
    "\n",
    "plt.title('Количество выданных кредитов\\nв зависимости от семейного положения')\n",
    "plt.ylabel('Семейное положение')\n",
    "plt.xlabel('Количество выданных кредитов')\n",
    "\n",
    "plt.show()"
   ]
  },
  {
   "cell_type": "markdown",
   "id": "b27a5ee6",
   "metadata": {},
   "source": [
    "В данном случае категоии гораздо крупнее, однако имеются те, которых наблюдений существенно меньше, чем в остальных: \"вдовец/вдова\" (951 клиент) и \"в разводе\" (1189 клиетов).\n",
    "\n",
    "Вычислим долю задолженностей по кредитам для каждой категории:"
   ]
  },
  {
   "cell_type": "code",
   "execution_count": 39,
   "id": "d6a8624b",
   "metadata": {
    "deletable": false,
    "id": "dc3f7ee8"
   },
   "outputs": [
    {
     "data": {
      "text/plain": [
       "family_status\n",
       "Не женат / не замужем    0.097639\n",
       "в разводе                0.070648\n",
       "вдовец / вдова           0.066246\n",
       "гражданский брак         0.093130\n",
       "женат / замужем          0.075606\n",
       "Name: debt, dtype: float64"
      ]
     },
     "execution_count": 39,
     "metadata": {},
     "output_type": "execute_result"
    }
   ],
   "source": [
    "debt_rate_by_category(data, 'family_status')"
   ]
  },
  {
   "cell_type": "code",
   "execution_count": 40,
   "id": "8fd5d60e",
   "metadata": {},
   "outputs": [
    {
     "data": {
      "image/png": "[encoded data removed]",
      "text/plain": [
       "<Figure size 540x360 with 1 Axes>"
      ]
     },
     "metadata": {},
     "output_type": "display_data"
    }
   ],
   "source": [
    "sns.catplot(data=data, y='family_status', x='debt', kind='bar', ci=None, aspect=1.5)\n",
    "\n",
    "plt.title('Доля задолжностей по кредитам\\nв зависимости от семейного положения')\n",
    "plt.ylabel('Семейное положение')\n",
    "plt.xlabel('Доля задолжностей')\n",
    "\n",
    "plt.show()"
   ]
  },
  {
   "cell_type": "markdown",
   "id": "c1de0d27",
   "metadata": {},
   "source": [
    "Согласно полученным результатам, клиенты из категорий \"не женат / не замужем\" и \"гражанский брак\" имеют задолженности по кредитам чаще остальных. Реже всех задолженности по кредитам имеют клиенты из категории \"вдовец / вдова\".\n",
    "\n",
    "Попробуем укрупнить категории семейного положения до двух групп:\n",
    "- в браке (женат/замужем);\n",
    "- не в браке (вдовец/вдова, в разводе, не женат/не замужем, гражданкий брак)."
   ]
  },
  {
   "cell_type": "code",
   "execution_count": 41,
   "id": "10731b23",
   "metadata": {},
   "outputs": [],
   "source": [
    "married_categories = ['женат / замужем']\n",
    "not_married_categories = ['вдовец / вдова', 'в разводе', 'Не женат / не замужем', 'гражданский брак']\n",
    "\n",
    "data.loc[data.family_status.isin(married_categories), 'is_married'] = 'в браке'\n",
    "data.loc[data.family_status.isin(not_married_categories), 'is_married'] = 'не в браке'"
   ]
  },
  {
   "cell_type": "markdown",
   "id": "81089bf8",
   "metadata": {},
   "source": [
    "Вычислим количество клиентов в каждой категории:"
   ]
  },
  {
   "cell_type": "code",
   "execution_count": 42,
   "id": "4d3cc1fb",
   "metadata": {},
   "outputs": [
    {
     "data": {
      "text/plain": [
       "is_married\n",
       "в браке       12261\n",
       "не в браке     9070\n",
       "Name: debt, dtype: int64"
      ]
     },
     "execution_count": 42,
     "metadata": {},
     "output_type": "execute_result"
    }
   ],
   "source": [
    "count_of_loans(data, 'is_married')"
   ]
  },
  {
   "cell_type": "code",
   "execution_count": 43,
   "id": "0fda8bbb",
   "metadata": {},
   "outputs": [
    {
     "data": {
      "image/png": "[encoded data removed]",
      "text/plain": [
       "<Figure size 360x360 with 1 Axes>"
      ]
     },
     "metadata": {},
     "output_type": "display_data"
    }
   ],
   "source": [
    "sns.catplot(data=data, x='is_married', kind='count')\n",
    "\n",
    "plt.title('Количество выданных кредитов\\nв зависимости от семейного положения')\n",
    "plt.ylabel('Семейное положение')\n",
    "plt.xlabel('Количество выданных кредитов')\n",
    "\n",
    "plt.show()"
   ]
  },
  {
   "cell_type": "markdown",
   "id": "c50f508b",
   "metadata": {},
   "source": [
    "Вычислим доли задолженностей по кредитам для укрупнённых категорий клиентов:"
   ]
  },
  {
   "cell_type": "code",
   "execution_count": 44,
   "id": "b5cfa4e7",
   "metadata": {},
   "outputs": [
    {
     "data": {
      "text/plain": [
       "is_married\n",
       "в браке       0.075606\n",
       "не в браке    0.088754\n",
       "Name: debt, dtype: float64"
      ]
     },
     "execution_count": 44,
     "metadata": {},
     "output_type": "execute_result"
    }
   ],
   "source": [
    "debt_rate_by_category(data, 'is_married')"
   ]
  },
  {
   "cell_type": "code",
   "execution_count": 45,
   "id": "4e730814",
   "metadata": {},
   "outputs": [
    {
     "data": {
      "image/png": "[encoded data removed]",
      "text/plain": [
       "<Figure size 360x360 with 1 Axes>"
      ]
     },
     "metadata": {},
     "output_type": "display_data"
    }
   ],
   "source": [
    "sns.catplot(data=data, x='is_married', y='debt', kind='bar')\n",
    "\n",
    "plt.title('Доля задолжностей по кредитам\\nв зависимости от семейного положения')\n",
    "plt.xlabel('Семейное положение')\n",
    "plt.ylabel('Доля задолжностей')\n",
    "\n",
    "plt.show()"
   ]
  },
  {
   "cell_type": "markdown",
   "id": "555a6cc4",
   "metadata": {},
   "source": [
    "Полученные результаты свидетельствуют о том, что клиенты, состоящие в законном (оформленном) браке, имеют задолженности по кредитам реже чем остальные группы клиентов."
   ]
  },
  {
   "cell_type": "markdown",
   "id": "2d44b1c2",
   "metadata": {},
   "source": [
    "Построим сводную таблицу по изначальной разбивке клиентов на категории:"
   ]
  },
  {
   "cell_type": "code",
   "execution_count": 46,
   "id": "03c083d1",
   "metadata": {},
   "outputs": [
    {
     "data": {
      "text/html": [
       "<div>\n",
       "<style scoped>\n",
       "    .dataframe tbody tr th:only-of-type {\n",
       "        vertical-align: middle;\n",
       "    }\n",
       "\n",
       "    .dataframe tbody tr th {\n",
       "        vertical-align: top;\n",
       "    }\n",
       "\n",
       "    .dataframe thead th {\n",
       "        text-align: right;\n",
       "    }\n",
       "</style>\n",
       "<table border=\"1\" class=\"dataframe\">\n",
       "  <thead>\n",
       "    <tr style=\"text-align: right;\">\n",
       "      <th></th>\n",
       "      <th>number_of_loans</th>\n",
       "      <th>number_of_debts</th>\n",
       "      <th>fraction_of_debts</th>\n",
       "    </tr>\n",
       "    <tr>\n",
       "      <th>family_status</th>\n",
       "      <th></th>\n",
       "      <th></th>\n",
       "      <th></th>\n",
       "    </tr>\n",
       "  </thead>\n",
       "  <tbody>\n",
       "    <tr>\n",
       "      <th>Не женат / не замужем</th>\n",
       "      <td>2796</td>\n",
       "      <td>273</td>\n",
       "      <td>0.097639</td>\n",
       "    </tr>\n",
       "    <tr>\n",
       "      <th>в разводе</th>\n",
       "      <td>1189</td>\n",
       "      <td>84</td>\n",
       "      <td>0.070648</td>\n",
       "    </tr>\n",
       "    <tr>\n",
       "      <th>вдовец / вдова</th>\n",
       "      <td>951</td>\n",
       "      <td>63</td>\n",
       "      <td>0.066246</td>\n",
       "    </tr>\n",
       "    <tr>\n",
       "      <th>гражданский брак</th>\n",
       "      <td>4134</td>\n",
       "      <td>385</td>\n",
       "      <td>0.093130</td>\n",
       "    </tr>\n",
       "    <tr>\n",
       "      <th>женат / замужем</th>\n",
       "      <td>12261</td>\n",
       "      <td>927</td>\n",
       "      <td>0.075606</td>\n",
       "    </tr>\n",
       "  </tbody>\n",
       "</table>\n",
       "</div>"
      ],
      "text/plain": [
       "                       number_of_loans  number_of_debts  fraction_of_debts\n",
       "family_status                                                             \n",
       "Не женат / не замужем             2796              273           0.097639\n",
       "в разводе                         1189               84           0.070648\n",
       "вдовец / вдова                     951               63           0.066246\n",
       "гражданский брак                  4134              385           0.093130\n",
       "женат / замужем                  12261              927           0.075606"
      ]
     },
     "execution_count": 46,
     "metadata": {},
     "output_type": "execute_result"
    }
   ],
   "source": [
    "get_info_about_debts(data, 'family_status')"
   ]
  },
  {
   "cell_type": "markdown",
   "id": "471cfd27",
   "metadata": {},
   "source": [
    "Построим аналогичную сводную таблицу для разбивки клиентов по укрупненным категориям (\"в браке\" / \"не в браке\"):"
   ]
  },
  {
   "cell_type": "code",
   "execution_count": 47,
   "id": "20bba715",
   "metadata": {},
   "outputs": [
    {
     "data": {
      "text/html": [
       "<div>\n",
       "<style scoped>\n",
       "    .dataframe tbody tr th:only-of-type {\n",
       "        vertical-align: middle;\n",
       "    }\n",
       "\n",
       "    .dataframe tbody tr th {\n",
       "        vertical-align: top;\n",
       "    }\n",
       "\n",
       "    .dataframe thead th {\n",
       "        text-align: right;\n",
       "    }\n",
       "</style>\n",
       "<table border=\"1\" class=\"dataframe\">\n",
       "  <thead>\n",
       "    <tr style=\"text-align: right;\">\n",
       "      <th></th>\n",
       "      <th>number_of_loans</th>\n",
       "      <th>number_of_debts</th>\n",
       "      <th>fraction_of_debts</th>\n",
       "    </tr>\n",
       "    <tr>\n",
       "      <th>is_married</th>\n",
       "      <th></th>\n",
       "      <th></th>\n",
       "      <th></th>\n",
       "    </tr>\n",
       "  </thead>\n",
       "  <tbody>\n",
       "    <tr>\n",
       "      <th>в браке</th>\n",
       "      <td>12261</td>\n",
       "      <td>927</td>\n",
       "      <td>0.075606</td>\n",
       "    </tr>\n",
       "    <tr>\n",
       "      <th>не в браке</th>\n",
       "      <td>9070</td>\n",
       "      <td>805</td>\n",
       "      <td>0.088754</td>\n",
       "    </tr>\n",
       "  </tbody>\n",
       "</table>\n",
       "</div>"
      ],
      "text/plain": [
       "            number_of_loans  number_of_debts  fraction_of_debts\n",
       "is_married                                                     \n",
       "в браке               12261              927           0.075606\n",
       "не в браке             9070              805           0.088754"
      ]
     },
     "execution_count": 47,
     "metadata": {},
     "output_type": "execute_result"
    }
   ],
   "source": [
    "get_info_about_debts(data, 'is_married')"
   ]
  },
  {
   "cell_type": "markdown",
   "id": "a098928b",
   "metadata": {
    "deletable": false,
    "id": "1cef7837"
   },
   "source": [
    "**Вывод:** Клиенты официально состоящие в браке имеют задолженность по кредиту реже остальных групп клиентов. Для данного атрибута также целесообразоно укрупнение категорий до двух: \"в браке\", \"не в браке\", что позволяет убрать категории, содержащие малые количества наблюдений, и повысть информативность результатов."
   ]
  },
  {
   "cell_type": "markdown",
   "id": "b14f7117",
   "metadata": {
    "deletable": false,
    "editable": false,
    "id": "1e8b2fca"
   },
   "source": [
    "#### 3.3 Есть ли зависимость между уровнем дохода и возвратом кредита в срок?"
   ]
  },
  {
   "cell_type": "markdown",
   "id": "d4964540",
   "metadata": {},
   "source": [
    "Вычислим количестов клиентов, попавших в каждую категорию:"
   ]
  },
  {
   "cell_type": "code",
   "execution_count": 48,
   "id": "5e924100",
   "metadata": {
    "scrolled": true
   },
   "outputs": [
    {
     "data": {
      "text/plain": [
       "total_income_category\n",
       "A       25\n",
       "B     5014\n",
       "C    15921\n",
       "D      349\n",
       "E       22\n",
       "Name: debt, dtype: int64"
      ]
     },
     "execution_count": 48,
     "metadata": {},
     "output_type": "execute_result"
    }
   ],
   "source": [
    "count_of_loans(data, 'total_income_category')"
   ]
  },
  {
   "cell_type": "code",
   "execution_count": 49,
   "id": "822a0c14",
   "metadata": {},
   "outputs": [
    {
     "data": {
      "image/png": "[encoded data removed]",
      "text/plain": [
       "<Figure size 360x360 with 1 Axes>"
      ]
     },
     "metadata": {},
     "output_type": "display_data"
    }
   ],
   "source": [
    "sns.catplot(data=data.sort_values('total_income_category'), \n",
    "            x='total_income_category', \n",
    "            kind='count')\n",
    "\n",
    "plt.title('Количество выданных кредитов\\nв зависимости от категории дохода')\n",
    "plt.xlabel('Категории дохода')\n",
    "plt.ylabel('Количество выданных кредитов')\n",
    "\n",
    "plt.show()"
   ]
  },
  {
   "cell_type": "markdown",
   "id": "74a288a4",
   "metadata": {},
   "source": [
    "Группы \"A\", \"D\" и \"E\" имеют меньше всего значений: 25, 349, 22 соответсвтенно. Вероятнее всего, придётся разбить атрибут на категории по-новому.\n",
    "\n",
    "Вычислим доли задолженностей для имеющихся групп:"
   ]
  },
  {
   "cell_type": "code",
   "execution_count": 50,
   "id": "58c09008",
   "metadata": {
    "deletable": false,
    "id": "cd7e3720"
   },
   "outputs": [
    {
     "data": {
      "text/plain": [
       "total_income_category\n",
       "A    0.080000\n",
       "B    0.070602\n",
       "C    0.084982\n",
       "D    0.060172\n",
       "E    0.090909\n",
       "Name: debt, dtype: float64"
      ]
     },
     "execution_count": 50,
     "metadata": {},
     "output_type": "execute_result"
    }
   ],
   "source": [
    "debt_rate_by_category(data, 'total_income_category')"
   ]
  },
  {
   "cell_type": "code",
   "execution_count": 51,
   "id": "e5c78466",
   "metadata": {},
   "outputs": [
    {
     "data": {
      "image/png": "[encoded data removed]",
      "text/plain": [
       "<Figure size 360x360 with 1 Axes>"
      ]
     },
     "metadata": {},
     "output_type": "display_data"
    }
   ],
   "source": [
    "sns.catplot(data=data.sort_values('total_income_category'),\n",
    "            x='total_income_category', \n",
    "            y='debt', \n",
    "            kind='bar', \n",
    "            ci=None)\n",
    "\n",
    "plt.title('Доля задолжностей по кредитам\\nв зависимости категории дохода')\n",
    "plt.xlabel('Категория дохода')\n",
    "plt.ylabel('Доля задолжностей')\n",
    "\n",
    "plt.show()"
   ]
  },
  {
   "cell_type": "markdown",
   "id": "94a64dbd",
   "metadata": {},
   "source": [
    "Построим и проанализируем сводную таблицу по разбивке клиентов на категории по уровню дохода."
   ]
  },
  {
   "cell_type": "code",
   "execution_count": 59,
   "id": "c1ff4a57",
   "metadata": {},
   "outputs": [
    {
     "data": {
      "text/html": [
       "<div>\n",
       "<style scoped>\n",
       "    .dataframe tbody tr th:only-of-type {\n",
       "        vertical-align: middle;\n",
       "    }\n",
       "\n",
       "    .dataframe tbody tr th {\n",
       "        vertical-align: top;\n",
       "    }\n",
       "\n",
       "    .dataframe thead th {\n",
       "        text-align: right;\n",
       "    }\n",
       "</style>\n",
       "<table border=\"1\" class=\"dataframe\">\n",
       "  <thead>\n",
       "    <tr style=\"text-align: right;\">\n",
       "      <th></th>\n",
       "      <th>number_of_loans</th>\n",
       "      <th>number_of_debts</th>\n",
       "      <th>fraction_of_debts</th>\n",
       "    </tr>\n",
       "    <tr>\n",
       "      <th>total_income_category</th>\n",
       "      <th></th>\n",
       "      <th></th>\n",
       "      <th></th>\n",
       "    </tr>\n",
       "  </thead>\n",
       "  <tbody>\n",
       "    <tr>\n",
       "      <th>A</th>\n",
       "      <td>25</td>\n",
       "      <td>2</td>\n",
       "      <td>0.080000</td>\n",
       "    </tr>\n",
       "    <tr>\n",
       "      <th>B</th>\n",
       "      <td>5014</td>\n",
       "      <td>354</td>\n",
       "      <td>0.070602</td>\n",
       "    </tr>\n",
       "    <tr>\n",
       "      <th>C</th>\n",
       "      <td>15921</td>\n",
       "      <td>1353</td>\n",
       "      <td>0.084982</td>\n",
       "    </tr>\n",
       "    <tr>\n",
       "      <th>D</th>\n",
       "      <td>349</td>\n",
       "      <td>21</td>\n",
       "      <td>0.060172</td>\n",
       "    </tr>\n",
       "    <tr>\n",
       "      <th>E</th>\n",
       "      <td>22</td>\n",
       "      <td>2</td>\n",
       "      <td>0.090909</td>\n",
       "    </tr>\n",
       "  </tbody>\n",
       "</table>\n",
       "</div>"
      ],
      "text/plain": [
       "                       number_of_loans  number_of_debts  fraction_of_debts\n",
       "total_income_category                                                     \n",
       "A                                   25                2           0.080000\n",
       "B                                 5014              354           0.070602\n",
       "C                                15921             1353           0.084982\n",
       "D                                  349               21           0.060172\n",
       "E                                   22                2           0.090909"
      ]
     },
     "execution_count": 59,
     "metadata": {},
     "output_type": "execute_result"
    }
   ],
   "source": [
    "info_about_debts = get_info_about_debts(data, 'total_income_category')\n",
    "info_about_debts"
   ]
  },
  {
   "cell_type": "markdown",
   "id": "37dc59d8",
   "metadata": {},
   "source": [
    "Вычислим долю клиентов к группах 'B' и 'C'"
   ]
  },
  {
   "cell_type": "code",
   "execution_count": 61,
   "id": "942f27e9",
   "metadata": {},
   "outputs": [
    {
     "data": {
      "text/plain": [
       "0.981435469504477"
      ]
     },
     "execution_count": 61,
     "metadata": {},
     "output_type": "execute_result"
    }
   ],
   "source": [
    "info_about_debts.loc[['B', 'C'], 'number_of_loans'].sum()/info_about_debts.number_of_loans.sum()"
   ]
  },
  {
   "cell_type": "markdown",
   "id": "9ac22b5b",
   "metadata": {},
   "source": [
    "Вычислим долю клиентов к группе 'C'"
   ]
  },
  {
   "cell_type": "code",
   "execution_count": 62,
   "id": "791b2953",
   "metadata": {},
   "outputs": [
    {
     "data": {
      "text/plain": [
       "0.7463785101495476"
      ]
     },
     "execution_count": 62,
     "metadata": {},
     "output_type": "execute_result"
    }
   ],
   "source": [
    "info_about_debts.loc['C', 'number_of_loans'].sum()/info_about_debts.number_of_loans.sum()"
   ]
  },
  {
   "cell_type": "markdown",
   "id": "1326905f",
   "metadata": {
    "deletable": false,
    "id": "e8593def"
   },
   "source": [
    "**Вывод:** \n",
    "\n",
    "В группах 'B' и 'C' находятся 98% всех клиентов, только в группе 'C' - почти 75%.\n",
    "При таком распределени клиентов по группам довольно затруднительно сделать вывод \n",
    "о наличии закономерности между уровнем дохода и долей задолженностей по кредитам.\n",
    "\n",
    "В группе 'C' доля задолженностей чуть выше, конечно, возможно выдвинуть гипотезу\n",
    "о том, что клиенты с более высоким уровнем дохода имеют больше задолженностей по\n",
    "кредитам, однако такое утверждение будет требовать дополнительных доказательств,\n",
    "в частности, тестирования гипотезы.\n",
    "\n",
    "На данном этапе исследования нет достоверных сведений о наличии связи между уровнем\n",
    "дохода и долей задолженностей по кредитам. Этот вопрос нуждается в дополнительном\n",
    "анализе."
   ]
  },
  {
   "cell_type": "markdown",
   "id": "2be5ba12",
   "metadata": {
    "deletable": false,
    "editable": false,
    "id": "99ecbd1f"
   },
   "source": [
    "#### 3.4 Как разные цели кредита влияют на его возврат в срок?"
   ]
  },
  {
   "cell_type": "markdown",
   "id": "44b326c0",
   "metadata": {},
   "source": [
    "Оценим количество наблюдений в каждой категории:"
   ]
  },
  {
   "cell_type": "code",
   "execution_count": 63,
   "id": "b1f02fac",
   "metadata": {},
   "outputs": [
    {
     "data": {
      "text/plain": [
       "purpose_category\n",
       "операции с автомобилем       4279\n",
       "операции с недвижимостью    10751\n",
       "получение образования        3988\n",
       "проведение свадьбы           2313\n",
       "Name: debt, dtype: int64"
      ]
     },
     "execution_count": 63,
     "metadata": {},
     "output_type": "execute_result"
    }
   ],
   "source": [
    "count_of_loans(data, 'purpose_category')"
   ]
  },
  {
   "cell_type": "code",
   "execution_count": 64,
   "id": "b1466aea",
   "metadata": {},
   "outputs": [
    {
     "data": {
      "image/png": "[encoded data removed]",
      "text/plain": [
       "<Figure size 540x360 with 1 Axes>"
      ]
     },
     "metadata": {},
     "output_type": "display_data"
    }
   ],
   "source": [
    "sns.catplot(data=data, y='purpose_category', kind='count', aspect=1.5)\n",
    "\n",
    "plt.title('Количество выданных кредитов\\nдля каждой категории целей кредита')\n",
    "plt.ylabel('Категория целей кредита')\n",
    "plt.xlabel('Количество выданных кредитов')\n",
    "\n",
    "plt.show()"
   ]
  },
  {
   "cell_type": "markdown",
   "id": "0853a44a",
   "metadata": {},
   "source": [
    "Категории довольно крупные, не будем изменять их.\n",
    "\n",
    "Расчитаем долю задолженностей в каждой категории:"
   ]
  },
  {
   "cell_type": "code",
   "execution_count": 65,
   "id": "0e86fc0a",
   "metadata": {
    "deletable": false,
    "id": "2b687290"
   },
   "outputs": [
    {
     "data": {
      "text/plain": [
       "purpose_category\n",
       "операции с автомобилем      0.093480\n",
       "операции с недвижимостью    0.072551\n",
       "получение образования       0.092528\n",
       "проведение свадьбы          0.079118\n",
       "Name: debt, dtype: float64"
      ]
     },
     "execution_count": 65,
     "metadata": {},
     "output_type": "execute_result"
    }
   ],
   "source": [
    "debt_rate_by_category(data, 'purpose_category')"
   ]
  },
  {
   "cell_type": "code",
   "execution_count": 66,
   "id": "f745f534",
   "metadata": {},
   "outputs": [
    {
     "data": {
      "image/png": "[encoded data removed]",
      "text/plain": [
       "<Figure size 540x360 with 1 Axes>"
      ]
     },
     "metadata": {},
     "output_type": "display_data"
    }
   ],
   "source": [
    "sns.catplot(data=data, y='purpose_category', x='debt', kind='bar', ci=None, aspect=1.5)\n",
    "\n",
    "plt.title('Доля задолжностей по кредитам\\nдля каждой категории целей кредита')\n",
    "plt.ylabel('Категория целей кредита')\n",
    "plt.xlabel('Доля задолжностей')\n",
    "\n",
    "plt.show()"
   ]
  },
  {
   "cell_type": "markdown",
   "id": "6df34814",
   "metadata": {},
   "source": [
    "Построим и сводную таблицу:"
   ]
  },
  {
   "cell_type": "code",
   "execution_count": 67,
   "id": "0cb626b9",
   "metadata": {},
   "outputs": [
    {
     "data": {
      "text/html": [
       "<div>\n",
       "<style scoped>\n",
       "    .dataframe tbody tr th:only-of-type {\n",
       "        vertical-align: middle;\n",
       "    }\n",
       "\n",
       "    .dataframe tbody tr th {\n",
       "        vertical-align: top;\n",
       "    }\n",
       "\n",
       "    .dataframe thead th {\n",
       "        text-align: right;\n",
       "    }\n",
       "</style>\n",
       "<table border=\"1\" class=\"dataframe\">\n",
       "  <thead>\n",
       "    <tr style=\"text-align: right;\">\n",
       "      <th></th>\n",
       "      <th>number_of_loans</th>\n",
       "      <th>number_of_debts</th>\n",
       "      <th>fraction_of_debts</th>\n",
       "    </tr>\n",
       "    <tr>\n",
       "      <th>purpose_category</th>\n",
       "      <th></th>\n",
       "      <th></th>\n",
       "      <th></th>\n",
       "    </tr>\n",
       "  </thead>\n",
       "  <tbody>\n",
       "    <tr>\n",
       "      <th>операции с автомобилем</th>\n",
       "      <td>4279</td>\n",
       "      <td>400</td>\n",
       "      <td>0.093480</td>\n",
       "    </tr>\n",
       "    <tr>\n",
       "      <th>операции с недвижимостью</th>\n",
       "      <td>10751</td>\n",
       "      <td>780</td>\n",
       "      <td>0.072551</td>\n",
       "    </tr>\n",
       "    <tr>\n",
       "      <th>получение образования</th>\n",
       "      <td>3988</td>\n",
       "      <td>369</td>\n",
       "      <td>0.092528</td>\n",
       "    </tr>\n",
       "    <tr>\n",
       "      <th>проведение свадьбы</th>\n",
       "      <td>2313</td>\n",
       "      <td>183</td>\n",
       "      <td>0.079118</td>\n",
       "    </tr>\n",
       "  </tbody>\n",
       "</table>\n",
       "</div>"
      ],
      "text/plain": [
       "                          number_of_loans  number_of_debts  fraction_of_debts\n",
       "purpose_category                                                             \n",
       "операции с автомобилем               4279              400           0.093480\n",
       "операции с недвижимостью            10751              780           0.072551\n",
       "получение образования                3988              369           0.092528\n",
       "проведение свадьбы                   2313              183           0.079118"
      ]
     },
     "execution_count": 67,
     "metadata": {},
     "output_type": "execute_result"
    }
   ],
   "source": [
    "get_info_about_debts(data, 'purpose_category')"
   ]
  },
  {
   "cell_type": "markdown",
   "id": "b2bda4aa",
   "metadata": {
    "deletable": false,
    "id": "b4bb2ce6"
   },
   "source": [
    "**Вывод:** Клиенты, которые берут кредит на операции с недвижемостью и проведение свадьбы, реже имеют задолженности по кредитам."
   ]
  },
  {
   "cell_type": "markdown",
   "id": "ca688f27",
   "metadata": {
    "deletable": false,
    "editable": false,
    "id": "09c3ac4c"
   },
   "source": [
    "#### 3.5 Приведите возможные причины появления пропусков в исходных данных."
   ]
  },
  {
   "cell_type": "markdown",
   "id": "f192bd32",
   "metadata": {
    "deletable": false,
    "id": "9da2ceda"
   },
   "source": [
    "*Ответ:* Причины появления пропусков, скорее всего, технические: возможно, что-то произошло при выгрузде данных из базы данных или при изменении их формата. Также не исключено, что клиенты сами оставляли неправильные данные, так как, возможно, форма для сбора данных не имели достаточное количество проверок."
   ]
  },
  {
   "cell_type": "markdown",
   "id": "6cf0a3e0",
   "metadata": {
    "deletable": false,
    "editable": false,
    "id": "7b0487d6"
   },
   "source": [
    "#### 3.6 Объясните, почему заполнить пропуски медианным значением — лучшее решение для количественных переменных."
   ]
  },
  {
   "cell_type": "markdown",
   "id": "d4225726",
   "metadata": {
    "deletable": false,
    "id": "7ecf2b8e"
   },
   "source": [
    "*Ответ:* В отличие от среднегно, медианное значение более устойчиво к выбросам, аномальным значениям и форме распределения количественной переменной. Распределение значений переменной может существенно отличаться от нормального, например иметь \"тяжёлый хвост\" или быть по форме ближе к логнормальному, как распределение значений сумарного дохода клиентов, в таком случае оценка среднего значения будет сильно смещена."
   ]
  },
  {
   "cell_type": "markdown",
   "id": "92d2c0ee",
   "metadata": {
    "deletable": false,
    "editable": false,
    "id": "6db5255a"
   },
   "source": [
    "### Шаг 4: общий вывод."
   ]
  },
  {
   "cell_type": "markdown",
   "id": "faf6a72d",
   "metadata": {
    "deletable": false,
    "id": "bad65432"
   },
   "source": [
    "Были обнаружены следующие закономерности:\n",
    "- Клиенты не имеющие детей реже имеют задолженности по кредитам (пордробнее в разделе 2.7.1).\n",
    "- Клиенты официально состоящие в браке имеют задолженность по кредиту реже остальных групп клиентов (подробнее в разделе 2.7.2).\n",
    "- При исходной разбивке на группы по уровню дохода в группах 'B' и 'C' окажутся 98% всех клиентов, только в группе 'C' - почти 75%. При таком распределени клиентов по группам довольно затруднительно сделать вывод о наличии закономерности между уровнем дохода и долей задолженностей по кредитам (группы 'A', 'D', 'E' неинформативны, так как содержат недостаточно наблюдений). В группе 'C' доля задолженностей чуть выше, конечно, возможно выдвинуть гипотезу о том, что клиенты с более высоким уровнем дохода имеют больше задолженностей по кредитам, однако такое утверждение будет требовать дополнительных доказательств. *На данном этапе исследования нет достоверных сведений о наличии связи между уровнем дохода и долей задолженностей по кредитам. Этот вопрос нуждается в дополнительном анализе.*\n",
    "- Цель кредита также влияет на его возвратв срок: клиенты, которые берут кредиты на операции с недвижемостью и проведение свадьбы, имеют меньше задолженностей, чем клиенты из другиз категорий (подробнее в разделе 2.7.4)."
   ]
  }
 ],
 "metadata": {
  "ExecuteTimeLog": [
   {
    "duration": 492,
    "start_time": "2022-10-18T08:07:14.138Z"
   },
   {
    "duration": 25,
    "start_time": "2022-10-18T08:07:14.632Z"
   },
   {
    "duration": 18,
    "start_time": "2022-10-18T08:07:14.659Z"
   },
   {
    "duration": 14,
    "start_time": "2022-10-18T08:07:14.679Z"
   },
   {
    "duration": 35,
    "start_time": "2022-10-18T08:07:14.696Z"
   },
   {
    "duration": 5,
    "start_time": "2022-10-18T08:07:14.753Z"
   },
   {
    "duration": 14,
    "start_time": "2022-10-18T08:07:14.760Z"
   },
   {
    "duration": 5,
    "start_time": "2022-10-18T08:07:14.777Z"
   },
   {
    "duration": 13,
    "start_time": "2022-10-18T08:07:14.784Z"
   },
   {
    "duration": 16,
    "start_time": "2022-10-18T08:07:14.799Z"
   },
   {
    "duration": 57,
    "start_time": "2022-10-18T08:07:14.817Z"
   },
   {
    "duration": 10,
    "start_time": "2022-10-18T08:07:14.876Z"
   },
   {
    "duration": 7,
    "start_time": "2022-10-18T08:07:14.889Z"
   },
   {
    "duration": 33,
    "start_time": "2022-10-18T08:07:14.899Z"
   },
   {
    "duration": 27,
    "start_time": "2022-10-18T08:07:14.934Z"
   },
   {
    "duration": 16,
    "start_time": "2022-10-18T08:07:14.963Z"
   },
   {
    "duration": 4,
    "start_time": "2022-10-18T08:07:14.980Z"
   },
   {
    "duration": 19,
    "start_time": "2022-10-18T08:07:14.986Z"
   },
   {
    "duration": 32,
    "start_time": "2022-10-18T08:07:15.007Z"
   },
   {
    "duration": 18,
    "start_time": "2022-10-18T08:07:15.041Z"
   },
   {
    "duration": 26,
    "start_time": "2022-10-18T08:07:15.061Z"
   },
   {
    "duration": 4,
    "start_time": "2022-10-18T08:11:46.945Z"
   },
   {
    "duration": 4,
    "start_time": "2022-10-18T08:17:56.638Z"
   },
   {
    "duration": 491,
    "start_time": "2022-10-18T08:19:06.341Z"
   },
   {
    "duration": 23,
    "start_time": "2022-10-18T08:19:06.835Z"
   },
   {
    "duration": 16,
    "start_time": "2022-10-18T08:19:06.860Z"
   },
   {
    "duration": 9,
    "start_time": "2022-10-18T08:19:06.877Z"
   },
   {
    "duration": 33,
    "start_time": "2022-10-18T08:19:06.889Z"
   },
   {
    "duration": 4,
    "start_time": "2022-10-18T08:19:06.924Z"
   },
   {
    "duration": 9,
    "start_time": "2022-10-18T08:19:06.954Z"
   },
   {
    "duration": 5,
    "start_time": "2022-10-18T08:19:06.965Z"
   },
   {
    "duration": 11,
    "start_time": "2022-10-18T08:19:06.972Z"
   },
   {
    "duration": 6,
    "start_time": "2022-10-18T08:19:06.985Z"
   },
   {
    "duration": 73,
    "start_time": "2022-10-18T08:19:06.993Z"
   },
   {
    "duration": 12,
    "start_time": "2022-10-18T08:19:07.069Z"
   },
   {
    "duration": 4,
    "start_time": "2022-10-18T08:19:07.084Z"
   },
   {
    "duration": 23,
    "start_time": "2022-10-18T08:19:07.090Z"
   },
   {
    "duration": 25,
    "start_time": "2022-10-18T08:19:07.115Z"
   },
   {
    "duration": 19,
    "start_time": "2022-10-18T08:19:07.153Z"
   },
   {
    "duration": 4,
    "start_time": "2022-10-18T08:19:07.174Z"
   },
   {
    "duration": 20,
    "start_time": "2022-10-18T08:19:07.180Z"
   },
   {
    "duration": 10,
    "start_time": "2022-10-18T08:19:07.202Z"
   },
   {
    "duration": 6,
    "start_time": "2022-10-18T08:19:07.214Z"
   },
   {
    "duration": 35,
    "start_time": "2022-10-18T08:19:07.221Z"
   },
   {
    "duration": 6,
    "start_time": "2022-10-18T08:19:07.258Z"
   },
   {
    "duration": 19,
    "start_time": "2022-10-18T08:19:07.265Z"
   },
   {
    "duration": 493,
    "start_time": "2022-10-18T08:32:57.441Z"
   },
   {
    "duration": 24,
    "start_time": "2022-10-18T08:32:57.937Z"
   },
   {
    "duration": 15,
    "start_time": "2022-10-18T08:32:57.963Z"
   },
   {
    "duration": 9,
    "start_time": "2022-10-18T08:32:57.981Z"
   },
   {
    "duration": 34,
    "start_time": "2022-10-18T08:32:57.991Z"
   },
   {
    "duration": 29,
    "start_time": "2022-10-18T08:32:58.027Z"
   },
   {
    "duration": 13,
    "start_time": "2022-10-18T08:32:58.058Z"
   },
   {
    "duration": 8,
    "start_time": "2022-10-18T08:32:58.072Z"
   },
   {
    "duration": 8,
    "start_time": "2022-10-18T08:32:58.082Z"
   },
   {
    "duration": 6,
    "start_time": "2022-10-18T08:32:58.093Z"
   },
   {
    "duration": 60,
    "start_time": "2022-10-18T08:32:58.100Z"
   },
   {
    "duration": 10,
    "start_time": "2022-10-18T08:32:58.161Z"
   },
   {
    "duration": 10,
    "start_time": "2022-10-18T08:32:58.173Z"
   },
   {
    "duration": 17,
    "start_time": "2022-10-18T08:32:58.185Z"
   },
   {
    "duration": 32,
    "start_time": "2022-10-18T08:32:58.204Z"
   },
   {
    "duration": 31,
    "start_time": "2022-10-18T08:32:58.238Z"
   },
   {
    "duration": 3,
    "start_time": "2022-10-18T08:32:58.272Z"
   },
   {
    "duration": 29,
    "start_time": "2022-10-18T08:32:58.277Z"
   },
   {
    "duration": 18,
    "start_time": "2022-10-18T08:32:58.309Z"
   },
   {
    "duration": 5,
    "start_time": "2022-10-18T08:32:58.329Z"
   },
   {
    "duration": 38,
    "start_time": "2022-10-18T08:32:58.336Z"
   },
   {
    "duration": 7,
    "start_time": "2022-10-18T08:32:58.377Z"
   },
   {
    "duration": 10,
    "start_time": "2022-10-18T08:32:58.386Z"
   },
   {
    "duration": 9,
    "start_time": "2022-10-18T08:35:14.318Z"
   },
   {
    "duration": 9,
    "start_time": "2022-10-18T08:36:16.529Z"
   },
   {
    "duration": 1642,
    "start_time": "2022-10-18T08:39:50.836Z"
   },
   {
    "duration": 618,
    "start_time": "2022-10-18T08:40:27.117Z"
   },
   {
    "duration": 493,
    "start_time": "2022-10-18T08:40:43.101Z"
   },
   {
    "duration": 310,
    "start_time": "2022-10-18T08:40:50.520Z"
   },
   {
    "duration": 320,
    "start_time": "2022-10-18T08:40:55.893Z"
   },
   {
    "duration": 316,
    "start_time": "2022-10-18T08:41:29.542Z"
   },
   {
    "duration": 12,
    "start_time": "2022-10-18T08:42:09.934Z"
   },
   {
    "duration": 308,
    "start_time": "2022-10-18T08:42:22.358Z"
   },
   {
    "duration": 313,
    "start_time": "2022-10-18T08:42:55.143Z"
   },
   {
    "duration": 467,
    "start_time": "2022-10-18T08:43:12.804Z"
   },
   {
    "duration": 36,
    "start_time": "2022-10-18T08:43:13.274Z"
   },
   {
    "duration": 19,
    "start_time": "2022-10-18T08:43:13.312Z"
   },
   {
    "duration": 30,
    "start_time": "2022-10-18T08:43:13.333Z"
   },
   {
    "duration": 41,
    "start_time": "2022-10-18T08:43:13.365Z"
   },
   {
    "duration": 4,
    "start_time": "2022-10-18T08:43:13.408Z"
   },
   {
    "duration": 41,
    "start_time": "2022-10-18T08:43:13.413Z"
   },
   {
    "duration": 30,
    "start_time": "2022-10-18T08:43:13.456Z"
   },
   {
    "duration": 23,
    "start_time": "2022-10-18T08:43:13.488Z"
   },
   {
    "duration": 5,
    "start_time": "2022-10-18T08:43:13.513Z"
   },
   {
    "duration": 35,
    "start_time": "2022-10-18T08:43:13.519Z"
   },
   {
    "duration": 10,
    "start_time": "2022-10-18T08:43:13.556Z"
   },
   {
    "duration": 4,
    "start_time": "2022-10-18T08:43:13.568Z"
   },
   {
    "duration": 17,
    "start_time": "2022-10-18T08:43:13.573Z"
   },
   {
    "duration": 33,
    "start_time": "2022-10-18T08:43:13.592Z"
   },
   {
    "duration": 51,
    "start_time": "2022-10-18T08:43:13.627Z"
   },
   {
    "duration": 35,
    "start_time": "2022-10-18T08:43:13.680Z"
   },
   {
    "duration": 85,
    "start_time": "2022-10-18T08:43:13.717Z"
   },
   {
    "duration": 25,
    "start_time": "2022-10-18T08:43:13.804Z"
   },
   {
    "duration": 7,
    "start_time": "2022-10-18T08:43:13.831Z"
   },
   {
    "duration": 13,
    "start_time": "2022-10-18T08:43:13.840Z"
   },
   {
    "duration": 24,
    "start_time": "2022-10-18T08:43:13.855Z"
   },
   {
    "duration": 12,
    "start_time": "2022-10-18T08:43:13.881Z"
   },
   {
    "duration": 23,
    "start_time": "2022-10-18T08:43:13.894Z"
   },
   {
    "duration": 1126,
    "start_time": "2022-10-18T08:43:13.919Z"
   },
   {
    "duration": 13,
    "start_time": "2022-10-18T08:43:15.046Z"
   },
   {
    "duration": 282,
    "start_time": "2022-10-18T08:43:15.061Z"
   },
   {
    "duration": 7,
    "start_time": "2022-10-18T08:51:33.948Z"
   },
   {
    "duration": 9,
    "start_time": "2022-10-18T08:51:49.269Z"
   },
   {
    "duration": 6,
    "start_time": "2022-10-18T08:52:43.285Z"
   },
   {
    "duration": 616,
    "start_time": "2022-10-18T08:52:48.509Z"
   },
   {
    "duration": 292,
    "start_time": "2022-10-18T08:53:00.485Z"
   },
   {
    "duration": 306,
    "start_time": "2022-10-18T08:54:12.077Z"
   },
   {
    "duration": 351,
    "start_time": "2022-10-18T08:54:39.253Z"
   },
   {
    "duration": 535,
    "start_time": "2022-10-18T08:56:40.283Z"
   },
   {
    "duration": 25,
    "start_time": "2022-10-18T08:56:40.820Z"
   },
   {
    "duration": 35,
    "start_time": "2022-10-18T08:56:40.846Z"
   },
   {
    "duration": 39,
    "start_time": "2022-10-18T08:56:40.884Z"
   },
   {
    "duration": 54,
    "start_time": "2022-10-18T08:56:40.925Z"
   },
   {
    "duration": 7,
    "start_time": "2022-10-18T08:56:40.981Z"
   },
   {
    "duration": 29,
    "start_time": "2022-10-18T08:56:40.990Z"
   },
   {
    "duration": 28,
    "start_time": "2022-10-18T08:56:41.021Z"
   },
   {
    "duration": 17,
    "start_time": "2022-10-18T08:56:41.051Z"
   },
   {
    "duration": 23,
    "start_time": "2022-10-18T08:56:41.071Z"
   },
   {
    "duration": 46,
    "start_time": "2022-10-18T08:56:41.096Z"
   },
   {
    "duration": 10,
    "start_time": "2022-10-18T08:56:41.144Z"
   },
   {
    "duration": 23,
    "start_time": "2022-10-18T08:56:41.156Z"
   },
   {
    "duration": 25,
    "start_time": "2022-10-18T08:56:41.181Z"
   },
   {
    "duration": 42,
    "start_time": "2022-10-18T08:56:41.209Z"
   },
   {
    "duration": 20,
    "start_time": "2022-10-18T08:56:41.253Z"
   },
   {
    "duration": 4,
    "start_time": "2022-10-18T08:56:41.275Z"
   },
   {
    "duration": 29,
    "start_time": "2022-10-18T08:56:41.281Z"
   },
   {
    "duration": 24,
    "start_time": "2022-10-18T08:56:41.312Z"
   },
   {
    "duration": 15,
    "start_time": "2022-10-18T08:56:41.337Z"
   },
   {
    "duration": 40,
    "start_time": "2022-10-18T08:56:41.354Z"
   },
   {
    "duration": 9,
    "start_time": "2022-10-18T08:56:41.396Z"
   },
   {
    "duration": 19,
    "start_time": "2022-10-18T08:56:41.407Z"
   },
   {
    "duration": 917,
    "start_time": "2022-10-18T08:56:41.429Z"
   },
   {
    "duration": 10,
    "start_time": "2022-10-18T08:56:42.348Z"
   },
   {
    "duration": 449,
    "start_time": "2022-10-18T08:56:42.361Z"
   },
   {
    "duration": 8,
    "start_time": "2022-10-18T08:56:42.812Z"
   },
   {
    "duration": 451,
    "start_time": "2022-10-18T08:56:42.824Z"
   },
   {
    "duration": 9,
    "start_time": "2022-10-18T08:57:02.150Z"
   },
   {
    "duration": 385,
    "start_time": "2022-10-18T08:58:10.974Z"
   },
   {
    "duration": 425,
    "start_time": "2022-10-18T08:58:23.998Z"
   },
   {
    "duration": 482,
    "start_time": "2022-10-18T08:58:30.281Z"
   },
   {
    "duration": 7,
    "start_time": "2022-10-18T08:59:02.991Z"
   },
   {
    "duration": 7,
    "start_time": "2022-10-18T08:59:09.959Z"
   },
   {
    "duration": 105,
    "start_time": "2022-10-18T09:00:03.696Z"
   },
   {
    "duration": 394,
    "start_time": "2022-10-18T09:00:20.848Z"
   },
   {
    "duration": 464,
    "start_time": "2022-10-18T09:00:32.195Z"
   },
   {
    "duration": 26,
    "start_time": "2022-10-18T09:00:32.661Z"
   },
   {
    "duration": 19,
    "start_time": "2022-10-18T09:00:32.690Z"
   },
   {
    "duration": 23,
    "start_time": "2022-10-18T09:00:32.711Z"
   },
   {
    "duration": 46,
    "start_time": "2022-10-18T09:00:32.736Z"
   },
   {
    "duration": 4,
    "start_time": "2022-10-18T09:00:32.784Z"
   },
   {
    "duration": 42,
    "start_time": "2022-10-18T09:00:32.789Z"
   },
   {
    "duration": 10,
    "start_time": "2022-10-18T09:00:32.832Z"
   },
   {
    "duration": 36,
    "start_time": "2022-10-18T09:00:32.843Z"
   },
   {
    "duration": 17,
    "start_time": "2022-10-18T09:00:32.882Z"
   },
   {
    "duration": 61,
    "start_time": "2022-10-18T09:00:32.901Z"
   },
   {
    "duration": 12,
    "start_time": "2022-10-18T09:00:32.963Z"
   },
   {
    "duration": 18,
    "start_time": "2022-10-18T09:00:32.977Z"
   },
   {
    "duration": 28,
    "start_time": "2022-10-18T09:00:32.998Z"
   },
   {
    "duration": 36,
    "start_time": "2022-10-18T09:00:33.028Z"
   },
   {
    "duration": 23,
    "start_time": "2022-10-18T09:00:33.067Z"
   },
   {
    "duration": 5,
    "start_time": "2022-10-18T09:00:33.092Z"
   },
   {
    "duration": 40,
    "start_time": "2022-10-18T09:00:33.099Z"
   },
   {
    "duration": 10,
    "start_time": "2022-10-18T09:00:33.141Z"
   },
   {
    "duration": 6,
    "start_time": "2022-10-18T09:00:33.153Z"
   },
   {
    "duration": 37,
    "start_time": "2022-10-18T09:00:33.160Z"
   },
   {
    "duration": 22,
    "start_time": "2022-10-18T09:00:33.198Z"
   },
   {
    "duration": 6,
    "start_time": "2022-10-18T09:00:33.222Z"
   },
   {
    "duration": 820,
    "start_time": "2022-10-18T09:00:33.229Z"
   },
   {
    "duration": 8,
    "start_time": "2022-10-18T09:00:34.051Z"
   },
   {
    "duration": 365,
    "start_time": "2022-10-18T09:00:34.061Z"
   },
   {
    "duration": 7,
    "start_time": "2022-10-18T09:00:34.429Z"
   },
   {
    "duration": 355,
    "start_time": "2022-10-18T09:00:34.454Z"
   },
   {
    "duration": 9,
    "start_time": "2022-10-18T09:00:34.811Z"
   },
   {
    "duration": 407,
    "start_time": "2022-10-18T09:00:34.822Z"
   },
   {
    "duration": 8,
    "start_time": "2022-10-18T09:00:35.231Z"
   },
   {
    "duration": 417,
    "start_time": "2022-10-18T09:00:35.254Z"
   },
   {
    "duration": 498,
    "start_time": "2022-10-18T09:02:44.517Z"
   },
   {
    "duration": 25,
    "start_time": "2022-10-18T09:02:45.017Z"
   },
   {
    "duration": 30,
    "start_time": "2022-10-18T09:02:45.044Z"
   },
   {
    "duration": 30,
    "start_time": "2022-10-18T09:02:45.076Z"
   },
   {
    "duration": 51,
    "start_time": "2022-10-18T09:02:45.108Z"
   },
   {
    "duration": 4,
    "start_time": "2022-10-18T09:02:45.161Z"
   },
   {
    "duration": 45,
    "start_time": "2022-10-18T09:02:45.166Z"
   },
   {
    "duration": 73,
    "start_time": "2022-10-18T09:02:45.213Z"
   },
   {
    "duration": 33,
    "start_time": "2022-10-18T09:02:45.288Z"
   },
   {
    "duration": 50,
    "start_time": "2022-10-18T09:02:45.325Z"
   },
   {
    "duration": 72,
    "start_time": "2022-10-18T09:02:45.377Z"
   },
   {
    "duration": 9,
    "start_time": "2022-10-18T09:02:45.451Z"
   },
   {
    "duration": 40,
    "start_time": "2022-10-18T09:02:45.462Z"
   },
   {
    "duration": 72,
    "start_time": "2022-10-18T09:02:45.505Z"
   },
   {
    "duration": 26,
    "start_time": "2022-10-18T09:02:45.579Z"
   },
   {
    "duration": 43,
    "start_time": "2022-10-18T09:02:45.607Z"
   },
   {
    "duration": 16,
    "start_time": "2022-10-18T09:02:45.652Z"
   },
   {
    "duration": 36,
    "start_time": "2022-10-18T09:02:45.670Z"
   },
   {
    "duration": 25,
    "start_time": "2022-10-18T09:02:45.708Z"
   },
   {
    "duration": 25,
    "start_time": "2022-10-18T09:02:45.736Z"
   },
   {
    "duration": 43,
    "start_time": "2022-10-18T09:02:45.763Z"
   },
   {
    "duration": 39,
    "start_time": "2022-10-18T09:02:45.808Z"
   },
   {
    "duration": 53,
    "start_time": "2022-10-18T09:02:45.849Z"
   },
   {
    "duration": 849,
    "start_time": "2022-10-18T09:02:45.904Z"
   },
   {
    "duration": 9,
    "start_time": "2022-10-18T09:02:46.755Z"
   },
   {
    "duration": 438,
    "start_time": "2022-10-18T09:02:46.766Z"
   },
   {
    "duration": 8,
    "start_time": "2022-10-18T09:02:47.206Z"
   },
   {
    "duration": 386,
    "start_time": "2022-10-18T09:02:47.218Z"
   },
   {
    "duration": 9,
    "start_time": "2022-10-18T09:02:47.605Z"
   },
   {
    "duration": 421,
    "start_time": "2022-10-18T09:02:47.616Z"
   },
   {
    "duration": 16,
    "start_time": "2022-10-18T09:02:48.039Z"
   },
   {
    "duration": 438,
    "start_time": "2022-10-18T09:02:48.057Z"
   },
   {
    "duration": 8,
    "start_time": "2022-10-18T09:02:48.497Z"
   },
   {
    "duration": 339,
    "start_time": "2022-10-18T09:04:15.542Z"
   },
   {
    "duration": 7,
    "start_time": "2022-10-18T09:04:39.182Z"
   },
   {
    "duration": 358,
    "start_time": "2022-10-18T09:05:39.551Z"
   },
   {
    "duration": 563,
    "start_time": "2022-10-18T09:06:02.927Z"
   },
   {
    "duration": 352,
    "start_time": "2022-10-18T09:06:10.447Z"
   },
   {
    "duration": 371,
    "start_time": "2022-10-18T09:07:02.712Z"
   },
   {
    "duration": 476,
    "start_time": "2022-10-18T09:07:38.784Z"
   },
   {
    "duration": 10,
    "start_time": "2022-10-18T09:08:20.705Z"
   },
   {
    "duration": 367,
    "start_time": "2022-10-18T09:09:50.362Z"
   },
   {
    "duration": 409,
    "start_time": "2022-10-18T09:11:02.073Z"
   },
   {
    "duration": 529,
    "start_time": "2022-10-18T09:11:28.627Z"
   },
   {
    "duration": 24,
    "start_time": "2022-10-18T09:11:29.159Z"
   },
   {
    "duration": 18,
    "start_time": "2022-10-18T09:11:29.185Z"
   },
   {
    "duration": 17,
    "start_time": "2022-10-18T09:11:29.205Z"
   },
   {
    "duration": 69,
    "start_time": "2022-10-18T09:11:29.225Z"
   },
   {
    "duration": 3,
    "start_time": "2022-10-18T09:11:29.296Z"
   },
   {
    "duration": 22,
    "start_time": "2022-10-18T09:11:29.300Z"
   },
   {
    "duration": 6,
    "start_time": "2022-10-18T09:11:29.324Z"
   },
   {
    "duration": 15,
    "start_time": "2022-10-18T09:11:29.332Z"
   },
   {
    "duration": 6,
    "start_time": "2022-10-18T09:11:29.358Z"
   },
   {
    "duration": 51,
    "start_time": "2022-10-18T09:11:29.365Z"
   },
   {
    "duration": 13,
    "start_time": "2022-10-18T09:11:29.418Z"
   },
   {
    "duration": 8,
    "start_time": "2022-10-18T09:11:29.433Z"
   },
   {
    "duration": 12,
    "start_time": "2022-10-18T09:11:29.453Z"
   },
   {
    "duration": 30,
    "start_time": "2022-10-18T09:11:29.467Z"
   },
   {
    "duration": 20,
    "start_time": "2022-10-18T09:11:29.499Z"
   },
   {
    "duration": 4,
    "start_time": "2022-10-18T09:11:29.521Z"
   },
   {
    "duration": 33,
    "start_time": "2022-10-18T09:11:29.527Z"
   },
   {
    "duration": 13,
    "start_time": "2022-10-18T09:11:29.562Z"
   },
   {
    "duration": 11,
    "start_time": "2022-10-18T09:11:29.577Z"
   },
   {
    "duration": 19,
    "start_time": "2022-10-18T09:11:29.590Z"
   },
   {
    "duration": 13,
    "start_time": "2022-10-18T09:11:29.611Z"
   },
   {
    "duration": 18,
    "start_time": "2022-10-18T09:11:29.625Z"
   },
   {
    "duration": 792,
    "start_time": "2022-10-18T09:11:29.645Z"
   },
   {
    "duration": 8,
    "start_time": "2022-10-18T09:11:30.439Z"
   },
   {
    "duration": 388,
    "start_time": "2022-10-18T09:11:30.454Z"
   },
   {
    "duration": 8,
    "start_time": "2022-10-18T09:11:30.853Z"
   },
   {
    "duration": 378,
    "start_time": "2022-10-18T09:11:30.865Z"
   },
   {
    "duration": 16,
    "start_time": "2022-10-18T09:11:31.245Z"
   },
   {
    "duration": 476,
    "start_time": "2022-10-18T09:11:31.262Z"
   },
   {
    "duration": 18,
    "start_time": "2022-10-18T09:11:31.740Z"
   },
   {
    "duration": 462,
    "start_time": "2022-10-18T09:11:31.761Z"
   },
   {
    "duration": 8,
    "start_time": "2022-10-18T09:11:32.224Z"
   },
   {
    "duration": 366,
    "start_time": "2022-10-18T09:11:32.234Z"
   },
   {
    "duration": 8,
    "start_time": "2022-10-18T09:11:32.602Z"
   },
   {
    "duration": 394,
    "start_time": "2022-10-18T09:11:32.613Z"
   },
   {
    "duration": 11,
    "start_time": "2022-10-18T09:11:33.010Z"
   },
   {
    "duration": 403,
    "start_time": "2022-10-18T09:11:33.023Z"
   },
   {
    "duration": 8,
    "start_time": "2022-10-18T09:11:33.428Z"
   },
   {
    "duration": 391,
    "start_time": "2022-10-18T09:11:33.438Z"
   },
   {
    "duration": 42,
    "start_time": "2022-10-18T11:36:29.247Z"
   },
   {
    "duration": 505,
    "start_time": "2022-10-18T11:36:35.989Z"
   },
   {
    "duration": 21,
    "start_time": "2022-10-18T11:36:36.496Z"
   },
   {
    "duration": 14,
    "start_time": "2022-10-18T11:36:36.518Z"
   },
   {
    "duration": 8,
    "start_time": "2022-10-18T11:36:36.534Z"
   },
   {
    "duration": 31,
    "start_time": "2022-10-18T11:36:36.544Z"
   },
   {
    "duration": 3,
    "start_time": "2022-10-18T11:36:36.577Z"
   },
   {
    "duration": 13,
    "start_time": "2022-10-18T11:36:36.582Z"
   },
   {
    "duration": 26,
    "start_time": "2022-10-18T11:36:36.597Z"
   },
   {
    "duration": 7,
    "start_time": "2022-10-18T11:36:36.624Z"
   },
   {
    "duration": 5,
    "start_time": "2022-10-18T11:36:36.636Z"
   },
   {
    "duration": 33,
    "start_time": "2022-10-18T11:36:36.643Z"
   },
   {
    "duration": 10,
    "start_time": "2022-10-18T11:36:36.678Z"
   },
   {
    "duration": 5,
    "start_time": "2022-10-18T11:36:36.689Z"
   },
   {
    "duration": 11,
    "start_time": "2022-10-18T11:36:36.722Z"
   },
   {
    "duration": 23,
    "start_time": "2022-10-18T11:36:36.735Z"
   },
   {
    "duration": 17,
    "start_time": "2022-10-18T11:36:36.759Z"
   },
   {
    "duration": 4,
    "start_time": "2022-10-18T11:36:36.777Z"
   },
   {
    "duration": 13,
    "start_time": "2022-10-18T11:36:36.782Z"
   },
   {
    "duration": 29,
    "start_time": "2022-10-18T11:36:36.796Z"
   },
   {
    "duration": 4,
    "start_time": "2022-10-18T11:36:36.826Z"
   },
   {
    "duration": 13,
    "start_time": "2022-10-18T11:36:36.831Z"
   },
   {
    "duration": 4,
    "start_time": "2022-10-18T11:36:36.846Z"
   },
   {
    "duration": 23,
    "start_time": "2022-10-18T11:36:36.852Z"
   },
   {
    "duration": 927,
    "start_time": "2022-10-18T11:36:36.877Z"
   },
   {
    "duration": 7,
    "start_time": "2022-10-18T11:36:37.806Z"
   },
   {
    "duration": 368,
    "start_time": "2022-10-18T11:36:37.815Z"
   },
   {
    "duration": 6,
    "start_time": "2022-10-18T11:36:38.184Z"
   },
   {
    "duration": 334,
    "start_time": "2022-10-18T11:36:38.193Z"
   },
   {
    "duration": 9,
    "start_time": "2022-10-18T11:36:38.529Z"
   },
   {
    "duration": 6,
    "start_time": "2022-10-18T11:37:35.383Z"
   },
   {
    "duration": 465,
    "start_time": "2022-10-18T11:38:17.615Z"
   },
   {
    "duration": 21,
    "start_time": "2022-10-18T11:38:18.082Z"
   },
   {
    "duration": 14,
    "start_time": "2022-10-18T11:38:18.104Z"
   },
   {
    "duration": 9,
    "start_time": "2022-10-18T11:38:18.120Z"
   },
   {
    "duration": 41,
    "start_time": "2022-10-18T11:38:18.130Z"
   },
   {
    "duration": 3,
    "start_time": "2022-10-18T11:38:18.173Z"
   },
   {
    "duration": 10,
    "start_time": "2022-10-18T11:38:18.177Z"
   },
   {
    "duration": 4,
    "start_time": "2022-10-18T11:38:18.188Z"
   },
   {
    "duration": 29,
    "start_time": "2022-10-18T11:38:18.193Z"
   },
   {
    "duration": 4,
    "start_time": "2022-10-18T11:38:18.224Z"
   },
   {
    "duration": 35,
    "start_time": "2022-10-18T11:38:18.230Z"
   },
   {
    "duration": 9,
    "start_time": "2022-10-18T11:38:18.267Z"
   },
   {
    "duration": 4,
    "start_time": "2022-10-18T11:38:18.277Z"
   },
   {
    "duration": 12,
    "start_time": "2022-10-18T11:38:18.282Z"
   },
   {
    "duration": 40,
    "start_time": "2022-10-18T11:38:18.295Z"
   },
   {
    "duration": 16,
    "start_time": "2022-10-18T11:38:18.336Z"
   },
   {
    "duration": 4,
    "start_time": "2022-10-18T11:38:18.353Z"
   },
   {
    "duration": 11,
    "start_time": "2022-10-18T11:38:18.358Z"
   },
   {
    "duration": 7,
    "start_time": "2022-10-18T11:38:18.370Z"
   },
   {
    "duration": 12,
    "start_time": "2022-10-18T11:38:18.379Z"
   },
   {
    "duration": 14,
    "start_time": "2022-10-18T11:38:18.393Z"
   },
   {
    "duration": 16,
    "start_time": "2022-10-18T11:38:18.408Z"
   },
   {
    "duration": 7,
    "start_time": "2022-10-18T11:38:18.425Z"
   },
   {
    "duration": 750,
    "start_time": "2022-10-18T11:38:18.433Z"
   },
   {
    "duration": 7,
    "start_time": "2022-10-18T11:38:19.184Z"
   },
   {
    "duration": 351,
    "start_time": "2022-10-18T11:38:19.192Z"
   },
   {
    "duration": 6,
    "start_time": "2022-10-18T11:38:19.544Z"
   },
   {
    "duration": 314,
    "start_time": "2022-10-18T11:38:19.552Z"
   },
   {
    "duration": 4,
    "start_time": "2022-10-18T11:38:19.867Z"
   },
   {
    "duration": 13,
    "start_time": "2022-10-18T11:38:19.873Z"
   },
   {
    "duration": 425,
    "start_time": "2022-10-18T11:40:47.050Z"
   },
   {
    "duration": 23,
    "start_time": "2022-10-18T11:40:47.477Z"
   },
   {
    "duration": 22,
    "start_time": "2022-10-18T11:40:47.502Z"
   },
   {
    "duration": 9,
    "start_time": "2022-10-18T11:40:47.525Z"
   },
   {
    "duration": 38,
    "start_time": "2022-10-18T11:40:47.536Z"
   },
   {
    "duration": 3,
    "start_time": "2022-10-18T11:40:47.575Z"
   },
   {
    "duration": 10,
    "start_time": "2022-10-18T11:40:47.580Z"
   },
   {
    "duration": 3,
    "start_time": "2022-10-18T11:40:47.592Z"
   },
   {
    "duration": 28,
    "start_time": "2022-10-18T11:40:47.597Z"
   },
   {
    "duration": 4,
    "start_time": "2022-10-18T11:40:47.629Z"
   },
   {
    "duration": 33,
    "start_time": "2022-10-18T11:40:47.634Z"
   },
   {
    "duration": 9,
    "start_time": "2022-10-18T11:40:47.669Z"
   },
   {
    "duration": 6,
    "start_time": "2022-10-18T11:40:47.680Z"
   },
   {
    "duration": 12,
    "start_time": "2022-10-18T11:40:47.687Z"
   },
   {
    "duration": 38,
    "start_time": "2022-10-18T11:40:47.700Z"
   },
   {
    "duration": 15,
    "start_time": "2022-10-18T11:40:47.739Z"
   },
   {
    "duration": 4,
    "start_time": "2022-10-18T11:40:47.755Z"
   },
   {
    "duration": 12,
    "start_time": "2022-10-18T11:40:47.760Z"
   },
   {
    "duration": 6,
    "start_time": "2022-10-18T11:40:47.773Z"
   },
   {
    "duration": 4,
    "start_time": "2022-10-18T11:40:47.781Z"
   },
   {
    "duration": 38,
    "start_time": "2022-10-18T11:40:47.786Z"
   },
   {
    "duration": 3,
    "start_time": "2022-10-18T11:40:47.825Z"
   },
   {
    "duration": 8,
    "start_time": "2022-10-18T11:40:47.829Z"
   },
   {
    "duration": 713,
    "start_time": "2022-10-18T11:40:47.839Z"
   },
   {
    "duration": 6,
    "start_time": "2022-10-18T11:40:48.554Z"
   },
   {
    "duration": 353,
    "start_time": "2022-10-18T11:40:48.562Z"
   },
   {
    "duration": 7,
    "start_time": "2022-10-18T11:40:48.923Z"
   },
   {
    "duration": 342,
    "start_time": "2022-10-18T11:40:48.933Z"
   },
   {
    "duration": 5,
    "start_time": "2022-10-18T11:40:49.277Z"
   },
   {
    "duration": 12,
    "start_time": "2022-10-18T11:40:49.284Z"
   },
   {
    "duration": 314,
    "start_time": "2022-10-18T11:40:49.297Z"
   },
   {
    "duration": 6,
    "start_time": "2022-10-18T11:41:09.144Z"
   },
   {
    "duration": 298,
    "start_time": "2022-10-18T11:42:06.865Z"
   },
   {
    "duration": 9,
    "start_time": "2022-10-18T11:43:31.601Z"
   },
   {
    "duration": 345,
    "start_time": "2022-10-18T11:43:39.434Z"
   },
   {
    "duration": 8,
    "start_time": "2022-10-18T11:43:43.385Z"
   },
   {
    "duration": 371,
    "start_time": "2022-10-18T11:43:45.001Z"
   },
   {
    "duration": 102,
    "start_time": "2022-10-18T11:51:25.062Z"
   },
   {
    "duration": 6,
    "start_time": "2022-10-18T11:51:34.998Z"
   },
   {
    "duration": 410,
    "start_time": "2022-10-18T11:54:54.259Z"
   },
   {
    "duration": 19,
    "start_time": "2022-10-18T11:54:54.671Z"
   },
   {
    "duration": 37,
    "start_time": "2022-10-18T11:54:54.692Z"
   },
   {
    "duration": 8,
    "start_time": "2022-10-18T11:54:54.731Z"
   },
   {
    "duration": 45,
    "start_time": "2022-10-18T11:54:54.740Z"
   },
   {
    "duration": 3,
    "start_time": "2022-10-18T11:54:54.786Z"
   },
   {
    "duration": 30,
    "start_time": "2022-10-18T11:54:54.790Z"
   },
   {
    "duration": 17,
    "start_time": "2022-10-18T11:54:54.822Z"
   },
   {
    "duration": 20,
    "start_time": "2022-10-18T11:54:54.841Z"
   },
   {
    "duration": 10,
    "start_time": "2022-10-18T11:54:54.864Z"
   },
   {
    "duration": 57,
    "start_time": "2022-10-18T11:54:54.876Z"
   },
   {
    "duration": 10,
    "start_time": "2022-10-18T11:54:54.934Z"
   },
   {
    "duration": 10,
    "start_time": "2022-10-18T11:54:54.945Z"
   },
   {
    "duration": 35,
    "start_time": "2022-10-18T11:54:54.956Z"
   },
   {
    "duration": 23,
    "start_time": "2022-10-18T11:54:54.992Z"
   },
   {
    "duration": 34,
    "start_time": "2022-10-18T11:54:55.016Z"
   },
   {
    "duration": 6,
    "start_time": "2022-10-18T11:54:55.052Z"
   },
   {
    "duration": 31,
    "start_time": "2022-10-18T11:54:55.059Z"
   },
   {
    "duration": 17,
    "start_time": "2022-10-18T11:54:55.092Z"
   },
   {
    "duration": 30,
    "start_time": "2022-10-18T11:54:55.110Z"
   },
   {
    "duration": 23,
    "start_time": "2022-10-18T11:54:55.141Z"
   },
   {
    "duration": 13,
    "start_time": "2022-10-18T11:54:55.165Z"
   },
   {
    "duration": 41,
    "start_time": "2022-10-18T11:54:55.180Z"
   },
   {
    "duration": 706,
    "start_time": "2022-10-18T11:54:55.223Z"
   },
   {
    "duration": 6,
    "start_time": "2022-10-18T11:54:55.931Z"
   },
   {
    "duration": 355,
    "start_time": "2022-10-18T11:54:55.939Z"
   },
   {
    "duration": 6,
    "start_time": "2022-10-18T11:54:56.296Z"
   },
   {
    "duration": 329,
    "start_time": "2022-10-18T11:54:56.305Z"
   },
   {
    "duration": 4,
    "start_time": "2022-10-18T11:54:56.636Z"
   },
   {
    "duration": 10,
    "start_time": "2022-10-18T11:54:56.641Z"
   },
   {
    "duration": 287,
    "start_time": "2022-10-18T11:54:56.652Z"
   },
   {
    "duration": 5,
    "start_time": "2022-10-18T11:54:56.941Z"
   },
   {
    "duration": 287,
    "start_time": "2022-10-18T11:54:56.948Z"
   },
   {
    "duration": 8,
    "start_time": "2022-10-18T11:54:57.237Z"
   },
   {
    "duration": 366,
    "start_time": "2022-10-18T11:54:57.246Z"
   },
   {
    "duration": 9,
    "start_time": "2022-10-18T11:54:57.613Z"
   },
   {
    "duration": 374,
    "start_time": "2022-10-18T11:54:57.624Z"
   },
   {
    "duration": 6,
    "start_time": "2022-10-18T11:54:58.000Z"
   },
   {
    "duration": 10,
    "start_time": "2022-10-18T11:55:11.574Z"
   },
   {
    "duration": 352,
    "start_time": "2022-10-18T11:55:50.105Z"
   },
   {
    "duration": 343,
    "start_time": "2022-10-18T11:56:12.273Z"
   },
   {
    "duration": 469,
    "start_time": "2022-10-18T11:56:22.666Z"
   },
   {
    "duration": 381,
    "start_time": "2022-10-18T11:56:35.017Z"
   },
   {
    "duration": 7,
    "start_time": "2022-10-18T11:56:53.537Z"
   },
   {
    "duration": 281,
    "start_time": "2022-10-18T11:57:29.234Z"
   },
   {
    "duration": 449,
    "start_time": "2022-10-18T11:57:49.821Z"
   },
   {
    "duration": 19,
    "start_time": "2022-10-18T11:57:50.272Z"
   },
   {
    "duration": 14,
    "start_time": "2022-10-18T11:57:50.293Z"
   },
   {
    "duration": 19,
    "start_time": "2022-10-18T11:57:50.308Z"
   },
   {
    "duration": 31,
    "start_time": "2022-10-18T11:57:50.329Z"
   },
   {
    "duration": 3,
    "start_time": "2022-10-18T11:57:50.361Z"
   },
   {
    "duration": 10,
    "start_time": "2022-10-18T11:57:50.365Z"
   },
   {
    "duration": 13,
    "start_time": "2022-10-18T11:57:50.376Z"
   },
   {
    "duration": 16,
    "start_time": "2022-10-18T11:57:50.390Z"
   },
   {
    "duration": 14,
    "start_time": "2022-10-18T11:57:50.408Z"
   },
   {
    "duration": 43,
    "start_time": "2022-10-18T11:57:50.424Z"
   },
   {
    "duration": 9,
    "start_time": "2022-10-18T11:57:50.468Z"
   },
   {
    "duration": 11,
    "start_time": "2022-10-18T11:57:50.478Z"
   },
   {
    "duration": 11,
    "start_time": "2022-10-18T11:57:50.491Z"
   },
   {
    "duration": 20,
    "start_time": "2022-10-18T11:57:50.504Z"
   },
   {
    "duration": 15,
    "start_time": "2022-10-18T11:57:50.525Z"
   },
   {
    "duration": 3,
    "start_time": "2022-10-18T11:57:50.542Z"
   },
   {
    "duration": 13,
    "start_time": "2022-10-18T11:57:50.546Z"
   },
   {
    "duration": 5,
    "start_time": "2022-10-18T11:57:50.560Z"
   },
   {
    "duration": 7,
    "start_time": "2022-10-18T11:57:50.567Z"
   },
   {
    "duration": 12,
    "start_time": "2022-10-18T11:57:50.575Z"
   },
   {
    "duration": 3,
    "start_time": "2022-10-18T11:57:50.589Z"
   },
   {
    "duration": 5,
    "start_time": "2022-10-18T11:57:50.594Z"
   },
   {
    "duration": 712,
    "start_time": "2022-10-18T11:57:50.622Z"
   },
   {
    "duration": 7,
    "start_time": "2022-10-18T11:57:51.336Z"
   },
   {
    "duration": 341,
    "start_time": "2022-10-18T11:57:51.344Z"
   },
   {
    "duration": 5,
    "start_time": "2022-10-18T11:57:51.687Z"
   },
   {
    "duration": 351,
    "start_time": "2022-10-18T11:57:51.694Z"
   },
   {
    "duration": 4,
    "start_time": "2022-10-18T11:57:52.047Z"
   },
   {
    "duration": 8,
    "start_time": "2022-10-18T11:57:52.053Z"
   },
   {
    "duration": 326,
    "start_time": "2022-10-18T11:57:52.063Z"
   },
   {
    "duration": 5,
    "start_time": "2022-10-18T11:57:52.391Z"
   },
   {
    "duration": 308,
    "start_time": "2022-10-18T11:57:52.397Z"
   },
   {
    "duration": 18,
    "start_time": "2022-10-18T11:57:52.707Z"
   },
   {
    "duration": 350,
    "start_time": "2022-10-18T11:57:52.726Z"
   },
   {
    "duration": 8,
    "start_time": "2022-10-18T11:57:53.078Z"
   },
   {
    "duration": 403,
    "start_time": "2022-10-18T11:57:53.087Z"
   },
   {
    "duration": 7,
    "start_time": "2022-10-18T11:57:53.491Z"
   },
   {
    "duration": 13,
    "start_time": "2022-10-18T11:57:53.499Z"
   },
   {
    "duration": 302,
    "start_time": "2022-10-18T11:57:53.522Z"
   },
   {
    "duration": 6,
    "start_time": "2022-10-18T11:57:53.826Z"
   },
   {
    "duration": 315,
    "start_time": "2022-10-18T11:57:53.834Z"
   },
   {
    "duration": 470,
    "start_time": "2022-10-18T11:58:30.299Z"
   },
   {
    "duration": 21,
    "start_time": "2022-10-18T11:58:30.771Z"
   },
   {
    "duration": 30,
    "start_time": "2022-10-18T11:58:30.793Z"
   },
   {
    "duration": 20,
    "start_time": "2022-10-18T11:58:30.824Z"
   },
   {
    "duration": 36,
    "start_time": "2022-10-18T11:58:30.845Z"
   },
   {
    "duration": 3,
    "start_time": "2022-10-18T11:58:30.883Z"
   },
   {
    "duration": 11,
    "start_time": "2022-10-18T11:58:30.888Z"
   },
   {
    "duration": 4,
    "start_time": "2022-10-18T11:58:30.900Z"
   },
   {
    "duration": 16,
    "start_time": "2022-10-18T11:58:30.905Z"
   },
   {
    "duration": 4,
    "start_time": "2022-10-18T11:58:30.924Z"
   },
   {
    "duration": 38,
    "start_time": "2022-10-18T11:58:30.929Z"
   },
   {
    "duration": 9,
    "start_time": "2022-10-18T11:58:30.968Z"
   },
   {
    "duration": 8,
    "start_time": "2022-10-18T11:58:30.978Z"
   },
   {
    "duration": 17,
    "start_time": "2022-10-18T11:58:30.987Z"
   },
   {
    "duration": 28,
    "start_time": "2022-10-18T11:58:31.006Z"
   },
   {
    "duration": 16,
    "start_time": "2022-10-18T11:58:31.036Z"
   },
   {
    "duration": 6,
    "start_time": "2022-10-18T11:58:31.053Z"
   },
   {
    "duration": 19,
    "start_time": "2022-10-18T11:58:31.061Z"
   },
   {
    "duration": 11,
    "start_time": "2022-10-18T11:58:31.081Z"
   },
   {
    "duration": 16,
    "start_time": "2022-10-18T11:58:31.093Z"
   },
   {
    "duration": 12,
    "start_time": "2022-10-18T11:58:31.111Z"
   },
   {
    "duration": 2,
    "start_time": "2022-10-18T11:58:31.125Z"
   },
   {
    "duration": 8,
    "start_time": "2022-10-18T11:58:31.129Z"
   },
   {
    "duration": 706,
    "start_time": "2022-10-18T11:58:31.138Z"
   },
   {
    "duration": 7,
    "start_time": "2022-10-18T11:58:31.845Z"
   },
   {
    "duration": 330,
    "start_time": "2022-10-18T11:58:31.854Z"
   },
   {
    "duration": 6,
    "start_time": "2022-10-18T11:58:32.186Z"
   },
   {
    "duration": 361,
    "start_time": "2022-10-18T11:58:32.195Z"
   },
   {
    "duration": 4,
    "start_time": "2022-10-18T11:58:32.558Z"
   },
   {
    "duration": 9,
    "start_time": "2022-10-18T11:58:32.564Z"
   },
   {
    "duration": 332,
    "start_time": "2022-10-18T11:58:32.575Z"
   },
   {
    "duration": 14,
    "start_time": "2022-10-18T11:58:32.908Z"
   },
   {
    "duration": 288,
    "start_time": "2022-10-18T11:58:32.924Z"
   },
   {
    "duration": 15,
    "start_time": "2022-10-18T11:58:33.213Z"
   },
   {
    "duration": 339,
    "start_time": "2022-10-18T11:58:33.229Z"
   },
   {
    "duration": 8,
    "start_time": "2022-10-18T11:58:33.569Z"
   },
   {
    "duration": 378,
    "start_time": "2022-10-18T11:58:33.579Z"
   },
   {
    "duration": 7,
    "start_time": "2022-10-18T11:58:33.959Z"
   },
   {
    "duration": 9,
    "start_time": "2022-10-18T11:58:33.967Z"
   },
   {
    "duration": 325,
    "start_time": "2022-10-18T11:58:33.977Z"
   },
   {
    "duration": 7,
    "start_time": "2022-10-18T11:58:34.303Z"
   },
   {
    "duration": 301,
    "start_time": "2022-10-18T11:58:34.322Z"
   },
   {
    "duration": 488,
    "start_time": "2022-10-18T12:00:08.537Z"
   },
   {
    "duration": 21,
    "start_time": "2022-10-18T12:00:09.027Z"
   },
   {
    "duration": 52,
    "start_time": "2022-10-18T12:00:09.049Z"
   },
   {
    "duration": 36,
    "start_time": "2022-10-18T12:00:09.103Z"
   },
   {
    "duration": 54,
    "start_time": "2022-10-18T12:00:09.141Z"
   },
   {
    "duration": 3,
    "start_time": "2022-10-18T12:00:09.197Z"
   },
   {
    "duration": 43,
    "start_time": "2022-10-18T12:00:09.201Z"
   },
   {
    "duration": 34,
    "start_time": "2022-10-18T12:00:09.245Z"
   },
   {
    "duration": 46,
    "start_time": "2022-10-18T12:00:09.280Z"
   },
   {
    "duration": 43,
    "start_time": "2022-10-18T12:00:09.329Z"
   },
   {
    "duration": 91,
    "start_time": "2022-10-18T12:00:09.374Z"
   },
   {
    "duration": 19,
    "start_time": "2022-10-18T12:00:09.467Z"
   },
   {
    "duration": 48,
    "start_time": "2022-10-18T12:00:09.488Z"
   },
   {
    "duration": 33,
    "start_time": "2022-10-18T12:00:09.537Z"
   },
   {
    "duration": 78,
    "start_time": "2022-10-18T12:00:09.572Z"
   },
   {
    "duration": 37,
    "start_time": "2022-10-18T12:00:09.652Z"
   },
   {
    "duration": 52,
    "start_time": "2022-10-18T12:00:09.691Z"
   },
   {
    "duration": 30,
    "start_time": "2022-10-18T12:00:09.744Z"
   },
   {
    "duration": 52,
    "start_time": "2022-10-18T12:00:09.776Z"
   },
   {
    "duration": 31,
    "start_time": "2022-10-18T12:00:09.830Z"
   },
   {
    "duration": 48,
    "start_time": "2022-10-18T12:00:09.862Z"
   },
   {
    "duration": 28,
    "start_time": "2022-10-18T12:00:09.911Z"
   },
   {
    "duration": 49,
    "start_time": "2022-10-18T12:00:09.941Z"
   },
   {
    "duration": 723,
    "start_time": "2022-10-18T12:00:09.992Z"
   },
   {
    "duration": 8,
    "start_time": "2022-10-18T12:00:10.717Z"
   },
   {
    "duration": 321,
    "start_time": "2022-10-18T12:00:10.726Z"
   },
   {
    "duration": 5,
    "start_time": "2022-10-18T12:00:11.049Z"
   },
   {
    "duration": 368,
    "start_time": "2022-10-18T12:00:11.059Z"
   },
   {
    "duration": 4,
    "start_time": "2022-10-18T12:00:11.428Z"
   },
   {
    "duration": 34,
    "start_time": "2022-10-18T12:00:11.434Z"
   },
   {
    "duration": 329,
    "start_time": "2022-10-18T12:00:11.470Z"
   },
   {
    "duration": 6,
    "start_time": "2022-10-18T12:00:11.801Z"
   },
   {
    "duration": 305,
    "start_time": "2022-10-18T12:00:11.821Z"
   },
   {
    "duration": 8,
    "start_time": "2022-10-18T12:00:12.127Z"
   },
   {
    "duration": 416,
    "start_time": "2022-10-18T12:00:12.137Z"
   },
   {
    "duration": 7,
    "start_time": "2022-10-18T12:00:12.554Z"
   },
   {
    "duration": 397,
    "start_time": "2022-10-18T12:00:12.563Z"
   },
   {
    "duration": 6,
    "start_time": "2022-10-18T12:00:12.961Z"
   },
   {
    "duration": 39,
    "start_time": "2022-10-18T12:00:12.969Z"
   },
   {
    "duration": 316,
    "start_time": "2022-10-18T12:00:13.009Z"
   },
   {
    "duration": 6,
    "start_time": "2022-10-18T12:00:13.327Z"
   },
   {
    "duration": 320,
    "start_time": "2022-10-18T12:00:13.335Z"
   },
   {
    "duration": 434,
    "start_time": "2022-10-18T12:00:37.535Z"
   },
   {
    "duration": 462,
    "start_time": "2022-10-18T12:01:02.592Z"
   },
   {
    "duration": 27,
    "start_time": "2022-10-18T12:01:03.056Z"
   },
   {
    "duration": 21,
    "start_time": "2022-10-18T12:01:03.085Z"
   },
   {
    "duration": 29,
    "start_time": "2022-10-18T12:01:03.108Z"
   },
   {
    "duration": 38,
    "start_time": "2022-10-18T12:01:03.139Z"
   },
   {
    "duration": 4,
    "start_time": "2022-10-18T12:01:03.178Z"
   },
   {
    "duration": 12,
    "start_time": "2022-10-18T12:01:03.183Z"
   },
   {
    "duration": 6,
    "start_time": "2022-10-18T12:01:03.197Z"
   },
   {
    "duration": 11,
    "start_time": "2022-10-18T12:01:03.204Z"
   },
   {
    "duration": 4,
    "start_time": "2022-10-18T12:01:03.221Z"
   },
   {
    "duration": 36,
    "start_time": "2022-10-18T12:01:03.227Z"
   },
   {
    "duration": 11,
    "start_time": "2022-10-18T12:01:03.264Z"
   },
   {
    "duration": 6,
    "start_time": "2022-10-18T12:01:03.276Z"
   },
   {
    "duration": 39,
    "start_time": "2022-10-18T12:01:03.283Z"
   },
   {
    "duration": 31,
    "start_time": "2022-10-18T12:01:03.324Z"
   },
   {
    "duration": 17,
    "start_time": "2022-10-18T12:01:03.357Z"
   },
   {
    "duration": 3,
    "start_time": "2022-10-18T12:01:03.376Z"
   },
   {
    "duration": 14,
    "start_time": "2022-10-18T12:01:03.381Z"
   },
   {
    "duration": 6,
    "start_time": "2022-10-18T12:01:03.396Z"
   },
   {
    "duration": 4,
    "start_time": "2022-10-18T12:01:03.403Z"
   },
   {
    "duration": 8,
    "start_time": "2022-10-18T12:01:03.422Z"
   },
   {
    "duration": 5,
    "start_time": "2022-10-18T12:01:03.432Z"
   },
   {
    "duration": 5,
    "start_time": "2022-10-18T12:01:03.438Z"
   },
   {
    "duration": 689,
    "start_time": "2022-10-18T12:01:03.445Z"
   },
   {
    "duration": 6,
    "start_time": "2022-10-18T12:01:04.136Z"
   },
   {
    "duration": 336,
    "start_time": "2022-10-18T12:01:04.143Z"
   },
   {
    "duration": 6,
    "start_time": "2022-10-18T12:01:04.480Z"
   },
   {
    "duration": 346,
    "start_time": "2022-10-18T12:01:04.489Z"
   },
   {
    "duration": 5,
    "start_time": "2022-10-18T12:01:04.837Z"
   },
   {
    "duration": 29,
    "start_time": "2022-10-18T12:01:04.843Z"
   },
   {
    "duration": 315,
    "start_time": "2022-10-18T12:01:04.874Z"
   },
   {
    "duration": 5,
    "start_time": "2022-10-18T12:01:05.190Z"
   },
   {
    "duration": 306,
    "start_time": "2022-10-18T12:01:05.197Z"
   },
   {
    "duration": 18,
    "start_time": "2022-10-18T12:01:05.505Z"
   },
   {
    "duration": 371,
    "start_time": "2022-10-18T12:01:05.525Z"
   },
   {
    "duration": 7,
    "start_time": "2022-10-18T12:01:05.898Z"
   },
   {
    "duration": 363,
    "start_time": "2022-10-18T12:01:05.907Z"
   },
   {
    "duration": 7,
    "start_time": "2022-10-18T12:01:06.272Z"
   },
   {
    "duration": 21,
    "start_time": "2022-10-18T12:01:06.281Z"
   },
   {
    "duration": 433,
    "start_time": "2022-10-18T12:01:06.304Z"
   },
   {
    "duration": 7,
    "start_time": "2022-10-18T12:01:06.739Z"
   },
   {
    "duration": 316,
    "start_time": "2022-10-18T12:01:06.748Z"
   },
   {
    "duration": 458,
    "start_time": "2022-10-18T12:03:01.534Z"
   },
   {
    "duration": 21,
    "start_time": "2022-10-18T12:03:01.994Z"
   },
   {
    "duration": 16,
    "start_time": "2022-10-18T12:03:02.017Z"
   },
   {
    "duration": 10,
    "start_time": "2022-10-18T12:03:02.036Z"
   },
   {
    "duration": 42,
    "start_time": "2022-10-18T12:03:02.047Z"
   },
   {
    "duration": 3,
    "start_time": "2022-10-18T12:03:02.091Z"
   },
   {
    "duration": 29,
    "start_time": "2022-10-18T12:03:02.096Z"
   },
   {
    "duration": 13,
    "start_time": "2022-10-18T12:03:02.127Z"
   },
   {
    "duration": 34,
    "start_time": "2022-10-18T12:03:02.142Z"
   },
   {
    "duration": 21,
    "start_time": "2022-10-18T12:03:02.180Z"
   },
   {
    "duration": 66,
    "start_time": "2022-10-18T12:03:02.202Z"
   },
   {
    "duration": 9,
    "start_time": "2022-10-18T12:03:02.269Z"
   },
   {
    "duration": 9,
    "start_time": "2022-10-18T12:03:02.280Z"
   },
   {
    "duration": 18,
    "start_time": "2022-10-18T12:03:02.291Z"
   },
   {
    "duration": 24,
    "start_time": "2022-10-18T12:03:02.311Z"
   },
   {
    "duration": 16,
    "start_time": "2022-10-18T12:03:02.336Z"
   },
   {
    "duration": 3,
    "start_time": "2022-10-18T12:03:02.354Z"
   },
   {
    "duration": 21,
    "start_time": "2022-10-18T12:03:02.358Z"
   },
   {
    "duration": 18,
    "start_time": "2022-10-18T12:03:02.381Z"
   },
   {
    "duration": 17,
    "start_time": "2022-10-18T12:03:02.401Z"
   },
   {
    "duration": 20,
    "start_time": "2022-10-18T12:03:02.419Z"
   },
   {
    "duration": 11,
    "start_time": "2022-10-18T12:03:02.441Z"
   },
   {
    "duration": 13,
    "start_time": "2022-10-18T12:03:02.454Z"
   },
   {
    "duration": 727,
    "start_time": "2022-10-18T12:03:02.468Z"
   },
   {
    "duration": 6,
    "start_time": "2022-10-18T12:03:03.197Z"
   },
   {
    "duration": 353,
    "start_time": "2022-10-18T12:03:03.204Z"
   },
   {
    "duration": 6,
    "start_time": "2022-10-18T12:03:03.558Z"
   },
   {
    "duration": 384,
    "start_time": "2022-10-18T12:03:03.567Z"
   },
   {
    "duration": 8,
    "start_time": "2022-10-18T12:03:03.953Z"
   },
   {
    "duration": 38,
    "start_time": "2022-10-18T12:03:03.962Z"
   },
   {
    "duration": 311,
    "start_time": "2022-10-18T12:03:04.002Z"
   },
   {
    "duration": 12,
    "start_time": "2022-10-18T12:03:04.315Z"
   },
   {
    "duration": 358,
    "start_time": "2022-10-18T12:03:04.328Z"
   },
   {
    "duration": 8,
    "start_time": "2022-10-18T12:03:04.687Z"
   },
   {
    "duration": 388,
    "start_time": "2022-10-18T12:03:04.696Z"
   },
   {
    "duration": 8,
    "start_time": "2022-10-18T12:03:05.086Z"
   },
   {
    "duration": 388,
    "start_time": "2022-10-18T12:03:05.096Z"
   },
   {
    "duration": 7,
    "start_time": "2022-10-18T12:03:05.486Z"
   },
   {
    "duration": 22,
    "start_time": "2022-10-18T12:03:05.495Z"
   },
   {
    "duration": 435,
    "start_time": "2022-10-18T12:03:05.518Z"
   },
   {
    "duration": 7,
    "start_time": "2022-10-18T12:03:05.955Z"
   },
   {
    "duration": 337,
    "start_time": "2022-10-18T12:03:05.963Z"
   },
   {
    "duration": 419,
    "start_time": "2022-10-18T12:04:04.836Z"
   },
   {
    "duration": 443,
    "start_time": "2022-10-18T12:04:31.952Z"
   },
   {
    "duration": 20,
    "start_time": "2022-10-18T12:04:32.397Z"
   },
   {
    "duration": 13,
    "start_time": "2022-10-18T12:04:32.418Z"
   },
   {
    "duration": 10,
    "start_time": "2022-10-18T12:04:32.434Z"
   },
   {
    "duration": 36,
    "start_time": "2022-10-18T12:04:32.445Z"
   },
   {
    "duration": 4,
    "start_time": "2022-10-18T12:04:32.482Z"
   },
   {
    "duration": 11,
    "start_time": "2022-10-18T12:04:32.487Z"
   },
   {
    "duration": 25,
    "start_time": "2022-10-18T12:04:32.499Z"
   },
   {
    "duration": 9,
    "start_time": "2022-10-18T12:04:32.525Z"
   },
   {
    "duration": 7,
    "start_time": "2022-10-18T12:04:32.536Z"
   },
   {
    "duration": 34,
    "start_time": "2022-10-18T12:04:32.544Z"
   },
   {
    "duration": 9,
    "start_time": "2022-10-18T12:04:32.580Z"
   },
   {
    "duration": 3,
    "start_time": "2022-10-18T12:04:32.591Z"
   },
   {
    "duration": 34,
    "start_time": "2022-10-18T12:04:32.595Z"
   },
   {
    "duration": 18,
    "start_time": "2022-10-18T12:04:32.630Z"
   },
   {
    "duration": 15,
    "start_time": "2022-10-18T12:04:32.649Z"
   },
   {
    "duration": 3,
    "start_time": "2022-10-18T12:04:32.666Z"
   },
   {
    "duration": 16,
    "start_time": "2022-10-18T12:04:32.670Z"
   },
   {
    "duration": 10,
    "start_time": "2022-10-18T12:04:32.688Z"
   },
   {
    "duration": 25,
    "start_time": "2022-10-18T12:04:32.699Z"
   },
   {
    "duration": 12,
    "start_time": "2022-10-18T12:04:32.726Z"
   },
   {
    "duration": 3,
    "start_time": "2022-10-18T12:04:32.740Z"
   },
   {
    "duration": 8,
    "start_time": "2022-10-18T12:04:32.744Z"
   },
   {
    "duration": 689,
    "start_time": "2022-10-18T12:04:32.753Z"
   },
   {
    "duration": 6,
    "start_time": "2022-10-18T12:04:33.444Z"
   },
   {
    "duration": 320,
    "start_time": "2022-10-18T12:04:33.452Z"
   },
   {
    "duration": 6,
    "start_time": "2022-10-18T12:04:33.774Z"
   },
   {
    "duration": 351,
    "start_time": "2022-10-18T12:04:33.782Z"
   },
   {
    "duration": 7,
    "start_time": "2022-10-18T12:04:34.134Z"
   },
   {
    "duration": 12,
    "start_time": "2022-10-18T12:04:34.142Z"
   },
   {
    "duration": 476,
    "start_time": "2022-10-18T12:04:34.155Z"
   },
   {
    "duration": 6,
    "start_time": "2022-10-18T12:04:34.633Z"
   },
   {
    "duration": 289,
    "start_time": "2022-10-18T12:04:34.640Z"
   },
   {
    "duration": 8,
    "start_time": "2022-10-18T12:04:34.930Z"
   },
   {
    "duration": 335,
    "start_time": "2022-10-18T12:04:34.939Z"
   },
   {
    "duration": 6,
    "start_time": "2022-10-18T12:04:35.275Z"
   },
   {
    "duration": 393,
    "start_time": "2022-10-18T12:04:35.283Z"
   },
   {
    "duration": 7,
    "start_time": "2022-10-18T12:04:35.678Z"
   },
   {
    "duration": 16,
    "start_time": "2022-10-18T12:04:35.686Z"
   },
   {
    "duration": 449,
    "start_time": "2022-10-18T12:04:35.704Z"
   },
   {
    "duration": 7,
    "start_time": "2022-10-18T12:04:36.155Z"
   },
   {
    "duration": 333,
    "start_time": "2022-10-18T12:04:36.164Z"
   },
   {
    "duration": 545,
    "start_time": "2022-10-18T12:05:55.975Z"
   },
   {
    "duration": 446,
    "start_time": "2022-10-18T12:06:08.746Z"
   },
   {
    "duration": 20,
    "start_time": "2022-10-18T12:06:09.194Z"
   },
   {
    "duration": 20,
    "start_time": "2022-10-18T12:06:09.215Z"
   },
   {
    "duration": 14,
    "start_time": "2022-10-18T12:06:09.237Z"
   },
   {
    "duration": 37,
    "start_time": "2022-10-18T12:06:09.253Z"
   },
   {
    "duration": 3,
    "start_time": "2022-10-18T12:06:09.292Z"
   },
   {
    "duration": 37,
    "start_time": "2022-10-18T12:06:09.296Z"
   },
   {
    "duration": 31,
    "start_time": "2022-10-18T12:06:09.334Z"
   },
   {
    "duration": 27,
    "start_time": "2022-10-18T12:06:09.367Z"
   },
   {
    "duration": 5,
    "start_time": "2022-10-18T12:06:09.397Z"
   },
   {
    "duration": 41,
    "start_time": "2022-10-18T12:06:09.403Z"
   },
   {
    "duration": 9,
    "start_time": "2022-10-18T12:06:09.446Z"
   },
   {
    "duration": 5,
    "start_time": "2022-10-18T12:06:09.457Z"
   },
   {
    "duration": 25,
    "start_time": "2022-10-18T12:06:09.464Z"
   },
   {
    "duration": 39,
    "start_time": "2022-10-18T12:06:09.491Z"
   },
   {
    "duration": 18,
    "start_time": "2022-10-18T12:06:09.531Z"
   },
   {
    "duration": 4,
    "start_time": "2022-10-18T12:06:09.550Z"
   },
   {
    "duration": 15,
    "start_time": "2022-10-18T12:06:09.555Z"
   },
   {
    "duration": 10,
    "start_time": "2022-10-18T12:06:09.572Z"
   },
   {
    "duration": 4,
    "start_time": "2022-10-18T12:06:09.583Z"
   },
   {
    "duration": 10,
    "start_time": "2022-10-18T12:06:09.588Z"
   },
   {
    "duration": 2,
    "start_time": "2022-10-18T12:06:09.600Z"
   },
   {
    "duration": 19,
    "start_time": "2022-10-18T12:06:09.603Z"
   },
   {
    "duration": 701,
    "start_time": "2022-10-18T12:06:09.624Z"
   },
   {
    "duration": 7,
    "start_time": "2022-10-18T12:06:10.326Z"
   },
   {
    "duration": 318,
    "start_time": "2022-10-18T12:06:10.334Z"
   },
   {
    "duration": 6,
    "start_time": "2022-10-18T12:06:10.654Z"
   },
   {
    "duration": 372,
    "start_time": "2022-10-18T12:06:10.663Z"
   },
   {
    "duration": 7,
    "start_time": "2022-10-18T12:06:11.037Z"
   },
   {
    "duration": 9,
    "start_time": "2022-10-18T12:06:11.046Z"
   },
   {
    "duration": 481,
    "start_time": "2022-10-18T12:06:11.056Z"
   },
   {
    "duration": 7,
    "start_time": "2022-10-18T12:06:11.538Z"
   },
   {
    "duration": 379,
    "start_time": "2022-10-18T12:06:11.547Z"
   },
   {
    "duration": 8,
    "start_time": "2022-10-18T12:06:11.928Z"
   },
   {
    "duration": 370,
    "start_time": "2022-10-18T12:06:11.938Z"
   },
   {
    "duration": 12,
    "start_time": "2022-10-18T12:06:12.310Z"
   },
   {
    "duration": 360,
    "start_time": "2022-10-18T12:06:12.324Z"
   },
   {
    "duration": 7,
    "start_time": "2022-10-18T12:06:12.685Z"
   },
   {
    "duration": 7,
    "start_time": "2022-10-18T12:06:12.694Z"
   },
   {
    "duration": 450,
    "start_time": "2022-10-18T12:06:12.703Z"
   },
   {
    "duration": 6,
    "start_time": "2022-10-18T12:06:13.155Z"
   },
   {
    "duration": 338,
    "start_time": "2022-10-18T12:06:13.162Z"
   },
   {
    "duration": 7,
    "start_time": "2022-10-18T12:06:13.502Z"
   },
   {
    "duration": 323,
    "start_time": "2022-10-18T12:06:13.510Z"
   },
   {
    "duration": 7,
    "start_time": "2022-10-18T12:06:13.835Z"
   },
   {
    "duration": 393,
    "start_time": "2022-10-18T12:06:13.843Z"
   },
   {
    "duration": 8,
    "start_time": "2022-10-18T12:06:14.238Z"
   },
   {
    "duration": 321,
    "start_time": "2022-10-18T12:06:14.248Z"
   },
   {
    "duration": 7,
    "start_time": "2022-10-18T12:06:14.570Z"
   },
   {
    "duration": 382,
    "start_time": "2022-10-18T12:06:14.578Z"
   },
   {
    "duration": 48,
    "start_time": "2022-10-19T04:26:06.227Z"
   },
   {
    "duration": 503,
    "start_time": "2022-10-19T04:26:12.830Z"
   },
   {
    "duration": 23,
    "start_time": "2022-10-19T04:26:13.335Z"
   },
   {
    "duration": 14,
    "start_time": "2022-10-19T04:26:13.360Z"
   },
   {
    "duration": 9,
    "start_time": "2022-10-19T04:26:13.376Z"
   },
   {
    "duration": 57,
    "start_time": "2022-10-19T04:26:13.387Z"
   },
   {
    "duration": 3,
    "start_time": "2022-10-19T04:26:13.446Z"
   },
   {
    "duration": 13,
    "start_time": "2022-10-19T04:26:13.451Z"
   },
   {
    "duration": 5,
    "start_time": "2022-10-19T04:26:13.465Z"
   },
   {
    "duration": 15,
    "start_time": "2022-10-19T04:26:13.472Z"
   },
   {
    "duration": 5,
    "start_time": "2022-10-19T04:26:13.490Z"
   },
   {
    "duration": 55,
    "start_time": "2022-10-19T04:26:13.497Z"
   },
   {
    "duration": 11,
    "start_time": "2022-10-19T04:26:13.554Z"
   },
   {
    "duration": 6,
    "start_time": "2022-10-19T04:26:13.567Z"
   },
   {
    "duration": 16,
    "start_time": "2022-10-19T04:26:13.575Z"
   },
   {
    "duration": 41,
    "start_time": "2022-10-19T04:26:13.592Z"
   },
   {
    "duration": 17,
    "start_time": "2022-10-19T04:26:13.635Z"
   },
   {
    "duration": 4,
    "start_time": "2022-10-19T04:26:13.654Z"
   },
   {
    "duration": 16,
    "start_time": "2022-10-19T04:26:13.659Z"
   },
   {
    "duration": 11,
    "start_time": "2022-10-19T04:26:13.677Z"
   },
   {
    "duration": 8,
    "start_time": "2022-10-19T04:26:13.690Z"
   },
   {
    "duration": 25,
    "start_time": "2022-10-19T04:26:13.700Z"
   },
   {
    "duration": 10,
    "start_time": "2022-10-19T04:26:13.727Z"
   },
   {
    "duration": 6,
    "start_time": "2022-10-19T04:26:13.739Z"
   },
   {
    "duration": 921,
    "start_time": "2022-10-19T04:26:13.747Z"
   },
   {
    "duration": 8,
    "start_time": "2022-10-19T04:26:14.669Z"
   },
   {
    "duration": 421,
    "start_time": "2022-10-19T04:26:14.679Z"
   },
   {
    "duration": 7,
    "start_time": "2022-10-19T04:26:15.102Z"
   },
   {
    "duration": 359,
    "start_time": "2022-10-19T04:26:15.112Z"
   },
   {
    "duration": 8,
    "start_time": "2022-10-19T04:26:15.473Z"
   },
   {
    "duration": 9,
    "start_time": "2022-10-19T04:26:15.483Z"
   },
   {
    "duration": 486,
    "start_time": "2022-10-19T04:26:15.493Z"
   },
   {
    "duration": 8,
    "start_time": "2022-10-19T04:26:15.981Z"
   },
   {
    "duration": 343,
    "start_time": "2022-10-19T04:26:15.990Z"
   },
   {
    "duration": 8,
    "start_time": "2022-10-19T04:26:16.334Z"
   },
   {
    "duration": 372,
    "start_time": "2022-10-19T04:26:16.344Z"
   },
   {
    "duration": 8,
    "start_time": "2022-10-19T04:26:16.717Z"
   },
   {
    "duration": 362,
    "start_time": "2022-10-19T04:26:16.726Z"
   },
   {
    "duration": 7,
    "start_time": "2022-10-19T04:26:17.090Z"
   },
   {
    "duration": 23,
    "start_time": "2022-10-19T04:26:17.098Z"
   },
   {
    "duration": 451,
    "start_time": "2022-10-19T04:26:17.123Z"
   },
   {
    "duration": 7,
    "start_time": "2022-10-19T04:26:17.576Z"
   },
   {
    "duration": 419,
    "start_time": "2022-10-19T04:26:17.584Z"
   },
   {
    "duration": 21,
    "start_time": "2022-10-19T04:26:18.005Z"
   },
   {
    "duration": 347,
    "start_time": "2022-10-19T04:26:18.028Z"
   },
   {
    "duration": 8,
    "start_time": "2022-10-19T04:26:18.377Z"
   },
   {
    "duration": 369,
    "start_time": "2022-10-19T04:26:18.387Z"
   },
   {
    "duration": 106,
    "start_time": "2022-10-19T04:26:18.758Z"
   },
   {
    "duration": 0,
    "start_time": "2022-10-19T04:26:18.868Z"
   },
   {
    "duration": 0,
    "start_time": "2022-10-19T04:26:18.870Z"
   },
   {
    "duration": 0,
    "start_time": "2022-10-19T04:26:18.871Z"
   },
   {
    "duration": 0,
    "start_time": "2022-10-19T04:26:18.871Z"
   },
   {
    "duration": 909,
    "start_time": "2022-10-19T04:26:27.277Z"
   },
   {
    "duration": 947,
    "start_time": "2022-10-19T04:26:39.397Z"
   },
   {
    "duration": 3,
    "start_time": "2022-10-19T04:26:55.525Z"
   },
   {
    "duration": 504,
    "start_time": "2022-10-19T04:27:37.149Z"
   },
   {
    "duration": 531,
    "start_time": "2022-10-19T04:27:44.956Z"
   },
   {
    "duration": 463,
    "start_time": "2022-10-19T04:28:53.298Z"
   },
   {
    "duration": 22,
    "start_time": "2022-10-19T04:28:53.762Z"
   },
   {
    "duration": 14,
    "start_time": "2022-10-19T04:28:53.786Z"
   },
   {
    "duration": 22,
    "start_time": "2022-10-19T04:28:53.803Z"
   },
   {
    "duration": 38,
    "start_time": "2022-10-19T04:28:53.826Z"
   },
   {
    "duration": 3,
    "start_time": "2022-10-19T04:28:53.866Z"
   },
   {
    "duration": 12,
    "start_time": "2022-10-19T04:28:53.871Z"
   },
   {
    "duration": 5,
    "start_time": "2022-10-19T04:28:53.885Z"
   },
   {
    "duration": 34,
    "start_time": "2022-10-19T04:28:53.891Z"
   },
   {
    "duration": 4,
    "start_time": "2022-10-19T04:28:53.928Z"
   },
   {
    "duration": 35,
    "start_time": "2022-10-19T04:28:53.933Z"
   },
   {
    "duration": 9,
    "start_time": "2022-10-19T04:28:53.969Z"
   },
   {
    "duration": 9,
    "start_time": "2022-10-19T04:28:53.980Z"
   },
   {
    "duration": 16,
    "start_time": "2022-10-19T04:28:53.990Z"
   },
   {
    "duration": 18,
    "start_time": "2022-10-19T04:28:54.021Z"
   },
   {
    "duration": 16,
    "start_time": "2022-10-19T04:28:54.041Z"
   },
   {
    "duration": 4,
    "start_time": "2022-10-19T04:28:54.059Z"
   },
   {
    "duration": 17,
    "start_time": "2022-10-19T04:28:54.064Z"
   },
   {
    "duration": 6,
    "start_time": "2022-10-19T04:28:54.082Z"
   },
   {
    "duration": 7,
    "start_time": "2022-10-19T04:28:54.089Z"
   },
   {
    "duration": 30,
    "start_time": "2022-10-19T04:28:54.097Z"
   },
   {
    "duration": 11,
    "start_time": "2022-10-19T04:28:54.129Z"
   },
   {
    "duration": 6,
    "start_time": "2022-10-19T04:28:54.142Z"
   },
   {
    "duration": 717,
    "start_time": "2022-10-19T04:28:54.150Z"
   },
   {
    "duration": 6,
    "start_time": "2022-10-19T04:28:54.869Z"
   },
   {
    "duration": 386,
    "start_time": "2022-10-19T04:28:54.877Z"
   },
   {
    "duration": 6,
    "start_time": "2022-10-19T04:28:55.265Z"
   },
   {
    "duration": 370,
    "start_time": "2022-10-19T04:28:55.274Z"
   },
   {
    "duration": 9,
    "start_time": "2022-10-19T04:28:55.646Z"
   },
   {
    "duration": 33,
    "start_time": "2022-10-19T04:28:55.656Z"
   },
   {
    "duration": 488,
    "start_time": "2022-10-19T04:28:55.691Z"
   },
   {
    "duration": 7,
    "start_time": "2022-10-19T04:28:56.181Z"
   },
   {
    "duration": 353,
    "start_time": "2022-10-19T04:28:56.189Z"
   },
   {
    "duration": 9,
    "start_time": "2022-10-19T04:28:56.543Z"
   },
   {
    "duration": 424,
    "start_time": "2022-10-19T04:28:56.553Z"
   },
   {
    "duration": 8,
    "start_time": "2022-10-19T04:28:56.979Z"
   },
   {
    "duration": 401,
    "start_time": "2022-10-19T04:28:56.989Z"
   },
   {
    "duration": 10,
    "start_time": "2022-10-19T04:28:57.392Z"
   },
   {
    "duration": 21,
    "start_time": "2022-10-19T04:28:57.404Z"
   },
   {
    "duration": 472,
    "start_time": "2022-10-19T04:28:57.428Z"
   },
   {
    "duration": 7,
    "start_time": "2022-10-19T04:28:57.902Z"
   },
   {
    "duration": 326,
    "start_time": "2022-10-19T04:28:57.920Z"
   },
   {
    "duration": 7,
    "start_time": "2022-10-19T04:28:58.248Z"
   },
   {
    "duration": 368,
    "start_time": "2022-10-19T04:28:58.257Z"
   },
   {
    "duration": 7,
    "start_time": "2022-10-19T04:28:58.627Z"
   },
   {
    "duration": 503,
    "start_time": "2022-10-19T04:28:58.636Z"
   },
   {
    "duration": 839,
    "start_time": "2022-10-19T04:28:59.141Z"
   },
   {
    "duration": 3,
    "start_time": "2022-10-19T04:28:59.982Z"
   },
   {
    "duration": 564,
    "start_time": "2022-10-19T04:28:59.987Z"
   },
   {
    "duration": 355,
    "start_time": "2022-10-19T04:32:01.800Z"
   },
   {
    "duration": 334,
    "start_time": "2022-10-19T04:32:08.240Z"
   },
   {
    "duration": 333,
    "start_time": "2022-10-19T04:32:45.527Z"
   },
   {
    "duration": 489,
    "start_time": "2022-10-19T04:33:12.535Z"
   },
   {
    "duration": 504,
    "start_time": "2022-10-19T04:33:16.902Z"
   },
   {
    "duration": 404,
    "start_time": "2022-10-19T04:33:19.798Z"
   },
   {
    "duration": 366,
    "start_time": "2022-10-19T04:33:33.797Z"
   },
   {
    "duration": 476,
    "start_time": "2022-10-19T04:33:41.478Z"
   },
   {
    "duration": 495,
    "start_time": "2022-10-19T04:34:42.101Z"
   },
   {
    "duration": 391,
    "start_time": "2022-10-19T04:35:00.716Z"
   },
   {
    "duration": 100,
    "start_time": "2022-10-19T04:35:27.364Z"
   },
   {
    "duration": 339,
    "start_time": "2022-10-19T04:35:33.931Z"
   },
   {
    "duration": 500,
    "start_time": "2022-10-19T04:35:58.637Z"
   },
   {
    "duration": 28,
    "start_time": "2022-10-19T04:35:59.140Z"
   },
   {
    "duration": 17,
    "start_time": "2022-10-19T04:35:59.170Z"
   },
   {
    "duration": 33,
    "start_time": "2022-10-19T04:35:59.190Z"
   },
   {
    "duration": 42,
    "start_time": "2022-10-19T04:35:59.225Z"
   },
   {
    "duration": 4,
    "start_time": "2022-10-19T04:35:59.268Z"
   },
   {
    "duration": 12,
    "start_time": "2022-10-19T04:35:59.274Z"
   },
   {
    "duration": 8,
    "start_time": "2022-10-19T04:35:59.288Z"
   },
   {
    "duration": 28,
    "start_time": "2022-10-19T04:35:59.297Z"
   },
   {
    "duration": 6,
    "start_time": "2022-10-19T04:35:59.328Z"
   },
   {
    "duration": 35,
    "start_time": "2022-10-19T04:35:59.335Z"
   },
   {
    "duration": 9,
    "start_time": "2022-10-19T04:35:59.372Z"
   },
   {
    "duration": 7,
    "start_time": "2022-10-19T04:35:59.383Z"
   },
   {
    "duration": 36,
    "start_time": "2022-10-19T04:35:59.392Z"
   },
   {
    "duration": 20,
    "start_time": "2022-10-19T04:35:59.430Z"
   },
   {
    "duration": 17,
    "start_time": "2022-10-19T04:35:59.452Z"
   },
   {
    "duration": 3,
    "start_time": "2022-10-19T04:35:59.472Z"
   },
   {
    "duration": 17,
    "start_time": "2022-10-19T04:35:59.477Z"
   },
   {
    "duration": 27,
    "start_time": "2022-10-19T04:35:59.495Z"
   },
   {
    "duration": 3,
    "start_time": "2022-10-19T04:35:59.524Z"
   },
   {
    "duration": 22,
    "start_time": "2022-10-19T04:35:59.529Z"
   },
   {
    "duration": 10,
    "start_time": "2022-10-19T04:35:59.552Z"
   },
   {
    "duration": 5,
    "start_time": "2022-10-19T04:35:59.563Z"
   },
   {
    "duration": 732,
    "start_time": "2022-10-19T04:35:59.570Z"
   },
   {
    "duration": 8,
    "start_time": "2022-10-19T04:36:00.304Z"
   },
   {
    "duration": 361,
    "start_time": "2022-10-19T04:36:00.313Z"
   },
   {
    "duration": 7,
    "start_time": "2022-10-19T04:36:00.676Z"
   },
   {
    "duration": 373,
    "start_time": "2022-10-19T04:36:00.686Z"
   },
   {
    "duration": 7,
    "start_time": "2022-10-19T04:36:01.061Z"
   },
   {
    "duration": 19,
    "start_time": "2022-10-19T04:36:01.070Z"
   },
   {
    "duration": 490,
    "start_time": "2022-10-19T04:36:01.090Z"
   },
   {
    "duration": 7,
    "start_time": "2022-10-19T04:36:01.582Z"
   },
   {
    "duration": 373,
    "start_time": "2022-10-19T04:36:01.591Z"
   },
   {
    "duration": 9,
    "start_time": "2022-10-19T04:36:01.966Z"
   },
   {
    "duration": 414,
    "start_time": "2022-10-19T04:36:01.977Z"
   },
   {
    "duration": 7,
    "start_time": "2022-10-19T04:36:02.393Z"
   },
   {
    "duration": 399,
    "start_time": "2022-10-19T04:36:02.402Z"
   },
   {
    "duration": 7,
    "start_time": "2022-10-19T04:36:02.802Z"
   },
   {
    "duration": 8,
    "start_time": "2022-10-19T04:36:02.820Z"
   },
   {
    "duration": 476,
    "start_time": "2022-10-19T04:36:02.829Z"
   },
   {
    "duration": 7,
    "start_time": "2022-10-19T04:36:03.308Z"
   },
   {
    "duration": 322,
    "start_time": "2022-10-19T04:36:03.321Z"
   },
   {
    "duration": 7,
    "start_time": "2022-10-19T04:36:03.645Z"
   },
   {
    "duration": 379,
    "start_time": "2022-10-19T04:36:03.654Z"
   },
   {
    "duration": 7,
    "start_time": "2022-10-19T04:36:04.034Z"
   },
   {
    "duration": 448,
    "start_time": "2022-10-19T04:36:04.043Z"
   },
   {
    "duration": 853,
    "start_time": "2022-10-19T04:36:04.492Z"
   },
   {
    "duration": 3,
    "start_time": "2022-10-19T04:36:05.347Z"
   },
   {
    "duration": 436,
    "start_time": "2022-10-19T04:36:05.352Z"
   },
   {
    "duration": 375,
    "start_time": "2022-10-19T04:36:05.790Z"
   },
   {
    "duration": 476,
    "start_time": "2022-10-19T04:36:18.783Z"
   },
   {
    "duration": 457,
    "start_time": "2022-10-19T04:37:08.758Z"
   },
   {
    "duration": 389,
    "start_time": "2022-10-19T04:37:21.909Z"
   },
   {
    "duration": 442,
    "start_time": "2022-10-19T04:37:33.085Z"
   },
   {
    "duration": 339,
    "start_time": "2022-10-19T04:37:33.531Z"
   },
   {
    "duration": 354,
    "start_time": "2022-10-19T04:37:56.092Z"
   },
   {
    "duration": 348,
    "start_time": "2022-10-19T04:37:56.604Z"
   },
   {
    "duration": 377,
    "start_time": "2022-10-19T04:38:03.492Z"
   },
   {
    "duration": 385,
    "start_time": "2022-10-19T04:38:03.874Z"
   },
   {
    "duration": 433,
    "start_time": "2022-10-19T04:38:23.049Z"
   },
   {
    "duration": 23,
    "start_time": "2022-10-19T04:38:23.484Z"
   },
   {
    "duration": 19,
    "start_time": "2022-10-19T04:38:23.509Z"
   },
   {
    "duration": 9,
    "start_time": "2022-10-19T04:38:23.531Z"
   },
   {
    "duration": 33,
    "start_time": "2022-10-19T04:38:23.542Z"
   },
   {
    "duration": 4,
    "start_time": "2022-10-19T04:38:23.576Z"
   },
   {
    "duration": 17,
    "start_time": "2022-10-19T04:38:23.582Z"
   },
   {
    "duration": 5,
    "start_time": "2022-10-19T04:38:23.619Z"
   },
   {
    "duration": 9,
    "start_time": "2022-10-19T04:38:23.626Z"
   },
   {
    "duration": 4,
    "start_time": "2022-10-19T04:38:23.639Z"
   },
   {
    "duration": 34,
    "start_time": "2022-10-19T04:38:23.645Z"
   },
   {
    "duration": 9,
    "start_time": "2022-10-19T04:38:23.681Z"
   },
   {
    "duration": 28,
    "start_time": "2022-10-19T04:38:23.692Z"
   },
   {
    "duration": 12,
    "start_time": "2022-10-19T04:38:23.723Z"
   },
   {
    "duration": 24,
    "start_time": "2022-10-19T04:38:23.736Z"
   },
   {
    "duration": 17,
    "start_time": "2022-10-19T04:38:23.762Z"
   },
   {
    "duration": 3,
    "start_time": "2022-10-19T04:38:23.781Z"
   },
   {
    "duration": 35,
    "start_time": "2022-10-19T04:38:23.785Z"
   },
   {
    "duration": 6,
    "start_time": "2022-10-19T04:38:23.822Z"
   },
   {
    "duration": 8,
    "start_time": "2022-10-19T04:38:23.830Z"
   },
   {
    "duration": 17,
    "start_time": "2022-10-19T04:38:23.839Z"
   },
   {
    "duration": 5,
    "start_time": "2022-10-19T04:38:23.858Z"
   },
   {
    "duration": 13,
    "start_time": "2022-10-19T04:38:23.865Z"
   },
   {
    "duration": 794,
    "start_time": "2022-10-19T04:38:23.879Z"
   },
   {
    "duration": 7,
    "start_time": "2022-10-19T04:38:24.675Z"
   },
   {
    "duration": 378,
    "start_time": "2022-10-19T04:38:24.684Z"
   },
   {
    "duration": 6,
    "start_time": "2022-10-19T04:38:25.064Z"
   },
   {
    "duration": 379,
    "start_time": "2022-10-19T04:38:25.074Z"
   },
   {
    "duration": 8,
    "start_time": "2022-10-19T04:38:25.454Z"
   },
   {
    "duration": 16,
    "start_time": "2022-10-19T04:38:25.463Z"
   },
   {
    "duration": 490,
    "start_time": "2022-10-19T04:38:25.481Z"
   },
   {
    "duration": 7,
    "start_time": "2022-10-19T04:38:25.972Z"
   },
   {
    "duration": 344,
    "start_time": "2022-10-19T04:38:25.981Z"
   },
   {
    "duration": 8,
    "start_time": "2022-10-19T04:38:26.327Z"
   },
   {
    "duration": 359,
    "start_time": "2022-10-19T04:38:26.336Z"
   },
   {
    "duration": 8,
    "start_time": "2022-10-19T04:38:26.697Z"
   },
   {
    "duration": 398,
    "start_time": "2022-10-19T04:38:26.706Z"
   },
   {
    "duration": 15,
    "start_time": "2022-10-19T04:38:27.106Z"
   },
   {
    "duration": 8,
    "start_time": "2022-10-19T04:38:27.123Z"
   },
   {
    "duration": 445,
    "start_time": "2022-10-19T04:38:27.133Z"
   },
   {
    "duration": 7,
    "start_time": "2022-10-19T04:38:27.580Z"
   },
   {
    "duration": 348,
    "start_time": "2022-10-19T04:38:27.588Z"
   },
   {
    "duration": 8,
    "start_time": "2022-10-19T04:38:27.937Z"
   },
   {
    "duration": 377,
    "start_time": "2022-10-19T04:38:27.947Z"
   },
   {
    "duration": 7,
    "start_time": "2022-10-19T04:38:28.326Z"
   },
   {
    "duration": 419,
    "start_time": "2022-10-19T04:38:28.334Z"
   },
   {
    "duration": 881,
    "start_time": "2022-10-19T04:38:28.754Z"
   },
   {
    "duration": 2,
    "start_time": "2022-10-19T04:38:29.637Z"
   },
   {
    "duration": 390,
    "start_time": "2022-10-19T04:38:29.640Z"
   },
   {
    "duration": 385,
    "start_time": "2022-10-19T04:38:30.031Z"
   },
   {
    "duration": 383,
    "start_time": "2022-10-19T04:38:30.418Z"
   },
   {
    "duration": 481,
    "start_time": "2022-10-19T04:40:10.387Z"
   },
   {
    "duration": 23,
    "start_time": "2022-10-19T04:40:10.870Z"
   },
   {
    "duration": 26,
    "start_time": "2022-10-19T04:40:10.895Z"
   },
   {
    "duration": 9,
    "start_time": "2022-10-19T04:40:10.923Z"
   },
   {
    "duration": 33,
    "start_time": "2022-10-19T04:40:10.934Z"
   },
   {
    "duration": 3,
    "start_time": "2022-10-19T04:40:10.969Z"
   },
   {
    "duration": 13,
    "start_time": "2022-10-19T04:40:10.973Z"
   },
   {
    "duration": 4,
    "start_time": "2022-10-19T04:40:10.988Z"
   },
   {
    "duration": 26,
    "start_time": "2022-10-19T04:40:10.994Z"
   },
   {
    "duration": 4,
    "start_time": "2022-10-19T04:40:11.025Z"
   },
   {
    "duration": 34,
    "start_time": "2022-10-19T04:40:11.031Z"
   },
   {
    "duration": 13,
    "start_time": "2022-10-19T04:40:11.067Z"
   },
   {
    "duration": 5,
    "start_time": "2022-10-19T04:40:11.081Z"
   },
   {
    "duration": 41,
    "start_time": "2022-10-19T04:40:11.087Z"
   },
   {
    "duration": 19,
    "start_time": "2022-10-19T04:40:11.130Z"
   },
   {
    "duration": 18,
    "start_time": "2022-10-19T04:40:11.150Z"
   },
   {
    "duration": 4,
    "start_time": "2022-10-19T04:40:11.169Z"
   },
   {
    "duration": 13,
    "start_time": "2022-10-19T04:40:11.174Z"
   },
   {
    "duration": 33,
    "start_time": "2022-10-19T04:40:11.188Z"
   },
   {
    "duration": 4,
    "start_time": "2022-10-19T04:40:11.223Z"
   },
   {
    "duration": 11,
    "start_time": "2022-10-19T04:40:11.229Z"
   },
   {
    "duration": 3,
    "start_time": "2022-10-19T04:40:11.242Z"
   },
   {
    "duration": 6,
    "start_time": "2022-10-19T04:40:11.247Z"
   },
   {
    "duration": 804,
    "start_time": "2022-10-19T04:40:11.254Z"
   },
   {
    "duration": 8,
    "start_time": "2022-10-19T04:40:12.060Z"
   },
   {
    "duration": 391,
    "start_time": "2022-10-19T04:40:12.069Z"
   },
   {
    "duration": 7,
    "start_time": "2022-10-19T04:40:12.462Z"
   },
   {
    "duration": 376,
    "start_time": "2022-10-19T04:40:12.473Z"
   },
   {
    "duration": 7,
    "start_time": "2022-10-19T04:40:12.850Z"
   },
   {
    "duration": 10,
    "start_time": "2022-10-19T04:40:12.859Z"
   },
   {
    "duration": 507,
    "start_time": "2022-10-19T04:40:12.870Z"
   },
   {
    "duration": 7,
    "start_time": "2022-10-19T04:40:13.378Z"
   },
   {
    "duration": 346,
    "start_time": "2022-10-19T04:40:13.386Z"
   },
   {
    "duration": 7,
    "start_time": "2022-10-19T04:40:13.734Z"
   },
   {
    "duration": 395,
    "start_time": "2022-10-19T04:40:13.743Z"
   },
   {
    "duration": 7,
    "start_time": "2022-10-19T04:40:14.140Z"
   },
   {
    "duration": 424,
    "start_time": "2022-10-19T04:40:14.148Z"
   },
   {
    "duration": 7,
    "start_time": "2022-10-19T04:40:14.574Z"
   },
   {
    "duration": 23,
    "start_time": "2022-10-19T04:40:14.583Z"
   },
   {
    "duration": 464,
    "start_time": "2022-10-19T04:40:14.607Z"
   },
   {
    "duration": 7,
    "start_time": "2022-10-19T04:40:15.073Z"
   },
   {
    "duration": 355,
    "start_time": "2022-10-19T04:40:15.082Z"
   },
   {
    "duration": 9,
    "start_time": "2022-10-19T04:40:15.439Z"
   },
   {
    "duration": 370,
    "start_time": "2022-10-19T04:40:15.450Z"
   },
   {
    "duration": 8,
    "start_time": "2022-10-19T04:40:15.822Z"
   },
   {
    "duration": 428,
    "start_time": "2022-10-19T04:40:15.832Z"
   },
   {
    "duration": 841,
    "start_time": "2022-10-19T04:40:16.262Z"
   },
   {
    "duration": 2,
    "start_time": "2022-10-19T04:40:17.105Z"
   },
   {
    "duration": 393,
    "start_time": "2022-10-19T04:40:17.109Z"
   },
   {
    "duration": 417,
    "start_time": "2022-10-19T04:40:17.504Z"
   },
   {
    "duration": 383,
    "start_time": "2022-10-19T04:40:17.923Z"
   },
   {
    "duration": 342,
    "start_time": "2022-10-19T04:42:06.428Z"
   },
   {
    "duration": 382,
    "start_time": "2022-10-19T04:42:10.763Z"
   },
   {
    "duration": 507,
    "start_time": "2022-10-19T04:46:23.381Z"
   },
   {
    "duration": 392,
    "start_time": "2022-10-19T04:46:30.124Z"
   },
   {
    "duration": 468,
    "start_time": "2022-10-19T04:46:46.318Z"
   },
   {
    "duration": 23,
    "start_time": "2022-10-19T04:46:46.788Z"
   },
   {
    "duration": 37,
    "start_time": "2022-10-19T04:46:46.812Z"
   },
   {
    "duration": 22,
    "start_time": "2022-10-19T04:46:46.851Z"
   },
   {
    "duration": 46,
    "start_time": "2022-10-19T04:46:46.875Z"
   },
   {
    "duration": 3,
    "start_time": "2022-10-19T04:46:46.923Z"
   },
   {
    "duration": 28,
    "start_time": "2022-10-19T04:46:46.928Z"
   },
   {
    "duration": 15,
    "start_time": "2022-10-19T04:46:46.958Z"
   },
   {
    "duration": 33,
    "start_time": "2022-10-19T04:46:46.974Z"
   },
   {
    "duration": 48,
    "start_time": "2022-10-19T04:46:47.010Z"
   },
   {
    "duration": 78,
    "start_time": "2022-10-19T04:46:47.060Z"
   },
   {
    "duration": 11,
    "start_time": "2022-10-19T04:46:47.139Z"
   },
   {
    "duration": 18,
    "start_time": "2022-10-19T04:46:47.151Z"
   },
   {
    "duration": 25,
    "start_time": "2022-10-19T04:46:47.170Z"
   },
   {
    "duration": 32,
    "start_time": "2022-10-19T04:46:47.196Z"
   },
   {
    "duration": 30,
    "start_time": "2022-10-19T04:46:47.230Z"
   },
   {
    "duration": 9,
    "start_time": "2022-10-19T04:46:47.261Z"
   },
   {
    "duration": 26,
    "start_time": "2022-10-19T04:46:47.272Z"
   },
   {
    "duration": 27,
    "start_time": "2022-10-19T04:46:47.300Z"
   },
   {
    "duration": 23,
    "start_time": "2022-10-19T04:46:47.329Z"
   },
   {
    "duration": 19,
    "start_time": "2022-10-19T04:46:47.354Z"
   },
   {
    "duration": 22,
    "start_time": "2022-10-19T04:46:47.375Z"
   },
   {
    "duration": 8,
    "start_time": "2022-10-19T04:46:47.399Z"
   },
   {
    "duration": 782,
    "start_time": "2022-10-19T04:46:47.409Z"
   },
   {
    "duration": 9,
    "start_time": "2022-10-19T04:46:48.192Z"
   },
   {
    "duration": 387,
    "start_time": "2022-10-19T04:46:48.203Z"
   },
   {
    "duration": 6,
    "start_time": "2022-10-19T04:46:48.592Z"
   },
   {
    "duration": 393,
    "start_time": "2022-10-19T04:46:48.603Z"
   },
   {
    "duration": 23,
    "start_time": "2022-10-19T04:46:48.998Z"
   },
   {
    "duration": 11,
    "start_time": "2022-10-19T04:46:49.024Z"
   },
   {
    "duration": 577,
    "start_time": "2022-10-19T04:46:49.037Z"
   },
   {
    "duration": 7,
    "start_time": "2022-10-19T04:46:49.615Z"
   },
   {
    "duration": 331,
    "start_time": "2022-10-19T04:46:49.624Z"
   },
   {
    "duration": 8,
    "start_time": "2022-10-19T04:46:49.956Z"
   },
   {
    "duration": 410,
    "start_time": "2022-10-19T04:46:49.966Z"
   },
   {
    "duration": 7,
    "start_time": "2022-10-19T04:46:50.377Z"
   },
   {
    "duration": 403,
    "start_time": "2022-10-19T04:46:50.386Z"
   },
   {
    "duration": 8,
    "start_time": "2022-10-19T04:46:50.791Z"
   },
   {
    "duration": 23,
    "start_time": "2022-10-19T04:46:50.800Z"
   },
   {
    "duration": 542,
    "start_time": "2022-10-19T04:46:50.825Z"
   },
   {
    "duration": 7,
    "start_time": "2022-10-19T04:46:51.370Z"
   },
   {
    "duration": 353,
    "start_time": "2022-10-19T04:46:51.378Z"
   },
   {
    "duration": 9,
    "start_time": "2022-10-19T04:46:51.733Z"
   },
   {
    "duration": 389,
    "start_time": "2022-10-19T04:46:51.744Z"
   },
   {
    "duration": 6,
    "start_time": "2022-10-19T04:46:52.135Z"
   },
   {
    "duration": 448,
    "start_time": "2022-10-19T04:46:52.143Z"
   },
   {
    "duration": 866,
    "start_time": "2022-10-19T04:46:52.593Z"
   },
   {
    "duration": 3,
    "start_time": "2022-10-19T04:46:53.461Z"
   },
   {
    "duration": 432,
    "start_time": "2022-10-19T04:46:53.466Z"
   },
   {
    "duration": 374,
    "start_time": "2022-10-19T04:46:53.900Z"
   },
   {
    "duration": 368,
    "start_time": "2022-10-19T04:46:54.276Z"
   },
   {
    "duration": 368,
    "start_time": "2022-10-19T04:47:12.024Z"
   },
   {
    "duration": 343,
    "start_time": "2022-10-19T04:47:14.404Z"
   },
   {
    "duration": 448,
    "start_time": "2022-10-19T04:47:43.552Z"
   },
   {
    "duration": 486,
    "start_time": "2022-10-19T04:48:35.204Z"
   },
   {
    "duration": 22,
    "start_time": "2022-10-19T04:48:35.693Z"
   },
   {
    "duration": 19,
    "start_time": "2022-10-19T04:48:35.717Z"
   },
   {
    "duration": 15,
    "start_time": "2022-10-19T04:48:35.738Z"
   },
   {
    "duration": 51,
    "start_time": "2022-10-19T04:48:35.755Z"
   },
   {
    "duration": 4,
    "start_time": "2022-10-19T04:48:35.808Z"
   },
   {
    "duration": 30,
    "start_time": "2022-10-19T04:48:35.814Z"
   },
   {
    "duration": 22,
    "start_time": "2022-10-19T04:48:35.846Z"
   },
   {
    "duration": 39,
    "start_time": "2022-10-19T04:48:35.870Z"
   },
   {
    "duration": 13,
    "start_time": "2022-10-19T04:48:35.913Z"
   },
   {
    "duration": 47,
    "start_time": "2022-10-19T04:48:35.927Z"
   },
   {
    "duration": 10,
    "start_time": "2022-10-19T04:48:35.976Z"
   },
   {
    "duration": 29,
    "start_time": "2022-10-19T04:48:35.988Z"
   },
   {
    "duration": 36,
    "start_time": "2022-10-19T04:48:36.018Z"
   },
   {
    "duration": 41,
    "start_time": "2022-10-19T04:48:36.055Z"
   },
   {
    "duration": 31,
    "start_time": "2022-10-19T04:48:36.098Z"
   },
   {
    "duration": 15,
    "start_time": "2022-10-19T04:48:36.131Z"
   },
   {
    "duration": 25,
    "start_time": "2022-10-19T04:48:36.148Z"
   },
   {
    "duration": 21,
    "start_time": "2022-10-19T04:48:36.175Z"
   },
   {
    "duration": 26,
    "start_time": "2022-10-19T04:48:36.198Z"
   },
   {
    "duration": 35,
    "start_time": "2022-10-19T04:48:36.228Z"
   },
   {
    "duration": 22,
    "start_time": "2022-10-19T04:48:36.265Z"
   },
   {
    "duration": 21,
    "start_time": "2022-10-19T04:48:36.289Z"
   },
   {
    "duration": 813,
    "start_time": "2022-10-19T04:48:36.311Z"
   },
   {
    "duration": 7,
    "start_time": "2022-10-19T04:48:37.126Z"
   },
   {
    "duration": 427,
    "start_time": "2022-10-19T04:48:37.134Z"
   },
   {
    "duration": 6,
    "start_time": "2022-10-19T04:48:37.563Z"
   },
   {
    "duration": 390,
    "start_time": "2022-10-19T04:48:37.573Z"
   },
   {
    "duration": 8,
    "start_time": "2022-10-19T04:48:37.965Z"
   },
   {
    "duration": 34,
    "start_time": "2022-10-19T04:48:37.975Z"
   },
   {
    "duration": 469,
    "start_time": "2022-10-19T04:48:38.011Z"
   },
   {
    "duration": 9,
    "start_time": "2022-10-19T04:48:38.482Z"
   },
   {
    "duration": 348,
    "start_time": "2022-10-19T04:48:38.492Z"
   },
   {
    "duration": 8,
    "start_time": "2022-10-19T04:48:38.842Z"
   },
   {
    "duration": 503,
    "start_time": "2022-10-19T04:48:38.852Z"
   },
   {
    "duration": 9,
    "start_time": "2022-10-19T04:48:39.357Z"
   },
   {
    "duration": 442,
    "start_time": "2022-10-19T04:48:39.368Z"
   },
   {
    "duration": 14,
    "start_time": "2022-10-19T04:48:39.812Z"
   },
   {
    "duration": 22,
    "start_time": "2022-10-19T04:48:39.829Z"
   },
   {
    "duration": 533,
    "start_time": "2022-10-19T04:48:39.854Z"
   },
   {
    "duration": 9,
    "start_time": "2022-10-19T04:48:40.389Z"
   },
   {
    "duration": 346,
    "start_time": "2022-10-19T04:48:40.399Z"
   },
   {
    "duration": 8,
    "start_time": "2022-10-19T04:48:40.747Z"
   },
   {
    "duration": 382,
    "start_time": "2022-10-19T04:48:40.757Z"
   },
   {
    "duration": 7,
    "start_time": "2022-10-19T04:48:41.142Z"
   },
   {
    "duration": 505,
    "start_time": "2022-10-19T04:48:41.151Z"
   },
   {
    "duration": 897,
    "start_time": "2022-10-19T04:48:41.658Z"
   },
   {
    "duration": 2,
    "start_time": "2022-10-19T04:48:42.557Z"
   },
   {
    "duration": 425,
    "start_time": "2022-10-19T04:48:42.561Z"
   },
   {
    "duration": 390,
    "start_time": "2022-10-19T04:48:42.987Z"
   },
   {
    "duration": 369,
    "start_time": "2022-10-19T04:48:43.379Z"
   },
   {
    "duration": 367,
    "start_time": "2022-10-19T04:49:02.526Z"
   },
   {
    "duration": 364,
    "start_time": "2022-10-19T04:49:03.806Z"
   },
   {
    "duration": 456,
    "start_time": "2022-10-19T04:49:54.058Z"
   },
   {
    "duration": 23,
    "start_time": "2022-10-19T04:49:54.516Z"
   },
   {
    "duration": 17,
    "start_time": "2022-10-19T04:49:54.541Z"
   },
   {
    "duration": 20,
    "start_time": "2022-10-19T04:49:54.562Z"
   },
   {
    "duration": 52,
    "start_time": "2022-10-19T04:49:54.584Z"
   },
   {
    "duration": 4,
    "start_time": "2022-10-19T04:49:54.638Z"
   },
   {
    "duration": 16,
    "start_time": "2022-10-19T04:49:54.644Z"
   },
   {
    "duration": 6,
    "start_time": "2022-10-19T04:49:54.662Z"
   },
   {
    "duration": 14,
    "start_time": "2022-10-19T04:49:54.670Z"
   },
   {
    "duration": 5,
    "start_time": "2022-10-19T04:49:54.686Z"
   },
   {
    "duration": 62,
    "start_time": "2022-10-19T04:49:54.693Z"
   },
   {
    "duration": 11,
    "start_time": "2022-10-19T04:49:54.757Z"
   },
   {
    "duration": 10,
    "start_time": "2022-10-19T04:49:54.770Z"
   },
   {
    "duration": 29,
    "start_time": "2022-10-19T04:49:54.783Z"
   },
   {
    "duration": 38,
    "start_time": "2022-10-19T04:49:54.822Z"
   },
   {
    "duration": 29,
    "start_time": "2022-10-19T04:49:54.863Z"
   },
   {
    "duration": 5,
    "start_time": "2022-10-19T04:49:54.894Z"
   },
   {
    "duration": 15,
    "start_time": "2022-10-19T04:49:54.921Z"
   },
   {
    "duration": 18,
    "start_time": "2022-10-19T04:49:54.939Z"
   },
   {
    "duration": 12,
    "start_time": "2022-10-19T04:49:54.959Z"
   },
   {
    "duration": 24,
    "start_time": "2022-10-19T04:49:54.973Z"
   },
   {
    "duration": 5,
    "start_time": "2022-10-19T04:49:54.999Z"
   },
   {
    "duration": 13,
    "start_time": "2022-10-19T04:49:55.007Z"
   },
   {
    "duration": 767,
    "start_time": "2022-10-19T04:49:55.022Z"
   },
   {
    "duration": 8,
    "start_time": "2022-10-19T04:49:55.791Z"
   },
   {
    "duration": 382,
    "start_time": "2022-10-19T04:49:55.801Z"
   },
   {
    "duration": 8,
    "start_time": "2022-10-19T04:49:56.185Z"
   },
   {
    "duration": 379,
    "start_time": "2022-10-19T04:49:56.197Z"
   },
   {
    "duration": 7,
    "start_time": "2022-10-19T04:49:56.578Z"
   },
   {
    "duration": 16,
    "start_time": "2022-10-19T04:49:56.588Z"
   },
   {
    "duration": 489,
    "start_time": "2022-10-19T04:49:56.606Z"
   },
   {
    "duration": 7,
    "start_time": "2022-10-19T04:49:57.097Z"
   },
   {
    "duration": 341,
    "start_time": "2022-10-19T04:49:57.106Z"
   },
   {
    "duration": 10,
    "start_time": "2022-10-19T04:49:57.449Z"
   },
   {
    "duration": 443,
    "start_time": "2022-10-19T04:49:57.461Z"
   },
   {
    "duration": 15,
    "start_time": "2022-10-19T04:49:57.906Z"
   },
   {
    "duration": 393,
    "start_time": "2022-10-19T04:49:57.923Z"
   },
   {
    "duration": 9,
    "start_time": "2022-10-19T04:49:58.317Z"
   },
   {
    "duration": 13,
    "start_time": "2022-10-19T04:49:58.327Z"
   },
   {
    "duration": 591,
    "start_time": "2022-10-19T04:49:58.343Z"
   },
   {
    "duration": 9,
    "start_time": "2022-10-19T04:49:58.936Z"
   },
   {
    "duration": 403,
    "start_time": "2022-10-19T04:49:58.947Z"
   },
   {
    "duration": 8,
    "start_time": "2022-10-19T04:49:59.352Z"
   },
   {
    "duration": 390,
    "start_time": "2022-10-19T04:49:59.362Z"
   },
   {
    "duration": 7,
    "start_time": "2022-10-19T04:49:59.754Z"
   },
   {
    "duration": 499,
    "start_time": "2022-10-19T04:49:59.763Z"
   },
   {
    "duration": 925,
    "start_time": "2022-10-19T04:50:00.264Z"
   },
   {
    "duration": 2,
    "start_time": "2022-10-19T04:50:01.191Z"
   },
   {
    "duration": 414,
    "start_time": "2022-10-19T04:50:01.195Z"
   },
   {
    "duration": 398,
    "start_time": "2022-10-19T04:50:01.610Z"
   },
   {
    "duration": 364,
    "start_time": "2022-10-19T04:50:02.010Z"
   },
   {
    "duration": 101,
    "start_time": "2022-10-19T04:51:34.570Z"
   },
   {
    "duration": 368,
    "start_time": "2022-10-19T04:52:27.122Z"
   },
   {
    "duration": 373,
    "start_time": "2022-10-19T04:52:35.953Z"
   },
   {
    "duration": 440,
    "start_time": "2022-10-19T04:53:16.782Z"
   },
   {
    "duration": 383,
    "start_time": "2022-10-19T04:53:24.671Z"
   },
   {
    "duration": 351,
    "start_time": "2022-10-19T04:54:23.110Z"
   },
   {
    "duration": 357,
    "start_time": "2022-10-19T04:54:46.719Z"
   },
   {
    "duration": 326,
    "start_time": "2022-10-19T04:54:48.406Z"
   },
   {
    "duration": 388,
    "start_time": "2022-10-19T04:54:50.997Z"
   },
   {
    "duration": 475,
    "start_time": "2022-10-19T04:55:37.518Z"
   },
   {
    "duration": 26,
    "start_time": "2022-10-19T04:55:37.995Z"
   },
   {
    "duration": 31,
    "start_time": "2022-10-19T04:55:38.023Z"
   },
   {
    "duration": 12,
    "start_time": "2022-10-19T04:55:38.057Z"
   },
   {
    "duration": 33,
    "start_time": "2022-10-19T04:55:38.070Z"
   },
   {
    "duration": 3,
    "start_time": "2022-10-19T04:55:38.105Z"
   },
   {
    "duration": 8,
    "start_time": "2022-10-19T04:55:38.121Z"
   },
   {
    "duration": 4,
    "start_time": "2022-10-19T04:55:38.131Z"
   },
   {
    "duration": 9,
    "start_time": "2022-10-19T04:55:38.137Z"
   },
   {
    "duration": 5,
    "start_time": "2022-10-19T04:55:38.150Z"
   },
   {
    "duration": 34,
    "start_time": "2022-10-19T04:55:38.157Z"
   },
   {
    "duration": 10,
    "start_time": "2022-10-19T04:55:38.220Z"
   },
   {
    "duration": 4,
    "start_time": "2022-10-19T04:55:38.232Z"
   },
   {
    "duration": 14,
    "start_time": "2022-10-19T04:55:38.237Z"
   },
   {
    "duration": 23,
    "start_time": "2022-10-19T04:55:38.252Z"
   },
   {
    "duration": 17,
    "start_time": "2022-10-19T04:55:38.277Z"
   },
   {
    "duration": 3,
    "start_time": "2022-10-19T04:55:38.320Z"
   },
   {
    "duration": 12,
    "start_time": "2022-10-19T04:55:38.325Z"
   },
   {
    "duration": 8,
    "start_time": "2022-10-19T04:55:38.339Z"
   },
   {
    "duration": 4,
    "start_time": "2022-10-19T04:55:38.348Z"
   },
   {
    "duration": 11,
    "start_time": "2022-10-19T04:55:38.354Z"
   },
   {
    "duration": 3,
    "start_time": "2022-10-19T04:55:38.366Z"
   },
   {
    "duration": 5,
    "start_time": "2022-10-19T04:55:38.371Z"
   },
   {
    "duration": 833,
    "start_time": "2022-10-19T04:55:38.377Z"
   },
   {
    "duration": 9,
    "start_time": "2022-10-19T04:55:39.212Z"
   },
   {
    "duration": 347,
    "start_time": "2022-10-19T04:55:39.223Z"
   },
   {
    "duration": 7,
    "start_time": "2022-10-19T04:55:39.572Z"
   },
   {
    "duration": 369,
    "start_time": "2022-10-19T04:55:39.584Z"
   },
   {
    "duration": 7,
    "start_time": "2022-10-19T04:55:39.955Z"
   },
   {
    "duration": 10,
    "start_time": "2022-10-19T04:55:39.964Z"
   },
   {
    "duration": 503,
    "start_time": "2022-10-19T04:55:39.976Z"
   },
   {
    "duration": 8,
    "start_time": "2022-10-19T04:55:40.480Z"
   },
   {
    "duration": 335,
    "start_time": "2022-10-19T04:55:40.490Z"
   },
   {
    "duration": 8,
    "start_time": "2022-10-19T04:55:40.827Z"
   },
   {
    "duration": 368,
    "start_time": "2022-10-19T04:55:40.836Z"
   },
   {
    "duration": 7,
    "start_time": "2022-10-19T04:55:41.206Z"
   },
   {
    "duration": 400,
    "start_time": "2022-10-19T04:55:41.220Z"
   },
   {
    "duration": 8,
    "start_time": "2022-10-19T04:55:41.622Z"
   },
   {
    "duration": 18,
    "start_time": "2022-10-19T04:55:41.632Z"
   },
   {
    "duration": 519,
    "start_time": "2022-10-19T04:55:41.652Z"
   },
   {
    "duration": 8,
    "start_time": "2022-10-19T04:55:42.173Z"
   },
   {
    "duration": 342,
    "start_time": "2022-10-19T04:55:42.182Z"
   },
   {
    "duration": 8,
    "start_time": "2022-10-19T04:55:42.526Z"
   },
   {
    "duration": 343,
    "start_time": "2022-10-19T04:55:42.536Z"
   },
   {
    "duration": 7,
    "start_time": "2022-10-19T04:55:42.881Z"
   },
   {
    "duration": 448,
    "start_time": "2022-10-19T04:55:42.889Z"
   },
   {
    "duration": 792,
    "start_time": "2022-10-19T04:55:43.339Z"
   },
   {
    "duration": 3,
    "start_time": "2022-10-19T04:55:44.132Z"
   },
   {
    "duration": 539,
    "start_time": "2022-10-19T04:55:44.136Z"
   },
   {
    "duration": 426,
    "start_time": "2022-10-19T04:56:01.568Z"
   },
   {
    "duration": 374,
    "start_time": "2022-10-19T04:56:08.472Z"
   },
   {
    "duration": 328,
    "start_time": "2022-10-19T04:56:20.703Z"
   },
   {
    "duration": 432,
    "start_time": "2022-10-19T04:56:22.854Z"
   },
   {
    "duration": 386,
    "start_time": "2022-10-19T04:56:36.132Z"
   },
   {
    "duration": 411,
    "start_time": "2022-10-19T04:56:39.382Z"
   },
   {
    "duration": 445,
    "start_time": "2022-10-19T04:56:41.949Z"
   },
   {
    "duration": 356,
    "start_time": "2022-10-19T04:56:57.742Z"
   },
   {
    "duration": 370,
    "start_time": "2022-10-19T04:56:59.270Z"
   },
   {
    "duration": 353,
    "start_time": "2022-10-19T04:57:01.150Z"
   },
   {
    "duration": 100,
    "start_time": "2022-10-19T04:58:05.109Z"
   },
   {
    "duration": 13,
    "start_time": "2022-10-19T04:58:19.100Z"
   },
   {
    "duration": 12,
    "start_time": "2022-10-19T04:59:18.539Z"
   },
   {
    "duration": 11,
    "start_time": "2022-10-19T04:59:27.555Z"
   },
   {
    "duration": 11,
    "start_time": "2022-10-19T04:59:39.867Z"
   },
   {
    "duration": 294,
    "start_time": "2022-10-19T05:00:03.931Z"
   },
   {
    "duration": 424,
    "start_time": "2022-10-19T05:01:18.176Z"
   },
   {
    "duration": 23,
    "start_time": "2022-10-19T05:01:18.602Z"
   },
   {
    "duration": 14,
    "start_time": "2022-10-19T05:01:18.627Z"
   },
   {
    "duration": 9,
    "start_time": "2022-10-19T05:01:18.643Z"
   },
   {
    "duration": 32,
    "start_time": "2022-10-19T05:01:18.655Z"
   },
   {
    "duration": 3,
    "start_time": "2022-10-19T05:01:18.689Z"
   },
   {
    "duration": 35,
    "start_time": "2022-10-19T05:01:18.693Z"
   },
   {
    "duration": 8,
    "start_time": "2022-10-19T05:01:18.730Z"
   },
   {
    "duration": 10,
    "start_time": "2022-10-19T05:01:18.739Z"
   },
   {
    "duration": 9,
    "start_time": "2022-10-19T05:01:18.750Z"
   },
   {
    "duration": 34,
    "start_time": "2022-10-19T05:01:18.761Z"
   },
   {
    "duration": 28,
    "start_time": "2022-10-19T05:01:18.797Z"
   },
   {
    "duration": 12,
    "start_time": "2022-10-19T05:01:18.827Z"
   },
   {
    "duration": 14,
    "start_time": "2022-10-19T05:01:18.842Z"
   },
   {
    "duration": 49,
    "start_time": "2022-10-19T05:01:18.858Z"
   },
   {
    "duration": 22,
    "start_time": "2022-10-19T05:01:18.909Z"
   },
   {
    "duration": 4,
    "start_time": "2022-10-19T05:01:18.933Z"
   },
   {
    "duration": 21,
    "start_time": "2022-10-19T05:01:18.939Z"
   },
   {
    "duration": 24,
    "start_time": "2022-10-19T05:01:18.962Z"
   },
   {
    "duration": 6,
    "start_time": "2022-10-19T05:01:18.988Z"
   },
   {
    "duration": 17,
    "start_time": "2022-10-19T05:01:18.997Z"
   },
   {
    "duration": 13,
    "start_time": "2022-10-19T05:01:19.016Z"
   },
   {
    "duration": 13,
    "start_time": "2022-10-19T05:01:19.031Z"
   },
   {
    "duration": 782,
    "start_time": "2022-10-19T05:01:19.046Z"
   },
   {
    "duration": 8,
    "start_time": "2022-10-19T05:01:19.829Z"
   },
   {
    "duration": 359,
    "start_time": "2022-10-19T05:01:19.839Z"
   },
   {
    "duration": 7,
    "start_time": "2022-10-19T05:01:20.199Z"
   },
   {
    "duration": 354,
    "start_time": "2022-10-19T05:01:20.207Z"
   },
   {
    "duration": 7,
    "start_time": "2022-10-19T05:01:20.563Z"
   },
   {
    "duration": 16,
    "start_time": "2022-10-19T05:01:20.572Z"
   },
   {
    "duration": 475,
    "start_time": "2022-10-19T05:01:20.590Z"
   },
   {
    "duration": 9,
    "start_time": "2022-10-19T05:01:21.067Z"
   },
   {
    "duration": 355,
    "start_time": "2022-10-19T05:01:21.077Z"
   },
   {
    "duration": 10,
    "start_time": "2022-10-19T05:01:21.434Z"
   },
   {
    "duration": 430,
    "start_time": "2022-10-19T05:01:21.446Z"
   },
   {
    "duration": 9,
    "start_time": "2022-10-19T05:01:21.878Z"
   },
   {
    "duration": 403,
    "start_time": "2022-10-19T05:01:21.889Z"
   },
   {
    "duration": 9,
    "start_time": "2022-10-19T05:01:22.294Z"
   },
   {
    "duration": 22,
    "start_time": "2022-10-19T05:01:22.304Z"
   },
   {
    "duration": 450,
    "start_time": "2022-10-19T05:01:22.328Z"
   },
   {
    "duration": 7,
    "start_time": "2022-10-19T05:01:22.781Z"
   },
   {
    "duration": 340,
    "start_time": "2022-10-19T05:01:22.789Z"
   },
   {
    "duration": 8,
    "start_time": "2022-10-19T05:01:23.131Z"
   },
   {
    "duration": 381,
    "start_time": "2022-10-19T05:01:23.140Z"
   },
   {
    "duration": 7,
    "start_time": "2022-10-19T05:01:23.523Z"
   },
   {
    "duration": 434,
    "start_time": "2022-10-19T05:01:23.532Z"
   },
   {
    "duration": 880,
    "start_time": "2022-10-19T05:01:23.968Z"
   },
   {
    "duration": 3,
    "start_time": "2022-10-19T05:01:24.850Z"
   },
   {
    "duration": 403,
    "start_time": "2022-10-19T05:01:24.855Z"
   },
   {
    "duration": 384,
    "start_time": "2022-10-19T05:01:25.260Z"
   },
   {
    "duration": 313,
    "start_time": "2022-10-19T05:01:25.646Z"
   },
   {
    "duration": 379,
    "start_time": "2022-10-19T05:01:25.961Z"
   },
   {
    "duration": 469,
    "start_time": "2022-10-19T05:03:03.416Z"
   },
   {
    "duration": 22,
    "start_time": "2022-10-19T05:03:03.887Z"
   },
   {
    "duration": 35,
    "start_time": "2022-10-19T05:03:03.910Z"
   },
   {
    "duration": 9,
    "start_time": "2022-10-19T05:03:03.947Z"
   },
   {
    "duration": 57,
    "start_time": "2022-10-19T05:03:03.958Z"
   },
   {
    "duration": 3,
    "start_time": "2022-10-19T05:03:04.017Z"
   },
   {
    "duration": 36,
    "start_time": "2022-10-19T05:03:04.022Z"
   },
   {
    "duration": 17,
    "start_time": "2022-10-19T05:03:04.060Z"
   },
   {
    "duration": 25,
    "start_time": "2022-10-19T05:03:04.079Z"
   },
   {
    "duration": 26,
    "start_time": "2022-10-19T05:03:04.108Z"
   },
   {
    "duration": 61,
    "start_time": "2022-10-19T05:03:04.135Z"
   },
   {
    "duration": 9,
    "start_time": "2022-10-19T05:03:04.198Z"
   },
   {
    "duration": 36,
    "start_time": "2022-10-19T05:03:04.208Z"
   },
   {
    "duration": 30,
    "start_time": "2022-10-19T05:03:04.246Z"
   },
   {
    "duration": 45,
    "start_time": "2022-10-19T05:03:04.278Z"
   },
   {
    "duration": 17,
    "start_time": "2022-10-19T05:03:04.325Z"
   },
   {
    "duration": 4,
    "start_time": "2022-10-19T05:03:04.344Z"
   },
   {
    "duration": 22,
    "start_time": "2022-10-19T05:03:04.349Z"
   },
   {
    "duration": 19,
    "start_time": "2022-10-19T05:03:04.372Z"
   },
   {
    "duration": 24,
    "start_time": "2022-10-19T05:03:04.394Z"
   },
   {
    "duration": 31,
    "start_time": "2022-10-19T05:03:04.420Z"
   },
   {
    "duration": 30,
    "start_time": "2022-10-19T05:03:04.452Z"
   },
   {
    "duration": 9,
    "start_time": "2022-10-19T05:03:04.484Z"
   },
   {
    "duration": 782,
    "start_time": "2022-10-19T05:03:04.495Z"
   },
   {
    "duration": 7,
    "start_time": "2022-10-19T05:03:05.279Z"
   },
   {
    "duration": 386,
    "start_time": "2022-10-19T05:03:05.288Z"
   },
   {
    "duration": 5,
    "start_time": "2022-10-19T05:03:05.676Z"
   },
   {
    "duration": 369,
    "start_time": "2022-10-19T05:03:05.684Z"
   },
   {
    "duration": 9,
    "start_time": "2022-10-19T05:03:06.055Z"
   },
   {
    "duration": 27,
    "start_time": "2022-10-19T05:03:06.066Z"
   },
   {
    "duration": 494,
    "start_time": "2022-10-19T05:03:06.095Z"
   },
   {
    "duration": 6,
    "start_time": "2022-10-19T05:03:06.591Z"
   },
   {
    "duration": 336,
    "start_time": "2022-10-19T05:03:06.599Z"
   },
   {
    "duration": 9,
    "start_time": "2022-10-19T05:03:06.937Z"
   },
   {
    "duration": 418,
    "start_time": "2022-10-19T05:03:06.947Z"
   },
   {
    "duration": 7,
    "start_time": "2022-10-19T05:03:07.366Z"
   },
   {
    "duration": 407,
    "start_time": "2022-10-19T05:03:07.375Z"
   },
   {
    "duration": 7,
    "start_time": "2022-10-19T05:03:07.784Z"
   },
   {
    "duration": 48,
    "start_time": "2022-10-19T05:03:07.792Z"
   },
   {
    "duration": 494,
    "start_time": "2022-10-19T05:03:07.842Z"
   },
   {
    "duration": 7,
    "start_time": "2022-10-19T05:03:08.338Z"
   },
   {
    "duration": 377,
    "start_time": "2022-10-19T05:03:08.346Z"
   },
   {
    "duration": 8,
    "start_time": "2022-10-19T05:03:08.725Z"
   },
   {
    "duration": 429,
    "start_time": "2022-10-19T05:03:08.734Z"
   },
   {
    "duration": 9,
    "start_time": "2022-10-19T05:03:09.165Z"
   },
   {
    "duration": 494,
    "start_time": "2022-10-19T05:03:09.176Z"
   },
   {
    "duration": 927,
    "start_time": "2022-10-19T05:03:09.672Z"
   },
   {
    "duration": 3,
    "start_time": "2022-10-19T05:03:10.600Z"
   },
   {
    "duration": 393,
    "start_time": "2022-10-19T05:03:10.604Z"
   },
   {
    "duration": 395,
    "start_time": "2022-10-19T05:03:10.999Z"
   },
   {
    "duration": 389,
    "start_time": "2022-10-19T05:03:11.396Z"
   },
   {
    "duration": 399,
    "start_time": "2022-10-19T05:03:11.787Z"
   },
   {
    "duration": 473,
    "start_time": "2022-10-19T05:03:36.695Z"
   },
   {
    "duration": 23,
    "start_time": "2022-10-19T05:03:37.170Z"
   },
   {
    "duration": 27,
    "start_time": "2022-10-19T05:03:37.195Z"
   },
   {
    "duration": 10,
    "start_time": "2022-10-19T05:03:37.224Z"
   },
   {
    "duration": 35,
    "start_time": "2022-10-19T05:03:37.236Z"
   },
   {
    "duration": 4,
    "start_time": "2022-10-19T05:03:37.273Z"
   },
   {
    "duration": 13,
    "start_time": "2022-10-19T05:03:37.278Z"
   },
   {
    "duration": 29,
    "start_time": "2022-10-19T05:03:37.293Z"
   },
   {
    "duration": 17,
    "start_time": "2022-10-19T05:03:37.324Z"
   },
   {
    "duration": 5,
    "start_time": "2022-10-19T05:03:37.344Z"
   },
   {
    "duration": 36,
    "start_time": "2022-10-19T05:03:37.350Z"
   },
   {
    "duration": 9,
    "start_time": "2022-10-19T05:03:37.388Z"
   },
   {
    "duration": 22,
    "start_time": "2022-10-19T05:03:37.398Z"
   },
   {
    "duration": 12,
    "start_time": "2022-10-19T05:03:37.422Z"
   },
   {
    "duration": 24,
    "start_time": "2022-10-19T05:03:37.435Z"
   },
   {
    "duration": 18,
    "start_time": "2022-10-19T05:03:37.461Z"
   },
   {
    "duration": 4,
    "start_time": "2022-10-19T05:03:37.481Z"
   },
   {
    "duration": 34,
    "start_time": "2022-10-19T05:03:37.487Z"
   },
   {
    "duration": 7,
    "start_time": "2022-10-19T05:03:37.523Z"
   },
   {
    "duration": 14,
    "start_time": "2022-10-19T05:03:37.532Z"
   },
   {
    "duration": 14,
    "start_time": "2022-10-19T05:03:37.547Z"
   },
   {
    "duration": 11,
    "start_time": "2022-10-19T05:03:37.562Z"
   },
   {
    "duration": 9,
    "start_time": "2022-10-19T05:03:37.574Z"
   },
   {
    "duration": 786,
    "start_time": "2022-10-19T05:03:37.585Z"
   },
   {
    "duration": 8,
    "start_time": "2022-10-19T05:03:38.372Z"
   },
   {
    "duration": 375,
    "start_time": "2022-10-19T05:03:38.382Z"
   },
   {
    "duration": 8,
    "start_time": "2022-10-19T05:03:38.759Z"
   },
   {
    "duration": 426,
    "start_time": "2022-10-19T05:03:38.771Z"
   },
   {
    "duration": 11,
    "start_time": "2022-10-19T05:03:39.199Z"
   },
   {
    "duration": 23,
    "start_time": "2022-10-19T05:03:39.212Z"
   },
   {
    "duration": 475,
    "start_time": "2022-10-19T05:03:39.236Z"
   },
   {
    "duration": 9,
    "start_time": "2022-10-19T05:03:39.713Z"
   },
   {
    "duration": 323,
    "start_time": "2022-10-19T05:03:39.724Z"
   },
   {
    "duration": 8,
    "start_time": "2022-10-19T05:03:40.049Z"
   },
   {
    "duration": 416,
    "start_time": "2022-10-19T05:03:40.059Z"
   },
   {
    "duration": 7,
    "start_time": "2022-10-19T05:03:40.477Z"
   },
   {
    "duration": 398,
    "start_time": "2022-10-19T05:03:40.486Z"
   },
   {
    "duration": 7,
    "start_time": "2022-10-19T05:03:40.885Z"
   },
   {
    "duration": 10,
    "start_time": "2022-10-19T05:03:40.894Z"
   },
   {
    "duration": 500,
    "start_time": "2022-10-19T05:03:40.906Z"
   },
   {
    "duration": 15,
    "start_time": "2022-10-19T05:03:41.408Z"
   },
   {
    "duration": 412,
    "start_time": "2022-10-19T05:03:41.425Z"
   },
   {
    "duration": 8,
    "start_time": "2022-10-19T05:03:41.839Z"
   },
   {
    "duration": 378,
    "start_time": "2022-10-19T05:03:41.849Z"
   },
   {
    "duration": 8,
    "start_time": "2022-10-19T05:03:42.228Z"
   },
   {
    "duration": 459,
    "start_time": "2022-10-19T05:03:42.237Z"
   },
   {
    "duration": 850,
    "start_time": "2022-10-19T05:03:42.698Z"
   },
   {
    "duration": 2,
    "start_time": "2022-10-19T05:03:43.550Z"
   },
   {
    "duration": 404,
    "start_time": "2022-10-19T05:03:43.554Z"
   },
   {
    "duration": 389,
    "start_time": "2022-10-19T05:03:43.960Z"
   },
   {
    "duration": 336,
    "start_time": "2022-10-19T05:03:44.350Z"
   },
   {
    "duration": 364,
    "start_time": "2022-10-19T05:03:44.688Z"
   },
   {
    "duration": 62,
    "start_time": "2022-10-19T05:04:48.936Z"
   },
   {
    "duration": 381,
    "start_time": "2022-10-19T05:04:54.255Z"
   },
   {
    "duration": 426,
    "start_time": "2022-10-19T05:04:56.671Z"
   },
   {
    "duration": 343,
    "start_time": "2022-10-19T05:04:59.831Z"
   },
   {
    "duration": 408,
    "start_time": "2022-10-19T05:05:14.378Z"
   },
   {
    "duration": 21,
    "start_time": "2022-10-19T05:05:14.788Z"
   },
   {
    "duration": 17,
    "start_time": "2022-10-19T05:05:14.811Z"
   },
   {
    "duration": 10,
    "start_time": "2022-10-19T05:05:14.830Z"
   },
   {
    "duration": 34,
    "start_time": "2022-10-19T05:05:14.841Z"
   },
   {
    "duration": 3,
    "start_time": "2022-10-19T05:05:14.877Z"
   },
   {
    "duration": 14,
    "start_time": "2022-10-19T05:05:14.882Z"
   },
   {
    "duration": 24,
    "start_time": "2022-10-19T05:05:14.898Z"
   },
   {
    "duration": 12,
    "start_time": "2022-10-19T05:05:14.924Z"
   },
   {
    "duration": 6,
    "start_time": "2022-10-19T05:05:14.939Z"
   },
   {
    "duration": 36,
    "start_time": "2022-10-19T05:05:14.947Z"
   },
   {
    "duration": 11,
    "start_time": "2022-10-19T05:05:14.985Z"
   },
   {
    "duration": 5,
    "start_time": "2022-10-19T05:05:15.021Z"
   },
   {
    "duration": 20,
    "start_time": "2022-10-19T05:05:15.027Z"
   },
   {
    "duration": 32,
    "start_time": "2022-10-19T05:05:15.049Z"
   },
   {
    "duration": 21,
    "start_time": "2022-10-19T05:05:15.082Z"
   },
   {
    "duration": 4,
    "start_time": "2022-10-19T05:05:15.105Z"
   },
   {
    "duration": 12,
    "start_time": "2022-10-19T05:05:15.120Z"
   },
   {
    "duration": 12,
    "start_time": "2022-10-19T05:05:15.134Z"
   },
   {
    "duration": 13,
    "start_time": "2022-10-19T05:05:15.148Z"
   },
   {
    "duration": 25,
    "start_time": "2022-10-19T05:05:15.163Z"
   },
   {
    "duration": 12,
    "start_time": "2022-10-19T05:05:15.189Z"
   },
   {
    "duration": 15,
    "start_time": "2022-10-19T05:05:15.203Z"
   },
   {
    "duration": 752,
    "start_time": "2022-10-19T05:05:15.220Z"
   },
   {
    "duration": 6,
    "start_time": "2022-10-19T05:05:15.974Z"
   },
   {
    "duration": 368,
    "start_time": "2022-10-19T05:05:15.982Z"
   },
   {
    "duration": 6,
    "start_time": "2022-10-19T05:05:16.352Z"
   },
   {
    "duration": 383,
    "start_time": "2022-10-19T05:05:16.362Z"
   },
   {
    "duration": 7,
    "start_time": "2022-10-19T05:05:16.748Z"
   },
   {
    "duration": 11,
    "start_time": "2022-10-19T05:05:16.756Z"
   },
   {
    "duration": 499,
    "start_time": "2022-10-19T05:05:16.768Z"
   },
   {
    "duration": 15,
    "start_time": "2022-10-19T05:05:17.269Z"
   },
   {
    "duration": 329,
    "start_time": "2022-10-19T05:05:17.286Z"
   },
   {
    "duration": 8,
    "start_time": "2022-10-19T05:05:17.619Z"
   },
   {
    "duration": 382,
    "start_time": "2022-10-19T05:05:17.629Z"
   },
   {
    "duration": 10,
    "start_time": "2022-10-19T05:05:18.012Z"
   },
   {
    "duration": 496,
    "start_time": "2022-10-19T05:05:18.024Z"
   },
   {
    "duration": 7,
    "start_time": "2022-10-19T05:05:18.522Z"
   },
   {
    "duration": 17,
    "start_time": "2022-10-19T05:05:18.531Z"
   },
   {
    "duration": 534,
    "start_time": "2022-10-19T05:05:18.550Z"
   },
   {
    "duration": 8,
    "start_time": "2022-10-19T05:05:19.086Z"
   },
   {
    "duration": 336,
    "start_time": "2022-10-19T05:05:19.096Z"
   },
   {
    "duration": 7,
    "start_time": "2022-10-19T05:05:19.434Z"
   },
   {
    "duration": 375,
    "start_time": "2022-10-19T05:05:19.442Z"
   },
   {
    "duration": 7,
    "start_time": "2022-10-19T05:05:19.820Z"
   },
   {
    "duration": 428,
    "start_time": "2022-10-19T05:05:19.828Z"
   },
   {
    "duration": 800,
    "start_time": "2022-10-19T05:05:20.257Z"
   },
   {
    "duration": 3,
    "start_time": "2022-10-19T05:05:21.059Z"
   },
   {
    "duration": 422,
    "start_time": "2022-10-19T05:05:21.063Z"
   },
   {
    "duration": 383,
    "start_time": "2022-10-19T05:05:21.487Z"
   },
   {
    "duration": 361,
    "start_time": "2022-10-19T05:05:21.871Z"
   },
   {
    "duration": 331,
    "start_time": "2022-10-19T05:05:22.234Z"
   },
   {
    "duration": 9,
    "start_time": "2022-10-19T05:05:22.568Z"
   },
   {
    "duration": 391,
    "start_time": "2022-10-19T05:05:22.578Z"
   },
   {
    "duration": 8,
    "start_time": "2022-10-19T05:05:22.970Z"
   },
   {
    "duration": 484,
    "start_time": "2022-10-19T05:05:22.979Z"
   },
   {
    "duration": 373,
    "start_time": "2022-10-19T05:08:17.498Z"
   },
   {
    "duration": 891,
    "start_time": "2022-10-19T05:08:22.379Z"
   },
   {
    "duration": 495,
    "start_time": "2022-10-19T05:08:27.589Z"
   },
   {
    "duration": 22,
    "start_time": "2022-10-19T05:08:28.086Z"
   },
   {
    "duration": 23,
    "start_time": "2022-10-19T05:08:28.110Z"
   },
   {
    "duration": 33,
    "start_time": "2022-10-19T05:08:28.136Z"
   },
   {
    "duration": 64,
    "start_time": "2022-10-19T05:08:28.171Z"
   },
   {
    "duration": 4,
    "start_time": "2022-10-19T05:08:28.237Z"
   },
   {
    "duration": 26,
    "start_time": "2022-10-19T05:08:28.242Z"
   },
   {
    "duration": 23,
    "start_time": "2022-10-19T05:08:28.270Z"
   },
   {
    "duration": 27,
    "start_time": "2022-10-19T05:08:28.295Z"
   },
   {
    "duration": 24,
    "start_time": "2022-10-19T05:08:28.326Z"
   },
   {
    "duration": 53,
    "start_time": "2022-10-19T05:08:28.351Z"
   },
   {
    "duration": 11,
    "start_time": "2022-10-19T05:08:28.406Z"
   },
   {
    "duration": 30,
    "start_time": "2022-10-19T05:08:28.418Z"
   },
   {
    "duration": 29,
    "start_time": "2022-10-19T05:08:28.450Z"
   },
   {
    "duration": 44,
    "start_time": "2022-10-19T05:08:28.481Z"
   },
   {
    "duration": 27,
    "start_time": "2022-10-19T05:08:28.528Z"
   },
   {
    "duration": 7,
    "start_time": "2022-10-19T05:08:28.558Z"
   },
   {
    "duration": 31,
    "start_time": "2022-10-19T05:08:28.567Z"
   },
   {
    "duration": 24,
    "start_time": "2022-10-19T05:08:28.601Z"
   },
   {
    "duration": 18,
    "start_time": "2022-10-19T05:08:28.627Z"
   },
   {
    "duration": 35,
    "start_time": "2022-10-19T05:08:28.648Z"
   },
   {
    "duration": 11,
    "start_time": "2022-10-19T05:08:28.686Z"
   },
   {
    "duration": 28,
    "start_time": "2022-10-19T05:08:28.699Z"
   },
   {
    "duration": 793,
    "start_time": "2022-10-19T05:08:28.729Z"
   },
   {
    "duration": 7,
    "start_time": "2022-10-19T05:08:29.524Z"
   },
   {
    "duration": 403,
    "start_time": "2022-10-19T05:08:29.532Z"
   },
   {
    "duration": 7,
    "start_time": "2022-10-19T05:08:29.937Z"
   },
   {
    "duration": 386,
    "start_time": "2022-10-19T05:08:29.948Z"
   },
   {
    "duration": 11,
    "start_time": "2022-10-19T05:08:30.336Z"
   },
   {
    "duration": 42,
    "start_time": "2022-10-19T05:08:30.350Z"
   },
   {
    "duration": 512,
    "start_time": "2022-10-19T05:08:30.395Z"
   },
   {
    "duration": 12,
    "start_time": "2022-10-19T05:08:30.909Z"
   },
   {
    "duration": 363,
    "start_time": "2022-10-19T05:08:30.923Z"
   },
   {
    "duration": 9,
    "start_time": "2022-10-19T05:08:31.288Z"
   },
   {
    "duration": 425,
    "start_time": "2022-10-19T05:08:31.299Z"
   },
   {
    "duration": 8,
    "start_time": "2022-10-19T05:08:31.725Z"
   },
   {
    "duration": 399,
    "start_time": "2022-10-19T05:08:31.735Z"
   },
   {
    "duration": 8,
    "start_time": "2022-10-19T05:08:32.136Z"
   },
   {
    "duration": 22,
    "start_time": "2022-10-19T05:08:32.146Z"
   },
   {
    "duration": 522,
    "start_time": "2022-10-19T05:08:32.170Z"
   },
   {
    "duration": 9,
    "start_time": "2022-10-19T05:08:32.694Z"
   },
   {
    "duration": 357,
    "start_time": "2022-10-19T05:08:32.705Z"
   },
   {
    "duration": 9,
    "start_time": "2022-10-19T05:08:33.063Z"
   },
   {
    "duration": 377,
    "start_time": "2022-10-19T05:08:33.074Z"
   },
   {
    "duration": 7,
    "start_time": "2022-10-19T05:08:33.453Z"
   },
   {
    "duration": 477,
    "start_time": "2022-10-19T05:08:33.461Z"
   },
   {
    "duration": 836,
    "start_time": "2022-10-19T05:08:33.940Z"
   },
   {
    "duration": 3,
    "start_time": "2022-10-19T05:08:34.777Z"
   },
   {
    "duration": 439,
    "start_time": "2022-10-19T05:08:34.781Z"
   },
   {
    "duration": 354,
    "start_time": "2022-10-19T05:08:35.222Z"
   },
   {
    "duration": 378,
    "start_time": "2022-10-19T05:08:35.577Z"
   },
   {
    "duration": 366,
    "start_time": "2022-10-19T05:08:35.957Z"
   },
   {
    "duration": 10,
    "start_time": "2022-10-19T05:08:36.324Z"
   },
   {
    "duration": 447,
    "start_time": "2022-10-19T05:08:36.336Z"
   },
   {
    "duration": 8,
    "start_time": "2022-10-19T05:08:36.785Z"
   },
   {
    "duration": 489,
    "start_time": "2022-10-19T05:08:36.794Z"
   },
   {
    "duration": 48,
    "start_time": "2022-10-19T05:17:23.256Z"
   },
   {
    "duration": 518,
    "start_time": "2022-10-19T05:42:13.191Z"
   },
   {
    "duration": 33,
    "start_time": "2022-10-19T05:42:13.711Z"
   },
   {
    "duration": 22,
    "start_time": "2022-10-19T05:42:13.746Z"
   },
   {
    "duration": 13,
    "start_time": "2022-10-19T05:42:13.771Z"
   },
   {
    "duration": 71,
    "start_time": "2022-10-19T05:42:13.786Z"
   },
   {
    "duration": 4,
    "start_time": "2022-10-19T05:42:13.859Z"
   },
   {
    "duration": 14,
    "start_time": "2022-10-19T05:42:13.865Z"
   },
   {
    "duration": 8,
    "start_time": "2022-10-19T05:42:13.881Z"
   },
   {
    "duration": 9,
    "start_time": "2022-10-19T05:42:13.892Z"
   },
   {
    "duration": 8,
    "start_time": "2022-10-19T05:42:13.924Z"
   },
   {
    "duration": 49,
    "start_time": "2022-10-19T05:42:13.934Z"
   },
   {
    "duration": 10,
    "start_time": "2022-10-19T05:42:13.985Z"
   },
   {
    "duration": 5,
    "start_time": "2022-10-19T05:42:13.997Z"
   },
   {
    "duration": 36,
    "start_time": "2022-10-19T05:42:14.004Z"
   },
   {
    "duration": 27,
    "start_time": "2022-10-19T05:42:14.042Z"
   },
   {
    "duration": 19,
    "start_time": "2022-10-19T05:42:14.071Z"
   },
   {
    "duration": 4,
    "start_time": "2022-10-19T05:42:14.092Z"
   },
   {
    "duration": 27,
    "start_time": "2022-10-19T05:42:14.097Z"
   },
   {
    "duration": 11,
    "start_time": "2022-10-19T05:42:14.125Z"
   },
   {
    "duration": 16,
    "start_time": "2022-10-19T05:42:14.137Z"
   },
   {
    "duration": 16,
    "start_time": "2022-10-19T05:42:14.154Z"
   },
   {
    "duration": 10,
    "start_time": "2022-10-19T05:42:14.172Z"
   },
   {
    "duration": 10,
    "start_time": "2022-10-19T05:42:14.184Z"
   },
   {
    "duration": 801,
    "start_time": "2022-10-19T05:42:14.196Z"
   },
   {
    "duration": 7,
    "start_time": "2022-10-19T05:42:14.999Z"
   },
   {
    "duration": 442,
    "start_time": "2022-10-19T05:42:15.008Z"
   },
   {
    "duration": 11,
    "start_time": "2022-10-19T05:42:15.453Z"
   },
   {
    "duration": 408,
    "start_time": "2022-10-19T05:42:15.469Z"
   },
   {
    "duration": 11,
    "start_time": "2022-10-19T05:42:15.879Z"
   },
   {
    "duration": 13,
    "start_time": "2022-10-19T05:42:15.892Z"
   },
   {
    "duration": 488,
    "start_time": "2022-10-19T05:42:15.926Z"
   },
   {
    "duration": 22,
    "start_time": "2022-10-19T05:42:16.416Z"
   },
   {
    "duration": 355,
    "start_time": "2022-10-19T05:42:16.441Z"
   },
   {
    "duration": 9,
    "start_time": "2022-10-19T05:42:16.798Z"
   },
   {
    "duration": 394,
    "start_time": "2022-10-19T05:42:16.809Z"
   },
   {
    "duration": 19,
    "start_time": "2022-10-19T05:42:17.205Z"
   },
   {
    "duration": 464,
    "start_time": "2022-10-19T05:42:17.228Z"
   },
   {
    "duration": 11,
    "start_time": "2022-10-19T05:42:17.695Z"
   },
   {
    "duration": 19,
    "start_time": "2022-10-19T05:42:17.708Z"
   },
   {
    "duration": 543,
    "start_time": "2022-10-19T05:42:17.729Z"
   },
   {
    "duration": 9,
    "start_time": "2022-10-19T05:42:18.274Z"
   },
   {
    "duration": 361,
    "start_time": "2022-10-19T05:42:18.285Z"
   },
   {
    "duration": 10,
    "start_time": "2022-10-19T05:42:18.648Z"
   },
   {
    "duration": 430,
    "start_time": "2022-10-19T05:42:18.660Z"
   },
   {
    "duration": 12,
    "start_time": "2022-10-19T05:42:19.093Z"
   },
   {
    "duration": 567,
    "start_time": "2022-10-19T05:42:19.109Z"
   },
   {
    "duration": 947,
    "start_time": "2022-10-19T05:42:19.679Z"
   },
   {
    "duration": 2,
    "start_time": "2022-10-19T05:42:20.627Z"
   },
   {
    "duration": 442,
    "start_time": "2022-10-19T05:42:20.637Z"
   },
   {
    "duration": 424,
    "start_time": "2022-10-19T05:42:21.083Z"
   },
   {
    "duration": 384,
    "start_time": "2022-10-19T05:42:21.510Z"
   },
   {
    "duration": 378,
    "start_time": "2022-10-19T05:42:21.896Z"
   },
   {
    "duration": 9,
    "start_time": "2022-10-19T05:42:22.276Z"
   },
   {
    "duration": 408,
    "start_time": "2022-10-19T05:42:22.287Z"
   },
   {
    "duration": 11,
    "start_time": "2022-10-19T05:42:22.697Z"
   },
   {
    "duration": 534,
    "start_time": "2022-10-19T05:42:22.710Z"
   },
   {
    "duration": 486,
    "start_time": "2022-10-20T02:08:13.486Z"
   },
   {
    "duration": 20,
    "start_time": "2022-10-20T02:08:13.974Z"
   },
   {
    "duration": 13,
    "start_time": "2022-10-20T02:08:13.996Z"
   },
   {
    "duration": 18,
    "start_time": "2022-10-20T02:08:14.011Z"
   },
   {
    "duration": 32,
    "start_time": "2022-10-20T02:08:14.030Z"
   },
   {
    "duration": 3,
    "start_time": "2022-10-20T02:08:14.063Z"
   },
   {
    "duration": 19,
    "start_time": "2022-10-20T02:08:14.067Z"
   },
   {
    "duration": 12,
    "start_time": "2022-10-20T02:08:14.090Z"
   },
   {
    "duration": 12,
    "start_time": "2022-10-20T02:08:14.104Z"
   },
   {
    "duration": 3,
    "start_time": "2022-10-20T02:08:14.118Z"
   },
   {
    "duration": 36,
    "start_time": "2022-10-20T02:08:14.123Z"
   },
   {
    "duration": 10,
    "start_time": "2022-10-20T02:08:14.161Z"
   },
   {
    "duration": 28,
    "start_time": "2022-10-20T02:08:14.172Z"
   },
   {
    "duration": 12,
    "start_time": "2022-10-20T02:08:14.202Z"
   },
   {
    "duration": 23,
    "start_time": "2022-10-20T02:08:14.215Z"
   },
   {
    "duration": 15,
    "start_time": "2022-10-20T02:08:14.240Z"
   },
   {
    "duration": 4,
    "start_time": "2022-10-20T02:08:14.256Z"
   },
   {
    "duration": 11,
    "start_time": "2022-10-20T02:08:14.261Z"
   },
   {
    "duration": 5,
    "start_time": "2022-10-20T02:08:14.274Z"
   },
   {
    "duration": 22,
    "start_time": "2022-10-20T02:08:14.280Z"
   },
   {
    "duration": 15,
    "start_time": "2022-10-20T02:08:14.303Z"
   },
   {
    "duration": 5,
    "start_time": "2022-10-20T02:08:14.320Z"
   },
   {
    "duration": 8,
    "start_time": "2022-10-20T02:08:14.327Z"
   },
   {
    "duration": 850,
    "start_time": "2022-10-20T02:08:14.337Z"
   },
   {
    "duration": 5,
    "start_time": "2022-10-20T02:08:15.189Z"
   },
   {
    "duration": 369,
    "start_time": "2022-10-20T02:08:15.199Z"
   },
   {
    "duration": 6,
    "start_time": "2022-10-20T02:08:15.570Z"
   },
   {
    "duration": 323,
    "start_time": "2022-10-20T02:08:15.579Z"
   },
   {
    "duration": 7,
    "start_time": "2022-10-20T02:08:15.903Z"
   },
   {
    "duration": 8,
    "start_time": "2022-10-20T02:08:15.911Z"
   },
   {
    "duration": 396,
    "start_time": "2022-10-20T02:08:15.920Z"
   },
   {
    "duration": 6,
    "start_time": "2022-10-20T02:08:16.317Z"
   },
   {
    "duration": 266,
    "start_time": "2022-10-20T02:08:16.325Z"
   },
   {
    "duration": 13,
    "start_time": "2022-10-20T02:08:16.593Z"
   },
   {
    "duration": 327,
    "start_time": "2022-10-20T02:08:16.607Z"
   },
   {
    "duration": 6,
    "start_time": "2022-10-20T02:08:16.936Z"
   },
   {
    "duration": 392,
    "start_time": "2022-10-20T02:08:16.943Z"
   },
   {
    "duration": 7,
    "start_time": "2022-10-20T02:08:17.337Z"
   },
   {
    "duration": 14,
    "start_time": "2022-10-20T02:08:17.345Z"
   },
   {
    "duration": 460,
    "start_time": "2022-10-20T02:08:17.361Z"
   },
   {
    "duration": 6,
    "start_time": "2022-10-20T02:08:17.823Z"
   },
   {
    "duration": 299,
    "start_time": "2022-10-20T02:08:17.831Z"
   },
   {
    "duration": 7,
    "start_time": "2022-10-20T02:08:18.131Z"
   },
   {
    "duration": 372,
    "start_time": "2022-10-20T02:08:18.140Z"
   },
   {
    "duration": 6,
    "start_time": "2022-10-20T02:08:18.514Z"
   },
   {
    "duration": 338,
    "start_time": "2022-10-20T02:08:18.521Z"
   },
   {
    "duration": 761,
    "start_time": "2022-10-20T02:08:18.861Z"
   },
   {
    "duration": 2,
    "start_time": "2022-10-20T02:08:19.623Z"
   },
   {
    "duration": 321,
    "start_time": "2022-10-20T02:08:19.626Z"
   },
   {
    "duration": 365,
    "start_time": "2022-10-20T02:08:19.948Z"
   },
   {
    "duration": 289,
    "start_time": "2022-10-20T02:08:20.314Z"
   },
   {
    "duration": 307,
    "start_time": "2022-10-20T02:08:20.604Z"
   },
   {
    "duration": 7,
    "start_time": "2022-10-20T02:08:20.912Z"
   },
   {
    "duration": 395,
    "start_time": "2022-10-20T02:08:20.921Z"
   },
   {
    "duration": 6,
    "start_time": "2022-10-20T02:08:21.318Z"
   },
   {
    "duration": 324,
    "start_time": "2022-10-20T02:08:21.326Z"
   },
   {
    "duration": 424,
    "start_time": "2022-10-20T02:22:07.539Z"
   },
   {
    "duration": 21,
    "start_time": "2022-10-20T02:22:07.965Z"
   },
   {
    "duration": 13,
    "start_time": "2022-10-20T02:22:07.987Z"
   },
   {
    "duration": 8,
    "start_time": "2022-10-20T02:22:08.002Z"
   },
   {
    "duration": 35,
    "start_time": "2022-10-20T02:22:08.011Z"
   },
   {
    "duration": 3,
    "start_time": "2022-10-20T02:22:08.047Z"
   },
   {
    "duration": 10,
    "start_time": "2022-10-20T02:22:08.051Z"
   },
   {
    "duration": 4,
    "start_time": "2022-10-20T02:22:08.062Z"
   },
   {
    "duration": 12,
    "start_time": "2022-10-20T02:22:08.067Z"
   },
   {
    "duration": 21,
    "start_time": "2022-10-20T02:22:08.081Z"
   },
   {
    "duration": 37,
    "start_time": "2022-10-20T02:22:08.104Z"
   },
   {
    "duration": 9,
    "start_time": "2022-10-20T02:22:08.142Z"
   },
   {
    "duration": 5,
    "start_time": "2022-10-20T02:22:08.153Z"
   },
   {
    "duration": 12,
    "start_time": "2022-10-20T02:22:08.160Z"
   },
   {
    "duration": 28,
    "start_time": "2022-10-20T02:22:08.173Z"
   },
   {
    "duration": 15,
    "start_time": "2022-10-20T02:22:08.203Z"
   },
   {
    "duration": 3,
    "start_time": "2022-10-20T02:22:08.219Z"
   },
   {
    "duration": 13,
    "start_time": "2022-10-20T02:22:08.223Z"
   },
   {
    "duration": 5,
    "start_time": "2022-10-20T02:22:08.237Z"
   },
   {
    "duration": 3,
    "start_time": "2022-10-20T02:22:08.243Z"
   },
   {
    "duration": 11,
    "start_time": "2022-10-20T02:22:08.247Z"
   },
   {
    "duration": 4,
    "start_time": "2022-10-20T02:22:08.259Z"
   },
   {
    "duration": 6,
    "start_time": "2022-10-20T02:22:08.264Z"
   },
   {
    "duration": 714,
    "start_time": "2022-10-20T02:22:08.271Z"
   },
   {
    "duration": 7,
    "start_time": "2022-10-20T02:22:08.987Z"
   },
   {
    "duration": 330,
    "start_time": "2022-10-20T02:22:09.000Z"
   },
   {
    "duration": 6,
    "start_time": "2022-10-20T02:22:09.331Z"
   },
   {
    "duration": 348,
    "start_time": "2022-10-20T02:22:09.339Z"
   },
   {
    "duration": 11,
    "start_time": "2022-10-20T02:22:09.689Z"
   },
   {
    "duration": 15,
    "start_time": "2022-10-20T02:22:09.702Z"
   },
   {
    "duration": 320,
    "start_time": "2022-10-20T02:22:09.719Z"
   },
   {
    "duration": 8,
    "start_time": "2022-10-20T02:22:10.041Z"
   },
   {
    "duration": 449,
    "start_time": "2022-10-20T02:22:10.051Z"
   },
   {
    "duration": 8,
    "start_time": "2022-10-20T02:22:10.502Z"
   },
   {
    "duration": 330,
    "start_time": "2022-10-20T02:22:10.512Z"
   },
   {
    "duration": 6,
    "start_time": "2022-10-20T02:22:10.844Z"
   },
   {
    "duration": 399,
    "start_time": "2022-10-20T02:22:10.851Z"
   },
   {
    "duration": 6,
    "start_time": "2022-10-20T02:22:11.252Z"
   },
   {
    "duration": 11,
    "start_time": "2022-10-20T02:22:11.259Z"
   },
   {
    "duration": 454,
    "start_time": "2022-10-20T02:22:11.271Z"
   },
   {
    "duration": 7,
    "start_time": "2022-10-20T02:22:11.727Z"
   },
   {
    "duration": 325,
    "start_time": "2022-10-20T02:22:11.735Z"
   },
   {
    "duration": 6,
    "start_time": "2022-10-20T02:22:12.062Z"
   },
   {
    "duration": 319,
    "start_time": "2022-10-20T02:22:12.070Z"
   },
   {
    "duration": 13,
    "start_time": "2022-10-20T02:22:12.391Z"
   },
   {
    "duration": 407,
    "start_time": "2022-10-20T02:22:12.405Z"
   },
   {
    "duration": 722,
    "start_time": "2022-10-20T02:22:12.814Z"
   },
   {
    "duration": 3,
    "start_time": "2022-10-20T02:22:13.537Z"
   },
   {
    "duration": 368,
    "start_time": "2022-10-20T02:22:13.541Z"
   },
   {
    "duration": 360,
    "start_time": "2022-10-20T02:22:13.910Z"
   },
   {
    "duration": 329,
    "start_time": "2022-10-20T02:22:14.271Z"
   },
   {
    "duration": 313,
    "start_time": "2022-10-20T02:22:14.602Z"
   },
   {
    "duration": 9,
    "start_time": "2022-10-20T02:22:14.916Z"
   },
   {
    "duration": 330,
    "start_time": "2022-10-20T02:22:14.927Z"
   },
   {
    "duration": 6,
    "start_time": "2022-10-20T02:22:15.259Z"
   },
   {
    "duration": 443,
    "start_time": "2022-10-20T02:22:15.267Z"
   },
   {
    "duration": 395,
    "start_time": "2022-10-20T02:37:19.240Z"
   },
   {
    "duration": 20,
    "start_time": "2022-10-20T02:37:19.637Z"
   },
   {
    "duration": 13,
    "start_time": "2022-10-20T02:37:19.659Z"
   },
   {
    "duration": 7,
    "start_time": "2022-10-20T02:37:19.674Z"
   },
   {
    "duration": 29,
    "start_time": "2022-10-20T02:37:19.699Z"
   },
   {
    "duration": 3,
    "start_time": "2022-10-20T02:37:19.729Z"
   },
   {
    "duration": 15,
    "start_time": "2022-10-20T02:37:19.733Z"
   },
   {
    "duration": 8,
    "start_time": "2022-10-20T02:37:19.749Z"
   },
   {
    "duration": 8,
    "start_time": "2022-10-20T02:37:19.758Z"
   },
   {
    "duration": 5,
    "start_time": "2022-10-20T02:37:19.769Z"
   },
   {
    "duration": 49,
    "start_time": "2022-10-20T02:37:19.776Z"
   },
   {
    "duration": 9,
    "start_time": "2022-10-20T02:37:19.826Z"
   },
   {
    "duration": 19,
    "start_time": "2022-10-20T02:37:19.837Z"
   },
   {
    "duration": 20,
    "start_time": "2022-10-20T02:37:19.857Z"
   },
   {
    "duration": 22,
    "start_time": "2022-10-20T02:37:19.879Z"
   },
   {
    "duration": 16,
    "start_time": "2022-10-20T02:37:19.903Z"
   },
   {
    "duration": 3,
    "start_time": "2022-10-20T02:37:19.920Z"
   },
   {
    "duration": 11,
    "start_time": "2022-10-20T02:37:19.925Z"
   },
   {
    "duration": 20,
    "start_time": "2022-10-20T02:37:19.937Z"
   },
   {
    "duration": 9,
    "start_time": "2022-10-20T02:37:19.958Z"
   },
   {
    "duration": 11,
    "start_time": "2022-10-20T02:37:19.968Z"
   },
   {
    "duration": 5,
    "start_time": "2022-10-20T02:37:19.980Z"
   },
   {
    "duration": 5,
    "start_time": "2022-10-20T02:37:19.986Z"
   },
   {
    "duration": 694,
    "start_time": "2022-10-20T02:37:19.993Z"
   },
   {
    "duration": 5,
    "start_time": "2022-10-20T02:37:20.688Z"
   },
   {
    "duration": 324,
    "start_time": "2022-10-20T02:37:20.695Z"
   },
   {
    "duration": 6,
    "start_time": "2022-10-20T02:37:21.020Z"
   },
   {
    "duration": 288,
    "start_time": "2022-10-20T02:37:21.029Z"
   },
   {
    "duration": 6,
    "start_time": "2022-10-20T02:37:21.319Z"
   },
   {
    "duration": 26,
    "start_time": "2022-10-20T02:37:21.327Z"
   },
   {
    "duration": 348,
    "start_time": "2022-10-20T02:37:21.355Z"
   },
   {
    "duration": 8,
    "start_time": "2022-10-20T02:37:21.704Z"
   },
   {
    "duration": 402,
    "start_time": "2022-10-20T02:37:21.714Z"
   },
   {
    "duration": 7,
    "start_time": "2022-10-20T02:37:22.117Z"
   },
   {
    "duration": 333,
    "start_time": "2022-10-20T02:37:22.126Z"
   },
   {
    "duration": 7,
    "start_time": "2022-10-20T02:37:22.460Z"
   },
   {
    "duration": 363,
    "start_time": "2022-10-20T02:37:22.469Z"
   },
   {
    "duration": 7,
    "start_time": "2022-10-20T02:37:22.834Z"
   },
   {
    "duration": 10,
    "start_time": "2022-10-20T02:37:22.842Z"
   },
   {
    "duration": 340,
    "start_time": "2022-10-20T02:37:22.853Z"
   },
   {
    "duration": 7,
    "start_time": "2022-10-20T02:37:23.195Z"
   },
   {
    "duration": 418,
    "start_time": "2022-10-20T02:37:23.203Z"
   },
   {
    "duration": 7,
    "start_time": "2022-10-20T02:37:23.622Z"
   },
   {
    "duration": 350,
    "start_time": "2022-10-20T02:37:23.630Z"
   },
   {
    "duration": 6,
    "start_time": "2022-10-20T02:37:23.982Z"
   },
   {
    "duration": 435,
    "start_time": "2022-10-20T02:37:23.989Z"
   },
   {
    "duration": 719,
    "start_time": "2022-10-20T02:37:24.426Z"
   },
   {
    "duration": 2,
    "start_time": "2022-10-20T02:37:25.147Z"
   },
   {
    "duration": 380,
    "start_time": "2022-10-20T02:37:25.150Z"
   },
   {
    "duration": 334,
    "start_time": "2022-10-20T02:37:25.533Z"
   },
   {
    "duration": 333,
    "start_time": "2022-10-20T02:37:25.869Z"
   },
   {
    "duration": 306,
    "start_time": "2022-10-20T02:37:26.204Z"
   },
   {
    "duration": 7,
    "start_time": "2022-10-20T02:37:26.512Z"
   },
   {
    "duration": 316,
    "start_time": "2022-10-20T02:37:26.520Z"
   },
   {
    "duration": 7,
    "start_time": "2022-10-20T02:37:26.838Z"
   },
   {
    "duration": 413,
    "start_time": "2022-10-20T02:37:26.846Z"
   },
   {
    "duration": 559,
    "start_time": "2022-10-20T02:38:09.855Z"
   },
   {
    "duration": 342,
    "start_time": "2022-10-20T02:38:25.575Z"
   },
   {
    "duration": 400,
    "start_time": "2022-10-20T02:41:02.749Z"
   },
   {
    "duration": 19,
    "start_time": "2022-10-20T02:41:03.152Z"
   },
   {
    "duration": 13,
    "start_time": "2022-10-20T02:41:03.173Z"
   },
   {
    "duration": 15,
    "start_time": "2022-10-20T02:41:03.188Z"
   },
   {
    "duration": 29,
    "start_time": "2022-10-20T02:41:03.204Z"
   },
   {
    "duration": 2,
    "start_time": "2022-10-20T02:41:03.235Z"
   },
   {
    "duration": 19,
    "start_time": "2022-10-20T02:41:03.238Z"
   },
   {
    "duration": 4,
    "start_time": "2022-10-20T02:41:03.258Z"
   },
   {
    "duration": 9,
    "start_time": "2022-10-20T02:41:03.263Z"
   },
   {
    "duration": 9,
    "start_time": "2022-10-20T02:41:03.274Z"
   },
   {
    "duration": 41,
    "start_time": "2022-10-20T02:41:03.285Z"
   },
   {
    "duration": 8,
    "start_time": "2022-10-20T02:41:03.328Z"
   },
   {
    "duration": 5,
    "start_time": "2022-10-20T02:41:03.337Z"
   },
   {
    "duration": 11,
    "start_time": "2022-10-20T02:41:03.343Z"
   },
   {
    "duration": 16,
    "start_time": "2022-10-20T02:41:03.355Z"
   },
   {
    "duration": 33,
    "start_time": "2022-10-20T02:41:03.372Z"
   },
   {
    "duration": 3,
    "start_time": "2022-10-20T02:41:03.406Z"
   },
   {
    "duration": 13,
    "start_time": "2022-10-20T02:41:03.410Z"
   },
   {
    "duration": 5,
    "start_time": "2022-10-20T02:41:03.424Z"
   },
   {
    "duration": 7,
    "start_time": "2022-10-20T02:41:03.430Z"
   },
   {
    "duration": 9,
    "start_time": "2022-10-20T02:41:03.438Z"
   },
   {
    "duration": 3,
    "start_time": "2022-10-20T02:41:03.449Z"
   },
   {
    "duration": 5,
    "start_time": "2022-10-20T02:41:03.453Z"
   },
   {
    "duration": 739,
    "start_time": "2022-10-20T02:41:03.459Z"
   },
   {
    "duration": 7,
    "start_time": "2022-10-20T02:41:04.200Z"
   },
   {
    "duration": 350,
    "start_time": "2022-10-20T02:41:04.208Z"
   },
   {
    "duration": 6,
    "start_time": "2022-10-20T02:41:04.559Z"
   },
   {
    "duration": 341,
    "start_time": "2022-10-20T02:41:04.570Z"
   },
   {
    "duration": 8,
    "start_time": "2022-10-20T02:41:04.912Z"
   },
   {
    "duration": 5,
    "start_time": "2022-10-20T02:41:04.922Z"
   },
   {
    "duration": 309,
    "start_time": "2022-10-20T02:41:04.929Z"
   },
   {
    "duration": 8,
    "start_time": "2022-10-20T02:41:05.239Z"
   },
   {
    "duration": 465,
    "start_time": "2022-10-20T02:41:05.248Z"
   },
   {
    "duration": 6,
    "start_time": "2022-10-20T02:41:05.714Z"
   },
   {
    "duration": 357,
    "start_time": "2022-10-20T02:41:05.722Z"
   },
   {
    "duration": 8,
    "start_time": "2022-10-20T02:41:06.080Z"
   },
   {
    "duration": 345,
    "start_time": "2022-10-20T02:41:06.090Z"
   },
   {
    "duration": 7,
    "start_time": "2022-10-20T02:41:06.436Z"
   },
   {
    "duration": 12,
    "start_time": "2022-10-20T02:41:06.444Z"
   },
   {
    "duration": 311,
    "start_time": "2022-10-20T02:41:06.457Z"
   },
   {
    "duration": 7,
    "start_time": "2022-10-20T02:41:06.770Z"
   },
   {
    "duration": 435,
    "start_time": "2022-10-20T02:41:06.778Z"
   },
   {
    "duration": 6,
    "start_time": "2022-10-20T02:41:07.215Z"
   },
   {
    "duration": 366,
    "start_time": "2022-10-20T02:41:07.222Z"
   },
   {
    "duration": 12,
    "start_time": "2022-10-20T02:41:07.589Z"
   },
   {
    "duration": 392,
    "start_time": "2022-10-20T02:41:07.602Z"
   },
   {
    "duration": 720,
    "start_time": "2022-10-20T02:41:08.000Z"
   },
   {
    "duration": 2,
    "start_time": "2022-10-20T02:41:08.722Z"
   },
   {
    "duration": 329,
    "start_time": "2022-10-20T02:41:08.725Z"
   },
   {
    "duration": 360,
    "start_time": "2022-10-20T02:41:09.055Z"
   },
   {
    "duration": 299,
    "start_time": "2022-10-20T02:41:09.417Z"
   },
   {
    "duration": 298,
    "start_time": "2022-10-20T02:41:09.717Z"
   },
   {
    "duration": 6,
    "start_time": "2022-10-20T02:41:10.016Z"
   },
   {
    "duration": 308,
    "start_time": "2022-10-20T02:41:10.024Z"
   },
   {
    "duration": 8,
    "start_time": "2022-10-20T02:41:10.333Z"
   },
   {
    "duration": 389,
    "start_time": "2022-10-20T02:41:10.343Z"
   },
   {
    "duration": 314,
    "start_time": "2022-10-20T03:09:27.177Z"
   },
   {
    "duration": 252,
    "start_time": "2022-10-20T03:09:29.608Z"
   },
   {
    "duration": 308,
    "start_time": "2022-10-20T03:09:32.857Z"
   },
   {
    "duration": 438,
    "start_time": "2022-10-20T03:09:46.767Z"
   },
   {
    "duration": 20,
    "start_time": "2022-10-20T03:09:47.207Z"
   },
   {
    "duration": 13,
    "start_time": "2022-10-20T03:09:47.229Z"
   },
   {
    "duration": 8,
    "start_time": "2022-10-20T03:09:47.244Z"
   },
   {
    "duration": 46,
    "start_time": "2022-10-20T03:09:47.254Z"
   },
   {
    "duration": 3,
    "start_time": "2022-10-20T03:09:47.302Z"
   },
   {
    "duration": 12,
    "start_time": "2022-10-20T03:09:47.306Z"
   },
   {
    "duration": 5,
    "start_time": "2022-10-20T03:09:47.320Z"
   },
   {
    "duration": 9,
    "start_time": "2022-10-20T03:09:47.326Z"
   },
   {
    "duration": 3,
    "start_time": "2022-10-20T03:09:47.337Z"
   },
   {
    "duration": 36,
    "start_time": "2022-10-20T03:09:47.342Z"
   },
   {
    "duration": 21,
    "start_time": "2022-10-20T03:09:47.380Z"
   },
   {
    "duration": 3,
    "start_time": "2022-10-20T03:09:47.402Z"
   },
   {
    "duration": 23,
    "start_time": "2022-10-20T03:09:47.406Z"
   },
   {
    "duration": 18,
    "start_time": "2022-10-20T03:09:47.430Z"
   },
   {
    "duration": 15,
    "start_time": "2022-10-20T03:09:47.450Z"
   },
   {
    "duration": 4,
    "start_time": "2022-10-20T03:09:47.466Z"
   },
   {
    "duration": 12,
    "start_time": "2022-10-20T03:09:47.472Z"
   },
   {
    "duration": 5,
    "start_time": "2022-10-20T03:09:47.500Z"
   },
   {
    "duration": 3,
    "start_time": "2022-10-20T03:09:47.507Z"
   },
   {
    "duration": 9,
    "start_time": "2022-10-20T03:09:47.512Z"
   },
   {
    "duration": 5,
    "start_time": "2022-10-20T03:09:47.522Z"
   },
   {
    "duration": 9,
    "start_time": "2022-10-20T03:09:47.529Z"
   },
   {
    "duration": 648,
    "start_time": "2022-10-20T03:09:47.539Z"
   },
   {
    "duration": 7,
    "start_time": "2022-10-20T03:09:48.188Z"
   },
   {
    "duration": 327,
    "start_time": "2022-10-20T03:09:48.196Z"
   },
   {
    "duration": 6,
    "start_time": "2022-10-20T03:09:48.525Z"
   },
   {
    "duration": 357,
    "start_time": "2022-10-20T03:09:48.535Z"
   },
   {
    "duration": 11,
    "start_time": "2022-10-20T03:09:48.894Z"
   },
   {
    "duration": 16,
    "start_time": "2022-10-20T03:09:48.906Z"
   },
   {
    "duration": 330,
    "start_time": "2022-10-20T03:09:48.924Z"
   },
   {
    "duration": 8,
    "start_time": "2022-10-20T03:09:49.256Z"
   },
   {
    "duration": 441,
    "start_time": "2022-10-20T03:09:49.266Z"
   },
   {
    "duration": 7,
    "start_time": "2022-10-20T03:09:49.709Z"
   },
   {
    "duration": 348,
    "start_time": "2022-10-20T03:09:49.718Z"
   },
   {
    "duration": 8,
    "start_time": "2022-10-20T03:09:50.068Z"
   },
   {
    "duration": 360,
    "start_time": "2022-10-20T03:09:50.078Z"
   },
   {
    "duration": 7,
    "start_time": "2022-10-20T03:09:50.440Z"
   },
   {
    "duration": 29,
    "start_time": "2022-10-20T03:09:50.448Z"
   },
   {
    "duration": 303,
    "start_time": "2022-10-20T03:09:50.479Z"
   },
   {
    "duration": 18,
    "start_time": "2022-10-20T03:09:50.784Z"
   },
   {
    "duration": 421,
    "start_time": "2022-10-20T03:09:50.803Z"
   },
   {
    "duration": 7,
    "start_time": "2022-10-20T03:09:51.226Z"
   },
   {
    "duration": 376,
    "start_time": "2022-10-20T03:09:51.234Z"
   },
   {
    "duration": 7,
    "start_time": "2022-10-20T03:09:51.612Z"
   },
   {
    "duration": 386,
    "start_time": "2022-10-20T03:09:51.620Z"
   },
   {
    "duration": 729,
    "start_time": "2022-10-20T03:09:52.008Z"
   },
   {
    "duration": 2,
    "start_time": "2022-10-20T03:09:52.739Z"
   },
   {
    "duration": 377,
    "start_time": "2022-10-20T03:09:52.742Z"
   },
   {
    "duration": 332,
    "start_time": "2022-10-20T03:09:53.120Z"
   },
   {
    "duration": 351,
    "start_time": "2022-10-20T03:09:53.454Z"
   },
   {
    "duration": 324,
    "start_time": "2022-10-20T03:09:53.807Z"
   },
   {
    "duration": 6,
    "start_time": "2022-10-20T03:09:54.133Z"
   },
   {
    "duration": 392,
    "start_time": "2022-10-20T03:09:54.140Z"
   },
   {
    "duration": 8,
    "start_time": "2022-10-20T03:09:54.533Z"
   },
   {
    "duration": 401,
    "start_time": "2022-10-20T03:09:54.542Z"
   },
   {
    "duration": 6,
    "start_time": "2022-10-20T03:18:04.666Z"
   },
   {
    "duration": 434,
    "start_time": "2022-10-20T03:54:50.766Z"
   },
   {
    "duration": 21,
    "start_time": "2022-10-20T03:54:51.202Z"
   },
   {
    "duration": 19,
    "start_time": "2022-10-20T03:54:51.224Z"
   },
   {
    "duration": 8,
    "start_time": "2022-10-20T03:54:51.245Z"
   },
   {
    "duration": 34,
    "start_time": "2022-10-20T03:54:51.255Z"
   },
   {
    "duration": 3,
    "start_time": "2022-10-20T03:54:51.299Z"
   },
   {
    "duration": 11,
    "start_time": "2022-10-20T03:54:51.304Z"
   },
   {
    "duration": 6,
    "start_time": "2022-10-20T03:54:51.316Z"
   },
   {
    "duration": 12,
    "start_time": "2022-10-20T03:54:51.323Z"
   },
   {
    "duration": 21,
    "start_time": "2022-10-20T03:54:51.339Z"
   },
   {
    "duration": 36,
    "start_time": "2022-10-20T03:54:51.361Z"
   },
   {
    "duration": 8,
    "start_time": "2022-10-20T03:54:51.399Z"
   },
   {
    "duration": 4,
    "start_time": "2022-10-20T03:54:51.408Z"
   },
   {
    "duration": 17,
    "start_time": "2022-10-20T03:54:51.414Z"
   },
   {
    "duration": 27,
    "start_time": "2022-10-20T03:54:51.432Z"
   },
   {
    "duration": 18,
    "start_time": "2022-10-20T03:54:51.460Z"
   },
   {
    "duration": 34,
    "start_time": "2022-10-20T03:54:51.480Z"
   },
   {
    "duration": 23,
    "start_time": "2022-10-20T03:54:51.515Z"
   },
   {
    "duration": 12,
    "start_time": "2022-10-20T03:54:51.540Z"
   },
   {
    "duration": 8,
    "start_time": "2022-10-20T03:54:51.554Z"
   },
   {
    "duration": 10,
    "start_time": "2022-10-20T03:54:51.563Z"
   },
   {
    "duration": 6,
    "start_time": "2022-10-20T03:54:51.574Z"
   },
   {
    "duration": 5,
    "start_time": "2022-10-20T03:54:51.582Z"
   },
   {
    "duration": 749,
    "start_time": "2022-10-20T03:54:51.589Z"
   },
   {
    "duration": 5,
    "start_time": "2022-10-20T03:54:52.340Z"
   },
   {
    "duration": 418,
    "start_time": "2022-10-20T03:54:52.347Z"
   },
   {
    "duration": 6,
    "start_time": "2022-10-20T03:54:52.766Z"
   },
   {
    "duration": 337,
    "start_time": "2022-10-20T03:54:52.775Z"
   },
   {
    "duration": 7,
    "start_time": "2022-10-20T03:54:53.114Z"
   },
   {
    "duration": 43,
    "start_time": "2022-10-20T03:54:53.123Z"
   },
   {
    "duration": 342,
    "start_time": "2022-10-20T03:54:53.167Z"
   },
   {
    "duration": 8,
    "start_time": "2022-10-20T03:54:53.511Z"
   },
   {
    "duration": 447,
    "start_time": "2022-10-20T03:54:53.520Z"
   },
   {
    "duration": 8,
    "start_time": "2022-10-20T03:54:53.969Z"
   },
   {
    "duration": 370,
    "start_time": "2022-10-20T03:54:53.979Z"
   },
   {
    "duration": 7,
    "start_time": "2022-10-20T03:54:54.350Z"
   },
   {
    "duration": 383,
    "start_time": "2022-10-20T03:54:54.358Z"
   },
   {
    "duration": 6,
    "start_time": "2022-10-20T03:54:54.742Z"
   },
   {
    "duration": 11,
    "start_time": "2022-10-20T03:54:54.749Z"
   },
   {
    "duration": 320,
    "start_time": "2022-10-20T03:54:54.761Z"
   },
   {
    "duration": 18,
    "start_time": "2022-10-20T03:54:55.083Z"
   },
   {
    "duration": 424,
    "start_time": "2022-10-20T03:54:55.103Z"
   },
   {
    "duration": 6,
    "start_time": "2022-10-20T03:54:55.528Z"
   },
   {
    "duration": 380,
    "start_time": "2022-10-20T03:54:55.535Z"
   },
   {
    "duration": 7,
    "start_time": "2022-10-20T03:54:55.916Z"
   },
   {
    "duration": 378,
    "start_time": "2022-10-20T03:54:55.924Z"
   },
   {
    "duration": 743,
    "start_time": "2022-10-20T03:54:56.303Z"
   },
   {
    "duration": 2,
    "start_time": "2022-10-20T03:54:57.048Z"
   },
   {
    "duration": 401,
    "start_time": "2022-10-20T03:54:57.052Z"
   },
   {
    "duration": 368,
    "start_time": "2022-10-20T03:54:57.455Z"
   },
   {
    "duration": 298,
    "start_time": "2022-10-20T03:54:57.824Z"
   },
   {
    "duration": 7,
    "start_time": "2022-10-20T03:54:58.124Z"
   },
   {
    "duration": 313,
    "start_time": "2022-10-20T03:54:58.132Z"
   },
   {
    "duration": 9,
    "start_time": "2022-10-20T03:54:58.447Z"
   },
   {
    "duration": 364,
    "start_time": "2022-10-20T03:54:58.458Z"
   },
   {
    "duration": 6,
    "start_time": "2022-10-20T03:54:58.824Z"
   },
   {
    "duration": 403,
    "start_time": "2022-10-20T03:54:58.832Z"
   },
   {
    "duration": 438,
    "start_time": "2022-10-21T02:53:53.577Z"
   },
   {
    "duration": 21,
    "start_time": "2022-10-21T02:53:54.016Z"
   },
   {
    "duration": 14,
    "start_time": "2022-10-21T02:53:54.038Z"
   },
   {
    "duration": 9,
    "start_time": "2022-10-21T02:53:54.053Z"
   },
   {
    "duration": 39,
    "start_time": "2022-10-21T02:53:54.063Z"
   },
   {
    "duration": 3,
    "start_time": "2022-10-21T02:53:54.103Z"
   },
   {
    "duration": 24,
    "start_time": "2022-10-21T02:53:54.108Z"
   },
   {
    "duration": 8,
    "start_time": "2022-10-21T02:53:54.133Z"
   },
   {
    "duration": 23,
    "start_time": "2022-10-21T02:53:54.143Z"
   },
   {
    "duration": 15,
    "start_time": "2022-10-21T02:53:54.169Z"
   },
   {
    "duration": 51,
    "start_time": "2022-10-21T02:53:54.185Z"
   },
   {
    "duration": 10,
    "start_time": "2022-10-21T02:53:54.237Z"
   },
   {
    "duration": 17,
    "start_time": "2022-10-21T02:53:54.249Z"
   },
   {
    "duration": 26,
    "start_time": "2022-10-21T02:53:54.267Z"
   },
   {
    "duration": 28,
    "start_time": "2022-10-21T02:53:54.295Z"
   },
   {
    "duration": 22,
    "start_time": "2022-10-21T02:53:54.325Z"
   },
   {
    "duration": 4,
    "start_time": "2022-10-21T02:53:54.348Z"
   },
   {
    "duration": 29,
    "start_time": "2022-10-21T02:53:54.353Z"
   },
   {
    "duration": 12,
    "start_time": "2022-10-21T02:53:54.384Z"
   },
   {
    "duration": 16,
    "start_time": "2022-10-21T02:53:54.397Z"
   },
   {
    "duration": 29,
    "start_time": "2022-10-21T02:53:54.414Z"
   },
   {
    "duration": 13,
    "start_time": "2022-10-21T02:53:54.444Z"
   },
   {
    "duration": 28,
    "start_time": "2022-10-21T02:53:54.458Z"
   },
   {
    "duration": 953,
    "start_time": "2022-10-21T02:53:54.487Z"
   },
   {
    "duration": 7,
    "start_time": "2022-10-21T02:53:55.441Z"
   },
   {
    "duration": 430,
    "start_time": "2022-10-21T02:53:55.450Z"
   },
   {
    "duration": 8,
    "start_time": "2022-10-21T02:53:55.881Z"
   },
   {
    "duration": 337,
    "start_time": "2022-10-21T02:53:55.894Z"
   },
   {
    "duration": 7,
    "start_time": "2022-10-21T02:53:56.233Z"
   },
   {
    "duration": 46,
    "start_time": "2022-10-21T02:53:56.242Z"
   },
   {
    "duration": 324,
    "start_time": "2022-10-21T02:53:56.290Z"
   },
   {
    "duration": 7,
    "start_time": "2022-10-21T02:53:56.622Z"
   },
   {
    "duration": 473,
    "start_time": "2022-10-21T02:53:56.631Z"
   },
   {
    "duration": 7,
    "start_time": "2022-10-21T02:53:57.105Z"
   },
   {
    "duration": 373,
    "start_time": "2022-10-21T02:53:57.113Z"
   },
   {
    "duration": 7,
    "start_time": "2022-10-21T02:53:57.488Z"
   },
   {
    "duration": 376,
    "start_time": "2022-10-21T02:53:57.497Z"
   },
   {
    "duration": 9,
    "start_time": "2022-10-21T02:53:57.875Z"
   },
   {
    "duration": 13,
    "start_time": "2022-10-21T02:53:57.886Z"
   },
   {
    "duration": 328,
    "start_time": "2022-10-21T02:53:57.900Z"
   },
   {
    "duration": 7,
    "start_time": "2022-10-21T02:53:58.229Z"
   },
   {
    "duration": 491,
    "start_time": "2022-10-21T02:53:58.238Z"
   },
   {
    "duration": 7,
    "start_time": "2022-10-21T02:53:58.730Z"
   },
   {
    "duration": 378,
    "start_time": "2022-10-21T02:53:58.738Z"
   },
   {
    "duration": 10,
    "start_time": "2022-10-21T02:53:59.117Z"
   },
   {
    "duration": 304,
    "start_time": "2022-10-21T02:53:59.128Z"
   },
   {
    "duration": 735,
    "start_time": "2022-10-21T02:53:59.433Z"
   },
   {
    "duration": 2,
    "start_time": "2022-10-21T02:54:00.169Z"
   },
   {
    "duration": 383,
    "start_time": "2022-10-21T02:54:00.173Z"
   },
   {
    "duration": 339,
    "start_time": "2022-10-21T02:54:00.558Z"
   },
   {
    "duration": 327,
    "start_time": "2022-10-21T02:54:00.899Z"
   },
   {
    "duration": 7,
    "start_time": "2022-10-21T02:54:01.228Z"
   },
   {
    "duration": 469,
    "start_time": "2022-10-21T02:54:01.236Z"
   },
   {
    "duration": 17,
    "start_time": "2022-10-21T02:54:01.706Z"
   },
   {
    "duration": 341,
    "start_time": "2022-10-21T02:54:01.724Z"
   },
   {
    "duration": 8,
    "start_time": "2022-10-21T02:54:02.067Z"
   },
   {
    "duration": 379,
    "start_time": "2022-10-21T02:54:02.077Z"
   },
   {
    "duration": 90,
    "start_time": "2022-10-21T03:06:53.938Z"
   },
   {
    "duration": 462,
    "start_time": "2022-10-21T03:07:08.010Z"
   },
   {
    "duration": 20,
    "start_time": "2022-10-21T03:07:08.474Z"
   },
   {
    "duration": 30,
    "start_time": "2022-10-21T03:07:08.495Z"
   },
   {
    "duration": 25,
    "start_time": "2022-10-21T03:07:08.526Z"
   },
   {
    "duration": 65,
    "start_time": "2022-10-21T03:07:08.553Z"
   },
   {
    "duration": 3,
    "start_time": "2022-10-21T03:07:08.619Z"
   },
   {
    "duration": 38,
    "start_time": "2022-10-21T03:07:08.624Z"
   },
   {
    "duration": 34,
    "start_time": "2022-10-21T03:07:08.663Z"
   },
   {
    "duration": 33,
    "start_time": "2022-10-21T03:07:08.699Z"
   },
   {
    "duration": 16,
    "start_time": "2022-10-21T03:07:08.735Z"
   },
   {
    "duration": 34,
    "start_time": "2022-10-21T03:07:08.753Z"
   },
   {
    "duration": 10,
    "start_time": "2022-10-21T03:07:08.789Z"
   },
   {
    "duration": 19,
    "start_time": "2022-10-21T03:07:08.800Z"
   },
   {
    "duration": 49,
    "start_time": "2022-10-21T03:07:08.820Z"
   },
   {
    "duration": 42,
    "start_time": "2022-10-21T03:07:08.872Z"
   },
   {
    "duration": 47,
    "start_time": "2022-10-21T03:07:08.916Z"
   },
   {
    "duration": 13,
    "start_time": "2022-10-21T03:07:08.965Z"
   },
   {
    "duration": 42,
    "start_time": "2022-10-21T03:07:08.980Z"
   },
   {
    "duration": 33,
    "start_time": "2022-10-21T03:07:09.024Z"
   },
   {
    "duration": 23,
    "start_time": "2022-10-21T03:07:09.059Z"
   },
   {
    "duration": 60,
    "start_time": "2022-10-21T03:07:09.083Z"
   },
   {
    "duration": 21,
    "start_time": "2022-10-21T03:07:09.144Z"
   },
   {
    "duration": 35,
    "start_time": "2022-10-21T03:07:09.166Z"
   },
   {
    "duration": 719,
    "start_time": "2022-10-21T03:07:09.203Z"
   },
   {
    "duration": 7,
    "start_time": "2022-10-21T03:07:09.924Z"
   },
   {
    "duration": 397,
    "start_time": "2022-10-21T03:07:09.932Z"
   },
   {
    "duration": 6,
    "start_time": "2022-10-21T03:07:10.331Z"
   },
   {
    "duration": 314,
    "start_time": "2022-10-21T03:07:10.340Z"
   },
   {
    "duration": 6,
    "start_time": "2022-10-21T03:07:10.656Z"
   },
   {
    "duration": 43,
    "start_time": "2022-10-21T03:07:10.664Z"
   },
   {
    "duration": 320,
    "start_time": "2022-10-21T03:07:10.709Z"
   },
   {
    "duration": 7,
    "start_time": "2022-10-21T03:07:11.030Z"
   },
   {
    "duration": 464,
    "start_time": "2022-10-21T03:07:11.038Z"
   },
   {
    "duration": 10,
    "start_time": "2022-10-21T03:07:11.503Z"
   },
   {
    "duration": 11,
    "start_time": "2022-10-21T03:08:02.559Z"
   },
   {
    "duration": 392,
    "start_time": "2022-10-21T03:14:16.880Z"
   },
   {
    "duration": 21,
    "start_time": "2022-10-21T03:14:17.274Z"
   },
   {
    "duration": 19,
    "start_time": "2022-10-21T03:14:17.296Z"
   },
   {
    "duration": 12,
    "start_time": "2022-10-21T03:14:17.317Z"
   },
   {
    "duration": 33,
    "start_time": "2022-10-21T03:14:17.330Z"
   },
   {
    "duration": 3,
    "start_time": "2022-10-21T03:14:17.364Z"
   },
   {
    "duration": 10,
    "start_time": "2022-10-21T03:14:17.368Z"
   },
   {
    "duration": 3,
    "start_time": "2022-10-21T03:14:17.380Z"
   },
   {
    "duration": 8,
    "start_time": "2022-10-21T03:14:17.385Z"
   },
   {
    "duration": 27,
    "start_time": "2022-10-21T03:14:17.396Z"
   },
   {
    "duration": 33,
    "start_time": "2022-10-21T03:14:17.424Z"
   },
   {
    "duration": 12,
    "start_time": "2022-10-21T03:14:17.459Z"
   },
   {
    "duration": 33,
    "start_time": "2022-10-21T03:14:17.472Z"
   },
   {
    "duration": 21,
    "start_time": "2022-10-21T03:14:17.507Z"
   },
   {
    "duration": 39,
    "start_time": "2022-10-21T03:14:17.529Z"
   },
   {
    "duration": 44,
    "start_time": "2022-10-21T03:14:17.569Z"
   },
   {
    "duration": 25,
    "start_time": "2022-10-21T03:14:17.614Z"
   },
   {
    "duration": 31,
    "start_time": "2022-10-21T03:14:17.641Z"
   },
   {
    "duration": 21,
    "start_time": "2022-10-21T03:14:17.673Z"
   },
   {
    "duration": 30,
    "start_time": "2022-10-21T03:14:17.696Z"
   },
   {
    "duration": 32,
    "start_time": "2022-10-21T03:14:17.727Z"
   },
   {
    "duration": 35,
    "start_time": "2022-10-21T03:14:17.760Z"
   },
   {
    "duration": 30,
    "start_time": "2022-10-21T03:14:17.796Z"
   },
   {
    "duration": 715,
    "start_time": "2022-10-21T03:14:17.827Z"
   },
   {
    "duration": 6,
    "start_time": "2022-10-21T03:14:18.544Z"
   },
   {
    "duration": 412,
    "start_time": "2022-10-21T03:14:18.552Z"
   },
   {
    "duration": 8,
    "start_time": "2022-10-21T03:14:18.966Z"
   },
   {
    "duration": 351,
    "start_time": "2022-10-21T03:14:18.978Z"
   },
   {
    "duration": 8,
    "start_time": "2022-10-21T03:14:19.331Z"
   },
   {
    "duration": 21,
    "start_time": "2022-10-21T03:14:19.340Z"
   },
   {
    "duration": 338,
    "start_time": "2022-10-21T03:14:19.363Z"
   },
   {
    "duration": 10,
    "start_time": "2022-10-21T03:14:19.702Z"
   },
   {
    "duration": 436,
    "start_time": "2022-10-21T03:14:19.713Z"
   },
   {
    "duration": 11,
    "start_time": "2022-10-21T03:14:20.150Z"
   },
   {
    "duration": 10,
    "start_time": "2022-10-21T03:14:56.527Z"
   },
   {
    "duration": 13,
    "start_time": "2022-10-21T03:18:28.174Z"
   },
   {
    "duration": 48,
    "start_time": "2022-10-21T03:48:59.890Z"
   },
   {
    "duration": 524,
    "start_time": "2022-10-21T03:49:48.612Z"
   },
   {
    "duration": 20,
    "start_time": "2022-10-21T03:49:49.137Z"
   },
   {
    "duration": 15,
    "start_time": "2022-10-21T03:49:49.162Z"
   },
   {
    "duration": 25,
    "start_time": "2022-10-21T03:49:49.178Z"
   },
   {
    "duration": 40,
    "start_time": "2022-10-21T03:49:49.204Z"
   },
   {
    "duration": 3,
    "start_time": "2022-10-21T03:49:49.246Z"
   },
   {
    "duration": 24,
    "start_time": "2022-10-21T03:49:49.250Z"
   },
   {
    "duration": 9,
    "start_time": "2022-10-21T03:49:49.276Z"
   },
   {
    "duration": 25,
    "start_time": "2022-10-21T03:49:49.288Z"
   },
   {
    "duration": 9,
    "start_time": "2022-10-21T03:49:49.314Z"
   },
   {
    "duration": 32,
    "start_time": "2022-10-21T03:49:49.324Z"
   },
   {
    "duration": 9,
    "start_time": "2022-10-21T03:49:49.357Z"
   },
   {
    "duration": 4,
    "start_time": "2022-10-21T03:49:49.367Z"
   },
   {
    "duration": 12,
    "start_time": "2022-10-21T03:49:49.372Z"
   },
   {
    "duration": 38,
    "start_time": "2022-10-21T03:49:49.385Z"
   },
   {
    "duration": 16,
    "start_time": "2022-10-21T03:49:49.424Z"
   },
   {
    "duration": 3,
    "start_time": "2022-10-21T03:49:49.442Z"
   },
   {
    "duration": 11,
    "start_time": "2022-10-21T03:49:49.447Z"
   },
   {
    "duration": 9,
    "start_time": "2022-10-21T03:49:49.459Z"
   },
   {
    "duration": 5,
    "start_time": "2022-10-21T03:49:49.469Z"
   },
   {
    "duration": 10,
    "start_time": "2022-10-21T03:49:49.475Z"
   },
   {
    "duration": 4,
    "start_time": "2022-10-21T03:49:49.486Z"
   },
   {
    "duration": 7,
    "start_time": "2022-10-21T03:49:49.491Z"
   },
   {
    "duration": 706,
    "start_time": "2022-10-21T03:49:49.522Z"
   },
   {
    "duration": 5,
    "start_time": "2022-10-21T03:49:50.230Z"
   },
   {
    "duration": 332,
    "start_time": "2022-10-21T03:49:50.236Z"
   },
   {
    "duration": 7,
    "start_time": "2022-10-21T03:49:50.571Z"
   },
   {
    "duration": 349,
    "start_time": "2022-10-21T03:49:50.579Z"
   },
   {
    "duration": 9,
    "start_time": "2022-10-21T03:49:50.930Z"
   },
   {
    "duration": 11,
    "start_time": "2022-10-21T03:49:50.940Z"
   },
   {
    "duration": 329,
    "start_time": "2022-10-21T03:49:50.952Z"
   },
   {
    "duration": 7,
    "start_time": "2022-10-21T03:49:51.283Z"
   },
   {
    "duration": 464,
    "start_time": "2022-10-21T03:49:51.292Z"
   },
   {
    "duration": 11,
    "start_time": "2022-10-21T03:49:51.757Z"
   },
   {
    "duration": 11,
    "start_time": "2022-10-21T03:49:51.770Z"
   },
   {
    "duration": 14,
    "start_time": "2022-10-21T03:49:51.783Z"
   },
   {
    "duration": 377,
    "start_time": "2022-10-21T03:49:51.798Z"
   },
   {
    "duration": 9,
    "start_time": "2022-10-21T03:49:52.177Z"
   },
   {
    "duration": 374,
    "start_time": "2022-10-21T03:49:52.188Z"
   },
   {
    "duration": 8,
    "start_time": "2022-10-21T03:49:52.564Z"
   },
   {
    "duration": 26,
    "start_time": "2022-10-21T03:49:52.573Z"
   },
   {
    "duration": 308,
    "start_time": "2022-10-21T03:49:52.601Z"
   },
   {
    "duration": 17,
    "start_time": "2022-10-21T03:49:52.911Z"
   },
   {
    "duration": 438,
    "start_time": "2022-10-21T03:49:52.930Z"
   },
   {
    "duration": 8,
    "start_time": "2022-10-21T03:49:53.370Z"
   },
   {
    "duration": 358,
    "start_time": "2022-10-21T03:49:53.379Z"
   },
   {
    "duration": 7,
    "start_time": "2022-10-21T03:49:53.739Z"
   },
   {
    "duration": 380,
    "start_time": "2022-10-21T03:49:53.747Z"
   },
   {
    "duration": 740,
    "start_time": "2022-10-21T03:49:54.129Z"
   },
   {
    "duration": 2,
    "start_time": "2022-10-21T03:49:54.871Z"
   },
   {
    "duration": 416,
    "start_time": "2022-10-21T03:49:54.875Z"
   },
   {
    "duration": 376,
    "start_time": "2022-10-21T03:49:55.292Z"
   },
   {
    "duration": 372,
    "start_time": "2022-10-21T03:49:55.670Z"
   },
   {
    "duration": 6,
    "start_time": "2022-10-21T03:49:56.044Z"
   },
   {
    "duration": 362,
    "start_time": "2022-10-21T03:49:56.052Z"
   },
   {
    "duration": 11,
    "start_time": "2022-10-21T03:49:56.416Z"
   },
   {
    "duration": 348,
    "start_time": "2022-10-21T03:49:56.429Z"
   },
   {
    "duration": 8,
    "start_time": "2022-10-21T03:49:56.779Z"
   },
   {
    "duration": 470,
    "start_time": "2022-10-21T03:49:56.789Z"
   },
   {
    "duration": 457,
    "start_time": "2022-10-21T03:57:47.810Z"
   },
   {
    "duration": 20,
    "start_time": "2022-10-21T03:57:48.269Z"
   },
   {
    "duration": 14,
    "start_time": "2022-10-21T03:57:48.290Z"
   },
   {
    "duration": 24,
    "start_time": "2022-10-21T03:57:48.305Z"
   },
   {
    "duration": 31,
    "start_time": "2022-10-21T03:57:48.331Z"
   },
   {
    "duration": 4,
    "start_time": "2022-10-21T03:57:48.364Z"
   },
   {
    "duration": 14,
    "start_time": "2022-10-21T03:57:48.370Z"
   },
   {
    "duration": 5,
    "start_time": "2022-10-21T03:57:48.386Z"
   },
   {
    "duration": 36,
    "start_time": "2022-10-21T03:57:48.392Z"
   },
   {
    "duration": 5,
    "start_time": "2022-10-21T03:57:48.432Z"
   },
   {
    "duration": 33,
    "start_time": "2022-10-21T03:57:48.439Z"
   },
   {
    "duration": 11,
    "start_time": "2022-10-21T03:57:48.473Z"
   },
   {
    "duration": 5,
    "start_time": "2022-10-21T03:57:48.485Z"
   },
   {
    "duration": 38,
    "start_time": "2022-10-21T03:57:48.491Z"
   },
   {
    "duration": 20,
    "start_time": "2022-10-21T03:57:48.531Z"
   },
   {
    "duration": 16,
    "start_time": "2022-10-21T03:57:48.553Z"
   },
   {
    "duration": 4,
    "start_time": "2022-10-21T03:57:48.571Z"
   },
   {
    "duration": 15,
    "start_time": "2022-10-21T03:57:48.576Z"
   },
   {
    "duration": 32,
    "start_time": "2022-10-21T03:57:48.593Z"
   },
   {
    "duration": 8,
    "start_time": "2022-10-21T03:57:48.627Z"
   },
   {
    "duration": 13,
    "start_time": "2022-10-21T03:57:48.637Z"
   },
   {
    "duration": 8,
    "start_time": "2022-10-21T03:57:48.651Z"
   },
   {
    "duration": 11,
    "start_time": "2022-10-21T03:57:48.660Z"
   },
   {
    "duration": 732,
    "start_time": "2022-10-21T03:57:48.672Z"
   },
   {
    "duration": 7,
    "start_time": "2022-10-21T03:57:49.406Z"
   },
   {
    "duration": 357,
    "start_time": "2022-10-21T03:57:49.414Z"
   },
   {
    "duration": 7,
    "start_time": "2022-10-21T03:57:49.772Z"
   },
   {
    "duration": 345,
    "start_time": "2022-10-21T03:57:49.783Z"
   },
   {
    "duration": 7,
    "start_time": "2022-10-21T03:57:50.129Z"
   },
   {
    "duration": 12,
    "start_time": "2022-10-21T03:57:50.138Z"
   },
   {
    "duration": 314,
    "start_time": "2022-10-21T03:57:50.151Z"
   },
   {
    "duration": 7,
    "start_time": "2022-10-21T03:57:50.467Z"
   },
   {
    "duration": 460,
    "start_time": "2022-10-21T03:57:50.476Z"
   },
   {
    "duration": 12,
    "start_time": "2022-10-21T03:57:50.937Z"
   },
   {
    "duration": 11,
    "start_time": "2022-10-21T03:57:50.950Z"
   },
   {
    "duration": 7,
    "start_time": "2022-10-21T03:57:50.962Z"
   },
   {
    "duration": 407,
    "start_time": "2022-10-21T03:57:50.970Z"
   },
   {
    "duration": 8,
    "start_time": "2022-10-21T03:57:51.379Z"
   },
   {
    "duration": 377,
    "start_time": "2022-10-21T03:57:51.388Z"
   },
   {
    "duration": 7,
    "start_time": "2022-10-21T03:57:51.766Z"
   },
   {
    "duration": 9,
    "start_time": "2022-10-21T03:57:51.774Z"
   },
   {
    "duration": 327,
    "start_time": "2022-10-21T03:57:51.784Z"
   },
   {
    "duration": 15,
    "start_time": "2022-10-21T03:57:52.112Z"
   },
   {
    "duration": 429,
    "start_time": "2022-10-21T03:57:52.129Z"
   },
   {
    "duration": 7,
    "start_time": "2022-10-21T03:57:52.561Z"
   },
   {
    "duration": 368,
    "start_time": "2022-10-21T03:57:52.569Z"
   },
   {
    "duration": 9,
    "start_time": "2022-10-21T03:57:52.939Z"
   },
   {
    "duration": 387,
    "start_time": "2022-10-21T03:57:52.949Z"
   },
   {
    "duration": 728,
    "start_time": "2022-10-21T03:57:53.338Z"
   },
   {
    "duration": 2,
    "start_time": "2022-10-21T03:57:54.068Z"
   },
   {
    "duration": 388,
    "start_time": "2022-10-21T03:57:54.072Z"
   },
   {
    "duration": 377,
    "start_time": "2022-10-21T03:57:54.462Z"
   },
   {
    "duration": 306,
    "start_time": "2022-10-21T03:57:54.841Z"
   },
   {
    "duration": 6,
    "start_time": "2022-10-21T03:57:55.149Z"
   },
   {
    "duration": 324,
    "start_time": "2022-10-21T03:57:55.156Z"
   },
   {
    "duration": 7,
    "start_time": "2022-10-21T03:57:55.482Z"
   },
   {
    "duration": 373,
    "start_time": "2022-10-21T03:57:55.490Z"
   },
   {
    "duration": 10,
    "start_time": "2022-10-21T03:57:55.866Z"
   },
   {
    "duration": 485,
    "start_time": "2022-10-21T03:57:55.878Z"
   },
   {
    "duration": 392,
    "start_time": "2022-10-21T04:03:32.777Z"
   },
   {
    "duration": 21,
    "start_time": "2022-10-21T04:03:33.171Z"
   },
   {
    "duration": 14,
    "start_time": "2022-10-21T04:03:33.193Z"
   },
   {
    "duration": 9,
    "start_time": "2022-10-21T04:03:33.222Z"
   },
   {
    "duration": 32,
    "start_time": "2022-10-21T04:03:33.232Z"
   },
   {
    "duration": 3,
    "start_time": "2022-10-21T04:03:33.266Z"
   },
   {
    "duration": 10,
    "start_time": "2022-10-21T04:03:33.270Z"
   },
   {
    "duration": 4,
    "start_time": "2022-10-21T04:03:33.282Z"
   },
   {
    "duration": 35,
    "start_time": "2022-10-21T04:03:33.288Z"
   },
   {
    "duration": 4,
    "start_time": "2022-10-21T04:03:33.326Z"
   },
   {
    "duration": 35,
    "start_time": "2022-10-21T04:03:33.332Z"
   },
   {
    "duration": 9,
    "start_time": "2022-10-21T04:03:33.369Z"
   },
   {
    "duration": 6,
    "start_time": "2022-10-21T04:03:33.379Z"
   },
   {
    "duration": 17,
    "start_time": "2022-10-21T04:03:33.386Z"
   },
   {
    "duration": 29,
    "start_time": "2022-10-21T04:03:33.405Z"
   },
   {
    "duration": 16,
    "start_time": "2022-10-21T04:03:33.435Z"
   },
   {
    "duration": 4,
    "start_time": "2022-10-21T04:03:33.453Z"
   },
   {
    "duration": 13,
    "start_time": "2022-10-21T04:03:33.459Z"
   },
   {
    "duration": 6,
    "start_time": "2022-10-21T04:03:33.473Z"
   },
   {
    "duration": 5,
    "start_time": "2022-10-21T04:03:33.480Z"
   },
   {
    "duration": 39,
    "start_time": "2022-10-21T04:03:33.486Z"
   },
   {
    "duration": 5,
    "start_time": "2022-10-21T04:03:33.527Z"
   },
   {
    "duration": 6,
    "start_time": "2022-10-21T04:03:33.534Z"
   },
   {
    "duration": 703,
    "start_time": "2022-10-21T04:03:33.541Z"
   },
   {
    "duration": 6,
    "start_time": "2022-10-21T04:03:34.245Z"
   },
   {
    "duration": 394,
    "start_time": "2022-10-21T04:03:34.252Z"
   },
   {
    "duration": 6,
    "start_time": "2022-10-21T04:03:34.648Z"
   },
   {
    "duration": 335,
    "start_time": "2022-10-21T04:03:34.657Z"
   },
   {
    "duration": 7,
    "start_time": "2022-10-21T04:03:34.994Z"
   },
   {
    "duration": 22,
    "start_time": "2022-10-21T04:03:35.002Z"
   },
   {
    "duration": 341,
    "start_time": "2022-10-21T04:03:35.025Z"
   },
   {
    "duration": 8,
    "start_time": "2022-10-21T04:03:35.368Z"
   },
   {
    "duration": 473,
    "start_time": "2022-10-21T04:03:35.378Z"
   },
   {
    "duration": 11,
    "start_time": "2022-10-21T04:03:35.853Z"
   },
   {
    "duration": 34,
    "start_time": "2022-10-21T04:03:35.866Z"
   },
   {
    "duration": 18,
    "start_time": "2022-10-21T04:03:35.901Z"
   },
   {
    "duration": 356,
    "start_time": "2022-10-21T04:03:35.920Z"
   },
   {
    "duration": 7,
    "start_time": "2022-10-21T04:03:36.277Z"
   },
   {
    "duration": 379,
    "start_time": "2022-10-21T04:03:36.285Z"
   },
   {
    "duration": 9,
    "start_time": "2022-10-21T04:03:36.666Z"
   },
   {
    "duration": 29,
    "start_time": "2022-10-21T04:03:36.676Z"
   },
   {
    "duration": 317,
    "start_time": "2022-10-21T04:03:36.707Z"
   },
   {
    "duration": 8,
    "start_time": "2022-10-21T04:03:37.025Z"
   },
   {
    "duration": 456,
    "start_time": "2022-10-21T04:03:37.034Z"
   },
   {
    "duration": 12,
    "start_time": "2022-10-21T04:07:45.740Z"
   },
   {
    "duration": 13,
    "start_time": "2022-10-21T04:08:03.933Z"
   },
   {
    "duration": 11,
    "start_time": "2022-10-21T04:14:56.877Z"
   },
   {
    "duration": 469,
    "start_time": "2022-10-21T04:15:08.980Z"
   },
   {
    "duration": 21,
    "start_time": "2022-10-21T04:15:09.450Z"
   },
   {
    "duration": 20,
    "start_time": "2022-10-21T04:15:09.472Z"
   },
   {
    "duration": 9,
    "start_time": "2022-10-21T04:15:09.494Z"
   },
   {
    "duration": 45,
    "start_time": "2022-10-21T04:15:09.505Z"
   },
   {
    "duration": 3,
    "start_time": "2022-10-21T04:15:09.552Z"
   },
   {
    "duration": 14,
    "start_time": "2022-10-21T04:15:09.556Z"
   },
   {
    "duration": 5,
    "start_time": "2022-10-21T04:15:09.572Z"
   },
   {
    "duration": 12,
    "start_time": "2022-10-21T04:15:09.578Z"
   },
   {
    "duration": 4,
    "start_time": "2022-10-21T04:15:09.592Z"
   },
   {
    "duration": 49,
    "start_time": "2022-10-21T04:15:09.597Z"
   },
   {
    "duration": 9,
    "start_time": "2022-10-21T04:15:09.648Z"
   },
   {
    "duration": 5,
    "start_time": "2022-10-21T04:15:09.658Z"
   },
   {
    "duration": 15,
    "start_time": "2022-10-21T04:15:09.664Z"
   },
   {
    "duration": 18,
    "start_time": "2022-10-21T04:15:09.681Z"
   },
   {
    "duration": 35,
    "start_time": "2022-10-21T04:15:09.701Z"
   },
   {
    "duration": 4,
    "start_time": "2022-10-21T04:15:09.737Z"
   },
   {
    "duration": 14,
    "start_time": "2022-10-21T04:15:09.742Z"
   },
   {
    "duration": 7,
    "start_time": "2022-10-21T04:15:09.758Z"
   },
   {
    "duration": 3,
    "start_time": "2022-10-21T04:15:09.767Z"
   },
   {
    "duration": 16,
    "start_time": "2022-10-21T04:15:09.771Z"
   },
   {
    "duration": 3,
    "start_time": "2022-10-21T04:15:09.788Z"
   },
   {
    "duration": 6,
    "start_time": "2022-10-21T04:15:09.792Z"
   },
   {
    "duration": 832,
    "start_time": "2022-10-21T04:15:09.799Z"
   },
   {
    "duration": 6,
    "start_time": "2022-10-21T04:15:10.632Z"
   },
   {
    "duration": 423,
    "start_time": "2022-10-21T04:15:10.639Z"
   },
   {
    "duration": 8,
    "start_time": "2022-10-21T04:15:11.064Z"
   },
   {
    "duration": 349,
    "start_time": "2022-10-21T04:15:11.077Z"
   },
   {
    "duration": 8,
    "start_time": "2022-10-21T04:15:11.427Z"
   },
   {
    "duration": 8,
    "start_time": "2022-10-21T04:15:11.437Z"
   },
   {
    "duration": 324,
    "start_time": "2022-10-21T04:15:11.446Z"
   },
   {
    "duration": 7,
    "start_time": "2022-10-21T04:15:11.771Z"
   },
   {
    "duration": 466,
    "start_time": "2022-10-21T04:15:11.779Z"
   },
   {
    "duration": 10,
    "start_time": "2022-10-21T04:15:12.247Z"
   },
   {
    "duration": 11,
    "start_time": "2022-10-21T04:15:12.258Z"
   },
   {
    "duration": 7,
    "start_time": "2022-10-21T04:15:12.270Z"
   },
   {
    "duration": 391,
    "start_time": "2022-10-21T04:15:12.278Z"
   },
   {
    "duration": 8,
    "start_time": "2022-10-21T04:15:12.671Z"
   },
   {
    "duration": 394,
    "start_time": "2022-10-21T04:15:12.680Z"
   },
   {
    "duration": 12,
    "start_time": "2022-10-21T04:15:13.076Z"
   },
   {
    "duration": 7,
    "start_time": "2022-10-21T04:15:13.090Z"
   },
   {
    "duration": 347,
    "start_time": "2022-10-21T04:15:13.098Z"
   },
   {
    "duration": 8,
    "start_time": "2022-10-21T04:15:13.447Z"
   },
   {
    "duration": 490,
    "start_time": "2022-10-21T04:15:13.456Z"
   },
   {
    "duration": 15,
    "start_time": "2022-10-21T04:15:13.948Z"
   },
   {
    "duration": 12,
    "start_time": "2022-10-21T04:15:13.964Z"
   },
   {
    "duration": 7,
    "start_time": "2022-10-21T04:15:13.978Z"
   },
   {
    "duration": 378,
    "start_time": "2022-10-21T04:15:13.986Z"
   },
   {
    "duration": 8,
    "start_time": "2022-10-21T04:15:14.366Z"
   },
   {
    "duration": 434,
    "start_time": "2022-10-21T04:15:14.375Z"
   },
   {
    "duration": 789,
    "start_time": "2022-10-21T04:15:14.811Z"
   },
   {
    "duration": 2,
    "start_time": "2022-10-21T04:15:15.602Z"
   },
   {
    "duration": 384,
    "start_time": "2022-10-21T04:15:15.606Z"
   },
   {
    "duration": 367,
    "start_time": "2022-10-21T04:15:15.991Z"
   },
   {
    "duration": 320,
    "start_time": "2022-10-21T04:15:16.359Z"
   },
   {
    "duration": 7,
    "start_time": "2022-10-21T04:15:16.680Z"
   },
   {
    "duration": 375,
    "start_time": "2022-10-21T04:15:16.689Z"
   },
   {
    "duration": 9,
    "start_time": "2022-10-21T04:15:17.066Z"
   },
   {
    "duration": 379,
    "start_time": "2022-10-21T04:15:17.077Z"
   },
   {
    "duration": 11,
    "start_time": "2022-10-21T04:15:17.458Z"
   },
   {
    "duration": 490,
    "start_time": "2022-10-21T04:15:17.470Z"
   },
   {
    "duration": 497,
    "start_time": "2022-10-21T04:22:25.301Z"
   },
   {
    "duration": 21,
    "start_time": "2022-10-21T04:22:25.800Z"
   },
   {
    "duration": 16,
    "start_time": "2022-10-21T04:22:25.823Z"
   },
   {
    "duration": 9,
    "start_time": "2022-10-21T04:22:25.842Z"
   },
   {
    "duration": 35,
    "start_time": "2022-10-21T04:22:25.852Z"
   },
   {
    "duration": 3,
    "start_time": "2022-10-21T04:22:25.889Z"
   },
   {
    "duration": 29,
    "start_time": "2022-10-21T04:22:25.894Z"
   },
   {
    "duration": 4,
    "start_time": "2022-10-21T04:22:25.925Z"
   },
   {
    "duration": 9,
    "start_time": "2022-10-21T04:22:25.930Z"
   },
   {
    "duration": 4,
    "start_time": "2022-10-21T04:22:25.943Z"
   },
   {
    "duration": 34,
    "start_time": "2022-10-21T04:22:25.948Z"
   },
   {
    "duration": 9,
    "start_time": "2022-10-21T04:22:25.984Z"
   },
   {
    "duration": 28,
    "start_time": "2022-10-21T04:22:25.994Z"
   },
   {
    "duration": 17,
    "start_time": "2022-10-21T04:22:26.024Z"
   },
   {
    "duration": 32,
    "start_time": "2022-10-21T04:22:26.043Z"
   },
   {
    "duration": 18,
    "start_time": "2022-10-21T04:22:26.077Z"
   },
   {
    "duration": 25,
    "start_time": "2022-10-21T04:22:26.097Z"
   },
   {
    "duration": 10,
    "start_time": "2022-10-21T04:22:26.124Z"
   },
   {
    "duration": 13,
    "start_time": "2022-10-21T04:22:26.136Z"
   },
   {
    "duration": 11,
    "start_time": "2022-10-21T04:22:26.150Z"
   },
   {
    "duration": 19,
    "start_time": "2022-10-21T04:22:26.163Z"
   },
   {
    "duration": 15,
    "start_time": "2022-10-21T04:22:26.184Z"
   },
   {
    "duration": 6,
    "start_time": "2022-10-21T04:22:26.201Z"
   },
   {
    "duration": 723,
    "start_time": "2022-10-21T04:22:26.209Z"
   },
   {
    "duration": 6,
    "start_time": "2022-10-21T04:22:26.933Z"
   },
   {
    "duration": 317,
    "start_time": "2022-10-21T04:22:26.940Z"
   },
   {
    "duration": 6,
    "start_time": "2022-10-21T04:22:27.258Z"
   },
   {
    "duration": 357,
    "start_time": "2022-10-21T04:22:27.267Z"
   },
   {
    "duration": 8,
    "start_time": "2022-10-21T04:22:27.625Z"
   },
   {
    "duration": 17,
    "start_time": "2022-10-21T04:22:27.634Z"
   },
   {
    "duration": 319,
    "start_time": "2022-10-21T04:22:27.652Z"
   },
   {
    "duration": 8,
    "start_time": "2022-10-21T04:22:27.972Z"
   },
   {
    "duration": 477,
    "start_time": "2022-10-21T04:22:27.981Z"
   },
   {
    "duration": 3,
    "start_time": "2022-10-21T04:22:28.460Z"
   },
   {
    "duration": 15,
    "start_time": "2022-10-21T04:22:28.465Z"
   },
   {
    "duration": 13,
    "start_time": "2022-10-21T04:22:51.060Z"
   },
   {
    "duration": 13,
    "start_time": "2022-10-21T04:23:15.294Z"
   },
   {
    "duration": 101,
    "start_time": "2022-10-21T04:23:31.622Z"
   },
   {
    "duration": 502,
    "start_time": "2022-10-21T04:23:45.590Z"
   },
   {
    "duration": 23,
    "start_time": "2022-10-21T04:23:46.094Z"
   },
   {
    "duration": 16,
    "start_time": "2022-10-21T04:23:46.118Z"
   },
   {
    "duration": 11,
    "start_time": "2022-10-21T04:23:46.138Z"
   },
   {
    "duration": 37,
    "start_time": "2022-10-21T04:23:46.151Z"
   },
   {
    "duration": 4,
    "start_time": "2022-10-21T04:23:46.189Z"
   },
   {
    "duration": 28,
    "start_time": "2022-10-21T04:23:46.195Z"
   },
   {
    "duration": 8,
    "start_time": "2022-10-21T04:23:46.225Z"
   },
   {
    "duration": 8,
    "start_time": "2022-10-21T04:23:46.235Z"
   },
   {
    "duration": 9,
    "start_time": "2022-10-21T04:23:46.248Z"
   },
   {
    "duration": 42,
    "start_time": "2022-10-21T04:23:46.259Z"
   },
   {
    "duration": 29,
    "start_time": "2022-10-21T04:23:46.302Z"
   },
   {
    "duration": 6,
    "start_time": "2022-10-21T04:23:46.332Z"
   },
   {
    "duration": 19,
    "start_time": "2022-10-21T04:23:46.339Z"
   },
   {
    "duration": 29,
    "start_time": "2022-10-21T04:23:46.359Z"
   },
   {
    "duration": 40,
    "start_time": "2022-10-21T04:23:46.390Z"
   },
   {
    "duration": 4,
    "start_time": "2022-10-21T04:23:46.432Z"
   },
   {
    "duration": 26,
    "start_time": "2022-10-21T04:23:46.438Z"
   },
   {
    "duration": 8,
    "start_time": "2022-10-21T04:23:46.465Z"
   },
   {
    "duration": 4,
    "start_time": "2022-10-21T04:23:46.474Z"
   },
   {
    "duration": 13,
    "start_time": "2022-10-21T04:23:46.480Z"
   },
   {
    "duration": 29,
    "start_time": "2022-10-21T04:23:46.494Z"
   },
   {
    "duration": 4,
    "start_time": "2022-10-21T04:23:46.525Z"
   },
   {
    "duration": 718,
    "start_time": "2022-10-21T04:23:46.531Z"
   },
   {
    "duration": 5,
    "start_time": "2022-10-21T04:23:47.251Z"
   },
   {
    "duration": 387,
    "start_time": "2022-10-21T04:23:47.258Z"
   },
   {
    "duration": 7,
    "start_time": "2022-10-21T04:23:47.647Z"
   },
   {
    "duration": 346,
    "start_time": "2022-10-21T04:23:47.657Z"
   },
   {
    "duration": 7,
    "start_time": "2022-10-21T04:23:48.005Z"
   },
   {
    "duration": 8,
    "start_time": "2022-10-21T04:23:48.021Z"
   },
   {
    "duration": 322,
    "start_time": "2022-10-21T04:23:48.031Z"
   },
   {
    "duration": 11,
    "start_time": "2022-10-21T04:23:48.355Z"
   },
   {
    "duration": 541,
    "start_time": "2022-10-21T04:23:48.367Z"
   },
   {
    "duration": 12,
    "start_time": "2022-10-21T04:23:48.910Z"
   },
   {
    "duration": 61,
    "start_time": "2022-10-21T04:23:48.924Z"
   },
   {
    "duration": 27,
    "start_time": "2022-10-21T04:23:48.987Z"
   },
   {
    "duration": 25,
    "start_time": "2022-10-21T04:23:49.016Z"
   },
   {
    "duration": 448,
    "start_time": "2022-10-21T04:23:49.043Z"
   },
   {
    "duration": 8,
    "start_time": "2022-10-21T04:23:49.493Z"
   },
   {
    "duration": 491,
    "start_time": "2022-10-21T04:23:49.502Z"
   },
   {
    "duration": 9,
    "start_time": "2022-10-21T04:23:49.995Z"
   },
   {
    "duration": 33,
    "start_time": "2022-10-21T04:23:50.007Z"
   },
   {
    "duration": 414,
    "start_time": "2022-10-21T04:23:50.043Z"
   },
   {
    "duration": 10,
    "start_time": "2022-10-21T04:23:50.460Z"
   },
   {
    "duration": 702,
    "start_time": "2022-10-21T04:23:50.472Z"
   },
   {
    "duration": 19,
    "start_time": "2022-10-21T04:23:51.176Z"
   },
   {
    "duration": 35,
    "start_time": "2022-10-21T04:23:51.197Z"
   },
   {
    "duration": 6,
    "start_time": "2022-10-21T04:55:50.155Z"
   },
   {
    "duration": 11,
    "start_time": "2022-10-21T04:56:20.939Z"
   },
   {
    "duration": 12,
    "start_time": "2022-10-21T04:57:02.841Z"
   },
   {
    "duration": 100,
    "start_time": "2022-10-21T04:57:34.158Z"
   },
   {
    "duration": 11,
    "start_time": "2022-10-21T04:58:29.601Z"
   },
   {
    "duration": 155,
    "start_time": "2022-10-21T04:58:41.400Z"
   },
   {
    "duration": 10,
    "start_time": "2022-10-21T04:58:50.055Z"
   },
   {
    "duration": 199,
    "start_time": "2022-10-21T04:58:55.335Z"
   },
   {
    "duration": 466,
    "start_time": "2022-10-21T04:59:11.693Z"
   },
   {
    "duration": 21,
    "start_time": "2022-10-21T04:59:12.161Z"
   },
   {
    "duration": 14,
    "start_time": "2022-10-21T04:59:12.183Z"
   },
   {
    "duration": 9,
    "start_time": "2022-10-21T04:59:12.198Z"
   },
   {
    "duration": 31,
    "start_time": "2022-10-21T04:59:12.222Z"
   },
   {
    "duration": 3,
    "start_time": "2022-10-21T04:59:12.255Z"
   },
   {
    "duration": 9,
    "start_time": "2022-10-21T04:59:12.259Z"
   },
   {
    "duration": 4,
    "start_time": "2022-10-21T04:59:12.270Z"
   },
   {
    "duration": 10,
    "start_time": "2022-10-21T04:59:12.275Z"
   },
   {
    "duration": 34,
    "start_time": "2022-10-21T04:59:12.288Z"
   },
   {
    "duration": 35,
    "start_time": "2022-10-21T04:59:12.324Z"
   },
   {
    "duration": 10,
    "start_time": "2022-10-21T04:59:12.360Z"
   },
   {
    "duration": 4,
    "start_time": "2022-10-21T04:59:12.372Z"
   },
   {
    "duration": 12,
    "start_time": "2022-10-21T04:59:12.378Z"
   },
   {
    "duration": 34,
    "start_time": "2022-10-21T04:59:12.391Z"
   },
   {
    "duration": 15,
    "start_time": "2022-10-21T04:59:12.426Z"
   },
   {
    "duration": 3,
    "start_time": "2022-10-21T04:59:12.443Z"
   },
   {
    "duration": 18,
    "start_time": "2022-10-21T04:59:12.447Z"
   },
   {
    "duration": 7,
    "start_time": "2022-10-21T04:59:12.466Z"
   },
   {
    "duration": 6,
    "start_time": "2022-10-21T04:59:12.475Z"
   },
   {
    "duration": 9,
    "start_time": "2022-10-21T04:59:12.483Z"
   },
   {
    "duration": 2,
    "start_time": "2022-10-21T04:59:12.494Z"
   },
   {
    "duration": 25,
    "start_time": "2022-10-21T04:59:12.498Z"
   },
   {
    "duration": 738,
    "start_time": "2022-10-21T04:59:12.524Z"
   },
   {
    "duration": 6,
    "start_time": "2022-10-21T04:59:13.263Z"
   },
   {
    "duration": 385,
    "start_time": "2022-10-21T04:59:13.271Z"
   },
   {
    "duration": 7,
    "start_time": "2022-10-21T04:59:13.657Z"
   },
   {
    "duration": 355,
    "start_time": "2022-10-21T04:59:13.667Z"
   },
   {
    "duration": 8,
    "start_time": "2022-10-21T04:59:14.023Z"
   },
   {
    "duration": 27,
    "start_time": "2022-10-21T04:59:14.032Z"
   },
   {
    "duration": 348,
    "start_time": "2022-10-21T04:59:14.060Z"
   },
   {
    "duration": 17,
    "start_time": "2022-10-21T04:59:14.410Z"
   },
   {
    "duration": 496,
    "start_time": "2022-10-21T04:59:14.428Z"
   },
   {
    "duration": 3,
    "start_time": "2022-10-21T04:59:14.926Z"
   },
   {
    "duration": 66,
    "start_time": "2022-10-21T04:59:14.931Z"
   },
   {
    "duration": 54,
    "start_time": "2022-10-21T04:59:14.998Z"
   },
   {
    "duration": 38,
    "start_time": "2022-10-21T04:59:15.054Z"
   },
   {
    "duration": 370,
    "start_time": "2022-10-21T04:59:15.094Z"
   },
   {
    "duration": 8,
    "start_time": "2022-10-21T04:59:15.465Z"
   },
   {
    "duration": 392,
    "start_time": "2022-10-21T04:59:15.475Z"
   },
   {
    "duration": 8,
    "start_time": "2022-10-21T04:59:15.869Z"
   },
   {
    "duration": 31,
    "start_time": "2022-10-21T04:59:15.878Z"
   },
   {
    "duration": 317,
    "start_time": "2022-10-21T04:59:15.910Z"
   },
   {
    "duration": 8,
    "start_time": "2022-10-21T04:59:16.229Z"
   },
   {
    "duration": 503,
    "start_time": "2022-10-21T04:59:16.238Z"
   },
   {
    "duration": 11,
    "start_time": "2022-10-21T04:59:16.743Z"
   },
   {
    "duration": 30,
    "start_time": "2022-10-21T04:59:16.755Z"
   },
   {
    "duration": 52,
    "start_time": "2022-10-21T04:59:16.787Z"
   },
   {
    "duration": 402,
    "start_time": "2022-10-21T04:59:16.841Z"
   },
   {
    "duration": 8,
    "start_time": "2022-10-21T04:59:17.245Z"
   },
   {
    "duration": 472,
    "start_time": "2022-10-21T04:59:17.254Z"
   },
   {
    "duration": 762,
    "start_time": "2022-10-21T04:59:17.728Z"
   },
   {
    "duration": 2,
    "start_time": "2022-10-21T04:59:18.493Z"
   },
   {
    "duration": 393,
    "start_time": "2022-10-21T04:59:18.497Z"
   },
   {
    "duration": 375,
    "start_time": "2022-10-21T04:59:18.892Z"
   },
   {
    "duration": 355,
    "start_time": "2022-10-21T04:59:19.269Z"
   },
   {
    "duration": 6,
    "start_time": "2022-10-21T04:59:19.626Z"
   },
   {
    "duration": 313,
    "start_time": "2022-10-21T04:59:19.633Z"
   },
   {
    "duration": 12,
    "start_time": "2022-10-21T04:59:19.947Z"
   },
   {
    "duration": 132,
    "start_time": "2022-10-21T04:59:19.960Z"
   },
   {
    "duration": 5,
    "start_time": "2022-10-21T05:02:57.298Z"
   },
   {
    "duration": 4,
    "start_time": "2022-10-21T05:05:09.854Z"
   },
   {
    "duration": 11,
    "start_time": "2022-10-21T05:22:28.278Z"
   },
   {
    "duration": 475,
    "start_time": "2022-10-21T05:29:28.129Z"
   },
   {
    "duration": 20,
    "start_time": "2022-10-21T05:29:28.606Z"
   },
   {
    "duration": 14,
    "start_time": "2022-10-21T05:29:28.630Z"
   },
   {
    "duration": 9,
    "start_time": "2022-10-21T05:29:28.645Z"
   },
   {
    "duration": 32,
    "start_time": "2022-10-21T05:29:28.655Z"
   },
   {
    "duration": 3,
    "start_time": "2022-10-21T05:29:28.688Z"
   },
   {
    "duration": 33,
    "start_time": "2022-10-21T05:29:28.693Z"
   },
   {
    "duration": 4,
    "start_time": "2022-10-21T05:29:28.728Z"
   },
   {
    "duration": 9,
    "start_time": "2022-10-21T05:29:28.734Z"
   },
   {
    "duration": 4,
    "start_time": "2022-10-21T05:29:28.744Z"
   },
   {
    "duration": 38,
    "start_time": "2022-10-21T05:29:28.750Z"
   },
   {
    "duration": 10,
    "start_time": "2022-10-21T05:29:28.789Z"
   },
   {
    "duration": 23,
    "start_time": "2022-10-21T05:29:28.800Z"
   },
   {
    "duration": 12,
    "start_time": "2022-10-21T05:29:28.824Z"
   },
   {
    "duration": 26,
    "start_time": "2022-10-21T05:29:28.838Z"
   },
   {
    "duration": 19,
    "start_time": "2022-10-21T05:29:28.865Z"
   },
   {
    "duration": 12,
    "start_time": "2022-10-21T05:29:28.886Z"
   },
   {
    "duration": 28,
    "start_time": "2022-10-21T05:29:28.900Z"
   },
   {
    "duration": 18,
    "start_time": "2022-10-21T05:29:28.930Z"
   },
   {
    "duration": 6,
    "start_time": "2022-10-21T05:29:28.950Z"
   },
   {
    "duration": 23,
    "start_time": "2022-10-21T05:29:28.958Z"
   },
   {
    "duration": 4,
    "start_time": "2022-10-21T05:29:28.985Z"
   },
   {
    "duration": 9,
    "start_time": "2022-10-21T05:29:28.990Z"
   },
   {
    "duration": 724,
    "start_time": "2022-10-21T05:29:29.001Z"
   },
   {
    "duration": 6,
    "start_time": "2022-10-21T05:29:29.727Z"
   },
   {
    "duration": 329,
    "start_time": "2022-10-21T05:29:29.735Z"
   },
   {
    "duration": 6,
    "start_time": "2022-10-21T05:29:30.068Z"
   },
   {
    "duration": 350,
    "start_time": "2022-10-21T05:29:30.076Z"
   },
   {
    "duration": 8,
    "start_time": "2022-10-21T05:29:30.428Z"
   },
   {
    "duration": 33,
    "start_time": "2022-10-21T05:29:30.438Z"
   },
   {
    "duration": 357,
    "start_time": "2022-10-21T05:29:30.473Z"
   },
   {
    "duration": 8,
    "start_time": "2022-10-21T05:29:30.831Z"
   },
   {
    "duration": 512,
    "start_time": "2022-10-21T05:29:30.840Z"
   },
   {
    "duration": 4,
    "start_time": "2022-10-21T05:29:31.354Z"
   },
   {
    "duration": 23,
    "start_time": "2022-10-21T05:29:31.360Z"
   },
   {
    "duration": 10,
    "start_time": "2022-10-21T05:29:31.385Z"
   },
   {
    "duration": 26,
    "start_time": "2022-10-21T05:29:31.396Z"
   },
   {
    "duration": 366,
    "start_time": "2022-10-21T05:29:31.424Z"
   },
   {
    "duration": 9,
    "start_time": "2022-10-21T05:29:31.792Z"
   },
   {
    "duration": 388,
    "start_time": "2022-10-21T05:29:31.802Z"
   },
   {
    "duration": 9,
    "start_time": "2022-10-21T05:29:32.192Z"
   },
   {
    "duration": 36,
    "start_time": "2022-10-21T05:29:32.203Z"
   },
   {
    "duration": 327,
    "start_time": "2022-10-21T05:29:32.241Z"
   },
   {
    "duration": 8,
    "start_time": "2022-10-21T05:29:32.570Z"
   },
   {
    "duration": 488,
    "start_time": "2022-10-21T05:29:32.580Z"
   },
   {
    "duration": 12,
    "start_time": "2022-10-21T05:29:33.070Z"
   },
   {
    "duration": 36,
    "start_time": "2022-10-21T05:29:33.083Z"
   },
   {
    "duration": 28,
    "start_time": "2022-10-21T05:29:33.120Z"
   },
   {
    "duration": 400,
    "start_time": "2022-10-21T05:29:33.149Z"
   },
   {
    "duration": 6,
    "start_time": "2022-10-21T05:29:33.551Z"
   },
   {
    "duration": 436,
    "start_time": "2022-10-21T05:29:33.558Z"
   },
   {
    "duration": 789,
    "start_time": "2022-10-21T05:29:33.996Z"
   },
   {
    "duration": 2,
    "start_time": "2022-10-21T05:29:34.787Z"
   },
   {
    "duration": 412,
    "start_time": "2022-10-21T05:29:34.791Z"
   },
   {
    "duration": 363,
    "start_time": "2022-10-21T05:29:35.205Z"
   },
   {
    "duration": 347,
    "start_time": "2022-10-21T05:29:35.570Z"
   },
   {
    "duration": 7,
    "start_time": "2022-10-21T05:29:35.919Z"
   },
   {
    "duration": 338,
    "start_time": "2022-10-21T05:29:35.927Z"
   },
   {
    "duration": 12,
    "start_time": "2022-10-21T05:29:36.267Z"
   },
   {
    "duration": 133,
    "start_time": "2022-10-21T05:29:36.280Z"
   },
   {
    "duration": 11,
    "start_time": "2022-10-21T05:29:36.415Z"
   },
   {
    "duration": 28,
    "start_time": "2022-10-21T05:29:36.428Z"
   },
   {
    "duration": 25,
    "start_time": "2022-10-21T05:29:36.458Z"
   },
   {
    "duration": 468,
    "start_time": "2022-10-21T05:29:36.486Z"
   },
   {
    "duration": 9,
    "start_time": "2022-10-21T05:29:36.955Z"
   },
   {
    "duration": 381,
    "start_time": "2022-10-21T05:29:36.966Z"
   },
   {
    "duration": 13,
    "start_time": "2022-10-21T05:29:37.349Z"
   },
   {
    "duration": 71,
    "start_time": "2022-10-21T17:42:44.283Z"
   }
  ],
  "colab": {
   "name": "dpp_template_part2.ipynb",
   "provenance": []
  },
  "kernelspec": {
   "display_name": "Python 3 (ipykernel)",
   "language": "python",
   "name": "python3"
  },
  "language_info": {
   "codemirror_mode": {
    "name": "ipython",
    "version": 3
   },
   "file_extension": ".py",
   "mimetype": "text/x-python",
   "name": "python",
   "nbconvert_exporter": "python",
   "pygments_lexer": "ipython3",
   "version": "3.10.4"
  },
  "toc": {
   "base_numbering": 1,
   "nav_menu": {},
   "number_sections": true,
   "sideBar": true,
   "skip_h1_title": true,
   "title_cell": "Содержание",
   "title_sidebar": "Содержание",
   "toc_cell": true,
   "toc_position": {
    "height": "calc(100% - 180px)",
    "left": "10px",
    "top": "150px",
    "width": "221.594px"
   },
   "toc_section_display": true,
   "toc_window_display": true
  }
 },
 "nbformat": 4,
 "nbformat_minor": 5
}
