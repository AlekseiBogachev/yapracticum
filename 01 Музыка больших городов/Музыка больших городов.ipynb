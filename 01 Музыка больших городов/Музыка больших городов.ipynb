{
 "cells": [
  {
   "cell_type": "markdown",
   "metadata": {
    "deletable": false,
    "editable": false,
    "id": "E0vqbgi9ay0H"
   },
   "source": [
    "# Яндекс Музыка"
   ]
  },
  {
   "cell_type": "markdown",
   "metadata": {
    "deletable": false,
    "editable": false,
    "id": "VUC88oWjTJw2"
   },
   "source": [
    "Сравнение Москвы и Петербурга окружено мифами. Например:\n",
    " * Москва — мегаполис, подчинённый жёсткому ритму рабочей недели;\n",
    " * Петербург — культурная столица, со своими вкусами.\n",
    "\n",
    "На данных Яндекс Музыки вы сравните поведение пользователей двух столиц.\n",
    "\n",
    "**Цель исследования** — проверьте три гипотезы:\n",
    "1. Активность пользователей зависит от дня недели. Причём в Москве и Петербурге это проявляется по-разному.\n",
    "2. В понедельник утром в Москве преобладают одни жанры, а в Петербурге — другие. Так же и вечером пятницы преобладают разные жанры — в зависимости от города. \n",
    "3. Москва и Петербург предпочитают разные жанры музыки. В Москве чаще слушают поп-музыку, в Петербурге — русский рэп.\n",
    "\n",
    "**Ход исследования**\n",
    "\n",
    "Данные о поведении пользователей вы получите из файла `yandex_music_project.csv`. О качестве данных ничего не известно. Поэтому перед проверкой гипотез понадобится обзор данных. \n",
    "\n",
    "Вы проверите данные на ошибки и оцените их влияние на исследование. Затем, на этапе предобработки вы поищете возможность исправить самые критичные ошибки данных.\n",
    " \n",
    "Таким образом, исследование пройдёт в три этапа:\n",
    " 1. Обзор данных.\n",
    " 2. Предобработка данных.\n",
    " 3. Проверка гипотез.\n",
    "\n"
   ]
  },
  {
   "cell_type": "markdown",
   "metadata": {
    "deletable": false,
    "editable": false,
    "id": "Ml1hmfXC_Zcs"
   },
   "source": [
    "## Обзор данных\n",
    "\n",
    "Составьте первое представление о данных Яндекс Музыки.\n",
    "\n",
    "\n"
   ]
  },
  {
   "cell_type": "markdown",
   "metadata": {
    "deletable": false,
    "editable": false,
    "id": "57eAOGIz_Zcs",
    "tags": [
     "start_task"
    ]
   },
   "source": [
    "**Задание 1**\n",
    "\n",
    "Основной инструмент аналитика — `pandas`. Импортируйте эту библиотеку."
   ]
  },
  {
   "cell_type": "code",
   "execution_count": 1,
   "metadata": {
    "deletable": false,
    "id": "AXN7PHPN_Zcs"
   },
   "outputs": [],
   "source": [
    "import pandas as pd"
   ]
  },
  {
   "cell_type": "markdown",
   "metadata": {
    "deletable": false,
    "editable": false,
    "id": "SG23P8tt_Zcs",
    "tags": [
     "start_task"
    ]
   },
   "source": [
    "**Задание 2**\n",
    "\n",
    "Прочитайте файл `yandex_music_project.csv` из папки `/datasets` и сохраните его в переменной `df`:"
   ]
  },
  {
   "cell_type": "code",
   "execution_count": 2,
   "metadata": {
    "deletable": false,
    "id": "fFVu7vqh_Zct"
   },
   "outputs": [],
   "source": [
    "df = pd.read_csv('/datasets/yandex_music_project.csv')"
   ]
  },
  {
   "cell_type": "markdown",
   "metadata": {
    "deletable": false,
    "editable": false,
    "id": "rDoOMd3uTqnZ",
    "tags": [
     "start_task"
    ]
   },
   "source": [
    "**Задание 3**\n",
    "\n",
    "\n",
    "Выведите на экран первые десять строк таблицы:"
   ]
  },
  {
   "cell_type": "code",
   "execution_count": 3,
   "metadata": {
    "deletable": false,
    "id": "oWTVX3gW_Zct"
   },
   "outputs": [
    {
     "data": {
      "text/html": [
       "<div>\n",
       "<style scoped>\n",
       "    .dataframe tbody tr th:only-of-type {\n",
       "        vertical-align: middle;\n",
       "    }\n",
       "\n",
       "    .dataframe tbody tr th {\n",
       "        vertical-align: top;\n",
       "    }\n",
       "\n",
       "    .dataframe thead th {\n",
       "        text-align: right;\n",
       "    }\n",
       "</style>\n",
       "<table border=\"1\" class=\"dataframe\">\n",
       "  <thead>\n",
       "    <tr style=\"text-align: right;\">\n",
       "      <th></th>\n",
       "      <th>userID</th>\n",
       "      <th>Track</th>\n",
       "      <th>artist</th>\n",
       "      <th>genre</th>\n",
       "      <th>City</th>\n",
       "      <th>time</th>\n",
       "      <th>Day</th>\n",
       "    </tr>\n",
       "  </thead>\n",
       "  <tbody>\n",
       "    <tr>\n",
       "      <th>0</th>\n",
       "      <td>FFB692EC</td>\n",
       "      <td>Kamigata To Boots</td>\n",
       "      <td>The Mass Missile</td>\n",
       "      <td>rock</td>\n",
       "      <td>Saint-Petersburg</td>\n",
       "      <td>20:28:33</td>\n",
       "      <td>Wednesday</td>\n",
       "    </tr>\n",
       "    <tr>\n",
       "      <th>1</th>\n",
       "      <td>55204538</td>\n",
       "      <td>Delayed Because of Accident</td>\n",
       "      <td>Andreas Rönnberg</td>\n",
       "      <td>rock</td>\n",
       "      <td>Moscow</td>\n",
       "      <td>14:07:09</td>\n",
       "      <td>Friday</td>\n",
       "    </tr>\n",
       "    <tr>\n",
       "      <th>2</th>\n",
       "      <td>20EC38</td>\n",
       "      <td>Funiculì funiculà</td>\n",
       "      <td>Mario Lanza</td>\n",
       "      <td>pop</td>\n",
       "      <td>Saint-Petersburg</td>\n",
       "      <td>20:58:07</td>\n",
       "      <td>Wednesday</td>\n",
       "    </tr>\n",
       "    <tr>\n",
       "      <th>3</th>\n",
       "      <td>A3DD03C9</td>\n",
       "      <td>Dragons in the Sunset</td>\n",
       "      <td>Fire + Ice</td>\n",
       "      <td>folk</td>\n",
       "      <td>Saint-Petersburg</td>\n",
       "      <td>08:37:09</td>\n",
       "      <td>Monday</td>\n",
       "    </tr>\n",
       "    <tr>\n",
       "      <th>4</th>\n",
       "      <td>E2DC1FAE</td>\n",
       "      <td>Soul People</td>\n",
       "      <td>Space Echo</td>\n",
       "      <td>dance</td>\n",
       "      <td>Moscow</td>\n",
       "      <td>08:34:34</td>\n",
       "      <td>Monday</td>\n",
       "    </tr>\n",
       "    <tr>\n",
       "      <th>5</th>\n",
       "      <td>842029A1</td>\n",
       "      <td>Преданная</td>\n",
       "      <td>IMPERVTOR</td>\n",
       "      <td>rusrap</td>\n",
       "      <td>Saint-Petersburg</td>\n",
       "      <td>13:09:41</td>\n",
       "      <td>Friday</td>\n",
       "    </tr>\n",
       "    <tr>\n",
       "      <th>6</th>\n",
       "      <td>4CB90AA5</td>\n",
       "      <td>True</td>\n",
       "      <td>Roman Messer</td>\n",
       "      <td>dance</td>\n",
       "      <td>Moscow</td>\n",
       "      <td>13:00:07</td>\n",
       "      <td>Wednesday</td>\n",
       "    </tr>\n",
       "    <tr>\n",
       "      <th>7</th>\n",
       "      <td>F03E1C1F</td>\n",
       "      <td>Feeling This Way</td>\n",
       "      <td>Polina Griffith</td>\n",
       "      <td>dance</td>\n",
       "      <td>Moscow</td>\n",
       "      <td>20:47:49</td>\n",
       "      <td>Wednesday</td>\n",
       "    </tr>\n",
       "    <tr>\n",
       "      <th>8</th>\n",
       "      <td>8FA1D3BE</td>\n",
       "      <td>И вновь продолжается бой</td>\n",
       "      <td>NaN</td>\n",
       "      <td>ruspop</td>\n",
       "      <td>Moscow</td>\n",
       "      <td>09:17:40</td>\n",
       "      <td>Friday</td>\n",
       "    </tr>\n",
       "    <tr>\n",
       "      <th>9</th>\n",
       "      <td>E772D5C0</td>\n",
       "      <td>Pessimist</td>\n",
       "      <td>NaN</td>\n",
       "      <td>dance</td>\n",
       "      <td>Saint-Petersburg</td>\n",
       "      <td>21:20:49</td>\n",
       "      <td>Wednesday</td>\n",
       "    </tr>\n",
       "  </tbody>\n",
       "</table>\n",
       "</div>"
      ],
      "text/plain": [
       "     userID                        Track            artist   genre  \\\n",
       "0  FFB692EC            Kamigata To Boots  The Mass Missile    rock   \n",
       "1  55204538  Delayed Because of Accident  Andreas Rönnberg    rock   \n",
       "2    20EC38            Funiculì funiculà       Mario Lanza     pop   \n",
       "3  A3DD03C9        Dragons in the Sunset        Fire + Ice    folk   \n",
       "4  E2DC1FAE                  Soul People        Space Echo   dance   \n",
       "5  842029A1                    Преданная         IMPERVTOR  rusrap   \n",
       "6  4CB90AA5                         True      Roman Messer   dance   \n",
       "7  F03E1C1F             Feeling This Way   Polina Griffith   dance   \n",
       "8  8FA1D3BE     И вновь продолжается бой               NaN  ruspop   \n",
       "9  E772D5C0                    Pessimist               NaN   dance   \n",
       "\n",
       "             City        time        Day  \n",
       "0  Saint-Petersburg  20:28:33  Wednesday  \n",
       "1            Moscow  14:07:09     Friday  \n",
       "2  Saint-Petersburg  20:58:07  Wednesday  \n",
       "3  Saint-Petersburg  08:37:09     Monday  \n",
       "4            Moscow  08:34:34     Monday  \n",
       "5  Saint-Petersburg  13:09:41     Friday  \n",
       "6            Moscow  13:00:07  Wednesday  \n",
       "7            Moscow  20:47:49  Wednesday  \n",
       "8            Moscow  09:17:40     Friday  \n",
       "9  Saint-Petersburg  21:20:49  Wednesday  "
      ]
     },
     "execution_count": 3,
     "metadata": {},
     "output_type": "execute_result"
    }
   ],
   "source": [
    "df.head(10)"
   ]
  },
  {
   "cell_type": "markdown",
   "metadata": {
    "deletable": false,
    "editable": false,
    "id": "EO73Kwic_Zct",
    "tags": [
     "start_task"
    ]
   },
   "source": [
    "**Задание 4**\n",
    "\n",
    "\n",
    "Одной командой получить общую информацию о таблице c помощью метода `info()`:"
   ]
  },
  {
   "cell_type": "code",
   "execution_count": 4,
   "metadata": {
    "deletable": false,
    "id": "DSf2kIb-_Zct"
   },
   "outputs": [
    {
     "name": "stdout",
     "output_type": "stream",
     "text": [
      "<class 'pandas.core.frame.DataFrame'>\n",
      "RangeIndex: 65079 entries, 0 to 65078\n",
      "Data columns (total 7 columns):\n",
      " #   Column    Non-Null Count  Dtype \n",
      "---  ------    --------------  ----- \n",
      " 0     userID  65079 non-null  object\n",
      " 1   Track     63848 non-null  object\n",
      " 2   artist    57876 non-null  object\n",
      " 3   genre     63881 non-null  object\n",
      " 4     City    65079 non-null  object\n",
      " 5   time      65079 non-null  object\n",
      " 6   Day       65079 non-null  object\n",
      "dtypes: object(7)\n",
      "memory usage: 3.5+ MB\n"
     ]
    }
   ],
   "source": [
    "df.info()"
   ]
  },
  {
   "cell_type": "markdown",
   "metadata": {
    "deletable": false,
    "editable": false,
    "id": "TaQ2Iwbr_Zct"
   },
   "source": [
    "Итак, в таблице семь столбцов. Тип данных во всех столбцах — `object`.\n",
    "\n",
    "Согласно документации к данным:\n",
    "* `userID` — идентификатор пользователя;\n",
    "* `Track` — название трека;  \n",
    "* `artist` — имя исполнителя;\n",
    "* `genre` — название жанра;\n",
    "* `City` — город пользователя;\n",
    "* `time` — время начала прослушивания;\n",
    "* `Day` — день недели.\n",
    "\n",
    "Количество значений в столбцах различается. Значит, в данных есть пропущенные значения."
   ]
  },
  {
   "cell_type": "markdown",
   "metadata": {
    "deletable": false,
    "editable": false,
    "id": "rAfziTBDmf2h",
    "tags": [
     "start_task"
    ]
   },
   "source": [
    "**Задание 5**\n",
    "\n",
    "**Вопрос со свободной формой ответа**\n",
    "\n",
    "В названиях колонок видны нарушения стиля:\n",
    "* Строчные буквы сочетаются с прописными.\n",
    "* Встречаются пробелы.\n",
    "\n",
    "Какое третье нарушение?"
   ]
  },
  {
   "cell_type": "markdown",
   "metadata": {
    "id": "jD8EXEIvmf2h"
   },
   "source": [
    "*Названия не соответствуют зменому регистру*"
   ]
  },
  {
   "cell_type": "markdown",
   "metadata": {
    "deletable": false,
    "editable": false,
    "id": "MCB6-dXG_Zct"
   },
   "source": [
    "**Выводы**\n",
    "\n",
    "В каждой строке таблицы — данные о прослушанном треке. Часть колонок описывает саму композицию: название, исполнителя и жанр. Остальные данные рассказывают о пользователе: из какого он города, когда он слушал музыку. \n",
    "\n",
    "Предварительно можно утверждать, что данных достаточно для проверки гипотез. Но встречаются пропуски в данных, а в названиях колонок — расхождения с хорошим стилем.\n",
    "\n",
    "Чтобы двигаться дальше, нужно устранить проблемы в данных."
   ]
  },
  {
   "cell_type": "markdown",
   "metadata": {
    "deletable": false,
    "editable": false,
    "id": "SjYF6Ub9_Zct"
   },
   "source": [
    "## Предобработка данных\n",
    "Исправьте стиль в заголовках столбцов, исключите пропуски. Затем проверьте данные на дубликаты."
   ]
  },
  {
   "cell_type": "markdown",
   "metadata": {
    "deletable": false,
    "editable": false,
    "id": "dIaKXr29_Zct",
    "tags": [
     "start_task"
    ]
   },
   "source": [
    "### Стиль заголовков\n",
    "\n",
    "**Задание 6**\n",
    "\n",
    "Выведите на экран названия столбцов:"
   ]
  },
  {
   "cell_type": "code",
   "execution_count": 6,
   "metadata": {
    "deletable": false,
    "id": "oKOTdF_Q_Zct"
   },
   "outputs": [
    {
     "data": {
      "text/plain": [
       "Index(['  userID', 'Track', 'artist', 'genre', '  City  ', 'time', 'Day'], dtype='object')"
      ]
     },
     "execution_count": 6,
     "metadata": {},
     "output_type": "execute_result"
    }
   ],
   "source": [
    "df.columns"
   ]
  },
  {
   "cell_type": "markdown",
   "metadata": {
    "deletable": false,
    "editable": false,
    "id": "zj5534cv_Zct",
    "tags": [
     "start_task"
    ]
   },
   "source": [
    "**Задание 7**\n",
    "\n",
    "\n",
    "Приведите названия в соответствие с хорошим стилем:\n",
    "* несколько слов в названии запишите в «змеином_регистре»,\n",
    "* все символы сделайте строчными,\n",
    "* устраните пробелы.\n",
    "\n",
    "Для этого переименуйте колонки так:\n",
    "* `'  userID'` → `'user_id'`;\n",
    "* `'Track'` → `'track'`;\n",
    "* `'  City  '` → `'city'`;\n",
    "* `'Day'` → `'day'`."
   ]
  },
  {
   "cell_type": "code",
   "execution_count": 7,
   "metadata": {
    "deletable": false,
    "id": "ISlFqs5y_Zct"
   },
   "outputs": [],
   "source": [
    "df = df.rename(columns={'  userID': 'user_id',\n",
    "                        'Track': 'track',\n",
    "                        '  City  ': 'city',\n",
    "                        'Day': 'day'\n",
    "                       })"
   ]
  },
  {
   "cell_type": "markdown",
   "metadata": {
    "deletable": false,
    "editable": false,
    "id": "1dqbh00J_Zct",
    "tags": [
     "start_task"
    ]
   },
   "source": [
    "**Задание 8**\n",
    "\n",
    "\n",
    "Проверьте результат. Для этого ещё раз выведите на экран названия столбцов:"
   ]
  },
  {
   "cell_type": "code",
   "execution_count": 8,
   "metadata": {
    "deletable": false,
    "id": "d4NOAmTW_Zct"
   },
   "outputs": [
    {
     "data": {
      "text/plain": [
       "Index(['user_id', 'track', 'artist', 'genre', 'city', 'time', 'day'], dtype='object')"
      ]
     },
     "execution_count": 8,
     "metadata": {},
     "output_type": "execute_result"
    }
   ],
   "source": [
    "df.columns"
   ]
  },
  {
   "cell_type": "markdown",
   "metadata": {
    "deletable": false,
    "editable": false,
    "id": "5ISfbcfY_Zct",
    "tags": [
     "start_task"
    ]
   },
   "source": [
    "### Пропуски значений\n",
    "\n",
    "**Задание 9**\n",
    "\n",
    "Сначала посчитайте, сколько в таблице пропущенных значений. Для этого достаточно двух методов `pandas`:"
   ]
  },
  {
   "cell_type": "code",
   "execution_count": 9,
   "metadata": {
    "deletable": false,
    "id": "RskX29qr_Zct"
   },
   "outputs": [
    {
     "data": {
      "text/plain": [
       "user_id       0\n",
       "track      1231\n",
       "artist     7203\n",
       "genre      1198\n",
       "city          0\n",
       "time          0\n",
       "day           0\n",
       "dtype: int64"
      ]
     },
     "execution_count": 9,
     "metadata": {},
     "output_type": "execute_result"
    }
   ],
   "source": [
    "df.isna().sum()"
   ]
  },
  {
   "cell_type": "markdown",
   "metadata": {
    "deletable": false,
    "editable": false,
    "id": "qubhgnlO_Zct"
   },
   "source": [
    "Не все пропущенные значения влияют на исследование. Так в `track` и `artist` пропуски не важны для вашей работы. Достаточно заменить их явными обозначениями.\n",
    "\n",
    "Но пропуски в `genre` могут помешать сравнению музыкальных вкусов в Москве и Санкт-Петербурге. На практике было бы правильно установить причину пропусков и восстановить данные. Такой возможности нет в учебном проекте. Придётся:\n",
    "* заполнить и эти пропуски явными обозначениями;\n",
    "* оценить, насколько они повредят расчётам. "
   ]
  },
  {
   "cell_type": "markdown",
   "metadata": {
    "deletable": false,
    "editable": false,
    "id": "fSv2laPA_Zct",
    "tags": [
     "start_task"
    ]
   },
   "source": [
    "**Задание 10**\n",
    "\n",
    "Замените пропущенные значения в столбцах `track`, `artist` и `genre` на строку `'unknown'`. Для этого создайте список `columns_to_replace`, переберите его элементы циклом `for` и для каждого столбца выполните замену пропущенных значений:"
   ]
  },
  {
   "cell_type": "code",
   "execution_count": 10,
   "metadata": {
    "deletable": false,
    "id": "KplB5qWs_Zct"
   },
   "outputs": [],
   "source": [
    "columns_to_replace = ['track', 'artist', 'genre']\n",
    "df[columns_to_replace] = df[columns_to_replace].fillna('unknown')"
   ]
  },
  {
   "cell_type": "markdown",
   "metadata": {
    "deletable": false,
    "editable": false,
    "id": "Ilsm-MZo_Zct",
    "tags": [
     "start_task"
    ]
   },
   "source": [
    "**Задание 11**\n",
    "\n",
    "Убедитесь, что в таблице не осталось пропусков. Для этого ещё раз посчитайте пропущенные значения."
   ]
  },
  {
   "cell_type": "code",
   "execution_count": 11,
   "metadata": {
    "deletable": false,
    "id": "Tq4nYRX4_Zct"
   },
   "outputs": [
    {
     "data": {
      "text/plain": [
       "user_id    0\n",
       "track      0\n",
       "artist     0\n",
       "genre      0\n",
       "city       0\n",
       "time       0\n",
       "day        0\n",
       "dtype: int64"
      ]
     },
     "execution_count": 11,
     "metadata": {},
     "output_type": "execute_result"
    }
   ],
   "source": [
    "df.isna().sum()"
   ]
  },
  {
   "cell_type": "markdown",
   "metadata": {
    "deletable": false,
    "editable": false,
    "id": "BWKRtBJ3_Zct",
    "tags": [
     "start_task"
    ]
   },
   "source": [
    "### Дубликаты\n",
    "\n",
    "**Задание 12**\n",
    "\n",
    "Посчитайте явные дубликаты в таблице одной командой:"
   ]
  },
  {
   "cell_type": "code",
   "execution_count": 12,
   "metadata": {
    "deletable": false,
    "id": "36eES_S0_Zct"
   },
   "outputs": [
    {
     "data": {
      "text/plain": [
       "3826"
      ]
     },
     "execution_count": 12,
     "metadata": {},
     "output_type": "execute_result"
    }
   ],
   "source": [
    "df.duplicated().sum()"
   ]
  },
  {
   "cell_type": "markdown",
   "metadata": {
    "deletable": false,
    "editable": false,
    "id": "Ot25h6XR_Zct",
    "tags": [
     "start_task"
    ]
   },
   "source": [
    "**Задание 13**\n",
    "\n",
    "Вызовите специальный метод `pandas`, чтобы удалить явные дубликаты:"
   ]
  },
  {
   "cell_type": "code",
   "execution_count": 13,
   "metadata": {
    "deletable": false,
    "id": "exFHq6tt_Zct"
   },
   "outputs": [],
   "source": [
    "df = df.drop_duplicates()"
   ]
  },
  {
   "cell_type": "markdown",
   "metadata": {
    "deletable": false,
    "editable": false,
    "id": "Im2YwBEG_Zct",
    "tags": [
     "start_task"
    ]
   },
   "source": [
    "**Задание 14**\n",
    "\n",
    "Ещё раз посчитайте явные дубликаты в таблице — убедитесь, что полностью от них избавились:"
   ]
  },
  {
   "cell_type": "code",
   "execution_count": 14,
   "metadata": {
    "deletable": false,
    "id": "-8PuNWQ0_Zct"
   },
   "outputs": [
    {
     "data": {
      "text/plain": [
       "0"
      ]
     },
     "execution_count": 14,
     "metadata": {},
     "output_type": "execute_result"
    }
   ],
   "source": [
    "df.duplicated().sum()"
   ]
  },
  {
   "cell_type": "markdown",
   "metadata": {
    "deletable": false,
    "editable": false,
    "id": "QlFBsxAr_Zct"
   },
   "source": [
    "Теперь избавьтесь от неявных дубликатов в колонке `genre`. Например, название одного и того же жанра может быть записано немного по-разному. Такие ошибки тоже повлияют на результат исследования."
   ]
  },
  {
   "cell_type": "markdown",
   "metadata": {
    "deletable": false,
    "editable": false,
    "id": "eSjWwsOh_Zct",
    "tags": [
     "start_task"
    ]
   },
   "source": [
    "**Задание 15**\n",
    "\n",
    "Выведите на экран список уникальных названий жанров, отсортированный в алфавитном порядке. Для этого:\n",
    "1. извлеките нужный столбец датафрейма; \n",
    "2. примените к нему метод сортировки;\n",
    "3. для отсортированного столбца вызовите метод, который вернёт уникальные значения из столбца."
   ]
  },
  {
   "cell_type": "code",
   "execution_count": 15,
   "metadata": {
    "deletable": false,
    "id": "JIUcqzZN_Zct"
   },
   "outputs": [
    {
     "data": {
      "text/plain": [
       "array(['acid', 'acoustic', 'action', 'adult', 'africa', 'afrikaans',\n",
       "       'alternative', 'alternativepunk', 'ambient', 'americana',\n",
       "       'animated', 'anime', 'arabesk', 'arabic', 'arena',\n",
       "       'argentinetango', 'art', 'audiobook', 'author', 'avantgarde',\n",
       "       'axé', 'baile', 'balkan', 'beats', 'bigroom', 'black', 'bluegrass',\n",
       "       'blues', 'bollywood', 'bossa', 'brazilian', 'breakbeat', 'breaks',\n",
       "       'broadway', 'cantautori', 'cantopop', 'canzone', 'caribbean',\n",
       "       'caucasian', 'celtic', 'chamber', 'chanson', 'children', 'chill',\n",
       "       'chinese', 'choral', 'christian', 'christmas', 'classical',\n",
       "       'classicmetal', 'club', 'colombian', 'comedy', 'conjazz',\n",
       "       'contemporary', 'country', 'cuban', 'dance', 'dancehall',\n",
       "       'dancepop', 'dark', 'death', 'deep', 'deutschrock', 'deutschspr',\n",
       "       'dirty', 'disco', 'dnb', 'documentary', 'downbeat', 'downtempo',\n",
       "       'drum', 'dub', 'dubstep', 'eastern', 'easy', 'electronic',\n",
       "       'electropop', 'emo', 'entehno', 'epicmetal', 'estrada', 'ethnic',\n",
       "       'eurofolk', 'european', 'experimental', 'extrememetal', 'fado',\n",
       "       'fairytail', 'film', 'fitness', 'flamenco', 'folk', 'folklore',\n",
       "       'folkmetal', 'folkrock', 'folktronica', 'forró', 'frankreich',\n",
       "       'französisch', 'french', 'funk', 'future', 'gangsta', 'garage',\n",
       "       'german', 'ghazal', 'gitarre', 'glitch', 'gospel', 'gothic',\n",
       "       'grime', 'grunge', 'gypsy', 'handsup', \"hard'n'heavy\", 'hardcore',\n",
       "       'hardstyle', 'hardtechno', 'hip', 'hip-hop', 'hiphop',\n",
       "       'historisch', 'holiday', 'hop', 'horror', 'house', 'hymn', 'idm',\n",
       "       'independent', 'indian', 'indie', 'indipop', 'industrial',\n",
       "       'inspirational', 'instrumental', 'international', 'irish', 'jam',\n",
       "       'japanese', 'jazz', 'jewish', 'jpop', 'jungle', 'k-pop',\n",
       "       'karadeniz', 'karaoke', 'kayokyoku', 'korean', 'laiko', 'latin',\n",
       "       'latino', 'leftfield', 'local', 'lounge', 'loungeelectronic',\n",
       "       'lovers', 'malaysian', 'mandopop', 'marschmusik', 'meditative',\n",
       "       'mediterranean', 'melodic', 'metal', 'metalcore', 'mexican',\n",
       "       'middle', 'minimal', 'miscellaneous', 'modern', 'mood', 'mpb',\n",
       "       'muslim', 'native', 'neoklassik', 'neue', 'new', 'newage',\n",
       "       'newwave', 'nu', 'nujazz', 'numetal', 'oceania', 'old', 'opera',\n",
       "       'orchestral', 'other', 'piano', 'podcasts', 'pop', 'popdance',\n",
       "       'popelectronic', 'popeurodance', 'poprussian', 'post',\n",
       "       'posthardcore', 'postrock', 'power', 'progmetal', 'progressive',\n",
       "       'psychedelic', 'punjabi', 'punk', 'quebecois', 'ragga', 'ram',\n",
       "       'rancheras', 'rap', 'rave', 'reggae', 'reggaeton', 'regional',\n",
       "       'relax', 'religious', 'retro', 'rhythm', 'rnb', 'rnr', 'rock',\n",
       "       'rockabilly', 'rockalternative', 'rockindie', 'rockother',\n",
       "       'romance', 'roots', 'ruspop', 'rusrap', 'rusrock', 'russian',\n",
       "       'salsa', 'samba', 'scenic', 'schlager', 'self', 'sertanejo',\n",
       "       'shanson', 'shoegazing', 'showtunes', 'singer', 'ska', 'skarock',\n",
       "       'slow', 'smooth', 'soft', 'soul', 'soulful', 'sound', 'soundtrack',\n",
       "       'southern', 'specialty', 'speech', 'spiritual', 'sport',\n",
       "       'stonerrock', 'surf', 'swing', 'synthpop', 'synthrock',\n",
       "       'sängerportrait', 'tango', 'tanzorchester', 'taraftar', 'tatar',\n",
       "       'tech', 'techno', 'teen', 'thrash', 'top', 'traditional',\n",
       "       'tradjazz', 'trance', 'tribal', 'trip', 'triphop', 'tropical',\n",
       "       'türk', 'türkçe', 'ukrrock', 'unknown', 'urban', 'uzbek',\n",
       "       'variété', 'vi', 'videogame', 'vocal', 'western', 'world',\n",
       "       'worldbeat', 'ïîï', 'электроника'], dtype=object)"
      ]
     },
     "execution_count": 15,
     "metadata": {},
     "output_type": "execute_result"
    }
   ],
   "source": [
    "df.genre.sort_values().unique()"
   ]
  },
  {
   "cell_type": "markdown",
   "metadata": {
    "deletable": false,
    "editable": false,
    "id": "qej-Qmuo_Zct",
    "tags": [
     "start_task"
    ]
   },
   "source": [
    "**Задание 16**\n",
    "\n",
    "Просмотрите список и найдите неявные дубликаты названия `hiphop`. Это могут быть названия с ошибками или альтернативные названия того же жанра.\n",
    "\n",
    "Вы увидите следующие неявные дубликаты:\n",
    "* *hip*,\n",
    "* *hop*,\n",
    "* *hip-hop*.\n",
    "\n",
    "Чтобы очистить от них таблицу используйте метод `replace()` с двумя аргументами: списком строк-дубликатов (включащий *hip*, *hop* и *hip-hop*) и строкой с правильным значением. Вам нужно исправить колонку `genre` в таблице `df`: заменить каждое значение из списка дубликатов на верное. Вместо `hip`, `hop` и `hip-hop` в таблице должно быть значение `hiphop`:"
   ]
  },
  {
   "cell_type": "code",
   "execution_count": 16,
   "metadata": {
    "deletable": false,
    "id": "ErNDkmns_Zct"
   },
   "outputs": [],
   "source": [
    "df.genre = df.genre.replace(['hip', 'hop', 'hip-hop'], 'hiphop')"
   ]
  },
  {
   "cell_type": "markdown",
   "metadata": {
    "deletable": false,
    "editable": false,
    "id": "zQKF16_RG15m",
    "tags": [
     "start_task"
    ]
   },
   "source": [
    "**Задание 17**\n",
    "\n",
    "Проверьте, что заменили неправильные названия:\n",
    "\n",
    "*   hip,\n",
    "*   hop,\n",
    "*   hip-hop.\n",
    "\n",
    "Выведите отсортированный список уникальных значений столбца `genre`:"
   ]
  },
  {
   "cell_type": "code",
   "execution_count": 17,
   "metadata": {
    "deletable": false,
    "id": "wvixALnFG15m"
   },
   "outputs": [
    {
     "data": {
      "text/plain": [
       "array(['acid', 'acoustic', 'action', 'adult', 'africa', 'afrikaans',\n",
       "       'alternative', 'alternativepunk', 'ambient', 'americana',\n",
       "       'animated', 'anime', 'arabesk', 'arabic', 'arena',\n",
       "       'argentinetango', 'art', 'audiobook', 'author', 'avantgarde',\n",
       "       'axé', 'baile', 'balkan', 'beats', 'bigroom', 'black', 'bluegrass',\n",
       "       'blues', 'bollywood', 'bossa', 'brazilian', 'breakbeat', 'breaks',\n",
       "       'broadway', 'cantautori', 'cantopop', 'canzone', 'caribbean',\n",
       "       'caucasian', 'celtic', 'chamber', 'chanson', 'children', 'chill',\n",
       "       'chinese', 'choral', 'christian', 'christmas', 'classical',\n",
       "       'classicmetal', 'club', 'colombian', 'comedy', 'conjazz',\n",
       "       'contemporary', 'country', 'cuban', 'dance', 'dancehall',\n",
       "       'dancepop', 'dark', 'death', 'deep', 'deutschrock', 'deutschspr',\n",
       "       'dirty', 'disco', 'dnb', 'documentary', 'downbeat', 'downtempo',\n",
       "       'drum', 'dub', 'dubstep', 'eastern', 'easy', 'electronic',\n",
       "       'electropop', 'emo', 'entehno', 'epicmetal', 'estrada', 'ethnic',\n",
       "       'eurofolk', 'european', 'experimental', 'extrememetal', 'fado',\n",
       "       'fairytail', 'film', 'fitness', 'flamenco', 'folk', 'folklore',\n",
       "       'folkmetal', 'folkrock', 'folktronica', 'forró', 'frankreich',\n",
       "       'französisch', 'french', 'funk', 'future', 'gangsta', 'garage',\n",
       "       'german', 'ghazal', 'gitarre', 'glitch', 'gospel', 'gothic',\n",
       "       'grime', 'grunge', 'gypsy', 'handsup', \"hard'n'heavy\", 'hardcore',\n",
       "       'hardstyle', 'hardtechno', 'hiphop', 'historisch', 'holiday',\n",
       "       'horror', 'house', 'hymn', 'idm', 'independent', 'indian', 'indie',\n",
       "       'indipop', 'industrial', 'inspirational', 'instrumental',\n",
       "       'international', 'irish', 'jam', 'japanese', 'jazz', 'jewish',\n",
       "       'jpop', 'jungle', 'k-pop', 'karadeniz', 'karaoke', 'kayokyoku',\n",
       "       'korean', 'laiko', 'latin', 'latino', 'leftfield', 'local',\n",
       "       'lounge', 'loungeelectronic', 'lovers', 'malaysian', 'mandopop',\n",
       "       'marschmusik', 'meditative', 'mediterranean', 'melodic', 'metal',\n",
       "       'metalcore', 'mexican', 'middle', 'minimal', 'miscellaneous',\n",
       "       'modern', 'mood', 'mpb', 'muslim', 'native', 'neoklassik', 'neue',\n",
       "       'new', 'newage', 'newwave', 'nu', 'nujazz', 'numetal', 'oceania',\n",
       "       'old', 'opera', 'orchestral', 'other', 'piano', 'podcasts', 'pop',\n",
       "       'popdance', 'popelectronic', 'popeurodance', 'poprussian', 'post',\n",
       "       'posthardcore', 'postrock', 'power', 'progmetal', 'progressive',\n",
       "       'psychedelic', 'punjabi', 'punk', 'quebecois', 'ragga', 'ram',\n",
       "       'rancheras', 'rap', 'rave', 'reggae', 'reggaeton', 'regional',\n",
       "       'relax', 'religious', 'retro', 'rhythm', 'rnb', 'rnr', 'rock',\n",
       "       'rockabilly', 'rockalternative', 'rockindie', 'rockother',\n",
       "       'romance', 'roots', 'ruspop', 'rusrap', 'rusrock', 'russian',\n",
       "       'salsa', 'samba', 'scenic', 'schlager', 'self', 'sertanejo',\n",
       "       'shanson', 'shoegazing', 'showtunes', 'singer', 'ska', 'skarock',\n",
       "       'slow', 'smooth', 'soft', 'soul', 'soulful', 'sound', 'soundtrack',\n",
       "       'southern', 'specialty', 'speech', 'spiritual', 'sport',\n",
       "       'stonerrock', 'surf', 'swing', 'synthpop', 'synthrock',\n",
       "       'sängerportrait', 'tango', 'tanzorchester', 'taraftar', 'tatar',\n",
       "       'tech', 'techno', 'teen', 'thrash', 'top', 'traditional',\n",
       "       'tradjazz', 'trance', 'tribal', 'trip', 'triphop', 'tropical',\n",
       "       'türk', 'türkçe', 'ukrrock', 'unknown', 'urban', 'uzbek',\n",
       "       'variété', 'vi', 'videogame', 'vocal', 'western', 'world',\n",
       "       'worldbeat', 'ïîï', 'электроника'], dtype=object)"
      ]
     },
     "execution_count": 17,
     "metadata": {},
     "output_type": "execute_result"
    }
   ],
   "source": [
    "df.genre.sort_values().unique()"
   ]
  },
  {
   "cell_type": "markdown",
   "metadata": {
    "deletable": false,
    "editable": false,
    "id": "jz6a9-7HQUDd"
   },
   "source": [
    "**Выводы**\n",
    "\n",
    "Предобработка обнаружила три проблемы в данных:\n",
    "\n",
    "- нарушения в стиле заголовков,\n",
    "- пропущенные значения,\n",
    "- дубликаты — явные и неявные.\n",
    "\n",
    "Вы исправили заголовки, чтобы упростить работу с таблицей. Без дубликатов исследование станет более точным.\n",
    "\n",
    "Пропущенные значения вы заменили на `'unknown'`. Ещё предстоит увидеть, не повредят ли исследованию пропуски в колонке `genre`.\n",
    "\n",
    "Теперь можно перейти к проверке гипотез. "
   ]
  },
  {
   "cell_type": "markdown",
   "metadata": {
    "deletable": false,
    "editable": false,
    "id": "WttZHXH0SqKk"
   },
   "source": [
    "## Проверка гипотез"
   ]
  },
  {
   "cell_type": "markdown",
   "metadata": {
    "deletable": false,
    "editable": false,
    "id": "Im936VVi_Zcu"
   },
   "source": [
    "### Сравнение поведения пользователей двух столиц"
   ]
  },
  {
   "cell_type": "markdown",
   "metadata": {
    "deletable": false,
    "editable": false,
    "id": "nwt_MuaL_Zcu"
   },
   "source": [
    "Первая гипотеза утверждает, что пользователи по-разному слушают музыку в Москве и Санкт-Петербурге. Проверьте это предположение по данным о трёх днях недели — понедельнике, среде и пятнице. Для этого:\n",
    "\n",
    "* Разделите пользователей Москвы и Санкт-Петербурга.\n",
    "* Сравните, сколько треков послушала каждая группа пользователей в понедельник, среду и пятницу.\n"
   ]
  },
  {
   "cell_type": "markdown",
   "metadata": {
    "deletable": false,
    "editable": false,
    "id": "8Dw_YMmT_Zcu",
    "tags": [
     "start_task"
    ]
   },
   "source": [
    "**Задание 18**\n",
    "\n",
    "Для тренировки сначала выполните каждый из расчётов по отдельности. \n",
    "\n",
    "Оцените активность пользователей в каждом городе. Сгруппируйте данные по городу и посчитайте прослушивания в каждой группе.\n",
    "\n"
   ]
  },
  {
   "cell_type": "code",
   "execution_count": 18,
   "metadata": {
    "deletable": false,
    "id": "0_Qs96oh_Zcu"
   },
   "outputs": [
    {
     "data": {
      "text/plain": [
       "city\n",
       "Moscow              42741\n",
       "Saint-Petersburg    18512\n",
       "Name: user_id, dtype: int64"
      ]
     },
     "execution_count": 18,
     "metadata": {},
     "output_type": "execute_result"
    }
   ],
   "source": [
    "df.groupby('city')['user_id'].count()"
   ]
  },
  {
   "cell_type": "markdown",
   "metadata": {
    "deletable": false,
    "editable": false,
    "id": "dzli3w8o_Zcu",
    "tags": [
     "start_task"
    ]
   },
   "source": [
    "В Москве прослушиваний больше, чем в Петербурге. Из этого не следует, что московские пользователи чаще слушают музыку. Просто самих пользователей в Москве больше.\n",
    "\n",
    "**Задание 19**\n",
    "\n",
    "Теперь сгруппируйте данные по дню недели и посчитайте прослушивания в понедельник, среду и пятницу. Учтите, что в данных есть информация о прослушиваниях только за эти дни.\n"
   ]
  },
  {
   "cell_type": "code",
   "execution_count": 19,
   "metadata": {
    "deletable": false,
    "id": "uZMKjiJz_Zcu"
   },
   "outputs": [
    {
     "data": {
      "text/plain": [
       "day\n",
       "Friday       21840\n",
       "Monday       21354\n",
       "Wednesday    18059\n",
       "Name: user_id, dtype: int64"
      ]
     },
     "execution_count": 19,
     "metadata": {},
     "output_type": "execute_result"
    }
   ],
   "source": [
    "df.groupby('day').user_id.count()"
   ]
  },
  {
   "cell_type": "markdown",
   "metadata": {
    "deletable": false,
    "editable": false,
    "id": "cC2tNrlL_Zcu"
   },
   "source": [
    "В среднем пользователи из двух городов менее активны по средам. Но картина может измениться, если рассмотреть каждый город в отдельности."
   ]
  },
  {
   "cell_type": "markdown",
   "metadata": {
    "deletable": false,
    "editable": false,
    "id": "POzs8bGa_Zcu",
    "tags": [
     "start_task"
    ]
   },
   "source": [
    "**Задание 20**\n",
    "\n",
    "\n",
    "Вы видели, как работает группировка по городу и по дням недели. Теперь напишите функцию, которая объединит два эти расчёта.\n",
    "\n",
    "Создайте функцию `number_tracks()`, которая посчитает прослушивания для заданного дня и города. Ей понадобятся два параметра:\n",
    "* день недели,\n",
    "* название города.\n",
    "\n",
    "В функции сохраните в переменную строки исходной таблицы, у которых значение:\n",
    "  * в колонке `day` равно параметру `day`,\n",
    "  * в колонке `city` равно параметру `city`.\n",
    "\n",
    "Для этого примените последовательную фильтрацию с логической индексацией (или сложные логические выражения в одну строку, если вы уже знакомы с ними).\n",
    "\n",
    "Затем посчитайте значения в столбце `user_id` получившейся таблицы. Результат сохраните в новую переменную. Верните эту переменную из функции."
   ]
  },
  {
   "cell_type": "code",
   "execution_count": 20,
   "metadata": {
    "deletable": false,
    "id": "Nz3GdQB1_Zcu"
   },
   "outputs": [],
   "source": [
    "def number_tracks(day, city, data=df):\n",
    "    data = data.groupby(['day', 'city']).user_id.count()\n",
    "    return data.loc[(day, city)]"
   ]
  },
  {
   "cell_type": "markdown",
   "metadata": {
    "deletable": false,
    "editable": false,
    "id": "ytf7xFrFJQ2r",
    "tags": [
     "start_task"
    ]
   },
   "source": [
    "**Задание 21**\n",
    "\n",
    "Вызовите `number_tracks()` шесть раз, меняя значение параметров — так, чтобы получить данные для каждого города в каждый из трёх дней."
   ]
  },
  {
   "cell_type": "code",
   "execution_count": 21,
   "metadata": {
    "deletable": false,
    "id": "rJcRATNQ_Zcu"
   },
   "outputs": [
    {
     "data": {
      "text/plain": [
       "15740"
      ]
     },
     "execution_count": 21,
     "metadata": {},
     "output_type": "execute_result"
    }
   ],
   "source": [
    "number_tracks('Monday', 'Moscow')"
   ]
  },
  {
   "cell_type": "code",
   "execution_count": 22,
   "metadata": {
    "deletable": false,
    "id": "hq_ncZ5T_Zcu"
   },
   "outputs": [
    {
     "data": {
      "text/plain": [
       "5614"
      ]
     },
     "execution_count": 22,
     "metadata": {},
     "output_type": "execute_result"
    }
   ],
   "source": [
    "number_tracks('Monday', 'Saint-Petersburg')"
   ]
  },
  {
   "cell_type": "code",
   "execution_count": 23,
   "metadata": {
    "deletable": false,
    "id": "_NTy2VPU_Zcu"
   },
   "outputs": [
    {
     "data": {
      "text/plain": [
       "11056"
      ]
     },
     "execution_count": 23,
     "metadata": {},
     "output_type": "execute_result"
    }
   ],
   "source": [
    "number_tracks('Wednesday', 'Moscow')"
   ]
  },
  {
   "cell_type": "code",
   "execution_count": 24,
   "metadata": {
    "deletable": false,
    "id": "j2y3TAwo_Zcu"
   },
   "outputs": [
    {
     "data": {
      "text/plain": [
       "7003"
      ]
     },
     "execution_count": 24,
     "metadata": {},
     "output_type": "execute_result"
    }
   ],
   "source": [
    "number_tracks('Wednesday', 'Saint-Petersburg')"
   ]
  },
  {
   "cell_type": "code",
   "execution_count": 25,
   "metadata": {
    "deletable": false,
    "id": "vYDw5u_K_Zcu"
   },
   "outputs": [
    {
     "data": {
      "text/plain": [
       "15945"
      ]
     },
     "execution_count": 25,
     "metadata": {},
     "output_type": "execute_result"
    }
   ],
   "source": [
    "number_tracks('Friday', 'Moscow')"
   ]
  },
  {
   "cell_type": "code",
   "execution_count": 26,
   "metadata": {
    "deletable": false,
    "id": "8_yzFtW3_Zcu"
   },
   "outputs": [
    {
     "data": {
      "text/plain": [
       "5895"
      ]
     },
     "execution_count": 26,
     "metadata": {},
     "output_type": "execute_result"
    }
   ],
   "source": [
    "number_tracks('Friday', 'Saint-Petersburg')"
   ]
  },
  {
   "cell_type": "markdown",
   "metadata": {
    "deletable": false,
    "editable": false,
    "id": "7QXffbO-_Zcu",
    "tags": [
     "start_task"
    ]
   },
   "source": [
    "**Задание 22**\n",
    "\n",
    "Создайте c помощью конструктора `pd.DataFrame` таблицу, где\n",
    "* названия колонок — `['city', 'monday', 'wednesday', 'friday']`;\n",
    "* данные — результаты, которые вы получили с помощью `number_tracks`."
   ]
  },
  {
   "cell_type": "code",
   "execution_count": 27,
   "metadata": {
    "deletable": false,
    "id": "APAcLpOr_Zcu"
   },
   "outputs": [
    {
     "data": {
      "text/html": [
       "<div>\n",
       "<style scoped>\n",
       "    .dataframe tbody tr th:only-of-type {\n",
       "        vertical-align: middle;\n",
       "    }\n",
       "\n",
       "    .dataframe tbody tr th {\n",
       "        vertical-align: top;\n",
       "    }\n",
       "\n",
       "    .dataframe thead th {\n",
       "        text-align: right;\n",
       "    }\n",
       "</style>\n",
       "<table border=\"1\" class=\"dataframe\">\n",
       "  <thead>\n",
       "    <tr style=\"text-align: right;\">\n",
       "      <th>day</th>\n",
       "      <th>Friday</th>\n",
       "      <th>Monday</th>\n",
       "      <th>Wednesday</th>\n",
       "    </tr>\n",
       "    <tr>\n",
       "      <th>city</th>\n",
       "      <th></th>\n",
       "      <th></th>\n",
       "      <th></th>\n",
       "    </tr>\n",
       "  </thead>\n",
       "  <tbody>\n",
       "    <tr>\n",
       "      <th>Moscow</th>\n",
       "      <td>15945</td>\n",
       "      <td>15740</td>\n",
       "      <td>11056</td>\n",
       "    </tr>\n",
       "    <tr>\n",
       "      <th>Saint-Petersburg</th>\n",
       "      <td>5895</td>\n",
       "      <td>5614</td>\n",
       "      <td>7003</td>\n",
       "    </tr>\n",
       "  </tbody>\n",
       "</table>\n",
       "</div>"
      ],
      "text/plain": [
       "day               Friday  Monday  Wednesday\n",
       "city                                       \n",
       "Moscow             15945   15740      11056\n",
       "Saint-Petersburg    5895    5614       7003"
      ]
     },
     "execution_count": 27,
     "metadata": {},
     "output_type": "execute_result"
    }
   ],
   "source": [
    "number_tracks(['Monday', 'Wednesday', 'Friday'], \n",
    "              ['Moscow','Saint-Petersburg']\n",
    "             ).reset_index().pivot(index='city', columns='day', values='user_id')"
   ]
  },
  {
   "cell_type": "markdown",
   "metadata": {
    "deletable": false,
    "editable": false,
    "id": "-EgPIHYu_Zcu"
   },
   "source": [
    "**Выводы**\n",
    "\n",
    "Данные показывают разницу поведения пользователей:\n",
    "\n",
    "- В Москве пик прослушиваний приходится на понедельник и пятницу, а в среду заметен спад.\n",
    "- В Петербурге, наоборот, больше слушают музыку по средам. Активность в понедельник и пятницу здесь почти в равной мере уступает среде.\n",
    "\n",
    "Значит, данные говорят в пользу первой гипотезы."
   ]
  },
  {
   "cell_type": "markdown",
   "metadata": {
    "deletable": false,
    "editable": false,
    "id": "atZAxtq4_Zcu"
   },
   "source": [
    "### Музыка в начале и в конце недели"
   ]
  },
  {
   "cell_type": "markdown",
   "metadata": {
    "deletable": false,
    "editable": false,
    "id": "eXrQqXFH_Zcu"
   },
   "source": [
    "Согласно второй гипотезе, утром в понедельник в Москве преобладают одни жанры, а в Петербурге — другие. Так же и вечером пятницы преобладают разные жанры — в зависимости от города."
   ]
  },
  {
   "cell_type": "markdown",
   "metadata": {
    "deletable": false,
    "editable": false,
    "id": "S8UcW6Hw_Zcu",
    "tags": [
     "start_task"
    ]
   },
   "source": [
    "**Задание 23**\n",
    "\n",
    "Сохраните таблицы с данными в две переменные:\n",
    "* по Москве — в `moscow_general`;\n",
    "* по Санкт-Петербургу — в `spb_general`."
   ]
  },
  {
   "cell_type": "code",
   "execution_count": 28,
   "metadata": {
    "deletable": false,
    "id": "qeaFfM_P_Zcu"
   },
   "outputs": [],
   "source": [
    "moscow_general = df[df.city == 'Moscow']"
   ]
  },
  {
   "cell_type": "code",
   "execution_count": 29,
   "metadata": {
    "deletable": false,
    "id": "ORaVRKto_Zcu"
   },
   "outputs": [],
   "source": [
    "spb_general = df[df.city == 'Saint-Petersburg']"
   ]
  },
  {
   "cell_type": "markdown",
   "metadata": {
    "deletable": false,
    "editable": false,
    "id": "MEJV-CX2_Zcu",
    "tags": [
     "start_task"
    ]
   },
   "source": [
    "**Задание 24**\n",
    "\n",
    "Создайте функцию `genre_weekday()` с четырьмя параметрами:\n",
    "* таблица (датафрейм) с данными,\n",
    "* день недели,\n",
    "* начальная временная метка в формате 'hh:mm', \n",
    "* последняя временная метка в формате 'hh:mm'.\n",
    "\n",
    "Функция должна вернуть информацию о топ-10 жанров тех треков, которые прослушивали в указанный день, в промежутке между двумя отметками времени."
   ]
  },
  {
   "cell_type": "code",
   "execution_count": 30,
   "metadata": {
    "deletable": false,
    "id": "laJT9BYl_Zcu"
   },
   "outputs": [],
   "source": [
    "def genre_weekday(df, day, time1, time2):\n",
    "    genre_df = df[df.day == day]\n",
    "    genre_df = genre_df[genre_df.time < time2]\n",
    "    genre_df = genre_df[genre_df.time > time1]\n",
    "    genre_df_grouped = genre_df.groupby('genre').genre.count()\n",
    "    genre_df_sorted = genre_df_grouped.sort_values(ascending=False)\n",
    "    \n",
    "    return genre_df_sorted[:10]"
   ]
  },
  {
   "cell_type": "markdown",
   "metadata": {
    "deletable": false,
    "editable": false,
    "id": "la2s2_PF_Zcu",
    "tags": [
     "start_task"
    ]
   },
   "source": [
    "**Задание 25**\n",
    "\n",
    "\n",
    "Cравните результаты функции `genre_weekday()` для Москвы и Санкт-Петербурга в понедельник утром (с 7:00 до 11:00) и в пятницу вечером (с 17:00 до 23:00):"
   ]
  },
  {
   "cell_type": "code",
   "execution_count": 31,
   "metadata": {
    "deletable": false,
    "id": "yz7itPUQ_Zcu"
   },
   "outputs": [
    {
     "data": {
      "text/plain": [
       "genre\n",
       "pop            781\n",
       "dance          549\n",
       "electronic     480\n",
       "rock           474\n",
       "hiphop         286\n",
       "ruspop         186\n",
       "world          181\n",
       "rusrap         175\n",
       "alternative    164\n",
       "unknown        161\n",
       "Name: genre, dtype: int64"
      ]
     },
     "execution_count": 31,
     "metadata": {},
     "output_type": "execute_result"
    }
   ],
   "source": [
    "# вызов функции для утра понедельника в Москве\n",
    "genre_weekday(moscow_general, 'Monday', '07:00', '11:00')"
   ]
  },
  {
   "cell_type": "code",
   "execution_count": 32,
   "metadata": {
    "deletable": false,
    "id": "kwUcHPdy_Zcu"
   },
   "outputs": [
    {
     "data": {
      "text/plain": [
       "genre\n",
       "pop            218\n",
       "dance          182\n",
       "rock           162\n",
       "electronic     147\n",
       "hiphop          80\n",
       "ruspop          64\n",
       "alternative     58\n",
       "rusrap          55\n",
       "jazz            44\n",
       "classical       40\n",
       "Name: genre, dtype: int64"
      ]
     },
     "execution_count": 32,
     "metadata": {},
     "output_type": "execute_result"
    }
   ],
   "source": [
    "# вызов функции для утра понедельника в Петербурге\n",
    "genre_weekday(spb_general, 'Monday', '07:00', '11:00')"
   ]
  },
  {
   "cell_type": "code",
   "execution_count": 33,
   "metadata": {
    "deletable": false,
    "id": "EzXVRE1o_Zcu"
   },
   "outputs": [
    {
     "data": {
      "text/plain": [
       "genre\n",
       "pop            713\n",
       "rock           517\n",
       "dance          495\n",
       "electronic     482\n",
       "hiphop         273\n",
       "world          208\n",
       "ruspop         170\n",
       "alternative    163\n",
       "classical      163\n",
       "rusrap         142\n",
       "Name: genre, dtype: int64"
      ]
     },
     "execution_count": 33,
     "metadata": {},
     "output_type": "execute_result"
    }
   ],
   "source": [
    "# вызов функции для вечера пятницы в Москве\n",
    "genre_weekday(moscow_general, 'Friday', '17:00', '23:00')"
   ]
  },
  {
   "cell_type": "code",
   "execution_count": 34,
   "metadata": {
    "deletable": false,
    "id": "JZaEKu5v_Zcu"
   },
   "outputs": [
    {
     "data": {
      "text/plain": [
       "genre\n",
       "pop            256\n",
       "electronic     216\n",
       "rock           216\n",
       "dance          210\n",
       "hiphop          97\n",
       "alternative     63\n",
       "jazz            61\n",
       "classical       60\n",
       "rusrap          59\n",
       "world           54\n",
       "Name: genre, dtype: int64"
      ]
     },
     "execution_count": 34,
     "metadata": {},
     "output_type": "execute_result"
    }
   ],
   "source": [
    "# вызов функции для вечера пятницы в Петербурге\n",
    "genre_weekday(spb_general, 'Friday', '17:00', '23:00')"
   ]
  },
  {
   "cell_type": "markdown",
   "metadata": {
    "deletable": false,
    "editable": false,
    "id": "wrCe4MNX_Zcu"
   },
   "source": [
    "**Выводы**\n",
    "\n",
    "Если сравнить топ-10 жанров в понедельник утром, можно сделать такие выводы:\n",
    "\n",
    "1. В Москве и Петербурге слушают похожую музыку. Единственное отличие — в московский рейтинг вошёл жанр “world”, а в петербургский — джаз и классика.\n",
    "\n",
    "2. В Москве пропущенных значений оказалось так много, что значение `'unknown'` заняло десятое место среди самых популярных жанров. Значит, пропущенные значения занимают существенную долю в данных и угрожают достоверности исследования.\n",
    "\n",
    "Вечер пятницы не меняет эту картину. Некоторые жанры поднимаются немного выше, другие спускаются, но в целом топ-10 остаётся тем же самым.\n",
    "\n",
    "Таким образом, вторая гипотеза подтвердилась лишь частично:\n",
    "* Пользователи слушают похожую музыку в начале недели и в конце.\n",
    "* Разница между Москвой и Петербургом не слишком выражена. В Москве чаще слушают русскую популярную музыку, в Петербурге — джаз.\n",
    "\n",
    "Однако пропуски в данных ставят под сомнение этот результат. В Москве их так много, что рейтинг топ-10 мог бы выглядеть иначе, если бы не утерянные  данные о жанрах."
   ]
  },
  {
   "cell_type": "markdown",
   "metadata": {
    "deletable": false,
    "editable": false,
    "id": "JolODAqr_Zcu"
   },
   "source": [
    "### Жанровые предпочтения в Москве и Петербурге\n",
    "\n",
    "Гипотеза: Петербург — столица рэпа, музыку этого жанра там слушают чаще, чем в Москве.  А Москва — город контрастов, в котором, тем не менее, преобладает поп-музыка."
   ]
  },
  {
   "cell_type": "markdown",
   "metadata": {
    "deletable": false,
    "editable": false,
    "id": "DlegSvaT_Zcu",
    "tags": [
     "start_task"
    ]
   },
   "source": [
    "**Задание 26**\n",
    "\n",
    "Сгруппируйте таблицу `moscow_general` по жанру и посчитайте прослушивания треков каждого жанра методом `count()`. Затем отсортируйте результат в порядке убывания и сохраните его в таблице `moscow_genres`."
   ]
  },
  {
   "cell_type": "code",
   "execution_count": 35,
   "metadata": {
    "deletable": false,
    "id": "r19lIPke_Zcu"
   },
   "outputs": [],
   "source": [
    "moscow_genres = moscow_general.groupby('genre').genre.count().sort_values(ascending=False)"
   ]
  },
  {
   "cell_type": "markdown",
   "metadata": {
    "deletable": false,
    "editable": false,
    "id": "6kMuomxTiIr8",
    "tags": [
     "start_task"
    ]
   },
   "source": [
    "**Задание 27**\n",
    "\n",
    "Выведите на экран первые десять строк `moscow_genres`:"
   ]
  },
  {
   "cell_type": "code",
   "execution_count": 36,
   "metadata": {
    "deletable": false,
    "id": "WhCSooF8_Zcv"
   },
   "outputs": [
    {
     "data": {
      "text/plain": [
       "genre\n",
       "pop            5892\n",
       "dance          4435\n",
       "rock           3965\n",
       "electronic     3786\n",
       "hiphop         2096\n",
       "classical      1616\n",
       "world          1432\n",
       "alternative    1379\n",
       "ruspop         1372\n",
       "rusrap         1161\n",
       "Name: genre, dtype: int64"
      ]
     },
     "execution_count": 36,
     "metadata": {},
     "output_type": "execute_result"
    }
   ],
   "source": [
    "# просмотр первых 10 строк moscow_genres\n",
    "moscow_genres.head(10)"
   ]
  },
  {
   "cell_type": "markdown",
   "metadata": {
    "deletable": false,
    "editable": false,
    "id": "cnPG2vnN_Zcv",
    "tags": [
     "start_task"
    ]
   },
   "source": [
    "**Задание 28**\n",
    "\n",
    "\n",
    "Теперь повторите то же и для Петербурга.\n",
    "\n",
    "Сгруппируйте таблицу `spb_general` по жанру. Посчитайте прослушивания треков каждого жанра. Результат отсортируйте в порядке убывания и сохраните в таблице `spb_genres`:\n"
   ]
  },
  {
   "cell_type": "code",
   "execution_count": 37,
   "metadata": {
    "deletable": false,
    "id": "gluLIpE7_Zcv"
   },
   "outputs": [],
   "source": [
    "spb_genres = spb_general.groupby('genre').genre.count().sort_values(ascending=False)"
   ]
  },
  {
   "cell_type": "markdown",
   "metadata": {
    "deletable": false,
    "editable": false,
    "id": "5Doha_ODgyQ8",
    "tags": [
     "start_task"
    ]
   },
   "source": [
    "**Задание 29**\n",
    "\n",
    "Выведите на экран первые десять строк `spb_genres`:"
   ]
  },
  {
   "cell_type": "code",
   "execution_count": 38,
   "metadata": {
    "deletable": false,
    "id": "uaGJHjVU_Zcv"
   },
   "outputs": [
    {
     "data": {
      "text/plain": [
       "genre\n",
       "pop            2431\n",
       "dance          1932\n",
       "rock           1879\n",
       "electronic     1736\n",
       "hiphop          960\n",
       "alternative     649\n",
       "classical       646\n",
       "rusrap          564\n",
       "ruspop          538\n",
       "world           515\n",
       "Name: genre, dtype: int64"
      ]
     },
     "execution_count": 38,
     "metadata": {},
     "output_type": "execute_result"
    }
   ],
   "source": [
    "# просмотр первых 10 строк spb_genres\n",
    "spb_genres.head(10)"
   ]
  },
  {
   "cell_type": "markdown",
   "metadata": {
    "deletable": false,
    "editable": false,
    "id": "RY51YJYu_Zcv"
   },
   "source": [
    "**Выводы**"
   ]
  },
  {
   "cell_type": "markdown",
   "metadata": {
    "deletable": false,
    "editable": false,
    "id": "nVhnJEm__Zcv"
   },
   "source": [
    "Гипотеза частично подтвердилась:\n",
    "* Поп-музыка — самый популярный жанр в Москве, как и предполагала гипотеза. Более того, в топ-10 жанров встречается близкий жанр — русская популярная музыка.\n",
    "* Вопреки ожиданиям, рэп одинаково популярен в Москве и Петербурге. \n"
   ]
  },
  {
   "cell_type": "markdown",
   "metadata": {
    "deletable": false,
    "editable": false,
    "id": "ykKQ0N65_Zcv"
   },
   "source": [
    "## Итоги исследования"
   ]
  },
  {
   "cell_type": "markdown",
   "metadata": {
    "deletable": false,
    "editable": false,
    "id": "tjUwbHb3_Zcv"
   },
   "source": [
    "Вы проверили три гипотезы и установили:\n",
    "\n",
    "1. День недели по-разному влияет на активность пользователей в Москве и Петербурге. \n",
    "\n",
    "Первая гипотеза полностью подтвердилась.\n",
    "\n",
    "2. Музыкальные предпочтения не сильно меняются в течение недели — будь то Москва или Петербург. Небольшие различия заметны в начале недели, по понедельникам:\n",
    "* в Москве слушают музыку жанра “world”,\n",
    "* в Петербурге — джаз и классику.\n",
    "\n",
    "Таким образом, вторая гипотеза подтвердилась лишь отчасти. Этот результат мог оказаться иным, если бы не пропуски в данных.\n",
    "\n",
    "3. Во вкусах пользователей Москвы и Петербурга больше общего чем различий. Вопреки ожиданиям, предпочтения жанров в Петербурге напоминают московские.\n",
    "\n",
    "Третья гипотеза не подтвердилась. Если различия в предпочтениях и существуют, на основной массе пользователей они незаметны.\n",
    "\n",
    "**На практике исследования содержат проверки статистических гипотез.**\n",
    "Из данных одного сервиса не всегда можно сделать вывод о всех жителях города.\n",
    "Проверки статистических гипотез покажут, насколько они достоверны, исходя из имеющихся данных. \n",
    "С методами проверок гипотез вы ещё познакомитесь в следующих темах."
   ]
  }
 ],
 "metadata": {
  "ExecuteTimeLog": [
   {
    "duration": 388,
    "start_time": "2022-09-28T02:58:35.783Z"
   },
   {
    "duration": 242,
    "start_time": "2022-09-28T02:59:35.121Z"
   },
   {
    "duration": 20,
    "start_time": "2022-09-28T02:59:48.081Z"
   },
   {
    "duration": 31,
    "start_time": "2022-09-28T03:00:13.553Z"
   },
   {
    "duration": 5,
    "start_time": "2022-09-28T03:03:53.314Z"
   },
   {
    "duration": 365,
    "start_time": "2022-09-28T03:06:01.000Z"
   },
   {
    "duration": 212,
    "start_time": "2022-09-28T03:06:01.368Z"
   },
   {
    "duration": 23,
    "start_time": "2022-09-28T03:06:01.583Z"
   },
   {
    "duration": 52,
    "start_time": "2022-09-28T03:06:01.611Z"
   },
   {
    "duration": 2,
    "start_time": "2022-09-28T03:07:27.376Z"
   },
   {
    "duration": 5,
    "start_time": "2022-09-28T03:08:17.431Z"
   },
   {
    "duration": 23,
    "start_time": "2022-09-28T03:10:54.266Z"
   },
   {
    "duration": 418,
    "start_time": "2022-09-28T03:11:16.855Z"
   },
   {
    "duration": 187,
    "start_time": "2022-09-28T03:11:17.275Z"
   },
   {
    "duration": 18,
    "start_time": "2022-09-28T03:11:17.463Z"
   },
   {
    "duration": 29,
    "start_time": "2022-09-28T03:11:17.484Z"
   },
   {
    "duration": 7,
    "start_time": "2022-09-28T03:11:17.514Z"
   },
   {
    "duration": 8,
    "start_time": "2022-09-28T03:11:17.523Z"
   },
   {
    "duration": 32,
    "start_time": "2022-09-28T03:11:17.533Z"
   },
   {
    "duration": 3,
    "start_time": "2022-09-28T03:11:57.001Z"
   },
   {
    "duration": 26,
    "start_time": "2022-09-28T03:12:18.216Z"
   },
   {
    "duration": 28,
    "start_time": "2022-09-28T03:14:26.021Z"
   },
   {
    "duration": 26,
    "start_time": "2022-09-28T03:14:53.404Z"
   },
   {
    "duration": 69,
    "start_time": "2022-09-28T03:15:34.091Z"
   },
   {
    "duration": 72,
    "start_time": "2022-09-28T03:15:56.690Z"
   },
   {
    "duration": 67,
    "start_time": "2022-09-28T03:16:18.194Z"
   },
   {
    "duration": 39,
    "start_time": "2022-09-28T03:17:14.320Z"
   },
   {
    "duration": 12,
    "start_time": "2022-09-28T03:18:52.055Z"
   },
   {
    "duration": 67,
    "start_time": "2022-09-28T03:19:25.621Z"
   },
   {
    "duration": 420,
    "start_time": "2022-09-28T03:19:38.928Z"
   },
   {
    "duration": 174,
    "start_time": "2022-09-28T03:19:39.351Z"
   },
   {
    "duration": 28,
    "start_time": "2022-09-28T03:19:39.527Z"
   },
   {
    "duration": 31,
    "start_time": "2022-09-28T03:19:39.558Z"
   },
   {
    "duration": 3,
    "start_time": "2022-09-28T03:19:39.591Z"
   },
   {
    "duration": 10,
    "start_time": "2022-09-28T03:19:39.596Z"
   },
   {
    "duration": 13,
    "start_time": "2022-09-28T03:19:39.608Z"
   },
   {
    "duration": 32,
    "start_time": "2022-09-28T03:19:39.623Z"
   },
   {
    "duration": 26,
    "start_time": "2022-09-28T03:19:39.657Z"
   },
   {
    "duration": 31,
    "start_time": "2022-09-28T03:19:39.686Z"
   },
   {
    "duration": 39,
    "start_time": "2022-09-28T03:19:39.720Z"
   },
   {
    "duration": 72,
    "start_time": "2022-09-28T03:19:39.761Z"
   },
   {
    "duration": 90,
    "start_time": "2022-09-28T03:19:39.835Z"
   },
   {
    "duration": 82,
    "start_time": "2022-09-28T03:19:39.927Z"
   },
   {
    "duration": 45,
    "start_time": "2022-09-28T03:19:40.012Z"
   },
   {
    "duration": 12,
    "start_time": "2022-09-28T03:19:40.059Z"
   },
   {
    "duration": 37,
    "start_time": "2022-09-28T03:19:40.073Z"
   },
   {
    "duration": 70,
    "start_time": "2022-09-28T03:23:04.567Z"
   },
   {
    "duration": 50,
    "start_time": "2022-09-28T03:23:18.767Z"
   },
   {
    "duration": 11,
    "start_time": "2022-09-28T03:23:22.391Z"
   },
   {
    "duration": 385,
    "start_time": "2022-09-28T03:23:51.984Z"
   },
   {
    "duration": 178,
    "start_time": "2022-09-28T03:23:52.371Z"
   },
   {
    "duration": 18,
    "start_time": "2022-09-28T03:23:52.551Z"
   },
   {
    "duration": 30,
    "start_time": "2022-09-28T03:23:52.571Z"
   },
   {
    "duration": 2,
    "start_time": "2022-09-28T03:23:52.603Z"
   },
   {
    "duration": 9,
    "start_time": "2022-09-28T03:23:52.607Z"
   },
   {
    "duration": 37,
    "start_time": "2022-09-28T03:23:52.618Z"
   },
   {
    "duration": 5,
    "start_time": "2022-09-28T03:23:52.657Z"
   },
   {
    "duration": 36,
    "start_time": "2022-09-28T03:23:52.663Z"
   },
   {
    "duration": 32,
    "start_time": "2022-09-28T03:23:52.702Z"
   },
   {
    "duration": 30,
    "start_time": "2022-09-28T03:23:52.736Z"
   },
   {
    "duration": 87,
    "start_time": "2022-09-28T03:23:52.768Z"
   },
   {
    "duration": 76,
    "start_time": "2022-09-28T03:23:52.856Z"
   },
   {
    "duration": 74,
    "start_time": "2022-09-28T03:23:52.934Z"
   },
   {
    "duration": 50,
    "start_time": "2022-09-28T03:23:53.010Z"
   },
   {
    "duration": 10,
    "start_time": "2022-09-28T03:23:53.062Z"
   },
   {
    "duration": 46,
    "start_time": "2022-09-28T03:23:53.074Z"
   },
   {
    "duration": 12,
    "start_time": "2022-09-28T03:23:53.122Z"
   },
   {
    "duration": 69,
    "start_time": "2022-09-28T03:25:12.425Z"
   },
   {
    "duration": 426,
    "start_time": "2022-09-28T03:25:28.024Z"
   },
   {
    "duration": 177,
    "start_time": "2022-09-28T03:25:28.452Z"
   },
   {
    "duration": 17,
    "start_time": "2022-09-28T03:25:28.631Z"
   },
   {
    "duration": 30,
    "start_time": "2022-09-28T03:25:28.654Z"
   },
   {
    "duration": 5,
    "start_time": "2022-09-28T03:25:28.686Z"
   },
   {
    "duration": 18,
    "start_time": "2022-09-28T03:25:28.693Z"
   },
   {
    "duration": 18,
    "start_time": "2022-09-28T03:25:28.713Z"
   },
   {
    "duration": 15,
    "start_time": "2022-09-28T03:25:28.733Z"
   },
   {
    "duration": 30,
    "start_time": "2022-09-28T03:25:28.750Z"
   },
   {
    "duration": 25,
    "start_time": "2022-09-28T03:25:28.782Z"
   },
   {
    "duration": 23,
    "start_time": "2022-09-28T03:25:28.808Z"
   },
   {
    "duration": 82,
    "start_time": "2022-09-28T03:25:28.833Z"
   },
   {
    "duration": 82,
    "start_time": "2022-09-28T03:25:28.917Z"
   },
   {
    "duration": 73,
    "start_time": "2022-09-28T03:25:29.001Z"
   },
   {
    "duration": 39,
    "start_time": "2022-09-28T03:25:29.076Z"
   },
   {
    "duration": 12,
    "start_time": "2022-09-28T03:25:29.117Z"
   },
   {
    "duration": 58,
    "start_time": "2022-09-28T03:25:29.131Z"
   },
   {
    "duration": 13,
    "start_time": "2022-09-28T03:25:29.191Z"
   },
   {
    "duration": 15,
    "start_time": "2022-09-28T03:25:29.206Z"
   },
   {
    "duration": 18,
    "start_time": "2022-09-28T03:27:18.731Z"
   },
   {
    "duration": 411,
    "start_time": "2022-09-28T03:27:36.099Z"
   },
   {
    "duration": 182,
    "start_time": "2022-09-28T03:27:36.511Z"
   },
   {
    "duration": 19,
    "start_time": "2022-09-28T03:27:36.695Z"
   },
   {
    "duration": 45,
    "start_time": "2022-09-28T03:27:36.716Z"
   },
   {
    "duration": 3,
    "start_time": "2022-09-28T03:27:36.764Z"
   },
   {
    "duration": 7,
    "start_time": "2022-09-28T03:27:36.769Z"
   },
   {
    "duration": 19,
    "start_time": "2022-09-28T03:27:36.777Z"
   },
   {
    "duration": 16,
    "start_time": "2022-09-28T03:27:36.798Z"
   },
   {
    "duration": 38,
    "start_time": "2022-09-28T03:27:36.816Z"
   },
   {
    "duration": 27,
    "start_time": "2022-09-28T03:27:36.856Z"
   },
   {
    "duration": 24,
    "start_time": "2022-09-28T03:27:36.884Z"
   },
   {
    "duration": 92,
    "start_time": "2022-09-28T03:27:36.909Z"
   },
   {
    "duration": 78,
    "start_time": "2022-09-28T03:27:37.003Z"
   },
   {
    "duration": 72,
    "start_time": "2022-09-28T03:27:37.083Z"
   },
   {
    "duration": 37,
    "start_time": "2022-09-28T03:27:37.156Z"
   },
   {
    "duration": 10,
    "start_time": "2022-09-28T03:27:37.194Z"
   },
   {
    "duration": 58,
    "start_time": "2022-09-28T03:27:37.206Z"
   },
   {
    "duration": 12,
    "start_time": "2022-09-28T03:27:37.265Z"
   },
   {
    "duration": 13,
    "start_time": "2022-09-28T03:27:37.279Z"
   },
   {
    "duration": 18,
    "start_time": "2022-09-28T03:28:53.772Z"
   },
   {
    "duration": 19,
    "start_time": "2022-09-28T03:29:17.532Z"
   },
   {
    "duration": 87,
    "start_time": "2022-09-28T03:29:42.659Z"
   },
   {
    "duration": 17,
    "start_time": "2022-09-28T03:29:54.059Z"
   },
   {
    "duration": 5,
    "start_time": "2022-09-28T03:30:51.737Z"
   },
   {
    "duration": 21,
    "start_time": "2022-09-28T03:32:23.078Z"
   },
   {
    "duration": 384,
    "start_time": "2022-09-28T03:33:22.677Z"
   },
   {
    "duration": 177,
    "start_time": "2022-09-28T03:33:23.063Z"
   },
   {
    "duration": 22,
    "start_time": "2022-09-28T03:33:23.241Z"
   },
   {
    "duration": 28,
    "start_time": "2022-09-28T03:33:23.265Z"
   },
   {
    "duration": 2,
    "start_time": "2022-09-28T03:33:23.296Z"
   },
   {
    "duration": 6,
    "start_time": "2022-09-28T03:33:23.300Z"
   },
   {
    "duration": 16,
    "start_time": "2022-09-28T03:33:23.308Z"
   },
   {
    "duration": 29,
    "start_time": "2022-09-28T03:33:23.326Z"
   },
   {
    "duration": 29,
    "start_time": "2022-09-28T03:33:23.356Z"
   },
   {
    "duration": 25,
    "start_time": "2022-09-28T03:33:23.387Z"
   },
   {
    "duration": 41,
    "start_time": "2022-09-28T03:33:23.414Z"
   },
   {
    "duration": 67,
    "start_time": "2022-09-28T03:33:23.457Z"
   },
   {
    "duration": 93,
    "start_time": "2022-09-28T03:33:23.526Z"
   },
   {
    "duration": 73,
    "start_time": "2022-09-28T03:33:23.621Z"
   },
   {
    "duration": 39,
    "start_time": "2022-09-28T03:33:23.697Z"
   },
   {
    "duration": 24,
    "start_time": "2022-09-28T03:33:23.738Z"
   },
   {
    "duration": 40,
    "start_time": "2022-09-28T03:33:23.764Z"
   },
   {
    "duration": 13,
    "start_time": "2022-09-28T03:33:23.807Z"
   },
   {
    "duration": 42,
    "start_time": "2022-09-28T03:33:23.822Z"
   },
   {
    "duration": 3,
    "start_time": "2022-09-28T03:38:50.345Z"
   },
   {
    "duration": 67,
    "start_time": "2022-09-28T03:40:56.038Z"
   },
   {
    "duration": 19,
    "start_time": "2022-09-28T03:41:09.493Z"
   },
   {
    "duration": 19,
    "start_time": "2022-09-28T03:41:32.934Z"
   },
   {
    "duration": 18,
    "start_time": "2022-09-28T03:41:33.396Z"
   },
   {
    "duration": 16,
    "start_time": "2022-09-28T03:41:51.236Z"
   },
   {
    "duration": 17,
    "start_time": "2022-09-28T03:42:07.412Z"
   },
   {
    "duration": 18,
    "start_time": "2022-09-28T03:42:29.194Z"
   },
   {
    "duration": 17,
    "start_time": "2022-09-28T03:42:42.458Z"
   },
   {
    "duration": 374,
    "start_time": "2022-09-28T03:42:49.708Z"
   },
   {
    "duration": 174,
    "start_time": "2022-09-28T03:42:50.084Z"
   },
   {
    "duration": 18,
    "start_time": "2022-09-28T03:42:50.260Z"
   },
   {
    "duration": 33,
    "start_time": "2022-09-28T03:42:50.279Z"
   },
   {
    "duration": 2,
    "start_time": "2022-09-28T03:42:50.315Z"
   },
   {
    "duration": 10,
    "start_time": "2022-09-28T03:42:50.319Z"
   },
   {
    "duration": 28,
    "start_time": "2022-09-28T03:42:50.331Z"
   },
   {
    "duration": 9,
    "start_time": "2022-09-28T03:42:50.361Z"
   },
   {
    "duration": 29,
    "start_time": "2022-09-28T03:42:50.371Z"
   },
   {
    "duration": 26,
    "start_time": "2022-09-28T03:42:50.402Z"
   },
   {
    "duration": 43,
    "start_time": "2022-09-28T03:42:50.429Z"
   },
   {
    "duration": 67,
    "start_time": "2022-09-28T03:42:50.474Z"
   },
   {
    "duration": 76,
    "start_time": "2022-09-28T03:42:50.554Z"
   },
   {
    "duration": 83,
    "start_time": "2022-09-28T03:42:50.633Z"
   },
   {
    "duration": 47,
    "start_time": "2022-09-28T03:42:50.719Z"
   },
   {
    "duration": 12,
    "start_time": "2022-09-28T03:42:50.767Z"
   },
   {
    "duration": 45,
    "start_time": "2022-09-28T03:42:50.781Z"
   },
   {
    "duration": 28,
    "start_time": "2022-09-28T03:42:50.828Z"
   },
   {
    "duration": 12,
    "start_time": "2022-09-28T03:42:50.858Z"
   },
   {
    "duration": 4,
    "start_time": "2022-09-28T03:42:50.871Z"
   },
   {
    "duration": 21,
    "start_time": "2022-09-28T03:42:50.876Z"
   },
   {
    "duration": 16,
    "start_time": "2022-09-28T03:42:50.899Z"
   },
   {
    "duration": 43,
    "start_time": "2022-09-28T03:42:50.916Z"
   },
   {
    "duration": 16,
    "start_time": "2022-09-28T03:42:50.960Z"
   },
   {
    "duration": 16,
    "start_time": "2022-09-28T03:42:50.978Z"
   },
   {
    "duration": 15,
    "start_time": "2022-09-28T03:42:50.996Z"
   },
   {
    "duration": 457,
    "start_time": "2022-09-28T03:46:25.143Z"
   },
   {
    "duration": 198,
    "start_time": "2022-09-28T03:46:25.602Z"
   },
   {
    "duration": 25,
    "start_time": "2022-09-28T03:46:25.803Z"
   },
   {
    "duration": 58,
    "start_time": "2022-09-28T03:46:25.831Z"
   },
   {
    "duration": 4,
    "start_time": "2022-09-28T03:46:25.891Z"
   },
   {
    "duration": 8,
    "start_time": "2022-09-28T03:46:25.897Z"
   },
   {
    "duration": 14,
    "start_time": "2022-09-28T03:46:25.907Z"
   },
   {
    "duration": 34,
    "start_time": "2022-09-28T03:46:25.922Z"
   },
   {
    "duration": 46,
    "start_time": "2022-09-28T03:46:25.958Z"
   },
   {
    "duration": 28,
    "start_time": "2022-09-28T03:46:26.007Z"
   },
   {
    "duration": 43,
    "start_time": "2022-09-28T03:46:26.037Z"
   },
   {
    "duration": 128,
    "start_time": "2022-09-28T03:46:26.082Z"
   },
   {
    "duration": 89,
    "start_time": "2022-09-28T03:46:26.212Z"
   },
   {
    "duration": 76,
    "start_time": "2022-09-28T03:46:26.306Z"
   },
   {
    "duration": 39,
    "start_time": "2022-09-28T03:46:26.384Z"
   },
   {
    "duration": 31,
    "start_time": "2022-09-28T03:46:26.425Z"
   },
   {
    "duration": 38,
    "start_time": "2022-09-28T03:46:26.458Z"
   },
   {
    "duration": 13,
    "start_time": "2022-09-28T03:46:26.498Z"
   },
   {
    "duration": 12,
    "start_time": "2022-09-28T03:46:26.513Z"
   },
   {
    "duration": 30,
    "start_time": "2022-09-28T03:46:26.526Z"
   },
   {
    "duration": 23,
    "start_time": "2022-09-28T03:46:26.558Z"
   },
   {
    "duration": 28,
    "start_time": "2022-09-28T03:46:26.583Z"
   },
   {
    "duration": 18,
    "start_time": "2022-09-28T03:46:26.614Z"
   },
   {
    "duration": 52,
    "start_time": "2022-09-28T03:46:26.634Z"
   },
   {
    "duration": 25,
    "start_time": "2022-09-28T03:46:26.688Z"
   },
   {
    "duration": 18,
    "start_time": "2022-09-28T03:46:26.714Z"
   },
   {
    "duration": 409,
    "start_time": "2022-09-28T03:48:40.367Z"
   },
   {
    "duration": 194,
    "start_time": "2022-09-28T03:48:40.778Z"
   },
   {
    "duration": 19,
    "start_time": "2022-09-28T03:48:40.974Z"
   },
   {
    "duration": 32,
    "start_time": "2022-09-28T03:48:40.995Z"
   },
   {
    "duration": 24,
    "start_time": "2022-09-28T03:48:41.030Z"
   },
   {
    "duration": 9,
    "start_time": "2022-09-28T03:48:41.057Z"
   },
   {
    "duration": 24,
    "start_time": "2022-09-28T03:48:41.068Z"
   },
   {
    "duration": 7,
    "start_time": "2022-09-28T03:48:41.094Z"
   },
   {
    "duration": 29,
    "start_time": "2022-09-28T03:48:41.103Z"
   },
   {
    "duration": 45,
    "start_time": "2022-09-28T03:48:41.134Z"
   },
   {
    "duration": 26,
    "start_time": "2022-09-28T03:48:41.181Z"
   },
   {
    "duration": 91,
    "start_time": "2022-09-28T03:48:41.209Z"
   },
   {
    "duration": 88,
    "start_time": "2022-09-28T03:48:41.302Z"
   },
   {
    "duration": 93,
    "start_time": "2022-09-28T03:48:41.393Z"
   },
   {
    "duration": 49,
    "start_time": "2022-09-28T03:48:41.488Z"
   },
   {
    "duration": 27,
    "start_time": "2022-09-28T03:48:41.540Z"
   },
   {
    "duration": 55,
    "start_time": "2022-09-28T03:48:41.569Z"
   },
   {
    "duration": 37,
    "start_time": "2022-09-28T03:48:41.626Z"
   },
   {
    "duration": 18,
    "start_time": "2022-09-28T03:48:41.665Z"
   },
   {
    "duration": 3,
    "start_time": "2022-09-28T03:48:41.686Z"
   },
   {
    "duration": 36,
    "start_time": "2022-09-28T03:48:41.691Z"
   },
   {
    "duration": 41,
    "start_time": "2022-09-28T03:48:41.729Z"
   },
   {
    "duration": 29,
    "start_time": "2022-09-28T03:48:41.772Z"
   },
   {
    "duration": 29,
    "start_time": "2022-09-28T03:48:41.803Z"
   },
   {
    "duration": 39,
    "start_time": "2022-09-28T03:48:41.834Z"
   },
   {
    "duration": 19,
    "start_time": "2022-09-28T03:48:41.875Z"
   },
   {
    "duration": 29,
    "start_time": "2022-09-28T03:49:31.218Z"
   },
   {
    "duration": 409,
    "start_time": "2022-09-28T03:56:36.221Z"
   },
   {
    "duration": 181,
    "start_time": "2022-09-28T03:56:36.632Z"
   },
   {
    "duration": 21,
    "start_time": "2022-09-28T03:56:36.815Z"
   },
   {
    "duration": 46,
    "start_time": "2022-09-28T03:56:36.837Z"
   },
   {
    "duration": 4,
    "start_time": "2022-09-28T03:56:36.885Z"
   },
   {
    "duration": 39,
    "start_time": "2022-09-28T03:56:36.891Z"
   },
   {
    "duration": 21,
    "start_time": "2022-09-28T03:56:36.932Z"
   },
   {
    "duration": 16,
    "start_time": "2022-09-28T03:56:36.955Z"
   },
   {
    "duration": 35,
    "start_time": "2022-09-28T03:56:36.972Z"
   },
   {
    "duration": 33,
    "start_time": "2022-09-28T03:56:37.009Z"
   },
   {
    "duration": 24,
    "start_time": "2022-09-28T03:56:37.044Z"
   },
   {
    "duration": 96,
    "start_time": "2022-09-28T03:56:37.070Z"
   },
   {
    "duration": 88,
    "start_time": "2022-09-28T03:56:37.168Z"
   },
   {
    "duration": 65,
    "start_time": "2022-09-28T03:56:37.259Z"
   },
   {
    "duration": 54,
    "start_time": "2022-09-28T03:56:37.326Z"
   },
   {
    "duration": 16,
    "start_time": "2022-09-28T03:56:37.382Z"
   },
   {
    "duration": 59,
    "start_time": "2022-09-28T03:56:37.399Z"
   },
   {
    "duration": 13,
    "start_time": "2022-09-28T03:56:37.460Z"
   },
   {
    "duration": 30,
    "start_time": "2022-09-28T03:56:37.475Z"
   },
   {
    "duration": 13,
    "start_time": "2022-09-28T03:56:37.507Z"
   },
   {
    "duration": 43,
    "start_time": "2022-09-28T03:56:37.522Z"
   },
   {
    "duration": 20,
    "start_time": "2022-09-28T03:56:37.566Z"
   },
   {
    "duration": 15,
    "start_time": "2022-09-28T03:56:37.588Z"
   },
   {
    "duration": 17,
    "start_time": "2022-09-28T03:56:37.605Z"
   },
   {
    "duration": 36,
    "start_time": "2022-09-28T03:56:37.623Z"
   },
   {
    "duration": 17,
    "start_time": "2022-09-28T03:56:37.661Z"
   },
   {
    "duration": 361,
    "start_time": "2022-09-28T17:48:25.052Z"
   },
   {
    "duration": 231,
    "start_time": "2022-09-28T17:48:25.415Z"
   },
   {
    "duration": 19,
    "start_time": "2022-09-28T17:48:25.647Z"
   },
   {
    "duration": 25,
    "start_time": "2022-09-28T17:48:25.668Z"
   },
   {
    "duration": 3,
    "start_time": "2022-09-28T17:48:25.695Z"
   },
   {
    "duration": 12,
    "start_time": "2022-09-28T17:48:25.699Z"
   },
   {
    "duration": 11,
    "start_time": "2022-09-28T17:48:25.712Z"
   },
   {
    "duration": 6,
    "start_time": "2022-09-28T17:48:25.724Z"
   },
   {
    "duration": 23,
    "start_time": "2022-09-28T17:48:25.731Z"
   },
   {
    "duration": 20,
    "start_time": "2022-09-28T17:48:25.757Z"
   },
   {
    "duration": 44,
    "start_time": "2022-09-28T17:48:25.779Z"
   },
   {
    "duration": 64,
    "start_time": "2022-09-28T17:48:25.825Z"
   },
   {
    "duration": 83,
    "start_time": "2022-09-28T17:48:25.891Z"
   },
   {
    "duration": 70,
    "start_time": "2022-09-28T17:48:25.976Z"
   },
   {
    "duration": 39,
    "start_time": "2022-09-28T17:48:26.047Z"
   },
   {
    "duration": 25,
    "start_time": "2022-09-28T17:48:26.087Z"
   },
   {
    "duration": 38,
    "start_time": "2022-09-28T17:48:26.113Z"
   },
   {
    "duration": 11,
    "start_time": "2022-09-28T17:48:26.152Z"
   },
   {
    "duration": 20,
    "start_time": "2022-09-28T17:48:26.165Z"
   },
   {
    "duration": 3,
    "start_time": "2022-09-28T17:48:26.187Z"
   },
   {
    "duration": 17,
    "start_time": "2022-09-28T17:48:26.208Z"
   },
   {
    "duration": 15,
    "start_time": "2022-09-28T17:48:26.226Z"
   },
   {
    "duration": 15,
    "start_time": "2022-09-28T17:48:26.243Z"
   },
   {
    "duration": 15,
    "start_time": "2022-09-28T17:48:26.259Z"
   },
   {
    "duration": 44,
    "start_time": "2022-09-28T17:48:26.276Z"
   },
   {
    "duration": 15,
    "start_time": "2022-09-28T17:48:26.322Z"
   },
   {
    "duration": 12,
    "start_time": "2022-09-28T17:50:23.677Z"
   },
   {
    "duration": 27,
    "start_time": "2022-09-28T17:51:38.802Z"
   },
   {
    "duration": 19,
    "start_time": "2022-09-28T17:51:50.542Z"
   },
   {
    "duration": 23,
    "start_time": "2022-09-28T17:52:08.378Z"
   },
   {
    "duration": 18,
    "start_time": "2022-09-28T17:53:04.975Z"
   },
   {
    "duration": 85,
    "start_time": "2022-09-28T17:53:26.362Z"
   },
   {
    "duration": 57,
    "start_time": "2022-09-28T17:53:41.378Z"
   },
   {
    "duration": 25,
    "start_time": "2022-09-28T17:53:45.748Z"
   },
   {
    "duration": 22,
    "start_time": "2022-09-28T17:53:57.268Z"
   },
   {
    "duration": 24,
    "start_time": "2022-09-28T17:54:19.230Z"
   },
   {
    "duration": 54,
    "start_time": "2022-09-28T17:54:48.091Z"
   },
   {
    "duration": 25,
    "start_time": "2022-09-28T17:55:05.886Z"
   },
   {
    "duration": 22,
    "start_time": "2022-09-28T17:55:26.029Z"
   },
   {
    "duration": 445,
    "start_time": "2022-09-28T17:56:14.692Z"
   },
   {
    "duration": 157,
    "start_time": "2022-09-28T17:56:15.139Z"
   },
   {
    "duration": 22,
    "start_time": "2022-09-28T17:56:15.298Z"
   },
   {
    "duration": 27,
    "start_time": "2022-09-28T17:56:15.321Z"
   },
   {
    "duration": 3,
    "start_time": "2022-09-28T17:56:15.350Z"
   },
   {
    "duration": 9,
    "start_time": "2022-09-28T17:56:15.354Z"
   },
   {
    "duration": 17,
    "start_time": "2022-09-28T17:56:15.365Z"
   },
   {
    "duration": 5,
    "start_time": "2022-09-28T17:56:15.384Z"
   },
   {
    "duration": 57,
    "start_time": "2022-09-28T17:56:15.390Z"
   },
   {
    "duration": 22,
    "start_time": "2022-09-28T17:56:15.449Z"
   },
   {
    "duration": 40,
    "start_time": "2022-09-28T17:56:15.473Z"
   },
   {
    "duration": 66,
    "start_time": "2022-09-28T17:56:15.514Z"
   },
   {
    "duration": 79,
    "start_time": "2022-09-28T17:56:15.582Z"
   },
   {
    "duration": 67,
    "start_time": "2022-09-28T17:56:15.664Z"
   },
   {
    "duration": 41,
    "start_time": "2022-09-28T17:56:15.733Z"
   },
   {
    "duration": 13,
    "start_time": "2022-09-28T17:56:15.776Z"
   },
   {
    "duration": 53,
    "start_time": "2022-09-28T17:56:15.790Z"
   },
   {
    "duration": 11,
    "start_time": "2022-09-28T17:56:15.844Z"
   },
   {
    "duration": 11,
    "start_time": "2022-09-28T17:56:15.857Z"
   },
   {
    "duration": 3,
    "start_time": "2022-09-28T17:56:15.870Z"
   },
   {
    "duration": 47,
    "start_time": "2022-09-28T17:56:15.875Z"
   },
   {
    "duration": 15,
    "start_time": "2022-09-28T17:56:15.923Z"
   },
   {
    "duration": 20,
    "start_time": "2022-09-28T17:56:15.940Z"
   },
   {
    "duration": 19,
    "start_time": "2022-09-28T17:56:15.962Z"
   },
   {
    "duration": 41,
    "start_time": "2022-09-28T17:56:15.982Z"
   },
   {
    "duration": 16,
    "start_time": "2022-09-28T17:56:16.024Z"
   },
   {
    "duration": 34,
    "start_time": "2022-09-28T17:56:16.042Z"
   },
   {
    "duration": 402,
    "start_time": "2022-09-28T17:57:51.942Z"
   },
   {
    "duration": 159,
    "start_time": "2022-09-28T17:57:52.346Z"
   },
   {
    "duration": 20,
    "start_time": "2022-09-28T17:57:52.507Z"
   },
   {
    "duration": 57,
    "start_time": "2022-09-28T17:57:52.530Z"
   },
   {
    "duration": 51,
    "start_time": "2022-09-28T17:57:52.590Z"
   },
   {
    "duration": 26,
    "start_time": "2022-09-28T17:57:52.643Z"
   },
   {
    "duration": 35,
    "start_time": "2022-09-28T17:57:52.671Z"
   },
   {
    "duration": 32,
    "start_time": "2022-09-28T17:57:52.708Z"
   },
   {
    "duration": 33,
    "start_time": "2022-09-28T17:57:52.742Z"
   },
   {
    "duration": 36,
    "start_time": "2022-09-28T17:57:52.777Z"
   },
   {
    "duration": 60,
    "start_time": "2022-09-28T17:57:52.814Z"
   },
   {
    "duration": 70,
    "start_time": "2022-09-28T17:57:52.876Z"
   },
   {
    "duration": 72,
    "start_time": "2022-09-28T17:57:52.948Z"
   },
   {
    "duration": 59,
    "start_time": "2022-09-28T17:57:53.023Z"
   },
   {
    "duration": 50,
    "start_time": "2022-09-28T17:57:53.084Z"
   },
   {
    "duration": 11,
    "start_time": "2022-09-28T17:57:53.135Z"
   },
   {
    "duration": 39,
    "start_time": "2022-09-28T17:57:53.147Z"
   },
   {
    "duration": 31,
    "start_time": "2022-09-28T17:57:53.188Z"
   },
   {
    "duration": 11,
    "start_time": "2022-09-28T17:57:53.222Z"
   },
   {
    "duration": 3,
    "start_time": "2022-09-28T17:57:53.235Z"
   },
   {
    "duration": 19,
    "start_time": "2022-09-28T17:57:53.240Z"
   },
   {
    "duration": 13,
    "start_time": "2022-09-28T17:57:53.260Z"
   },
   {
    "duration": 13,
    "start_time": "2022-09-28T17:57:53.275Z"
   },
   {
    "duration": 37,
    "start_time": "2022-09-28T17:57:53.289Z"
   },
   {
    "duration": 14,
    "start_time": "2022-09-28T17:57:53.328Z"
   },
   {
    "duration": 14,
    "start_time": "2022-09-28T17:57:53.344Z"
   },
   {
    "duration": 100,
    "start_time": "2022-09-28T17:57:53.359Z"
   },
   {
    "duration": 426,
    "start_time": "2022-09-28T17:58:11.277Z"
   },
   {
    "duration": 163,
    "start_time": "2022-09-28T17:58:11.705Z"
   },
   {
    "duration": 17,
    "start_time": "2022-09-28T17:58:11.869Z"
   },
   {
    "duration": 33,
    "start_time": "2022-09-28T17:58:11.888Z"
   },
   {
    "duration": 10,
    "start_time": "2022-09-28T17:58:11.924Z"
   },
   {
    "duration": 7,
    "start_time": "2022-09-28T17:58:11.936Z"
   },
   {
    "duration": 14,
    "start_time": "2022-09-28T17:58:11.944Z"
   },
   {
    "duration": 8,
    "start_time": "2022-09-28T17:58:11.960Z"
   },
   {
    "duration": 22,
    "start_time": "2022-09-28T17:58:11.969Z"
   },
   {
    "duration": 33,
    "start_time": "2022-09-28T17:58:11.992Z"
   },
   {
    "duration": 25,
    "start_time": "2022-09-28T17:58:12.027Z"
   },
   {
    "duration": 70,
    "start_time": "2022-09-28T17:58:12.054Z"
   },
   {
    "duration": 66,
    "start_time": "2022-09-28T17:58:12.125Z"
   },
   {
    "duration": 82,
    "start_time": "2022-09-28T17:58:12.194Z"
   },
   {
    "duration": 51,
    "start_time": "2022-09-28T17:58:12.277Z"
   },
   {
    "duration": 13,
    "start_time": "2022-09-28T17:58:12.329Z"
   },
   {
    "duration": 37,
    "start_time": "2022-09-28T17:58:12.343Z"
   },
   {
    "duration": 11,
    "start_time": "2022-09-28T17:58:12.382Z"
   },
   {
    "duration": 29,
    "start_time": "2022-09-28T17:58:12.394Z"
   },
   {
    "duration": 11,
    "start_time": "2022-09-28T17:58:12.425Z"
   },
   {
    "duration": 23,
    "start_time": "2022-09-28T17:58:12.437Z"
   },
   {
    "duration": 14,
    "start_time": "2022-09-28T17:58:12.461Z"
   },
   {
    "duration": 13,
    "start_time": "2022-09-28T17:58:12.476Z"
   },
   {
    "duration": 34,
    "start_time": "2022-09-28T17:58:12.491Z"
   },
   {
    "duration": 21,
    "start_time": "2022-09-28T17:58:12.527Z"
   },
   {
    "duration": 16,
    "start_time": "2022-09-28T17:58:12.550Z"
   },
   {
    "duration": 112,
    "start_time": "2022-09-28T17:58:12.568Z"
   },
   {
    "duration": 390,
    "start_time": "2022-09-28T17:59:06.633Z"
   },
   {
    "duration": 158,
    "start_time": "2022-09-28T17:59:07.025Z"
   },
   {
    "duration": 16,
    "start_time": "2022-09-28T17:59:07.185Z"
   },
   {
    "duration": 31,
    "start_time": "2022-09-28T17:59:07.203Z"
   },
   {
    "duration": 2,
    "start_time": "2022-09-28T17:59:07.237Z"
   },
   {
    "duration": 7,
    "start_time": "2022-09-28T17:59:07.240Z"
   },
   {
    "duration": 12,
    "start_time": "2022-09-28T17:59:07.248Z"
   },
   {
    "duration": 6,
    "start_time": "2022-09-28T17:59:07.261Z"
   },
   {
    "duration": 54,
    "start_time": "2022-09-28T17:59:07.269Z"
   },
   {
    "duration": 24,
    "start_time": "2022-09-28T17:59:07.324Z"
   },
   {
    "duration": 20,
    "start_time": "2022-09-28T17:59:07.349Z"
   },
   {
    "duration": 77,
    "start_time": "2022-09-28T17:59:07.371Z"
   },
   {
    "duration": 72,
    "start_time": "2022-09-28T17:59:07.450Z"
   },
   {
    "duration": 57,
    "start_time": "2022-09-28T17:59:07.525Z"
   },
   {
    "duration": 53,
    "start_time": "2022-09-28T17:59:07.583Z"
   },
   {
    "duration": 10,
    "start_time": "2022-09-28T17:59:07.638Z"
   },
   {
    "duration": 41,
    "start_time": "2022-09-28T17:59:07.650Z"
   },
   {
    "duration": 19,
    "start_time": "2022-09-28T17:59:07.708Z"
   },
   {
    "duration": 11,
    "start_time": "2022-09-28T17:59:07.729Z"
   },
   {
    "duration": 3,
    "start_time": "2022-09-28T17:59:07.741Z"
   },
   {
    "duration": 35,
    "start_time": "2022-09-28T17:59:07.746Z"
   },
   {
    "duration": 16,
    "start_time": "2022-09-28T17:59:07.783Z"
   },
   {
    "duration": 29,
    "start_time": "2022-09-28T17:59:07.801Z"
   },
   {
    "duration": 16,
    "start_time": "2022-09-28T17:59:07.832Z"
   },
   {
    "duration": 16,
    "start_time": "2022-09-28T17:59:07.849Z"
   },
   {
    "duration": 16,
    "start_time": "2022-09-28T17:59:07.866Z"
   },
   {
    "duration": 49,
    "start_time": "2022-09-28T17:59:07.884Z"
   },
   {
    "duration": 361,
    "start_time": "2022-09-28T18:00:04.272Z"
   },
   {
    "duration": 165,
    "start_time": "2022-09-28T18:00:04.635Z"
   },
   {
    "duration": 22,
    "start_time": "2022-09-28T18:00:04.802Z"
   },
   {
    "duration": 30,
    "start_time": "2022-09-28T18:00:04.827Z"
   },
   {
    "duration": 2,
    "start_time": "2022-09-28T18:00:04.859Z"
   },
   {
    "duration": 6,
    "start_time": "2022-09-28T18:00:04.863Z"
   },
   {
    "duration": 12,
    "start_time": "2022-09-28T18:00:04.870Z"
   },
   {
    "duration": 27,
    "start_time": "2022-09-28T18:00:04.884Z"
   },
   {
    "duration": 32,
    "start_time": "2022-09-28T18:00:04.913Z"
   },
   {
    "duration": 20,
    "start_time": "2022-09-28T18:00:04.948Z"
   },
   {
    "duration": 20,
    "start_time": "2022-09-28T18:00:04.970Z"
   },
   {
    "duration": 75,
    "start_time": "2022-09-28T18:00:04.992Z"
   },
   {
    "duration": 79,
    "start_time": "2022-09-28T18:00:05.069Z"
   },
   {
    "duration": 72,
    "start_time": "2022-09-28T18:00:05.149Z"
   },
   {
    "duration": 41,
    "start_time": "2022-09-28T18:00:05.223Z"
   },
   {
    "duration": 10,
    "start_time": "2022-09-28T18:00:05.266Z"
   },
   {
    "duration": 56,
    "start_time": "2022-09-28T18:00:05.278Z"
   },
   {
    "duration": 12,
    "start_time": "2022-09-28T18:00:05.336Z"
   },
   {
    "duration": 17,
    "start_time": "2022-09-28T18:00:05.350Z"
   },
   {
    "duration": 4,
    "start_time": "2022-09-28T18:00:05.369Z"
   },
   {
    "duration": 46,
    "start_time": "2022-09-28T18:00:05.375Z"
   },
   {
    "duration": 15,
    "start_time": "2022-09-28T18:00:05.423Z"
   },
   {
    "duration": 14,
    "start_time": "2022-09-28T18:00:05.440Z"
   },
   {
    "duration": 15,
    "start_time": "2022-09-28T18:00:05.456Z"
   },
   {
    "duration": 14,
    "start_time": "2022-09-28T18:00:05.472Z"
   },
   {
    "duration": 40,
    "start_time": "2022-09-28T18:00:05.488Z"
   },
   {
    "duration": 22,
    "start_time": "2022-09-28T18:00:05.529Z"
   },
   {
    "duration": 9,
    "start_time": "2022-09-28T18:03:11.476Z"
   },
   {
    "duration": 58,
    "start_time": "2022-09-28T18:03:50.522Z"
   },
   {
    "duration": 435,
    "start_time": "2022-09-28T18:04:01.691Z"
   },
   {
    "duration": 156,
    "start_time": "2022-09-28T18:04:02.128Z"
   },
   {
    "duration": 17,
    "start_time": "2022-09-28T18:04:02.285Z"
   },
   {
    "duration": 32,
    "start_time": "2022-09-28T18:04:02.303Z"
   },
   {
    "duration": 3,
    "start_time": "2022-09-28T18:04:02.337Z"
   },
   {
    "duration": 8,
    "start_time": "2022-09-28T18:04:02.341Z"
   },
   {
    "duration": 17,
    "start_time": "2022-09-28T18:04:02.350Z"
   },
   {
    "duration": 13,
    "start_time": "2022-09-28T18:04:02.369Z"
   },
   {
    "duration": 42,
    "start_time": "2022-09-28T18:04:02.383Z"
   },
   {
    "duration": 26,
    "start_time": "2022-09-28T18:04:02.427Z"
   },
   {
    "duration": 21,
    "start_time": "2022-09-28T18:04:02.454Z"
   },
   {
    "duration": 84,
    "start_time": "2022-09-28T18:04:02.476Z"
   },
   {
    "duration": 74,
    "start_time": "2022-09-28T18:04:02.563Z"
   },
   {
    "duration": 82,
    "start_time": "2022-09-28T18:04:02.639Z"
   },
   {
    "duration": 44,
    "start_time": "2022-09-28T18:04:02.722Z"
   },
   {
    "duration": 12,
    "start_time": "2022-09-28T18:04:02.768Z"
   },
   {
    "duration": 74,
    "start_time": "2022-09-28T18:04:02.782Z"
   },
   {
    "duration": 15,
    "start_time": "2022-09-28T18:04:02.858Z"
   },
   {
    "duration": 32,
    "start_time": "2022-09-28T18:04:02.875Z"
   },
   {
    "duration": 23,
    "start_time": "2022-09-28T18:04:02.912Z"
   },
   {
    "duration": 37,
    "start_time": "2022-09-28T18:04:02.936Z"
   },
   {
    "duration": 32,
    "start_time": "2022-09-28T18:04:02.974Z"
   },
   {
    "duration": 35,
    "start_time": "2022-09-28T18:04:03.007Z"
   },
   {
    "duration": 29,
    "start_time": "2022-09-28T18:04:03.043Z"
   },
   {
    "duration": 16,
    "start_time": "2022-09-28T18:04:03.074Z"
   },
   {
    "duration": 30,
    "start_time": "2022-09-28T18:04:03.091Z"
   },
   {
    "duration": 28,
    "start_time": "2022-09-28T18:04:03.123Z"
   },
   {
    "duration": 10,
    "start_time": "2022-09-28T18:04:03.154Z"
   },
   {
    "duration": 25,
    "start_time": "2022-09-28T18:04:03.166Z"
   },
   {
    "duration": 409,
    "start_time": "2022-09-29T03:50:02.903Z"
   },
   {
    "duration": 491,
    "start_time": "2022-09-29T03:50:03.314Z"
   },
   {
    "duration": 18,
    "start_time": "2022-09-29T03:50:03.807Z"
   },
   {
    "duration": 36,
    "start_time": "2022-09-29T03:50:03.828Z"
   },
   {
    "duration": 2,
    "start_time": "2022-09-29T03:50:03.866Z"
   },
   {
    "duration": 7,
    "start_time": "2022-09-29T03:50:03.870Z"
   },
   {
    "duration": 18,
    "start_time": "2022-09-29T03:50:03.880Z"
   },
   {
    "duration": 6,
    "start_time": "2022-09-29T03:50:03.900Z"
   },
   {
    "duration": 29,
    "start_time": "2022-09-29T03:50:03.907Z"
   },
   {
    "duration": 54,
    "start_time": "2022-09-29T03:50:03.940Z"
   },
   {
    "duration": 28,
    "start_time": "2022-09-29T03:50:03.996Z"
   },
   {
    "duration": 94,
    "start_time": "2022-09-29T03:50:04.026Z"
   },
   {
    "duration": 92,
    "start_time": "2022-09-29T03:50:04.122Z"
   },
   {
    "duration": 64,
    "start_time": "2022-09-29T03:50:04.216Z"
   },
   {
    "duration": 46,
    "start_time": "2022-09-29T03:50:04.281Z"
   },
   {
    "duration": 25,
    "start_time": "2022-09-29T03:50:04.329Z"
   },
   {
    "duration": 54,
    "start_time": "2022-09-29T03:50:04.356Z"
   },
   {
    "duration": 12,
    "start_time": "2022-09-29T03:50:04.412Z"
   },
   {
    "duration": 12,
    "start_time": "2022-09-29T03:50:04.426Z"
   },
   {
    "duration": 4,
    "start_time": "2022-09-29T03:50:04.440Z"
   },
   {
    "duration": 45,
    "start_time": "2022-09-29T03:50:04.445Z"
   },
   {
    "duration": 17,
    "start_time": "2022-09-29T03:50:04.491Z"
   },
   {
    "duration": 17,
    "start_time": "2022-09-29T03:50:04.510Z"
   },
   {
    "duration": 20,
    "start_time": "2022-09-29T03:50:04.529Z"
   },
   {
    "duration": 44,
    "start_time": "2022-09-29T03:50:04.551Z"
   },
   {
    "duration": 17,
    "start_time": "2022-09-29T03:50:04.597Z"
   },
   {
    "duration": 27,
    "start_time": "2022-09-29T03:50:04.615Z"
   },
   {
    "duration": 11,
    "start_time": "2022-09-29T03:50:04.645Z"
   },
   {
    "duration": 38,
    "start_time": "2022-09-29T03:50:04.658Z"
   },
   {
    "duration": 5,
    "start_time": "2022-09-29T03:55:53.246Z"
   },
   {
    "duration": 411,
    "start_time": "2022-09-29T03:56:48.440Z"
   },
   {
    "duration": 210,
    "start_time": "2022-09-29T03:56:48.853Z"
   },
   {
    "duration": 25,
    "start_time": "2022-09-29T03:56:49.065Z"
   },
   {
    "duration": 40,
    "start_time": "2022-09-29T03:56:49.093Z"
   },
   {
    "duration": 3,
    "start_time": "2022-09-29T03:56:49.135Z"
   },
   {
    "duration": 22,
    "start_time": "2022-09-29T03:56:49.140Z"
   },
   {
    "duration": 37,
    "start_time": "2022-09-29T03:56:49.165Z"
   },
   {
    "duration": 11,
    "start_time": "2022-09-29T03:56:49.204Z"
   },
   {
    "duration": 33,
    "start_time": "2022-09-29T03:56:49.217Z"
   },
   {
    "duration": 27,
    "start_time": "2022-09-29T03:56:49.252Z"
   },
   {
    "duration": 26,
    "start_time": "2022-09-29T03:56:49.289Z"
   },
   {
    "duration": 97,
    "start_time": "2022-09-29T03:56:49.317Z"
   },
   {
    "duration": 90,
    "start_time": "2022-09-29T03:56:49.416Z"
   },
   {
    "duration": 68,
    "start_time": "2022-09-29T03:56:49.508Z"
   },
   {
    "duration": 52,
    "start_time": "2022-09-29T03:56:49.578Z"
   },
   {
    "duration": 11,
    "start_time": "2022-09-29T03:56:49.631Z"
   },
   {
    "duration": 56,
    "start_time": "2022-09-29T03:56:49.644Z"
   },
   {
    "duration": 19,
    "start_time": "2022-09-29T03:56:49.702Z"
   },
   {
    "duration": 19,
    "start_time": "2022-09-29T03:56:49.723Z"
   },
   {
    "duration": 5,
    "start_time": "2022-09-29T03:56:49.744Z"
   },
   {
    "duration": 49,
    "start_time": "2022-09-29T03:56:49.751Z"
   },
   {
    "duration": 18,
    "start_time": "2022-09-29T03:56:49.802Z"
   },
   {
    "duration": 26,
    "start_time": "2022-09-29T03:56:49.822Z"
   },
   {
    "duration": 50,
    "start_time": "2022-09-29T03:56:49.850Z"
   },
   {
    "duration": 26,
    "start_time": "2022-09-29T03:56:49.902Z"
   },
   {
    "duration": 18,
    "start_time": "2022-09-29T03:56:49.930Z"
   },
   {
    "duration": 59,
    "start_time": "2022-09-29T03:56:49.950Z"
   },
   {
    "duration": 12,
    "start_time": "2022-09-29T03:56:50.014Z"
   },
   {
    "duration": 30,
    "start_time": "2022-09-29T03:56:50.028Z"
   },
   {
    "duration": 7,
    "start_time": "2022-09-29T03:56:50.061Z"
   },
   {
    "duration": 27,
    "start_time": "2022-09-29T03:57:59.824Z"
   },
   {
    "duration": 13,
    "start_time": "2022-09-29T03:58:19.557Z"
   },
   {
    "duration": 6,
    "start_time": "2022-09-29T03:58:55.764Z"
   },
   {
    "duration": 11,
    "start_time": "2022-09-29T03:59:03.229Z"
   },
   {
    "duration": 30,
    "start_time": "2022-09-29T03:59:21.484Z"
   },
   {
    "duration": 409,
    "start_time": "2022-09-29T03:59:45.049Z"
   },
   {
    "duration": 184,
    "start_time": "2022-09-29T03:59:45.461Z"
   },
   {
    "duration": 17,
    "start_time": "2022-09-29T03:59:45.646Z"
   },
   {
    "duration": 40,
    "start_time": "2022-09-29T03:59:45.665Z"
   },
   {
    "duration": 2,
    "start_time": "2022-09-29T03:59:45.707Z"
   },
   {
    "duration": 7,
    "start_time": "2022-09-29T03:59:45.711Z"
   },
   {
    "duration": 14,
    "start_time": "2022-09-29T03:59:45.720Z"
   },
   {
    "duration": 6,
    "start_time": "2022-09-29T03:59:45.736Z"
   },
   {
    "duration": 49,
    "start_time": "2022-09-29T03:59:45.744Z"
   },
   {
    "duration": 23,
    "start_time": "2022-09-29T03:59:45.796Z"
   },
   {
    "duration": 25,
    "start_time": "2022-09-29T03:59:45.821Z"
   },
   {
    "duration": 90,
    "start_time": "2022-09-29T03:59:45.848Z"
   },
   {
    "duration": 83,
    "start_time": "2022-09-29T03:59:45.939Z"
   },
   {
    "duration": 72,
    "start_time": "2022-09-29T03:59:46.024Z"
   },
   {
    "duration": 43,
    "start_time": "2022-09-29T03:59:46.098Z"
   },
   {
    "duration": 11,
    "start_time": "2022-09-29T03:59:46.143Z"
   },
   {
    "duration": 58,
    "start_time": "2022-09-29T03:59:46.156Z"
   },
   {
    "duration": 14,
    "start_time": "2022-09-29T03:59:46.216Z"
   },
   {
    "duration": 12,
    "start_time": "2022-09-29T03:59:46.232Z"
   },
   {
    "duration": 5,
    "start_time": "2022-09-29T03:59:46.245Z"
   },
   {
    "duration": 47,
    "start_time": "2022-09-29T03:59:46.251Z"
   },
   {
    "duration": 18,
    "start_time": "2022-09-29T03:59:46.300Z"
   },
   {
    "duration": 17,
    "start_time": "2022-09-29T03:59:46.320Z"
   },
   {
    "duration": 17,
    "start_time": "2022-09-29T03:59:46.338Z"
   },
   {
    "duration": 41,
    "start_time": "2022-09-29T03:59:46.357Z"
   },
   {
    "duration": 16,
    "start_time": "2022-09-29T03:59:46.400Z"
   },
   {
    "duration": 24,
    "start_time": "2022-09-29T03:59:46.417Z"
   },
   {
    "duration": 11,
    "start_time": "2022-09-29T03:59:46.444Z"
   },
   {
    "duration": 37,
    "start_time": "2022-09-29T03:59:46.456Z"
   },
   {
    "duration": 4,
    "start_time": "2022-09-29T03:59:46.495Z"
   },
   {
    "duration": 21,
    "start_time": "2022-09-29T03:59:46.501Z"
   },
   {
    "duration": 12,
    "start_time": "2022-09-29T03:59:46.524Z"
   },
   {
    "duration": 19,
    "start_time": "2022-09-29T03:59:46.537Z"
   },
   {
    "duration": 41,
    "start_time": "2022-09-29T03:59:46.558Z"
   },
   {
    "duration": 16,
    "start_time": "2022-09-29T04:00:22.771Z"
   },
   {
    "duration": 17,
    "start_time": "2022-09-29T04:00:46.682Z"
   },
   {
    "duration": 377,
    "start_time": "2022-09-29T04:01:44.641Z"
   },
   {
    "duration": 193,
    "start_time": "2022-09-29T04:01:45.020Z"
   },
   {
    "duration": 19,
    "start_time": "2022-09-29T04:01:45.215Z"
   },
   {
    "duration": 35,
    "start_time": "2022-09-29T04:01:45.236Z"
   },
   {
    "duration": 16,
    "start_time": "2022-09-29T04:01:45.273Z"
   },
   {
    "duration": 6,
    "start_time": "2022-09-29T04:01:45.291Z"
   },
   {
    "duration": 14,
    "start_time": "2022-09-29T04:01:45.299Z"
   },
   {
    "duration": 9,
    "start_time": "2022-09-29T04:01:45.314Z"
   },
   {
    "duration": 29,
    "start_time": "2022-09-29T04:01:45.325Z"
   },
   {
    "duration": 60,
    "start_time": "2022-09-29T04:01:45.357Z"
   },
   {
    "duration": 33,
    "start_time": "2022-09-29T04:01:45.419Z"
   },
   {
    "duration": 89,
    "start_time": "2022-09-29T04:01:45.454Z"
   },
   {
    "duration": 82,
    "start_time": "2022-09-29T04:01:45.544Z"
   },
   {
    "duration": 77,
    "start_time": "2022-09-29T04:01:45.627Z"
   },
   {
    "duration": 45,
    "start_time": "2022-09-29T04:01:45.706Z"
   },
   {
    "duration": 12,
    "start_time": "2022-09-29T04:01:45.752Z"
   },
   {
    "duration": 59,
    "start_time": "2022-09-29T04:01:45.766Z"
   },
   {
    "duration": 12,
    "start_time": "2022-09-29T04:01:45.826Z"
   },
   {
    "duration": 13,
    "start_time": "2022-09-29T04:01:45.839Z"
   },
   {
    "duration": 4,
    "start_time": "2022-09-29T04:01:45.855Z"
   },
   {
    "duration": 19,
    "start_time": "2022-09-29T04:01:45.889Z"
   },
   {
    "duration": 18,
    "start_time": "2022-09-29T04:01:45.910Z"
   },
   {
    "duration": 17,
    "start_time": "2022-09-29T04:01:45.930Z"
   },
   {
    "duration": 47,
    "start_time": "2022-09-29T04:01:45.949Z"
   },
   {
    "duration": 18,
    "start_time": "2022-09-29T04:01:45.997Z"
   },
   {
    "duration": 17,
    "start_time": "2022-09-29T04:01:46.017Z"
   },
   {
    "duration": 26,
    "start_time": "2022-09-29T04:01:46.035Z"
   },
   {
    "duration": 12,
    "start_time": "2022-09-29T04:01:46.090Z"
   },
   {
    "duration": 12,
    "start_time": "2022-09-29T04:01:46.104Z"
   },
   {
    "duration": 5,
    "start_time": "2022-09-29T04:01:46.118Z"
   },
   {
    "duration": 24,
    "start_time": "2022-09-29T04:01:46.125Z"
   },
   {
    "duration": 44,
    "start_time": "2022-09-29T04:01:46.151Z"
   },
   {
    "duration": 21,
    "start_time": "2022-09-29T04:01:46.197Z"
   },
   {
    "duration": 13,
    "start_time": "2022-09-29T04:01:46.219Z"
   },
   {
    "duration": 11,
    "start_time": "2022-09-29T04:06:22.534Z"
   },
   {
    "duration": 457,
    "start_time": "2022-09-29T04:07:07.816Z"
   },
   {
    "duration": 234,
    "start_time": "2022-09-29T04:07:08.276Z"
   },
   {
    "duration": 19,
    "start_time": "2022-09-29T04:07:08.511Z"
   },
   {
    "duration": 41,
    "start_time": "2022-09-29T04:07:08.532Z"
   },
   {
    "duration": 16,
    "start_time": "2022-09-29T04:07:08.575Z"
   },
   {
    "duration": 17,
    "start_time": "2022-09-29T04:07:08.594Z"
   },
   {
    "duration": 14,
    "start_time": "2022-09-29T04:07:08.613Z"
   },
   {
    "duration": 8,
    "start_time": "2022-09-29T04:07:08.630Z"
   },
   {
    "duration": 34,
    "start_time": "2022-09-29T04:07:08.639Z"
   },
   {
    "duration": 30,
    "start_time": "2022-09-29T04:07:08.690Z"
   },
   {
    "duration": 31,
    "start_time": "2022-09-29T04:07:08.722Z"
   },
   {
    "duration": 97,
    "start_time": "2022-09-29T04:07:08.755Z"
   },
   {
    "duration": 94,
    "start_time": "2022-09-29T04:07:08.853Z"
   },
   {
    "duration": 82,
    "start_time": "2022-09-29T04:07:08.949Z"
   },
   {
    "duration": 65,
    "start_time": "2022-09-29T04:07:09.033Z"
   },
   {
    "duration": 14,
    "start_time": "2022-09-29T04:07:09.101Z"
   },
   {
    "duration": 51,
    "start_time": "2022-09-29T04:07:09.117Z"
   },
   {
    "duration": 31,
    "start_time": "2022-09-29T04:07:09.170Z"
   },
   {
    "duration": 14,
    "start_time": "2022-09-29T04:07:09.203Z"
   },
   {
    "duration": 12,
    "start_time": "2022-09-29T04:07:09.219Z"
   },
   {
    "duration": 29,
    "start_time": "2022-09-29T04:07:09.233Z"
   },
   {
    "duration": 32,
    "start_time": "2022-09-29T04:07:09.264Z"
   },
   {
    "duration": 19,
    "start_time": "2022-09-29T04:07:09.298Z"
   },
   {
    "duration": 18,
    "start_time": "2022-09-29T04:07:09.319Z"
   },
   {
    "duration": 20,
    "start_time": "2022-09-29T04:07:09.339Z"
   },
   {
    "duration": 29,
    "start_time": "2022-09-29T04:07:09.392Z"
   },
   {
    "duration": 27,
    "start_time": "2022-09-29T04:07:09.423Z"
   },
   {
    "duration": 36,
    "start_time": "2022-09-29T04:07:09.453Z"
   },
   {
    "duration": 15,
    "start_time": "2022-09-29T04:07:09.492Z"
   },
   {
    "duration": 9,
    "start_time": "2022-09-29T04:07:09.509Z"
   },
   {
    "duration": 51,
    "start_time": "2022-09-29T04:07:09.520Z"
   },
   {
    "duration": 20,
    "start_time": "2022-09-29T04:07:09.574Z"
   },
   {
    "duration": 33,
    "start_time": "2022-09-29T04:07:09.596Z"
   },
   {
    "duration": 21,
    "start_time": "2022-09-29T04:07:09.631Z"
   },
   {
    "duration": 35,
    "start_time": "2022-09-29T04:07:09.654Z"
   },
   {
    "duration": 11,
    "start_time": "2022-09-29T04:07:09.691Z"
   },
   {
    "duration": 9,
    "start_time": "2022-09-29T04:07:44.097Z"
   },
   {
    "duration": 401,
    "start_time": "2022-09-29T04:08:50.050Z"
   },
   {
    "duration": 182,
    "start_time": "2022-09-29T04:08:50.453Z"
   },
   {
    "duration": 19,
    "start_time": "2022-09-29T04:08:50.637Z"
   },
   {
    "duration": 41,
    "start_time": "2022-09-29T04:08:50.658Z"
   },
   {
    "duration": 2,
    "start_time": "2022-09-29T04:08:50.701Z"
   },
   {
    "duration": 8,
    "start_time": "2022-09-29T04:08:50.705Z"
   },
   {
    "duration": 14,
    "start_time": "2022-09-29T04:08:50.714Z"
   },
   {
    "duration": 18,
    "start_time": "2022-09-29T04:08:50.731Z"
   },
   {
    "duration": 42,
    "start_time": "2022-09-29T04:08:50.751Z"
   },
   {
    "duration": 38,
    "start_time": "2022-09-29T04:08:50.796Z"
   },
   {
    "duration": 28,
    "start_time": "2022-09-29T04:08:50.836Z"
   },
   {
    "duration": 94,
    "start_time": "2022-09-29T04:08:50.866Z"
   },
   {
    "duration": 89,
    "start_time": "2022-09-29T04:08:50.962Z"
   },
   {
    "duration": 77,
    "start_time": "2022-09-29T04:08:51.053Z"
   },
   {
    "duration": 41,
    "start_time": "2022-09-29T04:08:51.132Z"
   },
   {
    "duration": 20,
    "start_time": "2022-09-29T04:08:51.175Z"
   },
   {
    "duration": 47,
    "start_time": "2022-09-29T04:08:51.197Z"
   },
   {
    "duration": 14,
    "start_time": "2022-09-29T04:08:51.247Z"
   },
   {
    "duration": 35,
    "start_time": "2022-09-29T04:08:51.262Z"
   },
   {
    "duration": 5,
    "start_time": "2022-09-29T04:08:51.298Z"
   },
   {
    "duration": 22,
    "start_time": "2022-09-29T04:08:51.304Z"
   },
   {
    "duration": 17,
    "start_time": "2022-09-29T04:08:51.328Z"
   },
   {
    "duration": 48,
    "start_time": "2022-09-29T04:08:51.347Z"
   },
   {
    "duration": 21,
    "start_time": "2022-09-29T04:08:51.398Z"
   },
   {
    "duration": 25,
    "start_time": "2022-09-29T04:08:51.420Z"
   },
   {
    "duration": 43,
    "start_time": "2022-09-29T04:08:51.447Z"
   },
   {
    "duration": 28,
    "start_time": "2022-09-29T04:08:51.492Z"
   },
   {
    "duration": 11,
    "start_time": "2022-09-29T04:08:51.523Z"
   },
   {
    "duration": 10,
    "start_time": "2022-09-29T04:08:51.536Z"
   },
   {
    "duration": 4,
    "start_time": "2022-09-29T04:08:51.548Z"
   },
   {
    "duration": 48,
    "start_time": "2022-09-29T04:08:51.554Z"
   },
   {
    "duration": 12,
    "start_time": "2022-09-29T04:08:51.603Z"
   },
   {
    "duration": 20,
    "start_time": "2022-09-29T04:08:51.617Z"
   },
   {
    "duration": 14,
    "start_time": "2022-09-29T04:08:51.638Z"
   },
   {
    "duration": 42,
    "start_time": "2022-09-29T04:08:51.654Z"
   },
   {
    "duration": 5,
    "start_time": "2022-09-29T04:08:51.698Z"
   },
   {
    "duration": 8,
    "start_time": "2022-09-29T04:08:51.705Z"
   },
   {
    "duration": 5,
    "start_time": "2022-09-29T04:08:51.715Z"
   }
  ],
  "colab": {
   "collapsed_sections": [
    "E0vqbgi9ay0H",
    "VUC88oWjTJw2"
   ],
   "name": "automatization_template_upd4.ipynb",
   "provenance": []
  },
  "kernelspec": {
   "display_name": "Python 3 (ipykernel)",
   "language": "python",
   "name": "python3"
  },
  "language_info": {
   "codemirror_mode": {
    "name": "ipython",
    "version": 3
   },
   "file_extension": ".py",
   "mimetype": "text/x-python",
   "name": "python",
   "nbconvert_exporter": "python",
   "pygments_lexer": "ipython3",
   "version": "3.10.4"
  },
  "toc": {
   "base_numbering": 1,
   "nav_menu": {
    "height": "215px",
    "width": "403px"
   },
   "number_sections": true,
   "sideBar": true,
   "skip_h1_title": true,
   "title_cell": "Table of Contents",
   "title_sidebar": "Contents",
   "toc_cell": false,
   "toc_position": {
    "height": "calc(100% - 180px)",
    "left": "10px",
    "top": "150px",
    "width": "285.825px"
   },
   "toc_section_display": true,
   "toc_window_display": false
  }
 },
 "nbformat": 4,
 "nbformat_minor": 1
}
