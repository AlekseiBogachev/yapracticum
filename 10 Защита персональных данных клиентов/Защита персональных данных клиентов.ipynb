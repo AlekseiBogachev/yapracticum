{
 "cells": [
  {
   "cell_type": "markdown",
   "metadata": {},
   "source": [
    "# Защита персональных данных клиентов"
   ]
  },
  {
   "cell_type": "markdown",
   "metadata": {
    "toc": true
   },
   "source": [
    "<h1>Содержание<span class=\"tocSkip\"></span></h1>\n",
    "<div class=\"toc\"><ul class=\"toc-item\"><li><span><a href=\"#Описание-проекта\" data-toc-modified-id=\"Описание-проекта-1\"><span class=\"toc-item-num\">1&nbsp;&nbsp;</span>Описание проекта</a></span></li><li><span><a href=\"#Импорт\" data-toc-modified-id=\"Импорт-2\"><span class=\"toc-item-num\">2&nbsp;&nbsp;</span>Импорт</a></span></li><li><span><a href=\"#Загрузка-данных\" data-toc-modified-id=\"Загрузка-данных-3\"><span class=\"toc-item-num\">3&nbsp;&nbsp;</span>Загрузка данных</a></span></li><li><span><a href=\"#Исследовательский-анализ\" data-toc-modified-id=\"Исследовательский-анализ-4\"><span class=\"toc-item-num\">4&nbsp;&nbsp;</span>Исследовательский анализ</a></span></li><li><span><a href=\"#Подготовка-данных\" data-toc-modified-id=\"Подготовка-данных-5\"><span class=\"toc-item-num\">5&nbsp;&nbsp;</span>Подготовка данных</a></span></li><li><span><a href=\"#Умножение-матриц\" data-toc-modified-id=\"Умножение-матриц-6\"><span class=\"toc-item-num\">6&nbsp;&nbsp;</span>Умножение матриц</a></span></li><li><span><a href=\"#Алгоритм-преобразования\" data-toc-modified-id=\"Алгоритм-преобразования-7\"><span class=\"toc-item-num\">7&nbsp;&nbsp;</span>Алгоритм преобразования</a></span></li><li><span><a href=\"#Проверка-алгоритма\" data-toc-modified-id=\"Проверка-алгоритма-8\"><span class=\"toc-item-num\">8&nbsp;&nbsp;</span>Проверка алгоритма</a></span></li><li><span><a href=\"#Чек-лист-проверки\" data-toc-modified-id=\"Чек-лист-проверки-9\"><span class=\"toc-item-num\">9&nbsp;&nbsp;</span>Чек-лист проверки</a></span></li></ul></div>"
   ]
  },
  {
   "cell_type": "markdown",
   "metadata": {},
   "source": [
    "## Описание проекта"
   ]
  },
  {
   "cell_type": "markdown",
   "metadata": {},
   "source": [
    "Необходимо защитить данные клиентов страховой компании «Хоть потоп». Для этого нужно разработать такой метод преобразования данных, чтобы по ним было сложно восстановить персональную информацию, и обосновать корректность его работы.\n",
    "\n",
    "Нужно защитить данные так, чтобы при преобразовании качество моделей машинного обучения не ухудшилось. Подбирать наилучшую модель не требуется."
   ]
  },
  {
   "cell_type": "markdown",
   "metadata": {},
   "source": [
    "## Импорт"
   ]
  },
  {
   "cell_type": "code",
   "execution_count": 1,
   "metadata": {},
   "outputs": [],
   "source": [
    "import matplotlib.pyplot as plt\n",
    "import numpy as np\n",
    "import pandas as pd\n",
    "from pandas.plotting import scatter_matrix\n",
    "import seaborn as sns\n",
    "from sklearn.base import BaseEstimator, TransformerMixin\n",
    "from sklearn.linear_model import LinearRegression\n",
    "from sklearn.pipeline import Pipeline\n",
    "from sklearn.preprocessing import StandardScaler\n",
    "\n",
    "\n",
    "%matplotlib inline"
   ]
  },
  {
   "cell_type": "markdown",
   "metadata": {},
   "source": [
    "## Загрузка данных"
   ]
  },
  {
   "cell_type": "code",
   "execution_count": 2,
   "metadata": {},
   "outputs": [],
   "source": [
    "try:\n",
    "    data = pd.read_csv('/datasets/insurance.csv')\n",
    "except:\n",
    "    data = pd.read_csv('https://code.s3.yandex.net/datasets/insurance.csv')"
   ]
  },
  {
   "cell_type": "markdown",
   "metadata": {},
   "source": [
    "Выведем первые 10 строк датафрейма."
   ]
  },
  {
   "cell_type": "code",
   "execution_count": 3,
   "metadata": {},
   "outputs": [
    {
     "data": {
      "text/html": [
       "<div>\n",
       "<style scoped>\n",
       "    .dataframe tbody tr th:only-of-type {\n",
       "        vertical-align: middle;\n",
       "    }\n",
       "\n",
       "    .dataframe tbody tr th {\n",
       "        vertical-align: top;\n",
       "    }\n",
       "\n",
       "    .dataframe thead th {\n",
       "        text-align: right;\n",
       "    }\n",
       "</style>\n",
       "<table border=\"1\" class=\"dataframe\">\n",
       "  <thead>\n",
       "    <tr style=\"text-align: right;\">\n",
       "      <th></th>\n",
       "      <th>Пол</th>\n",
       "      <th>Возраст</th>\n",
       "      <th>Зарплата</th>\n",
       "      <th>Члены семьи</th>\n",
       "      <th>Страховые выплаты</th>\n",
       "    </tr>\n",
       "  </thead>\n",
       "  <tbody>\n",
       "    <tr>\n",
       "      <th>0</th>\n",
       "      <td>1</td>\n",
       "      <td>41.0</td>\n",
       "      <td>49600.0</td>\n",
       "      <td>1</td>\n",
       "      <td>0</td>\n",
       "    </tr>\n",
       "    <tr>\n",
       "      <th>1</th>\n",
       "      <td>0</td>\n",
       "      <td>46.0</td>\n",
       "      <td>38000.0</td>\n",
       "      <td>1</td>\n",
       "      <td>1</td>\n",
       "    </tr>\n",
       "    <tr>\n",
       "      <th>2</th>\n",
       "      <td>0</td>\n",
       "      <td>29.0</td>\n",
       "      <td>21000.0</td>\n",
       "      <td>0</td>\n",
       "      <td>0</td>\n",
       "    </tr>\n",
       "    <tr>\n",
       "      <th>3</th>\n",
       "      <td>0</td>\n",
       "      <td>21.0</td>\n",
       "      <td>41700.0</td>\n",
       "      <td>2</td>\n",
       "      <td>0</td>\n",
       "    </tr>\n",
       "    <tr>\n",
       "      <th>4</th>\n",
       "      <td>1</td>\n",
       "      <td>28.0</td>\n",
       "      <td>26100.0</td>\n",
       "      <td>0</td>\n",
       "      <td>0</td>\n",
       "    </tr>\n",
       "    <tr>\n",
       "      <th>5</th>\n",
       "      <td>1</td>\n",
       "      <td>43.0</td>\n",
       "      <td>41000.0</td>\n",
       "      <td>2</td>\n",
       "      <td>1</td>\n",
       "    </tr>\n",
       "    <tr>\n",
       "      <th>6</th>\n",
       "      <td>1</td>\n",
       "      <td>39.0</td>\n",
       "      <td>39700.0</td>\n",
       "      <td>2</td>\n",
       "      <td>0</td>\n",
       "    </tr>\n",
       "    <tr>\n",
       "      <th>7</th>\n",
       "      <td>1</td>\n",
       "      <td>25.0</td>\n",
       "      <td>38600.0</td>\n",
       "      <td>4</td>\n",
       "      <td>0</td>\n",
       "    </tr>\n",
       "    <tr>\n",
       "      <th>8</th>\n",
       "      <td>1</td>\n",
       "      <td>36.0</td>\n",
       "      <td>49700.0</td>\n",
       "      <td>1</td>\n",
       "      <td>0</td>\n",
       "    </tr>\n",
       "    <tr>\n",
       "      <th>9</th>\n",
       "      <td>1</td>\n",
       "      <td>32.0</td>\n",
       "      <td>51700.0</td>\n",
       "      <td>1</td>\n",
       "      <td>0</td>\n",
       "    </tr>\n",
       "  </tbody>\n",
       "</table>\n",
       "</div>"
      ],
      "text/plain": [
       "   Пол  Возраст  Зарплата  Члены семьи  Страховые выплаты\n",
       "0    1     41.0   49600.0            1                  0\n",
       "1    0     46.0   38000.0            1                  1\n",
       "2    0     29.0   21000.0            0                  0\n",
       "3    0     21.0   41700.0            2                  0\n",
       "4    1     28.0   26100.0            0                  0\n",
       "5    1     43.0   41000.0            2                  1\n",
       "6    1     39.0   39700.0            2                  0\n",
       "7    1     25.0   38600.0            4                  0\n",
       "8    1     36.0   49700.0            1                  0\n",
       "9    1     32.0   51700.0            1                  0"
      ]
     },
     "execution_count": 3,
     "metadata": {},
     "output_type": "execute_result"
    }
   ],
   "source": [
    "data.head(10)"
   ]
  },
  {
   "cell_type": "markdown",
   "metadata": {},
   "source": [
    "Выведем общую информацию о датафрейме."
   ]
  },
  {
   "cell_type": "code",
   "execution_count": 4,
   "metadata": {},
   "outputs": [
    {
     "name": "stdout",
     "output_type": "stream",
     "text": [
      "<class 'pandas.core.frame.DataFrame'>\n",
      "RangeIndex: 5000 entries, 0 to 4999\n",
      "Data columns (total 5 columns):\n",
      " #   Column             Non-Null Count  Dtype  \n",
      "---  ------             --------------  -----  \n",
      " 0   Пол                5000 non-null   int64  \n",
      " 1   Возраст            5000 non-null   float64\n",
      " 2   Зарплата           5000 non-null   float64\n",
      " 3   Члены семьи        5000 non-null   int64  \n",
      " 4   Страховые выплаты  5000 non-null   int64  \n",
      "dtypes: float64(2), int64(3)\n",
      "memory usage: 195.4 KB\n"
     ]
    }
   ],
   "source": [
    "data.info()"
   ]
  },
  {
   "cell_type": "markdown",
   "metadata": {},
   "source": [
    "Данные не содержат пропусков. Типы данных указаны верно, с оговоркой, что признак `Пол` категориальный, остальные численные.\n",
    "\n",
    "Из контекста задачи очевидно, что **`Страховые выплаты` - целевой признак**."
   ]
  },
  {
   "cell_type": "markdown",
   "metadata": {},
   "source": [
    "## Исследовательский анализ\n",
    "Выведем гистограммы распределений числовых признаков."
   ]
  },
  {
   "cell_type": "code",
   "execution_count": 5,
   "metadata": {
    "scrolled": false
   },
   "outputs": [
    {
     "data": {
      "image/png": "[encoded data removed]",
      "text/plain": [
       "<Figure size 504x504 with 4 Axes>"
      ]
     },
     "metadata": {
      "needs_background": "light"
     },
     "output_type": "display_data"
    }
   ],
   "source": [
    "data.drop(columns='Пол').hist(figsize=(7, 7))\n",
    "\n",
    "plt.show()"
   ]
  },
  {
   "cell_type": "markdown",
   "metadata": {},
   "source": [
    "Построим диаграммы рассеяния для каждой пары числовых признаков, чтобы оценить наличие корреляции между ними."
   ]
  },
  {
   "cell_type": "code",
   "execution_count": 6,
   "metadata": {},
   "outputs": [
    {
     "data": {
      "image/png": "[encoded data removed]",
      "text/plain": [
       "<Figure size 720x720 with 16 Axes>"
      ]
     },
     "metadata": {
      "needs_background": "light"
     },
     "output_type": "display_data"
    }
   ],
   "source": [
    "scatter_matrix(data.drop(columns='Пол'), figsize=(10, 10), alpha=0.2)\n",
    "plt.show()"
   ]
  },
  {
   "cell_type": "markdown",
   "metadata": {},
   "source": [
    "Похоже, что небольшая корреляция есть между признаком `Возраст` и целевым признаком `Страховые выплаты`. При этом признаки меют разный масштаб, возможно, потребуется стандартизация значенией перед выполнением регрессии.\n",
    "\n",
    "Набор данных содержит один категориальный признак `Пол`. Проверим различаются ли количества страховых выплат для мужчин и женщин."
   ]
  },
  {
   "cell_type": "code",
   "execution_count": 7,
   "metadata": {},
   "outputs": [
    {
     "data": {
      "text/html": [
       "<div>\n",
       "<style scoped>\n",
       "    .dataframe tbody tr th:only-of-type {\n",
       "        vertical-align: middle;\n",
       "    }\n",
       "\n",
       "    .dataframe tbody tr th {\n",
       "        vertical-align: top;\n",
       "    }\n",
       "\n",
       "    .dataframe thead tr th {\n",
       "        text-align: left;\n",
       "    }\n",
       "\n",
       "    .dataframe thead tr:last-of-type th {\n",
       "        text-align: right;\n",
       "    }\n",
       "</style>\n",
       "<table border=\"1\" class=\"dataframe\">\n",
       "  <thead>\n",
       "    <tr>\n",
       "      <th></th>\n",
       "      <th colspan=\"4\" halign=\"left\">Страховые выплаты</th>\n",
       "    </tr>\n",
       "    <tr>\n",
       "      <th></th>\n",
       "      <th>min</th>\n",
       "      <th>mean</th>\n",
       "      <th>median</th>\n",
       "      <th>max</th>\n",
       "    </tr>\n",
       "    <tr>\n",
       "      <th>Пол</th>\n",
       "      <th></th>\n",
       "      <th></th>\n",
       "      <th></th>\n",
       "      <th></th>\n",
       "    </tr>\n",
       "  </thead>\n",
       "  <tbody>\n",
       "    <tr>\n",
       "      <th>0</th>\n",
       "      <td>0</td>\n",
       "      <td>0.143313</td>\n",
       "      <td>0</td>\n",
       "      <td>4</td>\n",
       "    </tr>\n",
       "    <tr>\n",
       "      <th>1</th>\n",
       "      <td>0</td>\n",
       "      <td>0.152705</td>\n",
       "      <td>0</td>\n",
       "      <td>5</td>\n",
       "    </tr>\n",
       "  </tbody>\n",
       "</table>\n",
       "</div>"
      ],
      "text/plain": [
       "    Страховые выплаты                     \n",
       "                  min      mean median max\n",
       "Пол                                       \n",
       "0                   0  0.143313      0   4\n",
       "1                   0  0.152705      0   5"
      ]
     },
     "execution_count": 7,
     "metadata": {},
     "output_type": "execute_result"
    }
   ],
   "source": [
    "data.groupby('Пол')[['Страховые выплаты']].agg(['min', 'mean', 'median', 'max'])"
   ]
  },
  {
   "cell_type": "markdown",
   "metadata": {},
   "source": [
    "Похоже, что количество страховых выплат для мужчин и женщин не различается.\n",
    "\n",
    "Выведем на экран матрицу корреляции, чтобы окончательно убедиться, что корреляция есть только между признаком `Возраст` и целевым признаком `Страховые выплаты`. Будем вычислять коэффициент корреляции Кенделла, так как в наборе данных есть категориальный признак."
   ]
  },
  {
   "cell_type": "code",
   "execution_count": 8,
   "metadata": {},
   "outputs": [
    {
     "data": {
      "image/png": "[encoded data removed]",
      "text/plain": [
       "<Figure size 504x504 with 2 Axes>"
      ]
     },
     "metadata": {
      "needs_background": "light"
     },
     "output_type": "display_data"
    }
   ],
   "source": [
    "corr = data.corr(method='kendall')\n",
    "\n",
    "mask = np.triu(np.ones_like(corr, dtype=bool))\n",
    "\n",
    "f, ax = plt.subplots(figsize=(7, 7))\n",
    "\n",
    "cmap = sns.diverging_palette(230, 20, as_cmap=True)\n",
    "\n",
    "sns.heatmap(corr,\n",
    "            mask=mask,\n",
    "            cmap=cmap,\n",
    "            annot=True,\n",
    "            vmax=0.5,\n",
    "            vmin=-0.5,\n",
    "            center=0.0,\n",
    "            square=True,\n",
    "            linewidths=1.0,\n",
    "            cbar_kws={'shrink': 0.5},\n",
    "            ax=ax\n",
    "           )\n",
    "\n",
    "ax.set_title('Матрица корреляции')\n",
    "\n",
    "plt.show()"
   ]
  },
  {
   "cell_type": "markdown",
   "metadata": {},
   "source": [
    "Корреляция наблюдается только между целевым признаком `Страховые выплаты` и признаком `Возраст`."
   ]
  },
  {
   "cell_type": "markdown",
   "metadata": {},
   "source": [
    "## Подготовка данных\n",
    "Разделим набор данных на матрицу признаков `X` и целевой вектор `y`."
   ]
  },
  {
   "cell_type": "code",
   "execution_count": 9,
   "metadata": {},
   "outputs": [],
   "source": [
    "X = data.drop(columns='Страховые выплаты').to_numpy()\n",
    "y = data['Страховые выплаты'].to_numpy()"
   ]
  },
  {
   "cell_type": "markdown",
   "metadata": {},
   "source": [
    "## Умножение матриц"
   ]
  },
  {
   "cell_type": "markdown",
   "metadata": {},
   "source": [
    "*Изменится ли качество линейной регрессии, если признаки умножить на обратимую матрицу?*\n",
    "\n",
    "**Ответ:** Не изменится.\n",
    "\n",
    "**Обоснование:** \n",
    "\n",
    "Введём следующие обозначения:\n",
    "\n",
    "$X = \\left(\\begin{array}{c}\n",
    "           1   & x_{01} & x_{02} & ... & x_{0n} \\\\ \n",
    "           1   & x_{11} & x_{12} & ... & x_{1n} \\\\\n",
    "           ... & ...    & ...    & ... & ...    \\\\\n",
    "           1   & x_{m1} & x_{m2} & ... & x_{mn}\n",
    "\\end{array}\\right)$ — матрица признаков;\n",
    "\n",
    "$y = \\left(\\begin{array}{c} y_{0} \\\\ y_{1} \\\\ ... \\\\ y_{m} \\end{array}\\right)$ — вектор целевого признака;\n",
    "\n",
    "$P = \\left(\\begin{array}{c}\n",
    "           1   & p_{01} & p_{02} & ... & p_{0n} \\\\ \n",
    "           1   & p_{11} & p_{12} & ... & p_{1n} \\\\\n",
    "           ... & ...    & ...    & ... & ...    \\\\\n",
    "           1   & p_{n1} & p_{n2} & ... & p_{nn}\n",
    "\\end{array}\\right)$ — обратиая матрица, на которую умножаются признаки;\n",
    "\n",
    "$w = \\left(\\begin{array}{c} w_{0} \\\\ w_{1} \\\\ ... \\\\ w_{n} \\end{array}\\right)$ — вектор весов линейной регрессии."
   ]
  },
  {
   "cell_type": "markdown",
   "metadata": {},
   "source": [
    "Предсказания модели линейной регрессии вычисляют по следующей формуле:\n",
    "\n",
    "$$ \\hat{y} = Xw \\;.$$\n",
    "\n",
    "Задача обучения формулируется следующим образом:\n",
    "\n",
    "$$ w = \\arg\\min_w MSE(\\hat{y}, y) $$\n",
    "\n",
    "$$ w = \\arg\\min_w MSE(Xw, y) \\;, $$ тогда формула обучения имеет вид выражения\n",
    "\n",
    "$$ w = (X^T X)^{-1} X^T y $$"
   ]
  },
  {
   "cell_type": "markdown",
   "metadata": {},
   "source": [
    "Предположим, что, если умножить признаки $X$ на обратимую матрицу $P$, то предсказания модели будут иметь следующий вид: \n",
    "\n",
    "$$ \\hat{y}^\\star = (XP)w^\\star \\;,\\: где $$\n",
    "\n",
    "$w^\\star$ — вектор весов линейной регрессии, выполненной после перемножения признаков $X$ на обратимую матрицу $P$.\n",
    "\n",
    "Чтобы доказать, что умножение $X$ на $P$ не изменяет качество линейной регрессии, покажем, что $\\hat{y}=\\hat{y}^\\star$."
   ]
  },
  {
   "cell_type": "markdown",
   "metadata": {},
   "source": [
    "Cформулируем задачу обучения для $w^\\star$\n",
    "\n",
    "$$ w^\\star = \\arg\\min_{w^\\star} MSE(\\hat{y}^\\star, y) $$\n",
    "\n",
    "$$ w^\\star = \\arg\\min_{w^\\star} MSE((XP)w^\\star, y) $$"
   ]
  },
  {
   "cell_type": "markdown",
   "metadata": {},
   "source": [
    "Формула обучения, если вместо $X$ подставить $XP$, а вместо $w$ подставить $w^\\star$ примет следующий вид:\n",
    "\n",
    "$$ w^\\star = ((XP)^T (XP))^{-1} (XP)^T y $$\n",
    "\n",
    "\n",
    "Воспользуемся свойством ассоциативности умножения матриц и перегруппируем скобки под знаком возведения в степень $-1$:\n",
    "\n",
    "$$ w^\\star = \\left(\\left((XP)^T X\\right) P\\right)^{-1} (XP)^T y $$\n",
    "\n",
    "Раскроем внешние скобки:\n",
    "\n",
    "$$ w^\\star = P^{-1}\\left((XP)^T X\\right)^{-1} P^T X^T y $$\n",
    "\n",
    "Раскроем скобку $(XP)^T$:\n",
    "\n",
    "$$ w^\\star = P^{-1}\\left(P^T X^T X\\right)^{-1} P^T X^T y $$\n",
    "\n",
    "Сгруппируем $X^T X$ и раскроем скобку $ \\left(P^T (X^T X)\\right)^{-1} $:\n",
    "\n",
    "$$ w^\\star = P^{-1}\\left(X^T X\\right)^{-1} \\left(P^T\\right)^{-1} P^T X^T y $$\n",
    "\n",
    "Сократим $\\left(P^T\\right)^{-1}$ и $P^T$:\n",
    "\n",
    "$$ w^\\star = P^{-1}\\left(X^T X\\right)^{-1} X^T y $$\n",
    "\n",
    "В правой части равенства выполним замену $(X^T X)^{-1} X^T y$ на $w$:\n",
    "\n",
    "$$ w^\\star = P^{-1} w $$\n",
    "\n",
    "**Мы нашли связь между параметрами линейной регресси исходной задачи и преобразованной $ w^\\star = P^{-1} w $**."
   ]
  },
  {
   "cell_type": "markdown",
   "metadata": {},
   "source": [
    "Подставим полученное выражение в формулу предсказаний линейной регрессии преобразованной задачи \n",
    "$ \\hat{y}^\\star = (XP)w^\\star $:\n",
    "\n",
    "$$ \\hat{y}^\\star = (XP)P^{-1}w $$\n",
    "\n",
    "Уберём скобки и сократим $P$:\n",
    "\n",
    "$$ \\hat{y}^\\star = Xw $$\n",
    "\n",
    "**Таким образом, мы получили $ \\hat{y}^\\star = \\hat{y} \\;, $ что и требовалось доказать.**"
   ]
  },
  {
   "cell_type": "markdown",
   "metadata": {},
   "source": [
    "## Алгоритм преобразования"
   ]
  },
  {
   "cell_type": "markdown",
   "metadata": {},
   "source": [
    "**Алгоритм**\n",
    "\n",
    "Для защиты данных клиентов предложим следующий алгоритм преобразования:\n",
    "1. Генерируется матрица $P$, заполненная слчайными числами, размерности $n\\times n$, где $n$ - равно количеству обучающих признаков.\n",
    "2. Проверяем обратима ли матрица $P$, если она оказалась необратимой (вероятность такого события мала) повторяем шаг 1.\n",
    "2. Матрица признаков $X$ умножается на полученную матрицу $P$, вектор целевого признака $y$ остаётся без изменеий.\n",
    "3. После этого можно приступить к линейной регрессии, используя в качестве матрицы признаков $X^\\star = XP$, а $y$ - в качестве вектора целевого признака."
   ]
  },
  {
   "cell_type": "markdown",
   "metadata": {},
   "source": [
    "**Обоснование**\n",
    "\n",
    "В разделе 5, мы показали, что умножение матрицы признаков на обратимую матрицу $P$ не влияет на результат линейной регрессии, то есть $ \\hat{y}^\\star = \\hat{y} $. Изменяются только коэффициенты линейной регрессии, при этом коэффициенты линейной регрессии в исходной и преобразованной задачах связаны следующим выражением: $ w^\\star = P^{-1} w $.\n",
    "\n",
    "Считается, что вероятность того, что случайно сгенерированная матрица $P$ окажется необратимой мала. Проверка $P$ на обратимость полностью исключает такую ситуацию,"
   ]
  },
  {
   "cell_type": "markdown",
   "metadata": {},
   "source": [
    "## Проверка алгоритма"
   ]
  },
  {
   "cell_type": "markdown",
   "metadata": {},
   "source": [
    "Проверим, что качество линейной регрессии из `sklearn` не отличается до и после преобразования.\n",
    "\n",
    "Напишем трансформер для `sklearn`, который будет вычислять $X^\\star = XP$."
   ]
  },
  {
   "cell_type": "code",
   "execution_count": 10,
   "metadata": {},
   "outputs": [],
   "source": [
    "class DataProtector(BaseEstimator, TransformerMixin):\n",
    "    \n",
    "    def fit(self, X, y=None):\n",
    "        self._p_matrix = np.random.normal(size=([X.shape[1]] * 2))\n",
    "        \n",
    "        while True:\n",
    "            try:\n",
    "                inv_p_matrix = np.linalg.inv(self._p_matrix)\n",
    "            except np.linalg.LinAlgError:\n",
    "                pass\n",
    "            else:\n",
    "                return self\n",
    "            \n",
    "    def transform(self, X, y=None):\n",
    "        return X @ self._p_matrix"
   ]
  },
  {
   "cell_type": "markdown",
   "metadata": {},
   "source": [
    "Напишем пайплайн, осуществляющий преобразование данных и линейную регрессию."
   ]
  },
  {
   "cell_type": "code",
   "execution_count": 11,
   "metadata": {},
   "outputs": [],
   "source": [
    "pipe = Pipeline([\n",
    "    ('data_protector', DataProtector()),\n",
    "    ('scaler', StandardScaler()),\n",
    "    ('lin_regr', LinearRegression())\n",
    "])"
   ]
  },
  {
   "cell_type": "markdown",
   "metadata": {},
   "source": [
    "Проверим значение метрики *R2* для разработанной модели."
   ]
  },
  {
   "cell_type": "code",
   "execution_count": 12,
   "metadata": {},
   "outputs": [
    {
     "name": "stdout",
     "output_type": "stream",
     "text": [
      "Значение метрики R2 для модели с преобразоваением для защиты данных: 0.4249\n"
     ]
    }
   ],
   "source": [
    "print(f'Значение метрики R2 для модели с преобразоваением для защиты данных: {pipe.fit(X, y).score(X, y):.4f}')"
   ]
  },
  {
   "cell_type": "markdown",
   "metadata": {},
   "source": [
    "Теперь, уберём из конвейра шаг с преобразованием для защиты данных и повторно оценим метрику *R2*."
   ]
  },
  {
   "cell_type": "code",
   "execution_count": 13,
   "metadata": {},
   "outputs": [
    {
     "name": "stdout",
     "output_type": "stream",
     "text": [
      "Значение метрики R2 для модели без дополнительных преобразований: 0.4249\n"
     ]
    }
   ],
   "source": [
    "pipe.set_params(data_protector='passthrough')\n",
    "print(f'Значение метрики R2 для модели без дополнительных преобразований: {pipe.fit(X, y).score(X, y):.4f}')"
   ]
  },
  {
   "cell_type": "markdown",
   "metadata": {},
   "source": [
    "В обоих случаях метрики совпадают, то есть умножение признаков на обратимую матрицу не влияет на качество линейной регрессии."
   ]
  },
  {
   "cell_type": "markdown",
   "metadata": {},
   "source": [
    "## Чек-лист проверки"
   ]
  },
  {
   "cell_type": "markdown",
   "metadata": {},
   "source": [
    "Поставьте 'x' в выполненных пунктах. Далее нажмите Shift+Enter."
   ]
  },
  {
   "cell_type": "markdown",
   "metadata": {},
   "source": [
    "- [x]  Jupyter Notebook открыт\n",
    "- [x]  Весь код выполняется без ошибок\n",
    "- [x]  Ячейки с кодом расположены в порядке исполнения\n",
    "- [x]  Выполнен шаг 1: данные загружены\n",
    "- [x]  Выполнен шаг 2: получен ответ на вопрос об умножении матриц\n",
    "    - [x]  Указан правильный вариант ответа\n",
    "    - [x]  Вариант обоснован\n",
    "- [x]  Выполнен шаг 3: предложен алгоритм преобразования\n",
    "    - [x]  Алгоритм описан\n",
    "    - [x]  Алгоритм обоснован\n",
    "- [x]  Выполнен шаг 4: алгоритм проверен\n",
    "    - [x]  Алгоритм реализован\n",
    "    - [x]  Проведено сравнение качества моделей до и после преобразования"
   ]
  }
 ],
 "metadata": {
  "ExecuteTimeLog": [
   {
    "duration": 384,
    "start_time": "2023-02-14T14:51:40.165Z"
   },
   {
    "duration": 109,
    "start_time": "2023-02-14T14:51:40.551Z"
   },
   {
    "duration": 15,
    "start_time": "2023-02-14T14:52:13.770Z"
   },
   {
    "duration": 363,
    "start_time": "2023-02-14T14:52:24.847Z"
   },
   {
    "duration": 95,
    "start_time": "2023-02-14T14:52:25.212Z"
   },
   {
    "duration": 14,
    "start_time": "2023-02-14T14:52:25.309Z"
   },
   {
    "duration": 407,
    "start_time": "2023-02-14T14:52:40.815Z"
   },
   {
    "duration": 26,
    "start_time": "2023-02-14T14:52:41.224Z"
   },
   {
    "duration": 16,
    "start_time": "2023-02-14T14:52:41.251Z"
   },
   {
    "duration": 407,
    "start_time": "2023-02-14T14:52:59.195Z"
   },
   {
    "duration": 23,
    "start_time": "2023-02-14T14:52:59.604Z"
   },
   {
    "duration": 14,
    "start_time": "2023-02-14T14:52:59.629Z"
   },
   {
    "duration": 85,
    "start_time": "2023-02-20T07:35:39.532Z"
   },
   {
    "duration": 43,
    "start_time": "2023-02-20T07:36:57.878Z"
   },
   {
    "duration": 372,
    "start_time": "2023-02-20T07:37:01.499Z"
   },
   {
    "duration": 91,
    "start_time": "2023-02-20T07:37:01.966Z"
   },
   {
    "duration": 15,
    "start_time": "2023-02-20T07:37:02.214Z"
   },
   {
    "duration": 26,
    "start_time": "2023-02-20T07:37:03.022Z"
   },
   {
    "duration": 10,
    "start_time": "2023-02-20T07:37:08.214Z"
   },
   {
    "duration": 95993,
    "start_time": "2023-02-20T07:39:49.714Z"
   },
   {
    "duration": 357,
    "start_time": "2023-02-20T07:41:25.709Z"
   },
   {
    "duration": 28,
    "start_time": "2023-02-20T07:41:26.068Z"
   },
   {
    "duration": 15,
    "start_time": "2023-02-20T07:41:26.098Z"
   },
   {
    "duration": 66,
    "start_time": "2023-02-20T07:41:26.115Z"
   },
   {
    "duration": 638,
    "start_time": "2023-02-20T07:46:32.708Z"
   },
   {
    "duration": 30,
    "start_time": "2023-02-20T07:46:56.317Z"
   },
   {
    "duration": 15581,
    "start_time": "2023-02-20T07:46:58.820Z"
   },
   {
    "duration": 28,
    "start_time": "2023-02-20T07:47:31.476Z"
   },
   {
    "duration": 25,
    "start_time": "2023-02-20T07:47:42.766Z"
   },
   {
    "duration": 23,
    "start_time": "2023-02-20T07:47:52.909Z"
   },
   {
    "duration": 15656,
    "start_time": "2023-02-20T07:48:24.853Z"
   },
   {
    "duration": 1843,
    "start_time": "2023-02-20T07:48:40.511Z"
   },
   {
    "duration": 31,
    "start_time": "2023-02-20T07:48:48.701Z"
   },
   {
    "duration": 16,
    "start_time": "2023-02-20T07:48:49.661Z"
   },
   {
    "duration": 13012,
    "start_time": "2023-02-20T07:49:46.406Z"
   },
   {
    "duration": 14,
    "start_time": "2023-02-20T07:53:46.425Z"
   },
   {
    "duration": 25777,
    "start_time": "2023-02-20T08:06:20.918Z"
   },
   {
    "duration": 1705,
    "start_time": "2023-02-20T08:06:46.697Z"
   },
   {
    "duration": 31,
    "start_time": "2023-02-20T08:06:48.404Z"
   },
   {
    "duration": 15,
    "start_time": "2023-02-20T08:06:48.436Z"
   },
   {
    "duration": 11,
    "start_time": "2023-02-20T08:06:48.453Z"
   },
   {
    "duration": 12669,
    "start_time": "2023-02-20T08:06:48.465Z"
   },
   {
    "duration": 15565,
    "start_time": "2023-02-20T08:07:46.206Z"
   },
   {
    "duration": 1698,
    "start_time": "2023-02-20T08:08:01.774Z"
   },
   {
    "duration": 30,
    "start_time": "2023-02-20T08:08:03.474Z"
   },
   {
    "duration": 16,
    "start_time": "2023-02-20T08:08:03.505Z"
   },
   {
    "duration": 20,
    "start_time": "2023-02-20T08:08:03.523Z"
   },
   {
    "duration": 12660,
    "start_time": "2023-02-20T08:08:03.545Z"
   },
   {
    "duration": 703,
    "start_time": "2023-02-20T08:08:16.207Z"
   },
   {
    "duration": 760,
    "start_time": "2023-02-20T08:09:52.151Z"
   },
   {
    "duration": 1028,
    "start_time": "2023-02-20T08:10:03.817Z"
   },
   {
    "duration": 780,
    "start_time": "2023-02-20T08:10:31.291Z"
   },
   {
    "duration": 1041,
    "start_time": "2023-02-20T08:10:34.551Z"
   },
   {
    "duration": 4,
    "start_time": "2023-02-20T08:10:55.615Z"
   },
   {
    "duration": 851,
    "start_time": "2023-02-20T08:10:55.621Z"
   },
   {
    "duration": 32,
    "start_time": "2023-02-20T08:10:56.475Z"
   },
   {
    "duration": 22,
    "start_time": "2023-02-20T08:10:56.509Z"
   },
   {
    "duration": 17,
    "start_time": "2023-02-20T08:10:56.534Z"
   },
   {
    "duration": 10,
    "start_time": "2023-02-20T08:10:56.553Z"
   },
   {
    "duration": 1544,
    "start_time": "2023-02-20T08:10:56.565Z"
   },
   {
    "duration": 1752,
    "start_time": "2023-02-20T08:11:04.769Z"
   },
   {
    "duration": 1838,
    "start_time": "2023-02-20T08:11:19.152Z"
   },
   {
    "duration": 15427,
    "start_time": "2023-02-20T08:12:07.787Z"
   },
   {
    "duration": 1710,
    "start_time": "2023-02-20T08:12:23.216Z"
   },
   {
    "duration": 31,
    "start_time": "2023-02-20T08:12:24.928Z"
   },
   {
    "duration": 17,
    "start_time": "2023-02-20T08:12:24.961Z"
   },
   {
    "duration": 15,
    "start_time": "2023-02-20T08:12:24.980Z"
   },
   {
    "duration": 3,
    "start_time": "2023-02-20T08:12:24.997Z"
   },
   {
    "duration": 2099,
    "start_time": "2023-02-20T08:12:25.002Z"
   },
   {
    "duration": 15281,
    "start_time": "2023-02-20T08:12:36.647Z"
   },
   {
    "duration": 1690,
    "start_time": "2023-02-20T08:12:51.930Z"
   },
   {
    "duration": 29,
    "start_time": "2023-02-20T08:12:53.623Z"
   },
   {
    "duration": 15,
    "start_time": "2023-02-20T08:12:53.654Z"
   },
   {
    "duration": 20,
    "start_time": "2023-02-20T08:12:53.671Z"
   },
   {
    "duration": 13357,
    "start_time": "2023-02-20T08:12:53.693Z"
   },
   {
    "duration": 1216,
    "start_time": "2023-02-20T08:13:07.052Z"
   },
   {
    "duration": 15387,
    "start_time": "2023-02-20T08:13:47.752Z"
   },
   {
    "duration": 1749,
    "start_time": "2023-02-20T08:14:03.141Z"
   },
   {
    "duration": 30,
    "start_time": "2023-02-20T08:14:04.892Z"
   },
   {
    "duration": 15,
    "start_time": "2023-02-20T08:14:04.924Z"
   },
   {
    "duration": 11,
    "start_time": "2023-02-20T08:14:04.941Z"
   },
   {
    "duration": 11,
    "start_time": "2023-02-20T08:14:04.953Z"
   },
   {
    "duration": 1996,
    "start_time": "2023-02-20T08:14:04.965Z"
   },
   {
    "duration": 9502,
    "start_time": "2023-02-20T08:14:19.473Z"
   },
   {
    "duration": 1878,
    "start_time": "2023-02-20T08:15:08.372Z"
   },
   {
    "duration": 15615,
    "start_time": "2023-02-20T08:15:35.769Z"
   },
   {
    "duration": 1706,
    "start_time": "2023-02-20T08:15:51.386Z"
   },
   {
    "duration": 30,
    "start_time": "2023-02-20T08:15:53.093Z"
   },
   {
    "duration": 12,
    "start_time": "2023-02-20T08:15:53.125Z"
   },
   {
    "duration": 11,
    "start_time": "2023-02-20T08:15:53.138Z"
   },
   {
    "duration": 9475,
    "start_time": "2023-02-20T08:15:53.151Z"
   },
   {
    "duration": 1907,
    "start_time": "2023-02-20T08:16:02.628Z"
   },
   {
    "duration": 1755,
    "start_time": "2023-02-20T08:16:18.197Z"
   },
   {
    "duration": 2155,
    "start_time": "2023-02-20T08:16:45.022Z"
   },
   {
    "duration": 19,
    "start_time": "2023-02-20T08:16:58.668Z"
   },
   {
    "duration": 2410,
    "start_time": "2023-02-20T08:17:10.810Z"
   },
   {
    "duration": 668,
    "start_time": "2023-02-20T08:19:00.583Z"
   },
   {
    "duration": 2691,
    "start_time": "2023-02-20T08:19:07.702Z"
   },
   {
    "duration": 2038,
    "start_time": "2023-02-20T08:19:19.286Z"
   },
   {
    "duration": 2221,
    "start_time": "2023-02-20T08:19:29.017Z"
   },
   {
    "duration": 2677,
    "start_time": "2023-02-20T08:20:01.520Z"
   },
   {
    "duration": 19,
    "start_time": "2023-02-20T08:20:16.783Z"
   },
   {
    "duration": 1810,
    "start_time": "2023-02-20T08:20:26.766Z"
   },
   {
    "duration": 19,
    "start_time": "2023-02-20T08:20:58.168Z"
   },
   {
    "duration": 1785,
    "start_time": "2023-02-20T08:21:03.232Z"
   },
   {
    "duration": 30,
    "start_time": "2023-02-20T08:21:05.019Z"
   },
   {
    "duration": 13,
    "start_time": "2023-02-20T08:21:31.872Z"
   },
   {
    "duration": 20,
    "start_time": "2023-02-20T08:21:40.208Z"
   },
   {
    "duration": 16092,
    "start_time": "2023-02-20T08:22:43.337Z"
   },
   {
    "duration": 1807,
    "start_time": "2023-02-20T08:22:59.431Z"
   },
   {
    "duration": 31,
    "start_time": "2023-02-20T08:23:01.240Z"
   },
   {
    "duration": 23,
    "start_time": "2023-02-20T08:23:01.272Z"
   },
   {
    "duration": 53,
    "start_time": "2023-02-20T08:23:01.297Z"
   },
   {
    "duration": 9936,
    "start_time": "2023-02-20T08:23:01.351Z"
   },
   {
    "duration": 1891,
    "start_time": "2023-02-20T08:26:34.370Z"
   },
   {
    "duration": 24237,
    "start_time": "2023-02-20T08:26:43.562Z"
   },
   {
    "duration": 1801,
    "start_time": "2023-02-20T08:27:07.801Z"
   },
   {
    "duration": 30,
    "start_time": "2023-02-20T08:27:09.604Z"
   },
   {
    "duration": 14,
    "start_time": "2023-02-20T08:27:09.636Z"
   },
   {
    "duration": 11,
    "start_time": "2023-02-20T08:27:09.652Z"
   },
   {
    "duration": 9706,
    "start_time": "2023-02-20T08:27:09.664Z"
   },
   {
    "duration": 1913,
    "start_time": "2023-02-20T08:27:19.372Z"
   },
   {
    "duration": 16071,
    "start_time": "2023-02-20T08:27:38.088Z"
   },
   {
    "duration": 1738,
    "start_time": "2023-02-20T08:27:54.161Z"
   },
   {
    "duration": 32,
    "start_time": "2023-02-20T08:27:55.901Z"
   },
   {
    "duration": 12,
    "start_time": "2023-02-20T08:27:55.935Z"
   },
   {
    "duration": 15,
    "start_time": "2023-02-20T08:27:55.949Z"
   },
   {
    "duration": 9785,
    "start_time": "2023-02-20T08:27:55.965Z"
   },
   {
    "duration": 1918,
    "start_time": "2023-02-20T08:28:05.752Z"
   },
   {
    "duration": 104098,
    "start_time": "2023-02-20T11:21:43.076Z"
   },
   {
    "duration": 367,
    "start_time": "2023-02-20T11:23:27.176Z"
   },
   {
    "duration": 0,
    "start_time": "2023-02-20T11:23:27.546Z"
   },
   {
    "duration": 0,
    "start_time": "2023-02-20T11:23:27.548Z"
   },
   {
    "duration": 0,
    "start_time": "2023-02-20T11:23:27.549Z"
   },
   {
    "duration": 0,
    "start_time": "2023-02-20T11:23:27.550Z"
   },
   {
    "duration": 0,
    "start_time": "2023-02-20T11:23:27.551Z"
   },
   {
    "duration": 16,
    "start_time": "2023-02-20T11:23:43.606Z"
   },
   {
    "duration": 16423,
    "start_time": "2023-02-20T11:24:01.527Z"
   },
   {
    "duration": 1792,
    "start_time": "2023-02-20T11:24:17.952Z"
   },
   {
    "duration": 85,
    "start_time": "2023-02-20T11:24:19.747Z"
   },
   {
    "duration": 12,
    "start_time": "2023-02-20T11:24:19.834Z"
   },
   {
    "duration": 13,
    "start_time": "2023-02-20T11:24:19.848Z"
   },
   {
    "duration": 10522,
    "start_time": "2023-02-20T11:24:19.862Z"
   },
   {
    "duration": 1894,
    "start_time": "2023-02-20T11:24:30.386Z"
   },
   {
    "duration": 825,
    "start_time": "2023-02-20T11:26:47.084Z"
   },
   {
    "duration": 25,
    "start_time": "2023-02-20T11:26:47.910Z"
   },
   {
    "duration": 13,
    "start_time": "2023-02-20T11:26:47.937Z"
   },
   {
    "duration": 12,
    "start_time": "2023-02-20T11:26:47.952Z"
   },
   {
    "duration": 718,
    "start_time": "2023-02-20T11:26:47.967Z"
   },
   {
    "duration": 1855,
    "start_time": "2023-02-20T11:26:48.687Z"
   },
   {
    "duration": 934,
    "start_time": "2023-02-20T11:27:19.509Z"
   },
   {
    "duration": 741,
    "start_time": "2023-02-20T11:27:28.081Z"
   },
   {
    "duration": 1835,
    "start_time": "2023-02-20T11:27:31.088Z"
   },
   {
    "duration": 802,
    "start_time": "2023-02-20T13:13:31.521Z"
   },
   {
    "duration": 89,
    "start_time": "2023-02-20T13:13:32.325Z"
   },
   {
    "duration": 12,
    "start_time": "2023-02-20T13:13:32.416Z"
   },
   {
    "duration": 11,
    "start_time": "2023-02-20T13:13:32.430Z"
   },
   {
    "duration": 554,
    "start_time": "2023-02-20T13:13:32.442Z"
   },
   {
    "duration": 1897,
    "start_time": "2023-02-20T13:13:32.997Z"
   },
   {
    "duration": 468,
    "start_time": "2023-02-20T13:14:44.332Z"
   },
   {
    "duration": 526,
    "start_time": "2023-02-20T13:14:53.440Z"
   },
   {
    "duration": 1748,
    "start_time": "2023-02-20T13:14:54.051Z"
   },
   {
    "duration": 1221,
    "start_time": "2023-02-20T13:15:02.173Z"
   },
   {
    "duration": 1094,
    "start_time": "2023-02-20T13:15:50.401Z"
   },
   {
    "duration": 7,
    "start_time": "2023-02-20T13:18:12.793Z"
   },
   {
    "duration": 88,
    "start_time": "2023-02-20T13:18:25.203Z"
   },
   {
    "duration": 12,
    "start_time": "2023-02-20T13:18:34.496Z"
   },
   {
    "duration": 143,
    "start_time": "2023-02-20T13:20:45.021Z"
   },
   {
    "duration": 937,
    "start_time": "2023-02-20T13:21:15.244Z"
   },
   {
    "duration": 1124,
    "start_time": "2023-02-20T13:21:20.979Z"
   },
   {
    "duration": 121,
    "start_time": "2023-02-20T13:22:33.756Z"
   },
   {
    "duration": 8,
    "start_time": "2023-02-20T13:22:54.235Z"
   },
   {
    "duration": 9,
    "start_time": "2023-02-20T13:22:58.406Z"
   },
   {
    "duration": 203,
    "start_time": "2023-02-20T13:23:18.778Z"
   },
   {
    "duration": 1519,
    "start_time": "2023-02-20T13:23:49.267Z"
   },
   {
    "duration": 650,
    "start_time": "2023-02-20T13:42:38.844Z"
   },
   {
    "duration": 26,
    "start_time": "2023-02-20T13:42:39.496Z"
   },
   {
    "duration": 18,
    "start_time": "2023-02-20T13:42:39.527Z"
   },
   {
    "duration": 54,
    "start_time": "2023-02-20T13:42:39.547Z"
   },
   {
    "duration": 518,
    "start_time": "2023-02-20T13:42:39.603Z"
   },
   {
    "duration": 1219,
    "start_time": "2023-02-20T13:42:40.123Z"
   },
   {
    "duration": 138,
    "start_time": "2023-02-20T13:42:41.344Z"
   },
   {
    "duration": 221,
    "start_time": "2023-02-20T13:44:03.597Z"
   },
   {
    "duration": 129,
    "start_time": "2023-02-20T13:44:19.036Z"
   },
   {
    "duration": 683,
    "start_time": "2023-02-20T13:44:42.843Z"
   },
   {
    "duration": 24,
    "start_time": "2023-02-20T13:44:43.528Z"
   },
   {
    "duration": 17,
    "start_time": "2023-02-20T13:44:43.559Z"
   },
   {
    "duration": 10,
    "start_time": "2023-02-20T13:44:43.578Z"
   },
   {
    "duration": 434,
    "start_time": "2023-02-20T13:44:43.590Z"
   },
   {
    "duration": 1134,
    "start_time": "2023-02-20T13:44:44.026Z"
   },
   {
    "duration": 212,
    "start_time": "2023-02-20T13:44:45.166Z"
   },
   {
    "duration": 4,
    "start_time": "2023-02-20T13:45:10.243Z"
   },
   {
    "duration": 197,
    "start_time": "2023-02-20T13:45:41.546Z"
   },
   {
    "duration": 5,
    "start_time": "2023-02-20T13:46:13.138Z"
   },
   {
    "duration": 4,
    "start_time": "2023-02-20T13:46:16.737Z"
   },
   {
    "duration": 7,
    "start_time": "2023-02-20T13:46:22.441Z"
   },
   {
    "duration": 7,
    "start_time": "2023-02-20T13:46:26.953Z"
   },
   {
    "duration": 5,
    "start_time": "2023-02-20T13:46:32.181Z"
   },
   {
    "duration": 4,
    "start_time": "2023-02-20T13:46:36.385Z"
   },
   {
    "duration": 4,
    "start_time": "2023-02-20T13:46:39.171Z"
   },
   {
    "duration": 8,
    "start_time": "2023-02-20T13:47:33.911Z"
   },
   {
    "duration": 10,
    "start_time": "2023-02-20T13:47:39.528Z"
   },
   {
    "duration": 8,
    "start_time": "2023-02-20T13:47:46.647Z"
   },
   {
    "duration": 123,
    "start_time": "2023-02-20T13:47:51.599Z"
   },
   {
    "duration": 170,
    "start_time": "2023-02-20T13:47:57.919Z"
   },
   {
    "duration": 139,
    "start_time": "2023-02-20T13:48:02.406Z"
   },
   {
    "duration": 126,
    "start_time": "2023-02-20T13:48:05.869Z"
   },
   {
    "duration": 155,
    "start_time": "2023-02-20T13:48:10.446Z"
   },
   {
    "duration": 151,
    "start_time": "2023-02-20T13:48:15.825Z"
   },
   {
    "duration": 167,
    "start_time": "2023-02-20T13:48:21.895Z"
   },
   {
    "duration": 238,
    "start_time": "2023-02-20T13:49:19.741Z"
   },
   {
    "duration": 14,
    "start_time": "2023-02-20T13:50:05.316Z"
   },
   {
    "duration": 16,
    "start_time": "2023-02-20T13:50:18.995Z"
   },
   {
    "duration": 588,
    "start_time": "2023-02-20T13:50:43.110Z"
   },
   {
    "duration": 25,
    "start_time": "2023-02-20T13:50:43.700Z"
   },
   {
    "duration": 15,
    "start_time": "2023-02-20T13:50:43.726Z"
   },
   {
    "duration": 11,
    "start_time": "2023-02-20T13:50:43.743Z"
   },
   {
    "duration": 422,
    "start_time": "2023-02-20T13:50:43.756Z"
   },
   {
    "duration": 1190,
    "start_time": "2023-02-20T13:50:44.180Z"
   },
   {
    "duration": 16,
    "start_time": "2023-02-20T13:50:45.373Z"
   },
   {
    "duration": 72,
    "start_time": "2023-02-20T13:55:32.413Z"
   },
   {
    "duration": 8,
    "start_time": "2023-02-20T13:55:39.542Z"
   },
   {
    "duration": 10,
    "start_time": "2023-02-20T13:55:46.987Z"
   },
   {
    "duration": 8,
    "start_time": "2023-02-20T13:55:49.939Z"
   },
   {
    "duration": 9,
    "start_time": "2023-02-20T13:55:57.906Z"
   },
   {
    "duration": 11,
    "start_time": "2023-02-20T13:56:21.870Z"
   },
   {
    "duration": 246,
    "start_time": "2023-02-20T13:56:59.025Z"
   },
   {
    "duration": 181,
    "start_time": "2023-02-20T13:58:10.720Z"
   },
   {
    "duration": 210,
    "start_time": "2023-02-20T13:58:15.496Z"
   },
   {
    "duration": 214,
    "start_time": "2023-02-20T13:58:33.679Z"
   },
   {
    "duration": 212,
    "start_time": "2023-02-20T13:58:50.982Z"
   },
   {
    "duration": 228,
    "start_time": "2023-02-20T13:58:54.934Z"
   },
   {
    "duration": 1132,
    "start_time": "2023-02-20T13:59:44.806Z"
   },
   {
    "duration": 1193,
    "start_time": "2023-02-20T14:01:59.747Z"
   },
   {
    "duration": 31,
    "start_time": "2023-02-20T14:02:00.941Z"
   },
   {
    "duration": 15,
    "start_time": "2023-02-20T14:02:00.973Z"
   },
   {
    "duration": 26,
    "start_time": "2023-02-20T14:02:00.990Z"
   },
   {
    "duration": 472,
    "start_time": "2023-02-20T14:02:01.018Z"
   },
   {
    "duration": 1218,
    "start_time": "2023-02-20T14:02:01.492Z"
   },
   {
    "duration": 19,
    "start_time": "2023-02-20T14:02:02.712Z"
   },
   {
    "duration": 366,
    "start_time": "2023-02-20T14:02:02.733Z"
   },
   {
    "duration": 399,
    "start_time": "2023-02-20T14:02:09.402Z"
   },
   {
    "duration": 379,
    "start_time": "2023-02-20T14:03:02.215Z"
   },
   {
    "duration": 1178,
    "start_time": "2023-02-20T14:03:14.618Z"
   },
   {
    "duration": 24,
    "start_time": "2023-02-20T14:03:15.798Z"
   },
   {
    "duration": 12,
    "start_time": "2023-02-20T14:03:15.823Z"
   },
   {
    "duration": 11,
    "start_time": "2023-02-20T14:03:15.837Z"
   },
   {
    "duration": 474,
    "start_time": "2023-02-20T14:03:15.856Z"
   },
   {
    "duration": 1274,
    "start_time": "2023-02-20T14:03:16.332Z"
   },
   {
    "duration": 15,
    "start_time": "2023-02-20T14:03:17.608Z"
   },
   {
    "duration": 373,
    "start_time": "2023-02-20T14:03:17.625Z"
   },
   {
    "duration": 1175,
    "start_time": "2023-02-20T14:05:57.273Z"
   },
   {
    "duration": 30,
    "start_time": "2023-02-20T14:05:58.452Z"
   },
   {
    "duration": 13,
    "start_time": "2023-02-20T14:05:58.484Z"
   },
   {
    "duration": 11,
    "start_time": "2023-02-20T14:05:58.499Z"
   },
   {
    "duration": 420,
    "start_time": "2023-02-20T14:05:58.512Z"
   },
   {
    "duration": 1185,
    "start_time": "2023-02-20T14:05:58.934Z"
   },
   {
    "duration": 17,
    "start_time": "2023-02-20T14:06:00.121Z"
   },
   {
    "duration": 370,
    "start_time": "2023-02-20T14:06:00.140Z"
   },
   {
    "duration": 1142,
    "start_time": "2023-02-20T14:12:24.052Z"
   },
   {
    "duration": 24,
    "start_time": "2023-02-20T14:12:25.196Z"
   },
   {
    "duration": 13,
    "start_time": "2023-02-20T14:12:25.222Z"
   },
   {
    "duration": 12,
    "start_time": "2023-02-20T14:12:25.236Z"
   },
   {
    "duration": 517,
    "start_time": "2023-02-20T14:12:25.250Z"
   },
   {
    "duration": 1198,
    "start_time": "2023-02-20T14:12:25.769Z"
   },
   {
    "duration": 19,
    "start_time": "2023-02-20T14:12:26.969Z"
   },
   {
    "duration": 382,
    "start_time": "2023-02-20T14:12:26.990Z"
   },
   {
    "duration": 1111,
    "start_time": "2023-02-20T14:16:57.766Z"
   },
   {
    "duration": 24,
    "start_time": "2023-02-20T14:16:58.879Z"
   },
   {
    "duration": 13,
    "start_time": "2023-02-20T14:16:58.904Z"
   },
   {
    "duration": 11,
    "start_time": "2023-02-20T14:16:58.920Z"
   },
   {
    "duration": 426,
    "start_time": "2023-02-20T14:16:58.932Z"
   },
   {
    "duration": 1158,
    "start_time": "2023-02-20T14:16:59.360Z"
   },
   {
    "duration": 15,
    "start_time": "2023-02-20T14:17:00.520Z"
   },
   {
    "duration": 366,
    "start_time": "2023-02-20T14:17:00.537Z"
   },
   {
    "duration": 4,
    "start_time": "2023-02-20T14:33:30.401Z"
   },
   {
    "duration": 1534,
    "start_time": "2023-02-20T19:24:44.463Z"
   },
   {
    "duration": 98,
    "start_time": "2023-02-20T19:24:45.999Z"
   },
   {
    "duration": 15,
    "start_time": "2023-02-20T19:24:46.100Z"
   },
   {
    "duration": 16,
    "start_time": "2023-02-20T19:24:46.116Z"
   },
   {
    "duration": 481,
    "start_time": "2023-02-20T19:24:46.134Z"
   },
   {
    "duration": 1275,
    "start_time": "2023-02-20T19:24:46.617Z"
   },
   {
    "duration": 17,
    "start_time": "2023-02-20T19:24:47.894Z"
   },
   {
    "duration": 474,
    "start_time": "2023-02-20T19:24:47.913Z"
   },
   {
    "duration": 6,
    "start_time": "2023-02-20T19:24:48.390Z"
   },
   {
    "duration": 1138,
    "start_time": "2023-02-21T04:10:46.786Z"
   },
   {
    "duration": 122,
    "start_time": "2023-02-21T04:10:47.926Z"
   },
   {
    "duration": 13,
    "start_time": "2023-02-21T04:10:48.049Z"
   },
   {
    "duration": 10,
    "start_time": "2023-02-21T04:10:48.063Z"
   },
   {
    "duration": 385,
    "start_time": "2023-02-21T04:10:48.075Z"
   },
   {
    "duration": 1047,
    "start_time": "2023-02-21T04:10:48.461Z"
   },
   {
    "duration": 15,
    "start_time": "2023-02-21T04:10:49.509Z"
   },
   {
    "duration": 378,
    "start_time": "2023-02-21T04:10:49.525Z"
   },
   {
    "duration": 3,
    "start_time": "2023-02-21T04:10:49.905Z"
   },
   {
    "duration": 1405,
    "start_time": "2023-02-21T08:14:13.005Z"
   },
   {
    "duration": 91,
    "start_time": "2023-02-21T08:14:14.412Z"
   },
   {
    "duration": 14,
    "start_time": "2023-02-21T08:14:14.505Z"
   },
   {
    "duration": 14,
    "start_time": "2023-02-21T08:14:14.522Z"
   },
   {
    "duration": 447,
    "start_time": "2023-02-21T08:14:14.538Z"
   },
   {
    "duration": 1226,
    "start_time": "2023-02-21T08:14:14.987Z"
   },
   {
    "duration": 17,
    "start_time": "2023-02-21T08:14:16.215Z"
   },
   {
    "duration": 397,
    "start_time": "2023-02-21T08:14:16.234Z"
   },
   {
    "duration": 8,
    "start_time": "2023-02-21T08:14:16.632Z"
   },
   {
    "duration": 1382,
    "start_time": "2023-02-21T11:35:24.847Z"
   },
   {
    "duration": 98,
    "start_time": "2023-02-21T11:35:26.232Z"
   },
   {
    "duration": 13,
    "start_time": "2023-02-21T11:35:26.332Z"
   },
   {
    "duration": 22,
    "start_time": "2023-02-21T11:35:26.347Z"
   },
   {
    "duration": 465,
    "start_time": "2023-02-21T11:35:26.370Z"
   },
   {
    "duration": 1253,
    "start_time": "2023-02-21T11:35:26.837Z"
   },
   {
    "duration": 16,
    "start_time": "2023-02-21T11:35:28.092Z"
   },
   {
    "duration": 420,
    "start_time": "2023-02-21T11:35:28.109Z"
   },
   {
    "duration": 4,
    "start_time": "2023-02-21T11:35:28.530Z"
   },
   {
    "duration": 1212,
    "start_time": "2023-02-21T11:43:42.016Z"
   },
   {
    "duration": 25,
    "start_time": "2023-02-21T11:43:43.230Z"
   },
   {
    "duration": 14,
    "start_time": "2023-02-21T11:43:43.256Z"
   },
   {
    "duration": 12,
    "start_time": "2023-02-21T11:43:43.272Z"
   },
   {
    "duration": 436,
    "start_time": "2023-02-21T11:43:43.287Z"
   },
   {
    "duration": 1137,
    "start_time": "2023-02-21T11:43:43.725Z"
   },
   {
    "duration": 16,
    "start_time": "2023-02-21T11:43:44.865Z"
   },
   {
    "duration": 391,
    "start_time": "2023-02-21T11:43:44.883Z"
   },
   {
    "duration": 4,
    "start_time": "2023-02-21T11:43:45.276Z"
   },
   {
    "duration": 234,
    "start_time": "2023-02-21T12:14:07.710Z"
   },
   {
    "duration": 41,
    "start_time": "2023-02-21T12:15:12.177Z"
   },
   {
    "duration": 1673,
    "start_time": "2023-02-21T12:15:16.874Z"
   },
   {
    "duration": 26,
    "start_time": "2023-02-21T12:15:18.549Z"
   },
   {
    "duration": 14,
    "start_time": "2023-02-21T12:15:18.577Z"
   },
   {
    "duration": 13,
    "start_time": "2023-02-21T12:15:18.594Z"
   },
   {
    "duration": 455,
    "start_time": "2023-02-21T12:15:18.610Z"
   },
   {
    "duration": 1348,
    "start_time": "2023-02-21T12:15:19.066Z"
   },
   {
    "duration": 20,
    "start_time": "2023-02-21T12:15:20.416Z"
   },
   {
    "duration": 371,
    "start_time": "2023-02-21T12:15:20.438Z"
   },
   {
    "duration": 4,
    "start_time": "2023-02-21T12:15:20.811Z"
   },
   {
    "duration": 1475,
    "start_time": "2023-02-21T12:20:51.345Z"
   },
   {
    "duration": 25,
    "start_time": "2023-02-21T12:20:52.823Z"
   },
   {
    "duration": 15,
    "start_time": "2023-02-21T12:20:52.850Z"
   },
   {
    "duration": 20,
    "start_time": "2023-02-21T12:20:52.867Z"
   },
   {
    "duration": 452,
    "start_time": "2023-02-21T12:20:52.889Z"
   },
   {
    "duration": 1204,
    "start_time": "2023-02-21T12:20:53.342Z"
   },
   {
    "duration": 19,
    "start_time": "2023-02-21T12:20:54.548Z"
   },
   {
    "duration": 408,
    "start_time": "2023-02-21T12:20:54.569Z"
   },
   {
    "duration": 5,
    "start_time": "2023-02-21T12:20:54.979Z"
   },
   {
    "duration": 8,
    "start_time": "2023-02-21T12:20:54.986Z"
   },
   {
    "duration": 4,
    "start_time": "2023-02-21T12:26:19.373Z"
   },
   {
    "duration": 1488,
    "start_time": "2023-02-21T12:26:25.477Z"
   },
   {
    "duration": 26,
    "start_time": "2023-02-21T12:26:26.967Z"
   },
   {
    "duration": 18,
    "start_time": "2023-02-21T12:26:26.995Z"
   },
   {
    "duration": 13,
    "start_time": "2023-02-21T12:26:27.016Z"
   },
   {
    "duration": 560,
    "start_time": "2023-02-21T12:26:27.031Z"
   },
   {
    "duration": 1264,
    "start_time": "2023-02-21T12:26:27.594Z"
   },
   {
    "duration": 24,
    "start_time": "2023-02-21T12:26:28.861Z"
   },
   {
    "duration": 418,
    "start_time": "2023-02-21T12:26:28.888Z"
   },
   {
    "duration": 4,
    "start_time": "2023-02-21T12:26:29.308Z"
   },
   {
    "duration": 20,
    "start_time": "2023-02-21T12:26:29.315Z"
   },
   {
    "duration": 120,
    "start_time": "2023-02-21T12:27:12.328Z"
   },
   {
    "duration": 6,
    "start_time": "2023-02-21T12:27:36.512Z"
   },
   {
    "duration": 25,
    "start_time": "2023-02-21T12:27:36.712Z"
   },
   {
    "duration": 5,
    "start_time": "2023-02-21T12:27:47.763Z"
   },
   {
    "duration": 10,
    "start_time": "2023-02-21T12:27:47.944Z"
   },
   {
    "duration": 8,
    "start_time": "2023-02-21T12:27:53.520Z"
   },
   {
    "duration": 6,
    "start_time": "2023-02-21T12:27:59.881Z"
   },
   {
    "duration": 8,
    "start_time": "2023-02-21T12:28:03.136Z"
   },
   {
    "duration": 5,
    "start_time": "2023-02-21T12:29:53.745Z"
   },
   {
    "duration": 1586,
    "start_time": "2023-02-21T12:30:47.097Z"
   },
   {
    "duration": 26,
    "start_time": "2023-02-21T12:30:48.685Z"
   },
   {
    "duration": 14,
    "start_time": "2023-02-21T12:30:48.713Z"
   },
   {
    "duration": 12,
    "start_time": "2023-02-21T12:30:48.729Z"
   },
   {
    "duration": 489,
    "start_time": "2023-02-21T12:30:48.743Z"
   },
   {
    "duration": 1354,
    "start_time": "2023-02-21T12:30:49.234Z"
   },
   {
    "duration": 22,
    "start_time": "2023-02-21T12:30:50.590Z"
   },
   {
    "duration": 418,
    "start_time": "2023-02-21T12:30:50.615Z"
   },
   {
    "duration": 6,
    "start_time": "2023-02-21T12:30:51.035Z"
   },
   {
    "duration": 62,
    "start_time": "2023-02-21T12:30:51.043Z"
   },
   {
    "duration": 15,
    "start_time": "2023-02-21T12:30:51.108Z"
   },
   {
    "duration": 1437,
    "start_time": "2023-02-21T12:33:38.865Z"
   },
   {
    "duration": 24,
    "start_time": "2023-02-21T12:33:40.304Z"
   },
   {
    "duration": 16,
    "start_time": "2023-02-21T12:33:40.332Z"
   },
   {
    "duration": 17,
    "start_time": "2023-02-21T12:33:40.351Z"
   },
   {
    "duration": 467,
    "start_time": "2023-02-21T12:33:40.370Z"
   },
   {
    "duration": 1223,
    "start_time": "2023-02-21T12:33:40.839Z"
   },
   {
    "duration": 18,
    "start_time": "2023-02-21T12:33:42.067Z"
   },
   {
    "duration": 389,
    "start_time": "2023-02-21T12:33:42.087Z"
   },
   {
    "duration": 6,
    "start_time": "2023-02-21T12:33:42.478Z"
   },
   {
    "duration": 9,
    "start_time": "2023-02-21T12:33:42.485Z"
   },
   {
    "duration": 10,
    "start_time": "2023-02-21T12:33:42.495Z"
   },
   {
    "duration": 15,
    "start_time": "2023-02-21T12:33:42.506Z"
   },
   {
    "duration": 7,
    "start_time": "2023-02-21T12:34:38.306Z"
   },
   {
    "duration": 1434,
    "start_time": "2023-02-21T12:34:42.707Z"
   },
   {
    "duration": 42,
    "start_time": "2023-02-21T12:34:44.143Z"
   },
   {
    "duration": 16,
    "start_time": "2023-02-21T12:34:44.187Z"
   },
   {
    "duration": 22,
    "start_time": "2023-02-21T12:34:44.205Z"
   },
   {
    "duration": 479,
    "start_time": "2023-02-21T12:34:44.230Z"
   },
   {
    "duration": 1272,
    "start_time": "2023-02-21T12:34:44.710Z"
   },
   {
    "duration": 17,
    "start_time": "2023-02-21T12:34:45.984Z"
   },
   {
    "duration": 428,
    "start_time": "2023-02-21T12:34:46.002Z"
   },
   {
    "duration": 4,
    "start_time": "2023-02-21T12:34:46.432Z"
   },
   {
    "duration": 16,
    "start_time": "2023-02-21T12:34:46.438Z"
   },
   {
    "duration": 28,
    "start_time": "2023-02-21T12:34:46.458Z"
   },
   {
    "duration": 20,
    "start_time": "2023-02-21T12:34:46.488Z"
   },
   {
    "duration": 180,
    "start_time": "2023-02-21T12:34:46.510Z"
   },
   {
    "duration": 6,
    "start_time": "2023-02-21T12:34:55.966Z"
   },
   {
    "duration": 6,
    "start_time": "2023-02-21T12:34:56.278Z"
   },
   {
    "duration": 9,
    "start_time": "2023-02-21T12:34:57.435Z"
   },
   {
    "duration": 1757,
    "start_time": "2023-02-21T12:35:13.040Z"
   },
   {
    "duration": 24,
    "start_time": "2023-02-21T12:35:14.799Z"
   },
   {
    "duration": 15,
    "start_time": "2023-02-21T12:35:14.826Z"
   },
   {
    "duration": 18,
    "start_time": "2023-02-21T12:35:14.843Z"
   },
   {
    "duration": 528,
    "start_time": "2023-02-21T12:35:14.863Z"
   },
   {
    "duration": 1341,
    "start_time": "2023-02-21T12:35:15.393Z"
   },
   {
    "duration": 19,
    "start_time": "2023-02-21T12:35:16.736Z"
   },
   {
    "duration": 384,
    "start_time": "2023-02-21T12:35:16.760Z"
   },
   {
    "duration": 9,
    "start_time": "2023-02-21T12:35:17.155Z"
   },
   {
    "duration": 15,
    "start_time": "2023-02-21T12:35:17.173Z"
   },
   {
    "duration": 7,
    "start_time": "2023-02-21T12:35:17.190Z"
   },
   {
    "duration": 57,
    "start_time": "2023-02-21T12:35:17.198Z"
   },
   {
    "duration": 129,
    "start_time": "2023-02-21T12:35:17.257Z"
   },
   {
    "duration": 1568,
    "start_time": "2023-02-21T18:32:54.204Z"
   },
   {
    "duration": 90,
    "start_time": "2023-02-21T18:32:55.775Z"
   },
   {
    "duration": 13,
    "start_time": "2023-02-21T18:32:55.867Z"
   },
   {
    "duration": 10,
    "start_time": "2023-02-21T18:32:55.882Z"
   },
   {
    "duration": 463,
    "start_time": "2023-02-21T18:32:55.895Z"
   },
   {
    "duration": 1235,
    "start_time": "2023-02-21T18:32:56.360Z"
   },
   {
    "duration": 20,
    "start_time": "2023-02-21T18:32:57.597Z"
   },
   {
    "duration": 404,
    "start_time": "2023-02-21T18:32:57.619Z"
   },
   {
    "duration": 9,
    "start_time": "2023-02-21T18:32:58.025Z"
   },
   {
    "duration": 7,
    "start_time": "2023-02-21T18:32:58.037Z"
   },
   {
    "duration": 16,
    "start_time": "2023-02-21T18:32:58.045Z"
   },
   {
    "duration": 12,
    "start_time": "2023-02-21T18:32:58.063Z"
   },
   {
    "duration": 185,
    "start_time": "2023-02-21T18:32:58.077Z"
   },
   {
    "duration": 1390,
    "start_time": "2023-02-21T18:33:52.874Z"
   },
   {
    "duration": 27,
    "start_time": "2023-02-21T18:33:54.266Z"
   },
   {
    "duration": 15,
    "start_time": "2023-02-21T18:33:54.296Z"
   },
   {
    "duration": 22,
    "start_time": "2023-02-21T18:33:54.314Z"
   },
   {
    "duration": 489,
    "start_time": "2023-02-21T18:33:54.341Z"
   },
   {
    "duration": 1271,
    "start_time": "2023-02-21T18:33:54.832Z"
   },
   {
    "duration": 15,
    "start_time": "2023-02-21T18:33:56.105Z"
   },
   {
    "duration": 400,
    "start_time": "2023-02-21T18:33:56.121Z"
   },
   {
    "duration": 6,
    "start_time": "2023-02-21T18:33:56.529Z"
   },
   {
    "duration": 19,
    "start_time": "2023-02-21T18:33:56.537Z"
   },
   {
    "duration": 13,
    "start_time": "2023-02-21T18:33:56.559Z"
   },
   {
    "duration": 69,
    "start_time": "2023-02-21T18:33:56.574Z"
   },
   {
    "duration": 105,
    "start_time": "2023-02-21T18:33:56.646Z"
   },
   {
    "duration": 1416,
    "start_time": "2023-02-21T18:35:45.096Z"
   },
   {
    "duration": 25,
    "start_time": "2023-02-21T18:35:46.514Z"
   },
   {
    "duration": 12,
    "start_time": "2023-02-21T18:35:46.541Z"
   },
   {
    "duration": 12,
    "start_time": "2023-02-21T18:35:46.555Z"
   },
   {
    "duration": 432,
    "start_time": "2023-02-21T18:35:46.569Z"
   },
   {
    "duration": 1124,
    "start_time": "2023-02-21T18:35:47.003Z"
   },
   {
    "duration": 16,
    "start_time": "2023-02-21T18:35:48.129Z"
   },
   {
    "duration": 333,
    "start_time": "2023-02-21T18:35:48.146Z"
   },
   {
    "duration": 3,
    "start_time": "2023-02-21T18:35:48.481Z"
   },
   {
    "duration": 10,
    "start_time": "2023-02-21T18:35:48.486Z"
   },
   {
    "duration": 25,
    "start_time": "2023-02-21T18:35:48.497Z"
   },
   {
    "duration": 12,
    "start_time": "2023-02-21T18:35:48.524Z"
   },
   {
    "duration": 196,
    "start_time": "2023-02-21T18:35:48.538Z"
   },
   {
    "duration": 5,
    "start_time": "2023-02-21T18:38:40.051Z"
   },
   {
    "duration": 1298,
    "start_time": "2023-02-21T18:39:07.350Z"
   },
   {
    "duration": 26,
    "start_time": "2023-02-21T18:39:08.650Z"
   },
   {
    "duration": 14,
    "start_time": "2023-02-21T18:39:08.677Z"
   },
   {
    "duration": 12,
    "start_time": "2023-02-21T18:39:08.693Z"
   },
   {
    "duration": 428,
    "start_time": "2023-02-21T18:39:08.707Z"
   },
   {
    "duration": 1162,
    "start_time": "2023-02-21T18:39:09.137Z"
   },
   {
    "duration": 18,
    "start_time": "2023-02-21T18:39:10.302Z"
   },
   {
    "duration": 362,
    "start_time": "2023-02-21T18:39:10.322Z"
   },
   {
    "duration": 4,
    "start_time": "2023-02-21T18:39:10.686Z"
   },
   {
    "duration": 7,
    "start_time": "2023-02-21T18:39:10.692Z"
   },
   {
    "duration": 7,
    "start_time": "2023-02-21T18:39:10.700Z"
   },
   {
    "duration": 31,
    "start_time": "2023-02-21T18:39:10.708Z"
   },
   {
    "duration": 191,
    "start_time": "2023-02-21T18:39:10.741Z"
   },
   {
    "duration": 19,
    "start_time": "2023-02-21T18:39:10.933Z"
   },
   {
    "duration": 86,
    "start_time": "2023-02-21T18:39:10.954Z"
   },
   {
    "duration": 1392,
    "start_time": "2023-02-21T18:39:36.071Z"
   },
   {
    "duration": 26,
    "start_time": "2023-02-21T18:39:37.465Z"
   },
   {
    "duration": 17,
    "start_time": "2023-02-21T18:39:37.493Z"
   },
   {
    "duration": 11,
    "start_time": "2023-02-21T18:39:37.512Z"
   },
   {
    "duration": 419,
    "start_time": "2023-02-21T18:39:37.526Z"
   },
   {
    "duration": 1124,
    "start_time": "2023-02-21T18:39:37.947Z"
   },
   {
    "duration": 19,
    "start_time": "2023-02-21T18:39:39.073Z"
   },
   {
    "duration": 358,
    "start_time": "2023-02-21T18:39:39.094Z"
   },
   {
    "duration": 4,
    "start_time": "2023-02-21T18:39:39.454Z"
   },
   {
    "duration": 6,
    "start_time": "2023-02-21T18:39:39.459Z"
   },
   {
    "duration": 14,
    "start_time": "2023-02-21T18:39:39.468Z"
   },
   {
    "duration": 51,
    "start_time": "2023-02-21T18:39:39.484Z"
   },
   {
    "duration": 97,
    "start_time": "2023-02-21T18:39:39.537Z"
   },
   {
    "duration": 1372,
    "start_time": "2023-02-21T18:40:39.695Z"
   },
   {
    "duration": 25,
    "start_time": "2023-02-21T18:40:41.069Z"
   },
   {
    "duration": 13,
    "start_time": "2023-02-21T18:40:41.095Z"
   },
   {
    "duration": 12,
    "start_time": "2023-02-21T18:40:41.110Z"
   },
   {
    "duration": 429,
    "start_time": "2023-02-21T18:40:41.124Z"
   },
   {
    "duration": 1148,
    "start_time": "2023-02-21T18:40:41.555Z"
   },
   {
    "duration": 16,
    "start_time": "2023-02-21T18:40:42.705Z"
   },
   {
    "duration": 343,
    "start_time": "2023-02-21T18:40:42.723Z"
   },
   {
    "duration": 4,
    "start_time": "2023-02-21T18:40:43.067Z"
   },
   {
    "duration": 7,
    "start_time": "2023-02-21T18:40:43.073Z"
   },
   {
    "duration": 8,
    "start_time": "2023-02-21T18:40:43.081Z"
   },
   {
    "duration": 45,
    "start_time": "2023-02-21T18:40:43.091Z"
   },
   {
    "duration": 98,
    "start_time": "2023-02-21T18:40:43.138Z"
   },
   {
    "duration": 1391,
    "start_time": "2023-02-21T18:40:50.994Z"
   },
   {
    "duration": 25,
    "start_time": "2023-02-21T18:40:52.386Z"
   },
   {
    "duration": 14,
    "start_time": "2023-02-21T18:40:52.413Z"
   },
   {
    "duration": 13,
    "start_time": "2023-02-21T18:40:52.428Z"
   },
   {
    "duration": 448,
    "start_time": "2023-02-21T18:40:52.443Z"
   },
   {
    "duration": 1102,
    "start_time": "2023-02-21T18:40:52.893Z"
   },
   {
    "duration": 16,
    "start_time": "2023-02-21T18:40:53.997Z"
   },
   {
    "duration": 348,
    "start_time": "2023-02-21T18:40:54.015Z"
   },
   {
    "duration": 4,
    "start_time": "2023-02-21T18:40:54.365Z"
   },
   {
    "duration": 7,
    "start_time": "2023-02-21T18:40:54.371Z"
   },
   {
    "duration": 5,
    "start_time": "2023-02-21T18:40:54.380Z"
   },
   {
    "duration": 42,
    "start_time": "2023-02-21T18:40:54.387Z"
   },
   {
    "duration": 108,
    "start_time": "2023-02-21T18:40:54.430Z"
   },
   {
    "duration": 2430,
    "start_time": "2023-02-22T05:40:30.899Z"
   },
   {
    "duration": 25,
    "start_time": "2023-02-22T05:40:33.331Z"
   },
   {
    "duration": 14,
    "start_time": "2023-02-22T05:40:47.839Z"
   },
   {
    "duration": 13,
    "start_time": "2023-02-22T05:40:48.303Z"
   },
   {
    "duration": 451,
    "start_time": "2023-02-22T05:40:49.577Z"
   },
   {
    "duration": 1221,
    "start_time": "2023-02-22T05:40:50.549Z"
   },
   {
    "duration": 25,
    "start_time": "2023-02-22T05:40:51.772Z"
   },
   {
    "duration": 398,
    "start_time": "2023-02-22T05:40:52.041Z"
   },
   {
    "duration": 5,
    "start_time": "2023-02-22T05:42:42.629Z"
   },
   {
    "duration": 4,
    "start_time": "2023-02-22T05:45:23.042Z"
   },
   {
    "duration": 3,
    "start_time": "2023-02-22T05:45:24.462Z"
   },
   {
    "duration": 16,
    "start_time": "2023-02-22T05:45:38.200Z"
   },
   {
    "duration": 18,
    "start_time": "2023-02-22T05:45:38.888Z"
   },
   {
    "duration": 5,
    "start_time": "2023-02-22T05:47:54.940Z"
   },
   {
    "duration": 1560,
    "start_time": "2023-02-22T06:39:53.142Z"
   },
   {
    "duration": 84,
    "start_time": "2023-02-22T06:39:54.704Z"
   },
   {
    "duration": 14,
    "start_time": "2023-02-22T06:39:54.789Z"
   },
   {
    "duration": 15,
    "start_time": "2023-02-22T06:39:54.805Z"
   },
   {
    "duration": 426,
    "start_time": "2023-02-22T06:39:54.822Z"
   },
   {
    "duration": 1130,
    "start_time": "2023-02-22T06:39:55.250Z"
   },
   {
    "duration": 18,
    "start_time": "2023-02-22T06:39:56.383Z"
   },
   {
    "duration": 427,
    "start_time": "2023-02-22T06:39:56.403Z"
   },
   {
    "duration": 5,
    "start_time": "2023-02-22T06:39:56.831Z"
   },
   {
    "duration": 4,
    "start_time": "2023-02-22T06:39:56.844Z"
   },
   {
    "duration": 6,
    "start_time": "2023-02-22T06:39:56.850Z"
   },
   {
    "duration": 14,
    "start_time": "2023-02-22T06:39:56.858Z"
   },
   {
    "duration": 174,
    "start_time": "2023-02-22T06:39:56.874Z"
   }
  ],
  "kernelspec": {
   "display_name": "Python 3 (ipykernel)",
   "language": "python",
   "name": "python3"
  },
  "language_info": {
   "codemirror_mode": {
    "name": "ipython",
    "version": 3
   },
   "file_extension": ".py",
   "mimetype": "text/x-python",
   "name": "python",
   "nbconvert_exporter": "python",
   "pygments_lexer": "ipython3",
   "version": "3.10.4"
  },
  "toc": {
   "base_numbering": 1,
   "nav_menu": {},
   "number_sections": true,
   "sideBar": true,
   "skip_h1_title": true,
   "title_cell": "Содержание",
   "title_sidebar": "Содержание",
   "toc_cell": true,
   "toc_position": {
    "height": "calc(100% - 180px)",
    "left": "10px",
    "top": "150px",
    "width": "221.594px"
   },
   "toc_section_display": true,
   "toc_window_display": true
  }
 },
 "nbformat": 4,
 "nbformat_minor": 2
}
