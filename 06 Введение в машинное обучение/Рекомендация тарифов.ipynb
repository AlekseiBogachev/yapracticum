{
 "cells": [
  {
   "cell_type": "markdown",
   "metadata": {},
   "source": [
    "# Рекомендация тарифов"
   ]
  },
  {
   "cell_type": "markdown",
   "metadata": {},
   "source": [
    "## Описание проекта\n",
    "\n",
    "Оператор мобильной связи «Мегалайн» выяснил: многие клиенты пользуются архивными тарифами. Они хотят построить систему, способную проанализировать поведение клиентов и предложить пользователям новый тариф: «Смарт» или «Ультра».\n",
    "\n",
    "В нашем распоряжении данные о поведении клиентов, которые уже перешли на эти тарифы. Предобработка данных уже сделана.\n",
    "\n",
    "**Цель** - построить модель для задачи классификации, которая выберет подходящий тариф.\n",
    "\n",
    "**Тип задачи** - классификация (бинарная классификация).\n",
    "\n",
    "**Целевая метрика** - *accuracy*.\n",
    "\n",
    "**Целевое значение метрики** *accuracy* - не менее 0.75 на тестовой выборке. \n",
    "\n",
    "## Описание данных\n",
    "Каждый объект в наборе данных — это информация о поведении одного пользователя за месяц. Известно:\n",
    "- `сalls` - количество звонков,\n",
    "- `minutes` - суммарная длительность звонков в минутах,\n",
    "- `messages` - количество sms-сообщений,\n",
    "- `mb_used` - израсходованный интернет-трафик в Мб,\n",
    "- `is_ultra` - каким тарифом пользовался в течение месяца («Ультра» - 1, «Смарт» - 0).\n",
    "\n",
    "**Целевой признак** - `is_ultra`."
   ]
  },
  {
   "cell_type": "markdown",
   "metadata": {},
   "source": [
    "## Импорт необходимых модулей"
   ]
  },
  {
   "cell_type": "markdown",
   "metadata": {},
   "source": [
    "Сделаем проверку присутствиия библиотеки `imbalanced-learn` и установим её, если она отсутствует."
   ]
  },
  {
   "cell_type": "code",
   "execution_count": 2,
   "metadata": {},
   "outputs": [
    {
     "name": "stdout",
     "output_type": "stream",
     "text": [
      "Пакет \"imbalanced-learn\" не установлен.\n",
      "conda-forge/noarch::imbalanced-learn-0.7.0-py_1\n"
     ]
    }
   ],
   "source": [
    "packages = !conda list 'imbalanced.*' --canonical\n",
    "\n",
    "if len(packages) == 1 and packages[-1] == '':\n",
    "    print('Пакет \"imbalanced-learn\" не установлен.\\nНачинаем установку.\\n')\n",
    "    !conda install -c conda-forge imbalanced-learn -y\n",
    "else:\n",
    "    print(f'Пакет \"imbalanced-learn\" не установлен.\\n{packages[-1]}', sep='\\n')"
   ]
  },
  {
   "cell_type": "code",
   "execution_count": 3,
   "metadata": {},
   "outputs": [],
   "source": [
    "from imblearn.over_sampling import SMOTE, ADASYN\n",
    "from imblearn.pipeline import Pipeline\n",
    "\n",
    "import matplotlib.pyplot as plt\n",
    "import numpy as np\n",
    "import seaborn as sns\n",
    "\n",
    "from sklearn.compose import ColumnTransformer\n",
    "\n",
    "from sklearn.decomposition import PCA\n",
    "\n",
    "from sklearn.dummy import DummyClassifier\n",
    "\n",
    "from sklearn.metrics import accuracy_score\n",
    "from sklearn.metrics import f1_score\n",
    "from sklearn.metrics import roc_curve\n",
    "from sklearn.metrics import roc_auc_score\n",
    "\n",
    "from sklearn.model_selection import train_test_split\n",
    "from sklearn.model_selection import cross_val_score\n",
    "from sklearn.model_selection import cross_val_predict\n",
    "from sklearn.model_selection import GridSearchCV\n",
    "from sklearn.model_selection import RandomizedSearchCV\n",
    "\n",
    "from sklearn.ensemble import RandomForestClassifier\n",
    "from sklearn.linear_model import LogisticRegression\n",
    "from sklearn.pipeline import make_pipeline\n",
    "from sklearn.preprocessing import StandardScaler\n",
    "from sklearn.tree import DecisionTreeClassifier\n",
    "\n",
    "import pandas as pd\n",
    "from pandas.plotting import scatter_matrix\n",
    "\n",
    "%matplotlib inline"
   ]
  },
  {
   "cell_type": "markdown",
   "metadata": {},
   "source": [
    "## Откройте и изучите файл"
   ]
  },
  {
   "cell_type": "markdown",
   "metadata": {},
   "source": [
    "Откроем файл."
   ]
  },
  {
   "cell_type": "code",
   "execution_count": 4,
   "metadata": {},
   "outputs": [
    {
     "data": {
      "text/html": [
       "<div>\n",
       "<style scoped>\n",
       "    .dataframe tbody tr th:only-of-type {\n",
       "        vertical-align: middle;\n",
       "    }\n",
       "\n",
       "    .dataframe tbody tr th {\n",
       "        vertical-align: top;\n",
       "    }\n",
       "\n",
       "    .dataframe thead th {\n",
       "        text-align: right;\n",
       "    }\n",
       "</style>\n",
       "<table border=\"1\" class=\"dataframe\">\n",
       "  <thead>\n",
       "    <tr style=\"text-align: right;\">\n",
       "      <th></th>\n",
       "      <th>calls</th>\n",
       "      <th>minutes</th>\n",
       "      <th>messages</th>\n",
       "      <th>mb_used</th>\n",
       "      <th>is_ultra</th>\n",
       "    </tr>\n",
       "  </thead>\n",
       "  <tbody>\n",
       "    <tr>\n",
       "      <th>0</th>\n",
       "      <td>40.0</td>\n",
       "      <td>311.90</td>\n",
       "      <td>83.0</td>\n",
       "      <td>19915.42</td>\n",
       "      <td>0</td>\n",
       "    </tr>\n",
       "    <tr>\n",
       "      <th>1</th>\n",
       "      <td>85.0</td>\n",
       "      <td>516.75</td>\n",
       "      <td>56.0</td>\n",
       "      <td>22696.96</td>\n",
       "      <td>0</td>\n",
       "    </tr>\n",
       "    <tr>\n",
       "      <th>2</th>\n",
       "      <td>77.0</td>\n",
       "      <td>467.66</td>\n",
       "      <td>86.0</td>\n",
       "      <td>21060.45</td>\n",
       "      <td>0</td>\n",
       "    </tr>\n",
       "    <tr>\n",
       "      <th>3</th>\n",
       "      <td>106.0</td>\n",
       "      <td>745.53</td>\n",
       "      <td>81.0</td>\n",
       "      <td>8437.39</td>\n",
       "      <td>1</td>\n",
       "    </tr>\n",
       "    <tr>\n",
       "      <th>4</th>\n",
       "      <td>66.0</td>\n",
       "      <td>418.74</td>\n",
       "      <td>1.0</td>\n",
       "      <td>14502.75</td>\n",
       "      <td>0</td>\n",
       "    </tr>\n",
       "  </tbody>\n",
       "</table>\n",
       "</div>"
      ],
      "text/plain": [
       "   calls  minutes  messages   mb_used  is_ultra\n",
       "0   40.0   311.90      83.0  19915.42         0\n",
       "1   85.0   516.75      56.0  22696.96         0\n",
       "2   77.0   467.66      86.0  21060.45         0\n",
       "3  106.0   745.53      81.0   8437.39         1\n",
       "4   66.0   418.74       1.0  14502.75         0"
      ]
     },
     "execution_count": 4,
     "metadata": {},
     "output_type": "execute_result"
    }
   ],
   "source": [
    "try:\n",
    "    data = pd.read_csv('/datasets/users_behavior.csv')\n",
    "except:\n",
    "    data = pd.read_csv('https://code.s3.yandex.net/datasets/users_behavior.csv')\n",
    "    \n",
    "data.head()"
   ]
  },
  {
   "cell_type": "markdown",
   "metadata": {},
   "source": [
    "Проверим типы данных."
   ]
  },
  {
   "cell_type": "code",
   "execution_count": 5,
   "metadata": {},
   "outputs": [
    {
     "name": "stdout",
     "output_type": "stream",
     "text": [
      "<class 'pandas.core.frame.DataFrame'>\n",
      "RangeIndex: 3214 entries, 0 to 3213\n",
      "Data columns (total 5 columns):\n",
      " #   Column    Non-Null Count  Dtype  \n",
      "---  ------    --------------  -----  \n",
      " 0   calls     3214 non-null   float64\n",
      " 1   minutes   3214 non-null   float64\n",
      " 2   messages  3214 non-null   float64\n",
      " 3   mb_used   3214 non-null   float64\n",
      " 4   is_ultra  3214 non-null   int64  \n",
      "dtypes: float64(4), int64(1)\n",
      "memory usage: 125.7 KB\n"
     ]
    }
   ],
   "source": [
    "data.info()"
   ]
  },
  {
   "cell_type": "markdown",
   "metadata": {},
   "source": [
    "Так как мы решаем задчу бинарной классификации, проверим нет ли смещения в целевых классах, то есть сравним доли абонентов выбравших тарифных план «Ультра» и тарифный план «Смарт»."
   ]
  },
  {
   "cell_type": "code",
   "execution_count": 6,
   "metadata": {},
   "outputs": [
    {
     "name": "stdout",
     "output_type": "stream",
     "text": [
      "Доля абонентов, выбравших тарифный план «Ультра» 30.65%\n",
      "Доля абонентов, выбравших тарифный план «Смарт» 69.35%\n"
     ]
    }
   ],
   "source": [
    "def check_target_imbalance(vals):\n",
    "    mean_val = vals.mean()\n",
    "    print(f'Доля абонентов, выбравших тарифный план «Ультра» {mean_val:.2%}')\n",
    "    print(f'Доля абонентов, выбравших тарифный план «Смарт» {1 - mean_val:.2%}')\n",
    "    \n",
    "check_target_imbalance(data.is_ultra)"
   ]
  },
  {
   "cell_type": "markdown",
   "metadata": {},
   "source": [
    "Мы можем наблюдать небольшой дисбаланс классов в датасете, чтобы снизить влияние дисбаланса на модель будем использовать следующие приёмы:\n",
    "1. При разделении на тестовую и тренировочную выборки будем использовать стратификацию.\n",
    "2. Попробуем использовать технику апсемплинга."
   ]
  },
  {
   "cell_type": "code",
   "execution_count": 7,
   "metadata": {},
   "outputs": [
    {
     "name": "stdout",
     "output_type": "stream",
     "text": [
      "Дубликаты не обнаружены.\n"
     ]
    }
   ],
   "source": [
    "if data.duplicated().any():\n",
    "    print('В данных есть дубликаты!')\n",
    "else:\n",
    "    print('Дубликаты не обнаружены.')"
   ]
  },
  {
   "cell_type": "markdown",
   "metadata": {},
   "source": [
    "## Разбейте данные на выборки"
   ]
  },
  {
   "cell_type": "markdown",
   "metadata": {},
   "source": [
    "В переменную `X` копируем обучающие признаки, в переменную `y` копируем целевой признак."
   ]
  },
  {
   "cell_type": "code",
   "execution_count": 16,
   "metadata": {},
   "outputs": [],
   "source": [
    "X = data.drop(columns = 'is_ultra')\n",
    "y = data.is_ultra.copy()"
   ]
  },
  {
   "cell_type": "markdown",
   "metadata": {},
   "source": [
    "Разделим данные на тренировачный и тестовый наборы. Под тестовый набор выдлим 20% данных.\n",
    "\n",
    "Чтобы получать воспроизводимые результаты будем использовать параметр `random_state` равным 42."
   ]
  },
  {
   "cell_type": "code",
   "execution_count": 17,
   "metadata": {},
   "outputs": [],
   "source": [
    "X_train, X_test, y_train, y_test = train_test_split(X, y, test_size=0.2, random_state=42, stratify=y)"
   ]
  },
  {
   "cell_type": "markdown",
   "metadata": {},
   "source": [
    "Проверим дисбаланс классов в тренировочной выборке."
   ]
  },
  {
   "cell_type": "code",
   "execution_count": 18,
   "metadata": {},
   "outputs": [
    {
     "name": "stdout",
     "output_type": "stream",
     "text": [
      "Доля абонентов, выбравших тарифный план «Ультра» 30.65%\n",
      "Доля абонентов, выбравших тарифный план «Смарт» 69.35%\n"
     ]
    }
   ],
   "source": [
    "check_target_imbalance(y_train)"
   ]
  },
  {
   "cell_type": "markdown",
   "metadata": {},
   "source": [
    "Проверим дисбаланс классов в тестовой выборке."
   ]
  },
  {
   "cell_type": "code",
   "execution_count": 19,
   "metadata": {},
   "outputs": [
    {
     "name": "stdout",
     "output_type": "stream",
     "text": [
      "Доля абонентов, выбравших тарифный план «Ультра» 30.64%\n",
      "Доля абонентов, выбравших тарифный план «Смарт» 69.36%\n"
     ]
    }
   ],
   "source": [
    "check_target_imbalance(y_test)"
   ]
  },
  {
   "cell_type": "markdown",
   "metadata": {},
   "source": [
    "Как и ожидалось пропорции классов совпадают."
   ]
  },
  {
   "cell_type": "markdown",
   "metadata": {},
   "source": [
    "Чтобы сохранить максимально возможное количество данных для тренировки моделей, будем использовать технику крос-валидации (k-fold cross-validation) для подбора гиперпараметров и оценки метрик на тренировочной выборке."
   ]
  },
  {
   "cell_type": "markdown",
   "metadata": {},
   "source": [
    "Прежде чем переходить к исследованию моделей, посмотрим а гистограммы распределений и диаграммы рассеяния признаков в тренировочном наборе, а также проверим нет ли среди них сильноскоррелированных."
   ]
  },
  {
   "cell_type": "code",
   "execution_count": 20,
   "metadata": {},
   "outputs": [
    {
     "data": {
      "image/png": "[encoded data removed]",
      "text/plain": [
       "<Figure size 720x720 with 16 Axes>"
      ]
     },
     "metadata": {
      "needs_background": "light"
     },
     "output_type": "display_data"
    }
   ],
   "source": [
    "scatter_matrix(X_train, figsize=(10, 10), alpha=0.2)\n",
    "plt.show()"
   ]
  },
  {
   "cell_type": "markdown",
   "metadata": {},
   "source": [
    "Построим матрицу корреляции."
   ]
  },
  {
   "cell_type": "code",
   "execution_count": 21,
   "metadata": {},
   "outputs": [
    {
     "data": {
      "image/png": "[encoded data removed]",
      "text/plain": [
       "<Figure size 360x360 with 2 Axes>"
      ]
     },
     "metadata": {
      "needs_background": "light"
     },
     "output_type": "display_data"
    }
   ],
   "source": [
    "def plot_corr_matrix(df):\n",
    "    corr = df.corr()\n",
    "    \n",
    "    mask = np.triu(np.ones_like(corr, dtype=bool))\n",
    "    \n",
    "    f, ax = plt.subplots(figsize=(5, 5))\n",
    "    \n",
    "    cmap = sns.diverging_palette(230, 20, as_cmap=True)\n",
    "    \n",
    "    sns.heatmap(corr,\n",
    "                mask=mask,\n",
    "                cmap=cmap,\n",
    "                annot=True,\n",
    "                vmax=1,\n",
    "                vmin=0,\n",
    "                center=0.5,\n",
    "                square=True,\n",
    "                linewidths=1.0, \n",
    "                cbar_kws={\"shrink\": 0.5},\n",
    "                ax=ax\n",
    "               )\n",
    "    \n",
    "    ax.set_title('Матрица корреляции')\n",
    "    \n",
    "    plt.show()\n",
    "    \n",
    "plot_corr_matrix(X_train)"
   ]
  },
  {
   "cell_type": "markdown",
   "metadata": {},
   "source": [
    "Распределения некоторых признаков по форме отличается от нормального, а сами признаки имеют разные порядки величин, например (`call` и `mb_used`), поэтому может быть целесообразным использовать стандартизацию перед обучением моделей.\n",
    "\n",
    "Признаки `calls` и `minutes` сильно имеют очень сильную корреляцию (коэффициент корреляции приблизительно равен 0.98), что может негативно влиять обучение моделей. Возможно, с этими признаками придётся выполнить дополнительные пробразования."
   ]
  },
  {
   "cell_type": "markdown",
   "metadata": {},
   "source": [
    "## Исследуйте модели"
   ]
  },
  {
   "cell_type": "markdown",
   "metadata": {},
   "source": [
    "Напишем несколько функций, позволяющих быстро оценить модели."
   ]
  },
  {
   "cell_type": "code",
   "execution_count": 22,
   "metadata": {},
   "outputs": [],
   "source": [
    "def print_score(estimator, features, target, score='accuracy', cv=5, n_jobs=1):\n",
    "    '''Вычисляет среднее, минимальной и максимальное значение метрики,\n",
    "    полученное с помощью кросс-валидации.\n",
    "    '''\n",
    "    \n",
    "    scores = cross_val_score(estimator,\n",
    "                             X = features,\n",
    "                             y = target,\n",
    "                             cv=cv,\n",
    "                             scoring=score,\n",
    "                             n_jobs=n_jobs,\n",
    "                            )\n",
    "    \n",
    "    return pd.DataFrame(scores, columns=[score]).agg(['mean', 'min', 'max']).transpose()"
   ]
  },
  {
   "cell_type": "code",
   "execution_count": 23,
   "metadata": {},
   "outputs": [],
   "source": [
    "def plot_roc_curve(y_train, y_scores, ax=None, style='', label=None):\n",
    "    '''Выводит на экран кривую ROC.'''\n",
    "    \n",
    "    fpr, tpr, thresholds = roc_curve(y_train, y_scores)\n",
    "    \n",
    "    axes_flag = ax is None\n",
    "    \n",
    "    if axes_flag:\n",
    "        fig, ax = plt.subplots(1, 1)\n",
    "    \n",
    "    ax.plot(fpr, tpr, style, label=label)\n",
    "    \n",
    "    if axes_flag:\n",
    "        ax.plot([0,1], [0,1], 'k--', label='Random classifier')\n",
    "        ax.grid()\n",
    "        ax.set_xlim((0, 1))\n",
    "        ax.set_ylim((0, 1))\n",
    "        \n",
    "        ax.set_xlabel('False Positive Rate')\n",
    "        ax.set_ylabel('True Positive Rate')\n",
    "        \n",
    "        ax.legend(loc='lower right')\n",
    "        \n",
    "        ax.set_title('ROC curve')\n",
    "        return fig, ax\n",
    "    \n",
    "    return ax"
   ]
  },
  {
   "cell_type": "code",
   "execution_count": 24,
   "metadata": {},
   "outputs": [],
   "source": [
    "def evaluate_model(model, X, y, label, method='decision_function', n_jobs=1):\n",
    "    '''Выводит на экран сводку о производительности модели, состоящую из метрик\n",
    "    accuracy, f1, roc_auc и кривую ROC.\n",
    "    '''\n",
    "    \n",
    "    df = pd.DataFrame(columns= ['mean', 'min', 'max'])\n",
    "    \n",
    "    for metric in ['accuracy', 'f1', 'roc_auc']:\n",
    "        df = pd.concat([df, print_score(model, X, y, score=metric, n_jobs=n_jobs)])\n",
    "        \n",
    "    print(f'Метрики для {label}')\n",
    "    \n",
    "    display(df)\n",
    "    \n",
    "    y_scores = cross_val_predict(model, X, y, cv=5, method=method, n_jobs=n_jobs)\n",
    "    if method == 'predict_proba':\n",
    "        y_scores = y_scores[:, -1]\n",
    "        \n",
    "    fig, ax = plot_roc_curve(y_train, y_scores, label=label)\n",
    "    plt.show()"
   ]
  },
  {
   "cell_type": "markdown",
   "metadata": {},
   "source": [
    "Сравним несколько моделей, а для лучшей выполним настройку гиперпараметров."
   ]
  },
  {
   "cell_type": "markdown",
   "metadata": {},
   "source": [
    "### Базовая модель"
   ]
  },
  {
   "cell_type": "markdown",
   "metadata": {},
   "source": [
    "В качестве базовой модели выберем `DummyClassifier`, который будет предсказывать целевое значение случайным образом, при этом зададим параметр `strategy` равным `stratified`, чтобы распределение классов повторяло распределение в тренировочном наборе данных. \n",
    "\n",
    "Создадим классификатор и оценим его производительность."
   ]
  },
  {
   "cell_type": "code",
   "execution_count": 25,
   "metadata": {},
   "outputs": [
    {
     "name": "stdout",
     "output_type": "stream",
     "text": [
      "Метрики для DummyClassifier\n"
     ]
    },
    {
     "data": {
      "text/html": [
       "<div>\n",
       "<style scoped>\n",
       "    .dataframe tbody tr th:only-of-type {\n",
       "        vertical-align: middle;\n",
       "    }\n",
       "\n",
       "    .dataframe tbody tr th {\n",
       "        vertical-align: top;\n",
       "    }\n",
       "\n",
       "    .dataframe thead th {\n",
       "        text-align: right;\n",
       "    }\n",
       "</style>\n",
       "<table border=\"1\" class=\"dataframe\">\n",
       "  <thead>\n",
       "    <tr style=\"text-align: right;\">\n",
       "      <th></th>\n",
       "      <th>mean</th>\n",
       "      <th>min</th>\n",
       "      <th>max</th>\n",
       "    </tr>\n",
       "  </thead>\n",
       "  <tbody>\n",
       "    <tr>\n",
       "      <th>accuracy</th>\n",
       "      <td>0.570599</td>\n",
       "      <td>0.561165</td>\n",
       "      <td>0.583658</td>\n",
       "    </tr>\n",
       "    <tr>\n",
       "      <th>f1</th>\n",
       "      <td>0.283444</td>\n",
       "      <td>0.251613</td>\n",
       "      <td>0.318182</td>\n",
       "    </tr>\n",
       "    <tr>\n",
       "      <th>roc_auc</th>\n",
       "      <td>0.494969</td>\n",
       "      <td>0.463390</td>\n",
       "      <td>0.530490</td>\n",
       "    </tr>\n",
       "  </tbody>\n",
       "</table>\n",
       "</div>"
      ],
      "text/plain": [
       "              mean       min       max\n",
       "accuracy  0.570599  0.561165  0.583658\n",
       "f1        0.283444  0.251613  0.318182\n",
       "roc_auc   0.494969  0.463390  0.530490"
      ]
     },
     "metadata": {},
     "output_type": "display_data"
    },
    {
     "data": {
      "image/png": "[encoded data removed]",
      "text/plain": [
       "<Figure size 432x288 with 1 Axes>"
      ]
     },
     "metadata": {
      "needs_background": "light"
     },
     "output_type": "display_data"
    }
   ],
   "source": [
    "dummy_clf = DummyClassifier(strategy='stratified')\n",
    "\n",
    "evaluate_model(model=dummy_clf, X=X_train, y=y_train, label='DummyClassifier', method='predict_proba', n_jobs=-1)"
   ]
  },
  {
   "cell_type": "markdown",
   "metadata": {},
   "source": [
    "Полученные значения метрик примем за базовые и в конце сравним с ними лучший классификатор.\n",
    "\n",
    "На графике `ROC curve` видно, что кривая классификатора немного отклоняется от пунктирной линии, проходящей через центр, но очень близка к ней, поэтому далее на аналогичных графиках будем рисовать только пунктирную прямую, вместо того, чтобы вычислять её с помощью `DummyClassifier`."
   ]
  },
  {
   "cell_type": "markdown",
   "metadata": {},
   "source": [
    "### LogisticRegression"
   ]
  },
  {
   "cell_type": "markdown",
   "metadata": {},
   "source": [
    "Начнём с логистической регрессии. Это линейная модель, поэтому для неё важно, чтобы признаки имели единый масштаб. Будем выполнять стандартизацию признаков с помощью `StandardScaler`. Для классификатора установим параметр `class_weight` равным `balanced`, чтобы учесть дисбаланс классов."
   ]
  },
  {
   "cell_type": "code",
   "execution_count": 26,
   "metadata": {},
   "outputs": [
    {
     "name": "stdout",
     "output_type": "stream",
     "text": [
      "Метрики для LogisticRegression\n"
     ]
    },
    {
     "data": {
      "text/html": [
       "<div>\n",
       "<style scoped>\n",
       "    .dataframe tbody tr th:only-of-type {\n",
       "        vertical-align: middle;\n",
       "    }\n",
       "\n",
       "    .dataframe tbody tr th {\n",
       "        vertical-align: top;\n",
       "    }\n",
       "\n",
       "    .dataframe thead th {\n",
       "        text-align: right;\n",
       "    }\n",
       "</style>\n",
       "<table border=\"1\" class=\"dataframe\">\n",
       "  <thead>\n",
       "    <tr style=\"text-align: right;\">\n",
       "      <th></th>\n",
       "      <th>mean</th>\n",
       "      <th>min</th>\n",
       "      <th>max</th>\n",
       "    </tr>\n",
       "  </thead>\n",
       "  <tbody>\n",
       "    <tr>\n",
       "      <th>accuracy</th>\n",
       "      <td>0.627775</td>\n",
       "      <td>0.614786</td>\n",
       "      <td>0.645914</td>\n",
       "    </tr>\n",
       "    <tr>\n",
       "      <th>f1</th>\n",
       "      <td>0.496147</td>\n",
       "      <td>0.435530</td>\n",
       "      <td>0.533333</td>\n",
       "    </tr>\n",
       "    <tr>\n",
       "      <th>roc_auc</th>\n",
       "      <td>0.659505</td>\n",
       "      <td>0.610290</td>\n",
       "      <td>0.685038</td>\n",
       "    </tr>\n",
       "  </tbody>\n",
       "</table>\n",
       "</div>"
      ],
      "text/plain": [
       "              mean       min       max\n",
       "accuracy  0.627775  0.614786  0.645914\n",
       "f1        0.496147  0.435530  0.533333\n",
       "roc_auc   0.659505  0.610290  0.685038"
      ]
     },
     "metadata": {},
     "output_type": "display_data"
    },
    {
     "data": {
      "image/png": "[encoded data removed]",
      "text/plain": [
       "<Figure size 432x288 with 1 Axes>"
      ]
     },
     "metadata": {
      "needs_background": "light"
     },
     "output_type": "display_data"
    }
   ],
   "source": [
    "logpipe = make_pipeline(StandardScaler(), \n",
    "                        LogisticRegression(class_weight='balanced'),\n",
    "                       )\n",
    "evaluate_model(model=logpipe, X=X_train, y=y_train, label='LogisticRegression', n_jobs=-1)"
   ]
  },
  {
   "cell_type": "markdown",
   "metadata": {},
   "source": [
    "Полученный результат определённо лучше, чем у базовой модели."
   ]
  },
  {
   "cell_type": "markdown",
   "metadata": {},
   "source": [
    "### DecisionTreeClassifier"
   ]
  },
  {
   "cell_type": "markdown",
   "metadata": {},
   "source": [
    "Попробуем применить дерево решений. Деревья решений не должны быть чувствительны к различиям масштабов признаков, поэтому для начала обойдёмся без стандартизации."
   ]
  },
  {
   "cell_type": "code",
   "execution_count": 27,
   "metadata": {
    "scrolled": false
   },
   "outputs": [
    {
     "name": "stdout",
     "output_type": "stream",
     "text": [
      "Метрики для DefaultDecisionTree\n"
     ]
    },
    {
     "data": {
      "text/html": [
       "<div>\n",
       "<style scoped>\n",
       "    .dataframe tbody tr th:only-of-type {\n",
       "        vertical-align: middle;\n",
       "    }\n",
       "\n",
       "    .dataframe tbody tr th {\n",
       "        vertical-align: top;\n",
       "    }\n",
       "\n",
       "    .dataframe thead th {\n",
       "        text-align: right;\n",
       "    }\n",
       "</style>\n",
       "<table border=\"1\" class=\"dataframe\">\n",
       "  <thead>\n",
       "    <tr style=\"text-align: right;\">\n",
       "      <th></th>\n",
       "      <th>mean</th>\n",
       "      <th>min</th>\n",
       "      <th>max</th>\n",
       "    </tr>\n",
       "  </thead>\n",
       "  <tbody>\n",
       "    <tr>\n",
       "      <th>accuracy</th>\n",
       "      <td>0.716464</td>\n",
       "      <td>0.687379</td>\n",
       "      <td>0.737354</td>\n",
       "    </tr>\n",
       "    <tr>\n",
       "      <th>f1</th>\n",
       "      <td>0.542058</td>\n",
       "      <td>0.506410</td>\n",
       "      <td>0.585670</td>\n",
       "    </tr>\n",
       "    <tr>\n",
       "      <th>roc_auc</th>\n",
       "      <td>0.665920</td>\n",
       "      <td>0.643557</td>\n",
       "      <td>0.693180</td>\n",
       "    </tr>\n",
       "  </tbody>\n",
       "</table>\n",
       "</div>"
      ],
      "text/plain": [
       "              mean       min       max\n",
       "accuracy  0.716464  0.687379  0.737354\n",
       "f1        0.542058  0.506410  0.585670\n",
       "roc_auc   0.665920  0.643557  0.693180"
      ]
     },
     "metadata": {},
     "output_type": "display_data"
    },
    {
     "data": {
      "image/png": "[encoded data removed]",
      "text/plain": [
       "<Figure size 432x288 with 1 Axes>"
      ]
     },
     "metadata": {
      "needs_background": "light"
     },
     "output_type": "display_data"
    }
   ],
   "source": [
    "evaluate_model(model=DecisionTreeClassifier(), X=X_train, y=y_train, label='DefaultDecisionTree', method='predict_proba', n_jobs=-1)"
   ]
  },
  {
   "cell_type": "markdown",
   "metadata": {},
   "source": [
    "Результаты лучше чем у логистической регрессии."
   ]
  },
  {
   "cell_type": "markdown",
   "metadata": {},
   "source": [
    "### RandomForestClassifier"
   ]
  },
  {
   "cell_type": "markdown",
   "metadata": {},
   "source": [
    "Напоследок, проверим `RandomForestClassifier`."
   ]
  },
  {
   "cell_type": "code",
   "execution_count": 28,
   "metadata": {},
   "outputs": [
    {
     "name": "stdout",
     "output_type": "stream",
     "text": [
      "Метрики для RandomForest\n"
     ]
    },
    {
     "data": {
      "text/html": [
       "<div>\n",
       "<style scoped>\n",
       "    .dataframe tbody tr th:only-of-type {\n",
       "        vertical-align: middle;\n",
       "    }\n",
       "\n",
       "    .dataframe tbody tr th {\n",
       "        vertical-align: top;\n",
       "    }\n",
       "\n",
       "    .dataframe thead th {\n",
       "        text-align: right;\n",
       "    }\n",
       "</style>\n",
       "<table border=\"1\" class=\"dataframe\">\n",
       "  <thead>\n",
       "    <tr style=\"text-align: right;\">\n",
       "      <th></th>\n",
       "      <th>mean</th>\n",
       "      <th>min</th>\n",
       "      <th>max</th>\n",
       "    </tr>\n",
       "  </thead>\n",
       "  <tbody>\n",
       "    <tr>\n",
       "      <th>accuracy</th>\n",
       "      <td>0.796581</td>\n",
       "      <td>0.778210</td>\n",
       "      <td>0.821012</td>\n",
       "    </tr>\n",
       "    <tr>\n",
       "      <th>f1</th>\n",
       "      <td>0.628621</td>\n",
       "      <td>0.582734</td>\n",
       "      <td>0.690909</td>\n",
       "    </tr>\n",
       "    <tr>\n",
       "      <th>roc_auc</th>\n",
       "      <td>0.794058</td>\n",
       "      <td>0.771361</td>\n",
       "      <td>0.813433</td>\n",
       "    </tr>\n",
       "  </tbody>\n",
       "</table>\n",
       "</div>"
      ],
      "text/plain": [
       "              mean       min       max\n",
       "accuracy  0.796581  0.778210  0.821012\n",
       "f1        0.628621  0.582734  0.690909\n",
       "roc_auc   0.794058  0.771361  0.813433"
      ]
     },
     "metadata": {},
     "output_type": "display_data"
    },
    {
     "data": {
      "image/png": "[encoded data removed]",
      "text/plain": [
       "<Figure size 432x288 with 1 Axes>"
      ]
     },
     "metadata": {
      "needs_background": "light"
     },
     "output_type": "display_data"
    }
   ],
   "source": [
    "forest = RandomForestClassifier()\n",
    "evaluate_model(model=forest, X=X_train, y=y_train, method='predict_proba', label='RandomForest', n_jobs=-1)"
   ]
  },
  {
   "cell_type": "markdown",
   "metadata": {},
   "source": [
    "Результат существенно лучше, чем у двух предыдущих моделей. \n",
    "\n",
    "Предположим, что на результаты модели влияют дисбаланс классов и наличие корреляции между признаками, чтобы избавиться от влияния этих факторов добавим в конвейер стандартизацию, апсемплинг (чтобы устранить дисбаланс классов) и разложение на главные компоненты (чтобы устранить корреляцию)."
   ]
  },
  {
   "cell_type": "code",
   "execution_count": 29,
   "metadata": {},
   "outputs": [
    {
     "name": "stdout",
     "output_type": "stream",
     "text": [
      "Метрики для forest_pipline\n"
     ]
    },
    {
     "data": {
      "text/html": [
       "<div>\n",
       "<style scoped>\n",
       "    .dataframe tbody tr th:only-of-type {\n",
       "        vertical-align: middle;\n",
       "    }\n",
       "\n",
       "    .dataframe tbody tr th {\n",
       "        vertical-align: top;\n",
       "    }\n",
       "\n",
       "    .dataframe thead th {\n",
       "        text-align: right;\n",
       "    }\n",
       "</style>\n",
       "<table border=\"1\" class=\"dataframe\">\n",
       "  <thead>\n",
       "    <tr style=\"text-align: right;\">\n",
       "      <th></th>\n",
       "      <th>mean</th>\n",
       "      <th>min</th>\n",
       "      <th>max</th>\n",
       "    </tr>\n",
       "  </thead>\n",
       "  <tbody>\n",
       "    <tr>\n",
       "      <th>accuracy</th>\n",
       "      <td>0.761572</td>\n",
       "      <td>0.747082</td>\n",
       "      <td>0.776265</td>\n",
       "    </tr>\n",
       "    <tr>\n",
       "      <th>f1</th>\n",
       "      <td>0.608740</td>\n",
       "      <td>0.569697</td>\n",
       "      <td>0.645768</td>\n",
       "    </tr>\n",
       "    <tr>\n",
       "      <th>roc_auc</th>\n",
       "      <td>0.778063</td>\n",
       "      <td>0.750914</td>\n",
       "      <td>0.802236</td>\n",
       "    </tr>\n",
       "  </tbody>\n",
       "</table>\n",
       "</div>"
      ],
      "text/plain": [
       "              mean       min       max\n",
       "accuracy  0.761572  0.747082  0.776265\n",
       "f1        0.608740  0.569697  0.645768\n",
       "roc_auc   0.778063  0.750914  0.802236"
      ]
     },
     "metadata": {},
     "output_type": "display_data"
    },
    {
     "data": {
      "image/png": "[encoded data removed]",
      "text/plain": [
       "<Figure size 432x288 with 1 Axes>"
      ]
     },
     "metadata": {
      "needs_background": "light"
     },
     "output_type": "display_data"
    }
   ],
   "source": [
    "forest_pipeline = Pipeline([\n",
    "    ('scaler', StandardScaler()),\n",
    "    ('oversampler', SMOTE()),\n",
    "    ('pca', PCA()),\n",
    "    ('classifier', RandomForestClassifier())\n",
    "])\n",
    "\n",
    "evaluate_model(model=forest_pipeline, X=X_train, y=y_train, method='predict_proba', label='forest_pipline', n_jobs=-1)"
   ]
  },
  {
   "cell_type": "markdown",
   "metadata": {},
   "source": [
    "Результаты как-будто стали хуже, прежде чем браковать конвейер, попробуем настроить гиперпараметры."
   ]
  },
  {
   "cell_type": "markdown",
   "metadata": {},
   "source": [
    "Будем настраивать параметры апсемплинга, разложения на главные компоненты и самого классификатора, это приведёт к очень большому количеству различных вариантов параметров. Чтобы съэкономить время и иметь возможность удобно управлять количеством итераций при подборе гиперпараметров будем использовать `RandomizedSearchCV` вместо `GridSearchCV`.\n",
    "\n",
    "Будем рассмптривать два варианта конвейра: с оверсемплингом и без и настраивать следующие гиперпараметры:\n",
    "- `oversampler__k_neighbors` - количество ближайших соседей в алгоритме апсемплинга;\n",
    "- `pca__n_components` - количество главных компонент, которые будут оставлены после разложения;\n",
    "- `classifier__n_estimators` - количество деревьев решений в классификаторе;\n",
    "- `classifier__max_depth` - максимальная глубина дерева;\n",
    "- `classifier__min_samples_split` - минимальное количество наблюдений, которое может разделить узел дерева;\n",
    "- `classifier__class_weight` - параметр, позволяющий учесть дисбаланс классов.\n",
    "\n",
    "По условию задачи целевая метрика **accuracy**, поэтому будем выполнять оптимизацию гиперпараметров по ней."
   ]
  },
  {
   "cell_type": "code",
   "execution_count": 30,
   "metadata": {
    "scrolled": true
   },
   "outputs": [
    {
     "name": "stdout",
     "output_type": "stream",
     "text": [
      "Fitting 5 folds for each of 1000 candidates, totalling 5000 fits\n"
     ]
    },
    {
     "data": {
      "text/plain": [
       "{'pca__n_components': 3,\n",
       " 'oversampler': 'passthrough',\n",
       " 'classifier__n_estimators': 26,\n",
       " 'classifier__min_samples_split': 33,\n",
       " 'classifier__max_depth': 52,\n",
       " 'classifier__class_weight': None}"
      ]
     },
     "execution_count": 30,
     "metadata": {},
     "output_type": "execute_result"
    }
   ],
   "source": [
    "forest_pipeline = Pipeline([\n",
    "    ('scaler', StandardScaler()),\n",
    "    ('oversampler', SMOTE()),\n",
    "    ('pca', PCA()),\n",
    "    ('classifier', RandomForestClassifier()),\n",
    "])\n",
    "\n",
    "\n",
    "param_distribs = [\n",
    "    {'oversampler': ['passthrough'],\n",
    "     'pca__n_components': [2, 3, None],\n",
    "     'classifier__n_estimators': list(range(1, 200)),\n",
    "     'classifier__max_depth': list(range(1, 100)),\n",
    "     'classifier__min_samples_split': list(range(2, 100)),\n",
    "     'classifier__class_weight': [None, 'balanced'],\n",
    "    },\n",
    "    \n",
    "    {'oversampler__k_neighbors': list(range(2, 100)),\n",
    "     'pca__n_components': [2, 3, None],\n",
    "     'classifier__n_estimators': list(range(1, 200)),\n",
    "     'classifier__max_depth': list(range(1, 100)),\n",
    "     'classifier__min_samples_split': list(range(2, 100)),\n",
    "     'classifier__class_weight': [None, 'balanced'],\n",
    "    }\n",
    "]\n",
    "\n",
    "\n",
    "rand_search = RandomizedSearchCV(estimator=forest_pipeline,\n",
    "                                 param_distributions=param_distribs,\n",
    "                                 n_iter=1000,\n",
    "                                 scoring='accuracy',\n",
    "                                 n_jobs=-1,\n",
    "                                 cv=5,\n",
    "                                 verbose=1,\n",
    "                                )\n",
    "\n",
    "rand_search.fit(X_train, y_train)\n",
    "\n",
    "rand_search.best_params_"
   ]
  },
  {
   "cell_type": "markdown",
   "metadata": {},
   "source": [
    "Победил конвейер без апсемплинга, его параметры приведены выше. Оценим производительность настроенной модели."
   ]
  },
  {
   "cell_type": "code",
   "execution_count": 31,
   "metadata": {},
   "outputs": [
    {
     "name": "stdout",
     "output_type": "stream",
     "text": [
      "Метрики для forest_pipline\n"
     ]
    },
    {
     "data": {
      "text/html": [
       "<div>\n",
       "<style scoped>\n",
       "    .dataframe tbody tr th:only-of-type {\n",
       "        vertical-align: middle;\n",
       "    }\n",
       "\n",
       "    .dataframe tbody tr th {\n",
       "        vertical-align: top;\n",
       "    }\n",
       "\n",
       "    .dataframe thead th {\n",
       "        text-align: right;\n",
       "    }\n",
       "</style>\n",
       "<table border=\"1\" class=\"dataframe\">\n",
       "  <thead>\n",
       "    <tr style=\"text-align: right;\">\n",
       "      <th></th>\n",
       "      <th>mean</th>\n",
       "      <th>min</th>\n",
       "      <th>max</th>\n",
       "    </tr>\n",
       "  </thead>\n",
       "  <tbody>\n",
       "    <tr>\n",
       "      <th>accuracy</th>\n",
       "      <td>0.802418</td>\n",
       "      <td>0.784466</td>\n",
       "      <td>0.828794</td>\n",
       "    </tr>\n",
       "    <tr>\n",
       "      <th>f1</th>\n",
       "      <td>0.623427</td>\n",
       "      <td>0.569288</td>\n",
       "      <td>0.669091</td>\n",
       "    </tr>\n",
       "    <tr>\n",
       "      <th>roc_auc</th>\n",
       "      <td>0.806619</td>\n",
       "      <td>0.782753</td>\n",
       "      <td>0.832397</td>\n",
       "    </tr>\n",
       "  </tbody>\n",
       "</table>\n",
       "</div>"
      ],
      "text/plain": [
       "              mean       min       max\n",
       "accuracy  0.802418  0.784466  0.828794\n",
       "f1        0.623427  0.569288  0.669091\n",
       "roc_auc   0.806619  0.782753  0.832397"
      ]
     },
     "metadata": {},
     "output_type": "display_data"
    },
    {
     "data": {
      "image/png": "[encoded data removed]",
      "text/plain": [
       "<Figure size 432x288 with 1 Axes>"
      ]
     },
     "metadata": {
      "needs_background": "light"
     },
     "output_type": "display_data"
    }
   ],
   "source": [
    "best_forest = rand_search.best_estimator_\n",
    "\n",
    "evaluate_model(model=best_forest, X=X_train, y=y_train, method='predict_proba', label='forest_pipline', n_jobs=-1)"
   ]
  },
  {
   "cell_type": "markdown",
   "metadata": {},
   "source": [
    "Результаты удалось улучшить. Проверим данную модель на тестовой выборке."
   ]
  },
  {
   "cell_type": "markdown",
   "metadata": {},
   "source": [
    "## Проверьте модель на тестовой выборке"
   ]
  },
  {
   "cell_type": "code",
   "execution_count": 32,
   "metadata": {},
   "outputs": [
    {
     "name": "stdout",
     "output_type": "stream",
     "text": [
      "Accuracy: 0.82\n",
      "F1 score: 0.66\n",
      "ROC AUC: 0.75\n"
     ]
    },
    {
     "data": {
      "image/png": "[encoded data removed]",
      "text/plain": [
       "<Figure size 432x288 with 1 Axes>"
      ]
     },
     "metadata": {
      "needs_background": "light"
     },
     "output_type": "display_data"
    }
   ],
   "source": [
    "def check_on_test(model, X, y, label):\n",
    "    '''Вычисляет и выводит на экран сводку опроизводительности модели на \n",
    "    тестовом наборе аналогично функции evaluate_model'''\n",
    "    y_pred = model.predict(X)\n",
    "    \n",
    "    print(f'Accuracy: {accuracy_score(y, y_pred):.2f}')\n",
    "    print(f'F1 score: {f1_score(y, y_pred):.2f}')\n",
    "    print(f'ROC AUC: {roc_auc_score(y, y_pred):.2f}')\n",
    "    \n",
    "    y_scores = model.predict_proba(X)[:, -1]\n",
    "    \n",
    "    plot_roc_curve(y, y_scores, label=label)\n",
    "    plt.show()\n",
    "    \n",
    "    \n",
    "check_on_test(model=best_forest, X=X_test, y=y_test, label='Best_RandomForestClassifier')"
   ]
  },
  {
   "cell_type": "markdown",
   "metadata": {},
   "source": [
    "Точность на тестовой выборке получилась даже лучше чем на тренировочной, однако это может быть результатом \"удачного\" разделения на тренировочную и тестовую выборки."
   ]
  },
  {
   "cell_type": "markdown",
   "metadata": {},
   "source": [
    "## (бонус) Проверьте модели на адекватность"
   ]
  },
  {
   "cell_type": "markdown",
   "metadata": {},
   "source": [
    "Чтобы убедиться, что итоговая модель сделана не зря, проверим на тестовой выборке базовую модель, которая предсказывает целевую переменную случайным образом, и сравним результаты."
   ]
  },
  {
   "cell_type": "code",
   "execution_count": 33,
   "metadata": {},
   "outputs": [
    {
     "name": "stdout",
     "output_type": "stream",
     "text": [
      "Accuracy: 0.58\n",
      "F1 score: 0.32\n",
      "ROC AUC: 0.51\n"
     ]
    },
    {
     "data": {
      "image/png": "[encoded data removed]",
      "text/plain": [
       "<Figure size 432x288 with 1 Axes>"
      ]
     },
     "metadata": {
      "needs_background": "light"
     },
     "output_type": "display_data"
    }
   ],
   "source": [
    "check_on_test(model=dummy_clf.fit(X_train, y_train), X=X_test, y=y_test, label='DummyClassifier')"
   ]
  },
  {
   "cell_type": "markdown",
   "metadata": {},
   "source": [
    "Полученные значения метрик значительно ниже, чем у конвейра `best_forest`."
   ]
  },
  {
   "cell_type": "markdown",
   "metadata": {},
   "source": [
    "## Вывод\n",
    "\n",
    "Среди рассмотренных простых моделей лучший результат показал `RandomForestClassifier`, даже сам по себе классификатор без настройки гиперпараметров показал по результатам кросс-валидации точность выше 0.75.\n",
    "\n",
    "После настроек гиперпарамеров лучшие результаты среди всех моделей показал конвейер без апсемплинга:\n",
    "```Python\n",
    "best_forest = Pipeline([\n",
    "    ('scaler', StandardScaler()),\n",
    "    ('pca', PCA(n_components=None)),\n",
    "    ('classifier', RandomForestClassifier(n_estimators=178,\n",
    "                                          min_samples_split=36,\n",
    "                                          max_depth=40,\n",
    "                                          class_weight=None)),\n",
    "])\n",
    "```\n",
    "\n",
    "Значения метрик для финальной модели (`best_forest`) значительно выше, чем для `DummyClassifier`, \n",
    "то есть полученная модель адекватна, и её использование имеет смысл."
   ]
  }
 ],
 "metadata": {
  "ExecuteTimeLog": [
   {
    "duration": 1258,
    "start_time": "2022-12-04T07:07:09.846Z"
   },
   {
    "duration": 164,
    "start_time": "2022-12-04T07:08:04.811Z"
   },
   {
    "duration": 4,
    "start_time": "2022-12-04T07:08:11.369Z"
   },
   {
    "duration": 1130,
    "start_time": "2022-12-04T07:10:21.375Z"
   },
   {
    "duration": 143,
    "start_time": "2022-12-04T07:14:14.560Z"
   },
   {
    "duration": 37,
    "start_time": "2022-12-04T07:14:27.937Z"
   },
   {
    "duration": 13,
    "start_time": "2022-12-04T07:14:37.234Z"
   },
   {
    "duration": 1160,
    "start_time": "2022-12-04T07:15:27.842Z"
   },
   {
    "duration": 45,
    "start_time": "2022-12-04T07:15:29.004Z"
   },
   {
    "duration": 14,
    "start_time": "2022-12-04T07:15:29.051Z"
   },
   {
    "duration": 4,
    "start_time": "2022-12-04T07:24:59.470Z"
   },
   {
    "duration": 1125,
    "start_time": "2022-12-04T07:30:41.344Z"
   },
   {
    "duration": 44,
    "start_time": "2022-12-04T07:30:42.471Z"
   },
   {
    "duration": 77,
    "start_time": "2022-12-04T07:30:42.516Z"
   },
   {
    "duration": 17,
    "start_time": "2022-12-04T07:30:42.595Z"
   },
   {
    "duration": 28,
    "start_time": "2022-12-04T07:30:42.614Z"
   },
   {
    "duration": 1087,
    "start_time": "2022-12-04T07:31:24.064Z"
   },
   {
    "duration": 44,
    "start_time": "2022-12-04T07:31:25.153Z"
   },
   {
    "duration": 12,
    "start_time": "2022-12-04T07:31:25.199Z"
   },
   {
    "duration": 6,
    "start_time": "2022-12-04T07:31:25.213Z"
   },
   {
    "duration": 7,
    "start_time": "2022-12-04T07:31:50.024Z"
   },
   {
    "duration": 4,
    "start_time": "2022-12-04T07:33:57.486Z"
   },
   {
    "duration": 1159,
    "start_time": "2022-12-04T07:37:32.577Z"
   },
   {
    "duration": 46,
    "start_time": "2022-12-04T07:37:33.738Z"
   },
   {
    "duration": 12,
    "start_time": "2022-12-04T07:37:33.786Z"
   },
   {
    "duration": 5,
    "start_time": "2022-12-04T07:37:33.800Z"
   },
   {
    "duration": 6,
    "start_time": "2022-12-04T07:37:33.806Z"
   },
   {
    "duration": 7,
    "start_time": "2022-12-04T07:37:33.814Z"
   },
   {
    "duration": 1137,
    "start_time": "2022-12-04T07:56:52.063Z"
   },
   {
    "duration": 46,
    "start_time": "2022-12-04T07:56:53.202Z"
   },
   {
    "duration": 13,
    "start_time": "2022-12-04T07:56:53.249Z"
   },
   {
    "duration": 7,
    "start_time": "2022-12-04T07:56:53.264Z"
   },
   {
    "duration": 9,
    "start_time": "2022-12-04T07:56:53.273Z"
   },
   {
    "duration": 10,
    "start_time": "2022-12-04T07:56:53.284Z"
   },
   {
    "duration": 44,
    "start_time": "2022-12-07T07:40:56.456Z"
   },
   {
    "duration": 1060,
    "start_time": "2022-12-07T07:41:01.475Z"
   },
   {
    "duration": 97,
    "start_time": "2022-12-07T07:41:02.537Z"
   },
   {
    "duration": 10,
    "start_time": "2022-12-07T07:41:02.636Z"
   },
   {
    "duration": 14,
    "start_time": "2022-12-07T07:41:02.648Z"
   },
   {
    "duration": 26,
    "start_time": "2022-12-07T07:41:02.663Z"
   },
   {
    "duration": 4,
    "start_time": "2022-12-07T07:41:30.929Z"
   },
   {
    "duration": 6,
    "start_time": "2022-12-07T07:44:15.891Z"
   },
   {
    "duration": 7,
    "start_time": "2022-12-07T07:44:45.508Z"
   },
   {
    "duration": 5,
    "start_time": "2022-12-07T07:45:22.812Z"
   },
   {
    "duration": 4,
    "start_time": "2022-12-07T07:47:32.109Z"
   },
   {
    "duration": 3,
    "start_time": "2022-12-07T07:47:39.534Z"
   },
   {
    "duration": 1036,
    "start_time": "2022-12-07T07:47:56.231Z"
   },
   {
    "duration": 42,
    "start_time": "2022-12-07T07:47:57.269Z"
   },
   {
    "duration": 10,
    "start_time": "2022-12-07T07:47:57.313Z"
   },
   {
    "duration": 13,
    "start_time": "2022-12-07T07:47:57.324Z"
   },
   {
    "duration": 4,
    "start_time": "2022-12-07T07:48:20.693Z"
   },
   {
    "duration": 102,
    "start_time": "2022-12-07T07:50:02.847Z"
   },
   {
    "duration": 4,
    "start_time": "2022-12-07T07:50:10.751Z"
   },
   {
    "duration": 4,
    "start_time": "2022-12-07T07:51:04.160Z"
   },
   {
    "duration": 7,
    "start_time": "2022-12-07T07:51:46.064Z"
   },
   {
    "duration": 8,
    "start_time": "2022-12-07T07:51:48.975Z"
   },
   {
    "duration": 4,
    "start_time": "2022-12-07T07:51:51.551Z"
   },
   {
    "duration": 11,
    "start_time": "2022-12-07T07:51:52.296Z"
   },
   {
    "duration": 9,
    "start_time": "2022-12-07T07:52:30.360Z"
   },
   {
    "duration": 1082,
    "start_time": "2022-12-07T07:52:38.354Z"
   },
   {
    "duration": 41,
    "start_time": "2022-12-07T07:52:39.438Z"
   },
   {
    "duration": 10,
    "start_time": "2022-12-07T07:52:39.481Z"
   },
   {
    "duration": 6,
    "start_time": "2022-12-07T07:52:39.492Z"
   },
   {
    "duration": 6,
    "start_time": "2022-12-07T07:52:39.500Z"
   },
   {
    "duration": 8,
    "start_time": "2022-12-07T07:52:39.507Z"
   },
   {
    "duration": 3,
    "start_time": "2022-12-07T07:52:39.516Z"
   },
   {
    "duration": 7,
    "start_time": "2022-12-07T07:52:39.520Z"
   },
   {
    "duration": 1018,
    "start_time": "2022-12-07T07:59:18.818Z"
   },
   {
    "duration": 44,
    "start_time": "2022-12-07T07:59:19.838Z"
   },
   {
    "duration": 12,
    "start_time": "2022-12-07T07:59:19.883Z"
   },
   {
    "duration": 6,
    "start_time": "2022-12-07T07:59:19.897Z"
   },
   {
    "duration": 8,
    "start_time": "2022-12-07T07:59:19.905Z"
   },
   {
    "duration": 9,
    "start_time": "2022-12-07T07:59:19.915Z"
   },
   {
    "duration": 3,
    "start_time": "2022-12-07T07:59:19.926Z"
   },
   {
    "duration": 5,
    "start_time": "2022-12-07T07:59:19.931Z"
   },
   {
    "duration": 1075,
    "start_time": "2022-12-07T08:15:44.697Z"
   },
   {
    "duration": 0,
    "start_time": "2022-12-07T08:15:45.777Z"
   },
   {
    "duration": 0,
    "start_time": "2022-12-07T08:15:45.778Z"
   },
   {
    "duration": 0,
    "start_time": "2022-12-07T08:15:45.780Z"
   },
   {
    "duration": 0,
    "start_time": "2022-12-07T08:15:45.781Z"
   },
   {
    "duration": 0,
    "start_time": "2022-12-07T08:15:45.782Z"
   },
   {
    "duration": 0,
    "start_time": "2022-12-07T08:15:45.783Z"
   },
   {
    "duration": 0,
    "start_time": "2022-12-07T08:15:45.785Z"
   },
   {
    "duration": 0,
    "start_time": "2022-12-07T08:15:45.786Z"
   },
   {
    "duration": 3,
    "start_time": "2022-12-07T08:16:07.879Z"
   },
   {
    "duration": 1031,
    "start_time": "2022-12-07T08:16:11.040Z"
   },
   {
    "duration": 42,
    "start_time": "2022-12-07T08:16:12.073Z"
   },
   {
    "duration": 12,
    "start_time": "2022-12-07T08:16:12.117Z"
   },
   {
    "duration": 6,
    "start_time": "2022-12-07T08:16:12.131Z"
   },
   {
    "duration": 6,
    "start_time": "2022-12-07T08:16:12.140Z"
   },
   {
    "duration": 7,
    "start_time": "2022-12-07T08:16:12.148Z"
   },
   {
    "duration": 4,
    "start_time": "2022-12-07T08:16:12.156Z"
   },
   {
    "duration": 5,
    "start_time": "2022-12-07T08:16:12.162Z"
   },
   {
    "duration": 1572,
    "start_time": "2022-12-07T08:16:12.169Z"
   },
   {
    "duration": 1243,
    "start_time": "2022-12-07T08:16:27.016Z"
   },
   {
    "duration": 1220,
    "start_time": "2022-12-07T08:19:37.824Z"
   },
   {
    "duration": 40,
    "start_time": "2022-12-07T08:19:39.046Z"
   },
   {
    "duration": 10,
    "start_time": "2022-12-07T08:19:39.088Z"
   },
   {
    "duration": 6,
    "start_time": "2022-12-07T08:19:39.100Z"
   },
   {
    "duration": 9,
    "start_time": "2022-12-07T08:19:39.108Z"
   },
   {
    "duration": 8,
    "start_time": "2022-12-07T08:19:39.119Z"
   },
   {
    "duration": 3,
    "start_time": "2022-12-07T08:19:39.128Z"
   },
   {
    "duration": 8,
    "start_time": "2022-12-07T08:19:39.133Z"
   },
   {
    "duration": 1203,
    "start_time": "2022-12-07T08:19:39.142Z"
   },
   {
    "duration": 1306,
    "start_time": "2022-12-07T08:20:23.639Z"
   },
   {
    "duration": 1228,
    "start_time": "2022-12-07T08:20:38.016Z"
   },
   {
    "duration": 937,
    "start_time": "2022-12-07T08:21:08.552Z"
   },
   {
    "duration": 854,
    "start_time": "2022-12-07T08:21:24.872Z"
   },
   {
    "duration": 934,
    "start_time": "2022-12-07T08:21:31.456Z"
   },
   {
    "duration": 860,
    "start_time": "2022-12-07T08:21:42.208Z"
   },
   {
    "duration": 950,
    "start_time": "2022-12-07T08:21:59.666Z"
   },
   {
    "duration": 898,
    "start_time": "2022-12-07T08:22:10.128Z"
   },
   {
    "duration": 967,
    "start_time": "2022-12-07T08:23:18.089Z"
   },
   {
    "duration": 10,
    "start_time": "2022-12-07T08:24:04.649Z"
   },
   {
    "duration": 1290,
    "start_time": "2022-12-07T08:24:58.579Z"
   },
   {
    "duration": 45,
    "start_time": "2022-12-07T08:24:59.871Z"
   },
   {
    "duration": 11,
    "start_time": "2022-12-07T08:24:59.917Z"
   },
   {
    "duration": 13,
    "start_time": "2022-12-07T08:24:59.929Z"
   },
   {
    "duration": 19,
    "start_time": "2022-12-07T08:24:59.943Z"
   },
   {
    "duration": 14,
    "start_time": "2022-12-07T08:24:59.963Z"
   },
   {
    "duration": 4,
    "start_time": "2022-12-07T08:24:59.978Z"
   },
   {
    "duration": 6,
    "start_time": "2022-12-07T08:24:59.983Z"
   },
   {
    "duration": 959,
    "start_time": "2022-12-07T08:24:59.991Z"
   },
   {
    "duration": 10,
    "start_time": "2022-12-07T08:25:00.952Z"
   },
   {
    "duration": 19,
    "start_time": "2022-12-07T08:42:00.708Z"
   },
   {
    "duration": 94,
    "start_time": "2022-12-07T09:13:23.154Z"
   },
   {
    "duration": 1266,
    "start_time": "2022-12-07T09:13:30.980Z"
   },
   {
    "duration": 48,
    "start_time": "2022-12-07T09:13:32.248Z"
   },
   {
    "duration": 10,
    "start_time": "2022-12-07T09:13:32.298Z"
   },
   {
    "duration": 4,
    "start_time": "2022-12-07T09:13:32.310Z"
   },
   {
    "duration": 7,
    "start_time": "2022-12-07T09:13:32.316Z"
   },
   {
    "duration": 8,
    "start_time": "2022-12-07T09:13:32.324Z"
   },
   {
    "duration": 4,
    "start_time": "2022-12-07T09:13:32.333Z"
   },
   {
    "duration": 6,
    "start_time": "2022-12-07T09:13:32.339Z"
   },
   {
    "duration": 1027,
    "start_time": "2022-12-07T09:13:32.346Z"
   },
   {
    "duration": 11,
    "start_time": "2022-12-07T09:13:33.376Z"
   },
   {
    "duration": 7,
    "start_time": "2022-12-07T09:13:33.389Z"
   },
   {
    "duration": 5,
    "start_time": "2022-12-07T09:13:41.412Z"
   },
   {
    "duration": 6,
    "start_time": "2022-12-07T09:14:23.987Z"
   },
   {
    "duration": 59,
    "start_time": "2022-12-07T09:14:41.722Z"
   },
   {
    "duration": 1133,
    "start_time": "2022-12-07T09:16:04.330Z"
   },
   {
    "duration": 0,
    "start_time": "2022-12-07T09:16:05.465Z"
   },
   {
    "duration": 0,
    "start_time": "2022-12-07T09:16:05.466Z"
   },
   {
    "duration": 0,
    "start_time": "2022-12-07T09:16:05.467Z"
   },
   {
    "duration": 0,
    "start_time": "2022-12-07T09:16:05.468Z"
   },
   {
    "duration": 0,
    "start_time": "2022-12-07T09:16:05.469Z"
   },
   {
    "duration": 0,
    "start_time": "2022-12-07T09:16:05.470Z"
   },
   {
    "duration": 0,
    "start_time": "2022-12-07T09:16:05.478Z"
   },
   {
    "duration": 0,
    "start_time": "2022-12-07T09:16:05.479Z"
   },
   {
    "duration": 0,
    "start_time": "2022-12-07T09:16:05.481Z"
   },
   {
    "duration": 0,
    "start_time": "2022-12-07T09:16:05.482Z"
   },
   {
    "duration": 1269,
    "start_time": "2022-12-07T09:16:26.430Z"
   },
   {
    "duration": 40,
    "start_time": "2022-12-07T09:16:27.701Z"
   },
   {
    "duration": 11,
    "start_time": "2022-12-07T09:16:27.743Z"
   },
   {
    "duration": 7,
    "start_time": "2022-12-07T09:16:27.755Z"
   },
   {
    "duration": 5,
    "start_time": "2022-12-07T09:16:27.764Z"
   },
   {
    "duration": 9,
    "start_time": "2022-12-07T09:16:27.771Z"
   },
   {
    "duration": 9,
    "start_time": "2022-12-07T09:16:27.781Z"
   },
   {
    "duration": 17,
    "start_time": "2022-12-07T09:16:27.792Z"
   },
   {
    "duration": 1015,
    "start_time": "2022-12-07T09:16:27.810Z"
   },
   {
    "duration": 9,
    "start_time": "2022-12-07T09:16:28.827Z"
   },
   {
    "duration": 557,
    "start_time": "2022-12-07T09:16:28.838Z"
   },
   {
    "duration": 11,
    "start_time": "2022-12-07T09:17:20.669Z"
   },
   {
    "duration": 12,
    "start_time": "2022-12-07T09:17:52.117Z"
   },
   {
    "duration": 97,
    "start_time": "2022-12-07T09:20:38.222Z"
   },
   {
    "duration": 1328,
    "start_time": "2022-12-07T09:20:42.715Z"
   },
   {
    "duration": 52,
    "start_time": "2022-12-07T09:20:44.045Z"
   },
   {
    "duration": 16,
    "start_time": "2022-12-07T09:20:44.099Z"
   },
   {
    "duration": 7,
    "start_time": "2022-12-07T09:20:44.117Z"
   },
   {
    "duration": 9,
    "start_time": "2022-12-07T09:20:44.126Z"
   },
   {
    "duration": 12,
    "start_time": "2022-12-07T09:20:44.137Z"
   },
   {
    "duration": 8,
    "start_time": "2022-12-07T09:20:44.151Z"
   },
   {
    "duration": 22,
    "start_time": "2022-12-07T09:20:44.179Z"
   },
   {
    "duration": 1082,
    "start_time": "2022-12-07T09:20:44.203Z"
   },
   {
    "duration": 10,
    "start_time": "2022-12-07T09:20:45.289Z"
   },
   {
    "duration": 377,
    "start_time": "2022-12-07T09:20:45.301Z"
   },
   {
    "duration": 16,
    "start_time": "2022-12-07T09:20:45.680Z"
   },
   {
    "duration": 207,
    "start_time": "2022-12-07T09:20:45.698Z"
   },
   {
    "duration": 283,
    "start_time": "2022-12-07T09:20:45.907Z"
   },
   {
    "duration": 72,
    "start_time": "2022-12-07T09:21:00.190Z"
   },
   {
    "duration": 66,
    "start_time": "2022-12-07T09:21:13.599Z"
   },
   {
    "duration": 82,
    "start_time": "2022-12-07T09:21:18.240Z"
   },
   {
    "duration": 94,
    "start_time": "2022-12-07T09:21:22.298Z"
   },
   {
    "duration": 73,
    "start_time": "2022-12-07T09:21:33.033Z"
   },
   {
    "duration": 71,
    "start_time": "2022-12-07T09:22:03.844Z"
   },
   {
    "duration": 57,
    "start_time": "2022-12-07T09:22:06.518Z"
   },
   {
    "duration": 79,
    "start_time": "2022-12-07T09:22:54.841Z"
   },
   {
    "duration": 1415,
    "start_time": "2022-12-07T09:23:10.949Z"
   },
   {
    "duration": 49,
    "start_time": "2022-12-07T09:23:12.366Z"
   },
   {
    "duration": 15,
    "start_time": "2022-12-07T09:23:12.417Z"
   },
   {
    "duration": 16,
    "start_time": "2022-12-07T09:23:12.434Z"
   },
   {
    "duration": 10,
    "start_time": "2022-12-07T09:23:12.451Z"
   },
   {
    "duration": 9,
    "start_time": "2022-12-07T09:23:12.463Z"
   },
   {
    "duration": 7,
    "start_time": "2022-12-07T09:23:12.473Z"
   },
   {
    "duration": 21,
    "start_time": "2022-12-07T09:23:12.482Z"
   },
   {
    "duration": 1181,
    "start_time": "2022-12-07T09:23:12.505Z"
   },
   {
    "duration": 13,
    "start_time": "2022-12-07T09:23:13.689Z"
   },
   {
    "duration": 580,
    "start_time": "2022-12-07T09:23:13.705Z"
   },
   {
    "duration": 189,
    "start_time": "2022-12-07T09:23:14.293Z"
   },
   {
    "duration": 112,
    "start_time": "2022-12-07T09:23:14.489Z"
   },
   {
    "duration": 232,
    "start_time": "2022-12-07T09:23:14.608Z"
   },
   {
    "duration": 76,
    "start_time": "2022-12-07T09:23:14.842Z"
   },
   {
    "duration": 1339,
    "start_time": "2022-12-07T09:23:42.209Z"
   },
   {
    "duration": 44,
    "start_time": "2022-12-07T09:23:43.550Z"
   },
   {
    "duration": 13,
    "start_time": "2022-12-07T09:23:43.595Z"
   },
   {
    "duration": 4,
    "start_time": "2022-12-07T09:23:43.610Z"
   },
   {
    "duration": 10,
    "start_time": "2022-12-07T09:23:43.616Z"
   },
   {
    "duration": 9,
    "start_time": "2022-12-07T09:23:43.628Z"
   },
   {
    "duration": 4,
    "start_time": "2022-12-07T09:23:43.639Z"
   },
   {
    "duration": 5,
    "start_time": "2022-12-07T09:23:43.645Z"
   },
   {
    "duration": 1264,
    "start_time": "2022-12-07T09:23:43.677Z"
   },
   {
    "duration": 10,
    "start_time": "2022-12-07T09:23:44.943Z"
   },
   {
    "duration": 523,
    "start_time": "2022-12-07T09:23:44.955Z"
   },
   {
    "duration": 15,
    "start_time": "2022-12-07T09:23:45.480Z"
   },
   {
    "duration": 200,
    "start_time": "2022-12-07T09:23:45.498Z"
   },
   {
    "duration": 250,
    "start_time": "2022-12-07T09:23:45.701Z"
   },
   {
    "duration": 67,
    "start_time": "2022-12-07T09:23:45.952Z"
   },
   {
    "duration": 1586,
    "start_time": "2022-12-08T02:59:11.881Z"
   },
   {
    "duration": 198,
    "start_time": "2022-12-08T02:59:13.469Z"
   },
   {
    "duration": 13,
    "start_time": "2022-12-08T02:59:13.668Z"
   },
   {
    "duration": 6,
    "start_time": "2022-12-08T02:59:13.684Z"
   },
   {
    "duration": 6,
    "start_time": "2022-12-08T02:59:13.692Z"
   },
   {
    "duration": 13,
    "start_time": "2022-12-08T02:59:13.700Z"
   },
   {
    "duration": 4,
    "start_time": "2022-12-08T02:59:13.716Z"
   },
   {
    "duration": 20,
    "start_time": "2022-12-08T02:59:13.723Z"
   },
   {
    "duration": 1147,
    "start_time": "2022-12-08T02:59:13.745Z"
   },
   {
    "duration": 10,
    "start_time": "2022-12-08T02:59:14.895Z"
   },
   {
    "duration": 117,
    "start_time": "2022-12-08T02:59:14.906Z"
   },
   {
    "duration": 103,
    "start_time": "2022-12-08T02:59:15.112Z"
   },
   {
    "duration": 105,
    "start_time": "2022-12-08T02:59:15.217Z"
   },
   {
    "duration": 271,
    "start_time": "2022-12-08T02:59:15.323Z"
   },
   {
    "duration": 82,
    "start_time": "2022-12-08T02:59:15.595Z"
   },
   {
    "duration": 925,
    "start_time": "2022-12-08T03:00:10.514Z"
   },
   {
    "duration": 13,
    "start_time": "2022-12-08T03:00:22.774Z"
   },
   {
    "duration": 604,
    "start_time": "2022-12-08T03:00:41.109Z"
   },
   {
    "duration": 448,
    "start_time": "2022-12-08T03:00:54.765Z"
   },
   {
    "duration": 1363,
    "start_time": "2022-12-08T03:01:32.687Z"
   },
   {
    "duration": 41,
    "start_time": "2022-12-08T03:01:34.052Z"
   },
   {
    "duration": 11,
    "start_time": "2022-12-08T03:01:34.095Z"
   },
   {
    "duration": 7,
    "start_time": "2022-12-08T03:01:34.108Z"
   },
   {
    "duration": 6,
    "start_time": "2022-12-08T03:01:34.117Z"
   },
   {
    "duration": 8,
    "start_time": "2022-12-08T03:01:34.125Z"
   },
   {
    "duration": 5,
    "start_time": "2022-12-08T03:01:34.135Z"
   },
   {
    "duration": 6,
    "start_time": "2022-12-08T03:01:34.142Z"
   },
   {
    "duration": 1137,
    "start_time": "2022-12-08T03:01:34.150Z"
   },
   {
    "duration": 10,
    "start_time": "2022-12-08T03:01:35.289Z"
   },
   {
    "duration": 28,
    "start_time": "2022-12-08T03:01:35.301Z"
   },
   {
    "duration": 105,
    "start_time": "2022-12-08T03:01:35.413Z"
   },
   {
    "duration": 99,
    "start_time": "2022-12-08T03:01:35.520Z"
   },
   {
    "duration": 241,
    "start_time": "2022-12-08T03:01:35.623Z"
   },
   {
    "duration": 82,
    "start_time": "2022-12-08T03:01:35.865Z"
   },
   {
    "duration": 6,
    "start_time": "2022-12-08T03:01:35.949Z"
   },
   {
    "duration": 1274,
    "start_time": "2022-12-08T03:15:42.457Z"
   },
   {
    "duration": 40,
    "start_time": "2022-12-08T03:15:43.733Z"
   },
   {
    "duration": 11,
    "start_time": "2022-12-08T03:15:43.775Z"
   },
   {
    "duration": 6,
    "start_time": "2022-12-08T03:15:43.788Z"
   },
   {
    "duration": 5,
    "start_time": "2022-12-08T03:15:43.797Z"
   },
   {
    "duration": 9,
    "start_time": "2022-12-08T03:15:43.803Z"
   },
   {
    "duration": 5,
    "start_time": "2022-12-08T03:15:43.814Z"
   },
   {
    "duration": 8,
    "start_time": "2022-12-08T03:15:43.820Z"
   },
   {
    "duration": 1105,
    "start_time": "2022-12-08T03:15:43.830Z"
   },
   {
    "duration": 11,
    "start_time": "2022-12-08T03:15:44.939Z"
   },
   {
    "duration": 68,
    "start_time": "2022-12-08T03:15:44.952Z"
   },
   {
    "duration": 109,
    "start_time": "2022-12-08T03:15:45.113Z"
   },
   {
    "duration": 193,
    "start_time": "2022-12-08T03:15:45.226Z"
   },
   {
    "duration": 254,
    "start_time": "2022-12-08T03:15:45.425Z"
   },
   {
    "duration": 76,
    "start_time": "2022-12-08T03:15:45.681Z"
   },
   {
    "duration": 6,
    "start_time": "2022-12-08T03:15:45.758Z"
   },
   {
    "duration": 1351,
    "start_time": "2022-12-08T03:21:25.842Z"
   },
   {
    "duration": 42,
    "start_time": "2022-12-08T03:21:27.195Z"
   },
   {
    "duration": 12,
    "start_time": "2022-12-08T03:21:27.238Z"
   },
   {
    "duration": 6,
    "start_time": "2022-12-08T03:21:27.252Z"
   },
   {
    "duration": 7,
    "start_time": "2022-12-08T03:21:27.260Z"
   },
   {
    "duration": 8,
    "start_time": "2022-12-08T03:21:27.268Z"
   },
   {
    "duration": 4,
    "start_time": "2022-12-08T03:21:27.277Z"
   },
   {
    "duration": 6,
    "start_time": "2022-12-08T03:21:27.282Z"
   },
   {
    "duration": 1147,
    "start_time": "2022-12-08T03:21:27.289Z"
   },
   {
    "duration": 12,
    "start_time": "2022-12-08T03:21:28.438Z"
   },
   {
    "duration": 68,
    "start_time": "2022-12-08T03:21:28.452Z"
   },
   {
    "duration": 196,
    "start_time": "2022-12-08T03:21:28.522Z"
   },
   {
    "duration": 98,
    "start_time": "2022-12-08T03:21:28.721Z"
   },
   {
    "duration": 151,
    "start_time": "2022-12-08T03:21:28.913Z"
   },
   {
    "duration": 80,
    "start_time": "2022-12-08T03:21:29.066Z"
   },
   {
    "duration": 168,
    "start_time": "2022-12-08T03:21:29.148Z"
   },
   {
    "duration": 69,
    "start_time": "2022-12-08T03:21:45.475Z"
   },
   {
    "duration": 189,
    "start_time": "2022-12-08T03:21:49.248Z"
   },
   {
    "duration": 168,
    "start_time": "2022-12-08T03:22:28.951Z"
   },
   {
    "duration": 46,
    "start_time": "2022-12-08T03:33:52.351Z"
   },
   {
    "duration": 4,
    "start_time": "2022-12-08T03:33:55.998Z"
   },
   {
    "duration": 3,
    "start_time": "2022-12-08T03:34:39.069Z"
   },
   {
    "duration": 4,
    "start_time": "2022-12-08T03:35:01.770Z"
   },
   {
    "duration": 96,
    "start_time": "2022-12-08T03:36:06.299Z"
   },
   {
    "duration": 64,
    "start_time": "2022-12-08T03:36:15.699Z"
   },
   {
    "duration": 172,
    "start_time": "2022-12-08T03:37:27.306Z"
   },
   {
    "duration": 23,
    "start_time": "2022-12-08T03:38:14.336Z"
   },
   {
    "duration": 22,
    "start_time": "2022-12-08T03:39:29.478Z"
   },
   {
    "duration": 27,
    "start_time": "2022-12-08T03:43:53.096Z"
   },
   {
    "duration": 1313,
    "start_time": "2022-12-08T03:45:04.152Z"
   },
   {
    "duration": 41,
    "start_time": "2022-12-08T03:45:05.467Z"
   },
   {
    "duration": 15,
    "start_time": "2022-12-08T03:45:05.510Z"
   },
   {
    "duration": 12,
    "start_time": "2022-12-08T03:45:05.527Z"
   },
   {
    "duration": 5,
    "start_time": "2022-12-08T03:45:05.543Z"
   },
   {
    "duration": 12,
    "start_time": "2022-12-08T03:45:05.550Z"
   },
   {
    "duration": 9,
    "start_time": "2022-12-08T03:45:05.563Z"
   },
   {
    "duration": 7,
    "start_time": "2022-12-08T03:45:05.574Z"
   },
   {
    "duration": 1258,
    "start_time": "2022-12-08T03:45:05.591Z"
   },
   {
    "duration": 12,
    "start_time": "2022-12-08T03:45:06.851Z"
   },
   {
    "duration": 160,
    "start_time": "2022-12-08T03:45:06.865Z"
   },
   {
    "duration": 197,
    "start_time": "2022-12-08T03:45:07.026Z"
   },
   {
    "duration": 213,
    "start_time": "2022-12-08T03:45:07.225Z"
   },
   {
    "duration": 250,
    "start_time": "2022-12-08T03:45:07.440Z"
   },
   {
    "duration": 76,
    "start_time": "2022-12-08T03:45:07.692Z"
   },
   {
    "duration": 182,
    "start_time": "2022-12-08T03:45:07.770Z"
   },
   {
    "duration": 4,
    "start_time": "2022-12-08T03:45:07.954Z"
   },
   {
    "duration": 30,
    "start_time": "2022-12-08T03:45:07.960Z"
   },
   {
    "duration": 150,
    "start_time": "2022-12-08T03:45:07.992Z"
   },
   {
    "duration": 9,
    "start_time": "2022-12-08T03:45:49.389Z"
   },
   {
    "duration": 5,
    "start_time": "2022-12-08T03:45:58.424Z"
   },
   {
    "duration": 136,
    "start_time": "2022-12-08T03:46:42.301Z"
   },
   {
    "duration": 128,
    "start_time": "2022-12-08T03:47:10.423Z"
   },
   {
    "duration": 1432,
    "start_time": "2022-12-08T03:47:29.888Z"
   },
   {
    "duration": 44,
    "start_time": "2022-12-08T03:47:31.323Z"
   },
   {
    "duration": 12,
    "start_time": "2022-12-08T03:47:31.368Z"
   },
   {
    "duration": 12,
    "start_time": "2022-12-08T03:47:31.381Z"
   },
   {
    "duration": 6,
    "start_time": "2022-12-08T03:47:31.395Z"
   },
   {
    "duration": 9,
    "start_time": "2022-12-08T03:47:31.402Z"
   },
   {
    "duration": 14,
    "start_time": "2022-12-08T03:47:31.416Z"
   },
   {
    "duration": 7,
    "start_time": "2022-12-08T03:47:31.432Z"
   },
   {
    "duration": 1348,
    "start_time": "2022-12-08T03:47:31.440Z"
   },
   {
    "duration": 11,
    "start_time": "2022-12-08T03:47:32.790Z"
   },
   {
    "duration": 329,
    "start_time": "2022-12-08T03:47:32.802Z"
   },
   {
    "duration": 96,
    "start_time": "2022-12-08T03:47:33.135Z"
   },
   {
    "duration": 201,
    "start_time": "2022-12-08T03:47:33.238Z"
   },
   {
    "duration": 237,
    "start_time": "2022-12-08T03:47:33.442Z"
   },
   {
    "duration": 84,
    "start_time": "2022-12-08T03:47:33.681Z"
   },
   {
    "duration": 184,
    "start_time": "2022-12-08T03:47:33.767Z"
   },
   {
    "duration": 4,
    "start_time": "2022-12-08T03:47:33.953Z"
   },
   {
    "duration": 10,
    "start_time": "2022-12-08T03:47:33.959Z"
   },
   {
    "duration": 152,
    "start_time": "2022-12-08T03:47:33.971Z"
   },
   {
    "duration": 4,
    "start_time": "2022-12-08T03:48:15.370Z"
   },
   {
    "duration": 5,
    "start_time": "2022-12-08T03:48:21.258Z"
   },
   {
    "duration": 135,
    "start_time": "2022-12-08T03:51:35.086Z"
   },
   {
    "duration": 127,
    "start_time": "2022-12-08T03:54:04.641Z"
   },
   {
    "duration": 5,
    "start_time": "2022-12-08T03:54:11.898Z"
   },
   {
    "duration": 5,
    "start_time": "2022-12-08T03:54:18.994Z"
   },
   {
    "duration": 23,
    "start_time": "2022-12-08T03:54:38.106Z"
   },
   {
    "duration": 140,
    "start_time": "2022-12-08T03:54:43.001Z"
   },
   {
    "duration": 129,
    "start_time": "2022-12-08T03:54:51.234Z"
   },
   {
    "duration": 4,
    "start_time": "2022-12-08T03:54:51.585Z"
   },
   {
    "duration": 4,
    "start_time": "2022-12-08T03:54:51.961Z"
   },
   {
    "duration": 4,
    "start_time": "2022-12-08T03:54:53.162Z"
   },
   {
    "duration": 136,
    "start_time": "2022-12-08T03:55:01.785Z"
   },
   {
    "duration": 4,
    "start_time": "2022-12-08T03:55:03.578Z"
   },
   {
    "duration": 4,
    "start_time": "2022-12-08T03:55:04.209Z"
   },
   {
    "duration": 1372,
    "start_time": "2022-12-08T04:06:12.738Z"
   },
   {
    "duration": 70,
    "start_time": "2022-12-08T04:06:14.112Z"
   },
   {
    "duration": 14,
    "start_time": "2022-12-08T04:06:14.184Z"
   },
   {
    "duration": 8,
    "start_time": "2022-12-08T04:06:14.200Z"
   },
   {
    "duration": 41,
    "start_time": "2022-12-08T04:06:14.211Z"
   },
   {
    "duration": 7,
    "start_time": "2022-12-08T04:06:14.254Z"
   },
   {
    "duration": 6,
    "start_time": "2022-12-08T04:06:14.263Z"
   },
   {
    "duration": 6,
    "start_time": "2022-12-08T04:06:14.271Z"
   },
   {
    "duration": 1221,
    "start_time": "2022-12-08T04:06:14.278Z"
   },
   {
    "duration": 10,
    "start_time": "2022-12-08T04:06:15.501Z"
   },
   {
    "duration": 6,
    "start_time": "2022-12-08T04:06:49.474Z"
   },
   {
    "duration": 56,
    "start_time": "2022-12-08T04:06:49.482Z"
   },
   {
    "duration": 11,
    "start_time": "2022-12-08T04:06:49.541Z"
   },
   {
    "duration": 6,
    "start_time": "2022-12-08T04:06:49.554Z"
   },
   {
    "duration": 11,
    "start_time": "2022-12-08T04:06:49.562Z"
   },
   {
    "duration": 9,
    "start_time": "2022-12-08T04:06:49.575Z"
   },
   {
    "duration": 5,
    "start_time": "2022-12-08T04:06:49.586Z"
   },
   {
    "duration": 6,
    "start_time": "2022-12-08T04:06:49.592Z"
   },
   {
    "duration": 1144,
    "start_time": "2022-12-08T04:06:49.599Z"
   },
   {
    "duration": 12,
    "start_time": "2022-12-08T04:06:50.744Z"
   },
   {
    "duration": 1330,
    "start_time": "2022-12-08T04:07:21.472Z"
   },
   {
    "duration": 51,
    "start_time": "2022-12-08T04:07:22.804Z"
   },
   {
    "duration": 14,
    "start_time": "2022-12-08T04:07:22.857Z"
   },
   {
    "duration": 36,
    "start_time": "2022-12-08T04:07:22.873Z"
   },
   {
    "duration": 24,
    "start_time": "2022-12-08T04:07:22.911Z"
   },
   {
    "duration": 26,
    "start_time": "2022-12-08T04:07:22.937Z"
   },
   {
    "duration": 64,
    "start_time": "2022-12-08T04:07:22.965Z"
   },
   {
    "duration": 40,
    "start_time": "2022-12-08T04:07:23.031Z"
   },
   {
    "duration": 1166,
    "start_time": "2022-12-08T04:07:23.073Z"
   },
   {
    "duration": 10,
    "start_time": "2022-12-08T04:07:24.242Z"
   },
   {
    "duration": 14,
    "start_time": "2022-12-08T04:07:24.254Z"
   },
   {
    "duration": 6,
    "start_time": "2022-12-08T04:16:52.073Z"
   },
   {
    "duration": 110,
    "start_time": "2022-12-08T04:17:09.681Z"
   },
   {
    "duration": 3,
    "start_time": "2022-12-08T04:17:15.297Z"
   },
   {
    "duration": 10,
    "start_time": "2022-12-08T04:17:28.145Z"
   },
   {
    "duration": 10,
    "start_time": "2022-12-08T04:17:31.197Z"
   },
   {
    "duration": 7,
    "start_time": "2022-12-08T04:17:39.524Z"
   },
   {
    "duration": 9,
    "start_time": "2022-12-08T04:17:50.360Z"
   },
   {
    "duration": 4,
    "start_time": "2022-12-08T04:20:29.277Z"
   },
   {
    "duration": 4,
    "start_time": "2022-12-08T04:20:32.527Z"
   },
   {
    "duration": 1416,
    "start_time": "2022-12-08T04:40:46.907Z"
   },
   {
    "duration": 49,
    "start_time": "2022-12-08T04:40:48.328Z"
   },
   {
    "duration": 12,
    "start_time": "2022-12-08T04:40:48.379Z"
   },
   {
    "duration": 12,
    "start_time": "2022-12-08T04:40:48.393Z"
   },
   {
    "duration": 9,
    "start_time": "2022-12-08T04:40:48.407Z"
   },
   {
    "duration": 18,
    "start_time": "2022-12-08T04:40:48.418Z"
   },
   {
    "duration": 27,
    "start_time": "2022-12-08T04:40:48.438Z"
   },
   {
    "duration": 7,
    "start_time": "2022-12-08T04:40:48.467Z"
   },
   {
    "duration": 1259,
    "start_time": "2022-12-08T04:40:48.476Z"
   },
   {
    "duration": 11,
    "start_time": "2022-12-08T04:40:49.737Z"
   },
   {
    "duration": 4,
    "start_time": "2022-12-08T04:40:49.750Z"
   },
   {
    "duration": 340,
    "start_time": "2022-12-08T04:40:52.280Z"
   },
   {
    "duration": 213,
    "start_time": "2022-12-08T04:41:19.151Z"
   },
   {
    "duration": 7,
    "start_time": "2022-12-08T04:41:35.219Z"
   },
   {
    "duration": 96,
    "start_time": "2022-12-08T04:41:39.799Z"
   },
   {
    "duration": 5,
    "start_time": "2022-12-08T04:42:01.960Z"
   },
   {
    "duration": 102,
    "start_time": "2022-12-08T04:42:06.639Z"
   },
   {
    "duration": 4,
    "start_time": "2022-12-08T04:42:30.101Z"
   },
   {
    "duration": 108,
    "start_time": "2022-12-08T04:42:34.334Z"
   },
   {
    "duration": 4,
    "start_time": "2022-12-08T04:42:52.838Z"
   },
   {
    "duration": 76,
    "start_time": "2022-12-08T04:42:55.205Z"
   },
   {
    "duration": 4,
    "start_time": "2022-12-08T04:43:16.884Z"
   },
   {
    "duration": 76,
    "start_time": "2022-12-08T04:43:19.484Z"
   },
   {
    "duration": 3,
    "start_time": "2022-12-08T04:43:55.542Z"
   },
   {
    "duration": 82,
    "start_time": "2022-12-08T04:44:00.093Z"
   },
   {
    "duration": 4,
    "start_time": "2022-12-08T04:44:09.957Z"
   },
   {
    "duration": 87,
    "start_time": "2022-12-08T04:44:12.379Z"
   },
   {
    "duration": 3,
    "start_time": "2022-12-08T04:44:43.363Z"
   },
   {
    "duration": 74,
    "start_time": "2022-12-08T04:44:45.962Z"
   },
   {
    "duration": 4,
    "start_time": "2022-12-08T04:45:00.370Z"
   },
   {
    "duration": 82,
    "start_time": "2022-12-08T04:45:03.155Z"
   },
   {
    "duration": 4,
    "start_time": "2022-12-08T04:45:30.258Z"
   },
   {
    "duration": 9,
    "start_time": "2022-12-08T04:45:43.993Z"
   },
   {
    "duration": 8,
    "start_time": "2022-12-08T04:45:49.281Z"
   },
   {
    "duration": 3,
    "start_time": "2022-12-08T04:46:33.553Z"
   },
   {
    "duration": 83,
    "start_time": "2022-12-08T04:46:35.512Z"
   },
   {
    "duration": 1436,
    "start_time": "2022-12-08T04:47:19.040Z"
   },
   {
    "duration": 54,
    "start_time": "2022-12-08T04:47:20.478Z"
   },
   {
    "duration": 14,
    "start_time": "2022-12-08T04:47:20.534Z"
   },
   {
    "duration": 8,
    "start_time": "2022-12-08T04:47:20.551Z"
   },
   {
    "duration": 10,
    "start_time": "2022-12-08T04:47:20.561Z"
   },
   {
    "duration": 9,
    "start_time": "2022-12-08T04:47:20.573Z"
   },
   {
    "duration": 4,
    "start_time": "2022-12-08T04:47:20.584Z"
   },
   {
    "duration": 24,
    "start_time": "2022-12-08T04:47:20.590Z"
   },
   {
    "duration": 1228,
    "start_time": "2022-12-08T04:47:20.619Z"
   },
   {
    "duration": 10,
    "start_time": "2022-12-08T04:47:21.850Z"
   },
   {
    "duration": 14,
    "start_time": "2022-12-08T04:47:21.861Z"
   },
   {
    "duration": 22,
    "start_time": "2022-12-08T04:47:21.877Z"
   },
   {
    "duration": 23,
    "start_time": "2022-12-08T04:48:26.037Z"
   },
   {
    "duration": 5,
    "start_time": "2022-12-08T04:49:42.644Z"
   },
   {
    "duration": 8,
    "start_time": "2022-12-08T04:49:45.025Z"
   },
   {
    "duration": 132,
    "start_time": "2022-12-08T04:49:45.595Z"
   },
   {
    "duration": 4,
    "start_time": "2022-12-08T04:51:03.066Z"
   },
   {
    "duration": 1414,
    "start_time": "2022-12-08T04:51:12.675Z"
   },
   {
    "duration": 56,
    "start_time": "2022-12-08T04:51:14.091Z"
   },
   {
    "duration": 12,
    "start_time": "2022-12-08T04:51:14.149Z"
   },
   {
    "duration": 12,
    "start_time": "2022-12-08T04:51:14.163Z"
   },
   {
    "duration": 15,
    "start_time": "2022-12-08T04:51:14.179Z"
   },
   {
    "duration": 11,
    "start_time": "2022-12-08T04:51:14.196Z"
   },
   {
    "duration": 21,
    "start_time": "2022-12-08T04:51:14.209Z"
   },
   {
    "duration": 6,
    "start_time": "2022-12-08T04:51:14.233Z"
   },
   {
    "duration": 1291,
    "start_time": "2022-12-08T04:51:14.242Z"
   },
   {
    "duration": 15,
    "start_time": "2022-12-08T04:51:15.536Z"
   },
   {
    "duration": 8,
    "start_time": "2022-12-08T04:51:15.553Z"
   },
   {
    "duration": 12,
    "start_time": "2022-12-08T04:51:15.563Z"
   },
   {
    "duration": 27,
    "start_time": "2022-12-08T04:51:15.577Z"
   },
   {
    "duration": 24,
    "start_time": "2022-12-08T04:51:41.776Z"
   },
   {
    "duration": 1364,
    "start_time": "2022-12-08T05:11:12.063Z"
   },
   {
    "duration": 42,
    "start_time": "2022-12-08T05:11:13.433Z"
   },
   {
    "duration": 12,
    "start_time": "2022-12-08T05:11:13.477Z"
   },
   {
    "duration": 4,
    "start_time": "2022-12-08T05:11:13.491Z"
   },
   {
    "duration": 8,
    "start_time": "2022-12-08T05:11:13.497Z"
   },
   {
    "duration": 20,
    "start_time": "2022-12-08T05:11:13.507Z"
   },
   {
    "duration": 7,
    "start_time": "2022-12-08T05:11:13.529Z"
   },
   {
    "duration": 6,
    "start_time": "2022-12-08T05:11:13.538Z"
   },
   {
    "duration": 1182,
    "start_time": "2022-12-08T05:11:13.545Z"
   },
   {
    "duration": 12,
    "start_time": "2022-12-08T05:11:14.729Z"
   },
   {
    "duration": 29,
    "start_time": "2022-12-08T05:11:14.743Z"
   },
   {
    "duration": 62,
    "start_time": "2022-12-08T05:11:14.774Z"
   },
   {
    "duration": 35,
    "start_time": "2022-12-08T05:11:14.838Z"
   },
   {
    "duration": 49,
    "start_time": "2022-12-08T05:11:14.876Z"
   },
   {
    "duration": 59,
    "start_time": "2022-12-08T05:11:14.929Z"
   },
   {
    "duration": 1432,
    "start_time": "2022-12-08T05:12:35.133Z"
   },
   {
    "duration": 44,
    "start_time": "2022-12-08T05:12:36.567Z"
   },
   {
    "duration": 18,
    "start_time": "2022-12-08T05:12:36.616Z"
   },
   {
    "duration": 4,
    "start_time": "2022-12-08T05:12:36.635Z"
   },
   {
    "duration": 6,
    "start_time": "2022-12-08T05:12:36.642Z"
   },
   {
    "duration": 7,
    "start_time": "2022-12-08T05:12:36.650Z"
   },
   {
    "duration": 4,
    "start_time": "2022-12-08T05:12:36.659Z"
   },
   {
    "duration": 6,
    "start_time": "2022-12-08T05:12:36.665Z"
   },
   {
    "duration": 1200,
    "start_time": "2022-12-08T05:12:36.672Z"
   },
   {
    "duration": 11,
    "start_time": "2022-12-08T05:12:37.874Z"
   },
   {
    "duration": 4,
    "start_time": "2022-12-08T05:12:37.886Z"
   },
   {
    "duration": 7,
    "start_time": "2022-12-08T05:12:37.891Z"
   },
   {
    "duration": 8,
    "start_time": "2022-12-08T05:12:37.899Z"
   },
   {
    "duration": 28,
    "start_time": "2022-12-08T05:12:37.911Z"
   },
   {
    "duration": 25,
    "start_time": "2022-12-08T05:12:37.941Z"
   },
   {
    "duration": 158,
    "start_time": "2022-12-08T05:12:37.967Z"
   },
   {
    "duration": 130,
    "start_time": "2022-12-08T05:12:50.452Z"
   },
   {
    "duration": 151,
    "start_time": "2022-12-08T05:13:08.075Z"
   },
   {
    "duration": 4,
    "start_time": "2022-12-08T05:13:37.082Z"
   },
   {
    "duration": 133,
    "start_time": "2022-12-08T05:13:40.065Z"
   },
   {
    "duration": 1355,
    "start_time": "2022-12-08T05:19:51.787Z"
   },
   {
    "duration": 43,
    "start_time": "2022-12-08T05:19:53.144Z"
   },
   {
    "duration": 12,
    "start_time": "2022-12-08T05:19:53.189Z"
   },
   {
    "duration": 31,
    "start_time": "2022-12-08T05:19:53.203Z"
   },
   {
    "duration": 9,
    "start_time": "2022-12-08T05:19:53.238Z"
   },
   {
    "duration": 8,
    "start_time": "2022-12-08T05:19:53.249Z"
   },
   {
    "duration": 6,
    "start_time": "2022-12-08T05:19:53.258Z"
   },
   {
    "duration": 11,
    "start_time": "2022-12-08T05:19:53.265Z"
   },
   {
    "duration": 1201,
    "start_time": "2022-12-08T05:19:53.278Z"
   },
   {
    "duration": 10,
    "start_time": "2022-12-08T05:19:54.482Z"
   },
   {
    "duration": 17,
    "start_time": "2022-12-08T05:19:54.494Z"
   },
   {
    "duration": 38,
    "start_time": "2022-12-08T05:19:54.515Z"
   },
   {
    "duration": 18,
    "start_time": "2022-12-08T05:19:54.555Z"
   },
   {
    "duration": 49,
    "start_time": "2022-12-08T05:19:54.575Z"
   },
   {
    "duration": 32,
    "start_time": "2022-12-08T05:19:54.627Z"
   },
   {
    "duration": 273,
    "start_time": "2022-12-08T05:19:54.661Z"
   },
   {
    "duration": 5,
    "start_time": "2022-12-08T05:21:56.766Z"
   },
   {
    "duration": 1442,
    "start_time": "2022-12-08T05:22:05.520Z"
   },
   {
    "duration": 41,
    "start_time": "2022-12-08T05:22:06.964Z"
   },
   {
    "duration": 29,
    "start_time": "2022-12-08T05:22:07.006Z"
   },
   {
    "duration": 7,
    "start_time": "2022-12-08T05:22:07.038Z"
   },
   {
    "duration": 5,
    "start_time": "2022-12-08T05:22:07.047Z"
   },
   {
    "duration": 8,
    "start_time": "2022-12-08T05:22:07.054Z"
   },
   {
    "duration": 4,
    "start_time": "2022-12-08T05:22:07.064Z"
   },
   {
    "duration": 6,
    "start_time": "2022-12-08T05:22:07.069Z"
   },
   {
    "duration": 1215,
    "start_time": "2022-12-08T05:22:07.076Z"
   },
   {
    "duration": 11,
    "start_time": "2022-12-08T05:22:08.294Z"
   },
   {
    "duration": 4,
    "start_time": "2022-12-08T05:22:08.307Z"
   },
   {
    "duration": 19,
    "start_time": "2022-12-08T05:22:08.321Z"
   },
   {
    "duration": 9,
    "start_time": "2022-12-08T05:22:08.342Z"
   },
   {
    "duration": 20,
    "start_time": "2022-12-08T05:22:08.353Z"
   },
   {
    "duration": 23,
    "start_time": "2022-12-08T05:22:08.375Z"
   },
   {
    "duration": 133,
    "start_time": "2022-12-08T05:22:08.399Z"
   },
   {
    "duration": 4,
    "start_time": "2022-12-08T05:22:34.357Z"
   },
   {
    "duration": 136,
    "start_time": "2022-12-08T05:22:36.938Z"
   },
   {
    "duration": 4,
    "start_time": "2022-12-08T05:23:07.173Z"
   },
   {
    "duration": 149,
    "start_time": "2022-12-08T05:23:10.494Z"
   },
   {
    "duration": 4,
    "start_time": "2022-12-08T05:23:43.972Z"
   },
   {
    "duration": 6,
    "start_time": "2022-12-08T05:23:45.532Z"
   },
   {
    "duration": 22,
    "start_time": "2022-12-08T05:23:45.930Z"
   },
   {
    "duration": 22,
    "start_time": "2022-12-08T05:23:47.439Z"
   },
   {
    "duration": 138,
    "start_time": "2022-12-08T05:23:47.636Z"
   },
   {
    "duration": 55,
    "start_time": "2022-12-08T05:24:31.597Z"
   },
   {
    "duration": 0,
    "start_time": "2022-12-08T05:24:31.654Z"
   },
   {
    "duration": 0,
    "start_time": "2022-12-08T05:24:31.655Z"
   },
   {
    "duration": 0,
    "start_time": "2022-12-08T05:24:31.657Z"
   },
   {
    "duration": 0,
    "start_time": "2022-12-08T05:24:31.658Z"
   },
   {
    "duration": 0,
    "start_time": "2022-12-08T05:24:31.659Z"
   },
   {
    "duration": 0,
    "start_time": "2022-12-08T05:24:31.660Z"
   },
   {
    "duration": 1396,
    "start_time": "2022-12-08T05:24:39.668Z"
   },
   {
    "duration": 42,
    "start_time": "2022-12-08T05:24:41.066Z"
   },
   {
    "duration": 21,
    "start_time": "2022-12-08T05:24:41.110Z"
   },
   {
    "duration": 21,
    "start_time": "2022-12-08T05:24:41.134Z"
   },
   {
    "duration": 11,
    "start_time": "2022-12-08T05:24:41.157Z"
   },
   {
    "duration": 13,
    "start_time": "2022-12-08T05:24:41.169Z"
   },
   {
    "duration": 4,
    "start_time": "2022-12-08T05:24:41.184Z"
   },
   {
    "duration": 7,
    "start_time": "2022-12-08T05:24:41.190Z"
   },
   {
    "duration": 1281,
    "start_time": "2022-12-08T05:24:41.199Z"
   },
   {
    "duration": 13,
    "start_time": "2022-12-08T05:24:42.482Z"
   },
   {
    "duration": 3,
    "start_time": "2022-12-08T05:24:42.497Z"
   },
   {
    "duration": 9,
    "start_time": "2022-12-08T05:24:42.502Z"
   },
   {
    "duration": 34,
    "start_time": "2022-12-08T05:24:42.514Z"
   },
   {
    "duration": 21,
    "start_time": "2022-12-08T05:24:42.552Z"
   },
   {
    "duration": 24,
    "start_time": "2022-12-08T05:24:42.575Z"
   },
   {
    "duration": 167,
    "start_time": "2022-12-08T05:24:42.601Z"
   },
   {
    "duration": 252,
    "start_time": "2022-12-08T05:24:42.769Z"
   },
   {
    "duration": 179,
    "start_time": "2022-12-08T05:24:43.023Z"
   },
   {
    "duration": 17,
    "start_time": "2022-12-08T05:24:43.204Z"
   },
   {
    "duration": 100,
    "start_time": "2022-12-08T05:24:43.225Z"
   },
   {
    "duration": 247,
    "start_time": "2022-12-08T05:24:43.327Z"
   },
   {
    "duration": 95,
    "start_time": "2022-12-08T05:24:43.576Z"
   },
   {
    "duration": 211,
    "start_time": "2022-12-08T05:24:43.672Z"
   },
   {
    "duration": 1410,
    "start_time": "2022-12-08T05:25:29.555Z"
   },
   {
    "duration": 43,
    "start_time": "2022-12-08T05:25:30.967Z"
   },
   {
    "duration": 26,
    "start_time": "2022-12-08T05:25:31.015Z"
   },
   {
    "duration": 32,
    "start_time": "2022-12-08T05:25:31.042Z"
   },
   {
    "duration": 61,
    "start_time": "2022-12-08T05:25:31.077Z"
   },
   {
    "duration": 27,
    "start_time": "2022-12-08T05:25:31.140Z"
   },
   {
    "duration": 16,
    "start_time": "2022-12-08T05:25:31.169Z"
   },
   {
    "duration": 26,
    "start_time": "2022-12-08T05:25:31.187Z"
   },
   {
    "duration": 1267,
    "start_time": "2022-12-08T05:25:31.217Z"
   },
   {
    "duration": 13,
    "start_time": "2022-12-08T05:25:32.486Z"
   },
   {
    "duration": 4,
    "start_time": "2022-12-08T05:25:32.501Z"
   },
   {
    "duration": 40,
    "start_time": "2022-12-08T05:25:32.507Z"
   },
   {
    "duration": 15,
    "start_time": "2022-12-08T05:25:32.549Z"
   },
   {
    "duration": 21,
    "start_time": "2022-12-08T05:25:32.566Z"
   },
   {
    "duration": 35,
    "start_time": "2022-12-08T05:25:32.590Z"
   },
   {
    "duration": 153,
    "start_time": "2022-12-08T05:25:32.626Z"
   },
   {
    "duration": 1590,
    "start_time": "2022-12-08T05:26:15.995Z"
   },
   {
    "duration": 48,
    "start_time": "2022-12-08T05:26:17.587Z"
   },
   {
    "duration": 12,
    "start_time": "2022-12-08T05:26:17.639Z"
   },
   {
    "duration": 7,
    "start_time": "2022-12-08T05:26:17.653Z"
   },
   {
    "duration": 6,
    "start_time": "2022-12-08T05:26:17.662Z"
   },
   {
    "duration": 7,
    "start_time": "2022-12-08T05:26:17.669Z"
   },
   {
    "duration": 4,
    "start_time": "2022-12-08T05:26:17.678Z"
   },
   {
    "duration": 8,
    "start_time": "2022-12-08T05:26:17.683Z"
   },
   {
    "duration": 1258,
    "start_time": "2022-12-08T05:26:17.693Z"
   },
   {
    "duration": 11,
    "start_time": "2022-12-08T05:26:18.953Z"
   },
   {
    "duration": 9,
    "start_time": "2022-12-08T05:26:18.965Z"
   },
   {
    "duration": 7,
    "start_time": "2022-12-08T05:26:18.976Z"
   },
   {
    "duration": 13,
    "start_time": "2022-12-08T05:26:18.985Z"
   },
   {
    "duration": 37,
    "start_time": "2022-12-08T05:26:19.001Z"
   },
   {
    "duration": 32,
    "start_time": "2022-12-08T05:26:19.041Z"
   },
   {
    "duration": 171,
    "start_time": "2022-12-08T05:26:19.075Z"
   },
   {
    "duration": 1664,
    "start_time": "2022-12-08T07:34:17.645Z"
   },
   {
    "duration": 88,
    "start_time": "2022-12-08T07:34:19.312Z"
   },
   {
    "duration": 12,
    "start_time": "2022-12-08T07:34:19.401Z"
   },
   {
    "duration": 28,
    "start_time": "2022-12-08T07:34:19.414Z"
   },
   {
    "duration": 15,
    "start_time": "2022-12-08T07:34:19.444Z"
   },
   {
    "duration": 41,
    "start_time": "2022-12-08T07:34:19.461Z"
   },
   {
    "duration": 24,
    "start_time": "2022-12-08T07:34:19.503Z"
   },
   {
    "duration": 24,
    "start_time": "2022-12-08T07:34:19.529Z"
   },
   {
    "duration": 1043,
    "start_time": "2022-12-08T07:34:19.554Z"
   },
   {
    "duration": 9,
    "start_time": "2022-12-08T07:34:20.599Z"
   },
   {
    "duration": 43,
    "start_time": "2022-12-08T07:34:20.609Z"
   },
   {
    "duration": 48,
    "start_time": "2022-12-08T07:34:20.654Z"
   },
   {
    "duration": 35,
    "start_time": "2022-12-08T07:34:20.704Z"
   },
   {
    "duration": 47,
    "start_time": "2022-12-08T07:34:20.741Z"
   },
   {
    "duration": 40,
    "start_time": "2022-12-08T07:34:20.790Z"
   },
   {
    "duration": 238,
    "start_time": "2022-12-08T07:34:20.831Z"
   },
   {
    "duration": 4,
    "start_time": "2022-12-08T07:34:32.250Z"
   },
   {
    "duration": 5,
    "start_time": "2022-12-08T07:34:32.811Z"
   },
   {
    "duration": 21,
    "start_time": "2022-12-08T07:34:33.029Z"
   },
   {
    "duration": 25,
    "start_time": "2022-12-08T07:34:35.107Z"
   },
   {
    "duration": 168,
    "start_time": "2022-12-08T07:34:35.262Z"
   },
   {
    "duration": 43,
    "start_time": "2022-12-08T07:35:33.950Z"
   },
   {
    "duration": 0,
    "start_time": "2022-12-08T07:35:33.995Z"
   },
   {
    "duration": 1,
    "start_time": "2022-12-08T07:35:33.995Z"
   },
   {
    "duration": 0,
    "start_time": "2022-12-08T07:35:33.996Z"
   },
   {
    "duration": 0,
    "start_time": "2022-12-08T07:35:33.998Z"
   },
   {
    "duration": 1467,
    "start_time": "2022-12-08T07:35:46.271Z"
   },
   {
    "duration": 42,
    "start_time": "2022-12-08T07:35:47.739Z"
   },
   {
    "duration": 11,
    "start_time": "2022-12-08T07:35:47.782Z"
   },
   {
    "duration": 29,
    "start_time": "2022-12-08T07:35:47.795Z"
   },
   {
    "duration": 17,
    "start_time": "2022-12-08T07:35:47.825Z"
   },
   {
    "duration": 28,
    "start_time": "2022-12-08T07:35:47.844Z"
   },
   {
    "duration": 25,
    "start_time": "2022-12-08T07:35:47.874Z"
   },
   {
    "duration": 29,
    "start_time": "2022-12-08T07:35:47.900Z"
   },
   {
    "duration": 1087,
    "start_time": "2022-12-08T07:35:47.931Z"
   },
   {
    "duration": 9,
    "start_time": "2022-12-08T07:35:49.020Z"
   },
   {
    "duration": 35,
    "start_time": "2022-12-08T07:35:49.030Z"
   },
   {
    "duration": 39,
    "start_time": "2022-12-08T07:35:49.067Z"
   },
   {
    "duration": 30,
    "start_time": "2022-12-08T07:35:49.108Z"
   },
   {
    "duration": 47,
    "start_time": "2022-12-08T07:35:49.140Z"
   },
   {
    "duration": 37,
    "start_time": "2022-12-08T07:35:49.188Z"
   },
   {
    "duration": 184,
    "start_time": "2022-12-08T07:35:49.227Z"
   },
   {
    "duration": 100,
    "start_time": "2022-12-08T07:35:49.414Z"
   },
   {
    "duration": 168,
    "start_time": "2022-12-08T07:35:49.606Z"
   },
   {
    "duration": 1370,
    "start_time": "2022-12-08T07:58:28.503Z"
   },
   {
    "duration": 40,
    "start_time": "2022-12-08T07:58:29.875Z"
   },
   {
    "duration": 10,
    "start_time": "2022-12-08T07:58:29.917Z"
   },
   {
    "duration": 7,
    "start_time": "2022-12-08T07:58:29.929Z"
   },
   {
    "duration": 11,
    "start_time": "2022-12-08T07:58:29.939Z"
   },
   {
    "duration": 13,
    "start_time": "2022-12-08T07:58:29.951Z"
   },
   {
    "duration": 4,
    "start_time": "2022-12-08T07:58:29.965Z"
   },
   {
    "duration": 9,
    "start_time": "2022-12-08T07:58:29.971Z"
   },
   {
    "duration": 1047,
    "start_time": "2022-12-08T07:58:29.982Z"
   },
   {
    "duration": 10,
    "start_time": "2022-12-08T07:58:31.031Z"
   },
   {
    "duration": 20,
    "start_time": "2022-12-08T07:58:31.042Z"
   },
   {
    "duration": 32,
    "start_time": "2022-12-08T07:58:31.063Z"
   },
   {
    "duration": 35,
    "start_time": "2022-12-08T07:58:31.096Z"
   },
   {
    "duration": 25,
    "start_time": "2022-12-08T07:58:31.134Z"
   },
   {
    "duration": 131,
    "start_time": "2022-12-08T07:58:31.161Z"
   },
   {
    "duration": 18,
    "start_time": "2022-12-08T07:59:09.599Z"
   },
   {
    "duration": 4,
    "start_time": "2022-12-08T07:59:41.619Z"
   },
   {
    "duration": 3,
    "start_time": "2022-12-08T07:59:43.539Z"
   },
   {
    "duration": 230,
    "start_time": "2022-12-08T07:59:44.197Z"
   },
   {
    "duration": 1402,
    "start_time": "2022-12-08T08:01:12.879Z"
   },
   {
    "duration": 41,
    "start_time": "2022-12-08T08:01:14.283Z"
   },
   {
    "duration": 11,
    "start_time": "2022-12-08T08:01:14.326Z"
   },
   {
    "duration": 8,
    "start_time": "2022-12-08T08:01:14.339Z"
   },
   {
    "duration": 6,
    "start_time": "2022-12-08T08:01:14.348Z"
   },
   {
    "duration": 11,
    "start_time": "2022-12-08T08:01:14.355Z"
   },
   {
    "duration": 3,
    "start_time": "2022-12-08T08:01:14.368Z"
   },
   {
    "duration": 7,
    "start_time": "2022-12-08T08:01:14.373Z"
   },
   {
    "duration": 1037,
    "start_time": "2022-12-08T08:01:14.381Z"
   },
   {
    "duration": 10,
    "start_time": "2022-12-08T08:01:15.420Z"
   },
   {
    "duration": 16,
    "start_time": "2022-12-08T08:01:15.431Z"
   },
   {
    "duration": 35,
    "start_time": "2022-12-08T08:01:15.448Z"
   },
   {
    "duration": 24,
    "start_time": "2022-12-08T08:01:15.484Z"
   },
   {
    "duration": 19,
    "start_time": "2022-12-08T08:01:15.510Z"
   },
   {
    "duration": 235,
    "start_time": "2022-12-08T08:01:15.531Z"
   },
   {
    "duration": 6,
    "start_time": "2022-12-08T08:01:15.767Z"
   },
   {
    "duration": 514,
    "start_time": "2022-12-08T08:01:15.775Z"
   },
   {
    "duration": 1520,
    "start_time": "2022-12-08T08:01:37.284Z"
   },
   {
    "duration": 41,
    "start_time": "2022-12-08T08:01:38.806Z"
   },
   {
    "duration": 10,
    "start_time": "2022-12-08T08:01:38.849Z"
   },
   {
    "duration": 20,
    "start_time": "2022-12-08T08:01:38.861Z"
   },
   {
    "duration": 28,
    "start_time": "2022-12-08T08:01:38.883Z"
   },
   {
    "duration": 26,
    "start_time": "2022-12-08T08:01:38.913Z"
   },
   {
    "duration": 24,
    "start_time": "2022-12-08T08:01:38.940Z"
   },
   {
    "duration": 30,
    "start_time": "2022-12-08T08:01:38.966Z"
   },
   {
    "duration": 1095,
    "start_time": "2022-12-08T08:01:38.999Z"
   },
   {
    "duration": 9,
    "start_time": "2022-12-08T08:01:40.096Z"
   },
   {
    "duration": 18,
    "start_time": "2022-12-08T08:01:40.107Z"
   },
   {
    "duration": 13,
    "start_time": "2022-12-08T08:01:40.127Z"
   },
   {
    "duration": 13,
    "start_time": "2022-12-08T08:01:40.142Z"
   },
   {
    "duration": 8,
    "start_time": "2022-12-08T08:01:40.157Z"
   },
   {
    "duration": 223,
    "start_time": "2022-12-08T08:01:40.167Z"
   },
   {
    "duration": 12,
    "start_time": "2022-12-08T08:01:40.392Z"
   },
   {
    "duration": 482,
    "start_time": "2022-12-08T08:01:40.406Z"
   },
   {
    "duration": 1390,
    "start_time": "2022-12-08T08:03:13.940Z"
   },
   {
    "duration": 41,
    "start_time": "2022-12-08T08:03:15.332Z"
   },
   {
    "duration": 44,
    "start_time": "2022-12-08T08:03:15.374Z"
   },
   {
    "duration": 37,
    "start_time": "2022-12-08T08:03:15.420Z"
   },
   {
    "duration": 42,
    "start_time": "2022-12-08T08:03:15.460Z"
   },
   {
    "duration": 31,
    "start_time": "2022-12-08T08:03:15.504Z"
   },
   {
    "duration": 36,
    "start_time": "2022-12-08T08:03:15.536Z"
   },
   {
    "duration": 16,
    "start_time": "2022-12-08T08:03:15.574Z"
   },
   {
    "duration": 1127,
    "start_time": "2022-12-08T08:03:15.591Z"
   },
   {
    "duration": 9,
    "start_time": "2022-12-08T08:03:16.719Z"
   },
   {
    "duration": 50,
    "start_time": "2022-12-08T08:03:16.730Z"
   },
   {
    "duration": 24,
    "start_time": "2022-12-08T08:03:16.782Z"
   },
   {
    "duration": 92,
    "start_time": "2022-12-08T08:03:16.807Z"
   },
   {
    "duration": 64,
    "start_time": "2022-12-08T08:03:16.902Z"
   },
   {
    "duration": 241,
    "start_time": "2022-12-08T08:03:16.968Z"
   },
   {
    "duration": 7,
    "start_time": "2022-12-08T08:03:17.210Z"
   },
   {
    "duration": 613,
    "start_time": "2022-12-08T08:03:17.218Z"
   },
   {
    "duration": 1425,
    "start_time": "2022-12-08T08:04:08.068Z"
   },
   {
    "duration": 41,
    "start_time": "2022-12-08T08:04:09.495Z"
   },
   {
    "duration": 10,
    "start_time": "2022-12-08T08:04:09.538Z"
   },
   {
    "duration": 21,
    "start_time": "2022-12-08T08:04:09.550Z"
   },
   {
    "duration": 26,
    "start_time": "2022-12-08T08:04:09.573Z"
   },
   {
    "duration": 17,
    "start_time": "2022-12-08T08:04:09.601Z"
   },
   {
    "duration": 21,
    "start_time": "2022-12-08T08:04:09.620Z"
   },
   {
    "duration": 24,
    "start_time": "2022-12-08T08:04:09.643Z"
   },
   {
    "duration": 1101,
    "start_time": "2022-12-08T08:04:09.668Z"
   },
   {
    "duration": 10,
    "start_time": "2022-12-08T08:04:10.771Z"
   },
   {
    "duration": 28,
    "start_time": "2022-12-08T08:04:10.783Z"
   },
   {
    "duration": 44,
    "start_time": "2022-12-08T08:04:10.812Z"
   },
   {
    "duration": 60,
    "start_time": "2022-12-08T08:04:10.857Z"
   },
   {
    "duration": 31,
    "start_time": "2022-12-08T08:04:10.920Z"
   },
   {
    "duration": 284,
    "start_time": "2022-12-08T08:04:10.953Z"
   },
   {
    "duration": 4,
    "start_time": "2022-12-08T08:04:11.239Z"
   },
   {
    "duration": 943,
    "start_time": "2022-12-08T08:04:11.245Z"
   },
   {
    "duration": 1367,
    "start_time": "2022-12-08T08:04:58.129Z"
   },
   {
    "duration": 42,
    "start_time": "2022-12-08T08:04:59.498Z"
   },
   {
    "duration": 12,
    "start_time": "2022-12-08T08:04:59.541Z"
   },
   {
    "duration": 5,
    "start_time": "2022-12-08T08:04:59.555Z"
   },
   {
    "duration": 6,
    "start_time": "2022-12-08T08:04:59.562Z"
   },
   {
    "duration": 7,
    "start_time": "2022-12-08T08:04:59.570Z"
   },
   {
    "duration": 4,
    "start_time": "2022-12-08T08:04:59.579Z"
   },
   {
    "duration": 11,
    "start_time": "2022-12-08T08:04:59.584Z"
   },
   {
    "duration": 1085,
    "start_time": "2022-12-08T08:04:59.605Z"
   },
   {
    "duration": 10,
    "start_time": "2022-12-08T08:05:00.693Z"
   },
   {
    "duration": 68,
    "start_time": "2022-12-08T08:05:00.705Z"
   },
   {
    "duration": 20,
    "start_time": "2022-12-08T08:05:00.775Z"
   },
   {
    "duration": 36,
    "start_time": "2022-12-08T08:05:00.796Z"
   },
   {
    "duration": 16,
    "start_time": "2022-12-08T08:05:00.834Z"
   },
   {
    "duration": 255,
    "start_time": "2022-12-08T08:05:00.852Z"
   },
   {
    "duration": 928,
    "start_time": "2022-12-08T08:05:01.108Z"
   },
   {
    "duration": 546,
    "start_time": "2022-12-08T08:05:02.037Z"
   },
   {
    "duration": 1340,
    "start_time": "2022-12-08T08:06:05.135Z"
   },
   {
    "duration": 40,
    "start_time": "2022-12-08T08:06:06.477Z"
   },
   {
    "duration": 10,
    "start_time": "2022-12-08T08:06:06.519Z"
   },
   {
    "duration": 12,
    "start_time": "2022-12-08T08:06:06.531Z"
   },
   {
    "duration": 10,
    "start_time": "2022-12-08T08:06:06.544Z"
   },
   {
    "duration": 11,
    "start_time": "2022-12-08T08:06:06.556Z"
   },
   {
    "duration": 5,
    "start_time": "2022-12-08T08:06:06.568Z"
   },
   {
    "duration": 5,
    "start_time": "2022-12-08T08:06:06.575Z"
   },
   {
    "duration": 1179,
    "start_time": "2022-12-08T08:06:06.582Z"
   },
   {
    "duration": 9,
    "start_time": "2022-12-08T08:06:07.764Z"
   },
   {
    "duration": 8,
    "start_time": "2022-12-08T08:06:07.775Z"
   },
   {
    "duration": 5,
    "start_time": "2022-12-08T08:06:07.784Z"
   },
   {
    "duration": 7,
    "start_time": "2022-12-08T08:06:07.791Z"
   },
   {
    "duration": 7,
    "start_time": "2022-12-08T08:06:07.799Z"
   },
   {
    "duration": 259,
    "start_time": "2022-12-08T08:06:07.807Z"
   },
   {
    "duration": 959,
    "start_time": "2022-12-08T08:06:08.068Z"
   },
   {
    "duration": 509,
    "start_time": "2022-12-08T08:06:09.029Z"
   },
   {
    "duration": 528,
    "start_time": "2022-12-08T08:08:46.325Z"
   },
   {
    "duration": 1378,
    "start_time": "2022-12-08T08:09:15.702Z"
   },
   {
    "duration": 41,
    "start_time": "2022-12-08T08:09:17.082Z"
   },
   {
    "duration": 12,
    "start_time": "2022-12-08T08:09:17.125Z"
   },
   {
    "duration": 20,
    "start_time": "2022-12-08T08:09:17.139Z"
   },
   {
    "duration": 21,
    "start_time": "2022-12-08T08:09:17.161Z"
   },
   {
    "duration": 13,
    "start_time": "2022-12-08T08:09:17.184Z"
   },
   {
    "duration": 14,
    "start_time": "2022-12-08T08:09:17.199Z"
   },
   {
    "duration": 16,
    "start_time": "2022-12-08T08:09:17.214Z"
   },
   {
    "duration": 1166,
    "start_time": "2022-12-08T08:09:17.231Z"
   },
   {
    "duration": 11,
    "start_time": "2022-12-08T08:09:18.399Z"
   },
   {
    "duration": 9,
    "start_time": "2022-12-08T08:09:18.412Z"
   },
   {
    "duration": 7,
    "start_time": "2022-12-08T08:09:18.423Z"
   },
   {
    "duration": 25,
    "start_time": "2022-12-08T08:09:18.432Z"
   },
   {
    "duration": 31,
    "start_time": "2022-12-08T08:09:18.461Z"
   },
   {
    "duration": 224,
    "start_time": "2022-12-08T08:09:18.494Z"
   },
   {
    "duration": 923,
    "start_time": "2022-12-08T08:09:18.720Z"
   },
   {
    "duration": 507,
    "start_time": "2022-12-08T08:09:19.645Z"
   },
   {
    "duration": 516,
    "start_time": "2022-12-08T08:09:20.153Z"
   },
   {
    "duration": 1404,
    "start_time": "2022-12-08T08:11:26.116Z"
   },
   {
    "duration": 46,
    "start_time": "2022-12-08T08:11:27.523Z"
   },
   {
    "duration": 13,
    "start_time": "2022-12-08T08:11:27.574Z"
   },
   {
    "duration": 9,
    "start_time": "2022-12-08T08:11:27.591Z"
   },
   {
    "duration": 6,
    "start_time": "2022-12-08T08:11:27.605Z"
   },
   {
    "duration": 13,
    "start_time": "2022-12-08T08:11:27.613Z"
   },
   {
    "duration": 6,
    "start_time": "2022-12-08T08:11:27.628Z"
   },
   {
    "duration": 5,
    "start_time": "2022-12-08T08:11:27.636Z"
   },
   {
    "duration": 1159,
    "start_time": "2022-12-08T08:11:27.643Z"
   },
   {
    "duration": 10,
    "start_time": "2022-12-08T08:11:28.803Z"
   },
   {
    "duration": 6,
    "start_time": "2022-12-08T08:11:28.815Z"
   },
   {
    "duration": 6,
    "start_time": "2022-12-08T08:11:28.822Z"
   },
   {
    "duration": 6,
    "start_time": "2022-12-08T08:11:28.830Z"
   },
   {
    "duration": 5,
    "start_time": "2022-12-08T08:11:28.837Z"
   },
   {
    "duration": 251,
    "start_time": "2022-12-08T08:11:28.843Z"
   },
   {
    "duration": 917,
    "start_time": "2022-12-08T08:11:29.096Z"
   },
   {
    "duration": 540,
    "start_time": "2022-12-08T08:11:30.014Z"
   },
   {
    "duration": 105,
    "start_time": "2022-12-08T08:11:42.643Z"
   },
   {
    "duration": 10,
    "start_time": "2022-12-08T08:11:48.146Z"
   },
   {
    "duration": 699,
    "start_time": "2022-12-08T08:12:37.626Z"
   },
   {
    "duration": 1297,
    "start_time": "2022-12-08T08:13:07.958Z"
   },
   {
    "duration": 41,
    "start_time": "2022-12-08T08:13:09.257Z"
   },
   {
    "duration": 11,
    "start_time": "2022-12-08T08:13:09.300Z"
   },
   {
    "duration": 6,
    "start_time": "2022-12-08T08:13:09.313Z"
   },
   {
    "duration": 4,
    "start_time": "2022-12-08T08:13:09.322Z"
   },
   {
    "duration": 8,
    "start_time": "2022-12-08T08:13:09.328Z"
   },
   {
    "duration": 6,
    "start_time": "2022-12-08T08:13:09.337Z"
   },
   {
    "duration": 5,
    "start_time": "2022-12-08T08:13:09.345Z"
   },
   {
    "duration": 1073,
    "start_time": "2022-12-08T08:13:09.352Z"
   },
   {
    "duration": 12,
    "start_time": "2022-12-08T08:13:10.427Z"
   },
   {
    "duration": 5,
    "start_time": "2022-12-08T08:13:10.441Z"
   },
   {
    "duration": 7,
    "start_time": "2022-12-08T08:13:10.448Z"
   },
   {
    "duration": 4,
    "start_time": "2022-12-08T08:13:10.457Z"
   },
   {
    "duration": 5,
    "start_time": "2022-12-08T08:13:10.464Z"
   },
   {
    "duration": 234,
    "start_time": "2022-12-08T08:13:10.471Z"
   },
   {
    "duration": 878,
    "start_time": "2022-12-08T08:13:10.706Z"
   },
   {
    "duration": 522,
    "start_time": "2022-12-08T08:13:11.586Z"
   },
   {
    "duration": 1800,
    "start_time": "2022-12-08T15:21:07.716Z"
   },
   {
    "duration": 158,
    "start_time": "2022-12-08T15:21:09.518Z"
   },
   {
    "duration": 51,
    "start_time": "2022-12-08T15:21:09.681Z"
   },
   {
    "duration": 13,
    "start_time": "2022-12-08T15:21:09.735Z"
   },
   {
    "duration": 61,
    "start_time": "2022-12-08T15:21:09.750Z"
   },
   {
    "duration": 14,
    "start_time": "2022-12-08T15:21:09.813Z"
   },
   {
    "duration": 43,
    "start_time": "2022-12-08T15:21:09.829Z"
   },
   {
    "duration": 57,
    "start_time": "2022-12-08T15:21:09.874Z"
   },
   {
    "duration": 1420,
    "start_time": "2022-12-08T15:21:09.933Z"
   },
   {
    "duration": 17,
    "start_time": "2022-12-08T15:21:11.357Z"
   },
   {
    "duration": 9,
    "start_time": "2022-12-08T15:21:11.389Z"
   },
   {
    "duration": 12,
    "start_time": "2022-12-08T15:21:11.401Z"
   },
   {
    "duration": 18,
    "start_time": "2022-12-08T15:21:11.415Z"
   },
   {
    "duration": 14,
    "start_time": "2022-12-08T15:21:11.435Z"
   },
   {
    "duration": 278,
    "start_time": "2022-12-08T15:21:11.451Z"
   },
   {
    "duration": 0,
    "start_time": "2022-12-08T15:21:11.731Z"
   },
   {
    "duration": 0,
    "start_time": "2022-12-08T15:21:11.733Z"
   },
   {
    "duration": 1431,
    "start_time": "2022-12-08T15:21:39.398Z"
   },
   {
    "duration": 44,
    "start_time": "2022-12-08T15:21:40.831Z"
   },
   {
    "duration": 18,
    "start_time": "2022-12-08T15:21:40.879Z"
   },
   {
    "duration": 10,
    "start_time": "2022-12-08T15:21:40.900Z"
   },
   {
    "duration": 18,
    "start_time": "2022-12-08T15:21:40.912Z"
   },
   {
    "duration": 30,
    "start_time": "2022-12-08T15:21:40.932Z"
   },
   {
    "duration": 11,
    "start_time": "2022-12-08T15:21:40.964Z"
   },
   {
    "duration": 38,
    "start_time": "2022-12-08T15:21:40.976Z"
   },
   {
    "duration": 1284,
    "start_time": "2022-12-08T15:21:41.016Z"
   },
   {
    "duration": 14,
    "start_time": "2022-12-08T15:21:42.302Z"
   },
   {
    "duration": 17,
    "start_time": "2022-12-08T15:21:42.319Z"
   },
   {
    "duration": 11,
    "start_time": "2022-12-08T15:21:42.338Z"
   },
   {
    "duration": 16,
    "start_time": "2022-12-08T15:21:42.351Z"
   },
   {
    "duration": 30,
    "start_time": "2022-12-08T15:21:42.371Z"
   },
   {
    "duration": 300,
    "start_time": "2022-12-08T15:21:42.404Z"
   },
   {
    "duration": 1061,
    "start_time": "2022-12-08T15:21:42.706Z"
   },
   {
    "duration": 629,
    "start_time": "2022-12-08T15:21:43.769Z"
   },
   {
    "duration": 1511,
    "start_time": "2022-12-08T15:25:28.411Z"
   },
   {
    "duration": 7,
    "start_time": "2022-12-08T15:26:19.885Z"
   },
   {
    "duration": 1496,
    "start_time": "2022-12-08T15:27:07.960Z"
   },
   {
    "duration": 46,
    "start_time": "2022-12-08T15:27:09.458Z"
   },
   {
    "duration": 12,
    "start_time": "2022-12-08T15:27:09.506Z"
   },
   {
    "duration": 8,
    "start_time": "2022-12-08T15:27:09.520Z"
   },
   {
    "duration": 6,
    "start_time": "2022-12-08T15:27:09.530Z"
   },
   {
    "duration": 8,
    "start_time": "2022-12-08T15:27:09.537Z"
   },
   {
    "duration": 4,
    "start_time": "2022-12-08T15:27:09.547Z"
   },
   {
    "duration": 31,
    "start_time": "2022-12-08T15:27:09.552Z"
   },
   {
    "duration": 1244,
    "start_time": "2022-12-08T15:27:09.584Z"
   },
   {
    "duration": 12,
    "start_time": "2022-12-08T15:27:10.830Z"
   },
   {
    "duration": 12,
    "start_time": "2022-12-08T15:27:10.843Z"
   },
   {
    "duration": 9,
    "start_time": "2022-12-08T15:27:10.857Z"
   },
   {
    "duration": 27,
    "start_time": "2022-12-08T15:27:10.868Z"
   },
   {
    "duration": 9,
    "start_time": "2022-12-08T15:27:10.898Z"
   },
   {
    "duration": 262,
    "start_time": "2022-12-08T15:27:10.908Z"
   },
   {
    "duration": 1074,
    "start_time": "2022-12-08T15:27:11.172Z"
   },
   {
    "duration": 656,
    "start_time": "2022-12-08T15:27:12.248Z"
   },
   {
    "duration": 1680,
    "start_time": "2022-12-08T15:27:12.906Z"
   },
   {
    "duration": 1433,
    "start_time": "2022-12-08T15:27:45.560Z"
   },
   {
    "duration": 43,
    "start_time": "2022-12-08T15:27:46.995Z"
   },
   {
    "duration": 11,
    "start_time": "2022-12-08T15:27:47.040Z"
   },
   {
    "duration": 8,
    "start_time": "2022-12-08T15:27:47.053Z"
   },
   {
    "duration": 9,
    "start_time": "2022-12-08T15:27:47.063Z"
   },
   {
    "duration": 27,
    "start_time": "2022-12-08T15:27:47.073Z"
   },
   {
    "duration": 10,
    "start_time": "2022-12-08T15:27:47.102Z"
   },
   {
    "duration": 15,
    "start_time": "2022-12-08T15:27:47.114Z"
   },
   {
    "duration": 1197,
    "start_time": "2022-12-08T15:27:47.131Z"
   },
   {
    "duration": 15,
    "start_time": "2022-12-08T15:27:48.331Z"
   },
   {
    "duration": 4,
    "start_time": "2022-12-08T15:27:48.350Z"
   },
   {
    "duration": 13,
    "start_time": "2022-12-08T15:27:48.357Z"
   },
   {
    "duration": 50,
    "start_time": "2022-12-08T15:27:48.372Z"
   },
   {
    "duration": 26,
    "start_time": "2022-12-08T15:27:48.426Z"
   },
   {
    "duration": 314,
    "start_time": "2022-12-08T15:27:48.454Z"
   },
   {
    "duration": 1035,
    "start_time": "2022-12-08T15:27:48.769Z"
   },
   {
    "duration": 607,
    "start_time": "2022-12-08T15:27:49.806Z"
   },
   {
    "duration": 1622,
    "start_time": "2022-12-08T15:27:50.415Z"
   },
   {
    "duration": 1502,
    "start_time": "2022-12-08T15:28:03.912Z"
   },
   {
    "duration": 44,
    "start_time": "2022-12-08T15:28:05.416Z"
   },
   {
    "duration": 13,
    "start_time": "2022-12-08T15:28:05.462Z"
   },
   {
    "duration": 24,
    "start_time": "2022-12-08T15:28:05.477Z"
   },
   {
    "duration": 8,
    "start_time": "2022-12-08T15:28:05.503Z"
   },
   {
    "duration": 15,
    "start_time": "2022-12-08T15:28:05.513Z"
   },
   {
    "duration": 11,
    "start_time": "2022-12-08T15:28:05.530Z"
   },
   {
    "duration": 7,
    "start_time": "2022-12-08T15:28:05.543Z"
   },
   {
    "duration": 1252,
    "start_time": "2022-12-08T15:28:05.552Z"
   },
   {
    "duration": 13,
    "start_time": "2022-12-08T15:28:06.807Z"
   },
   {
    "duration": 5,
    "start_time": "2022-12-08T15:28:06.823Z"
   },
   {
    "duration": 6,
    "start_time": "2022-12-08T15:28:06.830Z"
   },
   {
    "duration": 12,
    "start_time": "2022-12-08T15:28:06.838Z"
   },
   {
    "duration": 9,
    "start_time": "2022-12-08T15:28:06.853Z"
   },
   {
    "duration": 294,
    "start_time": "2022-12-08T15:28:06.864Z"
   },
   {
    "duration": 1049,
    "start_time": "2022-12-08T15:28:07.161Z"
   },
   {
    "duration": 698,
    "start_time": "2022-12-08T15:28:08.212Z"
   },
   {
    "duration": 1651,
    "start_time": "2022-12-08T15:28:08.912Z"
   },
   {
    "duration": 792,
    "start_time": "2022-12-08T15:30:35.339Z"
   },
   {
    "duration": 662,
    "start_time": "2022-12-08T15:30:46.799Z"
   },
   {
    "duration": 1675,
    "start_time": "2022-12-08T15:31:07.297Z"
   },
   {
    "duration": 1666,
    "start_time": "2022-12-08T15:31:17.352Z"
   },
   {
    "duration": 12,
    "start_time": "2022-12-08T15:32:00.758Z"
   },
   {
    "duration": 1455,
    "start_time": "2022-12-08T18:08:14.210Z"
   },
   {
    "duration": 44,
    "start_time": "2022-12-08T18:08:15.667Z"
   },
   {
    "duration": 13,
    "start_time": "2022-12-08T18:08:15.714Z"
   },
   {
    "duration": 8,
    "start_time": "2022-12-08T18:08:15.729Z"
   },
   {
    "duration": 9,
    "start_time": "2022-12-08T18:08:15.739Z"
   },
   {
    "duration": 9,
    "start_time": "2022-12-08T18:08:15.750Z"
   },
   {
    "duration": 4,
    "start_time": "2022-12-08T18:08:15.761Z"
   },
   {
    "duration": 13,
    "start_time": "2022-12-08T18:08:15.767Z"
   },
   {
    "duration": 1162,
    "start_time": "2022-12-08T18:08:15.782Z"
   },
   {
    "duration": 10,
    "start_time": "2022-12-08T18:08:16.947Z"
   },
   {
    "duration": 4,
    "start_time": "2022-12-08T18:08:16.958Z"
   },
   {
    "duration": 13,
    "start_time": "2022-12-08T18:08:16.964Z"
   },
   {
    "duration": 9,
    "start_time": "2022-12-08T18:08:16.979Z"
   },
   {
    "duration": 5,
    "start_time": "2022-12-08T18:08:16.989Z"
   },
   {
    "duration": 254,
    "start_time": "2022-12-08T18:08:16.996Z"
   },
   {
    "duration": 1006,
    "start_time": "2022-12-08T18:08:17.251Z"
   },
   {
    "duration": 658,
    "start_time": "2022-12-08T18:08:18.259Z"
   },
   {
    "duration": 1586,
    "start_time": "2022-12-08T18:08:18.920Z"
   },
   {
    "duration": 14,
    "start_time": "2022-12-08T18:08:20.508Z"
   },
   {
    "duration": 2,
    "start_time": "2022-12-08T18:08:20.524Z"
   },
   {
    "duration": 1444,
    "start_time": "2022-12-08T18:44:23.514Z"
   },
   {
    "duration": 45,
    "start_time": "2022-12-08T18:44:24.961Z"
   },
   {
    "duration": 14,
    "start_time": "2022-12-08T18:44:25.008Z"
   },
   {
    "duration": 16,
    "start_time": "2022-12-08T18:44:25.026Z"
   },
   {
    "duration": 13,
    "start_time": "2022-12-08T18:44:25.045Z"
   },
   {
    "duration": 24,
    "start_time": "2022-12-08T18:44:25.061Z"
   },
   {
    "duration": 10,
    "start_time": "2022-12-08T18:44:25.087Z"
   },
   {
    "duration": 17,
    "start_time": "2022-12-08T18:44:25.099Z"
   },
   {
    "duration": 1366,
    "start_time": "2022-12-08T18:44:25.118Z"
   },
   {
    "duration": 15,
    "start_time": "2022-12-08T18:44:26.488Z"
   },
   {
    "duration": 23,
    "start_time": "2022-12-08T18:44:26.505Z"
   },
   {
    "duration": 21,
    "start_time": "2022-12-08T18:44:26.531Z"
   },
   {
    "duration": 21,
    "start_time": "2022-12-08T18:44:26.555Z"
   },
   {
    "duration": 22,
    "start_time": "2022-12-08T18:44:26.579Z"
   },
   {
    "duration": 285,
    "start_time": "2022-12-08T18:44:26.604Z"
   },
   {
    "duration": 1128,
    "start_time": "2022-12-08T18:44:26.891Z"
   },
   {
    "duration": 687,
    "start_time": "2022-12-08T18:44:28.022Z"
   },
   {
    "duration": 1653,
    "start_time": "2022-12-08T18:44:28.711Z"
   },
   {
    "duration": 23,
    "start_time": "2022-12-08T18:44:30.366Z"
   },
   {
    "duration": 57,
    "start_time": "2022-12-08T18:44:30.394Z"
   },
   {
    "duration": 393,
    "start_time": "2022-12-08T18:44:30.453Z"
   },
   {
    "duration": 340,
    "start_time": "2022-12-08T18:44:40.821Z"
   },
   {
    "duration": 13,
    "start_time": "2022-12-08T18:45:16.776Z"
   },
   {
    "duration": 9,
    "start_time": "2022-12-08T18:45:34.368Z"
   },
   {
    "duration": 122,
    "start_time": "2022-12-08T18:45:47.119Z"
   },
   {
    "duration": 406,
    "start_time": "2022-12-08T18:46:11.575Z"
   },
   {
    "duration": 1370,
    "start_time": "2022-12-08T18:46:38.592Z"
   },
   {
    "duration": 31,
    "start_time": "2022-12-08T18:46:39.964Z"
   },
   {
    "duration": 1050,
    "start_time": "2022-12-08T18:47:25.852Z"
   },
   {
    "duration": 1186,
    "start_time": "2022-12-08T18:47:28.309Z"
   },
   {
    "duration": 12,
    "start_time": "2022-12-08T18:48:03.283Z"
   },
   {
    "duration": 324,
    "start_time": "2022-12-08T18:48:31.931Z"
   },
   {
    "duration": 333,
    "start_time": "2022-12-08T18:48:32.563Z"
   },
   {
    "duration": 11,
    "start_time": "2022-12-08T18:48:35.092Z"
   },
   {
    "duration": 12,
    "start_time": "2022-12-08T18:49:06.866Z"
   },
   {
    "duration": 15,
    "start_time": "2022-12-08T18:49:25.409Z"
   },
   {
    "duration": 10,
    "start_time": "2022-12-08T18:49:53.258Z"
   },
   {
    "duration": 10,
    "start_time": "2022-12-08T18:50:11.265Z"
   },
   {
    "duration": 15,
    "start_time": "2022-12-08T18:51:38.502Z"
   },
   {
    "duration": 10,
    "start_time": "2022-12-08T18:52:14.062Z"
   },
   {
    "duration": 10,
    "start_time": "2022-12-08T18:52:21.630Z"
   },
   {
    "duration": 1516,
    "start_time": "2022-12-08T18:53:31.152Z"
   },
   {
    "duration": 46,
    "start_time": "2022-12-08T18:53:32.671Z"
   },
   {
    "duration": 15,
    "start_time": "2022-12-08T18:53:32.719Z"
   },
   {
    "duration": 35,
    "start_time": "2022-12-08T18:53:32.736Z"
   },
   {
    "duration": 29,
    "start_time": "2022-12-08T18:53:32.774Z"
   },
   {
    "duration": 49,
    "start_time": "2022-12-08T18:53:32.805Z"
   },
   {
    "duration": 40,
    "start_time": "2022-12-08T18:53:32.856Z"
   },
   {
    "duration": 32,
    "start_time": "2022-12-08T18:53:32.899Z"
   },
   {
    "duration": 1448,
    "start_time": "2022-12-08T18:53:32.933Z"
   },
   {
    "duration": 16,
    "start_time": "2022-12-08T18:53:34.384Z"
   },
   {
    "duration": 105,
    "start_time": "2022-12-08T18:53:34.403Z"
   },
   {
    "duration": 53,
    "start_time": "2022-12-08T18:53:34.511Z"
   },
   {
    "duration": 101,
    "start_time": "2022-12-08T18:53:34.566Z"
   },
   {
    "duration": 59,
    "start_time": "2022-12-08T18:53:34.672Z"
   },
   {
    "duration": 301,
    "start_time": "2022-12-08T18:53:34.733Z"
   },
   {
    "duration": 1114,
    "start_time": "2022-12-08T18:53:35.036Z"
   },
   {
    "duration": 694,
    "start_time": "2022-12-08T18:53:36.153Z"
   },
   {
    "duration": 659,
    "start_time": "2022-12-08T18:54:14.196Z"
   },
   {
    "duration": 1651,
    "start_time": "2022-12-08T18:55:00.345Z"
   },
   {
    "duration": 47,
    "start_time": "2022-12-08T18:55:01.999Z"
   },
   {
    "duration": 15,
    "start_time": "2022-12-08T18:55:02.048Z"
   },
   {
    "duration": 5,
    "start_time": "2022-12-08T18:55:02.065Z"
   },
   {
    "duration": 41,
    "start_time": "2022-12-08T18:55:02.073Z"
   },
   {
    "duration": 33,
    "start_time": "2022-12-08T18:55:02.116Z"
   },
   {
    "duration": 32,
    "start_time": "2022-12-08T18:55:02.151Z"
   },
   {
    "duration": 11,
    "start_time": "2022-12-08T18:55:02.186Z"
   },
   {
    "duration": 1261,
    "start_time": "2022-12-08T18:55:02.200Z"
   },
   {
    "duration": 12,
    "start_time": "2022-12-08T18:55:03.464Z"
   },
   {
    "duration": 5,
    "start_time": "2022-12-08T18:55:03.478Z"
   },
   {
    "duration": 6,
    "start_time": "2022-12-08T18:55:03.486Z"
   },
   {
    "duration": 24,
    "start_time": "2022-12-08T18:55:03.494Z"
   },
   {
    "duration": 12,
    "start_time": "2022-12-08T18:55:03.521Z"
   },
   {
    "duration": 265,
    "start_time": "2022-12-08T18:55:03.535Z"
   },
   {
    "duration": 1062,
    "start_time": "2022-12-08T18:55:03.802Z"
   },
   {
    "duration": 679,
    "start_time": "2022-12-08T18:55:04.866Z"
   },
   {
    "duration": 3,
    "start_time": "2022-12-08T18:55:05.548Z"
   },
   {
    "duration": 734,
    "start_time": "2022-12-08T18:55:05.553Z"
   },
   {
    "duration": 681,
    "start_time": "2022-12-08T18:55:47.242Z"
   },
   {
    "duration": 5926,
    "start_time": "2022-12-08T18:56:17.217Z"
   },
   {
    "duration": 4822,
    "start_time": "2022-12-08T18:56:31.904Z"
   },
   {
    "duration": 377,
    "start_time": "2022-12-08T18:56:44.104Z"
   },
   {
    "duration": 725,
    "start_time": "2022-12-08T18:57:06.894Z"
   },
   {
    "duration": 5977,
    "start_time": "2022-12-08T18:57:26.743Z"
   },
   {
    "duration": 711,
    "start_time": "2022-12-08T18:57:57.933Z"
   },
   {
    "duration": 710,
    "start_time": "2022-12-08T18:59:01.558Z"
   },
   {
    "duration": 7944,
    "start_time": "2022-12-08T18:59:09.581Z"
   },
   {
    "duration": 6969,
    "start_time": "2022-12-08T18:59:22.877Z"
   },
   {
    "duration": 3873,
    "start_time": "2022-12-08T18:59:38.238Z"
   },
   {
    "duration": 667,
    "start_time": "2022-12-08T18:59:50.092Z"
   },
   {
    "duration": 15,
    "start_time": "2022-12-08T19:00:36.443Z"
   },
   {
    "duration": 19,
    "start_time": "2022-12-08T19:01:52.341Z"
   },
   {
    "duration": 1087,
    "start_time": "2022-12-08T19:02:30.569Z"
   },
   {
    "duration": 1594,
    "start_time": "2022-12-08T19:02:58.649Z"
   },
   {
    "duration": 46,
    "start_time": "2022-12-08T19:03:00.246Z"
   },
   {
    "duration": 45,
    "start_time": "2022-12-08T19:03:00.294Z"
   },
   {
    "duration": 54,
    "start_time": "2022-12-08T19:03:00.342Z"
   },
   {
    "duration": 67,
    "start_time": "2022-12-08T19:03:00.398Z"
   },
   {
    "duration": 166,
    "start_time": "2022-12-08T19:03:00.467Z"
   },
   {
    "duration": 155,
    "start_time": "2022-12-08T19:03:00.635Z"
   },
   {
    "duration": 208,
    "start_time": "2022-12-08T19:03:00.792Z"
   },
   {
    "duration": 1614,
    "start_time": "2022-12-08T19:03:01.003Z"
   },
   {
    "duration": 14,
    "start_time": "2022-12-08T19:03:02.620Z"
   },
   {
    "duration": 47,
    "start_time": "2022-12-08T19:03:02.636Z"
   },
   {
    "duration": 64,
    "start_time": "2022-12-08T19:03:02.685Z"
   },
   {
    "duration": 68,
    "start_time": "2022-12-08T19:03:02.751Z"
   },
   {
    "duration": 111,
    "start_time": "2022-12-08T19:03:02.821Z"
   },
   {
    "duration": 362,
    "start_time": "2022-12-08T19:03:02.934Z"
   },
   {
    "duration": 1069,
    "start_time": "2022-12-08T19:03:03.302Z"
   },
   {
    "duration": 643,
    "start_time": "2022-12-08T19:03:04.373Z"
   },
   {
    "duration": 705,
    "start_time": "2022-12-08T19:03:05.017Z"
   },
   {
    "duration": 3,
    "start_time": "2022-12-08T19:03:05.724Z"
   },
   {
    "duration": 39,
    "start_time": "2022-12-08T19:03:05.730Z"
   },
   {
    "duration": 1202,
    "start_time": "2022-12-08T19:03:05.778Z"
   },
   {
    "duration": 533,
    "start_time": "2022-12-08T19:03:49.454Z"
   },
   {
    "duration": 8,
    "start_time": "2022-12-08T19:04:32.932Z"
   },
   {
    "duration": 1455,
    "start_time": "2022-12-08T19:06:01.097Z"
   },
   {
    "duration": 47,
    "start_time": "2022-12-08T19:06:02.554Z"
   },
   {
    "duration": 142,
    "start_time": "2022-12-08T19:06:02.603Z"
   },
   {
    "duration": 210,
    "start_time": "2022-12-08T19:06:02.748Z"
   },
   {
    "duration": 1568,
    "start_time": "2022-12-08T19:06:23.881Z"
   },
   {
    "duration": 47,
    "start_time": "2022-12-08T19:06:25.451Z"
   },
   {
    "duration": 56,
    "start_time": "2022-12-08T19:06:25.500Z"
   },
   {
    "duration": 45,
    "start_time": "2022-12-08T19:06:25.558Z"
   },
   {
    "duration": 91,
    "start_time": "2022-12-08T19:06:25.606Z"
   },
   {
    "duration": 61,
    "start_time": "2022-12-08T19:06:25.699Z"
   },
   {
    "duration": 77,
    "start_time": "2022-12-08T19:06:25.763Z"
   },
   {
    "duration": 83,
    "start_time": "2022-12-08T19:06:25.842Z"
   },
   {
    "duration": 1374,
    "start_time": "2022-12-08T19:06:25.927Z"
   },
   {
    "duration": 17,
    "start_time": "2022-12-08T19:06:27.304Z"
   },
   {
    "duration": 49,
    "start_time": "2022-12-08T19:06:27.324Z"
   },
   {
    "duration": 70,
    "start_time": "2022-12-08T19:06:27.376Z"
   },
   {
    "duration": 10,
    "start_time": "2022-12-08T19:06:27.449Z"
   },
   {
    "duration": 84,
    "start_time": "2022-12-08T19:06:27.462Z"
   },
   {
    "duration": 356,
    "start_time": "2022-12-08T19:06:27.548Z"
   },
   {
    "duration": 1158,
    "start_time": "2022-12-08T19:06:27.906Z"
   },
   {
    "duration": 667,
    "start_time": "2022-12-08T19:06:29.066Z"
   },
   {
    "duration": 727,
    "start_time": "2022-12-08T19:06:29.735Z"
   },
   {
    "duration": 3,
    "start_time": "2022-12-08T19:06:30.464Z"
   },
   {
    "duration": 686,
    "start_time": "2022-12-08T19:06:30.477Z"
   },
   {
    "duration": 1367,
    "start_time": "2022-12-08T19:06:31.165Z"
   },
   {
    "duration": 8,
    "start_time": "2022-12-08T19:06:32.534Z"
   },
   {
    "duration": 683,
    "start_time": "2022-12-08T19:06:32.544Z"
   },
   {
    "duration": 8,
    "start_time": "2022-12-08T19:06:37.986Z"
   },
   {
    "duration": 1503,
    "start_time": "2022-12-08T19:07:25.313Z"
   },
   {
    "duration": 47,
    "start_time": "2022-12-08T19:07:26.818Z"
   },
   {
    "duration": 89,
    "start_time": "2022-12-08T19:07:26.867Z"
   },
   {
    "duration": 83,
    "start_time": "2022-12-08T19:07:26.958Z"
   },
   {
    "duration": 22,
    "start_time": "2022-12-08T19:07:27.043Z"
   },
   {
    "duration": 39,
    "start_time": "2022-12-08T19:07:27.067Z"
   },
   {
    "duration": 47,
    "start_time": "2022-12-08T19:07:27.108Z"
   },
   {
    "duration": 46,
    "start_time": "2022-12-08T19:07:27.157Z"
   },
   {
    "duration": 1400,
    "start_time": "2022-12-08T19:07:27.205Z"
   },
   {
    "duration": 13,
    "start_time": "2022-12-08T19:07:28.607Z"
   },
   {
    "duration": 62,
    "start_time": "2022-12-08T19:07:28.622Z"
   },
   {
    "duration": 75,
    "start_time": "2022-12-08T19:07:28.686Z"
   },
   {
    "duration": 160,
    "start_time": "2022-12-08T19:07:28.764Z"
   },
   {
    "duration": 86,
    "start_time": "2022-12-08T19:07:28.928Z"
   },
   {
    "duration": 343,
    "start_time": "2022-12-08T19:07:29.017Z"
   },
   {
    "duration": 1018,
    "start_time": "2022-12-08T19:07:29.363Z"
   },
   {
    "duration": 673,
    "start_time": "2022-12-08T19:07:30.383Z"
   },
   {
    "duration": 689,
    "start_time": "2022-12-08T19:07:31.059Z"
   },
   {
    "duration": 3,
    "start_time": "2022-12-08T19:07:31.750Z"
   },
   {
    "duration": 88,
    "start_time": "2022-12-08T19:07:31.755Z"
   },
   {
    "duration": 1211,
    "start_time": "2022-12-08T19:07:31.845Z"
   },
   {
    "duration": 165,
    "start_time": "2022-12-08T19:07:33.058Z"
   },
   {
    "duration": 31,
    "start_time": "2022-12-08T19:08:15.386Z"
   },
   {
    "duration": 20,
    "start_time": "2022-12-08T19:08:47.593Z"
   },
   {
    "duration": 598,
    "start_time": "2022-12-08T19:08:58.743Z"
   },
   {
    "duration": 1561,
    "start_time": "2022-12-08T19:10:28.633Z"
   },
   {
    "duration": 46,
    "start_time": "2022-12-08T19:10:30.197Z"
   },
   {
    "duration": 55,
    "start_time": "2022-12-08T19:10:30.245Z"
   },
   {
    "duration": 207,
    "start_time": "2022-12-08T19:10:30.302Z"
   },
   {
    "duration": 253,
    "start_time": "2022-12-08T19:10:30.512Z"
   },
   {
    "duration": 96,
    "start_time": "2022-12-08T19:10:30.767Z"
   },
   {
    "duration": 150,
    "start_time": "2022-12-08T19:10:30.865Z"
   },
   {
    "duration": 128,
    "start_time": "2022-12-08T19:10:31.017Z"
   },
   {
    "duration": 1354,
    "start_time": "2022-12-08T19:10:31.147Z"
   },
   {
    "duration": 12,
    "start_time": "2022-12-08T19:10:32.503Z"
   },
   {
    "duration": 11,
    "start_time": "2022-12-08T19:10:32.517Z"
   },
   {
    "duration": 14,
    "start_time": "2022-12-08T19:10:32.530Z"
   },
   {
    "duration": 33,
    "start_time": "2022-12-08T19:10:32.547Z"
   },
   {
    "duration": 9,
    "start_time": "2022-12-08T19:10:32.583Z"
   },
   {
    "duration": 295,
    "start_time": "2022-12-08T19:10:32.594Z"
   },
   {
    "duration": 1045,
    "start_time": "2022-12-08T19:10:32.891Z"
   },
   {
    "duration": 639,
    "start_time": "2022-12-08T19:10:33.938Z"
   },
   {
    "duration": 689,
    "start_time": "2022-12-08T19:10:34.580Z"
   },
   {
    "duration": 3,
    "start_time": "2022-12-08T19:10:35.277Z"
   },
   {
    "duration": 44,
    "start_time": "2022-12-08T19:10:35.282Z"
   },
   {
    "duration": 1195,
    "start_time": "2022-12-08T19:10:35.329Z"
   },
   {
    "duration": 803,
    "start_time": "2022-12-08T19:10:36.525Z"
   },
   {
    "duration": 1792,
    "start_time": "2022-12-08T19:11:27.142Z"
   },
   {
    "duration": 46,
    "start_time": "2022-12-08T19:11:28.937Z"
   },
   {
    "duration": 16,
    "start_time": "2022-12-08T19:11:28.986Z"
   },
   {
    "duration": 13,
    "start_time": "2022-12-08T19:11:29.004Z"
   },
   {
    "duration": 20,
    "start_time": "2022-12-08T19:11:29.019Z"
   },
   {
    "duration": 17,
    "start_time": "2022-12-08T19:11:29.040Z"
   },
   {
    "duration": 25,
    "start_time": "2022-12-08T19:11:29.058Z"
   },
   {
    "duration": 16,
    "start_time": "2022-12-08T19:11:29.084Z"
   },
   {
    "duration": 1315,
    "start_time": "2022-12-08T19:11:29.102Z"
   },
   {
    "duration": 14,
    "start_time": "2022-12-08T19:11:30.422Z"
   },
   {
    "duration": 430,
    "start_time": "2022-12-08T19:11:30.439Z"
   },
   {
    "duration": 347,
    "start_time": "2022-12-08T19:11:30.871Z"
   },
   {
    "duration": 317,
    "start_time": "2022-12-08T19:11:31.220Z"
   },
   {
    "duration": 213,
    "start_time": "2022-12-08T19:11:31.540Z"
   },
   {
    "duration": 355,
    "start_time": "2022-12-08T19:11:31.756Z"
   },
   {
    "duration": 1093,
    "start_time": "2022-12-08T19:11:32.113Z"
   },
   {
    "duration": 683,
    "start_time": "2022-12-08T19:11:33.209Z"
   },
   {
    "duration": 718,
    "start_time": "2022-12-08T19:11:33.895Z"
   },
   {
    "duration": 3,
    "start_time": "2022-12-08T19:11:34.617Z"
   },
   {
    "duration": 35,
    "start_time": "2022-12-08T19:11:34.622Z"
   },
   {
    "duration": 1149,
    "start_time": "2022-12-08T19:11:34.659Z"
   },
   {
    "duration": 801,
    "start_time": "2022-12-08T19:11:35.810Z"
   },
   {
    "duration": 1480,
    "start_time": "2022-12-08T19:14:02.712Z"
   },
   {
    "duration": 45,
    "start_time": "2022-12-08T19:14:04.194Z"
   },
   {
    "duration": 13,
    "start_time": "2022-12-08T19:14:04.241Z"
   },
   {
    "duration": 8,
    "start_time": "2022-12-08T19:14:04.256Z"
   },
   {
    "duration": 9,
    "start_time": "2022-12-08T19:14:04.266Z"
   },
   {
    "duration": 12,
    "start_time": "2022-12-08T19:14:04.277Z"
   },
   {
    "duration": 13,
    "start_time": "2022-12-08T19:14:04.292Z"
   },
   {
    "duration": 14,
    "start_time": "2022-12-08T19:14:04.307Z"
   },
   {
    "duration": 1222,
    "start_time": "2022-12-08T19:14:04.323Z"
   },
   {
    "duration": 13,
    "start_time": "2022-12-08T19:14:05.547Z"
   },
   {
    "duration": 18,
    "start_time": "2022-12-08T19:14:05.562Z"
   },
   {
    "duration": 21,
    "start_time": "2022-12-08T19:14:05.582Z"
   },
   {
    "duration": 46,
    "start_time": "2022-12-08T19:14:05.605Z"
   },
   {
    "duration": 12,
    "start_time": "2022-12-08T19:14:05.654Z"
   },
   {
    "duration": 287,
    "start_time": "2022-12-08T19:14:05.668Z"
   },
   {
    "duration": 1011,
    "start_time": "2022-12-08T19:14:05.958Z"
   },
   {
    "duration": 631,
    "start_time": "2022-12-08T19:14:06.972Z"
   },
   {
    "duration": 693,
    "start_time": "2022-12-08T19:14:07.605Z"
   },
   {
    "duration": 3,
    "start_time": "2022-12-08T19:14:08.301Z"
   },
   {
    "duration": 55,
    "start_time": "2022-12-08T19:14:08.306Z"
   },
   {
    "duration": 1120,
    "start_time": "2022-12-08T19:14:08.363Z"
   },
   {
    "duration": 705,
    "start_time": "2022-12-08T19:14:09.485Z"
   },
   {
    "duration": 1443,
    "start_time": "2022-12-08T19:14:41.001Z"
   },
   {
    "duration": 42,
    "start_time": "2022-12-08T19:14:42.446Z"
   },
   {
    "duration": 12,
    "start_time": "2022-12-08T19:14:42.489Z"
   },
   {
    "duration": 17,
    "start_time": "2022-12-08T19:14:42.503Z"
   },
   {
    "duration": 19,
    "start_time": "2022-12-08T19:14:42.523Z"
   },
   {
    "duration": 18,
    "start_time": "2022-12-08T19:14:42.544Z"
   },
   {
    "duration": 18,
    "start_time": "2022-12-08T19:14:42.564Z"
   },
   {
    "duration": 11,
    "start_time": "2022-12-08T19:14:42.584Z"
   },
   {
    "duration": 1240,
    "start_time": "2022-12-08T19:14:42.597Z"
   },
   {
    "duration": 14,
    "start_time": "2022-12-08T19:14:43.839Z"
   },
   {
    "duration": 21,
    "start_time": "2022-12-08T19:14:43.855Z"
   },
   {
    "duration": 24,
    "start_time": "2022-12-08T19:14:43.878Z"
   },
   {
    "duration": 16,
    "start_time": "2022-12-08T19:14:43.904Z"
   },
   {
    "duration": 25,
    "start_time": "2022-12-08T19:14:43.923Z"
   },
   {
    "duration": 297,
    "start_time": "2022-12-08T19:14:43.950Z"
   },
   {
    "duration": 1064,
    "start_time": "2022-12-08T19:14:44.250Z"
   },
   {
    "duration": 634,
    "start_time": "2022-12-08T19:14:45.315Z"
   },
   {
    "duration": 681,
    "start_time": "2022-12-08T19:14:45.951Z"
   },
   {
    "duration": 3,
    "start_time": "2022-12-08T19:14:46.634Z"
   },
   {
    "duration": 26,
    "start_time": "2022-12-08T19:14:46.638Z"
   },
   {
    "duration": 1262,
    "start_time": "2022-12-08T19:14:46.666Z"
   },
   {
    "duration": 775,
    "start_time": "2022-12-08T19:14:47.930Z"
   },
   {
    "duration": 643,
    "start_time": "2022-12-08T19:15:57.917Z"
   },
   {
    "duration": 1493,
    "start_time": "2022-12-08T19:16:12.275Z"
   },
   {
    "duration": 50,
    "start_time": "2022-12-08T19:16:13.770Z"
   },
   {
    "duration": 14,
    "start_time": "2022-12-08T19:16:13.828Z"
   },
   {
    "duration": 10,
    "start_time": "2022-12-08T19:16:13.845Z"
   },
   {
    "duration": 11,
    "start_time": "2022-12-08T19:16:13.857Z"
   },
   {
    "duration": 18,
    "start_time": "2022-12-08T19:16:13.870Z"
   },
   {
    "duration": 5,
    "start_time": "2022-12-08T19:16:13.891Z"
   },
   {
    "duration": 6,
    "start_time": "2022-12-08T19:16:13.898Z"
   },
   {
    "duration": 1180,
    "start_time": "2022-12-08T19:16:13.905Z"
   },
   {
    "duration": 12,
    "start_time": "2022-12-08T19:16:15.088Z"
   },
   {
    "duration": 9,
    "start_time": "2022-12-08T19:16:15.102Z"
   },
   {
    "duration": 10,
    "start_time": "2022-12-08T19:16:15.113Z"
   },
   {
    "duration": 8,
    "start_time": "2022-12-08T19:16:15.125Z"
   },
   {
    "duration": 6,
    "start_time": "2022-12-08T19:16:15.136Z"
   },
   {
    "duration": 273,
    "start_time": "2022-12-08T19:16:15.144Z"
   },
   {
    "duration": 1024,
    "start_time": "2022-12-08T19:16:15.419Z"
   },
   {
    "duration": 591,
    "start_time": "2022-12-08T19:16:16.445Z"
   },
   {
    "duration": 639,
    "start_time": "2022-12-08T19:16:17.038Z"
   },
   {
    "duration": 3,
    "start_time": "2022-12-08T19:16:17.679Z"
   },
   {
    "duration": 30,
    "start_time": "2022-12-08T19:16:17.684Z"
   },
   {
    "duration": 1211,
    "start_time": "2022-12-08T19:16:17.715Z"
   },
   {
    "duration": 732,
    "start_time": "2022-12-08T19:16:18.929Z"
   },
   {
    "duration": 1380,
    "start_time": "2022-12-08T19:16:44.326Z"
   },
   {
    "duration": 44,
    "start_time": "2022-12-08T19:16:45.709Z"
   },
   {
    "duration": 13,
    "start_time": "2022-12-08T19:16:45.757Z"
   },
   {
    "duration": 4,
    "start_time": "2022-12-08T19:16:45.773Z"
   },
   {
    "duration": 9,
    "start_time": "2022-12-08T19:16:45.780Z"
   },
   {
    "duration": 12,
    "start_time": "2022-12-08T19:16:45.791Z"
   },
   {
    "duration": 6,
    "start_time": "2022-12-08T19:16:45.804Z"
   },
   {
    "duration": 8,
    "start_time": "2022-12-08T19:16:45.812Z"
   },
   {
    "duration": 1198,
    "start_time": "2022-12-08T19:16:45.822Z"
   },
   {
    "duration": 12,
    "start_time": "2022-12-08T19:16:47.023Z"
   },
   {
    "duration": 4,
    "start_time": "2022-12-08T19:16:47.037Z"
   },
   {
    "duration": 20,
    "start_time": "2022-12-08T19:16:47.042Z"
   },
   {
    "duration": 8,
    "start_time": "2022-12-08T19:16:47.065Z"
   },
   {
    "duration": 12,
    "start_time": "2022-12-08T19:16:47.075Z"
   },
   {
    "duration": 259,
    "start_time": "2022-12-08T19:16:47.089Z"
   },
   {
    "duration": 1044,
    "start_time": "2022-12-08T19:16:47.350Z"
   },
   {
    "duration": 579,
    "start_time": "2022-12-08T19:16:48.396Z"
   },
   {
    "duration": 621,
    "start_time": "2022-12-08T19:16:48.978Z"
   },
   {
    "duration": 2,
    "start_time": "2022-12-08T19:16:49.601Z"
   },
   {
    "duration": 23,
    "start_time": "2022-12-08T19:16:49.605Z"
   },
   {
    "duration": 1015,
    "start_time": "2022-12-08T19:16:49.630Z"
   },
   {
    "duration": 728,
    "start_time": "2022-12-08T19:16:50.647Z"
   },
   {
    "duration": 1508,
    "start_time": "2022-12-08T19:17:21.950Z"
   },
   {
    "duration": 48,
    "start_time": "2022-12-08T19:17:23.460Z"
   },
   {
    "duration": 20,
    "start_time": "2022-12-08T19:17:23.511Z"
   },
   {
    "duration": 20,
    "start_time": "2022-12-08T19:17:23.533Z"
   },
   {
    "duration": 13,
    "start_time": "2022-12-08T19:17:23.557Z"
   },
   {
    "duration": 32,
    "start_time": "2022-12-08T19:17:23.573Z"
   },
   {
    "duration": 13,
    "start_time": "2022-12-08T19:17:23.608Z"
   },
   {
    "duration": 16,
    "start_time": "2022-12-08T19:17:23.623Z"
   },
   {
    "duration": 1239,
    "start_time": "2022-12-08T19:17:23.642Z"
   },
   {
    "duration": 14,
    "start_time": "2022-12-08T19:17:24.884Z"
   },
   {
    "duration": 5,
    "start_time": "2022-12-08T19:17:24.900Z"
   },
   {
    "duration": 7,
    "start_time": "2022-12-08T19:17:24.907Z"
   },
   {
    "duration": 29,
    "start_time": "2022-12-08T19:17:24.918Z"
   },
   {
    "duration": 10,
    "start_time": "2022-12-08T19:17:24.951Z"
   },
   {
    "duration": 299,
    "start_time": "2022-12-08T19:17:24.964Z"
   },
   {
    "duration": 1025,
    "start_time": "2022-12-08T19:17:25.265Z"
   },
   {
    "duration": 580,
    "start_time": "2022-12-08T19:17:26.291Z"
   },
   {
    "duration": 679,
    "start_time": "2022-12-08T19:17:26.873Z"
   },
   {
    "duration": 3,
    "start_time": "2022-12-08T19:17:27.554Z"
   },
   {
    "duration": 36,
    "start_time": "2022-12-08T19:17:27.559Z"
   },
   {
    "duration": 1140,
    "start_time": "2022-12-08T19:17:27.598Z"
   },
   {
    "duration": 781,
    "start_time": "2022-12-08T19:17:28.740Z"
   },
   {
    "duration": 1533,
    "start_time": "2022-12-08T19:18:00.945Z"
   },
   {
    "duration": 46,
    "start_time": "2022-12-08T19:18:02.480Z"
   },
   {
    "duration": 12,
    "start_time": "2022-12-08T19:18:02.528Z"
   },
   {
    "duration": 12,
    "start_time": "2022-12-08T19:18:02.541Z"
   },
   {
    "duration": 11,
    "start_time": "2022-12-08T19:18:02.555Z"
   },
   {
    "duration": 10,
    "start_time": "2022-12-08T19:18:02.568Z"
   },
   {
    "duration": 12,
    "start_time": "2022-12-08T19:18:02.579Z"
   },
   {
    "duration": 26,
    "start_time": "2022-12-08T19:18:02.593Z"
   },
   {
    "duration": 1264,
    "start_time": "2022-12-08T19:18:02.621Z"
   },
   {
    "duration": 11,
    "start_time": "2022-12-08T19:18:03.887Z"
   },
   {
    "duration": 9,
    "start_time": "2022-12-08T19:18:03.900Z"
   },
   {
    "duration": 8,
    "start_time": "2022-12-08T19:18:03.911Z"
   },
   {
    "duration": 7,
    "start_time": "2022-12-08T19:18:03.920Z"
   },
   {
    "duration": 7,
    "start_time": "2022-12-08T19:18:03.931Z"
   },
   {
    "duration": 268,
    "start_time": "2022-12-08T19:18:03.939Z"
   },
   {
    "duration": 997,
    "start_time": "2022-12-08T19:18:04.209Z"
   },
   {
    "duration": 575,
    "start_time": "2022-12-08T19:18:05.209Z"
   },
   {
    "duration": 672,
    "start_time": "2022-12-08T19:18:05.786Z"
   },
   {
    "duration": 3,
    "start_time": "2022-12-08T19:18:06.460Z"
   },
   {
    "duration": 47,
    "start_time": "2022-12-08T19:18:06.465Z"
   },
   {
    "duration": 1091,
    "start_time": "2022-12-08T19:18:06.514Z"
   },
   {
    "duration": 747,
    "start_time": "2022-12-08T19:18:07.606Z"
   },
   {
    "duration": 501,
    "start_time": "2022-12-08T19:18:23.338Z"
   },
   {
    "duration": 532,
    "start_time": "2022-12-08T19:18:38.369Z"
   },
   {
    "duration": 1363,
    "start_time": "2022-12-08T19:19:08.221Z"
   },
   {
    "duration": 43,
    "start_time": "2022-12-08T19:19:09.586Z"
   },
   {
    "duration": 12,
    "start_time": "2022-12-08T19:19:09.633Z"
   },
   {
    "duration": 5,
    "start_time": "2022-12-08T19:19:09.648Z"
   },
   {
    "duration": 8,
    "start_time": "2022-12-08T19:19:09.654Z"
   },
   {
    "duration": 16,
    "start_time": "2022-12-08T19:19:09.663Z"
   },
   {
    "duration": 3,
    "start_time": "2022-12-08T19:19:09.681Z"
   },
   {
    "duration": 6,
    "start_time": "2022-12-08T19:19:09.686Z"
   },
   {
    "duration": 1223,
    "start_time": "2022-12-08T19:19:09.694Z"
   },
   {
    "duration": 17,
    "start_time": "2022-12-08T19:19:10.920Z"
   },
   {
    "duration": 5,
    "start_time": "2022-12-08T19:19:10.940Z"
   },
   {
    "duration": 18,
    "start_time": "2022-12-08T19:19:10.948Z"
   },
   {
    "duration": 17,
    "start_time": "2022-12-08T19:19:10.971Z"
   },
   {
    "duration": 15,
    "start_time": "2022-12-08T19:19:10.990Z"
   },
   {
    "duration": 281,
    "start_time": "2022-12-08T19:19:11.008Z"
   },
   {
    "duration": 1018,
    "start_time": "2022-12-08T19:19:11.292Z"
   },
   {
    "duration": 602,
    "start_time": "2022-12-08T19:19:12.312Z"
   },
   {
    "duration": 624,
    "start_time": "2022-12-08T19:19:12.916Z"
   },
   {
    "duration": 3,
    "start_time": "2022-12-08T19:19:13.542Z"
   },
   {
    "duration": 37,
    "start_time": "2022-12-08T19:19:13.547Z"
   },
   {
    "duration": 1120,
    "start_time": "2022-12-08T19:19:13.587Z"
   },
   {
    "duration": 673,
    "start_time": "2022-12-08T19:19:14.709Z"
   },
   {
    "duration": 520,
    "start_time": "2022-12-08T19:19:25.241Z"
   },
   {
    "duration": 557,
    "start_time": "2022-12-08T19:19:33.305Z"
   },
   {
    "duration": 1437,
    "start_time": "2022-12-08T19:20:47.698Z"
   },
   {
    "duration": 46,
    "start_time": "2022-12-08T19:20:49.137Z"
   },
   {
    "duration": 13,
    "start_time": "2022-12-08T19:20:49.184Z"
   },
   {
    "duration": 11,
    "start_time": "2022-12-08T19:20:49.199Z"
   },
   {
    "duration": 13,
    "start_time": "2022-12-08T19:20:49.213Z"
   },
   {
    "duration": 14,
    "start_time": "2022-12-08T19:20:49.228Z"
   },
   {
    "duration": 9,
    "start_time": "2022-12-08T19:20:49.244Z"
   },
   {
    "duration": 20,
    "start_time": "2022-12-08T19:20:49.256Z"
   },
   {
    "duration": 1210,
    "start_time": "2022-12-08T19:20:49.278Z"
   },
   {
    "duration": 11,
    "start_time": "2022-12-08T19:20:50.490Z"
   },
   {
    "duration": 4,
    "start_time": "2022-12-08T19:20:50.503Z"
   },
   {
    "duration": 9,
    "start_time": "2022-12-08T19:20:50.509Z"
   },
   {
    "duration": 13,
    "start_time": "2022-12-08T19:20:50.520Z"
   },
   {
    "duration": 5,
    "start_time": "2022-12-08T19:20:50.536Z"
   },
   {
    "duration": 259,
    "start_time": "2022-12-08T19:20:50.542Z"
   },
   {
    "duration": 981,
    "start_time": "2022-12-08T19:20:50.802Z"
   },
   {
    "duration": 577,
    "start_time": "2022-12-08T19:20:51.785Z"
   },
   {
    "duration": 608,
    "start_time": "2022-12-08T19:20:52.363Z"
   },
   {
    "duration": 4465,
    "start_time": "2022-12-08T19:21:21.357Z"
   },
   {
    "duration": 594,
    "start_time": "2022-12-08T19:21:36.005Z"
   },
   {
    "duration": 568,
    "start_time": "2022-12-08T19:21:46.069Z"
   },
   {
    "duration": 4460,
    "start_time": "2022-12-08T19:22:03.356Z"
   },
   {
    "duration": 590,
    "start_time": "2022-12-08T19:22:15.083Z"
   },
   {
    "duration": 585,
    "start_time": "2022-12-08T19:22:26.523Z"
   },
   {
    "duration": 545,
    "start_time": "2022-12-08T19:23:06.619Z"
   },
   {
    "duration": 1416,
    "start_time": "2022-12-08T19:23:36.274Z"
   },
   {
    "duration": 43,
    "start_time": "2022-12-08T19:23:37.692Z"
   },
   {
    "duration": 13,
    "start_time": "2022-12-08T19:23:37.737Z"
   },
   {
    "duration": 10,
    "start_time": "2022-12-08T19:23:37.752Z"
   },
   {
    "duration": 7,
    "start_time": "2022-12-08T19:23:37.765Z"
   },
   {
    "duration": 11,
    "start_time": "2022-12-08T19:23:37.774Z"
   },
   {
    "duration": 9,
    "start_time": "2022-12-08T19:23:37.787Z"
   },
   {
    "duration": 26,
    "start_time": "2022-12-08T19:23:37.798Z"
   },
   {
    "duration": 1250,
    "start_time": "2022-12-08T19:23:37.826Z"
   },
   {
    "duration": 11,
    "start_time": "2022-12-08T19:23:39.078Z"
   },
   {
    "duration": 7,
    "start_time": "2022-12-08T19:23:39.091Z"
   },
   {
    "duration": 9,
    "start_time": "2022-12-08T19:23:39.100Z"
   },
   {
    "duration": 9,
    "start_time": "2022-12-08T19:23:39.111Z"
   },
   {
    "duration": 6,
    "start_time": "2022-12-08T19:23:39.122Z"
   },
   {
    "duration": 262,
    "start_time": "2022-12-08T19:23:39.130Z"
   },
   {
    "duration": 927,
    "start_time": "2022-12-08T19:23:39.394Z"
   },
   {
    "duration": 584,
    "start_time": "2022-12-08T19:23:40.323Z"
   },
   {
    "duration": 605,
    "start_time": "2022-12-08T19:23:40.909Z"
   },
   {
    "duration": 57,
    "start_time": "2022-12-09T11:03:25.375Z"
   },
   {
    "duration": 24524,
    "start_time": "2022-12-09T11:04:47.657Z"
   },
   {
    "duration": 1352,
    "start_time": "2022-12-09T11:05:12.184Z"
   },
   {
    "duration": 174,
    "start_time": "2022-12-09T11:05:37.002Z"
   },
   {
    "duration": 14,
    "start_time": "2022-12-09T11:05:39.173Z"
   },
   {
    "duration": 5,
    "start_time": "2022-12-09T11:05:40.797Z"
   },
   {
    "duration": 4,
    "start_time": "2022-12-09T11:05:43.740Z"
   },
   {
    "duration": 7,
    "start_time": "2022-12-09T11:05:45.555Z"
   },
   {
    "duration": 3,
    "start_time": "2022-12-09T11:05:47.006Z"
   },
   {
    "duration": 4,
    "start_time": "2022-12-09T11:05:47.509Z"
   },
   {
    "duration": 1163,
    "start_time": "2022-12-09T11:05:50.381Z"
   },
   {
    "duration": 12,
    "start_time": "2022-12-09T11:05:52.085Z"
   },
   {
    "duration": 5,
    "start_time": "2022-12-09T11:05:59.508Z"
   },
   {
    "duration": 7,
    "start_time": "2022-12-09T11:06:00.031Z"
   },
   {
    "duration": 5,
    "start_time": "2022-12-09T11:06:02.317Z"
   },
   {
    "duration": 4,
    "start_time": "2022-12-09T11:06:04.519Z"
   },
   {
    "duration": 255,
    "start_time": "2022-12-09T11:06:05.046Z"
   },
   {
    "duration": 984,
    "start_time": "2022-12-09T11:07:20.304Z"
   },
   {
    "duration": 623,
    "start_time": "2022-12-09T11:07:47.334Z"
   },
   {
    "duration": 1001,
    "start_time": "2022-12-09T11:08:25.429Z"
   },
   {
    "duration": 692,
    "start_time": "2022-12-09T11:08:34.634Z"
   },
   {
    "duration": 12877,
    "start_time": "2022-12-09T11:10:16.861Z"
   },
   {
    "duration": 1300,
    "start_time": "2022-12-09T11:10:29.740Z"
   },
   {
    "duration": 43,
    "start_time": "2022-12-09T11:10:31.042Z"
   },
   {
    "duration": 13,
    "start_time": "2022-12-09T11:10:31.087Z"
   },
   {
    "duration": 34,
    "start_time": "2022-12-09T11:10:31.102Z"
   },
   {
    "duration": 38,
    "start_time": "2022-12-09T11:10:31.138Z"
   },
   {
    "duration": 40,
    "start_time": "2022-12-09T11:10:31.177Z"
   },
   {
    "duration": 26,
    "start_time": "2022-12-09T11:10:31.219Z"
   },
   {
    "duration": 31,
    "start_time": "2022-12-09T11:10:31.247Z"
   },
   {
    "duration": 1203,
    "start_time": "2022-12-09T11:10:31.281Z"
   },
   {
    "duration": 11,
    "start_time": "2022-12-09T11:10:32.486Z"
   },
   {
    "duration": 7,
    "start_time": "2022-12-09T11:10:32.499Z"
   },
   {
    "duration": 11,
    "start_time": "2022-12-09T11:10:32.508Z"
   },
   {
    "duration": 16,
    "start_time": "2022-12-09T11:10:32.521Z"
   },
   {
    "duration": 14,
    "start_time": "2022-12-09T11:10:32.539Z"
   },
   {
    "duration": 250,
    "start_time": "2022-12-09T11:10:32.555Z"
   },
   {
    "duration": 919,
    "start_time": "2022-12-09T11:10:32.807Z"
   },
   {
    "duration": 595,
    "start_time": "2022-12-09T11:10:33.728Z"
   },
   {
    "duration": 112,
    "start_time": "2022-12-09T11:13:57.394Z"
   },
   {
    "duration": 12,
    "start_time": "2022-12-09T11:14:02.123Z"
   },
   {
    "duration": 4,
    "start_time": "2022-12-09T11:18:10.279Z"
   },
   {
    "duration": 1306,
    "start_time": "2022-12-09T11:18:10.285Z"
   },
   {
    "duration": 44,
    "start_time": "2022-12-09T11:18:11.593Z"
   },
   {
    "duration": 13,
    "start_time": "2022-12-09T11:18:11.638Z"
   },
   {
    "duration": 41,
    "start_time": "2022-12-09T11:18:11.655Z"
   },
   {
    "duration": 15,
    "start_time": "2022-12-09T11:18:11.698Z"
   },
   {
    "duration": 32,
    "start_time": "2022-12-09T11:18:11.715Z"
   },
   {
    "duration": 17,
    "start_time": "2022-12-09T11:18:11.749Z"
   },
   {
    "duration": 21,
    "start_time": "2022-12-09T11:18:11.768Z"
   },
   {
    "duration": 1241,
    "start_time": "2022-12-09T11:18:11.791Z"
   },
   {
    "duration": 12,
    "start_time": "2022-12-09T11:18:13.035Z"
   },
   {
    "duration": 31,
    "start_time": "2022-12-09T11:18:13.049Z"
   },
   {
    "duration": 23,
    "start_time": "2022-12-09T11:18:13.083Z"
   },
   {
    "duration": 23,
    "start_time": "2022-12-09T11:18:13.109Z"
   },
   {
    "duration": 34,
    "start_time": "2022-12-09T11:18:13.134Z"
   },
   {
    "duration": 296,
    "start_time": "2022-12-09T11:18:13.171Z"
   },
   {
    "duration": 1089,
    "start_time": "2022-12-09T11:18:13.470Z"
   },
   {
    "duration": 696,
    "start_time": "2022-12-09T11:18:14.561Z"
   },
   {
    "duration": 17,
    "start_time": "2022-12-09T11:18:15.260Z"
   },
   {
    "duration": 702,
    "start_time": "2022-12-09T11:18:15.279Z"
   },
   {
    "duration": 626,
    "start_time": "2022-12-09T11:18:31.043Z"
   },
   {
    "duration": 5,
    "start_time": "2022-12-09T11:18:54.539Z"
   },
   {
    "duration": 1268,
    "start_time": "2022-12-09T11:18:54.546Z"
   },
   {
    "duration": 45,
    "start_time": "2022-12-09T11:18:55.816Z"
   },
   {
    "duration": 15,
    "start_time": "2022-12-09T11:18:55.864Z"
   },
   {
    "duration": 71,
    "start_time": "2022-12-09T11:18:55.881Z"
   },
   {
    "duration": 34,
    "start_time": "2022-12-09T11:18:55.954Z"
   },
   {
    "duration": 39,
    "start_time": "2022-12-09T11:18:55.990Z"
   },
   {
    "duration": 16,
    "start_time": "2022-12-09T11:18:56.031Z"
   },
   {
    "duration": 26,
    "start_time": "2022-12-09T11:18:56.049Z"
   },
   {
    "duration": 1224,
    "start_time": "2022-12-09T11:18:56.079Z"
   },
   {
    "duration": 16,
    "start_time": "2022-12-09T11:18:57.306Z"
   },
   {
    "duration": 5,
    "start_time": "2022-12-09T11:18:57.325Z"
   },
   {
    "duration": 29,
    "start_time": "2022-12-09T11:18:57.332Z"
   },
   {
    "duration": 12,
    "start_time": "2022-12-09T11:18:57.364Z"
   },
   {
    "duration": 8,
    "start_time": "2022-12-09T11:18:57.379Z"
   },
   {
    "duration": 273,
    "start_time": "2022-12-09T11:18:57.390Z"
   },
   {
    "duration": 1034,
    "start_time": "2022-12-09T11:18:57.666Z"
   },
   {
    "duration": 569,
    "start_time": "2022-12-09T11:18:58.702Z"
   },
   {
    "duration": 9,
    "start_time": "2022-12-09T11:18:59.274Z"
   },
   {
    "duration": 4,
    "start_time": "2022-12-09T11:19:54.954Z"
   },
   {
    "duration": 1280,
    "start_time": "2022-12-09T11:19:54.960Z"
   },
   {
    "duration": 41,
    "start_time": "2022-12-09T11:19:56.242Z"
   },
   {
    "duration": 14,
    "start_time": "2022-12-09T11:19:56.285Z"
   },
   {
    "duration": 25,
    "start_time": "2022-12-09T11:19:56.301Z"
   },
   {
    "duration": 6,
    "start_time": "2022-12-09T11:19:56.329Z"
   },
   {
    "duration": 8,
    "start_time": "2022-12-09T11:19:56.336Z"
   },
   {
    "duration": 7,
    "start_time": "2022-12-09T11:19:56.346Z"
   },
   {
    "duration": 7,
    "start_time": "2022-12-09T11:19:56.355Z"
   },
   {
    "duration": 1163,
    "start_time": "2022-12-09T11:19:56.377Z"
   },
   {
    "duration": 14,
    "start_time": "2022-12-09T11:19:57.543Z"
   },
   {
    "duration": 16,
    "start_time": "2022-12-09T11:19:57.559Z"
   },
   {
    "duration": 6,
    "start_time": "2022-12-09T11:19:57.577Z"
   },
   {
    "duration": 6,
    "start_time": "2022-12-09T11:19:57.584Z"
   },
   {
    "duration": 5,
    "start_time": "2022-12-09T11:19:57.592Z"
   },
   {
    "duration": 276,
    "start_time": "2022-12-09T11:19:57.599Z"
   },
   {
    "duration": 1101,
    "start_time": "2022-12-09T11:19:57.877Z"
   },
   {
    "duration": 590,
    "start_time": "2022-12-09T11:19:58.980Z"
   },
   {
    "duration": 4,
    "start_time": "2022-12-09T11:19:59.577Z"
   },
   {
    "duration": 7362,
    "start_time": "2022-12-09T11:19:59.583Z"
   },
   {
    "duration": 4,
    "start_time": "2022-12-09T11:21:01.182Z"
   },
   {
    "duration": 5,
    "start_time": "2022-12-09T11:21:36.737Z"
   },
   {
    "duration": 1264,
    "start_time": "2022-12-09T11:21:36.745Z"
   },
   {
    "duration": 46,
    "start_time": "2022-12-09T11:21:38.011Z"
   },
   {
    "duration": 13,
    "start_time": "2022-12-09T11:21:38.059Z"
   },
   {
    "duration": 5,
    "start_time": "2022-12-09T11:21:38.075Z"
   },
   {
    "duration": 11,
    "start_time": "2022-12-09T11:21:38.081Z"
   },
   {
    "duration": 9,
    "start_time": "2022-12-09T11:21:38.093Z"
   },
   {
    "duration": 7,
    "start_time": "2022-12-09T11:21:38.104Z"
   },
   {
    "duration": 7,
    "start_time": "2022-12-09T11:21:38.113Z"
   },
   {
    "duration": 1282,
    "start_time": "2022-12-09T11:21:38.122Z"
   },
   {
    "duration": 10,
    "start_time": "2022-12-09T11:21:39.407Z"
   },
   {
    "duration": 10,
    "start_time": "2022-12-09T11:21:39.419Z"
   },
   {
    "duration": 10,
    "start_time": "2022-12-09T11:21:39.430Z"
   },
   {
    "duration": 6,
    "start_time": "2022-12-09T11:21:39.442Z"
   },
   {
    "duration": 10,
    "start_time": "2022-12-09T11:21:39.449Z"
   },
   {
    "duration": 263,
    "start_time": "2022-12-09T11:21:39.461Z"
   },
   {
    "duration": 954,
    "start_time": "2022-12-09T11:21:39.726Z"
   },
   {
    "duration": 622,
    "start_time": "2022-12-09T11:21:40.682Z"
   },
   {
    "duration": 5,
    "start_time": "2022-12-09T11:21:41.306Z"
   },
   {
    "duration": 6510,
    "start_time": "2022-12-09T11:21:41.313Z"
   },
   {
    "duration": 9448,
    "start_time": "2022-12-09T11:23:47.979Z"
   },
   {
    "duration": 9872,
    "start_time": "2022-12-09T11:24:19.346Z"
   },
   {
    "duration": 12545,
    "start_time": "2022-12-09T11:25:06.090Z"
   },
   {
    "duration": 5733,
    "start_time": "2022-12-09T11:25:37.784Z"
   },
   {
    "duration": 6794,
    "start_time": "2022-12-09T11:26:53.151Z"
   },
   {
    "duration": 115,
    "start_time": "2022-12-09T11:28:33.122Z"
   },
   {
    "duration": 40,
    "start_time": "2022-12-09T11:28:40.246Z"
   },
   {
    "duration": 4,
    "start_time": "2022-12-09T11:28:47.558Z"
   },
   {
    "duration": 1511,
    "start_time": "2022-12-09T11:28:47.564Z"
   },
   {
    "duration": 55,
    "start_time": "2022-12-09T11:28:49.077Z"
   },
   {
    "duration": 17,
    "start_time": "2022-12-09T11:28:49.134Z"
   },
   {
    "duration": 21,
    "start_time": "2022-12-09T11:28:49.154Z"
   },
   {
    "duration": 77,
    "start_time": "2022-12-09T11:28:49.177Z"
   },
   {
    "duration": 43,
    "start_time": "2022-12-09T11:28:49.257Z"
   },
   {
    "duration": 43,
    "start_time": "2022-12-09T11:28:49.302Z"
   },
   {
    "duration": 24,
    "start_time": "2022-12-09T11:28:49.348Z"
   },
   {
    "duration": 1259,
    "start_time": "2022-12-09T11:28:49.374Z"
   },
   {
    "duration": 11,
    "start_time": "2022-12-09T11:28:50.635Z"
   },
   {
    "duration": 24,
    "start_time": "2022-12-09T11:28:50.648Z"
   },
   {
    "duration": 14,
    "start_time": "2022-12-09T11:28:50.674Z"
   },
   {
    "duration": 6,
    "start_time": "2022-12-09T11:28:50.691Z"
   },
   {
    "duration": 8,
    "start_time": "2022-12-09T11:28:50.699Z"
   },
   {
    "duration": 274,
    "start_time": "2022-12-09T11:28:50.709Z"
   },
   {
    "duration": 973,
    "start_time": "2022-12-09T11:28:50.986Z"
   },
   {
    "duration": 616,
    "start_time": "2022-12-09T11:28:51.961Z"
   },
   {
    "duration": 3,
    "start_time": "2022-12-09T11:28:52.579Z"
   },
   {
    "duration": 8034,
    "start_time": "2022-12-09T11:28:52.583Z"
   },
   {
    "duration": 6702,
    "start_time": "2022-12-09T11:29:00.619Z"
   },
   {
    "duration": 157,
    "start_time": "2022-12-09T11:29:07.324Z"
   },
   {
    "duration": 11,
    "start_time": "2022-12-09T11:29:46.034Z"
   },
   {
    "duration": 57,
    "start_time": "2022-12-09T11:31:01.528Z"
   },
   {
    "duration": 15,
    "start_time": "2022-12-09T11:32:08.407Z"
   },
   {
    "duration": 10,
    "start_time": "2022-12-09T11:36:59.839Z"
   },
   {
    "duration": 5,
    "start_time": "2022-12-09T11:41:35.366Z"
   },
   {
    "duration": 1173,
    "start_time": "2022-12-09T11:41:35.374Z"
   },
   {
    "duration": 0,
    "start_time": "2022-12-09T11:41:36.550Z"
   },
   {
    "duration": 0,
    "start_time": "2022-12-09T11:41:36.552Z"
   },
   {
    "duration": 0,
    "start_time": "2022-12-09T11:41:36.554Z"
   },
   {
    "duration": 0,
    "start_time": "2022-12-09T11:41:36.556Z"
   },
   {
    "duration": 0,
    "start_time": "2022-12-09T11:41:36.557Z"
   },
   {
    "duration": 0,
    "start_time": "2022-12-09T11:41:36.559Z"
   },
   {
    "duration": 0,
    "start_time": "2022-12-09T11:41:36.560Z"
   },
   {
    "duration": 0,
    "start_time": "2022-12-09T11:41:36.562Z"
   },
   {
    "duration": 0,
    "start_time": "2022-12-09T11:41:36.579Z"
   },
   {
    "duration": 0,
    "start_time": "2022-12-09T11:41:36.580Z"
   },
   {
    "duration": 0,
    "start_time": "2022-12-09T11:41:36.582Z"
   },
   {
    "duration": 0,
    "start_time": "2022-12-09T11:41:36.584Z"
   },
   {
    "duration": 0,
    "start_time": "2022-12-09T11:41:36.586Z"
   },
   {
    "duration": 0,
    "start_time": "2022-12-09T11:41:36.587Z"
   },
   {
    "duration": 0,
    "start_time": "2022-12-09T11:41:36.588Z"
   },
   {
    "duration": 0,
    "start_time": "2022-12-09T11:41:36.589Z"
   },
   {
    "duration": 0,
    "start_time": "2022-12-09T11:41:36.591Z"
   },
   {
    "duration": 0,
    "start_time": "2022-12-09T11:41:36.592Z"
   },
   {
    "duration": 0,
    "start_time": "2022-12-09T11:41:36.594Z"
   },
   {
    "duration": 0,
    "start_time": "2022-12-09T11:41:36.595Z"
   },
   {
    "duration": 0,
    "start_time": "2022-12-09T11:41:36.596Z"
   },
   {
    "duration": 0,
    "start_time": "2022-12-09T11:41:36.598Z"
   },
   {
    "duration": 0,
    "start_time": "2022-12-09T11:41:36.599Z"
   },
   {
    "duration": 0,
    "start_time": "2022-12-09T11:41:36.600Z"
   },
   {
    "duration": 5,
    "start_time": "2022-12-09T11:42:08.395Z"
   },
   {
    "duration": 1209,
    "start_time": "2022-12-09T11:42:08.402Z"
   },
   {
    "duration": 44,
    "start_time": "2022-12-09T11:42:09.612Z"
   },
   {
    "duration": 13,
    "start_time": "2022-12-09T11:42:09.658Z"
   },
   {
    "duration": 8,
    "start_time": "2022-12-09T11:42:09.673Z"
   },
   {
    "duration": 10,
    "start_time": "2022-12-09T11:42:09.683Z"
   },
   {
    "duration": 14,
    "start_time": "2022-12-09T11:42:09.695Z"
   },
   {
    "duration": 4,
    "start_time": "2022-12-09T11:42:09.711Z"
   },
   {
    "duration": 7,
    "start_time": "2022-12-09T11:42:09.717Z"
   },
   {
    "duration": 1190,
    "start_time": "2022-12-09T11:42:09.726Z"
   },
   {
    "duration": 13,
    "start_time": "2022-12-09T11:42:10.918Z"
   },
   {
    "duration": 16,
    "start_time": "2022-12-09T11:42:10.933Z"
   },
   {
    "duration": 10,
    "start_time": "2022-12-09T11:42:10.951Z"
   },
   {
    "duration": 11,
    "start_time": "2022-12-09T11:42:10.964Z"
   },
   {
    "duration": 8,
    "start_time": "2022-12-09T11:42:10.977Z"
   },
   {
    "duration": 254,
    "start_time": "2022-12-09T11:42:10.988Z"
   },
   {
    "duration": 937,
    "start_time": "2022-12-09T11:42:11.244Z"
   },
   {
    "duration": 564,
    "start_time": "2022-12-09T11:42:12.184Z"
   },
   {
    "duration": 3,
    "start_time": "2022-12-09T11:42:12.750Z"
   },
   {
    "duration": 11451,
    "start_time": "2022-12-09T11:42:12.755Z"
   },
   {
    "duration": 177,
    "start_time": "2022-12-09T11:42:24.209Z"
   },
   {
    "duration": 189,
    "start_time": "2022-12-09T11:42:24.388Z"
   },
   {
    "duration": 4309,
    "start_time": "2022-12-09T11:42:24.580Z"
   },
   {
    "duration": 3,
    "start_time": "2022-12-09T11:42:28.891Z"
   },
   {
    "duration": 121,
    "start_time": "2022-12-09T11:42:28.980Z"
   },
   {
    "duration": 32,
    "start_time": "2022-12-09T11:42:29.104Z"
   },
   {
    "duration": 4,
    "start_time": "2022-12-09T11:43:13.733Z"
   },
   {
    "duration": 1224,
    "start_time": "2022-12-09T11:43:13.739Z"
   },
   {
    "duration": 42,
    "start_time": "2022-12-09T11:43:14.965Z"
   },
   {
    "duration": 16,
    "start_time": "2022-12-09T11:43:15.009Z"
   },
   {
    "duration": 13,
    "start_time": "2022-12-09T11:43:15.028Z"
   },
   {
    "duration": 11,
    "start_time": "2022-12-09T11:43:15.043Z"
   },
   {
    "duration": 15,
    "start_time": "2022-12-09T11:43:15.056Z"
   },
   {
    "duration": 13,
    "start_time": "2022-12-09T11:43:15.074Z"
   },
   {
    "duration": 8,
    "start_time": "2022-12-09T11:43:15.089Z"
   },
   {
    "duration": 1178,
    "start_time": "2022-12-09T11:43:15.099Z"
   },
   {
    "duration": 13,
    "start_time": "2022-12-09T11:43:16.279Z"
   },
   {
    "duration": 8,
    "start_time": "2022-12-09T11:43:16.294Z"
   },
   {
    "duration": 7,
    "start_time": "2022-12-09T11:43:16.304Z"
   },
   {
    "duration": 5,
    "start_time": "2022-12-09T11:43:16.314Z"
   },
   {
    "duration": 6,
    "start_time": "2022-12-09T11:43:16.321Z"
   },
   {
    "duration": 273,
    "start_time": "2022-12-09T11:43:16.328Z"
   },
   {
    "duration": 949,
    "start_time": "2022-12-09T11:43:16.603Z"
   },
   {
    "duration": 597,
    "start_time": "2022-12-09T11:43:17.554Z"
   },
   {
    "duration": 3,
    "start_time": "2022-12-09T11:43:18.153Z"
   },
   {
    "duration": 6359,
    "start_time": "2022-12-09T11:43:18.158Z"
   },
   {
    "duration": 159,
    "start_time": "2022-12-09T11:43:24.520Z"
   },
   {
    "duration": 99,
    "start_time": "2022-12-09T11:43:24.681Z"
   },
   {
    "duration": 5601,
    "start_time": "2022-12-09T11:43:24.781Z"
   },
   {
    "duration": 7,
    "start_time": "2022-12-09T11:43:59.317Z"
   },
   {
    "duration": 16528,
    "start_time": "2022-12-09T11:45:25.157Z"
   },
   {
    "duration": 6,
    "start_time": "2022-12-09T11:45:44.252Z"
   },
   {
    "duration": 17377,
    "start_time": "2022-12-09T11:46:05.907Z"
   },
   {
    "duration": 6,
    "start_time": "2022-12-09T11:46:23.377Z"
   },
   {
    "duration": 12,
    "start_time": "2022-12-09T11:47:03.441Z"
   },
   {
    "duration": 2821,
    "start_time": "2022-12-09T11:49:27.262Z"
   },
   {
    "duration": 92,
    "start_time": "2022-12-09T11:49:30.088Z"
   },
   {
    "duration": 18919,
    "start_time": "2022-12-09T11:50:04.261Z"
   },
   {
    "duration": 93,
    "start_time": "2022-12-09T11:50:23.186Z"
   },
   {
    "duration": 13662,
    "start_time": "2022-12-09T11:51:04.316Z"
   },
   {
    "duration": 15,
    "start_time": "2022-12-09T11:51:17.988Z"
   },
   {
    "duration": 12959,
    "start_time": "2022-12-09T11:51:25.019Z"
   },
   {
    "duration": 9,
    "start_time": "2022-12-09T11:51:37.981Z"
   },
   {
    "duration": 10889,
    "start_time": "2022-12-09T11:51:59.494Z"
   },
   {
    "duration": 90,
    "start_time": "2022-12-09T11:52:10.391Z"
   },
   {
    "duration": 5333,
    "start_time": "2022-12-09T11:52:26.682Z"
   },
   {
    "duration": 4,
    "start_time": "2022-12-09T11:53:25.561Z"
   },
   {
    "duration": 1580,
    "start_time": "2022-12-09T11:53:25.567Z"
   },
   {
    "duration": 46,
    "start_time": "2022-12-09T11:53:27.149Z"
   },
   {
    "duration": 14,
    "start_time": "2022-12-09T11:53:27.197Z"
   },
   {
    "duration": 104,
    "start_time": "2022-12-09T11:53:27.214Z"
   },
   {
    "duration": 38,
    "start_time": "2022-12-09T11:53:27.321Z"
   },
   {
    "duration": 47,
    "start_time": "2022-12-09T11:53:27.361Z"
   },
   {
    "duration": 33,
    "start_time": "2022-12-09T11:53:27.410Z"
   },
   {
    "duration": 21,
    "start_time": "2022-12-09T11:53:27.445Z"
   },
   {
    "duration": 1485,
    "start_time": "2022-12-09T11:53:27.468Z"
   },
   {
    "duration": 14,
    "start_time": "2022-12-09T11:53:28.956Z"
   },
   {
    "duration": 46,
    "start_time": "2022-12-09T11:53:28.972Z"
   },
   {
    "duration": 57,
    "start_time": "2022-12-09T11:53:29.020Z"
   },
   {
    "duration": 112,
    "start_time": "2022-12-09T11:53:29.087Z"
   },
   {
    "duration": 34,
    "start_time": "2022-12-09T11:53:29.201Z"
   },
   {
    "duration": 396,
    "start_time": "2022-12-09T11:53:29.238Z"
   },
   {
    "duration": 1029,
    "start_time": "2022-12-09T11:53:29.637Z"
   },
   {
    "duration": 700,
    "start_time": "2022-12-09T11:53:30.669Z"
   },
   {
    "duration": 7,
    "start_time": "2022-12-09T11:53:31.371Z"
   },
   {
    "duration": 7756,
    "start_time": "2022-12-09T11:53:31.381Z"
   },
   {
    "duration": 145,
    "start_time": "2022-12-09T11:53:39.140Z"
   },
   {
    "duration": 230,
    "start_time": "2022-12-09T11:53:39.287Z"
   },
   {
    "duration": 12164,
    "start_time": "2022-12-09T11:53:39.520Z"
   },
   {
    "duration": 10409,
    "start_time": "2022-12-09T11:53:51.686Z"
   },
   {
    "duration": 9397,
    "start_time": "2022-12-09T11:54:17.894Z"
   },
   {
    "duration": 12526,
    "start_time": "2022-12-09T11:54:42.270Z"
   },
   {
    "duration": 10987,
    "start_time": "2022-12-09T11:54:54.804Z"
   },
   {
    "duration": 6632,
    "start_time": "2022-12-09T11:57:05.907Z"
   },
   {
    "duration": 6541,
    "start_time": "2022-12-09T11:58:30.569Z"
   },
   {
    "duration": 7,
    "start_time": "2022-12-09T11:59:05.496Z"
   },
   {
    "duration": 124,
    "start_time": "2022-12-09T12:02:43.640Z"
   },
   {
    "duration": 17,
    "start_time": "2022-12-09T12:02:56.458Z"
   },
   {
    "duration": 26261,
    "start_time": "2022-12-09T12:04:00.618Z"
   },
   {
    "duration": 23767,
    "start_time": "2022-12-09T12:04:36.512Z"
   },
   {
    "duration": 26198,
    "start_time": "2022-12-09T12:05:00.281Z"
   },
   {
    "duration": 22668,
    "start_time": "2022-12-09T12:05:53.015Z"
   },
   {
    "duration": 6463,
    "start_time": "2022-12-09T12:06:34.255Z"
   },
   {
    "duration": 4,
    "start_time": "2022-12-09T12:07:36.564Z"
   },
   {
    "duration": 1271,
    "start_time": "2022-12-09T12:07:36.570Z"
   },
   {
    "duration": 51,
    "start_time": "2022-12-09T12:07:37.843Z"
   },
   {
    "duration": 39,
    "start_time": "2022-12-09T12:07:37.897Z"
   },
   {
    "duration": 23,
    "start_time": "2022-12-09T12:07:37.939Z"
   },
   {
    "duration": 7,
    "start_time": "2022-12-09T12:07:37.966Z"
   },
   {
    "duration": 10,
    "start_time": "2022-12-09T12:07:37.975Z"
   },
   {
    "duration": 4,
    "start_time": "2022-12-09T12:07:37.987Z"
   },
   {
    "duration": 6,
    "start_time": "2022-12-09T12:07:37.993Z"
   },
   {
    "duration": 1299,
    "start_time": "2022-12-09T12:07:38.001Z"
   },
   {
    "duration": 11,
    "start_time": "2022-12-09T12:07:39.303Z"
   },
   {
    "duration": 9,
    "start_time": "2022-12-09T12:07:39.316Z"
   },
   {
    "duration": 10,
    "start_time": "2022-12-09T12:07:39.328Z"
   },
   {
    "duration": 14,
    "start_time": "2022-12-09T12:07:39.340Z"
   },
   {
    "duration": 13,
    "start_time": "2022-12-09T12:07:39.356Z"
   },
   {
    "duration": 265,
    "start_time": "2022-12-09T12:07:39.378Z"
   },
   {
    "duration": 1009,
    "start_time": "2022-12-09T12:07:39.645Z"
   },
   {
    "duration": 625,
    "start_time": "2022-12-09T12:07:40.656Z"
   },
   {
    "duration": 4,
    "start_time": "2022-12-09T12:07:41.284Z"
   },
   {
    "duration": 6732,
    "start_time": "2022-12-09T12:07:41.290Z"
   },
   {
    "duration": 11155,
    "start_time": "2022-12-09T12:07:48.024Z"
   },
   {
    "duration": 11198,
    "start_time": "2022-12-09T12:07:59.181Z"
   },
   {
    "duration": 7642,
    "start_time": "2022-12-09T12:08:10.380Z"
   },
   {
    "duration": 7094,
    "start_time": "2022-12-09T12:08:18.024Z"
   },
   {
    "duration": 24561,
    "start_time": "2022-12-09T12:08:25.120Z"
   },
   {
    "duration": 5,
    "start_time": "2022-12-09T12:08:49.683Z"
   },
   {
    "duration": 6190,
    "start_time": "2022-12-09T12:08:49.689Z"
   },
   {
    "duration": 5,
    "start_time": "2022-12-09T12:21:46.345Z"
   },
   {
    "duration": 1360,
    "start_time": "2022-12-09T12:21:46.354Z"
   },
   {
    "duration": 44,
    "start_time": "2022-12-09T12:21:47.717Z"
   },
   {
    "duration": 13,
    "start_time": "2022-12-09T12:21:47.763Z"
   },
   {
    "duration": 28,
    "start_time": "2022-12-09T12:21:47.779Z"
   },
   {
    "duration": 27,
    "start_time": "2022-12-09T12:21:47.809Z"
   },
   {
    "duration": 23,
    "start_time": "2022-12-09T12:21:47.838Z"
   },
   {
    "duration": 34,
    "start_time": "2022-12-09T12:21:47.864Z"
   },
   {
    "duration": 45,
    "start_time": "2022-12-09T12:21:47.900Z"
   },
   {
    "duration": 1357,
    "start_time": "2022-12-09T12:21:47.947Z"
   },
   {
    "duration": 12,
    "start_time": "2022-12-09T12:21:49.307Z"
   },
   {
    "duration": 4,
    "start_time": "2022-12-09T12:21:49.321Z"
   },
   {
    "duration": 23,
    "start_time": "2022-12-09T12:21:49.327Z"
   },
   {
    "duration": 7,
    "start_time": "2022-12-09T12:21:49.354Z"
   },
   {
    "duration": 15,
    "start_time": "2022-12-09T12:21:49.363Z"
   },
   {
    "duration": 272,
    "start_time": "2022-12-09T12:21:49.380Z"
   },
   {
    "duration": 5,
    "start_time": "2022-12-09T12:21:49.654Z"
   },
   {
    "duration": 816,
    "start_time": "2022-12-09T12:21:49.661Z"
   },
   {
    "duration": 596,
    "start_time": "2022-12-09T12:21:50.479Z"
   },
   {
    "duration": 4,
    "start_time": "2022-12-09T12:21:51.076Z"
   },
   {
    "duration": 733,
    "start_time": "2022-12-09T12:21:51.082Z"
   },
   {
    "duration": 865,
    "start_time": "2022-12-09T12:21:51.817Z"
   },
   {
    "duration": 1000,
    "start_time": "2022-12-09T12:21:52.684Z"
   },
   {
    "duration": 705,
    "start_time": "2022-12-09T12:21:53.777Z"
   },
   {
    "duration": 727,
    "start_time": "2022-12-09T12:21:54.483Z"
   },
   {
    "duration": 8367,
    "start_time": "2022-12-09T12:21:55.213Z"
   },
   {
    "duration": 3,
    "start_time": "2022-12-09T12:22:03.582Z"
   },
   {
    "duration": 5533,
    "start_time": "2022-12-09T12:22:03.587Z"
   },
   {
    "duration": 4,
    "start_time": "2022-12-09T12:23:42.183Z"
   },
   {
    "duration": 1225,
    "start_time": "2022-12-09T12:23:42.189Z"
   },
   {
    "duration": 44,
    "start_time": "2022-12-09T12:23:43.416Z"
   },
   {
    "duration": 13,
    "start_time": "2022-12-09T12:23:43.462Z"
   },
   {
    "duration": 26,
    "start_time": "2022-12-09T12:23:43.477Z"
   },
   {
    "duration": 25,
    "start_time": "2022-12-09T12:23:43.505Z"
   },
   {
    "duration": 28,
    "start_time": "2022-12-09T12:23:43.532Z"
   },
   {
    "duration": 16,
    "start_time": "2022-12-09T12:23:43.562Z"
   },
   {
    "duration": 32,
    "start_time": "2022-12-09T12:23:43.580Z"
   },
   {
    "duration": 1195,
    "start_time": "2022-12-09T12:23:43.614Z"
   },
   {
    "duration": 10,
    "start_time": "2022-12-09T12:23:44.811Z"
   },
   {
    "duration": 13,
    "start_time": "2022-12-09T12:23:44.822Z"
   },
   {
    "duration": 9,
    "start_time": "2022-12-09T12:23:44.836Z"
   },
   {
    "duration": 6,
    "start_time": "2022-12-09T12:23:44.848Z"
   },
   {
    "duration": 15,
    "start_time": "2022-12-09T12:23:44.855Z"
   },
   {
    "duration": 247,
    "start_time": "2022-12-09T12:23:44.872Z"
   },
   {
    "duration": 959,
    "start_time": "2022-12-09T12:23:45.121Z"
   },
   {
    "duration": 578,
    "start_time": "2022-12-09T12:23:46.081Z"
   },
   {
    "duration": 3,
    "start_time": "2022-12-09T12:23:46.661Z"
   },
   {
    "duration": 6144,
    "start_time": "2022-12-09T12:23:46.665Z"
   },
   {
    "duration": 10671,
    "start_time": "2022-12-09T12:23:52.811Z"
   },
   {
    "duration": 11391,
    "start_time": "2022-12-09T12:24:03.488Z"
   },
   {
    "duration": 8242,
    "start_time": "2022-12-09T12:24:14.881Z"
   },
   {
    "duration": 8483,
    "start_time": "2022-12-09T12:24:23.125Z"
   },
   {
    "duration": 22177,
    "start_time": "2022-12-09T12:24:31.611Z"
   },
   {
    "duration": 4,
    "start_time": "2022-12-09T12:24:53.877Z"
   },
   {
    "duration": 5340,
    "start_time": "2022-12-09T12:24:53.883Z"
   },
   {
    "duration": 4,
    "start_time": "2022-12-09T12:27:06.566Z"
   },
   {
    "duration": 1405,
    "start_time": "2022-12-09T12:27:06.572Z"
   },
   {
    "duration": 43,
    "start_time": "2022-12-09T12:27:07.979Z"
   },
   {
    "duration": 15,
    "start_time": "2022-12-09T12:27:08.024Z"
   },
   {
    "duration": 24,
    "start_time": "2022-12-09T12:27:08.040Z"
   },
   {
    "duration": 31,
    "start_time": "2022-12-09T12:27:08.066Z"
   },
   {
    "duration": 22,
    "start_time": "2022-12-09T12:27:08.099Z"
   },
   {
    "duration": 11,
    "start_time": "2022-12-09T12:27:08.123Z"
   },
   {
    "duration": 25,
    "start_time": "2022-12-09T12:27:08.135Z"
   },
   {
    "duration": 1294,
    "start_time": "2022-12-09T12:27:08.163Z"
   },
   {
    "duration": 12,
    "start_time": "2022-12-09T12:27:09.458Z"
   },
   {
    "duration": 11,
    "start_time": "2022-12-09T12:27:09.472Z"
   },
   {
    "duration": 8,
    "start_time": "2022-12-09T12:27:09.485Z"
   },
   {
    "duration": 8,
    "start_time": "2022-12-09T12:27:09.495Z"
   },
   {
    "duration": 11,
    "start_time": "2022-12-09T12:27:09.506Z"
   },
   {
    "duration": 268,
    "start_time": "2022-12-09T12:27:09.519Z"
   },
   {
    "duration": 4,
    "start_time": "2022-12-09T12:27:09.791Z"
   },
   {
    "duration": 832,
    "start_time": "2022-12-09T12:27:09.797Z"
   },
   {
    "duration": 599,
    "start_time": "2022-12-09T12:27:10.632Z"
   },
   {
    "duration": 4,
    "start_time": "2022-12-09T12:27:11.234Z"
   },
   {
    "duration": 761,
    "start_time": "2022-12-09T12:27:11.240Z"
   },
   {
    "duration": 875,
    "start_time": "2022-12-09T12:27:12.003Z"
   },
   {
    "duration": 1001,
    "start_time": "2022-12-09T12:27:12.880Z"
   },
   {
    "duration": 741,
    "start_time": "2022-12-09T12:27:13.883Z"
   },
   {
    "duration": 713,
    "start_time": "2022-12-09T12:27:14.626Z"
   },
   {
    "duration": 8145,
    "start_time": "2022-12-09T12:27:15.342Z"
   },
   {
    "duration": 3,
    "start_time": "2022-12-09T12:27:23.489Z"
   },
   {
    "duration": 5382,
    "start_time": "2022-12-09T12:27:23.496Z"
   },
   {
    "duration": 4,
    "start_time": "2022-12-09T12:29:07.922Z"
   },
   {
    "duration": 1356,
    "start_time": "2022-12-09T12:29:07.928Z"
   },
   {
    "duration": 46,
    "start_time": "2022-12-09T12:29:09.286Z"
   },
   {
    "duration": 13,
    "start_time": "2022-12-09T12:29:09.334Z"
   },
   {
    "duration": 5,
    "start_time": "2022-12-09T12:29:09.350Z"
   },
   {
    "duration": 14,
    "start_time": "2022-12-09T12:29:09.357Z"
   },
   {
    "duration": 24,
    "start_time": "2022-12-09T12:29:09.373Z"
   },
   {
    "duration": 8,
    "start_time": "2022-12-09T12:29:09.399Z"
   },
   {
    "duration": 9,
    "start_time": "2022-12-09T12:29:09.409Z"
   },
   {
    "duration": 1257,
    "start_time": "2022-12-09T12:29:09.420Z"
   },
   {
    "duration": 14,
    "start_time": "2022-12-09T12:29:10.686Z"
   },
   {
    "duration": 25,
    "start_time": "2022-12-09T12:29:10.702Z"
   },
   {
    "duration": 21,
    "start_time": "2022-12-09T12:29:10.729Z"
   },
   {
    "duration": 19,
    "start_time": "2022-12-09T12:29:10.754Z"
   },
   {
    "duration": 24,
    "start_time": "2022-12-09T12:29:10.776Z"
   },
   {
    "duration": 283,
    "start_time": "2022-12-09T12:29:10.802Z"
   },
   {
    "duration": 1046,
    "start_time": "2022-12-09T12:29:11.087Z"
   },
   {
    "duration": 593,
    "start_time": "2022-12-09T12:29:12.135Z"
   },
   {
    "duration": 4,
    "start_time": "2022-12-09T12:29:12.730Z"
   },
   {
    "duration": 6603,
    "start_time": "2022-12-09T12:29:12.735Z"
   },
   {
    "duration": 8448,
    "start_time": "2022-12-09T12:29:19.340Z"
   },
   {
    "duration": 10185,
    "start_time": "2022-12-09T12:29:27.792Z"
   },
   {
    "duration": 7026,
    "start_time": "2022-12-09T12:29:37.979Z"
   },
   {
    "duration": 6522,
    "start_time": "2022-12-09T12:29:45.007Z"
   },
   {
    "duration": 25655,
    "start_time": "2022-12-09T12:29:51.531Z"
   },
   {
    "duration": 6,
    "start_time": "2022-12-09T12:30:17.195Z"
   },
   {
    "duration": 5539,
    "start_time": "2022-12-09T12:30:17.287Z"
   },
   {
    "duration": 967,
    "start_time": "2022-12-09T12:35:09.823Z"
   },
   {
    "duration": 567,
    "start_time": "2022-12-09T12:35:44.558Z"
   },
   {
    "duration": 595,
    "start_time": "2022-12-09T12:36:07.117Z"
   },
   {
    "duration": 24975,
    "start_time": "2022-12-09T12:43:10.231Z"
   },
   {
    "duration": 1333,
    "start_time": "2022-12-09T12:43:35.208Z"
   },
   {
    "duration": 46,
    "start_time": "2022-12-09T12:43:36.543Z"
   },
   {
    "duration": 12,
    "start_time": "2022-12-09T12:43:36.591Z"
   },
   {
    "duration": 10,
    "start_time": "2022-12-09T12:43:36.606Z"
   },
   {
    "duration": 7,
    "start_time": "2022-12-09T12:43:36.618Z"
   },
   {
    "duration": 8,
    "start_time": "2022-12-09T12:43:36.627Z"
   },
   {
    "duration": 7,
    "start_time": "2022-12-09T12:43:36.636Z"
   },
   {
    "duration": 7,
    "start_time": "2022-12-09T12:43:36.645Z"
   },
   {
    "duration": 1198,
    "start_time": "2022-12-09T12:43:36.678Z"
   },
   {
    "duration": 11,
    "start_time": "2022-12-09T12:43:37.879Z"
   },
   {
    "duration": 6,
    "start_time": "2022-12-09T12:43:37.892Z"
   },
   {
    "duration": 20,
    "start_time": "2022-12-09T12:43:37.901Z"
   },
   {
    "duration": 8,
    "start_time": "2022-12-09T12:43:37.924Z"
   },
   {
    "duration": 6,
    "start_time": "2022-12-09T12:43:37.934Z"
   },
   {
    "duration": 313,
    "start_time": "2022-12-09T12:43:37.942Z"
   },
   {
    "duration": 1175,
    "start_time": "2022-12-09T12:43:38.257Z"
   },
   {
    "duration": 657,
    "start_time": "2022-12-09T12:43:39.435Z"
   },
   {
    "duration": 48,
    "start_time": "2022-12-09T12:43:40.094Z"
   },
   {
    "duration": 0,
    "start_time": "2022-12-09T12:43:40.144Z"
   },
   {
    "duration": 5,
    "start_time": "2022-12-09T12:44:52.356Z"
   },
   {
    "duration": 1278,
    "start_time": "2022-12-09T12:44:52.365Z"
   },
   {
    "duration": 53,
    "start_time": "2022-12-09T12:44:53.647Z"
   },
   {
    "duration": 20,
    "start_time": "2022-12-09T12:44:53.703Z"
   },
   {
    "duration": 14,
    "start_time": "2022-12-09T12:44:53.725Z"
   },
   {
    "duration": 13,
    "start_time": "2022-12-09T12:44:53.741Z"
   },
   {
    "duration": 24,
    "start_time": "2022-12-09T12:44:53.756Z"
   },
   {
    "duration": 5,
    "start_time": "2022-12-09T12:44:53.783Z"
   },
   {
    "duration": 9,
    "start_time": "2022-12-09T12:44:53.790Z"
   },
   {
    "duration": 1232,
    "start_time": "2022-12-09T12:44:53.801Z"
   },
   {
    "duration": 15,
    "start_time": "2022-12-09T12:44:55.035Z"
   },
   {
    "duration": 8,
    "start_time": "2022-12-09T12:44:55.053Z"
   },
   {
    "duration": 25,
    "start_time": "2022-12-09T12:44:55.063Z"
   },
   {
    "duration": 9,
    "start_time": "2022-12-09T12:44:55.091Z"
   },
   {
    "duration": 12,
    "start_time": "2022-12-09T12:44:55.102Z"
   },
   {
    "duration": 264,
    "start_time": "2022-12-09T12:44:55.116Z"
   },
   {
    "duration": 1028,
    "start_time": "2022-12-09T12:44:55.382Z"
   },
   {
    "duration": 578,
    "start_time": "2022-12-09T12:44:56.412Z"
   },
   {
    "duration": 39902,
    "start_time": "2022-12-09T12:44:56.991Z"
   },
   {
    "duration": 5539,
    "start_time": "2022-12-09T12:45:36.979Z"
   },
   {
    "duration": 30412,
    "start_time": "2022-12-09T12:45:59.270Z"
   },
   {
    "duration": 6056,
    "start_time": "2022-12-09T12:46:29.685Z"
   },
   {
    "duration": 4,
    "start_time": "2022-12-09T12:46:53.681Z"
   },
   {
    "duration": 1405,
    "start_time": "2022-12-09T12:46:53.687Z"
   },
   {
    "duration": 42,
    "start_time": "2022-12-09T12:46:55.094Z"
   },
   {
    "duration": 14,
    "start_time": "2022-12-09T12:46:55.139Z"
   },
   {
    "duration": 22,
    "start_time": "2022-12-09T12:46:55.155Z"
   },
   {
    "duration": 23,
    "start_time": "2022-12-09T12:46:55.179Z"
   },
   {
    "duration": 14,
    "start_time": "2022-12-09T12:46:55.205Z"
   },
   {
    "duration": 22,
    "start_time": "2022-12-09T12:46:55.221Z"
   },
   {
    "duration": 30,
    "start_time": "2022-12-09T12:46:55.246Z"
   },
   {
    "duration": 1263,
    "start_time": "2022-12-09T12:46:55.278Z"
   },
   {
    "duration": 17,
    "start_time": "2022-12-09T12:46:56.543Z"
   },
   {
    "duration": 12,
    "start_time": "2022-12-09T12:46:56.562Z"
   },
   {
    "duration": 8,
    "start_time": "2022-12-09T12:46:56.576Z"
   },
   {
    "duration": 10,
    "start_time": "2022-12-09T12:46:56.587Z"
   },
   {
    "duration": 23,
    "start_time": "2022-12-09T12:46:56.599Z"
   },
   {
    "duration": 291,
    "start_time": "2022-12-09T12:46:56.625Z"
   },
   {
    "duration": 1086,
    "start_time": "2022-12-09T12:46:56.919Z"
   },
   {
    "duration": 752,
    "start_time": "2022-12-09T12:46:58.007Z"
   },
   {
    "duration": 38129,
    "start_time": "2022-12-09T12:46:58.761Z"
   },
   {
    "duration": 6434,
    "start_time": "2022-12-09T12:47:36.893Z"
   },
   {
    "duration": 4,
    "start_time": "2022-12-10T17:29:38.770Z"
   },
   {
    "duration": 3,
    "start_time": "2022-12-10T17:29:43.303Z"
   },
   {
    "duration": 47,
    "start_time": "2022-12-10T17:29:43.308Z"
   },
   {
    "duration": 0,
    "start_time": "2022-12-10T17:29:43.357Z"
   },
   {
    "duration": 0,
    "start_time": "2022-12-10T17:29:43.358Z"
   },
   {
    "duration": 0,
    "start_time": "2022-12-10T17:29:43.359Z"
   },
   {
    "duration": 0,
    "start_time": "2022-12-10T17:29:43.360Z"
   },
   {
    "duration": 0,
    "start_time": "2022-12-10T17:29:43.361Z"
   },
   {
    "duration": 0,
    "start_time": "2022-12-10T17:29:43.362Z"
   },
   {
    "duration": 0,
    "start_time": "2022-12-10T17:29:43.363Z"
   },
   {
    "duration": 0,
    "start_time": "2022-12-10T17:29:43.364Z"
   },
   {
    "duration": 0,
    "start_time": "2022-12-10T17:29:43.366Z"
   },
   {
    "duration": 0,
    "start_time": "2022-12-10T17:29:43.367Z"
   },
   {
    "duration": 0,
    "start_time": "2022-12-10T17:29:43.368Z"
   },
   {
    "duration": 0,
    "start_time": "2022-12-10T17:29:43.370Z"
   },
   {
    "duration": 0,
    "start_time": "2022-12-10T17:29:43.371Z"
   },
   {
    "duration": 0,
    "start_time": "2022-12-10T17:29:43.372Z"
   },
   {
    "duration": 0,
    "start_time": "2022-12-10T17:29:43.373Z"
   },
   {
    "duration": 0,
    "start_time": "2022-12-10T17:29:43.375Z"
   },
   {
    "duration": 0,
    "start_time": "2022-12-10T17:29:43.376Z"
   },
   {
    "duration": 0,
    "start_time": "2022-12-10T17:29:43.377Z"
   },
   {
    "duration": 30316,
    "start_time": "2022-12-10T17:29:58.766Z"
   },
   {
    "duration": 1251,
    "start_time": "2022-12-10T17:30:29.084Z"
   },
   {
    "duration": 89,
    "start_time": "2022-12-10T17:30:30.337Z"
   },
   {
    "duration": 11,
    "start_time": "2022-12-10T17:30:30.428Z"
   },
   {
    "duration": 23,
    "start_time": "2022-12-10T17:30:30.440Z"
   },
   {
    "duration": 11,
    "start_time": "2022-12-10T17:30:30.465Z"
   },
   {
    "duration": 20,
    "start_time": "2022-12-10T17:30:30.478Z"
   },
   {
    "duration": 32,
    "start_time": "2022-12-10T17:30:30.499Z"
   },
   {
    "duration": 22,
    "start_time": "2022-12-10T17:30:30.533Z"
   },
   {
    "duration": 1044,
    "start_time": "2022-12-10T17:30:30.557Z"
   },
   {
    "duration": 11,
    "start_time": "2022-12-10T17:30:31.603Z"
   },
   {
    "duration": 11,
    "start_time": "2022-12-10T17:30:31.615Z"
   },
   {
    "duration": 12,
    "start_time": "2022-12-10T17:30:31.628Z"
   },
   {
    "duration": 19,
    "start_time": "2022-12-10T17:30:31.641Z"
   },
   {
    "duration": 9,
    "start_time": "2022-12-10T17:30:31.661Z"
   },
   {
    "duration": 215,
    "start_time": "2022-12-10T17:30:31.672Z"
   },
   {
    "duration": 835,
    "start_time": "2022-12-10T17:30:31.889Z"
   },
   {
    "duration": 500,
    "start_time": "2022-12-10T17:30:32.725Z"
   },
   {
    "duration": 27302,
    "start_time": "2022-12-10T17:30:33.227Z"
   },
   {
    "duration": 5227,
    "start_time": "2022-12-10T17:31:00.531Z"
   },
   {
    "duration": 13520,
    "start_time": "2022-12-10T17:34:44.412Z"
   },
   {
    "duration": 4803,
    "start_time": "2022-12-10T17:34:57.934Z"
   },
   {
    "duration": 4977,
    "start_time": "2022-12-10T17:35:37.064Z"
   },
   {
    "duration": 25989,
    "start_time": "2022-12-10T17:36:34.839Z"
   },
   {
    "duration": 5123,
    "start_time": "2022-12-10T17:37:00.830Z"
   },
   {
    "duration": 120,
    "start_time": "2022-12-10T17:44:22.552Z"
   },
   {
    "duration": 25790,
    "start_time": "2022-12-10T17:45:12.038Z"
   },
   {
    "duration": 30,
    "start_time": "2022-12-10T17:48:27.818Z"
   },
   {
    "duration": 29,
    "start_time": "2022-12-10T17:49:10.038Z"
   },
   {
    "duration": 4,
    "start_time": "2022-12-10T17:49:17.118Z"
   },
   {
    "duration": 23,
    "start_time": "2022-12-10T17:49:36.309Z"
   },
   {
    "duration": 5,
    "start_time": "2022-12-10T17:50:31.336Z"
   },
   {
    "duration": 21,
    "start_time": "2022-12-10T17:50:31.722Z"
   },
   {
    "duration": 12287,
    "start_time": "2022-12-10T17:50:39.048Z"
   },
   {
    "duration": 18815,
    "start_time": "2022-12-10T17:51:42.589Z"
   },
   {
    "duration": 1143,
    "start_time": "2022-12-10T17:52:01.405Z"
   },
   {
    "duration": 40,
    "start_time": "2022-12-10T17:52:02.552Z"
   },
   {
    "duration": 10,
    "start_time": "2022-12-10T17:52:02.594Z"
   },
   {
    "duration": 9,
    "start_time": "2022-12-10T17:52:02.606Z"
   },
   {
    "duration": 17,
    "start_time": "2022-12-10T17:52:02.617Z"
   },
   {
    "duration": 7,
    "start_time": "2022-12-10T17:52:02.635Z"
   },
   {
    "duration": 10,
    "start_time": "2022-12-10T17:52:02.643Z"
   },
   {
    "duration": 5,
    "start_time": "2022-12-10T17:52:02.655Z"
   },
   {
    "duration": 980,
    "start_time": "2022-12-10T17:52:02.661Z"
   },
   {
    "duration": 9,
    "start_time": "2022-12-10T17:52:03.642Z"
   },
   {
    "duration": 8,
    "start_time": "2022-12-10T17:52:03.652Z"
   },
   {
    "duration": 6,
    "start_time": "2022-12-10T17:52:03.662Z"
   },
   {
    "duration": 5,
    "start_time": "2022-12-10T17:52:03.670Z"
   },
   {
    "duration": 8,
    "start_time": "2022-12-10T17:52:03.677Z"
   },
   {
    "duration": 220,
    "start_time": "2022-12-10T17:52:03.686Z"
   },
   {
    "duration": 824,
    "start_time": "2022-12-10T17:52:03.908Z"
   },
   {
    "duration": 493,
    "start_time": "2022-12-10T17:52:04.733Z"
   },
   {
    "duration": 25103,
    "start_time": "2022-12-10T17:52:05.228Z"
   },
   {
    "duration": 5249,
    "start_time": "2022-12-10T17:52:30.336Z"
   },
   {
    "duration": 11339,
    "start_time": "2022-12-10T17:52:35.589Z"
   },
   {
    "duration": 4513,
    "start_time": "2022-12-10T17:52:46.930Z"
   },
   {
    "duration": 4,
    "start_time": "2022-12-10T18:10:46.259Z"
   },
   {
    "duration": 1082,
    "start_time": "2022-12-10T18:10:46.265Z"
   },
   {
    "duration": 42,
    "start_time": "2022-12-10T18:10:47.349Z"
   },
   {
    "duration": 12,
    "start_time": "2022-12-10T18:10:47.394Z"
   },
   {
    "duration": 7,
    "start_time": "2022-12-10T18:10:47.407Z"
   },
   {
    "duration": 7,
    "start_time": "2022-12-10T18:10:47.415Z"
   },
   {
    "duration": 9,
    "start_time": "2022-12-10T18:10:47.424Z"
   },
   {
    "duration": 4,
    "start_time": "2022-12-10T18:10:47.435Z"
   },
   {
    "duration": 18,
    "start_time": "2022-12-10T18:10:47.441Z"
   },
   {
    "duration": 1027,
    "start_time": "2022-12-10T18:10:47.461Z"
   },
   {
    "duration": 14,
    "start_time": "2022-12-10T18:10:48.490Z"
   },
   {
    "duration": 5,
    "start_time": "2022-12-10T18:10:48.506Z"
   },
   {
    "duration": 11,
    "start_time": "2022-12-10T18:10:48.513Z"
   },
   {
    "duration": 7,
    "start_time": "2022-12-10T18:10:48.526Z"
   },
   {
    "duration": 7,
    "start_time": "2022-12-10T18:10:48.535Z"
   },
   {
    "duration": 232,
    "start_time": "2022-12-10T18:10:48.544Z"
   },
   {
    "duration": 895,
    "start_time": "2022-12-10T18:10:48.779Z"
   },
   {
    "duration": 511,
    "start_time": "2022-12-10T18:10:49.676Z"
   },
   {
    "duration": 25538,
    "start_time": "2022-12-10T18:10:50.189Z"
   },
   {
    "duration": 5110,
    "start_time": "2022-12-10T18:11:15.729Z"
   },
   {
    "duration": 12592,
    "start_time": "2022-12-10T18:11:20.840Z"
   },
   {
    "duration": 4608,
    "start_time": "2022-12-10T18:11:33.434Z"
   },
   {
    "duration": 3,
    "start_time": "2022-12-11T04:24:13.263Z"
   },
   {
    "duration": 54,
    "start_time": "2022-12-11T04:24:13.574Z"
   },
   {
    "duration": 47975,
    "start_time": "2022-12-11T04:27:31.985Z"
   },
   {
    "duration": 4,
    "start_time": "2022-12-11T04:28:40.542Z"
   },
   {
    "duration": 1491,
    "start_time": "2022-12-11T04:28:40.549Z"
   },
   {
    "duration": 85,
    "start_time": "2022-12-11T04:28:42.042Z"
   },
   {
    "duration": 13,
    "start_time": "2022-12-11T04:28:42.129Z"
   },
   {
    "duration": 9,
    "start_time": "2022-12-11T04:28:42.145Z"
   },
   {
    "duration": 11,
    "start_time": "2022-12-11T04:28:42.156Z"
   },
   {
    "duration": 18,
    "start_time": "2022-12-11T04:28:42.169Z"
   },
   {
    "duration": 12,
    "start_time": "2022-12-11T04:28:42.189Z"
   },
   {
    "duration": 10,
    "start_time": "2022-12-11T04:28:42.203Z"
   },
   {
    "duration": 1224,
    "start_time": "2022-12-11T04:28:42.216Z"
   },
   {
    "duration": 13,
    "start_time": "2022-12-11T04:28:43.443Z"
   },
   {
    "duration": 4,
    "start_time": "2022-12-11T04:28:43.458Z"
   },
   {
    "duration": 10,
    "start_time": "2022-12-11T04:28:43.464Z"
   },
   {
    "duration": 6,
    "start_time": "2022-12-11T04:28:43.476Z"
   },
   {
    "duration": 8,
    "start_time": "2022-12-11T04:28:43.485Z"
   },
   {
    "duration": 285,
    "start_time": "2022-12-11T04:28:43.495Z"
   },
   {
    "duration": 1028,
    "start_time": "2022-12-11T04:28:43.782Z"
   },
   {
    "duration": 629,
    "start_time": "2022-12-11T04:28:44.812Z"
   },
   {
    "duration": 32114,
    "start_time": "2022-12-11T04:28:45.444Z"
   },
   {
    "duration": 6637,
    "start_time": "2022-12-11T04:29:17.564Z"
   },
   {
    "duration": 14457,
    "start_time": "2022-12-11T04:29:24.203Z"
   },
   {
    "duration": 5342,
    "start_time": "2022-12-11T04:29:38.662Z"
   },
   {
    "duration": 117,
    "start_time": "2022-12-11T04:34:08.792Z"
   },
   {
    "duration": 4,
    "start_time": "2022-12-11T04:35:01.869Z"
   },
   {
    "duration": 1440,
    "start_time": "2022-12-11T04:35:01.876Z"
   },
   {
    "duration": 42,
    "start_time": "2022-12-11T04:35:03.318Z"
   },
   {
    "duration": 12,
    "start_time": "2022-12-11T04:35:03.361Z"
   },
   {
    "duration": 6,
    "start_time": "2022-12-11T04:35:03.375Z"
   },
   {
    "duration": 22,
    "start_time": "2022-12-11T04:35:03.383Z"
   },
   {
    "duration": 15,
    "start_time": "2022-12-11T04:35:03.407Z"
   },
   {
    "duration": 10,
    "start_time": "2022-12-11T04:35:03.424Z"
   },
   {
    "duration": 14,
    "start_time": "2022-12-11T04:35:03.436Z"
   },
   {
    "duration": 1212,
    "start_time": "2022-12-11T04:35:03.452Z"
   },
   {
    "duration": 11,
    "start_time": "2022-12-11T04:35:04.666Z"
   },
   {
    "duration": 10,
    "start_time": "2022-12-11T04:35:04.678Z"
   },
   {
    "duration": 8,
    "start_time": "2022-12-11T04:35:04.690Z"
   },
   {
    "duration": 6,
    "start_time": "2022-12-11T04:35:04.701Z"
   },
   {
    "duration": 15,
    "start_time": "2022-12-11T04:35:04.708Z"
   },
   {
    "duration": 253,
    "start_time": "2022-12-11T04:35:04.725Z"
   },
   {
    "duration": 3,
    "start_time": "2022-12-11T04:35:04.981Z"
   },
   {
    "duration": 610,
    "start_time": "2022-12-11T04:35:04.986Z"
   },
   {
    "duration": 3,
    "start_time": "2022-12-11T04:35:05.598Z"
   },
   {
    "duration": 11,
    "start_time": "2022-12-11T04:35:05.602Z"
   },
   {
    "duration": 20,
    "start_time": "2022-12-11T04:35:05.615Z"
   },
   {
    "duration": 25,
    "start_time": "2022-12-11T04:35:05.637Z"
   },
   {
    "duration": 539,
    "start_time": "2022-12-11T04:35:05.664Z"
   },
   {
    "duration": 4,
    "start_time": "2022-12-11T04:37:29.229Z"
   },
   {
    "duration": 1529,
    "start_time": "2022-12-11T04:37:29.236Z"
   },
   {
    "duration": 47,
    "start_time": "2022-12-11T04:37:30.767Z"
   },
   {
    "duration": 14,
    "start_time": "2022-12-11T04:37:30.817Z"
   },
   {
    "duration": 12,
    "start_time": "2022-12-11T04:37:30.834Z"
   },
   {
    "duration": 15,
    "start_time": "2022-12-11T04:37:30.848Z"
   },
   {
    "duration": 32,
    "start_time": "2022-12-11T04:37:30.865Z"
   },
   {
    "duration": 16,
    "start_time": "2022-12-11T04:37:30.899Z"
   },
   {
    "duration": 15,
    "start_time": "2022-12-11T04:37:30.917Z"
   },
   {
    "duration": 1250,
    "start_time": "2022-12-11T04:37:30.934Z"
   },
   {
    "duration": 15,
    "start_time": "2022-12-11T04:37:32.187Z"
   },
   {
    "duration": 25,
    "start_time": "2022-12-11T04:37:32.204Z"
   },
   {
    "duration": 31,
    "start_time": "2022-12-11T04:37:32.231Z"
   },
   {
    "duration": 45,
    "start_time": "2022-12-11T04:37:32.266Z"
   },
   {
    "duration": 31,
    "start_time": "2022-12-11T04:37:32.313Z"
   },
   {
    "duration": 323,
    "start_time": "2022-12-11T04:37:32.346Z"
   },
   {
    "duration": 3,
    "start_time": "2022-12-11T04:37:32.672Z"
   },
   {
    "duration": 698,
    "start_time": "2022-12-11T04:37:32.678Z"
   },
   {
    "duration": 640,
    "start_time": "2022-12-11T04:37:44.234Z"
   },
   {
    "duration": 635,
    "start_time": "2022-12-11T04:37:51.058Z"
   },
   {
    "duration": 5,
    "start_time": "2022-12-11T04:37:56.676Z"
   },
   {
    "duration": 1368,
    "start_time": "2022-12-11T04:37:56.683Z"
   },
   {
    "duration": 42,
    "start_time": "2022-12-11T04:37:58.053Z"
   },
   {
    "duration": 16,
    "start_time": "2022-12-11T04:37:58.097Z"
   },
   {
    "duration": 6,
    "start_time": "2022-12-11T04:37:58.115Z"
   },
   {
    "duration": 9,
    "start_time": "2022-12-11T04:37:58.123Z"
   },
   {
    "duration": 22,
    "start_time": "2022-12-11T04:37:58.134Z"
   },
   {
    "duration": 14,
    "start_time": "2022-12-11T04:37:58.158Z"
   },
   {
    "duration": 9,
    "start_time": "2022-12-11T04:37:58.174Z"
   },
   {
    "duration": 1209,
    "start_time": "2022-12-11T04:37:58.187Z"
   },
   {
    "duration": 14,
    "start_time": "2022-12-11T04:37:59.399Z"
   },
   {
    "duration": 14,
    "start_time": "2022-12-11T04:37:59.415Z"
   },
   {
    "duration": 30,
    "start_time": "2022-12-11T04:37:59.431Z"
   },
   {
    "duration": 43,
    "start_time": "2022-12-11T04:37:59.463Z"
   },
   {
    "duration": 20,
    "start_time": "2022-12-11T04:37:59.508Z"
   },
   {
    "duration": 428,
    "start_time": "2022-12-11T04:37:59.530Z"
   },
   {
    "duration": 4,
    "start_time": "2022-12-11T04:37:59.960Z"
   },
   {
    "duration": 675,
    "start_time": "2022-12-11T04:37:59.966Z"
   },
   {
    "duration": 3,
    "start_time": "2022-12-11T04:38:00.651Z"
   },
   {
    "duration": 37,
    "start_time": "2022-12-11T04:38:00.657Z"
   },
   {
    "duration": 48,
    "start_time": "2022-12-11T04:38:00.696Z"
   },
   {
    "duration": 54,
    "start_time": "2022-12-11T04:38:00.746Z"
   },
   {
    "duration": 651,
    "start_time": "2022-12-11T04:38:00.803Z"
   },
   {
    "duration": 126,
    "start_time": "2022-12-11T04:41:10.380Z"
   },
   {
    "duration": 14,
    "start_time": "2022-12-11T04:42:01.564Z"
   },
   {
    "duration": 3,
    "start_time": "2022-12-11T04:42:27.675Z"
   },
   {
    "duration": 10,
    "start_time": "2022-12-11T04:42:42.355Z"
   },
   {
    "duration": 477,
    "start_time": "2022-12-11T04:42:49.890Z"
   },
   {
    "duration": 805,
    "start_time": "2022-12-11T04:43:19.522Z"
   },
   {
    "duration": 5,
    "start_time": "2022-12-11T04:43:51.018Z"
   },
   {
    "duration": 1346,
    "start_time": "2022-12-11T04:43:51.025Z"
   },
   {
    "duration": 41,
    "start_time": "2022-12-11T04:43:52.372Z"
   },
   {
    "duration": 13,
    "start_time": "2022-12-11T04:43:52.415Z"
   },
   {
    "duration": 5,
    "start_time": "2022-12-11T04:43:52.430Z"
   },
   {
    "duration": 14,
    "start_time": "2022-12-11T04:43:52.437Z"
   },
   {
    "duration": 6,
    "start_time": "2022-12-11T04:43:52.453Z"
   },
   {
    "duration": 7,
    "start_time": "2022-12-11T04:43:52.461Z"
   },
   {
    "duration": 6,
    "start_time": "2022-12-11T04:43:52.470Z"
   },
   {
    "duration": 1218,
    "start_time": "2022-12-11T04:43:52.479Z"
   },
   {
    "duration": 12,
    "start_time": "2022-12-11T04:43:53.698Z"
   },
   {
    "duration": 8,
    "start_time": "2022-12-11T04:43:53.712Z"
   },
   {
    "duration": 11,
    "start_time": "2022-12-11T04:43:53.722Z"
   },
   {
    "duration": 5,
    "start_time": "2022-12-11T04:43:53.737Z"
   },
   {
    "duration": 2,
    "start_time": "2022-12-11T04:43:53.751Z"
   },
   {
    "duration": 263,
    "start_time": "2022-12-11T04:43:53.755Z"
   },
   {
    "duration": 2,
    "start_time": "2022-12-11T04:43:54.020Z"
   },
   {
    "duration": 631,
    "start_time": "2022-12-11T04:43:54.024Z"
   },
   {
    "duration": 39598,
    "start_time": "2022-12-11T04:43:54.658Z"
   },
   {
    "duration": 6628,
    "start_time": "2022-12-11T04:44:34.259Z"
   },
   {
    "duration": 3,
    "start_time": "2022-12-11T04:44:40.889Z"
   },
   {
    "duration": 6,
    "start_time": "2022-12-11T04:44:40.894Z"
   },
   {
    "duration": 619,
    "start_time": "2022-12-11T04:44:40.902Z"
   },
   {
    "duration": 718,
    "start_time": "2022-12-11T04:44:41.522Z"
   },
   {
    "duration": 4,
    "start_time": "2022-12-11T04:45:27.483Z"
   },
   {
    "duration": 1267,
    "start_time": "2022-12-11T04:45:27.489Z"
   },
   {
    "duration": 39,
    "start_time": "2022-12-11T04:45:28.758Z"
   },
   {
    "duration": 12,
    "start_time": "2022-12-11T04:45:28.799Z"
   },
   {
    "duration": 16,
    "start_time": "2022-12-11T04:45:28.814Z"
   },
   {
    "duration": 31,
    "start_time": "2022-12-11T04:45:28.831Z"
   },
   {
    "duration": 29,
    "start_time": "2022-12-11T04:45:28.864Z"
   },
   {
    "duration": 37,
    "start_time": "2022-12-11T04:45:28.895Z"
   },
   {
    "duration": 21,
    "start_time": "2022-12-11T04:45:28.934Z"
   },
   {
    "duration": 1283,
    "start_time": "2022-12-11T04:45:28.957Z"
   },
   {
    "duration": 11,
    "start_time": "2022-12-11T04:45:30.242Z"
   },
   {
    "duration": 33,
    "start_time": "2022-12-11T04:45:30.255Z"
   },
   {
    "duration": 47,
    "start_time": "2022-12-11T04:45:30.290Z"
   },
   {
    "duration": 46,
    "start_time": "2022-12-11T04:45:30.340Z"
   },
   {
    "duration": 45,
    "start_time": "2022-12-11T04:45:30.388Z"
   },
   {
    "duration": 325,
    "start_time": "2022-12-11T04:45:30.435Z"
   },
   {
    "duration": 3,
    "start_time": "2022-12-11T04:45:30.761Z"
   },
   {
    "duration": 643,
    "start_time": "2022-12-11T04:45:30.766Z"
   },
   {
    "duration": 3,
    "start_time": "2022-12-11T04:45:31.411Z"
   },
   {
    "duration": 10,
    "start_time": "2022-12-11T04:45:31.415Z"
   },
   {
    "duration": 11,
    "start_time": "2022-12-11T04:45:31.427Z"
   },
   {
    "duration": 13,
    "start_time": "2022-12-11T04:45:31.440Z"
   },
   {
    "duration": 598,
    "start_time": "2022-12-11T04:45:31.455Z"
   },
   {
    "duration": 701,
    "start_time": "2022-12-11T04:45:32.055Z"
   },
   {
    "duration": 75,
    "start_time": "2022-12-11T04:48:24.912Z"
   },
   {
    "duration": 946,
    "start_time": "2022-12-11T04:48:36.962Z"
   },
   {
    "duration": 986,
    "start_time": "2022-12-11T04:52:55.229Z"
   },
   {
    "duration": 4,
    "start_time": "2022-12-11T04:53:08.854Z"
   },
   {
    "duration": 1359,
    "start_time": "2022-12-11T04:53:08.860Z"
   },
   {
    "duration": 43,
    "start_time": "2022-12-11T04:53:10.221Z"
   },
   {
    "duration": 16,
    "start_time": "2022-12-11T04:53:10.267Z"
   },
   {
    "duration": 25,
    "start_time": "2022-12-11T04:53:10.287Z"
   },
   {
    "duration": 22,
    "start_time": "2022-12-11T04:53:10.314Z"
   },
   {
    "duration": 22,
    "start_time": "2022-12-11T04:53:10.338Z"
   },
   {
    "duration": 21,
    "start_time": "2022-12-11T04:53:10.362Z"
   },
   {
    "duration": 22,
    "start_time": "2022-12-11T04:53:10.386Z"
   },
   {
    "duration": 1210,
    "start_time": "2022-12-11T04:53:10.410Z"
   },
   {
    "duration": 11,
    "start_time": "2022-12-11T04:53:11.622Z"
   },
   {
    "duration": 10,
    "start_time": "2022-12-11T04:53:11.634Z"
   },
   {
    "duration": 15,
    "start_time": "2022-12-11T04:53:11.646Z"
   },
   {
    "duration": 21,
    "start_time": "2022-12-11T04:53:11.663Z"
   },
   {
    "duration": 15,
    "start_time": "2022-12-11T04:53:11.685Z"
   },
   {
    "duration": 268,
    "start_time": "2022-12-11T04:53:11.702Z"
   },
   {
    "duration": 3,
    "start_time": "2022-12-11T04:53:11.972Z"
   },
   {
    "duration": 602,
    "start_time": "2022-12-11T04:53:11.977Z"
   },
   {
    "duration": 3,
    "start_time": "2022-12-11T04:53:12.581Z"
   },
   {
    "duration": 31,
    "start_time": "2022-12-11T04:53:12.586Z"
   },
   {
    "duration": 22,
    "start_time": "2022-12-11T04:53:12.619Z"
   },
   {
    "duration": 12,
    "start_time": "2022-12-11T04:53:12.643Z"
   },
   {
    "duration": 612,
    "start_time": "2022-12-11T04:53:12.656Z"
   },
   {
    "duration": 663,
    "start_time": "2022-12-11T04:53:13.270Z"
   },
   {
    "duration": 905,
    "start_time": "2022-12-11T04:53:13.935Z"
   },
   {
    "duration": 1011,
    "start_time": "2022-12-11T04:53:14.842Z"
   },
   {
    "duration": 6282,
    "start_time": "2022-12-11T04:54:22.115Z"
   },
   {
    "duration": 5,
    "start_time": "2022-12-11T04:54:43.679Z"
   },
   {
    "duration": 1286,
    "start_time": "2022-12-11T04:54:43.687Z"
   },
   {
    "duration": 41,
    "start_time": "2022-12-11T04:54:44.976Z"
   },
   {
    "duration": 13,
    "start_time": "2022-12-11T04:54:45.018Z"
   },
   {
    "duration": 12,
    "start_time": "2022-12-11T04:54:45.033Z"
   },
   {
    "duration": 10,
    "start_time": "2022-12-11T04:54:45.046Z"
   },
   {
    "duration": 16,
    "start_time": "2022-12-11T04:54:45.058Z"
   },
   {
    "duration": 11,
    "start_time": "2022-12-11T04:54:45.076Z"
   },
   {
    "duration": 15,
    "start_time": "2022-12-11T04:54:45.089Z"
   },
   {
    "duration": 1175,
    "start_time": "2022-12-11T04:54:45.106Z"
   },
   {
    "duration": 11,
    "start_time": "2022-12-11T04:54:46.282Z"
   },
   {
    "duration": 8,
    "start_time": "2022-12-11T04:54:46.295Z"
   },
   {
    "duration": 11,
    "start_time": "2022-12-11T04:54:46.305Z"
   },
   {
    "duration": 8,
    "start_time": "2022-12-11T04:54:46.318Z"
   },
   {
    "duration": 5,
    "start_time": "2022-12-11T04:54:46.328Z"
   },
   {
    "duration": 240,
    "start_time": "2022-12-11T04:54:46.335Z"
   },
   {
    "duration": 3,
    "start_time": "2022-12-11T04:54:46.576Z"
   },
   {
    "duration": 602,
    "start_time": "2022-12-11T04:54:46.581Z"
   },
   {
    "duration": 3,
    "start_time": "2022-12-11T04:54:47.185Z"
   },
   {
    "duration": 22,
    "start_time": "2022-12-11T04:54:47.190Z"
   },
   {
    "duration": 14,
    "start_time": "2022-12-11T04:54:47.214Z"
   },
   {
    "duration": 16,
    "start_time": "2022-12-11T04:54:47.230Z"
   },
   {
    "duration": 617,
    "start_time": "2022-12-11T04:54:47.247Z"
   },
   {
    "duration": 671,
    "start_time": "2022-12-11T04:54:47.867Z"
   },
   {
    "duration": 904,
    "start_time": "2022-12-11T04:54:48.539Z"
   },
   {
    "duration": 6056,
    "start_time": "2022-12-11T04:54:49.445Z"
   },
   {
    "duration": 4,
    "start_time": "2022-12-11T04:55:15.623Z"
   },
   {
    "duration": 1298,
    "start_time": "2022-12-11T04:55:15.630Z"
   },
   {
    "duration": 45,
    "start_time": "2022-12-11T04:55:16.930Z"
   },
   {
    "duration": 15,
    "start_time": "2022-12-11T04:55:16.977Z"
   },
   {
    "duration": 7,
    "start_time": "2022-12-11T04:55:16.994Z"
   },
   {
    "duration": 10,
    "start_time": "2022-12-11T04:55:17.002Z"
   },
   {
    "duration": 14,
    "start_time": "2022-12-11T04:55:17.013Z"
   },
   {
    "duration": 6,
    "start_time": "2022-12-11T04:55:17.029Z"
   },
   {
    "duration": 15,
    "start_time": "2022-12-11T04:55:17.037Z"
   },
   {
    "duration": 1167,
    "start_time": "2022-12-11T04:55:17.054Z"
   },
   {
    "duration": 11,
    "start_time": "2022-12-11T04:55:18.223Z"
   },
   {
    "duration": 6,
    "start_time": "2022-12-11T04:55:18.236Z"
   },
   {
    "duration": 6,
    "start_time": "2022-12-11T04:55:18.243Z"
   },
   {
    "duration": 6,
    "start_time": "2022-12-11T04:55:18.251Z"
   },
   {
    "duration": 8,
    "start_time": "2022-12-11T04:55:18.259Z"
   },
   {
    "duration": 242,
    "start_time": "2022-12-11T04:55:18.268Z"
   },
   {
    "duration": 2,
    "start_time": "2022-12-11T04:55:18.512Z"
   },
   {
    "duration": 601,
    "start_time": "2022-12-11T04:55:18.516Z"
   },
   {
    "duration": 3,
    "start_time": "2022-12-11T04:55:19.120Z"
   },
   {
    "duration": 7,
    "start_time": "2022-12-11T04:55:19.125Z"
   },
   {
    "duration": 15,
    "start_time": "2022-12-11T04:55:19.135Z"
   },
   {
    "duration": 15,
    "start_time": "2022-12-11T04:55:19.153Z"
   },
   {
    "duration": 642,
    "start_time": "2022-12-11T04:55:19.170Z"
   },
   {
    "duration": 689,
    "start_time": "2022-12-11T04:55:19.814Z"
   },
   {
    "duration": 886,
    "start_time": "2022-12-11T04:55:20.505Z"
   },
   {
    "duration": 6207,
    "start_time": "2022-12-11T04:55:21.393Z"
   },
   {
    "duration": 5988,
    "start_time": "2022-12-11T04:55:49.089Z"
   },
   {
    "duration": 1043,
    "start_time": "2022-12-11T04:56:10.185Z"
   },
   {
    "duration": 6221,
    "start_time": "2022-12-11T04:56:18.272Z"
   },
   {
    "duration": 6061,
    "start_time": "2022-12-11T04:56:32.032Z"
   },
   {
    "duration": 1014,
    "start_time": "2022-12-11T04:56:50.856Z"
   },
   {
    "duration": 1055,
    "start_time": "2022-12-11T05:01:09.713Z"
   },
   {
    "duration": 1061,
    "start_time": "2022-12-11T05:01:18.705Z"
   },
   {
    "duration": 1047,
    "start_time": "2022-12-11T05:01:28.306Z"
   },
   {
    "duration": 1147,
    "start_time": "2022-12-11T05:01:34.569Z"
   },
   {
    "duration": 1026,
    "start_time": "2022-12-11T05:01:40.305Z"
   },
   {
    "duration": 1011,
    "start_time": "2022-12-11T05:01:51.192Z"
   },
   {
    "duration": 116,
    "start_time": "2022-12-11T05:03:41.894Z"
   },
   {
    "duration": 4,
    "start_time": "2022-12-11T05:03:50.518Z"
   },
   {
    "duration": 1289,
    "start_time": "2022-12-11T05:03:50.524Z"
   },
   {
    "duration": 42,
    "start_time": "2022-12-11T05:03:51.815Z"
   },
   {
    "duration": 12,
    "start_time": "2022-12-11T05:03:51.858Z"
   },
   {
    "duration": 23,
    "start_time": "2022-12-11T05:03:51.873Z"
   },
   {
    "duration": 36,
    "start_time": "2022-12-11T05:03:51.898Z"
   },
   {
    "duration": 34,
    "start_time": "2022-12-11T05:03:51.936Z"
   },
   {
    "duration": 26,
    "start_time": "2022-12-11T05:03:51.972Z"
   },
   {
    "duration": 41,
    "start_time": "2022-12-11T05:03:52.000Z"
   },
   {
    "duration": 1165,
    "start_time": "2022-12-11T05:03:52.043Z"
   },
   {
    "duration": 11,
    "start_time": "2022-12-11T05:03:53.210Z"
   },
   {
    "duration": 39,
    "start_time": "2022-12-11T05:03:53.223Z"
   },
   {
    "duration": 31,
    "start_time": "2022-12-11T05:03:53.264Z"
   },
   {
    "duration": 13,
    "start_time": "2022-12-11T05:03:53.298Z"
   },
   {
    "duration": 24,
    "start_time": "2022-12-11T05:03:53.313Z"
   },
   {
    "duration": 262,
    "start_time": "2022-12-11T05:03:53.339Z"
   },
   {
    "duration": 2,
    "start_time": "2022-12-11T05:03:53.604Z"
   },
   {
    "duration": 648,
    "start_time": "2022-12-11T05:03:53.608Z"
   },
   {
    "duration": 3,
    "start_time": "2022-12-11T05:03:54.257Z"
   },
   {
    "duration": 25,
    "start_time": "2022-12-11T05:03:54.262Z"
   },
   {
    "duration": 34,
    "start_time": "2022-12-11T05:03:54.289Z"
   },
   {
    "duration": 35,
    "start_time": "2022-12-11T05:03:54.325Z"
   },
   {
    "duration": 603,
    "start_time": "2022-12-11T05:03:54.362Z"
   },
   {
    "duration": 674,
    "start_time": "2022-12-11T05:03:54.967Z"
   },
   {
    "duration": 893,
    "start_time": "2022-12-11T05:03:55.642Z"
   },
   {
    "duration": 1010,
    "start_time": "2022-12-11T05:03:56.536Z"
   },
   {
    "duration": 757,
    "start_time": "2022-12-11T05:03:57.550Z"
   },
   {
    "duration": 843,
    "start_time": "2022-12-11T05:04:09.294Z"
   },
   {
    "duration": 1037,
    "start_time": "2022-12-11T05:04:14.181Z"
   },
   {
    "duration": 771,
    "start_time": "2022-12-11T05:04:31.863Z"
   },
   {
    "duration": 757,
    "start_time": "2022-12-11T05:04:35.372Z"
   },
   {
    "duration": 753,
    "start_time": "2022-12-11T05:04:40.637Z"
   },
   {
    "duration": 778,
    "start_time": "2022-12-11T05:04:45.060Z"
   },
   {
    "duration": 805,
    "start_time": "2022-12-11T05:04:49.180Z"
   },
   {
    "duration": 989,
    "start_time": "2022-12-11T05:05:08.532Z"
   },
   {
    "duration": 947,
    "start_time": "2022-12-11T05:06:19.668Z"
   },
   {
    "duration": 940,
    "start_time": "2022-12-11T05:06:26.828Z"
   },
   {
    "duration": 901,
    "start_time": "2022-12-11T05:06:31.906Z"
   },
   {
    "duration": 901,
    "start_time": "2022-12-11T05:06:51.121Z"
   },
   {
    "duration": 875,
    "start_time": "2022-12-11T05:06:58.322Z"
   },
   {
    "duration": 888,
    "start_time": "2022-12-11T05:07:02.673Z"
   },
   {
    "duration": 1016,
    "start_time": "2022-12-11T05:07:12.209Z"
   },
   {
    "duration": 9,
    "start_time": "2022-12-11T05:07:53.833Z"
   },
   {
    "duration": 1071,
    "start_time": "2022-12-11T05:11:15.787Z"
   },
   {
    "duration": 9,
    "start_time": "2022-12-11T05:11:29.707Z"
   },
   {
    "duration": 142,
    "start_time": "2022-12-11T05:12:11.146Z"
   },
   {
    "duration": 6,
    "start_time": "2022-12-11T05:12:29.884Z"
   },
   {
    "duration": 4,
    "start_time": "2022-12-11T05:12:40.145Z"
   },
   {
    "duration": 5,
    "start_time": "2022-12-11T05:12:46.977Z"
   },
   {
    "duration": 10,
    "start_time": "2022-12-11T05:13:23.096Z"
   },
   {
    "duration": 10,
    "start_time": "2022-12-11T05:13:37.104Z"
   },
   {
    "duration": 11,
    "start_time": "2022-12-11T05:13:40.184Z"
   },
   {
    "duration": 4,
    "start_time": "2022-12-11T05:19:45.865Z"
   },
   {
    "duration": 1322,
    "start_time": "2022-12-11T05:19:45.873Z"
   },
   {
    "duration": 49,
    "start_time": "2022-12-11T05:19:47.197Z"
   },
   {
    "duration": 13,
    "start_time": "2022-12-11T05:19:47.249Z"
   },
   {
    "duration": 5,
    "start_time": "2022-12-11T05:19:47.265Z"
   },
   {
    "duration": 7,
    "start_time": "2022-12-11T05:19:47.271Z"
   },
   {
    "duration": 10,
    "start_time": "2022-12-11T05:19:47.280Z"
   },
   {
    "duration": 5,
    "start_time": "2022-12-11T05:19:47.292Z"
   },
   {
    "duration": 10,
    "start_time": "2022-12-11T05:19:47.299Z"
   },
   {
    "duration": 1273,
    "start_time": "2022-12-11T05:19:47.311Z"
   },
   {
    "duration": 14,
    "start_time": "2022-12-11T05:19:48.586Z"
   },
   {
    "duration": 8,
    "start_time": "2022-12-11T05:19:48.602Z"
   },
   {
    "duration": 17,
    "start_time": "2022-12-11T05:19:48.612Z"
   },
   {
    "duration": 8,
    "start_time": "2022-12-11T05:19:48.633Z"
   },
   {
    "duration": 16,
    "start_time": "2022-12-11T05:19:48.642Z"
   },
   {
    "duration": 267,
    "start_time": "2022-12-11T05:19:48.660Z"
   },
   {
    "duration": 4,
    "start_time": "2022-12-11T05:19:48.929Z"
   },
   {
    "duration": 719,
    "start_time": "2022-12-11T05:19:48.935Z"
   },
   {
    "duration": 3,
    "start_time": "2022-12-11T05:19:49.656Z"
   },
   {
    "duration": 14,
    "start_time": "2022-12-11T05:19:49.661Z"
   },
   {
    "duration": 11,
    "start_time": "2022-12-11T05:19:49.677Z"
   },
   {
    "duration": 14,
    "start_time": "2022-12-11T05:19:49.691Z"
   },
   {
    "duration": 662,
    "start_time": "2022-12-11T05:19:49.708Z"
   },
   {
    "duration": 689,
    "start_time": "2022-12-11T05:19:50.371Z"
   },
   {
    "duration": 893,
    "start_time": "2022-12-11T05:19:51.062Z"
   },
   {
    "duration": 1018,
    "start_time": "2022-12-11T05:19:51.956Z"
   },
   {
    "duration": 103286,
    "start_time": "2022-12-11T05:19:52.976Z"
   },
   {
    "duration": 88,
    "start_time": "2022-12-11T05:21:36.264Z"
   },
   {
    "duration": 121,
    "start_time": "2022-12-11T05:21:36.354Z"
   },
   {
    "duration": 5730,
    "start_time": "2022-12-11T05:21:51.277Z"
   },
   {
    "duration": 20189,
    "start_time": "2022-12-11T05:22:19.564Z"
   },
   {
    "duration": 985,
    "start_time": "2022-12-11T05:23:04.412Z"
   },
   {
    "duration": 20201,
    "start_time": "2022-12-11T05:23:22.051Z"
   },
   {
    "duration": 7,
    "start_time": "2022-12-11T05:23:50.306Z"
   },
   {
    "duration": 5967,
    "start_time": "2022-12-11T05:23:53.522Z"
   },
   {
    "duration": 77923,
    "start_time": "2022-12-11T05:25:28.728Z"
   },
   {
    "duration": 7,
    "start_time": "2022-12-11T05:26:46.653Z"
   },
   {
    "duration": 6147,
    "start_time": "2022-12-11T05:26:46.662Z"
   },
   {
    "duration": 4011,
    "start_time": "2022-12-11T05:27:26.389Z"
   },
   {
    "duration": 8,
    "start_time": "2022-12-11T05:27:34.925Z"
   },
   {
    "duration": 713,
    "start_time": "2022-12-11T05:27:37.541Z"
   },
   {
    "duration": 16503,
    "start_time": "2022-12-11T05:28:51.187Z"
   },
   {
    "duration": 6,
    "start_time": "2022-12-11T05:29:13.011Z"
   },
   {
    "duration": 638,
    "start_time": "2022-12-11T05:29:13.819Z"
   },
   {
    "duration": 20442,
    "start_time": "2022-12-11T05:29:49.338Z"
   },
   {
    "duration": 8,
    "start_time": "2022-12-11T05:30:43.689Z"
   },
   {
    "duration": 808,
    "start_time": "2022-12-11T05:30:44.181Z"
   },
   {
    "duration": 16973,
    "start_time": "2022-12-11T05:31:01.159Z"
   },
   {
    "duration": 18,
    "start_time": "2022-12-11T05:31:18.134Z"
   },
   {
    "duration": 722,
    "start_time": "2022-12-11T05:31:18.154Z"
   },
   {
    "duration": 16223,
    "start_time": "2022-12-11T05:31:46.999Z"
   },
   {
    "duration": 9,
    "start_time": "2022-12-11T05:32:03.224Z"
   },
   {
    "duration": 683,
    "start_time": "2022-12-11T05:32:03.235Z"
   },
   {
    "duration": 382728,
    "start_time": "2022-12-11T05:32:21.223Z"
   },
   {
    "duration": 13,
    "start_time": "2022-12-11T05:38:43.958Z"
   },
   {
    "duration": 6792,
    "start_time": "2022-12-11T05:38:44.051Z"
   },
   {
    "duration": 13,
    "start_time": "2022-12-11T06:13:22.055Z"
   },
   {
    "duration": 14,
    "start_time": "2022-12-11T06:14:25.277Z"
   },
   {
    "duration": 4,
    "start_time": "2022-12-11T06:14:45.458Z"
   },
   {
    "duration": 8,
    "start_time": "2022-12-11T06:15:07.563Z"
   },
   {
    "duration": 30869,
    "start_time": "2022-12-11T06:16:52.525Z"
   },
   {
    "duration": 570,
    "start_time": "2022-12-11T06:17:23.396Z"
   },
   {
    "duration": 30772,
    "start_time": "2022-12-11T06:17:30.920Z"
   },
   {
    "duration": 702,
    "start_time": "2022-12-11T06:18:01.695Z"
   },
   {
    "duration": 7,
    "start_time": "2022-12-11T06:19:14.022Z"
   },
   {
    "duration": 30291,
    "start_time": "2022-12-11T06:19:29.628Z"
   },
   {
    "duration": 10,
    "start_time": "2022-12-11T06:19:59.921Z"
   },
   {
    "duration": 594,
    "start_time": "2022-12-11T06:19:59.934Z"
   },
   {
    "duration": 4,
    "start_time": "2022-12-11T06:30:55.394Z"
   },
   {
    "duration": 1347,
    "start_time": "2022-12-11T06:30:55.401Z"
   },
   {
    "duration": 42,
    "start_time": "2022-12-11T06:30:56.750Z"
   },
   {
    "duration": 13,
    "start_time": "2022-12-11T06:30:56.794Z"
   },
   {
    "duration": 9,
    "start_time": "2022-12-11T06:30:56.810Z"
   },
   {
    "duration": 9,
    "start_time": "2022-12-11T06:30:56.822Z"
   },
   {
    "duration": 12,
    "start_time": "2022-12-11T06:30:56.833Z"
   },
   {
    "duration": 4,
    "start_time": "2022-12-11T06:30:56.850Z"
   },
   {
    "duration": 9,
    "start_time": "2022-12-11T06:30:56.856Z"
   },
   {
    "duration": 1337,
    "start_time": "2022-12-11T06:30:56.867Z"
   },
   {
    "duration": 13,
    "start_time": "2022-12-11T06:30:58.207Z"
   },
   {
    "duration": 8,
    "start_time": "2022-12-11T06:30:58.223Z"
   },
   {
    "duration": 9,
    "start_time": "2022-12-11T06:30:58.233Z"
   },
   {
    "duration": 8,
    "start_time": "2022-12-11T06:30:58.247Z"
   },
   {
    "duration": 13,
    "start_time": "2022-12-11T06:30:58.257Z"
   },
   {
    "duration": 275,
    "start_time": "2022-12-11T06:30:58.272Z"
   },
   {
    "duration": 3,
    "start_time": "2022-12-11T06:30:58.550Z"
   },
   {
    "duration": 632,
    "start_time": "2022-12-11T06:30:58.555Z"
   },
   {
    "duration": 4,
    "start_time": "2022-12-11T06:30:59.188Z"
   },
   {
    "duration": 8,
    "start_time": "2022-12-11T06:30:59.195Z"
   },
   {
    "duration": 10,
    "start_time": "2022-12-11T06:30:59.205Z"
   },
   {
    "duration": 16,
    "start_time": "2022-12-11T06:30:59.217Z"
   },
   {
    "duration": 710,
    "start_time": "2022-12-11T06:30:59.236Z"
   },
   {
    "duration": 742,
    "start_time": "2022-12-11T06:30:59.952Z"
   },
   {
    "duration": 937,
    "start_time": "2022-12-11T06:31:00.697Z"
   },
   {
    "duration": 1052,
    "start_time": "2022-12-11T06:31:01.636Z"
   },
   {
    "duration": 66576,
    "start_time": "2022-12-11T06:31:02.690Z"
   },
   {
    "duration": 87,
    "start_time": "2022-12-11T06:32:09.268Z"
   },
   {
    "duration": 7343,
    "start_time": "2022-12-11T06:32:09.356Z"
   },
   {
    "duration": 30630,
    "start_time": "2022-12-11T06:32:16.700Z"
   },
   {
    "duration": 7,
    "start_time": "2022-12-11T06:32:47.333Z"
   },
   {
    "duration": 557,
    "start_time": "2022-12-11T06:32:47.351Z"
   },
   {
    "duration": 30235,
    "start_time": "2022-12-11T06:33:18.285Z"
   },
   {
    "duration": 7,
    "start_time": "2022-12-11T06:33:48.522Z"
   },
   {
    "duration": 586,
    "start_time": "2022-12-11T06:33:48.531Z"
   },
   {
    "duration": 562052,
    "start_time": "2022-12-11T06:36:28.974Z"
   },
   {
    "duration": 7,
    "start_time": "2022-12-11T06:45:51.028Z"
   },
   {
    "duration": 701,
    "start_time": "2022-12-11T06:45:51.037Z"
   },
   {
    "duration": 36326,
    "start_time": "2022-12-11T06:57:00.200Z"
   },
   {
    "duration": 0,
    "start_time": "2022-12-11T06:57:36.528Z"
   },
   {
    "duration": 0,
    "start_time": "2022-12-11T06:57:36.529Z"
   },
   {
    "duration": 180538,
    "start_time": "2022-12-11T06:57:41.914Z"
   },
   {
    "duration": 7,
    "start_time": "2022-12-11T07:00:42.456Z"
   },
   {
    "duration": 6237,
    "start_time": "2022-12-11T07:00:42.465Z"
   },
   {
    "duration": 4,
    "start_time": "2022-12-11T07:03:00.972Z"
   },
   {
    "duration": 1442,
    "start_time": "2022-12-11T07:03:00.980Z"
   },
   {
    "duration": 61,
    "start_time": "2022-12-11T07:03:02.424Z"
   },
   {
    "duration": 14,
    "start_time": "2022-12-11T07:03:02.486Z"
   },
   {
    "duration": 23,
    "start_time": "2022-12-11T07:03:02.504Z"
   },
   {
    "duration": 50,
    "start_time": "2022-12-11T07:03:02.529Z"
   },
   {
    "duration": 17,
    "start_time": "2022-12-11T07:03:02.581Z"
   },
   {
    "duration": 8,
    "start_time": "2022-12-11T07:03:02.600Z"
   },
   {
    "duration": 6,
    "start_time": "2022-12-11T07:03:02.609Z"
   },
   {
    "duration": 1328,
    "start_time": "2022-12-11T07:03:02.616Z"
   },
   {
    "duration": 28,
    "start_time": "2022-12-11T07:03:03.946Z"
   },
   {
    "duration": 7,
    "start_time": "2022-12-11T07:03:03.978Z"
   },
   {
    "duration": 13,
    "start_time": "2022-12-11T07:03:03.986Z"
   },
   {
    "duration": 8,
    "start_time": "2022-12-11T07:03:04.002Z"
   },
   {
    "duration": 5,
    "start_time": "2022-12-11T07:03:04.012Z"
   },
   {
    "duration": 288,
    "start_time": "2022-12-11T07:03:04.019Z"
   },
   {
    "duration": 2,
    "start_time": "2022-12-11T07:03:04.309Z"
   },
   {
    "duration": 692,
    "start_time": "2022-12-11T07:03:04.313Z"
   },
   {
    "duration": 3,
    "start_time": "2022-12-11T07:03:05.006Z"
   },
   {
    "duration": 6,
    "start_time": "2022-12-11T07:03:05.011Z"
   },
   {
    "duration": 11,
    "start_time": "2022-12-11T07:03:05.019Z"
   },
   {
    "duration": 20,
    "start_time": "2022-12-11T07:03:05.031Z"
   },
   {
    "duration": 729,
    "start_time": "2022-12-11T07:03:05.053Z"
   },
   {
    "duration": 752,
    "start_time": "2022-12-11T07:03:05.783Z"
   },
   {
    "duration": 1073,
    "start_time": "2022-12-11T07:03:06.537Z"
   },
   {
    "duration": 1220,
    "start_time": "2022-12-11T07:03:07.613Z"
   },
   {
    "duration": 25035,
    "start_time": "2022-12-11T07:03:08.835Z"
   },
   {
    "duration": 0,
    "start_time": "2022-12-11T07:03:33.873Z"
   },
   {
    "duration": 0,
    "start_time": "2022-12-11T07:03:33.874Z"
   },
   {
    "duration": 5,
    "start_time": "2022-12-11T07:03:39.713Z"
   },
   {
    "duration": 1501,
    "start_time": "2022-12-11T07:03:39.721Z"
   },
   {
    "duration": 54,
    "start_time": "2022-12-11T07:03:41.224Z"
   },
   {
    "duration": 13,
    "start_time": "2022-12-11T07:03:41.280Z"
   },
   {
    "duration": 15,
    "start_time": "2022-12-11T07:03:41.297Z"
   },
   {
    "duration": 6,
    "start_time": "2022-12-11T07:03:41.318Z"
   },
   {
    "duration": 30,
    "start_time": "2022-12-11T07:03:41.327Z"
   },
   {
    "duration": 6,
    "start_time": "2022-12-11T07:03:41.360Z"
   },
   {
    "duration": 6,
    "start_time": "2022-12-11T07:03:41.369Z"
   },
   {
    "duration": 1367,
    "start_time": "2022-12-11T07:03:41.377Z"
   },
   {
    "duration": 29,
    "start_time": "2022-12-11T07:03:42.747Z"
   },
   {
    "duration": 10,
    "start_time": "2022-12-11T07:03:42.779Z"
   },
   {
    "duration": 7,
    "start_time": "2022-12-11T07:03:42.792Z"
   },
   {
    "duration": 14,
    "start_time": "2022-12-11T07:03:42.800Z"
   },
   {
    "duration": 6,
    "start_time": "2022-12-11T07:03:42.816Z"
   },
   {
    "duration": 299,
    "start_time": "2022-12-11T07:03:42.824Z"
   },
   {
    "duration": 2,
    "start_time": "2022-12-11T07:03:43.125Z"
   },
   {
    "duration": 735,
    "start_time": "2022-12-11T07:03:43.129Z"
   },
   {
    "duration": 3,
    "start_time": "2022-12-11T07:03:43.868Z"
   },
   {
    "duration": 15,
    "start_time": "2022-12-11T07:03:43.875Z"
   },
   {
    "duration": 6,
    "start_time": "2022-12-11T07:03:43.891Z"
   },
   {
    "duration": 5,
    "start_time": "2022-12-11T07:03:43.899Z"
   },
   {
    "duration": 706,
    "start_time": "2022-12-11T07:03:43.906Z"
   },
   {
    "duration": 788,
    "start_time": "2022-12-11T07:03:44.614Z"
   },
   {
    "duration": 1031,
    "start_time": "2022-12-11T07:03:45.403Z"
   },
   {
    "duration": 1138,
    "start_time": "2022-12-11T07:03:46.436Z"
   },
   {
    "duration": 47395,
    "start_time": "2022-12-11T07:03:47.576Z"
   },
   {
    "duration": 8,
    "start_time": "2022-12-11T07:04:34.975Z"
   },
   {
    "duration": 6545,
    "start_time": "2022-12-11T07:04:34.984Z"
   },
   {
    "duration": 41115,
    "start_time": "2022-12-11T07:05:00.467Z"
   },
   {
    "duration": 9,
    "start_time": "2022-12-11T07:05:58.912Z"
   },
   {
    "duration": 6971,
    "start_time": "2022-12-11T07:06:14.843Z"
   },
   {
    "duration": 4,
    "start_time": "2022-12-11T07:12:00.121Z"
   },
   {
    "duration": 1479,
    "start_time": "2022-12-11T07:12:00.127Z"
   },
   {
    "duration": 43,
    "start_time": "2022-12-11T07:12:01.608Z"
   },
   {
    "duration": 14,
    "start_time": "2022-12-11T07:12:01.654Z"
   },
   {
    "duration": 44,
    "start_time": "2022-12-11T07:12:01.670Z"
   },
   {
    "duration": 28,
    "start_time": "2022-12-11T07:12:01.716Z"
   },
   {
    "duration": 41,
    "start_time": "2022-12-11T07:12:01.747Z"
   },
   {
    "duration": 24,
    "start_time": "2022-12-11T07:12:01.790Z"
   },
   {
    "duration": 33,
    "start_time": "2022-12-11T07:12:01.817Z"
   },
   {
    "duration": 1327,
    "start_time": "2022-12-11T07:12:01.853Z"
   },
   {
    "duration": 11,
    "start_time": "2022-12-11T07:12:03.182Z"
   },
   {
    "duration": 39,
    "start_time": "2022-12-11T07:12:03.195Z"
   },
   {
    "duration": 30,
    "start_time": "2022-12-11T07:12:03.237Z"
   },
   {
    "duration": 55,
    "start_time": "2022-12-11T07:12:03.269Z"
   },
   {
    "duration": 43,
    "start_time": "2022-12-11T07:12:03.326Z"
   },
   {
    "duration": 329,
    "start_time": "2022-12-11T07:12:03.372Z"
   },
   {
    "duration": 2,
    "start_time": "2022-12-11T07:12:03.704Z"
   },
   {
    "duration": 699,
    "start_time": "2022-12-11T07:12:03.708Z"
   },
   {
    "duration": 5,
    "start_time": "2022-12-11T07:12:04.409Z"
   },
   {
    "duration": 35,
    "start_time": "2022-12-11T07:12:04.416Z"
   },
   {
    "duration": 30,
    "start_time": "2022-12-11T07:12:04.453Z"
   },
   {
    "duration": 26,
    "start_time": "2022-12-11T07:12:04.485Z"
   },
   {
    "duration": 760,
    "start_time": "2022-12-11T07:12:04.513Z"
   },
   {
    "duration": 903,
    "start_time": "2022-12-11T07:12:05.275Z"
   },
   {
    "duration": 1028,
    "start_time": "2022-12-11T07:12:06.181Z"
   },
   {
    "duration": 1130,
    "start_time": "2022-12-11T07:12:07.212Z"
   },
   {
    "duration": 46012,
    "start_time": "2022-12-11T07:12:08.344Z"
   },
   {
    "duration": 8,
    "start_time": "2022-12-11T07:12:54.361Z"
   },
   {
    "duration": 6470,
    "start_time": "2022-12-11T07:12:54.371Z"
   },
   {
    "duration": 39117,
    "start_time": "2022-12-11T07:13:00.844Z"
   },
   {
    "duration": 95,
    "start_time": "2022-12-11T07:13:39.964Z"
   },
   {
    "duration": 6769,
    "start_time": "2022-12-11T07:13:40.063Z"
   },
   {
    "duration": 12991,
    "start_time": "2022-12-11T07:16:02.650Z"
   },
   {
    "duration": 14805,
    "start_time": "2022-12-11T07:16:29.545Z"
   },
   {
    "duration": 4,
    "start_time": "2022-12-11T07:20:02.221Z"
   },
   {
    "duration": 1619,
    "start_time": "2022-12-11T07:20:02.228Z"
   },
   {
    "duration": 66,
    "start_time": "2022-12-11T07:20:03.849Z"
   },
   {
    "duration": 15,
    "start_time": "2022-12-11T07:20:03.917Z"
   },
   {
    "duration": 46,
    "start_time": "2022-12-11T07:20:03.934Z"
   },
   {
    "duration": 24,
    "start_time": "2022-12-11T07:20:03.982Z"
   },
   {
    "duration": 31,
    "start_time": "2022-12-11T07:20:04.008Z"
   },
   {
    "duration": 10,
    "start_time": "2022-12-11T07:20:04.041Z"
   },
   {
    "duration": 53,
    "start_time": "2022-12-11T07:20:04.053Z"
   },
   {
    "duration": 1357,
    "start_time": "2022-12-11T07:20:04.109Z"
   },
   {
    "duration": 11,
    "start_time": "2022-12-11T07:20:05.470Z"
   },
   {
    "duration": 22,
    "start_time": "2022-12-11T07:20:05.484Z"
   },
   {
    "duration": 41,
    "start_time": "2022-12-11T07:20:05.508Z"
   },
   {
    "duration": 34,
    "start_time": "2022-12-11T07:20:05.551Z"
   },
   {
    "duration": 30,
    "start_time": "2022-12-11T07:20:05.587Z"
   },
   {
    "duration": 289,
    "start_time": "2022-12-11T07:20:05.619Z"
   },
   {
    "duration": 3,
    "start_time": "2022-12-11T07:20:05.909Z"
   },
   {
    "duration": 800,
    "start_time": "2022-12-11T07:20:05.914Z"
   },
   {
    "duration": 3,
    "start_time": "2022-12-11T07:20:06.716Z"
   },
   {
    "duration": 42,
    "start_time": "2022-12-11T07:20:06.721Z"
   },
   {
    "duration": 24,
    "start_time": "2022-12-11T07:20:06.765Z"
   },
   {
    "duration": 31,
    "start_time": "2022-12-11T07:20:06.791Z"
   },
   {
    "duration": 752,
    "start_time": "2022-12-11T07:20:06.824Z"
   },
   {
    "duration": 808,
    "start_time": "2022-12-11T07:20:07.580Z"
   },
   {
    "duration": 0,
    "start_time": "2022-12-11T07:20:08.390Z"
   },
   {
    "duration": 0,
    "start_time": "2022-12-11T07:20:08.391Z"
   },
   {
    "duration": 0,
    "start_time": "2022-12-11T07:20:08.393Z"
   },
   {
    "duration": 0,
    "start_time": "2022-12-11T07:20:08.394Z"
   },
   {
    "duration": 0,
    "start_time": "2022-12-11T07:20:08.395Z"
   },
   {
    "duration": 0,
    "start_time": "2022-12-11T07:20:08.396Z"
   },
   {
    "duration": 0,
    "start_time": "2022-12-11T07:20:08.397Z"
   },
   {
    "duration": 4,
    "start_time": "2022-12-11T07:20:34.537Z"
   },
   {
    "duration": 1429,
    "start_time": "2022-12-11T07:20:34.544Z"
   },
   {
    "duration": 43,
    "start_time": "2022-12-11T07:20:35.975Z"
   },
   {
    "duration": 12,
    "start_time": "2022-12-11T07:20:36.021Z"
   },
   {
    "duration": 13,
    "start_time": "2022-12-11T07:20:36.036Z"
   },
   {
    "duration": 36,
    "start_time": "2022-12-11T07:20:36.051Z"
   },
   {
    "duration": 10,
    "start_time": "2022-12-11T07:20:36.089Z"
   },
   {
    "duration": 5,
    "start_time": "2022-12-11T07:20:36.101Z"
   },
   {
    "duration": 10,
    "start_time": "2022-12-11T07:20:36.108Z"
   },
   {
    "duration": 1325,
    "start_time": "2022-12-11T07:20:36.120Z"
   },
   {
    "duration": 24,
    "start_time": "2022-12-11T07:20:37.446Z"
   },
   {
    "duration": 37,
    "start_time": "2022-12-11T07:20:37.473Z"
   },
   {
    "duration": 15,
    "start_time": "2022-12-11T07:20:37.512Z"
   },
   {
    "duration": 7,
    "start_time": "2022-12-11T07:20:37.531Z"
   },
   {
    "duration": 45,
    "start_time": "2022-12-11T07:20:37.540Z"
   },
   {
    "duration": 321,
    "start_time": "2022-12-11T07:20:37.587Z"
   },
   {
    "duration": 2,
    "start_time": "2022-12-11T07:20:37.910Z"
   },
   {
    "duration": 697,
    "start_time": "2022-12-11T07:20:37.914Z"
   },
   {
    "duration": 3,
    "start_time": "2022-12-11T07:20:38.613Z"
   },
   {
    "duration": 18,
    "start_time": "2022-12-11T07:20:38.618Z"
   },
   {
    "duration": 39,
    "start_time": "2022-12-11T07:20:38.638Z"
   },
   {
    "duration": 27,
    "start_time": "2022-12-11T07:20:38.680Z"
   },
   {
    "duration": 729,
    "start_time": "2022-12-11T07:20:38.709Z"
   },
   {
    "duration": 852,
    "start_time": "2022-12-11T07:20:39.440Z"
   },
   {
    "duration": 990,
    "start_time": "2022-12-11T07:20:40.294Z"
   },
   {
    "duration": 1145,
    "start_time": "2022-12-11T07:20:41.286Z"
   },
   {
    "duration": 43522,
    "start_time": "2022-12-11T07:20:42.432Z"
   },
   {
    "duration": 12,
    "start_time": "2022-12-11T07:21:25.957Z"
   },
   {
    "duration": 7074,
    "start_time": "2022-12-11T07:21:26.050Z"
   },
   {
    "duration": 15248,
    "start_time": "2022-12-11T07:21:33.126Z"
   },
   {
    "duration": 15299,
    "start_time": "2022-12-11T07:21:48.376Z"
   },
   {
    "duration": 17693,
    "start_time": "2022-12-11T07:34:28.808Z"
   },
   {
    "duration": 127,
    "start_time": "2022-12-11T07:35:41.490Z"
   },
   {
    "duration": 21000,
    "start_time": "2022-12-11T07:35:49.509Z"
   },
   {
    "duration": 9,
    "start_time": "2022-12-11T07:37:20.144Z"
   },
   {
    "duration": 61404,
    "start_time": "2022-12-11T07:46:18.968Z"
   },
   {
    "duration": 29,
    "start_time": "2022-12-11T07:47:20.375Z"
   },
   {
    "duration": 57755,
    "start_time": "2022-12-11T07:47:49.614Z"
   },
   {
    "duration": 11712,
    "start_time": "2022-12-11T07:48:47.371Z"
   },
   {
    "duration": 20253,
    "start_time": "2022-12-11T07:49:31.645Z"
   },
   {
    "duration": 10607,
    "start_time": "2022-12-11T07:49:51.901Z"
   },
   {
    "duration": 57328,
    "start_time": "2022-12-11T07:50:36.512Z"
   },
   {
    "duration": 41122,
    "start_time": "2022-12-11T07:52:10.248Z"
   },
   {
    "duration": 4,
    "start_time": "2022-12-11T07:54:09.632Z"
   },
   {
    "duration": 1391,
    "start_time": "2022-12-11T07:54:09.638Z"
   },
   {
    "duration": 47,
    "start_time": "2022-12-11T07:54:11.031Z"
   },
   {
    "duration": 13,
    "start_time": "2022-12-11T07:54:11.079Z"
   },
   {
    "duration": 7,
    "start_time": "2022-12-11T07:54:11.095Z"
   },
   {
    "duration": 6,
    "start_time": "2022-12-11T07:54:11.104Z"
   },
   {
    "duration": 10,
    "start_time": "2022-12-11T07:54:11.111Z"
   },
   {
    "duration": 3,
    "start_time": "2022-12-11T07:54:11.123Z"
   },
   {
    "duration": 8,
    "start_time": "2022-12-11T07:54:11.155Z"
   },
   {
    "duration": 1236,
    "start_time": "2022-12-11T07:54:11.165Z"
   },
   {
    "duration": 10,
    "start_time": "2022-12-11T07:54:12.403Z"
   },
   {
    "duration": 6,
    "start_time": "2022-12-11T07:54:12.415Z"
   },
   {
    "duration": 9,
    "start_time": "2022-12-11T07:54:12.422Z"
   },
   {
    "duration": 5,
    "start_time": "2022-12-11T07:54:12.434Z"
   },
   {
    "duration": 18,
    "start_time": "2022-12-11T07:54:12.441Z"
   },
   {
    "duration": 273,
    "start_time": "2022-12-11T07:54:12.461Z"
   },
   {
    "duration": 3,
    "start_time": "2022-12-11T07:54:12.737Z"
   },
   {
    "duration": 643,
    "start_time": "2022-12-11T07:54:12.753Z"
   },
   {
    "duration": 2,
    "start_time": "2022-12-11T07:54:13.398Z"
   },
   {
    "duration": 6,
    "start_time": "2022-12-11T07:54:13.402Z"
   },
   {
    "duration": 9,
    "start_time": "2022-12-11T07:54:13.409Z"
   },
   {
    "duration": 6,
    "start_time": "2022-12-11T07:54:13.420Z"
   },
   {
    "duration": 662,
    "start_time": "2022-12-11T07:54:13.428Z"
   },
   {
    "duration": 744,
    "start_time": "2022-12-11T07:54:14.092Z"
   },
   {
    "duration": 1021,
    "start_time": "2022-12-11T07:54:14.838Z"
   },
   {
    "duration": 1112,
    "start_time": "2022-12-11T07:54:15.867Z"
   },
   {
    "duration": 42892,
    "start_time": "2022-12-11T07:54:16.980Z"
   },
   {
    "duration": 81,
    "start_time": "2022-12-11T07:54:59.874Z"
   },
   {
    "duration": 7845,
    "start_time": "2022-12-11T07:54:59.957Z"
   },
   {
    "duration": 6170,
    "start_time": "2022-12-11T07:55:07.804Z"
   },
   {
    "duration": 0,
    "start_time": "2022-12-11T07:55:13.977Z"
   },
   {
    "duration": 0,
    "start_time": "2022-12-11T07:55:13.978Z"
   },
   {
    "duration": 0,
    "start_time": "2022-12-11T07:55:13.981Z"
   },
   {
    "duration": 5,
    "start_time": "2022-12-11T07:55:42.308Z"
   },
   {
    "duration": 1402,
    "start_time": "2022-12-11T07:55:42.316Z"
   },
   {
    "duration": 46,
    "start_time": "2022-12-11T07:55:43.720Z"
   },
   {
    "duration": 18,
    "start_time": "2022-12-11T07:55:43.769Z"
   },
   {
    "duration": 5,
    "start_time": "2022-12-11T07:55:43.790Z"
   },
   {
    "duration": 7,
    "start_time": "2022-12-11T07:55:43.797Z"
   },
   {
    "duration": 9,
    "start_time": "2022-12-11T07:55:43.806Z"
   },
   {
    "duration": 42,
    "start_time": "2022-12-11T07:55:43.817Z"
   },
   {
    "duration": 16,
    "start_time": "2022-12-11T07:55:43.868Z"
   },
   {
    "duration": 1380,
    "start_time": "2022-12-11T07:55:43.887Z"
   },
   {
    "duration": 11,
    "start_time": "2022-12-11T07:55:45.269Z"
   },
   {
    "duration": 6,
    "start_time": "2022-12-11T07:55:45.282Z"
   },
   {
    "duration": 10,
    "start_time": "2022-12-11T07:55:45.290Z"
   },
   {
    "duration": 6,
    "start_time": "2022-12-11T07:55:45.304Z"
   },
   {
    "duration": 5,
    "start_time": "2022-12-11T07:55:45.312Z"
   },
   {
    "duration": 276,
    "start_time": "2022-12-11T07:55:45.319Z"
   },
   {
    "duration": 3,
    "start_time": "2022-12-11T07:55:45.598Z"
   },
   {
    "duration": 664,
    "start_time": "2022-12-11T07:55:45.603Z"
   },
   {
    "duration": 3,
    "start_time": "2022-12-11T07:55:46.272Z"
   },
   {
    "duration": 6,
    "start_time": "2022-12-11T07:55:46.277Z"
   },
   {
    "duration": 6,
    "start_time": "2022-12-11T07:55:46.285Z"
   },
   {
    "duration": 8,
    "start_time": "2022-12-11T07:55:46.292Z"
   },
   {
    "duration": 657,
    "start_time": "2022-12-11T07:55:46.302Z"
   },
   {
    "duration": 842,
    "start_time": "2022-12-11T07:55:46.961Z"
   },
   {
    "duration": 1000,
    "start_time": "2022-12-11T07:55:47.805Z"
   },
   {
    "duration": 1276,
    "start_time": "2022-12-11T07:55:48.807Z"
   },
   {
    "duration": 182885,
    "start_time": "2022-12-11T07:55:50.088Z"
   },
   {
    "duration": 10,
    "start_time": "2022-12-11T07:58:53.063Z"
   },
   {
    "duration": 8333,
    "start_time": "2022-12-11T07:58:53.075Z"
   },
   {
    "duration": 14759,
    "start_time": "2022-12-11T07:59:01.410Z"
   },
   {
    "duration": 21694,
    "start_time": "2022-12-11T07:59:16.171Z"
   },
   {
    "duration": 60125,
    "start_time": "2022-12-11T07:59:37.867Z"
   },
   {
    "duration": 21023,
    "start_time": "2022-12-11T08:00:37.994Z"
   },
   {
    "duration": 31820,
    "start_time": "2022-12-11T08:02:40.755Z"
   },
   {
    "duration": 71414,
    "start_time": "2022-12-11T08:03:12.577Z"
   },
   {
    "duration": 136353,
    "start_time": "2022-12-11T08:04:54.492Z"
   },
   {
    "duration": 0,
    "start_time": "2022-12-11T08:07:10.853Z"
   },
   {
    "duration": 6,
    "start_time": "2022-12-11T08:20:49.767Z"
   },
   {
    "duration": 1606,
    "start_time": "2022-12-11T08:20:49.776Z"
   },
   {
    "duration": 41,
    "start_time": "2022-12-11T08:20:51.384Z"
   },
   {
    "duration": 12,
    "start_time": "2022-12-11T08:20:51.427Z"
   },
   {
    "duration": 5,
    "start_time": "2022-12-11T08:20:51.441Z"
   },
   {
    "duration": 25,
    "start_time": "2022-12-11T08:20:51.448Z"
   },
   {
    "duration": 9,
    "start_time": "2022-12-11T08:20:51.475Z"
   },
   {
    "duration": 6,
    "start_time": "2022-12-11T08:20:51.486Z"
   },
   {
    "duration": 6,
    "start_time": "2022-12-11T08:20:51.494Z"
   },
   {
    "duration": 1274,
    "start_time": "2022-12-11T08:20:51.503Z"
   },
   {
    "duration": 12,
    "start_time": "2022-12-11T08:20:52.780Z"
   },
   {
    "duration": 11,
    "start_time": "2022-12-11T08:20:52.795Z"
   },
   {
    "duration": 8,
    "start_time": "2022-12-11T08:20:52.808Z"
   },
   {
    "duration": 8,
    "start_time": "2022-12-11T08:20:52.819Z"
   },
   {
    "duration": 12,
    "start_time": "2022-12-11T08:20:52.829Z"
   },
   {
    "duration": 278,
    "start_time": "2022-12-11T08:20:52.843Z"
   },
   {
    "duration": 3,
    "start_time": "2022-12-11T08:20:53.123Z"
   },
   {
    "duration": 645,
    "start_time": "2022-12-11T08:20:53.128Z"
   },
   {
    "duration": 3,
    "start_time": "2022-12-11T08:20:53.776Z"
   },
   {
    "duration": 16,
    "start_time": "2022-12-11T08:20:53.780Z"
   },
   {
    "duration": 14,
    "start_time": "2022-12-11T08:20:53.799Z"
   },
   {
    "duration": 28,
    "start_time": "2022-12-11T08:20:53.815Z"
   },
   {
    "duration": 656,
    "start_time": "2022-12-11T08:20:53.845Z"
   },
   {
    "duration": 2,
    "start_time": "2022-12-11T08:20:54.503Z"
   },
   {
    "duration": 23,
    "start_time": "2022-12-11T08:20:54.507Z"
   },
   {
    "duration": 1074,
    "start_time": "2022-12-11T08:20:54.533Z"
   },
   {
    "duration": 48454,
    "start_time": "2022-12-11T08:20:55.608Z"
   },
   {
    "duration": 8,
    "start_time": "2022-12-11T08:21:44.067Z"
   },
   {
    "duration": 6721,
    "start_time": "2022-12-11T08:21:44.078Z"
   },
   {
    "duration": 14584,
    "start_time": "2022-12-11T08:21:50.801Z"
   },
   {
    "duration": 20871,
    "start_time": "2022-12-11T08:22:05.386Z"
   },
   {
    "duration": 7,
    "start_time": "2022-12-11T08:23:14.679Z"
   },
   {
    "duration": 126,
    "start_time": "2022-12-11T08:33:33.114Z"
   },
   {
    "duration": 14350,
    "start_time": "2022-12-11T08:33:33.594Z"
   },
   {
    "duration": 13,
    "start_time": "2022-12-11T08:34:08.297Z"
   },
   {
    "duration": 48754,
    "start_time": "2022-12-11T08:34:15.502Z"
   },
   {
    "duration": 18698,
    "start_time": "2022-12-11T08:35:04.259Z"
   },
   {
    "duration": 38388,
    "start_time": "2022-12-11T08:36:01.670Z"
   },
   {
    "duration": 17852,
    "start_time": "2022-12-11T08:36:40.061Z"
   },
   {
    "duration": 6140,
    "start_time": "2022-12-11T08:37:21.761Z"
   },
   {
    "duration": 178787,
    "start_time": "2022-12-11T08:38:28.081Z"
   },
   {
    "duration": 23623,
    "start_time": "2022-12-11T08:41:26.870Z"
   },
   {
    "duration": 5,
    "start_time": "2022-12-11T09:10:49.634Z"
   },
   {
    "duration": 1203,
    "start_time": "2022-12-11T09:10:49.641Z"
   },
   {
    "duration": 0,
    "start_time": "2022-12-11T09:10:50.851Z"
   },
   {
    "duration": 0,
    "start_time": "2022-12-11T09:10:50.855Z"
   },
   {
    "duration": 0,
    "start_time": "2022-12-11T09:10:50.857Z"
   },
   {
    "duration": 1,
    "start_time": "2022-12-11T09:10:50.858Z"
   },
   {
    "duration": 1,
    "start_time": "2022-12-11T09:10:50.860Z"
   },
   {
    "duration": 0,
    "start_time": "2022-12-11T09:10:50.862Z"
   },
   {
    "duration": 0,
    "start_time": "2022-12-11T09:10:50.864Z"
   },
   {
    "duration": 0,
    "start_time": "2022-12-11T09:10:50.865Z"
   },
   {
    "duration": 0,
    "start_time": "2022-12-11T09:10:50.867Z"
   },
   {
    "duration": 0,
    "start_time": "2022-12-11T09:10:50.871Z"
   },
   {
    "duration": 0,
    "start_time": "2022-12-11T09:10:50.872Z"
   },
   {
    "duration": 0,
    "start_time": "2022-12-11T09:10:50.874Z"
   },
   {
    "duration": 0,
    "start_time": "2022-12-11T09:10:50.875Z"
   },
   {
    "duration": 0,
    "start_time": "2022-12-11T09:10:50.876Z"
   },
   {
    "duration": 0,
    "start_time": "2022-12-11T09:10:50.877Z"
   },
   {
    "duration": 0,
    "start_time": "2022-12-11T09:10:50.878Z"
   },
   {
    "duration": 0,
    "start_time": "2022-12-11T09:10:50.879Z"
   },
   {
    "duration": 0,
    "start_time": "2022-12-11T09:10:50.881Z"
   },
   {
    "duration": 0,
    "start_time": "2022-12-11T09:10:50.882Z"
   },
   {
    "duration": 1,
    "start_time": "2022-12-11T09:10:50.884Z"
   },
   {
    "duration": 0,
    "start_time": "2022-12-11T09:10:50.886Z"
   },
   {
    "duration": 0,
    "start_time": "2022-12-11T09:10:50.887Z"
   },
   {
    "duration": 0,
    "start_time": "2022-12-11T09:10:50.889Z"
   },
   {
    "duration": 0,
    "start_time": "2022-12-11T09:10:50.890Z"
   },
   {
    "duration": 0,
    "start_time": "2022-12-11T09:10:50.892Z"
   },
   {
    "duration": 0,
    "start_time": "2022-12-11T09:10:50.893Z"
   },
   {
    "duration": 0,
    "start_time": "2022-12-11T09:10:50.951Z"
   },
   {
    "duration": 264,
    "start_time": "2022-12-11T09:11:12.760Z"
   },
   {
    "duration": 5,
    "start_time": "2022-12-11T09:11:34.231Z"
   },
   {
    "duration": 1301,
    "start_time": "2022-12-11T09:11:34.238Z"
   },
   {
    "duration": 41,
    "start_time": "2022-12-11T09:11:35.540Z"
   },
   {
    "duration": 27,
    "start_time": "2022-12-11T09:11:35.583Z"
   },
   {
    "duration": 20,
    "start_time": "2022-12-11T09:11:35.613Z"
   },
   {
    "duration": 13,
    "start_time": "2022-12-11T09:11:35.634Z"
   },
   {
    "duration": 13,
    "start_time": "2022-12-11T09:11:35.650Z"
   },
   {
    "duration": 4,
    "start_time": "2022-12-11T09:11:35.665Z"
   },
   {
    "duration": 5,
    "start_time": "2022-12-11T09:11:35.672Z"
   },
   {
    "duration": 1248,
    "start_time": "2022-12-11T09:11:35.680Z"
   },
   {
    "duration": 12,
    "start_time": "2022-12-11T09:11:36.930Z"
   },
   {
    "duration": 8,
    "start_time": "2022-12-11T09:11:36.943Z"
   },
   {
    "duration": 11,
    "start_time": "2022-12-11T09:11:36.953Z"
   },
   {
    "duration": 8,
    "start_time": "2022-12-11T09:11:36.966Z"
   },
   {
    "duration": 6,
    "start_time": "2022-12-11T09:11:36.976Z"
   },
   {
    "duration": 273,
    "start_time": "2022-12-11T09:11:36.983Z"
   },
   {
    "duration": 3,
    "start_time": "2022-12-11T09:11:37.258Z"
   },
   {
    "duration": 621,
    "start_time": "2022-12-11T09:11:37.263Z"
   },
   {
    "duration": 3,
    "start_time": "2022-12-11T09:11:37.886Z"
   },
   {
    "duration": 11,
    "start_time": "2022-12-11T09:11:37.891Z"
   },
   {
    "duration": 11,
    "start_time": "2022-12-11T09:11:37.904Z"
   },
   {
    "duration": 13,
    "start_time": "2022-12-11T09:11:37.917Z"
   },
   {
    "duration": 661,
    "start_time": "2022-12-11T09:11:37.932Z"
   },
   {
    "duration": 4,
    "start_time": "2022-12-11T09:11:38.596Z"
   },
   {
    "duration": 22,
    "start_time": "2022-12-11T09:11:38.602Z"
   },
   {
    "duration": 1110,
    "start_time": "2022-12-11T09:11:38.627Z"
   },
   {
    "duration": 94,
    "start_time": "2022-12-11T09:11:39.739Z"
   },
   {
    "duration": 0,
    "start_time": "2022-12-11T09:11:39.835Z"
   },
   {
    "duration": 0,
    "start_time": "2022-12-11T09:11:39.836Z"
   },
   {
    "duration": 47430,
    "start_time": "2022-12-11T09:11:51.923Z"
   },
   {
    "duration": 8,
    "start_time": "2022-12-11T09:12:39.355Z"
   },
   {
    "duration": 6653,
    "start_time": "2022-12-11T09:12:39.365Z"
   },
   {
    "duration": 4,
    "start_time": "2022-12-11T09:13:23.220Z"
   },
   {
    "duration": 27985,
    "start_time": "2022-12-11T09:14:54.069Z"
   },
   {
    "duration": 5458,
    "start_time": "2022-12-11T09:15:41.541Z"
   },
   {
    "duration": 37658,
    "start_time": "2022-12-11T09:16:11.398Z"
   },
   {
    "duration": 6339,
    "start_time": "2022-12-11T09:16:49.059Z"
   },
   {
    "duration": 116,
    "start_time": "2022-12-11T09:17:14.482Z"
   },
   {
    "duration": 8,
    "start_time": "2022-12-11T09:17:40.621Z"
   },
   {
    "duration": 5,
    "start_time": "2022-12-11T09:20:06.262Z"
   },
   {
    "duration": 1314,
    "start_time": "2022-12-11T09:20:06.269Z"
   },
   {
    "duration": 42,
    "start_time": "2022-12-11T09:20:07.585Z"
   },
   {
    "duration": 13,
    "start_time": "2022-12-11T09:20:07.629Z"
   },
   {
    "duration": 8,
    "start_time": "2022-12-11T09:20:07.645Z"
   },
   {
    "duration": 10,
    "start_time": "2022-12-11T09:20:07.655Z"
   },
   {
    "duration": 8,
    "start_time": "2022-12-11T09:20:07.667Z"
   },
   {
    "duration": 4,
    "start_time": "2022-12-11T09:20:07.677Z"
   },
   {
    "duration": 12,
    "start_time": "2022-12-11T09:20:07.683Z"
   },
   {
    "duration": 1251,
    "start_time": "2022-12-11T09:20:07.698Z"
   },
   {
    "duration": 14,
    "start_time": "2022-12-11T09:20:08.951Z"
   },
   {
    "duration": 5,
    "start_time": "2022-12-11T09:20:08.967Z"
   },
   {
    "duration": 12,
    "start_time": "2022-12-11T09:20:08.974Z"
   },
   {
    "duration": 8,
    "start_time": "2022-12-11T09:20:08.989Z"
   },
   {
    "duration": 10,
    "start_time": "2022-12-11T09:20:08.999Z"
   },
   {
    "duration": 315,
    "start_time": "2022-12-11T09:20:09.011Z"
   },
   {
    "duration": 3,
    "start_time": "2022-12-11T09:20:09.328Z"
   },
   {
    "duration": 728,
    "start_time": "2022-12-11T09:20:09.332Z"
   },
   {
    "duration": 4,
    "start_time": "2022-12-11T09:20:10.062Z"
   },
   {
    "duration": 9,
    "start_time": "2022-12-11T09:20:10.068Z"
   },
   {
    "duration": 5,
    "start_time": "2022-12-11T09:20:10.079Z"
   },
   {
    "duration": 11,
    "start_time": "2022-12-11T09:20:10.086Z"
   },
   {
    "duration": 645,
    "start_time": "2022-12-11T09:20:10.099Z"
   },
   {
    "duration": 708,
    "start_time": "2022-12-11T09:20:10.746Z"
   },
   {
    "duration": 3,
    "start_time": "2022-12-11T09:20:11.456Z"
   },
   {
    "duration": 1041,
    "start_time": "2022-12-11T09:20:11.460Z"
   },
   {
    "duration": 48353,
    "start_time": "2022-12-11T09:20:12.503Z"
   },
   {
    "duration": 6540,
    "start_time": "2022-12-11T09:21:00.863Z"
   },
   {
    "duration": 26758,
    "start_time": "2022-12-11T09:21:07.405Z"
   },
   {
    "duration": 5482,
    "start_time": "2022-12-11T09:21:34.165Z"
   },
   {
    "duration": 49070,
    "start_time": "2022-12-11T09:22:21.783Z"
   },
   {
    "duration": 6499,
    "start_time": "2022-12-11T09:23:25.201Z"
   },
   {
    "duration": 4,
    "start_time": "2022-12-11T09:25:26.833Z"
   },
   {
    "duration": 1299,
    "start_time": "2022-12-11T09:25:26.840Z"
   },
   {
    "duration": 43,
    "start_time": "2022-12-11T09:25:28.141Z"
   },
   {
    "duration": 17,
    "start_time": "2022-12-11T09:25:28.186Z"
   },
   {
    "duration": 20,
    "start_time": "2022-12-11T09:25:28.207Z"
   },
   {
    "duration": 11,
    "start_time": "2022-12-11T09:25:28.229Z"
   },
   {
    "duration": 9,
    "start_time": "2022-12-11T09:25:28.243Z"
   },
   {
    "duration": 19,
    "start_time": "2022-12-11T09:25:28.254Z"
   },
   {
    "duration": 14,
    "start_time": "2022-12-11T09:25:28.275Z"
   },
   {
    "duration": 1326,
    "start_time": "2022-12-11T09:25:28.291Z"
   },
   {
    "duration": 14,
    "start_time": "2022-12-11T09:25:29.619Z"
   },
   {
    "duration": 6,
    "start_time": "2022-12-11T09:25:29.635Z"
   },
   {
    "duration": 9,
    "start_time": "2022-12-11T09:25:29.644Z"
   },
   {
    "duration": 9,
    "start_time": "2022-12-11T09:25:29.657Z"
   },
   {
    "duration": 10,
    "start_time": "2022-12-11T09:25:29.669Z"
   },
   {
    "duration": 355,
    "start_time": "2022-12-11T09:25:29.681Z"
   },
   {
    "duration": 3,
    "start_time": "2022-12-11T09:25:30.038Z"
   },
   {
    "duration": 685,
    "start_time": "2022-12-11T09:25:30.042Z"
   },
   {
    "duration": 4,
    "start_time": "2022-12-11T09:25:30.729Z"
   },
   {
    "duration": 33,
    "start_time": "2022-12-11T09:25:30.735Z"
   },
   {
    "duration": 29,
    "start_time": "2022-12-11T09:25:30.771Z"
   },
   {
    "duration": 36,
    "start_time": "2022-12-11T09:25:30.802Z"
   },
   {
    "duration": 670,
    "start_time": "2022-12-11T09:25:30.840Z"
   },
   {
    "duration": 715,
    "start_time": "2022-12-11T09:25:31.512Z"
   },
   {
    "duration": 4,
    "start_time": "2022-12-11T09:25:32.229Z"
   },
   {
    "duration": 1048,
    "start_time": "2022-12-11T09:25:32.236Z"
   },
   {
    "duration": 10517,
    "start_time": "2022-12-11T09:25:33.286Z"
   },
   {
    "duration": 0,
    "start_time": "2022-12-11T09:25:43.805Z"
   },
   {
    "duration": 0,
    "start_time": "2022-12-11T09:25:43.806Z"
   },
   {
    "duration": 0,
    "start_time": "2022-12-11T09:25:43.808Z"
   },
   {
    "duration": 4,
    "start_time": "2022-12-11T09:26:09.832Z"
   },
   {
    "duration": 1357,
    "start_time": "2022-12-11T09:26:09.839Z"
   },
   {
    "duration": 45,
    "start_time": "2022-12-11T09:26:11.198Z"
   },
   {
    "duration": 14,
    "start_time": "2022-12-11T09:26:11.245Z"
   },
   {
    "duration": 6,
    "start_time": "2022-12-11T09:26:11.261Z"
   },
   {
    "duration": 9,
    "start_time": "2022-12-11T09:26:11.269Z"
   },
   {
    "duration": 15,
    "start_time": "2022-12-11T09:26:11.280Z"
   },
   {
    "duration": 17,
    "start_time": "2022-12-11T09:26:11.297Z"
   },
   {
    "duration": 8,
    "start_time": "2022-12-11T09:26:11.315Z"
   },
   {
    "duration": 1251,
    "start_time": "2022-12-11T09:26:11.326Z"
   },
   {
    "duration": 14,
    "start_time": "2022-12-11T09:26:12.579Z"
   },
   {
    "duration": 4,
    "start_time": "2022-12-11T09:26:12.596Z"
   },
   {
    "duration": 6,
    "start_time": "2022-12-11T09:26:12.602Z"
   },
   {
    "duration": 5,
    "start_time": "2022-12-11T09:26:12.610Z"
   },
   {
    "duration": 7,
    "start_time": "2022-12-11T09:26:12.617Z"
   },
   {
    "duration": 285,
    "start_time": "2022-12-11T09:26:12.626Z"
   },
   {
    "duration": 3,
    "start_time": "2022-12-11T09:26:12.913Z"
   },
   {
    "duration": 647,
    "start_time": "2022-12-11T09:26:12.918Z"
   },
   {
    "duration": 3,
    "start_time": "2022-12-11T09:26:13.568Z"
   },
   {
    "duration": 6,
    "start_time": "2022-12-11T09:26:13.573Z"
   },
   {
    "duration": 6,
    "start_time": "2022-12-11T09:26:13.582Z"
   },
   {
    "duration": 9,
    "start_time": "2022-12-11T09:26:13.590Z"
   },
   {
    "duration": 661,
    "start_time": "2022-12-11T09:26:13.601Z"
   },
   {
    "duration": 723,
    "start_time": "2022-12-11T09:26:14.264Z"
   },
   {
    "duration": 3,
    "start_time": "2022-12-11T09:26:14.988Z"
   },
   {
    "duration": 1074,
    "start_time": "2022-12-11T09:26:14.992Z"
   },
   {
    "duration": 48087,
    "start_time": "2022-12-11T09:26:16.068Z"
   },
   {
    "duration": 6248,
    "start_time": "2022-12-11T09:27:04.165Z"
   },
   {
    "duration": 97,
    "start_time": "2022-12-11T09:27:10.416Z"
   },
   {
    "duration": 0,
    "start_time": "2022-12-11T09:27:10.514Z"
   },
   {
    "duration": 0,
    "start_time": "2022-12-11T09:27:10.516Z"
   },
   {
    "duration": 0,
    "start_time": "2022-12-11T09:27:10.517Z"
   },
   {
    "duration": 0,
    "start_time": "2022-12-11T09:27:10.518Z"
   },
   {
    "duration": 0,
    "start_time": "2022-12-11T09:27:10.520Z"
   },
   {
    "duration": 112093,
    "start_time": "2022-12-11T09:27:39.472Z"
   },
   {
    "duration": 6366,
    "start_time": "2022-12-11T09:29:31.568Z"
   },
   {
    "duration": 29069,
    "start_time": "2022-12-11T09:30:56.992Z"
   },
   {
    "duration": 7040,
    "start_time": "2022-12-11T09:31:26.067Z"
   },
   {
    "duration": 68780,
    "start_time": "2022-12-11T09:32:59.487Z"
   },
   {
    "duration": 6448,
    "start_time": "2022-12-11T09:34:08.351Z"
   },
   {
    "duration": 27841,
    "start_time": "2022-12-11T09:38:31.513Z"
   },
   {
    "duration": 7642,
    "start_time": "2022-12-11T09:38:59.357Z"
   },
   {
    "duration": 5,
    "start_time": "2022-12-11T09:43:00.620Z"
   },
   {
    "duration": 1310,
    "start_time": "2022-12-11T09:43:00.627Z"
   },
   {
    "duration": 44,
    "start_time": "2022-12-11T09:43:01.938Z"
   },
   {
    "duration": 13,
    "start_time": "2022-12-11T09:43:01.984Z"
   },
   {
    "duration": 18,
    "start_time": "2022-12-11T09:43:02.001Z"
   },
   {
    "duration": 11,
    "start_time": "2022-12-11T09:43:02.021Z"
   },
   {
    "duration": 20,
    "start_time": "2022-12-11T09:43:02.034Z"
   },
   {
    "duration": 8,
    "start_time": "2022-12-11T09:43:02.056Z"
   },
   {
    "duration": 14,
    "start_time": "2022-12-11T09:43:02.066Z"
   },
   {
    "duration": 1267,
    "start_time": "2022-12-11T09:43:02.082Z"
   },
   {
    "duration": 11,
    "start_time": "2022-12-11T09:43:03.351Z"
   },
   {
    "duration": 5,
    "start_time": "2022-12-11T09:43:03.363Z"
   },
   {
    "duration": 8,
    "start_time": "2022-12-11T09:43:03.369Z"
   },
   {
    "duration": 7,
    "start_time": "2022-12-11T09:43:03.380Z"
   },
   {
    "duration": 9,
    "start_time": "2022-12-11T09:43:03.389Z"
   },
   {
    "duration": 285,
    "start_time": "2022-12-11T09:43:03.400Z"
   },
   {
    "duration": 3,
    "start_time": "2022-12-11T09:43:03.687Z"
   },
   {
    "duration": 613,
    "start_time": "2022-12-11T09:43:03.693Z"
   },
   {
    "duration": 4,
    "start_time": "2022-12-11T09:43:04.308Z"
   },
   {
    "duration": 7,
    "start_time": "2022-12-11T09:43:04.314Z"
   },
   {
    "duration": 8,
    "start_time": "2022-12-11T09:43:04.324Z"
   },
   {
    "duration": 3,
    "start_time": "2022-12-11T09:43:04.353Z"
   },
   {
    "duration": 618,
    "start_time": "2022-12-11T09:43:04.359Z"
   },
   {
    "duration": 731,
    "start_time": "2022-12-11T09:43:04.979Z"
   },
   {
    "duration": 2,
    "start_time": "2022-12-11T09:43:05.713Z"
   },
   {
    "duration": 1039,
    "start_time": "2022-12-11T09:43:05.717Z"
   },
   {
    "duration": 47994,
    "start_time": "2022-12-11T09:43:06.759Z"
   },
   {
    "duration": 5870,
    "start_time": "2022-12-11T09:43:54.757Z"
   },
   {
    "duration": 69030,
    "start_time": "2022-12-11T09:44:00.629Z"
   },
   {
    "duration": 6058,
    "start_time": "2022-12-11T09:45:09.662Z"
   },
   {
    "duration": 29138,
    "start_time": "2022-12-11T09:46:04.224Z"
   },
   {
    "duration": 5252,
    "start_time": "2022-12-11T09:46:33.365Z"
   },
   {
    "duration": 10443,
    "start_time": "2022-12-11T09:53:23.265Z"
   },
   {
    "duration": 49225,
    "start_time": "2022-12-11T09:57:11.245Z"
   },
   {
    "duration": 5835,
    "start_time": "2022-12-11T09:58:00.473Z"
   },
   {
    "duration": 37030,
    "start_time": "2022-12-11T10:00:07.434Z"
   },
   {
    "duration": 6919,
    "start_time": "2022-12-11T10:00:44.466Z"
   },
   {
    "duration": 61753,
    "start_time": "2022-12-11T10:02:40.699Z"
   },
   {
    "duration": 5941,
    "start_time": "2022-12-11T10:03:42.454Z"
   },
   {
    "duration": 26192,
    "start_time": "2022-12-11T10:08:28.261Z"
   },
   {
    "duration": 6250,
    "start_time": "2022-12-11T10:08:54.456Z"
   },
   {
    "duration": 63132,
    "start_time": "2022-12-11T10:09:41.030Z"
   },
   {
    "duration": 6221,
    "start_time": "2022-12-11T10:10:44.169Z"
   },
   {
    "duration": 66825,
    "start_time": "2022-12-11T10:11:55.830Z"
   },
   {
    "duration": 7537,
    "start_time": "2022-12-11T10:13:02.661Z"
   },
   {
    "duration": 8,
    "start_time": "2022-12-11T10:25:12.636Z"
   },
   {
    "duration": 4,
    "start_time": "2022-12-11T10:30:54.803Z"
   },
   {
    "duration": 1328,
    "start_time": "2022-12-11T10:30:54.809Z"
   },
   {
    "duration": 60,
    "start_time": "2022-12-11T10:30:56.139Z"
   },
   {
    "duration": 17,
    "start_time": "2022-12-11T10:30:56.202Z"
   },
   {
    "duration": 18,
    "start_time": "2022-12-11T10:30:56.221Z"
   },
   {
    "duration": 7,
    "start_time": "2022-12-11T10:30:56.240Z"
   },
   {
    "duration": 31,
    "start_time": "2022-12-11T10:30:56.249Z"
   },
   {
    "duration": 5,
    "start_time": "2022-12-11T10:30:56.282Z"
   },
   {
    "duration": 10,
    "start_time": "2022-12-11T10:30:56.289Z"
   },
   {
    "duration": 1250,
    "start_time": "2022-12-11T10:30:56.302Z"
   },
   {
    "duration": 11,
    "start_time": "2022-12-11T10:30:57.554Z"
   },
   {
    "duration": 18,
    "start_time": "2022-12-11T10:30:57.567Z"
   },
   {
    "duration": 35,
    "start_time": "2022-12-11T10:30:57.587Z"
   },
   {
    "duration": 33,
    "start_time": "2022-12-11T10:30:57.624Z"
   },
   {
    "duration": 13,
    "start_time": "2022-12-11T10:30:57.660Z"
   },
   {
    "duration": 294,
    "start_time": "2022-12-11T10:30:57.675Z"
   },
   {
    "duration": 631,
    "start_time": "2022-12-11T10:30:57.972Z"
   },
   {
    "duration": 679,
    "start_time": "2022-12-11T10:30:58.605Z"
   },
   {
    "duration": 846,
    "start_time": "2022-12-11T10:30:59.286Z"
   },
   {
    "duration": 1096,
    "start_time": "2022-12-11T10:31:00.134Z"
   },
   {
    "duration": 45021,
    "start_time": "2022-12-11T10:31:01.231Z"
   },
   {
    "duration": 6743,
    "start_time": "2022-12-11T10:31:46.254Z"
   },
   {
    "duration": 61914,
    "start_time": "2022-12-11T10:31:52.999Z"
   },
   {
    "duration": 0,
    "start_time": "2022-12-11T10:32:54.915Z"
   },
   {
    "duration": 0,
    "start_time": "2022-12-11T10:32:54.916Z"
   },
   {
    "duration": 0,
    "start_time": "2022-12-11T10:32:54.918Z"
   },
   {
    "duration": 0,
    "start_time": "2022-12-11T10:32:54.919Z"
   },
   {
    "duration": 0,
    "start_time": "2022-12-11T10:32:54.920Z"
   },
   {
    "duration": 0,
    "start_time": "2022-12-11T10:32:54.921Z"
   },
   {
    "duration": 0,
    "start_time": "2022-12-11T10:32:54.923Z"
   },
   {
    "duration": 5,
    "start_time": "2022-12-11T10:33:25.121Z"
   },
   {
    "duration": 1291,
    "start_time": "2022-12-11T10:33:25.128Z"
   },
   {
    "duration": 41,
    "start_time": "2022-12-11T10:33:26.420Z"
   },
   {
    "duration": 13,
    "start_time": "2022-12-11T10:33:26.463Z"
   },
   {
    "duration": 6,
    "start_time": "2022-12-11T10:33:26.478Z"
   },
   {
    "duration": 6,
    "start_time": "2022-12-11T10:33:26.486Z"
   },
   {
    "duration": 8,
    "start_time": "2022-12-11T10:33:26.494Z"
   },
   {
    "duration": 4,
    "start_time": "2022-12-11T10:33:26.504Z"
   },
   {
    "duration": 5,
    "start_time": "2022-12-11T10:33:26.510Z"
   },
   {
    "duration": 1215,
    "start_time": "2022-12-11T10:33:26.553Z"
   },
   {
    "duration": 13,
    "start_time": "2022-12-11T10:33:27.771Z"
   },
   {
    "duration": 4,
    "start_time": "2022-12-11T10:33:27.786Z"
   },
   {
    "duration": 9,
    "start_time": "2022-12-11T10:33:27.792Z"
   },
   {
    "duration": 7,
    "start_time": "2022-12-11T10:33:27.803Z"
   },
   {
    "duration": 11,
    "start_time": "2022-12-11T10:33:27.812Z"
   },
   {
    "duration": 268,
    "start_time": "2022-12-11T10:33:27.825Z"
   },
   {
    "duration": 613,
    "start_time": "2022-12-11T10:33:28.095Z"
   },
   {
    "duration": 633,
    "start_time": "2022-12-11T10:33:28.711Z"
   },
   {
    "duration": 770,
    "start_time": "2022-12-11T10:33:29.345Z"
   },
   {
    "duration": 1053,
    "start_time": "2022-12-11T10:33:30.117Z"
   },
   {
    "duration": 44899,
    "start_time": "2022-12-11T10:33:31.172Z"
   },
   {
    "duration": 6453,
    "start_time": "2022-12-11T10:34:16.077Z"
   },
   {
    "duration": 77508,
    "start_time": "2022-12-11T10:39:40.753Z"
   },
   {
    "duration": 6844,
    "start_time": "2022-12-11T10:40:58.266Z"
   },
   {
    "duration": 129,
    "start_time": "2022-12-11T10:43:58.507Z"
   },
   {
    "duration": 10,
    "start_time": "2022-12-11T10:43:58.865Z"
   },
   {
    "duration": 4,
    "start_time": "2022-12-11T10:44:32.382Z"
   },
   {
    "duration": 1163,
    "start_time": "2022-12-11T10:44:32.389Z"
   },
   {
    "duration": 0,
    "start_time": "2022-12-11T10:44:33.555Z"
   },
   {
    "duration": 0,
    "start_time": "2022-12-11T10:44:33.557Z"
   },
   {
    "duration": 0,
    "start_time": "2022-12-11T10:44:33.559Z"
   },
   {
    "duration": 1,
    "start_time": "2022-12-11T10:44:33.560Z"
   },
   {
    "duration": 0,
    "start_time": "2022-12-11T10:44:33.563Z"
   },
   {
    "duration": 0,
    "start_time": "2022-12-11T10:44:33.564Z"
   },
   {
    "duration": 0,
    "start_time": "2022-12-11T10:44:33.565Z"
   },
   {
    "duration": 0,
    "start_time": "2022-12-11T10:44:33.567Z"
   },
   {
    "duration": 0,
    "start_time": "2022-12-11T10:44:33.569Z"
   },
   {
    "duration": 0,
    "start_time": "2022-12-11T10:44:33.571Z"
   },
   {
    "duration": 0,
    "start_time": "2022-12-11T10:44:33.575Z"
   },
   {
    "duration": 0,
    "start_time": "2022-12-11T10:44:33.577Z"
   },
   {
    "duration": 0,
    "start_time": "2022-12-11T10:44:33.578Z"
   },
   {
    "duration": 0,
    "start_time": "2022-12-11T10:44:33.582Z"
   },
   {
    "duration": 0,
    "start_time": "2022-12-11T10:44:33.583Z"
   },
   {
    "duration": 0,
    "start_time": "2022-12-11T10:44:33.584Z"
   },
   {
    "duration": 0,
    "start_time": "2022-12-11T10:44:33.586Z"
   },
   {
    "duration": 0,
    "start_time": "2022-12-11T10:44:33.588Z"
   },
   {
    "duration": 0,
    "start_time": "2022-12-11T10:44:33.589Z"
   },
   {
    "duration": 0,
    "start_time": "2022-12-11T10:44:33.590Z"
   },
   {
    "duration": 0,
    "start_time": "2022-12-11T10:44:33.592Z"
   },
   {
    "duration": 0,
    "start_time": "2022-12-11T10:44:33.594Z"
   },
   {
    "duration": 0,
    "start_time": "2022-12-11T10:44:33.595Z"
   },
   {
    "duration": 0,
    "start_time": "2022-12-11T10:44:33.651Z"
   },
   {
    "duration": 0,
    "start_time": "2022-12-11T10:44:33.653Z"
   },
   {
    "duration": 0,
    "start_time": "2022-12-11T10:44:33.654Z"
   },
   {
    "duration": 0,
    "start_time": "2022-12-11T10:44:33.656Z"
   },
   {
    "duration": 251,
    "start_time": "2022-12-11T10:46:02.774Z"
   },
   {
    "duration": 4,
    "start_time": "2022-12-11T10:46:47.619Z"
   },
   {
    "duration": 1367,
    "start_time": "2022-12-11T10:46:47.625Z"
   },
   {
    "duration": 52,
    "start_time": "2022-12-11T10:46:48.994Z"
   },
   {
    "duration": 24,
    "start_time": "2022-12-11T10:46:49.048Z"
   },
   {
    "duration": 14,
    "start_time": "2022-12-11T10:46:49.075Z"
   },
   {
    "duration": 8,
    "start_time": "2022-12-11T10:46:49.091Z"
   },
   {
    "duration": 10,
    "start_time": "2022-12-11T10:46:49.101Z"
   },
   {
    "duration": 4,
    "start_time": "2022-12-11T10:46:49.113Z"
   },
   {
    "duration": 13,
    "start_time": "2022-12-11T10:46:49.119Z"
   },
   {
    "duration": 1354,
    "start_time": "2022-12-11T10:46:49.134Z"
   },
   {
    "duration": 10,
    "start_time": "2022-12-11T10:46:50.490Z"
   },
   {
    "duration": 6,
    "start_time": "2022-12-11T10:46:50.502Z"
   },
   {
    "duration": 9,
    "start_time": "2022-12-11T10:46:50.509Z"
   },
   {
    "duration": 5,
    "start_time": "2022-12-11T10:46:50.521Z"
   },
   {
    "duration": 5,
    "start_time": "2022-12-11T10:46:50.528Z"
   },
   {
    "duration": 280,
    "start_time": "2022-12-11T10:46:50.535Z"
   },
   {
    "duration": 603,
    "start_time": "2022-12-11T10:46:50.817Z"
   },
   {
    "duration": 641,
    "start_time": "2022-12-11T10:46:51.422Z"
   },
   {
    "duration": 1096,
    "start_time": "2022-12-11T10:46:52.065Z"
   },
   {
    "duration": 49593,
    "start_time": "2022-12-11T10:46:53.164Z"
   },
   {
    "duration": 6680,
    "start_time": "2022-12-11T10:47:42.762Z"
   },
   {
    "duration": 67607,
    "start_time": "2022-12-11T10:47:49.451Z"
   },
   {
    "duration": 6138,
    "start_time": "2022-12-11T10:48:57.061Z"
   },
   {
    "duration": 129,
    "start_time": "2022-12-11T10:49:03.201Z"
   },
   {
    "duration": 0,
    "start_time": "2022-12-11T10:49:03.331Z"
   },
   {
    "duration": 0,
    "start_time": "2022-12-11T10:49:03.333Z"
   },
   {
    "duration": 0,
    "start_time": "2022-12-11T10:49:03.335Z"
   },
   {
    "duration": 0,
    "start_time": "2022-12-11T10:49:03.336Z"
   },
   {
    "duration": 0,
    "start_time": "2022-12-11T10:49:03.351Z"
   },
   {
    "duration": 48952,
    "start_time": "2022-12-11T10:52:31.105Z"
   },
   {
    "duration": 0,
    "start_time": "2022-12-11T10:53:20.060Z"
   },
   {
    "duration": 50419,
    "start_time": "2022-12-11T10:53:31.748Z"
   },
   {
    "duration": 6716,
    "start_time": "2022-12-11T10:54:22.170Z"
   },
   {
    "duration": 72458,
    "start_time": "2022-12-11T11:03:51.299Z"
   },
   {
    "duration": 5984,
    "start_time": "2022-12-11T11:05:03.760Z"
   },
   {
    "duration": 5,
    "start_time": "2022-12-11T11:08:19.260Z"
   },
   {
    "duration": 1370,
    "start_time": "2022-12-11T11:08:19.268Z"
   },
   {
    "duration": 55,
    "start_time": "2022-12-11T11:08:20.640Z"
   },
   {
    "duration": 11,
    "start_time": "2022-12-11T11:08:20.697Z"
   },
   {
    "duration": 6,
    "start_time": "2022-12-11T11:08:20.710Z"
   },
   {
    "duration": 7,
    "start_time": "2022-12-11T11:08:20.718Z"
   },
   {
    "duration": 8,
    "start_time": "2022-12-11T11:08:20.727Z"
   },
   {
    "duration": 4,
    "start_time": "2022-12-11T11:08:20.736Z"
   },
   {
    "duration": 29,
    "start_time": "2022-12-11T11:08:20.741Z"
   },
   {
    "duration": 1255,
    "start_time": "2022-12-11T11:08:20.773Z"
   },
   {
    "duration": 10,
    "start_time": "2022-12-11T11:08:22.030Z"
   },
   {
    "duration": 12,
    "start_time": "2022-12-11T11:08:22.042Z"
   },
   {
    "duration": 39,
    "start_time": "2022-12-11T11:08:22.058Z"
   },
   {
    "duration": 12,
    "start_time": "2022-12-11T11:08:22.099Z"
   },
   {
    "duration": 16,
    "start_time": "2022-12-11T11:08:22.113Z"
   },
   {
    "duration": 285,
    "start_time": "2022-12-11T11:08:22.131Z"
   },
   {
    "duration": 607,
    "start_time": "2022-12-11T11:08:22.418Z"
   },
   {
    "duration": 605,
    "start_time": "2022-12-11T11:08:23.027Z"
   },
   {
    "duration": 1032,
    "start_time": "2022-12-11T11:08:23.634Z"
   },
   {
    "duration": 82083,
    "start_time": "2022-12-11T11:08:24.668Z"
   },
   {
    "duration": 6052,
    "start_time": "2022-12-11T11:09:46.753Z"
   },
   {
    "duration": 59049,
    "start_time": "2022-12-11T11:09:52.807Z"
   },
   {
    "duration": 8291,
    "start_time": "2022-12-11T11:10:51.858Z"
   },
   {
    "duration": 13861,
    "start_time": "2022-12-11T11:11:00.153Z"
   },
   {
    "duration": 19843,
    "start_time": "2022-12-11T11:11:14.018Z"
   },
   {
    "duration": 707,
    "start_time": "2022-12-11T11:11:33.865Z"
   },
   {
    "duration": 4,
    "start_time": "2022-12-11T11:14:07.770Z"
   },
   {
    "duration": 1320,
    "start_time": "2022-12-11T11:14:07.777Z"
   },
   {
    "duration": 43,
    "start_time": "2022-12-11T11:14:09.099Z"
   },
   {
    "duration": 13,
    "start_time": "2022-12-11T11:14:09.145Z"
   },
   {
    "duration": 7,
    "start_time": "2022-12-11T11:14:09.161Z"
   },
   {
    "duration": 9,
    "start_time": "2022-12-11T11:14:09.170Z"
   },
   {
    "duration": 11,
    "start_time": "2022-12-11T11:14:09.181Z"
   },
   {
    "duration": 17,
    "start_time": "2022-12-11T11:14:09.194Z"
   },
   {
    "duration": 14,
    "start_time": "2022-12-11T11:14:09.213Z"
   },
   {
    "duration": 1258,
    "start_time": "2022-12-11T11:14:09.230Z"
   },
   {
    "duration": 11,
    "start_time": "2022-12-11T11:14:10.490Z"
   },
   {
    "duration": 6,
    "start_time": "2022-12-11T11:14:10.502Z"
   },
   {
    "duration": 13,
    "start_time": "2022-12-11T11:14:10.510Z"
   },
   {
    "duration": 11,
    "start_time": "2022-12-11T11:14:10.524Z"
   },
   {
    "duration": 6,
    "start_time": "2022-12-11T11:14:10.537Z"
   },
   {
    "duration": 276,
    "start_time": "2022-12-11T11:14:10.545Z"
   },
   {
    "duration": 641,
    "start_time": "2022-12-11T11:14:10.823Z"
   },
   {
    "duration": 601,
    "start_time": "2022-12-11T11:14:11.466Z"
   },
   {
    "duration": 1045,
    "start_time": "2022-12-11T11:14:12.069Z"
   },
   {
    "duration": 79037,
    "start_time": "2022-12-11T11:14:13.116Z"
   },
   {
    "duration": 5946,
    "start_time": "2022-12-11T11:15:32.156Z"
   },
   {
    "duration": 38461,
    "start_time": "2022-12-11T11:15:38.104Z"
   },
   {
    "duration": 7152,
    "start_time": "2022-12-11T11:16:16.651Z"
   },
   {
    "duration": 4304,
    "start_time": "2022-12-11T11:16:23.805Z"
   },
   {
    "duration": 0,
    "start_time": "2022-12-11T11:16:28.112Z"
   },
   {
    "duration": 0,
    "start_time": "2022-12-11T11:16:28.113Z"
   },
   {
    "duration": 0,
    "start_time": "2022-12-11T11:16:28.115Z"
   },
   {
    "duration": 4,
    "start_time": "2022-12-11T11:17:12.489Z"
   },
   {
    "duration": 8,
    "start_time": "2022-12-11T11:17:41.718Z"
   },
   {
    "duration": 33,
    "start_time": "2022-12-11T11:18:25.974Z"
   },
   {
    "duration": 7145,
    "start_time": "2022-12-11T11:18:57.513Z"
   },
   {
    "duration": 10538,
    "start_time": "2022-12-11T11:19:29.223Z"
   },
   {
    "duration": 2988,
    "start_time": "2022-12-11T11:19:52.575Z"
   },
   {
    "duration": 24,
    "start_time": "2022-12-11T11:21:21.613Z"
   },
   {
    "duration": 5292,
    "start_time": "2022-12-11T11:21:43.684Z"
   },
   {
    "duration": 26749,
    "start_time": "2022-12-11T11:22:03.435Z"
   },
   {
    "duration": 4,
    "start_time": "2022-12-11T11:22:51.398Z"
   },
   {
    "duration": 1307,
    "start_time": "2022-12-11T11:22:51.404Z"
   },
   {
    "duration": 42,
    "start_time": "2022-12-11T11:22:52.713Z"
   },
   {
    "duration": 13,
    "start_time": "2022-12-11T11:22:52.757Z"
   },
   {
    "duration": 10,
    "start_time": "2022-12-11T11:22:52.772Z"
   },
   {
    "duration": 8,
    "start_time": "2022-12-11T11:22:52.784Z"
   },
   {
    "duration": 21,
    "start_time": "2022-12-11T11:22:52.793Z"
   },
   {
    "duration": 8,
    "start_time": "2022-12-11T11:22:52.816Z"
   },
   {
    "duration": 22,
    "start_time": "2022-12-11T11:22:52.826Z"
   },
   {
    "duration": 1212,
    "start_time": "2022-12-11T11:22:52.852Z"
   },
   {
    "duration": 11,
    "start_time": "2022-12-11T11:22:54.066Z"
   },
   {
    "duration": 6,
    "start_time": "2022-12-11T11:22:54.079Z"
   },
   {
    "duration": 9,
    "start_time": "2022-12-11T11:22:54.087Z"
   },
   {
    "duration": 10,
    "start_time": "2022-12-11T11:22:54.098Z"
   },
   {
    "duration": 6,
    "start_time": "2022-12-11T11:22:54.111Z"
   },
   {
    "duration": 308,
    "start_time": "2022-12-11T11:22:54.119Z"
   },
   {
    "duration": 630,
    "start_time": "2022-12-11T11:22:54.428Z"
   },
   {
    "duration": 478,
    "start_time": "2022-12-11T11:22:55.061Z"
   },
   {
    "duration": 0,
    "start_time": "2022-12-11T11:22:55.541Z"
   },
   {
    "duration": 0,
    "start_time": "2022-12-11T11:22:55.542Z"
   },
   {
    "duration": 0,
    "start_time": "2022-12-11T11:22:55.550Z"
   },
   {
    "duration": 0,
    "start_time": "2022-12-11T11:22:55.552Z"
   },
   {
    "duration": 0,
    "start_time": "2022-12-11T11:22:55.553Z"
   },
   {
    "duration": 0,
    "start_time": "2022-12-11T11:22:55.554Z"
   },
   {
    "duration": 0,
    "start_time": "2022-12-11T11:22:55.555Z"
   },
   {
    "duration": 0,
    "start_time": "2022-12-11T11:22:55.556Z"
   },
   {
    "duration": 0,
    "start_time": "2022-12-11T11:22:55.558Z"
   },
   {
    "duration": 5,
    "start_time": "2022-12-11T11:23:06.778Z"
   },
   {
    "duration": 1305,
    "start_time": "2022-12-11T11:23:06.785Z"
   },
   {
    "duration": 41,
    "start_time": "2022-12-11T11:23:08.092Z"
   },
   {
    "duration": 17,
    "start_time": "2022-12-11T11:23:08.135Z"
   },
   {
    "duration": 8,
    "start_time": "2022-12-11T11:23:08.154Z"
   },
   {
    "duration": 22,
    "start_time": "2022-12-11T11:23:08.168Z"
   },
   {
    "duration": 15,
    "start_time": "2022-12-11T11:23:08.193Z"
   },
   {
    "duration": 9,
    "start_time": "2022-12-11T11:23:08.211Z"
   },
   {
    "duration": 11,
    "start_time": "2022-12-11T11:23:08.222Z"
   },
   {
    "duration": 1217,
    "start_time": "2022-12-11T11:23:08.235Z"
   },
   {
    "duration": 14,
    "start_time": "2022-12-11T11:23:09.454Z"
   },
   {
    "duration": 4,
    "start_time": "2022-12-11T11:23:09.471Z"
   },
   {
    "duration": 10,
    "start_time": "2022-12-11T11:23:09.477Z"
   },
   {
    "duration": 10,
    "start_time": "2022-12-11T11:23:09.490Z"
   },
   {
    "duration": 9,
    "start_time": "2022-12-11T11:23:09.502Z"
   },
   {
    "duration": 349,
    "start_time": "2022-12-11T11:23:09.513Z"
   },
   {
    "duration": 649,
    "start_time": "2022-12-11T11:23:09.864Z"
   },
   {
    "duration": 626,
    "start_time": "2022-12-11T11:23:10.515Z"
   },
   {
    "duration": 1014,
    "start_time": "2022-12-11T11:23:11.150Z"
   },
   {
    "duration": 77307,
    "start_time": "2022-12-11T11:23:12.166Z"
   },
   {
    "duration": 5751,
    "start_time": "2022-12-11T11:24:29.552Z"
   },
   {
    "duration": 72566,
    "start_time": "2022-12-11T11:24:35.305Z"
   },
   {
    "duration": 7363,
    "start_time": "2022-12-11T11:25:47.950Z"
   },
   {
    "duration": 15228,
    "start_time": "2022-12-11T11:35:44.868Z"
   },
   {
    "duration": 22397,
    "start_time": "2022-12-11T11:43:08.316Z"
   },
   {
    "duration": 4604,
    "start_time": "2022-12-11T11:56:06.882Z"
   },
   {
    "duration": 4,
    "start_time": "2022-12-12T15:27:55.767Z"
   },
   {
    "duration": 54,
    "start_time": "2022-12-12T15:27:55.773Z"
   },
   {
    "duration": 0,
    "start_time": "2022-12-12T15:27:55.829Z"
   },
   {
    "duration": 0,
    "start_time": "2022-12-12T15:27:55.830Z"
   },
   {
    "duration": 0,
    "start_time": "2022-12-12T15:27:55.832Z"
   },
   {
    "duration": 0,
    "start_time": "2022-12-12T15:27:55.833Z"
   },
   {
    "duration": 0,
    "start_time": "2022-12-12T15:27:55.834Z"
   },
   {
    "duration": 0,
    "start_time": "2022-12-12T15:27:55.836Z"
   },
   {
    "duration": 0,
    "start_time": "2022-12-12T15:27:55.861Z"
   },
   {
    "duration": 0,
    "start_time": "2022-12-12T15:27:55.869Z"
   },
   {
    "duration": 0,
    "start_time": "2022-12-12T15:27:55.870Z"
   },
   {
    "duration": 5,
    "start_time": "2022-12-12T15:27:55.873Z"
   },
   {
    "duration": 6,
    "start_time": "2022-12-12T15:27:55.880Z"
   },
   {
    "duration": 7,
    "start_time": "2022-12-12T15:27:55.888Z"
   },
   {
    "duration": 9,
    "start_time": "2022-12-12T15:27:55.897Z"
   },
   {
    "duration": 0,
    "start_time": "2022-12-12T15:27:55.907Z"
   },
   {
    "duration": 39,
    "start_time": "2022-12-12T15:27:55.915Z"
   },
   {
    "duration": 0,
    "start_time": "2022-12-12T15:27:55.956Z"
   },
   {
    "duration": 0,
    "start_time": "2022-12-12T15:27:55.957Z"
   },
   {
    "duration": 0,
    "start_time": "2022-12-12T15:27:55.958Z"
   },
   {
    "duration": 0,
    "start_time": "2022-12-12T15:27:55.959Z"
   },
   {
    "duration": 9,
    "start_time": "2022-12-12T15:27:55.965Z"
   },
   {
    "duration": 0,
    "start_time": "2022-12-12T15:27:55.976Z"
   },
   {
    "duration": 36885,
    "start_time": "2022-12-12T15:29:22.299Z"
   },
   {
    "duration": 3,
    "start_time": "2022-12-12T15:31:05.847Z"
   },
   {
    "duration": 98,
    "start_time": "2022-12-12T15:32:22.267Z"
   },
   {
    "duration": 1431,
    "start_time": "2022-12-12T15:32:32.047Z"
   },
   {
    "duration": 147,
    "start_time": "2022-12-12T15:32:40.467Z"
   },
   {
    "duration": 11,
    "start_time": "2022-12-12T15:32:40.616Z"
   },
   {
    "duration": 5,
    "start_time": "2022-12-12T15:32:40.629Z"
   },
   {
    "duration": 30,
    "start_time": "2022-12-12T15:32:40.636Z"
   },
   {
    "duration": 17,
    "start_time": "2022-12-12T15:32:40.667Z"
   },
   {
    "duration": 15,
    "start_time": "2022-12-12T15:32:40.685Z"
   },
   {
    "duration": 22,
    "start_time": "2022-12-12T15:32:40.702Z"
   },
   {
    "duration": 1221,
    "start_time": "2022-12-12T15:32:40.725Z"
   },
   {
    "duration": 334,
    "start_time": "2022-12-12T15:32:41.948Z"
   },
   {
    "duration": 4,
    "start_time": "2022-12-12T15:32:42.284Z"
   },
   {
    "duration": 7,
    "start_time": "2022-12-12T15:32:42.290Z"
   },
   {
    "duration": 14,
    "start_time": "2022-12-12T15:32:42.298Z"
   },
   {
    "duration": 207,
    "start_time": "2022-12-12T15:32:42.313Z"
   },
   {
    "duration": 443,
    "start_time": "2022-12-12T15:32:42.522Z"
   },
   {
    "duration": 430,
    "start_time": "2022-12-12T15:32:42.968Z"
   },
   {
    "duration": 8887,
    "start_time": "2022-12-12T15:32:43.400Z"
   },
   {
    "duration": 12953,
    "start_time": "2022-12-12T15:32:52.288Z"
   },
   {
    "duration": 2695488,
    "start_time": "2022-12-12T15:33:05.243Z"
   },
   {
    "duration": 5216,
    "start_time": "2022-12-12T16:18:00.732Z"
   },
   {
    "duration": 166,
    "start_time": "2022-12-12T16:18:05.956Z"
   },
   {
    "duration": 168,
    "start_time": "2022-12-12T16:18:06.124Z"
   },
   {
    "duration": 80,
    "start_time": "2022-12-12T18:23:54.936Z"
   },
   {
    "duration": 7927,
    "start_time": "2022-12-14T08:08:38.368Z"
   },
   {
    "duration": 6653,
    "start_time": "2022-12-14T08:08:53.577Z"
   },
   {
    "duration": 6729,
    "start_time": "2022-12-14T08:09:09.049Z"
   },
   {
    "duration": 7118,
    "start_time": "2022-12-14T08:09:32.604Z"
   },
   {
    "duration": 6807,
    "start_time": "2022-12-14T08:10:04.800Z"
   },
   {
    "duration": 7301,
    "start_time": "2022-12-14T08:10:32.495Z"
   },
   {
    "duration": 6382,
    "start_time": "2022-12-14T08:10:45.423Z"
   },
   {
    "duration": 10,
    "start_time": "2022-12-14T08:10:51.808Z"
   },
   {
    "duration": 3,
    "start_time": "2022-12-14T08:14:15.229Z"
   },
   {
    "duration": 115036,
    "start_time": "2022-12-14T08:14:15.234Z"
   },
   {
    "duration": 3,
    "start_time": "2022-12-14T08:21:22.323Z"
   },
   {
    "duration": 6287,
    "start_time": "2022-12-14T08:21:22.328Z"
   },
   {
    "duration": 4,
    "start_time": "2022-12-14T08:22:06.657Z"
   },
   {
    "duration": 84,
    "start_time": "2022-12-14T08:22:06.662Z"
   },
   {
    "duration": 6,
    "start_time": "2022-12-14T08:22:21.855Z"
   },
   {
    "duration": 10,
    "start_time": "2022-12-14T08:22:38.184Z"
   },
   {
    "duration": 6888,
    "start_time": "2022-12-14T08:22:50.518Z"
   },
   {
    "duration": 6628,
    "start_time": "2022-12-14T08:23:00.400Z"
   },
   {
    "duration": 65,
    "start_time": "2022-12-14T08:27:33.272Z"
   },
   {
    "duration": 4,
    "start_time": "2022-12-14T08:27:39.209Z"
   },
   {
    "duration": 6946,
    "start_time": "2022-12-14T08:27:39.215Z"
   },
   {
    "duration": 1541,
    "start_time": "2022-12-14T08:27:46.163Z"
   },
   {
    "duration": 112,
    "start_time": "2022-12-14T08:27:47.706Z"
   },
   {
    "duration": 12,
    "start_time": "2022-12-14T08:27:47.820Z"
   },
   {
    "duration": 9,
    "start_time": "2022-12-14T08:27:47.834Z"
   },
   {
    "duration": 11,
    "start_time": "2022-12-14T08:27:47.845Z"
   },
   {
    "duration": 7,
    "start_time": "2022-12-14T08:29:04.976Z"
   },
   {
    "duration": 6228,
    "start_time": "2022-12-14T08:29:04.989Z"
   },
   {
    "duration": 1201,
    "start_time": "2022-12-14T08:29:11.219Z"
   },
   {
    "duration": 37,
    "start_time": "2022-12-14T08:29:12.422Z"
   },
   {
    "duration": 11,
    "start_time": "2022-12-14T08:29:12.461Z"
   },
   {
    "duration": 23,
    "start_time": "2022-12-14T08:29:12.473Z"
   },
   {
    "duration": 9,
    "start_time": "2022-12-14T08:29:12.498Z"
   }
  ],
  "kernelspec": {
   "display_name": "Python 3 (ipykernel)",
   "language": "python",
   "name": "python3"
  },
  "language_info": {
   "codemirror_mode": {
    "name": "ipython",
    "version": 3
   },
   "file_extension": ".py",
   "mimetype": "text/x-python",
   "name": "python",
   "nbconvert_exporter": "python",
   "pygments_lexer": "ipython3",
   "version": "3.10.4"
  },
  "toc": {
   "base_numbering": 1,
   "nav_menu": {},
   "number_sections": true,
   "sideBar": true,
   "skip_h1_title": true,
   "title_cell": "Table of Contents",
   "title_sidebar": "Contents",
   "toc_cell": false,
   "toc_position": {},
   "toc_section_display": true,
   "toc_window_display": false
  }
 },
 "nbformat": 4,
 "nbformat_minor": 2
}
